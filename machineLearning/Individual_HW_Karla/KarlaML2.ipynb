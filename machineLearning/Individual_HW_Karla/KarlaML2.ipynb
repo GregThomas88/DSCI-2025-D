{
 "cells": [
  {
   "cell_type": "markdown",
   "metadata": {},
   "source": [
    "Karla Jacobo  \n",
    "DSCI 8950  \n",
    "ML Applications to Project\n",
    "\n",
    "To start off, I am going to import the datasets that were a result of the individual EDA assignment from earlier in the semester. I will be doing some additional transforming of the data to make it more suitable for the Machine Learning models in this assignment. \n",
    "\n",
    "As we can see below, I am bringing data together from the Airport and Routing tables. This will give us a better idea of the points where the routes are going to and coming from. In order to keep the scope within reason, the data for this assignment is limited to the United States. Limiting the data to within the United States was applied to three tables: routes, airports, and planes."
   ]
  },
  {
   "cell_type": "code",
   "execution_count": null,
   "metadata": {},
   "outputs": [],
   "source": [
    "from itertools import count\n",
    "import pandas as pd\n",
    "import plotly.graph_objects as go\n",
    "from sklearn.ensemble import IsolationForest\n",
    "from sklearn.model_selection import train_test_split\n",
    "from sklearn.tree import DecisionTreeClassifier\n",
    "from sklearn.tree import DecisionTreeRegressor\n",
    "from sklearn import metrics\n",
    "from scipy.optimize import linprog\n",
    "import numpy as np\n",
    "\n",
    "airline = pd.read_csv('../../data/openFlightsRaw/airline.csv')\n",
    "airports = pd.read_csv('../../data/openFlightsRaw/airports.csv')\n",
    "countries = pd.read_csv('../../data/openFlightsRaw/countries.csv')\n",
    "planes = pd.read_csv('../../data/openFlightsRaw/planes.csv')\n",
    "routes = pd.read_csv('../../data/openFlightsRaw/routes.csv')\n",
    "cleanRoutes = pd.read_csv('../../data/usRoutesClean.csv')\n",
    "\n",
    "usAirports = airports.where(airports[\"CTRY\"] == \"United States\")\n",
    "usAirports = usAirports.drop_duplicates(subset=[\"IATA\"])\n",
    "\n",
    "usRoutes = routes.where(routes[\"SRC_AIRPT\"].isin(usAirports[\"IATA\"]) & routes[\"DESTN_AIRPT\"].isin(usAirports[\"IATA\"]))\n",
    "\n",
    "usRoutes[\"SRC_NAME\"] = (pd.merge(usRoutes, usAirports, left_on=\"SRC_AIRPT\", right_on=\"IATA\"))[\"NAME\"]\n",
    "usRoutes[\"SRC_LAT\"] = (pd.merge(usRoutes, usAirports, left_on=\"SRC_AIRPT\", right_on=\"IATA\"))[\"LAT\"]\n",
    "usRoutes[\"SRC_LONG\"] = (pd.merge(usRoutes, usAirports, left_on=\"SRC_AIRPT\", right_on=\"IATA\"))[\"LONG\"]\n",
    "usRoutes[\"DESTN_NAME\"] = (pd.merge(usRoutes, usAirports, left_on=\"DESTN_AIRPT\", right_on=\"IATA\"))[\"NAME\"]\n",
    "usRoutes[\"DESTN_LAT\"] = (pd.merge(usRoutes, usAirports, left_on=\"DESTN_AIRPT\", right_on=\"IATA\"))[\"LAT\"]\n",
    "usRoutes[\"DESTN_LONG\"] = (pd.merge(usRoutes, usAirports, left_on=\"DESTN_AIRPT\", right_on=\"IATA\"))[\"LONG\"]\n",
    "usRoutes[\"EQPT\"] = usRoutes[\"EQPT\"].str.split(\" \")\n",
    "usRoutes[\"EQPT_COUNT\"] =  usRoutes[\"EQPT\"].str.len()\n",
    "\n",
    "usRoutes = usRoutes.dropna()\n",
    "usAirports = usAirports.dropna()\n",
    "usRoutes.to_csv(\"test\")\n",
    "\n",
    "usPlanes = planes.where(planes[\"IATA\"].isin(usAirports[\"IATA\"]) & (planes[\"IATA\"] != '\\\\N'))\n",
    "usPlanes = usPlanes.dropna()"
   ]
  },
  {
   "cell_type": "markdown",
   "metadata": {},
   "source": [
    "#### **Machine Learning Model #1: Decision Tree Classification and Regression**  \n",
    "\n",
    "For the first model, I will be using a Decision tree model classifier. This model will take in the latitude and longitude data for the routes as our dependent variables. I will use the number vehicle possibilities for our independent variable. I chose to use this variable because if a route is able to use more than one type of vehicle, that makes it more flexible. This would make it easier to find an alternative for it if one vehicle is not available. The source and destination latitude and longitudes were factored in because I wanted to see if there is a correlation between the starting and end points and the vehicles available to them.\n",
    "\n",
    "Because the data was already cleaned and organized into corresponding tables, we can move right into the train_test_split() for the decision tree. For the testing size of the data, I will start with a size of 20%. The model itself is fairly simple to set up. I will start without any parameters in the DecisionTreeClassifier();"
   ]
  },
  {
   "cell_type": "code",
   "execution_count": 23,
   "metadata": {},
   "outputs": [
    {
     "name": "stdout",
     "output_type": "stream",
     "text": [
      "Accuracy score (no parameters): 0.5978378378378378\n"
     ]
    }
   ],
   "source": [
    "columns = [\"SRC_LAT\",\"SRC_LAT\", \"DESTN_LAT\", \"DESTN_LONG\"]\n",
    "dependentVariables = usRoutes[columns]\n",
    "independentVariables = usRoutes[\"EQPT_COUNT\"]\n",
    "\n",
    "X_train, X_test, y_train, y_test = train_test_split(dependentVariables, independentVariables, test_size=0.2)\n",
    "classifier = DecisionTreeClassifier()\n",
    "classifier = classifier.fit(X_train,y_train)\n",
    "y_pred = classifier.predict(X_test)\n",
    "\n",
    "print(\"Accuracy score (no parameters):\",metrics.accuracy_score(y_test, y_pred))"
   ]
  },
  {
   "cell_type": "markdown",
   "metadata": {},
   "source": [
    "Without tuning any parameters besides the size of the test data, the model resulted in an accuracy score of about 0.6 (1 is a perfect score). To see if a higher score can be acheived, I will tune the following parameters: criterion, splitter, and min_samples_leaf. "
   ]
  },
  {
   "cell_type": "code",
   "execution_count": 24,
   "metadata": {},
   "outputs": [
    {
     "name": "stdout",
     "output_type": "stream",
     "text": [
      "Accuracy score (criterion: gini): 0.5935135135135136\n",
      "Accuracy score (criterion: entropy): 0.5913513513513513\n",
      "Accuracy score (criterion: log_loss): 0.5924324324324325\n",
      "Accuracy score (criterion: gini, splitter: random): 0.6086486486486486\n",
      "Accuracy score (criterion: gini, min_samples_leaf: 5): <function root_mean_squared_error at 0x000001FFAA40E7A0>\n"
     ]
    }
   ],
   "source": [
    "classifier = DecisionTreeClassifier(criterion=\"gini\")\n",
    "classifier = classifier.fit(X_train,y_train)\n",
    "y_pred = classifier.predict(X_test)\n",
    "\n",
    "print(\"Accuracy score (criterion: gini):\",metrics.accuracy_score(y_test, y_pred))\n",
    "\n",
    "classifier = DecisionTreeClassifier(criterion=\"entropy\")\n",
    "classifier = classifier.fit(X_train,y_train)\n",
    "y_pred = classifier.predict(X_test)\n",
    "\n",
    "print(\"Accuracy score (criterion: entropy):\",metrics.accuracy_score(y_test, y_pred))\n",
    "\n",
    "classifier = DecisionTreeClassifier(criterion=\"log_loss\")\n",
    "classifier = classifier.fit(X_train,y_train)\n",
    "y_pred = classifier.predict(X_test)\n",
    "\n",
    "print(\"Accuracy score (criterion: log_loss):\",metrics.accuracy_score(y_test, y_pred))\n",
    "\n",
    "classifier = DecisionTreeClassifier(splitter=\"random\")\n",
    "classifier = classifier.fit(X_train,y_train)\n",
    "y_pred = classifier.predict(X_test)\n",
    "\n",
    "print(\"Accuracy score (criterion: gini, splitter: random):\",metrics.accuracy_score(y_test, y_pred))\n",
    "\n",
    "classifier = DecisionTreeClassifier(min_samples_leaf = 5)\n",
    "classifier = classifier.fit(X_train,y_train)\n",
    "y_pred = classifier.predict(X_test)\n",
    "\n",
    "print(\"Accuracy score (criterion: gini, min_samples_leaf: 5):\",metrics.root_mean_squared_error)"
   ]
  },
  {
   "cell_type": "markdown",
   "metadata": {},
   "source": [
    "Through the tuning of the parameters, the one that made a significant change was the minimum sample leaf number. The default to that variable is 2 and it indicated the \"minimum number of samples required to split an internal node\" (scikit-learn). The other two variables that were tuned did not make a significant change. Because of that, I stuck with the default parameters for criterion and splitter, which are \"gini\" and \"best\".  \n",
    "\n",
    "I will be applying a Decision Tree regression to the same dataset. By looking at the accuracy score for both, we can potentially see which model is better for the problem at hand."
   ]
  },
  {
   "cell_type": "code",
   "execution_count": 25,
   "metadata": {},
   "outputs": [
    {
     "name": "stdout",
     "output_type": "stream",
     "text": [
      "Accuracy score: 0.6972972972972973\n"
     ]
    }
   ],
   "source": [
    "X_train, X_test, y_train, y_test = train_test_split(dependentVariables, independentVariables, test_size=0.2)\n",
    "regression = DecisionTreeRegressor()\n",
    "regression = regression.fit(X_train, y_train)\n",
    "y_pred = classifier.predict(X_test)\n",
    "print(\"Accuracy score:\",metrics.accuracy_score(y_test, y_pred))"
   ]
  },
  {
   "cell_type": "markdown",
   "metadata": {},
   "source": [
    "Without supplying any parameters, the model is giving an accuracy score of about 0.84 (1 is a perfect score). I will tune the same parameters from the classification model to see how that will affect the accuracy score."
   ]
  },
  {
   "cell_type": "code",
   "execution_count": 26,
   "metadata": {},
   "outputs": [
    {
     "name": "stdout",
     "output_type": "stream",
     "text": [
      "Accuracy score (criterion: friedman_mse):\n",
      "Accuracy score (criterion: absolute_error):\n",
      "Accuracy score (criterion: poisson):\n",
      "Accuracy score (criterion: poisson):\n"
     ]
    },
    {
     "ename": "ValueError",
     "evalue": "Classification metrics can't handle a mix of multiclass and continuous targets",
     "output_type": "error",
     "traceback": [
      "\u001b[1;31m---------------------------------------------------------------------------\u001b[0m",
      "\u001b[1;31mValueError\u001b[0m                                Traceback (most recent call last)",
      "Cell \u001b[1;32mIn[26], line 29\u001b[0m\n\u001b[0;32m     27\u001b[0m regression \u001b[38;5;241m=\u001b[39m regression\u001b[38;5;241m.\u001b[39mfit(X_train, y_train)\n\u001b[0;32m     28\u001b[0m y_pred \u001b[38;5;241m=\u001b[39m regression\u001b[38;5;241m.\u001b[39mpredict(X_test)\n\u001b[1;32m---> 29\u001b[0m \u001b[38;5;28mprint\u001b[39m(\u001b[38;5;124m\"\u001b[39m\u001b[38;5;124mAccuracy score (splitter: random):\u001b[39m\u001b[38;5;124m\"\u001b[39m, \u001b[43mmetrics\u001b[49m\u001b[38;5;241;43m.\u001b[39;49m\u001b[43maccuracy_score\u001b[49m\u001b[43m(\u001b[49m\u001b[43my_test\u001b[49m\u001b[43m,\u001b[49m\u001b[43m \u001b[49m\u001b[43my_pred\u001b[49m\u001b[43m)\u001b[49m)\n\u001b[0;32m     31\u001b[0m X_train, X_test, y_train, y_test \u001b[38;5;241m=\u001b[39m train_test_split(dependentVariables, independentVariables, test_size\u001b[38;5;241m=\u001b[39m\u001b[38;5;241m0.2\u001b[39m)\n\u001b[0;32m     32\u001b[0m regression \u001b[38;5;241m=\u001b[39m DecisionTreeRegressor(splitter\u001b[38;5;241m=\u001b[39m\u001b[38;5;124m\"\u001b[39m\u001b[38;5;124mrandom\u001b[39m\u001b[38;5;124m\"\u001b[39m)\n",
      "File \u001b[1;32mc:\\Users\\kayj4\\OneDrive\\Documents\\Grad School\\DSCI-2025-D\\.venv\\Lib\\site-packages\\sklearn\\utils\\_param_validation.py:216\u001b[0m, in \u001b[0;36mvalidate_params.<locals>.decorator.<locals>.wrapper\u001b[1;34m(*args, **kwargs)\u001b[0m\n\u001b[0;32m    210\u001b[0m \u001b[38;5;28;01mtry\u001b[39;00m:\n\u001b[0;32m    211\u001b[0m     \u001b[38;5;28;01mwith\u001b[39;00m config_context(\n\u001b[0;32m    212\u001b[0m         skip_parameter_validation\u001b[38;5;241m=\u001b[39m(\n\u001b[0;32m    213\u001b[0m             prefer_skip_nested_validation \u001b[38;5;129;01mor\u001b[39;00m global_skip_validation\n\u001b[0;32m    214\u001b[0m         )\n\u001b[0;32m    215\u001b[0m     ):\n\u001b[1;32m--> 216\u001b[0m         \u001b[38;5;28;01mreturn\u001b[39;00m \u001b[43mfunc\u001b[49m\u001b[43m(\u001b[49m\u001b[38;5;241;43m*\u001b[39;49m\u001b[43margs\u001b[49m\u001b[43m,\u001b[49m\u001b[43m \u001b[49m\u001b[38;5;241;43m*\u001b[39;49m\u001b[38;5;241;43m*\u001b[39;49m\u001b[43mkwargs\u001b[49m\u001b[43m)\u001b[49m\n\u001b[0;32m    217\u001b[0m \u001b[38;5;28;01mexcept\u001b[39;00m InvalidParameterError \u001b[38;5;28;01mas\u001b[39;00m e:\n\u001b[0;32m    218\u001b[0m     \u001b[38;5;66;03m# When the function is just a wrapper around an estimator, we allow\u001b[39;00m\n\u001b[0;32m    219\u001b[0m     \u001b[38;5;66;03m# the function to delegate validation to the estimator, but we replace\u001b[39;00m\n\u001b[0;32m    220\u001b[0m     \u001b[38;5;66;03m# the name of the estimator by the name of the function in the error\u001b[39;00m\n\u001b[0;32m    221\u001b[0m     \u001b[38;5;66;03m# message to avoid confusion.\u001b[39;00m\n\u001b[0;32m    222\u001b[0m     msg \u001b[38;5;241m=\u001b[39m re\u001b[38;5;241m.\u001b[39msub(\n\u001b[0;32m    223\u001b[0m         \u001b[38;5;124mr\u001b[39m\u001b[38;5;124m\"\u001b[39m\u001b[38;5;124mparameter of \u001b[39m\u001b[38;5;124m\\\u001b[39m\u001b[38;5;124mw+ must be\u001b[39m\u001b[38;5;124m\"\u001b[39m,\n\u001b[0;32m    224\u001b[0m         \u001b[38;5;124mf\u001b[39m\u001b[38;5;124m\"\u001b[39m\u001b[38;5;124mparameter of \u001b[39m\u001b[38;5;132;01m{\u001b[39;00mfunc\u001b[38;5;241m.\u001b[39m\u001b[38;5;18m__qualname__\u001b[39m\u001b[38;5;132;01m}\u001b[39;00m\u001b[38;5;124m must be\u001b[39m\u001b[38;5;124m\"\u001b[39m,\n\u001b[0;32m    225\u001b[0m         \u001b[38;5;28mstr\u001b[39m(e),\n\u001b[0;32m    226\u001b[0m     )\n",
      "File \u001b[1;32mc:\\Users\\kayj4\\OneDrive\\Documents\\Grad School\\DSCI-2025-D\\.venv\\Lib\\site-packages\\sklearn\\metrics\\_classification.py:227\u001b[0m, in \u001b[0;36maccuracy_score\u001b[1;34m(y_true, y_pred, normalize, sample_weight)\u001b[0m\n\u001b[0;32m    225\u001b[0m \u001b[38;5;66;03m# Compute accuracy for each possible representation\u001b[39;00m\n\u001b[0;32m    226\u001b[0m y_true, y_pred \u001b[38;5;241m=\u001b[39m attach_unique(y_true, y_pred)\n\u001b[1;32m--> 227\u001b[0m y_type, y_true, y_pred \u001b[38;5;241m=\u001b[39m \u001b[43m_check_targets\u001b[49m\u001b[43m(\u001b[49m\u001b[43my_true\u001b[49m\u001b[43m,\u001b[49m\u001b[43m \u001b[49m\u001b[43my_pred\u001b[49m\u001b[43m)\u001b[49m\n\u001b[0;32m    228\u001b[0m check_consistent_length(y_true, y_pred, sample_weight)\n\u001b[0;32m    230\u001b[0m \u001b[38;5;28;01mif\u001b[39;00m y_type\u001b[38;5;241m.\u001b[39mstartswith(\u001b[38;5;124m\"\u001b[39m\u001b[38;5;124mmultilabel\u001b[39m\u001b[38;5;124m\"\u001b[39m):\n",
      "File \u001b[1;32mc:\\Users\\kayj4\\OneDrive\\Documents\\Grad School\\DSCI-2025-D\\.venv\\Lib\\site-packages\\sklearn\\metrics\\_classification.py:107\u001b[0m, in \u001b[0;36m_check_targets\u001b[1;34m(y_true, y_pred)\u001b[0m\n\u001b[0;32m    104\u001b[0m     y_type \u001b[38;5;241m=\u001b[39m {\u001b[38;5;124m\"\u001b[39m\u001b[38;5;124mmulticlass\u001b[39m\u001b[38;5;124m\"\u001b[39m}\n\u001b[0;32m    106\u001b[0m \u001b[38;5;28;01mif\u001b[39;00m \u001b[38;5;28mlen\u001b[39m(y_type) \u001b[38;5;241m>\u001b[39m \u001b[38;5;241m1\u001b[39m:\n\u001b[1;32m--> 107\u001b[0m     \u001b[38;5;28;01mraise\u001b[39;00m \u001b[38;5;167;01mValueError\u001b[39;00m(\n\u001b[0;32m    108\u001b[0m         \u001b[38;5;124m\"\u001b[39m\u001b[38;5;124mClassification metrics can\u001b[39m\u001b[38;5;124m'\u001b[39m\u001b[38;5;124mt handle a mix of \u001b[39m\u001b[38;5;132;01m{0}\u001b[39;00m\u001b[38;5;124m and \u001b[39m\u001b[38;5;132;01m{1}\u001b[39;00m\u001b[38;5;124m targets\u001b[39m\u001b[38;5;124m\"\u001b[39m\u001b[38;5;241m.\u001b[39mformat(\n\u001b[0;32m    109\u001b[0m             type_true, type_pred\n\u001b[0;32m    110\u001b[0m         )\n\u001b[0;32m    111\u001b[0m     )\n\u001b[0;32m    113\u001b[0m \u001b[38;5;66;03m# We can't have more than one value on y_type => The set is no more needed\u001b[39;00m\n\u001b[0;32m    114\u001b[0m y_type \u001b[38;5;241m=\u001b[39m y_type\u001b[38;5;241m.\u001b[39mpop()\n",
      "\u001b[1;31mValueError\u001b[0m: Classification metrics can't handle a mix of multiclass and continuous targets"
     ]
    }
   ],
   "source": [
    "X_train, X_test, y_train, y_test = train_test_split(dependentVariables, independentVariables, test_size=0.2)\n",
    "regression = DecisionTreeRegressor(criterion=\"friedman_mse\")\n",
    "regression = regression.fit(X_train, y_train)\n",
    "y_pred = regression.predict(X_test)\n",
    "print(\"Accuracy score (criterion: friedman_mse):\",)\n",
    "\n",
    "X_train, X_test, y_train, y_test = train_test_split(dependentVariables, independentVariables, test_size=0.2)\n",
    "regression = DecisionTreeRegressor(criterion=\"absolute_error\")\n",
    "regression = regression.fit(X_train, y_train)\n",
    "y_pred = regression.predict(X_test)\n",
    "print(\"Accuracy score (criterion: absolute_error):\", )\n",
    "\n",
    "X_train, X_test, y_train, y_test = train_test_split(dependentVariables, independentVariables, test_size=0.2)\n",
    "regression = DecisionTreeRegressor(criterion=\"poisson\")\n",
    "regression = regression.fit(X_train, y_train)\n",
    "y_pred = regression.predict(X_test)\n",
    "print(\"Accuracy score (criterion: poisson):\", )\n",
    "\n",
    "X_train, X_test, y_train, y_test = train_test_split(dependentVariables, independentVariables, test_size=0.2)\n",
    "regression = DecisionTreeRegressor(criterion=\"poisson\")\n",
    "regression = regression.fit(X_train, y_train)\n",
    "y_pred = regression.predict(X_test)\n",
    "print(\"Accuracy score (criterion: poisson):\", )\n",
    "\n",
    "X_train, X_test, y_train, y_test = train_test_split(dependentVariables, independentVariables, test_size=0.2)\n",
    "regression = DecisionTreeRegressor(splitter=\"random\")\n",
    "regression = regression.fit(X_train, y_train)\n",
    "y_pred = regression.predict(X_test)\n",
    "print(\"Accuracy score (splitter: random):\", metrics.accuracy_score(y_test, y_pred))\n",
    "\n",
    "X_train, X_test, y_train, y_test = train_test_split(dependentVariables, independentVariables, test_size=0.2)\n",
    "regression = DecisionTreeRegressor(splitter=\"random\")\n",
    "regression = regression.fit(X_train, y_train)\n",
    "y_pred = regression.predict(X_test)\n",
    "print(\"Accuracy score (min_samples_leaf: 5):\", metrics.mean_squared_error(y_test, y_pred))"
   ]
  },
  {
   "cell_type": "markdown",
   "metadata": {},
   "source": [
    "After tuning the same parameters as the classification decision tree model, this model still seems to have a higher accuracy score. The parameter that has the largest impact on the scores was the criterion parameter. In both model types, the criterion parameter is a, \"function to measure the quality of a split\" (scikit-learn). The splitter and min_samples_leaf parameters did not change the results significantly.\n",
    "\n",
    "The model being used should be based more on the problem at hand rather than the accuracy score given. Because of that, I would most likely choose to use the Regression decision tree model to show that direct relationship between variables."
   ]
  },
  {
   "cell_type": "markdown",
   "metadata": {},
   "source": [
    "#### **Machine Learning Model #3: Isolation Forest - Finding Anomalies in Altitude**\n",
    "\n",
    "Now that the data has been further refined to routes and airports in the United States, we can apply some anomaly detection to some of the locations. More specifically, I intend to use it on the altitude for airports in the dataset that we have. This will help find outliers in airports that are at a particularly high or low altitude. To so so, I plan to use the Isolation Forest model.\n",
    "\n",
    "I am going to start of the Isolation forst model without any hyper parameters. Below we can see that in doing that, the model identified 1493 outliers out of the 7698 rows it was given."
   ]
  },
  {
   "cell_type": "code",
   "execution_count": null,
   "metadata": {},
   "outputs": [
    {
     "name": "stdout",
     "output_type": "stream",
     "text": [
      "Number of outliers detected: [1730] out of 7698 entries \n",
      "\n",
      "    ALT  decisionFunction  predictFunction  scoreSamples\n",
      "0  5282         -0.129398               -1     -0.629398\n",
      "1    20          0.097575                1     -0.402425\n",
      "2  5388         -0.126663               -1     -0.626663\n",
      "3   239          0.060153                1     -0.439847\n",
      "4   146          0.063746                1     -0.436254\n"
     ]
    }
   ],
   "source": [
    "altitudeData = airports[[\"ALT\"]]\n",
    "isoForestAnalysis = altitudeData.copy()\n",
    "\n",
    "isolation_forest = IsolationForest()\n",
    "isolation_forest.fit(altitudeData)\n",
    "isoForestAnalysis['decisionFunction'] = isolation_forest.decision_function(altitudeData)\n",
    "isoForestAnalysis['predictFunction'] = isolation_forest.predict(altitudeData)\n",
    "isoForestAnalysis['scoreSamples'] = isolation_forest.score_samples(altitudeData)\n",
    "\n",
    "outlierCount = isoForestAnalysis['predictFunction'].where(isoForestAnalysis['predictFunction'] == -1).value_counts()\n",
    "\n",
    "print(f\"Number of outliers detected: {outlierCount.values} out of {isoForestAnalysis.shape[0]} entries \\n\")\n",
    "print(isoForestAnalysis.head())"
   ]
  },
  {
   "cell_type": "markdown",
   "metadata": {},
   "source": [
    "One thing to notice is that this first iteration of the model is not using default amount of sample data. In the Isolation Forest model, the size of the sample data is defined as a parameter given to the method. In the next iteration, I will be adding the max_samples parameter to specify the sample size for training. In addition to that parameter, I will slowly be adding other parameters in like the number of estimators, contamination, and random state to see how it will affect the output of the model. Most importantly though, I will need to find the balance between the parameters in order not to overfit the model."
   ]
  },
  {
   "cell_type": "code",
   "execution_count": null,
   "metadata": {},
   "outputs": [
    {
     "name": "stdout",
     "output_type": "stream",
     "text": [
      "Number of outliers detected: [1309] out of 7698 entries \n",
      "\n",
      "    ALT  decisionFunction  predictFunction  scoreSamples\n",
      "0  5282         -0.061941               -1     -0.561941\n",
      "1    20          0.106139                1     -0.393861\n",
      "2  5388         -0.067257               -1     -0.567257\n",
      "3   239          0.058377                1     -0.441623\n",
      "4   146          0.064798                1     -0.435202\n"
     ]
    }
   ],
   "source": [
    "isolation_forest = IsolationForest(n_estimators=300, max_samples=0.2)\n",
    "isolation_forest.fit(altitudeData)\n",
    "isoForestAnalysis['decisionFunction'] = isolation_forest.decision_function(altitudeData)\n",
    "isoForestAnalysis['predictFunction'] = isolation_forest.predict(altitudeData)\n",
    "isoForestAnalysis['scoreSamples'] = isolation_forest.score_samples(altitudeData)\n",
    "\n",
    "outlierCount = isoForestAnalysis['predictFunction'].where(isoForestAnalysis['predictFunction'] == -1).value_counts()\n",
    "\n",
    "print(f\"Number of outliers detected: {outlierCount.values} out of {isoForestAnalysis.shape[0]} entries \\n\")\n",
    "print(isoForestAnalysis.head())"
   ]
  },
  {
   "cell_type": "markdown",
   "metadata": {},
   "source": [
    "In the block of code above, we can see that by adding the number of estimators and setting it to 300 (the default number being 100) and the amount of sample data to 20% of 7698 rows of data, the number of outliers that were detected went down to 1404 instances. This is likely because in the original instance, there was no sample size specified. When that happens, the Isolation Tree model defaults to 256 rows of data. By giving it 20% of our dataset (about 1540 rows), we have given it more data to train on. In doing so, the model likely picked up less false positives this time around.\n",
    "\n",
    "In the last set of parameter tuning, I will be adding the contamination and random_state parameters to the model."
   ]
  },
  {
   "cell_type": "code",
   "execution_count": null,
   "metadata": {},
   "outputs": [
    {
     "name": "stdout",
     "output_type": "stream",
     "text": [
      "Number of outliers detected: [769] out of 7698 entries \n",
      "\n",
      "    ALT  decisionFunction  predictFunction  scoreSamples\n",
      "0  5282         -0.033310               -1     -0.567873\n",
      "1    20          0.137939                1     -0.396624\n",
      "2  5388         -0.041863               -1     -0.576426\n",
      "3   239          0.093762                1     -0.440801\n",
      "4   146          0.104737                1     -0.429826\n"
     ]
    }
   ],
   "source": [
    "isolation_forest = IsolationForest(n_estimators=300, max_samples=0.2, contamination=0.1, random_state=42)\n",
    "isolation_forest.fit(altitudeData)\n",
    "isoForestAnalysis['decisionFunction'] = isolation_forest.decision_function(altitudeData)\n",
    "isoForestAnalysis['predictFunction'] = isolation_forest.predict(altitudeData)\n",
    "isoForestAnalysis['scoreSamples'] = isolation_forest.score_samples(altitudeData)\n",
    "\n",
    "outlierCount = isoForestAnalysis['predictFunction'].where(isoForestAnalysis['predictFunction'] == -1).value_counts()\n",
    "\n",
    "print(f\"Number of outliers detected: {outlierCount.values} out of {isoForestAnalysis.shape[0]} entries \\n\")\n",
    "print(isoForestAnalysis.head())"
   ]
  },
  {
   "cell_type": "markdown",
   "metadata": {},
   "source": [
    "In adding the contamination and random_state parameters, we can see that the number of outliers detected was significantly reduced. This has nothing to do with the random state parameter. That parameter just keeps the ouput from changing as much when the code is run. The number of outliers was reduced because the contamination level sets the proportion for expected outliers in the dataset. By setting it to 10% we are significantly restricting the count of outliers. I will be removing the random_state just in case that affects the content of the sample being given to the model. This way, the model will be given varying sample data throughout its iterations.\n",
    "\n",
    "In the block below, I am going to run the model once more with my prefered paramaters. In addition to that, I will supply some visuals to support the analysis."
   ]
  },
  {
   "cell_type": "code",
   "execution_count": null,
   "metadata": {},
   "outputs": [
    {
     "name": "stdout",
     "output_type": "stream",
     "text": [
      "Number of outliers detected: [154] out of 7698 entries \n",
      "\n",
      "    ALT  decisionFunction  predictFunction  scoreSamples\n",
      "0  5282          0.043379                1     -0.570297\n",
      "1    20          0.221475                1     -0.392202\n",
      "2  5388          0.037944                1     -0.575733\n",
      "3   239          0.173953                1     -0.439724\n",
      "4   146          0.174076                1     -0.439601\n",
      "------------------------------------------------------------------------ \n",
      "\n"
     ]
    },
    {
     "data": {
      "application/vnd.plotly.v1+json": {
       "config": {
        "plotlyServerURL": "https://plot.ly"
       },
       "data": [
        {
         "lat": {
          "bdata": "cAMAAK70IUC2+BQA4wEiQAAAAGApSyxAAAAAYDAKKUABAABAM/MnQAAAAABP7ypAAAAAwKPi2T9xH7k16TbpvwAAAMAnnz5AAAAA4ARUP0CrPldbsW8zQMccAEB5KDNA3bWEfNATNEAg0m9fB540QHeC/de5iTNA4+z/H0xWM0DE9v9fqOU2QAAAAAAAgFbA293/34o9MkAAAACgd3RCQHTJ/7+NJjbAAAAAAIp/NsAAAACAo2Tzv1ovhnKiHQfA////H6io1T/K372jxgTtv3K3iIiIiMC/AAAAAHN0+r8AAAAgeefpP3XN5JttzhJAHT1+b9M/E0CGWtO845TrP67YX3ZPHhRADYl7LH2oGEAAAABAzWsxwAAAAKBngzDAaff//2z2McC/MACgCIszwAAAAEDRATPAAAAAwO4GFcAAAAAAQk8qwAEAAECtaSvAAAAAoOOxIsCNOQCA8pAnwP///78n7y7AAAAAQKfOGMAZyv9fUlcwwDFXAEBHEivAm+7/H0MkR0CoBgAgZRFBQEbY/x84ZztAEf7/H/JBQkCmAjgHGRo5QNALACBqlUFAu+f/H8dqQECj/f9fZJNCQAAAAECmikFAZxQAIP3OQUAAAADgc5UuQAAAAKDd8y5AAAAAALzNRUBd/dgkP6Y5QIr1/B8W+kJAYw4AoDxMPUAAAACg2K87QLbykv/JxzxA5q+QuTKkPEBAS1ewjYQ7QC6QoPgxRj1AmSoYldRZO0AAAAAAmvg9QAAAAOBW/DxAAAAAQOj5QUBlEQDgvNNBQM0p+b9A0kNANTj4X7qRQUAAAABga3JDQBqO0wY6bUBANfn7/5c9REBh6P+/a8FBQAAAAGCaj0dAGCZTBaNSIEAAAADg8qdEQECk374OzERA0NVW7C+7LUABAAAA51RCQAAAAKDxqkFAAAAAQIWOHMCIY13cRjNCQOxRuB6FQ0JA////3y0wR0AJG55eKcs7QAAAAMC4jT5AAAAAIKVNPUCiE8Ss9xVJQAAAACDHskZA0xEAoAomQEB6VPzfkZxDQFcf9t9WRENAkhoDgB1YRkBDjNe8qrdCQDUAAAA9u0BAXgUA4PshQUBu5fx/4s9CQAUJAMBAcjTAbAn5oGdzJUABAABAM7MkQAEAAKAa7ydA3gztUtl2HEAAAABgOURBQIr1/B8WQkRA6BUAQJ3wQUC+//+/N9BAQJZ6FoTyuERA5IOezarPO0ABAABAzYs9wNgaAGBr2kJAGkiGyg5rQEDNzMzMzAxAQBRR+t8d50RAj8L1KFzJQkBqvHSTGJBAQK5H4XoU9kBAMnctIR/02L8AAACAk2hBQLgehetRKD5AAAAAgPTrNsAAAADg6zAwwM7GSsyzUj1AObTIdr5nQUD///8fPwYuQE0HAMApskRAJZsGoCyjRECTqYJRSZ0NwKuVCb/Uzw/ACQAAgLewMEDHSzeJQaA/QAdCsoAJREBAPE7RkVzGQkCrz9VW7I87QFBMB4DkSkVAWS4CANNlRUB81cqEXyoWQAAAAECqqiHAjakFQKY6QkBlWvZ/6V5CQMZSJF8JkEJAdez/X/7DQEDnyMovgzVBQF8HzhlRijtAmu7/H4O4REAmcOtunuoNwKabxCCwMkdA",
          "dtype": "f8"
         },
         "locationmode": "USA-states",
         "lon": {
          "bdata": "ehUAgE9mQ0AeqFMe3VxDQAAAACDrYkNAAQAAQI23QkAAAACgcH1DQAAAAMBJxENAAAAAQJSeQUCRgTy7fDdCQAAAAMAFmkFAAAAAoL2xQUDZBu5AncRYwCcFAADFl1jAlgUTfxSyWMDdCfZf5wtZwIeHMH4ai1jAzAIAYDnkWMC9CgDA96tZwAAAAAAAAAAAYOX/fwtURUAAAAAg/VZJQK/y/7/1ZFDAAAAAoNQ5UcAAAABAxqRTwNwPeGAAv1PAAAAAwLqIU8A1ejVAaadTwHsUrkfhllPAAAAAgP2pU8AAAACAUW1TwBPyQc9miVLAqmBUUieEUsD7XG3F/mpTwOCcEaW93VLAArwFEhTbUsAAAACgVYtQwAAAAKBODFHAAwYAgODEUMCIDQAgUW5QwAAAAAB6UlDAAAAAgFjcU8AAAADgFI1SwAAAAABtVlLAAAAAIExmU8BhCAAgTN5SwAAAAAAgilHAAAAAYMp2U8CN9v9/UeVRwCkIAEAV/FHAcwkAgM4ASEDOCADg+WJTQOfy/58sW1ZA5HIAIK7nWUAQQpt3d7tZQFu8/1+6+VrA/5n/Xw7lXMAESQCAQfBawP///x+wMlvAF8f/H7KFWsD////fkXRDQAAAACAfHEZAAAAAYDuvW8Aj2/l+ahRZQDlX3p8c+lrA5vL/n1y6VkAAAABgs65VQIPAyqFF7lRAIO1/gLUFVUAMAcCxZ6VVQHYYk/5ejFRA0SLb+X7sVUAAAADgaHRUQAAAACBstFRAAAAAgGgJXMC0+/9/FklawA/QIoDAulrAc+zqn/HqW8ABAAAgrv9dwAsGZYep61lA+jzrv/PNWsDzKgAAfzJbwAAAAKAj6UlArfpcbcXGQUD///8/M2tawERN9PkoRFvA++dpwCDgVsABAABAe7tJQAAAAOBN4lJAAAAAYFKfU8B+VMN+T7JXQK+w4H7AgllAAAAAgCYOWEB6Nqs+V+tYQAAAAGDuRlhAAAAAgHWVV0AmAgDAxNNfQAAAAAD0iRpAa/r/P81rSUBuZwTAnbdawHntLUC2u1rAWAPvP43HW8C6LvzgfHdawCwAAIA9YlrAFeT/P2KAW8CEyNi/obVdwGAIACBMtlDA9P3UeOleQ0AAAACgxttCQAAAAAAAAENAM5k7RO0FREAAAACAFlFQQCh78H9st1rAxpb/PzeRWsAsAACAPQpdwCPA6V28tFrA6Gor9petVUAAAABAYEU8QL/t/59HCVzA2vAPMlRCWEAUCyFDZQNUQEozzL/MzFrAIa8Hk+JJWkD2CDVDqjVRQOa3eTXxRFFAlstG5/yeQUAAAADASfRQQLZpbK8Fb1lAAAAAQCMKUcAAAABAHkZRwAuz0M5pA1lAzO7Jw0KpWUAAAABgo8lWwFdcAEAMmlvATK8ogD3CW8C0yHa+nz5hQFK4HoXrM2FADwAAIO0hV8D2KFyPwpVbQPQVpBmLlllAvJaQD3oeRkDdtYR80K9WQJPWKaAah1vAfPn436VzW8A1XrpJDFZSwAAAACC7q1LAcOAfAAJrWsAxiP6/ICBawMPzUrExUVhAaff//2waUUC+2HvxRRNZQJT2Bl+YMFlA3QMAwFsIU0AycasgBiFhQPyp8dJN8kdA",
          "dtype": "f8"
         },
         "marker": {
          "autocolorscale": false,
          "color": {
           "bdata": "AAAAAADOvUAAAAAAAEW+QAAAAAAAL7tAAAAAAAAxuUAAAAAAAGq5QAAAAAAA5LxAAAAAAAAdu0AAAAAAAOy4QAAAAAAAgGTAAAAAAADIk8AAAAAAAJS8QAAAAAAAwbxAAAAAAACwvUAAAAAAAJi4QAAAAACAEsBAAAAAAACJwEAAAAAAAOW7QAAAAAAAKsJAAAAAAADKukAAAAAAAIBRwAAAAAAAS8ZAAAAAAAB3vUAAAAAAAJvAQAAAAAAAOcBAAAAAAACIvEAAAAAAgPrBQAAAAAAAob5AAAAAAIDfwUAAAAAAgNjCQAAAAACAVMBAAAAAAABjwEAAAAAAgBLDQAAAAAAA17pAAAAAAAAru0AAAAAAAFTAQAAAAACAFcpAAAAAAAC8x0AAAAAAgDjJQAAAAAAAosJAAAAAAACouEAAAAAAgGrBQAAAAAAAEsZAAAAAAIDEwUAAAAAAAI3FQAAAAAAAhMhAAAAAAIBGwEAAAAAAgGrAQAAAAAAANsVAAAAAAABAUMAAAAAAAN3EQAAAAAAApLxAAAAAAAD0uEAAAAAAAPe6QAAAAAAAiblAAAAAAAAAS8AAAAAAAB26QAAAAAAANrlAAAAAAADMuEAAAAAAAO29QAAAAAAAMLxAAAAAAAAzuUAAAAAAAIq7QAAAAAAAt8FAAAAAAIDgxkAAAAAAAFLCQAAAAAAAiMFAAAAAAIB8xUAAAAAAAO6+QAAAAAAAFL5AAAAAAAA2v0AAAAAAAA/CQAAAAAAABMBAAAAAAADRuUAAAAAAAN26QAAAAAAAlLlAAAAAAABmu0AAAAAAAHi4QAAAAACAH8ZAAAAAAADOuUAAAAAAAEi5QAAAAAAAAFLAAAAAAAC0uUAAAAAAAHS8QAAAAAAAbLpAAAAAAABjvkAAAAAAAIBOwAAAAAAAlLxAAAAAAIAmwUAAAAAAADvCQAAAAAAAz7tAAAAAAABcvEAAAAAAgATFQAAAAACAxctAAAAAAIDlwkAAAAAAAKnAQAAAAAAAvLlAAAAAAABDukAAAAAAAIy+QAAAAAAAAL5AAAAAAAD5uUAAAAAAAHO9QAAAAAAAnrpAAAAAAAAPuUAAAAAAAN+7QAAAAAAAwMVAAAAAAIBqwEAAAAAAAMi/QAAAAAAAlcBAAAAAAADUvkAAAAAAANe8QAAAAAAA4rpAAAAAAAADvEAAAAAAAMBcwAAAAAAAZLtAAAAAAAA4yEAAAAAAALy7QAAAAAAApr1AAAAAAAAIyUAAAAAAAGPLQAAAAAAAnbpAAAAAAAAFwEAAAAAAAKy8QAAAAAAA6rpAAAAAAAAuuUAAAAAAgFfAQAAAAAAAbctAAAAAAAAYv0AAAAAAgJfIQAAAAAAARMxAAAAAAACHxEAAAAAAAOe5QAAAAAAAertAAAAAAADnu0AAAAAAAH+5QAAAAAAANb9AAAAAAAAbvkAAAAAAgFbAQAAAAAAAqMZAAAAAAAAAuUAAAAAAgJLAQAAAAAAATrtAAAAAAAC+u0AAAAAAAHbBQAAAAAAAOMNAAAAAAAC3u0AAAAAAANC4QAAAAACAOcNAAAAAAADuu0AAAAAAAEXIQAAAAAAAGsVAAAAAAABWu0AAAAAAALS8QAAAAAAAgFDA",
           "dtype": "f8"
          },
          "colorbar": {
           "title": {
            "text": "Airport Altitude"
           }
          }
         },
         "mode": "markers",
         "text": [
          "Addis Ababa Bole International Airport",
          "Lideta Army Airport",
          "Axum Airport",
          "Gonder Airport",
          "Lalibella Airport",
          "Mekele Airport",
          "Eldoret International Airport",
          "Naivasha Airport",
          "Ein Yahav Airfield",
          "Bar Yehuda Airfield",
          "Licenciado Benito Juarez International Airport",
          "Hermanos Serdán International Airport",
          "Ingeniero Juan Guillermo Villasana Airport",
          "Querétaro Intercontinental Airport",
          "Tlaxcala Airport",
          "Licenciado Adolfo Lopez Mateos International Airport",
          "General Leobardo C. Ruiz International Airport",
          "South Pole Station Airport",
          "Abha Regional Airport",
          "Ramsar Airport",
          "La Quiaca Airport",
          "El Loa Airport",
          "Chachoán Airport",
          "Mariscal Lamar Airport",
          "Atahualpa Airport",
          "Cotopaxi International Airport",
          "Mariscal Sucre International Airport",
          "Chimborazo Airport",
          "Teniente Coronel Luis a Mantilla Airport",
          "El Dorado International Airport",
          "Guaymaral Airport",
          "San Luis Airport",
          "La Nubia Airport",
          "Jose Maria Córdova International Airport",
          "Jorge Wilsterman International Airport",
          "El Alto International Airport",
          "Juan Mendoza Airport",
          "Capitan Nicolas Rojas Airport",
          "Juana Azurduy De Padilla Airport",
          "Huancabamba Airport",
          "Coronel FAP Alfredo Mendivil Duarte Airport",
          "Andahuaylas Airport",
          "Comandante FAP German Arias Graziani Airport",
          "Francisco Carle Airport",
          "Inca Manco Capac International Airport",
          "Chachapoyas Airport",
          "Rodríguez Ballón International Airport",
          "Alejandro Velasco Astete International Airport",
          "Astrakhan Airport",
          "Leh Kushok Bakula Rimpochee Airport",
          "Paro Airport",
          "Lanzhou Zhongchuan Airport",
          "Kunming Changshui International Airport",
          "Grants-Milan Municipal Airport",
          "Imperial County Airport",
          "Durango La Plata County Airport",
          "Black Rock Airport",
          "Santa Fe Municipal Airport",
          "Asmara International Airport",
          "Sana'a International Airport",
          "Jackson Hole Airport",
          "Dali Airport",
          "Telluride Regional Airport",
          "Lhasa Gonggar Airport",
          "Lukla Airport",
          "Jomsom Airport",
          "Manang Airport",
          "Phaplu Airport",
          "Jumla Airport",
          "Taplejung Airport",
          "Simikot Airport",
          "Dolpa Airport",
          "Grand Canyon National Park Airport",
          "Las Vegas Municipal Airport",
          "Eagle County Regional Airport",
          "Flagstaff Pulliam Airport",
          "Lake Tahoe Airport",
          "Jiuzhai Huanglong Airport",
          "Yampa Valley Airport",
          "Gallup Municipal Airport",
          "Atyrau Airport",
          "Gore Airport",
          "Laramie Regional Airport",
          "Southwest Wyoming Regional Airport",
          "Quezaltenango Airport",
          "Noshahr Airport",
          "Skardu Airport",
          "Mayor General FAP Armando Revoredo Iglesias Airport",
          "Golmud Airport",
          "Xining Caojiabu Airport",
          "Altai Airport",
          "Diqing Airport",
          "Qamdo Bangda Airport",
          "Nyingchi Airport",
          "Heihe Airport",
          "Courchevel Airport",
          "Shahrekord Airport",
          "Aspen-Pitkin Co/Sardy Field",
          "Gunnison Crested Butte Regional Airport",
          "Yellowstone Airport",
          "San Luis Valley Regional Bergman Field",
          "Sierra Blanca Regional Airport",
          "Show Low Regional Airport",
          "Mammoth Yosemite Airport",
          "Uyuni Airport",
          "Mekane Selam Airport",
          "Debra Marcos Airport",
          "Debre Tabor Airport",
          "Robe Airport",
          "Chakcharan Airport",
          "Steamboat Springs Bob Adams Field",
          "Los Alamos Airport",
          "Jacqueline Cochran Regional Airport",
          "Shively Field",
          "Syangboche Airport",
          "Mantsonyane Airport",
          "Bryce Canyon Airport",
          "Yushu Batang Airport",
          "Ngari Gunsa Airport",
          "Rawlins Municipal Airport/Harvey Field",
          "Zhongwei Shapotou Airport",
          "Sharana Airstrip",
          "Shank Air Base",
          "Kericho Airport",
          "Bamiyan Airport",
          "Kangding Airport",
          "San Pedro de Atacama Airport",
          "Copacabana Airport",
          "Daocheng Yading Airport",
          "Gannan Xiahe Airport",
          "Santa Cruz del Quiche Airport",
          "Fort Bridger Airport",
          "Evanston-Uinta County Airport-Burns Field",
          "Mulia Airport",
          "Illaga Airport",
          "San Cristobal de las Casas Airport",
          "Shennongjia Hongping Airport",
          "Hongyuan Airport",
          "Hakkari Yüksekova Airport",
          "Bathpalathang Airport",
          "Miley Memorial Field",
          "Ralph Wenz Field",
          "Tunja Airport",
          "Aguas Calientes Airport",
          "Taos Regional Airport",
          "Raton Municipal-Crews Field",
          "Delingha Airport",
          "Ghazni Airport",
          "Golog Maqin Airport",
          "Ninglang Luguhu Airport",
          "Naryn Airport",
          "Bilogai-Sugapa Airport",
          "Privolzhskiy Air Base"
         ],
         "type": "scattergeo"
        }
       ],
       "layout": {
        "geo": {
         "scope": "usa"
        },
        "template": {
         "data": {
          "bar": [
           {
            "error_x": {
             "color": "#2a3f5f"
            },
            "error_y": {
             "color": "#2a3f5f"
            },
            "marker": {
             "line": {
              "color": "#E5ECF6",
              "width": 0.5
             },
             "pattern": {
              "fillmode": "overlay",
              "size": 10,
              "solidity": 0.2
             }
            },
            "type": "bar"
           }
          ],
          "barpolar": [
           {
            "marker": {
             "line": {
              "color": "#E5ECF6",
              "width": 0.5
             },
             "pattern": {
              "fillmode": "overlay",
              "size": 10,
              "solidity": 0.2
             }
            },
            "type": "barpolar"
           }
          ],
          "carpet": [
           {
            "aaxis": {
             "endlinecolor": "#2a3f5f",
             "gridcolor": "white",
             "linecolor": "white",
             "minorgridcolor": "white",
             "startlinecolor": "#2a3f5f"
            },
            "baxis": {
             "endlinecolor": "#2a3f5f",
             "gridcolor": "white",
             "linecolor": "white",
             "minorgridcolor": "white",
             "startlinecolor": "#2a3f5f"
            },
            "type": "carpet"
           }
          ],
          "choropleth": [
           {
            "colorbar": {
             "outlinewidth": 0,
             "ticks": ""
            },
            "type": "choropleth"
           }
          ],
          "contour": [
           {
            "colorbar": {
             "outlinewidth": 0,
             "ticks": ""
            },
            "colorscale": [
             [
              0,
              "#0d0887"
             ],
             [
              0.1111111111111111,
              "#46039f"
             ],
             [
              0.2222222222222222,
              "#7201a8"
             ],
             [
              0.3333333333333333,
              "#9c179e"
             ],
             [
              0.4444444444444444,
              "#bd3786"
             ],
             [
              0.5555555555555556,
              "#d8576b"
             ],
             [
              0.6666666666666666,
              "#ed7953"
             ],
             [
              0.7777777777777778,
              "#fb9f3a"
             ],
             [
              0.8888888888888888,
              "#fdca26"
             ],
             [
              1,
              "#f0f921"
             ]
            ],
            "type": "contour"
           }
          ],
          "contourcarpet": [
           {
            "colorbar": {
             "outlinewidth": 0,
             "ticks": ""
            },
            "type": "contourcarpet"
           }
          ],
          "heatmap": [
           {
            "colorbar": {
             "outlinewidth": 0,
             "ticks": ""
            },
            "colorscale": [
             [
              0,
              "#0d0887"
             ],
             [
              0.1111111111111111,
              "#46039f"
             ],
             [
              0.2222222222222222,
              "#7201a8"
             ],
             [
              0.3333333333333333,
              "#9c179e"
             ],
             [
              0.4444444444444444,
              "#bd3786"
             ],
             [
              0.5555555555555556,
              "#d8576b"
             ],
             [
              0.6666666666666666,
              "#ed7953"
             ],
             [
              0.7777777777777778,
              "#fb9f3a"
             ],
             [
              0.8888888888888888,
              "#fdca26"
             ],
             [
              1,
              "#f0f921"
             ]
            ],
            "type": "heatmap"
           }
          ],
          "histogram": [
           {
            "marker": {
             "pattern": {
              "fillmode": "overlay",
              "size": 10,
              "solidity": 0.2
             }
            },
            "type": "histogram"
           }
          ],
          "histogram2d": [
           {
            "colorbar": {
             "outlinewidth": 0,
             "ticks": ""
            },
            "colorscale": [
             [
              0,
              "#0d0887"
             ],
             [
              0.1111111111111111,
              "#46039f"
             ],
             [
              0.2222222222222222,
              "#7201a8"
             ],
             [
              0.3333333333333333,
              "#9c179e"
             ],
             [
              0.4444444444444444,
              "#bd3786"
             ],
             [
              0.5555555555555556,
              "#d8576b"
             ],
             [
              0.6666666666666666,
              "#ed7953"
             ],
             [
              0.7777777777777778,
              "#fb9f3a"
             ],
             [
              0.8888888888888888,
              "#fdca26"
             ],
             [
              1,
              "#f0f921"
             ]
            ],
            "type": "histogram2d"
           }
          ],
          "histogram2dcontour": [
           {
            "colorbar": {
             "outlinewidth": 0,
             "ticks": ""
            },
            "colorscale": [
             [
              0,
              "#0d0887"
             ],
             [
              0.1111111111111111,
              "#46039f"
             ],
             [
              0.2222222222222222,
              "#7201a8"
             ],
             [
              0.3333333333333333,
              "#9c179e"
             ],
             [
              0.4444444444444444,
              "#bd3786"
             ],
             [
              0.5555555555555556,
              "#d8576b"
             ],
             [
              0.6666666666666666,
              "#ed7953"
             ],
             [
              0.7777777777777778,
              "#fb9f3a"
             ],
             [
              0.8888888888888888,
              "#fdca26"
             ],
             [
              1,
              "#f0f921"
             ]
            ],
            "type": "histogram2dcontour"
           }
          ],
          "mesh3d": [
           {
            "colorbar": {
             "outlinewidth": 0,
             "ticks": ""
            },
            "type": "mesh3d"
           }
          ],
          "parcoords": [
           {
            "line": {
             "colorbar": {
              "outlinewidth": 0,
              "ticks": ""
             }
            },
            "type": "parcoords"
           }
          ],
          "pie": [
           {
            "automargin": true,
            "type": "pie"
           }
          ],
          "scatter": [
           {
            "fillpattern": {
             "fillmode": "overlay",
             "size": 10,
             "solidity": 0.2
            },
            "type": "scatter"
           }
          ],
          "scatter3d": [
           {
            "line": {
             "colorbar": {
              "outlinewidth": 0,
              "ticks": ""
             }
            },
            "marker": {
             "colorbar": {
              "outlinewidth": 0,
              "ticks": ""
             }
            },
            "type": "scatter3d"
           }
          ],
          "scattercarpet": [
           {
            "marker": {
             "colorbar": {
              "outlinewidth": 0,
              "ticks": ""
             }
            },
            "type": "scattercarpet"
           }
          ],
          "scattergeo": [
           {
            "marker": {
             "colorbar": {
              "outlinewidth": 0,
              "ticks": ""
             }
            },
            "type": "scattergeo"
           }
          ],
          "scattergl": [
           {
            "marker": {
             "colorbar": {
              "outlinewidth": 0,
              "ticks": ""
             }
            },
            "type": "scattergl"
           }
          ],
          "scattermap": [
           {
            "marker": {
             "colorbar": {
              "outlinewidth": 0,
              "ticks": ""
             }
            },
            "type": "scattermap"
           }
          ],
          "scattermapbox": [
           {
            "marker": {
             "colorbar": {
              "outlinewidth": 0,
              "ticks": ""
             }
            },
            "type": "scattermapbox"
           }
          ],
          "scatterpolar": [
           {
            "marker": {
             "colorbar": {
              "outlinewidth": 0,
              "ticks": ""
             }
            },
            "type": "scatterpolar"
           }
          ],
          "scatterpolargl": [
           {
            "marker": {
             "colorbar": {
              "outlinewidth": 0,
              "ticks": ""
             }
            },
            "type": "scatterpolargl"
           }
          ],
          "scatterternary": [
           {
            "marker": {
             "colorbar": {
              "outlinewidth": 0,
              "ticks": ""
             }
            },
            "type": "scatterternary"
           }
          ],
          "surface": [
           {
            "colorbar": {
             "outlinewidth": 0,
             "ticks": ""
            },
            "colorscale": [
             [
              0,
              "#0d0887"
             ],
             [
              0.1111111111111111,
              "#46039f"
             ],
             [
              0.2222222222222222,
              "#7201a8"
             ],
             [
              0.3333333333333333,
              "#9c179e"
             ],
             [
              0.4444444444444444,
              "#bd3786"
             ],
             [
              0.5555555555555556,
              "#d8576b"
             ],
             [
              0.6666666666666666,
              "#ed7953"
             ],
             [
              0.7777777777777778,
              "#fb9f3a"
             ],
             [
              0.8888888888888888,
              "#fdca26"
             ],
             [
              1,
              "#f0f921"
             ]
            ],
            "type": "surface"
           }
          ],
          "table": [
           {
            "cells": {
             "fill": {
              "color": "#EBF0F8"
             },
             "line": {
              "color": "white"
             }
            },
            "header": {
             "fill": {
              "color": "#C8D4E3"
             },
             "line": {
              "color": "white"
             }
            },
            "type": "table"
           }
          ]
         },
         "layout": {
          "annotationdefaults": {
           "arrowcolor": "#2a3f5f",
           "arrowhead": 0,
           "arrowwidth": 1
          },
          "autotypenumbers": "strict",
          "coloraxis": {
           "colorbar": {
            "outlinewidth": 0,
            "ticks": ""
           }
          },
          "colorscale": {
           "diverging": [
            [
             0,
             "#8e0152"
            ],
            [
             0.1,
             "#c51b7d"
            ],
            [
             0.2,
             "#de77ae"
            ],
            [
             0.3,
             "#f1b6da"
            ],
            [
             0.4,
             "#fde0ef"
            ],
            [
             0.5,
             "#f7f7f7"
            ],
            [
             0.6,
             "#e6f5d0"
            ],
            [
             0.7,
             "#b8e186"
            ],
            [
             0.8,
             "#7fbc41"
            ],
            [
             0.9,
             "#4d9221"
            ],
            [
             1,
             "#276419"
            ]
           ],
           "sequential": [
            [
             0,
             "#0d0887"
            ],
            [
             0.1111111111111111,
             "#46039f"
            ],
            [
             0.2222222222222222,
             "#7201a8"
            ],
            [
             0.3333333333333333,
             "#9c179e"
            ],
            [
             0.4444444444444444,
             "#bd3786"
            ],
            [
             0.5555555555555556,
             "#d8576b"
            ],
            [
             0.6666666666666666,
             "#ed7953"
            ],
            [
             0.7777777777777778,
             "#fb9f3a"
            ],
            [
             0.8888888888888888,
             "#fdca26"
            ],
            [
             1,
             "#f0f921"
            ]
           ],
           "sequentialminus": [
            [
             0,
             "#0d0887"
            ],
            [
             0.1111111111111111,
             "#46039f"
            ],
            [
             0.2222222222222222,
             "#7201a8"
            ],
            [
             0.3333333333333333,
             "#9c179e"
            ],
            [
             0.4444444444444444,
             "#bd3786"
            ],
            [
             0.5555555555555556,
             "#d8576b"
            ],
            [
             0.6666666666666666,
             "#ed7953"
            ],
            [
             0.7777777777777778,
             "#fb9f3a"
            ],
            [
             0.8888888888888888,
             "#fdca26"
            ],
            [
             1,
             "#f0f921"
            ]
           ]
          },
          "colorway": [
           "#636efa",
           "#EF553B",
           "#00cc96",
           "#ab63fa",
           "#FFA15A",
           "#19d3f3",
           "#FF6692",
           "#B6E880",
           "#FF97FF",
           "#FECB52"
          ],
          "font": {
           "color": "#2a3f5f"
          },
          "geo": {
           "bgcolor": "white",
           "lakecolor": "white",
           "landcolor": "#E5ECF6",
           "showlakes": true,
           "showland": true,
           "subunitcolor": "white"
          },
          "hoverlabel": {
           "align": "left"
          },
          "hovermode": "closest",
          "mapbox": {
           "style": "light"
          },
          "paper_bgcolor": "white",
          "plot_bgcolor": "#E5ECF6",
          "polar": {
           "angularaxis": {
            "gridcolor": "white",
            "linecolor": "white",
            "ticks": ""
           },
           "bgcolor": "#E5ECF6",
           "radialaxis": {
            "gridcolor": "white",
            "linecolor": "white",
            "ticks": ""
           }
          },
          "scene": {
           "xaxis": {
            "backgroundcolor": "#E5ECF6",
            "gridcolor": "white",
            "gridwidth": 2,
            "linecolor": "white",
            "showbackground": true,
            "ticks": "",
            "zerolinecolor": "white"
           },
           "yaxis": {
            "backgroundcolor": "#E5ECF6",
            "gridcolor": "white",
            "gridwidth": 2,
            "linecolor": "white",
            "showbackground": true,
            "ticks": "",
            "zerolinecolor": "white"
           },
           "zaxis": {
            "backgroundcolor": "#E5ECF6",
            "gridcolor": "white",
            "gridwidth": 2,
            "linecolor": "white",
            "showbackground": true,
            "ticks": "",
            "zerolinecolor": "white"
           }
          },
          "shapedefaults": {
           "line": {
            "color": "#2a3f5f"
           }
          },
          "ternary": {
           "aaxis": {
            "gridcolor": "white",
            "linecolor": "white",
            "ticks": ""
           },
           "baxis": {
            "gridcolor": "white",
            "linecolor": "white",
            "ticks": ""
           },
           "bgcolor": "#E5ECF6",
           "caxis": {
            "gridcolor": "white",
            "linecolor": "white",
            "ticks": ""
           }
          },
          "title": {
           "x": 0.05
          },
          "xaxis": {
           "automargin": true,
           "gridcolor": "white",
           "linecolor": "white",
           "ticks": "",
           "title": {
            "standoff": 15
           },
           "zerolinecolor": "white",
           "zerolinewidth": 2
          },
          "yaxis": {
           "automargin": true,
           "gridcolor": "white",
           "linecolor": "white",
           "ticks": "",
           "title": {
            "standoff": 15
           },
           "zerolinecolor": "white",
           "zerolinewidth": 2
          }
         }
        },
        "title": {
         "text": "Airports with Altitude Outliers)"
        }
       }
      }
     },
     "metadata": {},
     "output_type": "display_data"
    }
   ],
   "source": [
    "isolation_forest = IsolationForest(n_estimators=300, max_samples=0.2,contamination=0.02)\n",
    "isolation_forest.fit(altitudeData)\n",
    "isoForestAnalysis['decisionFunction'] = isolation_forest.decision_function(altitudeData)\n",
    "isoForestAnalysis['predictFunction'] = isolation_forest.predict(altitudeData)\n",
    "isoForestAnalysis['scoreSamples'] = isolation_forest.score_samples(altitudeData)\n",
    "\n",
    "outlierCount = isoForestAnalysis['predictFunction'].where(isoForestAnalysis['predictFunction'] == -1).value_counts()\n",
    "\n",
    "print(f\"Number of outliers detected: {outlierCount.values} out of {isoForestAnalysis.shape[0]} entries \\n\")\n",
    "print(isoForestAnalysis.head())\n",
    "\n",
    "print('------------------------------------------------------------------------ \\n')\n",
    "\n",
    "\n",
    "airports['predictFunction'] = isoForestAnalysis['predictFunction']\n",
    "outliers = airports.where(airports['predictFunction'] == -1)\n",
    "outliers = outliers.dropna()\n",
    "\n",
    "fig = go.Figure(data=go.Scattergeo(\n",
    "        locationmode = 'USA-states',\n",
    "        lon = outliers['LONG'],\n",
    "        lat = outliers['LAT'],\n",
    "        text = outliers['NAME'],\n",
    "        mode = 'markers',\n",
    "        marker_color = outliers['ALT'],\n",
    "        marker = dict(\n",
    "            autocolorscale = False,\n",
    "            colorbar = dict(\n",
    "                title=dict(\n",
    "                    text=\"Airport Altitude\"\n",
    "                )\n",
    "            ))))\n",
    "\n",
    "fig.update_layout(\n",
    "        title = 'Airports with Altitude Outliers)',\n",
    "        geo_scope='usa',\n",
    "    )\n",
    "\n",
    "fig.show()"
   ]
  },
  {
   "cell_type": "markdown",
   "metadata": {},
   "source": [
    "In this chart, we can see 2% of the detected outliers plotted on the map. I limited it to 2.5% in order to highlight some of the outliers like Telluride airport and others in the Rocky Mountains area. Those are on the upper-bound for Altitude. The ones in Southern California represent the lower bound."
   ]
  },
  {
   "cell_type": "markdown",
   "metadata": {},
   "source": [
    "#### Using SciPy: Linear Programming\n",
    "\n",
    "Basic terminologies of Linear Programming\n",
    "\n",
    "Objective Function: The main aim of the problem, either to maximize of to minimize, is the objective function of linear programming. In the problem shown below, Z (to minimize) is the objective function.  \n",
    "  \n",
    "Decision Variables: The variables used to decide the output as decision variables. They are the unknowns of the mathematical programming model. In the below problem, we are to determine the value of x and y in order to minimize Z. Here, x and y are the decision variables.  \n",
    "  \n",
    "Constraints: These are the restrictions on the decision variables. The limitations on the decision variables given under subject to the constraints in the below problem are the constraints of the Linear programming.  \n",
    "  \n",
    "Non – negativity restrictions: In linear programming, the values for decision variables are always greater than or equal to 0.\n",
    "\n",
    "(https://www.geeksforgeeks.org/python-linear-programming-in-pulp/)\n",
    "\n",
    "# Sample code pulled from internet below"
   ]
  },
  {
   "cell_type": "code",
   "execution_count": 64,
   "metadata": {},
   "outputs": [
    {
     "name": "stdout",
     "output_type": "stream",
     "text": [
      "       message: Optimization terminated successfully. (HiGHS Status 7: Optimal)\n",
      "       success: True\n",
      "        status: 0\n",
      "           fun: 0.0\n",
      "             x: [ 0.000e+00  0.000e+00  0.000e+00  0.000e+00]\n",
      "           nit: 0\n",
      "         lower:  residual: [ 0.000e+00  0.000e+00  0.000e+00  0.000e+00]\n",
      "                marginals: [ 0.000e+00  5.000e+02  7.500e+01  5.000e+01]\n",
      "         upper:  residual: [ 8.000e+02  8.000e+02  8.000e+02  8.000e+02]\n",
      "                marginals: [ 0.000e+00  0.000e+00  0.000e+00  0.000e+00]\n",
      "         eqlin:  residual: []\n",
      "                marginals: []\n",
      "       ineqlin:  residual: []\n",
      "                marginals: []\n"
     ]
    }
   ],
   "source": [
    "distDict = [\n",
    "    [0, 500, 75, 50],\n",
    "    [500, 0, 280, 800],\n",
    "    [75, 280, 0, 30],\n",
    "    [50, 800, 30, 0]\n",
    "    ]\n",
    "\n",
    "c = [0, 500, 75, 50]\n",
    "# Define inequality constraints (A_ub @ x <= b_ub)\n",
    "\n",
    "# Define bounds for x and y (0 <= x <= None, 0 <= y <= None)\n",
    "bounds = [0, 800]\n",
    "\n",
    "# Solve the linear programming problem\n",
    "result = linprog(c,bounds=bounds)\n",
    "\n",
    "print(result)\n"
   ]
  },
  {
   "cell_type": "markdown",
   "metadata": {},
   "source": [
    "### Sources Cited\n",
    "\n",
    "**Decision Tree**  \n",
    "https://www.datacamp.com/tutorial/decision-tree-classification-python  \n",
    "https://scikit-learn.org/stable/modules/tree.html#classification  \n",
    "https://scikit-learn.org/stable/modules/generated/sklearn.tree.DecisionTreeClassifier.html  \n",
    "https://www.geeksforgeeks.org/python-decision-tree-regression-using-sklearn/  \n",
    "https://scikit-learn.org/stable/modules/generated/sklearn.metrics.accuracy_score.html  \n",
    "\n",
    "**Isolation Forest**  \n",
    "https://scikit-learn.org/stable/modules/generated/sklearn.ensemble.IsolationForest.html  \n",
    "https://plotly.com/python/scatter-plots-on-maps/  \n",
    "https://plotly.com/python/scatter-plots-on-maps/  \n"
   ]
  }
 ],
 "metadata": {
  "kernelspec": {
   "display_name": ".venv",
   "language": "python",
   "name": "python3"
  },
  "language_info": {
   "codemirror_mode": {
    "name": "ipython",
    "version": 3
   },
   "file_extension": ".py",
   "mimetype": "text/x-python",
   "name": "python",
   "nbconvert_exporter": "python",
   "pygments_lexer": "ipython3",
   "version": "3.11.9"
  }
 },
 "nbformat": 4,
 "nbformat_minor": 2
}

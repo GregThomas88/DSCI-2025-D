{
 "cells": [
  {
   "cell_type": "code",
   "execution_count": null,
   "metadata": {},
   "outputs": [],
   "source": [
    "from pulp import *\n",
    "import pandas as pd\n",
    "#Heavily influenced by, need to make sure we understand the code so we can use it and not plagerize as a final product\n",
    "#https://www.kaggle.com/code/itoeiji/solving-tsp-and-vrp-by-mip-using-pulp"
   ]
  },
  {
   "cell_type": "code",
   "execution_count": null,
   "metadata": {},
   "outputs": [],
   "source": [
    "distEnum = {\n",
    "    \"SFO\": { \"SFO\": 0, \"LAX\": 500, \"SJC\": 75, \"OAK\": 50},\n",
    "    \"LAX\": { \"SFO\": 500, \"LAX\": 0, \"SJC\": 280, \"OAK\": 800},\n",
    "    \"SJC\": { \"SFO\": 75, \"LAX\": 280, \"SJC\": 0, \"OAK\": 30},\n",
    "    \"OAK\": { \"SFO\": 50, \"LAX\": 800, \"SJC\": 30, \"OAK\": 0}\n",
    "}\n",
    "\n",
    "\n",
    "distDict = pd.DataFrame( \n",
    "    [\n",
    "    [0, 500, 75, 50],\n",
    "    [500, 0, 280, 800],\n",
    "    [75, 280, 0, 30],\n",
    "    [50, 800, 30, 0]\n",
    "    ])\n",
    "\n",
    "distDict2 = pd.DataFrame( \n",
    "    [\n",
    "    [0, 9999, 469, 857, 375],\n",
    "    [9999, 0, 549, 1188, 464],\n",
    "    [469, 549, 0, 639, 380],\n",
    "    [857, 1188, 639, 0, 9999],\n",
    "    [375, 464, 380, 9999, 0]\n",
    "    ])"
   ]
  },
  {
   "cell_type": "code",
   "execution_count": 50,
   "metadata": {},
   "outputs": [],
   "source": [
    "usRoutes = pd.read_csv('../data/usRoutesClean.csv')"
   ]
  },
  {
   "cell_type": "code",
   "execution_count": 54,
   "metadata": {},
   "outputs": [
    {
     "data": {
      "text/plain": [
       "3772    MSY\n",
       "3559    IND\n",
       "1710    ATL\n",
       "4652    FLL\n",
       "540     CMH\n",
       "Name: SRCIATA, dtype: object"
      ]
     },
     "execution_count": 54,
     "metadata": {},
     "output_type": "execute_result"
    }
   ],
   "source": [
    "usRoutes['SRCIATA'].sample(n=5)"
   ]
  },
  {
   "cell_type": "code",
   "execution_count": 19,
   "metadata": {},
   "outputs": [
    {
     "data": {
      "text/plain": [
       "4"
      ]
     },
     "execution_count": 19,
     "metadata": {},
     "output_type": "execute_result"
    }
   ],
   "source": [
    "len(distDict)"
   ]
  },
  {
   "cell_type": "code",
   "execution_count": 43,
   "metadata": {},
   "outputs": [],
   "source": [
    "problem = LpProblem(\"LP_Test\", LpMinimize)"
   ]
  },
  {
   "cell_type": "code",
   "execution_count": 44,
   "metadata": {},
   "outputs": [],
   "source": [
    "x = LpVariable.dicts('x', ((i, j) for i in range(len(distEnum)) for j in range(len(distEnum))), lowBound=0, upBound=1, cat='Binary')"
   ]
  },
  {
   "cell_type": "code",
   "execution_count": 45,
   "metadata": {},
   "outputs": [],
   "source": [
    "problem += pulp.lpSum(distDict[i][j] * x[i, j] for i in range(len(distEnum)) for j in range(len(distEnum)))"
   ]
  },
  {
   "cell_type": "code",
   "execution_count": 46,
   "metadata": {},
   "outputs": [],
   "source": [
    "u = pulp.LpVariable.dicts('u', (i for i in range(len(distEnum))), lowBound=1, upBound=800, cat='Integer')"
   ]
  },
  {
   "cell_type": "code",
   "execution_count": 47,
   "metadata": {},
   "outputs": [],
   "source": [
    "for i in range(len(distEnum)):\n",
    "    problem += x[i, i] == 0\n",
    "\n",
    "for i in range(len(distEnum)):\n",
    "    problem += pulp.lpSum(x[i, j] for j in range(len(distEnum))) == 1\n",
    "    problem += pulp.lpSum(x[j, i] for j in range(len(distEnum))) == 1"
   ]
  },
  {
   "cell_type": "code",
   "execution_count": 48,
   "metadata": {},
   "outputs": [],
   "source": [
    "for i in range(len(distEnum)):\n",
    "    for j in range(len(distEnum)):\n",
    "        if i != j and (i != 0 and j != 0):\n",
    "            problem += u[i] - u[j] <= len(distEnum) * (1 - x[i, j]) - 1"
   ]
  },
  {
   "cell_type": "code",
   "execution_count": 49,
   "metadata": {},
   "outputs": [
    {
     "data": {
      "text/plain": [
       "(1, 'Optimal', 860.0)"
      ]
     },
     "execution_count": 49,
     "metadata": {},
     "output_type": "execute_result"
    }
   ],
   "source": [
    "status = problem.solve()\n",
    "status, LpStatus[status], value(problem.objective)"
   ]
  }
 ],
 "metadata": {
  "kernelspec": {
   "display_name": "Python 3",
   "language": "python",
   "name": "python3"
  },
  "language_info": {
   "codemirror_mode": {
    "name": "ipython",
    "version": 3
   },
   "file_extension": ".py",
   "mimetype": "text/x-python",
   "name": "python",
   "nbconvert_exporter": "python",
   "pygments_lexer": "ipython3",
   "version": "3.12.6"
  }
 },
 "nbformat": 4,
 "nbformat_minor": 2
}

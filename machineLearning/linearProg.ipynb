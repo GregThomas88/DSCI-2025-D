{
 "cells": [
  {
   "cell_type": "code",
   "execution_count": 76,
   "metadata": {},
   "outputs": [],
   "source": [
    "from pulp import *\n",
    "import pandas as pd\n",
    "import networkx as nx\n",
    "import pandas as pd\n",
    "#Heavily influenced by, need to make sure we understand the code so we can use it and not plagerize as a final product\n",
    "#https://www.kaggle.com/code/itoeiji/solving-tsp-and-vrp-by-mip-using-pulp"
   ]
  },
  {
   "cell_type": "code",
   "execution_count": 57,
   "metadata": {},
   "outputs": [],
   "source": [
    "distEnum = {\n",
    "    \"SFO\": { \"SFO\": 0, \"LAX\": 500, \"SJC\": 75, \"OAK\": 50},\n",
    "    \"LAX\": { \"SFO\": 500, \"LAX\": 0, \"SJC\": 280, \"OAK\": 800},\n",
    "    \"SJC\": { \"SFO\": 75, \"LAX\": 280, \"SJC\": 0, \"OAK\": 30},\n",
    "    \"OAK\": { \"SFO\": 50, \"LAX\": 800, \"SJC\": 30, \"OAK\": 0}\n",
    "}\n",
    "\n",
    "\n",
    "distDict = pd.DataFrame( \n",
    "    [\n",
    "    [0, 500, 75, 50],\n",
    "    [500, 0, 280, 800],\n",
    "    [75, 280, 0, 30],\n",
    "    [50, 800, 30, 0]\n",
    "    ])\n",
    "\n",
    "distDict2 = pd.DataFrame( \n",
    "    [\n",
    "    [0, 9999, 469, 857, 375],  #MSY\n",
    "    [9999, 0, 549, 1188, 464], #IND\n",
    "    [469, 549, 0, 639, 380],   #ATL\n",
    "    [857, 1188, 639, 0, 9999], #FLL\n",
    "    [375, 464, 380, 9999, 0]   #MEM\n",
    "    ])"
   ]
  },
  {
   "cell_type": "code",
   "execution_count": 77,
   "metadata": {},
   "outputs": [],
   "source": [
    "usRoutes = pd.read_csv('../data/usRoutesClean.csv')"
   ]
  },
  {
   "cell_type": "code",
   "execution_count": 80,
   "metadata": {},
   "outputs": [],
   "source": [
    "def findRoutes (dataSet, startAirport, endAirport, cutoff):\n",
    "    # Create the network so that we can get our additional routes that could be used to get from our start to finish\n",
    "    G = nx.from_pandas_edgelist(dataSet, 'SRCIATA', 'DESTINIATA', create_using=nx.DiGraph())\n",
    "\n",
    "    cutoffValue = 0     # Used to track what depth the while loop is at\n",
    "    noRoute = True      # Used to track if a route was found and the loop can be stopped early\n",
    "\n",
    "    while (cutoffValue <= cutoff) & (noRoute == True):  # Loop goes through and finds the shallowest depth that we can work with\n",
    "        cutoffValue = cutoffValue + 1\n",
    "        paths = nx.all_simple_paths(G, startAirport, endAirport, cutoff=cutoffValue)\n",
    "\n",
    "        for path in paths:\n",
    "            noRoute = False\n",
    "\n",
    "    if cutoffValue > cutoff:\n",
    "        return(\"NO_PATH\")\n",
    "\n",
    "    paths = nx.all_simple_paths(G, startAirport, endAirport, cutoff=cutoffValue)\n",
    "\n",
    "    shortestTotalDistance = 0   # Used to track what the shortest total distance is for later comparison of ranking \n",
    "\n",
    "    for path in paths: \n",
    "        nodeLocation = 0\n",
    "        totalDistance = 0\n",
    "        potentialRoute = pd.DataFrame({\"SRC\": [], \"DESTIN\": [], \"METERS\": []})\n",
    "\n",
    "        for index in path:\n",
    "            # Calculate total distance of the route\n",
    "            currentIATA = index\n",
    "            if nodeLocation != 0:\n",
    "                distance = (dataSet.loc[(dataSet['SRCIATA'] == pastIATA) & (dataSet['DESTINIATA'] == currentIATA), 'meters'].values)[0]\n",
    "                totalDistance = totalDistance + distance\n",
    "                indexEntry = pd.DataFrame({\"SRC\": [pastIATA], \"DESTIN\": [currentIATA], \"METERS\": [distance]})\n",
    "                potentialRoute = pd.concat([potentialRoute, indexEntry])\n",
    "\n",
    "            nodeLocation = nodeLocation + 1\n",
    "            pastIATA = index\n",
    "        \n",
    "        if shortestTotalDistance == 0:                  # Takes the first value found a promotes it to the shortest\n",
    "            shortestTotalDistance = totalDistance\n",
    "            shortestRoute = potentialRoute.copy()\n",
    "        else:\n",
    "            if shortestTotalDistance > totalDistance:   # Compares the shortest with the current to see if it needs to replace\n",
    "                shortestTotalDistance = totalDistance\n",
    "                shortestRoute = potentialRoute.copy()\n",
    "\n",
    "    return(shortestRoute)"
   ]
  },
  {
   "cell_type": "code",
   "execution_count": null,
   "metadata": {},
   "outputs": [],
   "source": []
  },
  {
   "cell_type": "code",
   "execution_count": null,
   "metadata": {},
   "outputs": [
    {
     "data": {
      "text/plain": [
       "3772    MSY\n",
       "3559    IND\n",
       "1710    ATL\n",
       "4652    FLL\n",
       "540     CMH\n",
       "Name: SRCIATA, dtype: object"
      ]
     },
     "execution_count": 54,
     "metadata": {},
     "output_type": "execute_result"
    }
   ],
   "source": [
    "usRoutes['SRCIATA'].sample(n=4)"
   ]
  },
  {
   "cell_type": "code",
   "execution_count": null,
   "metadata": {},
   "outputs": [
    {
     "data": {
      "text/plain": [
       "['BWI', 'YYC', 'LIR']"
      ]
     },
     "execution_count": 109,
     "metadata": {},
     "output_type": "execute_result"
    }
   ],
   "source": [
    "\n",
    "\n",
    "test = findRoutes(usRoutes, 'MSY', 'IND', 4)\n",
    "test['SRC'].iloc[1]\n",
    "test['METERS']\n",
    "test['DESTIN']\n"
   ]
  },
  {
   "cell_type": "code",
   "execution_count": 126,
   "metadata": {},
   "outputs": [
    {
     "name": "stdout",
     "output_type": "stream",
     "text": [
      "['DEN', 'ORD', 'AZO', 'ORD', 'PDX']\n"
     ]
    }
   ],
   "source": [
    "SRCList = []\n",
    "DESTINList = []\n",
    "DISTANCEList = []\n",
    "\n",
    "sampleAirports = list(usRoutes['SRCIATA'].sample(n=3))\n",
    "\n",
    "i = 0\n",
    "while i != len(sampleAirports):\n",
    "    if (i == (len(sampleAirports) - 1)):\n",
    "        destAirport = sampleAirports[0]\n",
    "    else:\n",
    "        destAirport = sampleAirports[i+1]\n",
    "    route = findRoutes(usRoutes, sampleAirports[i], destAirport, 4)\n",
    "\n",
    "    SRCList.append(route['SRC'].iloc[0])\n",
    "    DESTINList.append(route['DESTIN'].iloc[0])\n",
    "    DISTANCEList.append((route['METERS'].iloc[0]/1609.344))\n",
    "    if (route['DESTIN'].iloc[0] != destAirport):\n",
    "        sampleAirports.insert(i+1,route['DESTIN'].iloc[0])\n",
    "    i = i + 1\n",
    "\n",
    "print(SRCList)"
   ]
  },
  {
   "cell_type": "code",
   "execution_count": 194,
   "metadata": {},
   "outputs": [
    {
     "name": "stdout",
     "output_type": "stream",
     "text": [
      "             MSY          ATL          MEM          IND          FLL\n",
      "MSY     0.000000   374.510981   374.510981   469.207951   856.689434\n",
      "ATL  9999.000000     0.000000   463.785866   379.946115   379.946115\n",
      "MEM   464.050570  9999.000000     0.000000   548.701210  1186.105022\n",
      "IND   379.970348   551.284250  9999.000000     0.000000   639.115689\n",
      "FLL   639.440667   639.440667  1187.807579  9999.000000     0.000000\n"
     ]
    }
   ],
   "source": [
    "DistanceMatrix = []\n",
    "\n",
    "#sampleAirports = list(usRoutes['SRCIATA'].sample(n=3))\n",
    "sampleAirports = [\"MSY\", \"IND\", \"ATL\", \"FLL\"]\n",
    "\n",
    "i = 0\n",
    "while (i != len(sampleAirports)):\n",
    "    DISTANCEList = []\n",
    "    j = 0\n",
    "    while (len(DISTANCEList) < len(sampleAirports)):\n",
    "        sampleAirports = list(pd.Series(sampleAirports).unique())\n",
    "    \n",
    "        try:\n",
    "            destAirport = sampleAirports[j+1]\n",
    "        except:\n",
    "            break\n",
    "\n",
    "        if (sampleAirports[i] == sampleAirports[j]):\n",
    "            DISTANCEList.append(0)\n",
    "        \n",
    "        route = findRoutes(usRoutes, sampleAirports[i], destAirport, 4)\n",
    "        route['test'] = route['METERS']/1609.344\n",
    "        #print(route)\n",
    "\n",
    "        if (route.empty):\n",
    "            DISTANCEList.append(9999)\n",
    "        elif (route['DESTIN'].iloc[0] != destAirport):\n",
    "            sampleAirports.insert(j+1,route['DESTIN'].iloc[0])\n",
    "            DISTANCEList.append((route['METERS'].iloc[0]/1609.344))\n",
    "            if(route['DESTIN'].iloc[0] == sampleAirports[j-1]):\n",
    "                DISTANCEList.append(9999)\n",
    "                sampleAirports.insert(j+1,route['DESTIN'].iloc[0])   \n",
    "        else:\n",
    "            DISTANCEList.append((route['METERS'].iloc[0]/1609.344))\n",
    "        \n",
    "        j = j + 1\n",
    "    DistanceMatrix.append(DISTANCEList)\n",
    "    i = i + 1\n",
    "\n",
    "\n",
    "\n",
    "DistanceMatrix = pd.DataFrame(DistanceMatrix, columns = sampleAirports, index = sampleAirports)\n",
    "DistanceMatrix = DistanceMatrix.fillna(0)\n",
    "print(DistanceMatrix)"
   ]
  },
  {
   "cell_type": "code",
   "execution_count": 69,
   "metadata": {},
   "outputs": [],
   "source": [
    "problem = LpProblem(\"LP_Test\", LpMinimize)"
   ]
  },
  {
   "cell_type": "code",
   "execution_count": 70,
   "metadata": {},
   "outputs": [],
   "source": [
    "x = LpVariable.dicts('x', ((i, j) for i in range(len(distDict2)) for j in range(len(distDict2))), lowBound=0, upBound=1, cat='Binary')"
   ]
  },
  {
   "cell_type": "code",
   "execution_count": 71,
   "metadata": {},
   "outputs": [],
   "source": [
    "problem += pulp.lpSum(distDict2[i][j] * x[i, j] for i in range(len(distDict2)) for j in range(len(distDict2)))"
   ]
  },
  {
   "cell_type": "code",
   "execution_count": 72,
   "metadata": {},
   "outputs": [],
   "source": [
    "u = pulp.LpVariable.dicts('u', (i for i in range(len(distDict2))), lowBound=1, upBound=9999, cat='Integer')"
   ]
  },
  {
   "cell_type": "code",
   "execution_count": 73,
   "metadata": {},
   "outputs": [],
   "source": [
    "for i in range(len(distDict2)):\n",
    "    problem += x[i, i] == 0\n",
    "\n",
    "for i in range(len(distDict2)):\n",
    "    problem += pulp.lpSum(x[i, j] for j in range(len(distDict2))) == 1\n",
    "    problem += pulp.lpSum(x[j, i] for j in range(len(distDict2))) == 1"
   ]
  },
  {
   "cell_type": "code",
   "execution_count": 74,
   "metadata": {},
   "outputs": [],
   "source": [
    "for i in range(len(distDict2)):\n",
    "    for j in range(len(distDict2)):\n",
    "        if i != j and (i != 0 and j != 0):\n",
    "            problem += u[i] - u[j] <= len(distDict2) * (1 - x[i, j]) - 1"
   ]
  },
  {
   "cell_type": "code",
   "execution_count": 75,
   "metadata": {},
   "outputs": [
    {
     "data": {
      "text/plain": [
       "(1, 'Optimal', 2884.0)"
      ]
     },
     "execution_count": 75,
     "metadata": {},
     "output_type": "execute_result"
    }
   ],
   "source": [
    "status = problem.solve()\n",
    "status, LpStatus[status], value(problem.objective)"
   ]
  }
 ],
 "metadata": {
  "kernelspec": {
   "display_name": "Python 3",
   "language": "python",
   "name": "python3"
  },
  "language_info": {
   "codemirror_mode": {
    "name": "ipython",
    "version": 3
   },
   "file_extension": ".py",
   "mimetype": "text/x-python",
   "name": "python",
   "nbconvert_exporter": "python",
   "pygments_lexer": "ipython3",
   "version": "3.12.6"
  }
 },
 "nbformat": 4,
 "nbformat_minor": 2
}

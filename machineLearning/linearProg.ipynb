{
 "cells": [
  {
   "cell_type": "code",
   "execution_count": 587,
   "metadata": {},
   "outputs": [],
   "source": [
    "from pulp import *\n",
    "import pandas as pd\n",
    "import networkx as nx\n",
    "import pandas as pd\n",
    "import plotly.express as px\n",
    "import plotly.graph_objects as go\n",
    "#Heavily influenced by, need to make sure we understand the code so we can use it and not plagerize as a final product\n",
    "#https://www.kaggle.com/code/itoeiji/solving-tsp-and-vrp-by-mip-using-pulp"
   ]
  },
  {
   "cell_type": "code",
   "execution_count": null,
   "metadata": {},
   "outputs": [],
   "source": [
    "#Test Data\n",
    "distEnum = {\n",
    "    \"SFO\": { \"SFO\": 0, \"LAX\": 500, \"SJC\": 75, \"OAK\": 50},\n",
    "    \"LAX\": { \"SFO\": 500, \"LAX\": 0, \"SJC\": 280, \"OAK\": 800},\n",
    "    \"SJC\": { \"SFO\": 75, \"LAX\": 280, \"SJC\": 0, \"OAK\": 30},\n",
    "    \"OAK\": { \"SFO\": 50, \"LAX\": 800, \"SJC\": 30, \"OAK\": 0}\n",
    "}\n",
    "\n",
    "distDict = pd.DataFrame( \n",
    "    [\n",
    "    [0, 500, 75, 50],\n",
    "    [500, 0, 280, 800],\n",
    "    [75, 280, 0, 30],\n",
    "    [50, 800, 30, 0]\n",
    "    ])\n",
    "\n",
    "distDict2 = pd.DataFrame( \n",
    "    [\n",
    "    [0, 9999, 469, 857, 375],  #MSY\n",
    "    [9999, 0, 549, 1188, 464], #IND\n",
    "    [469, 549, 0, 639, 380],   #ATL\n",
    "    [857, 1188, 639, 0, 9999], #FLL\n",
    "    [375, 464, 380, 9999, 0]   #MEM\n",
    "    ])"
   ]
  },
  {
   "cell_type": "code",
   "execution_count": 588,
   "metadata": {},
   "outputs": [],
   "source": [
    "usRoutes = pd.read_csv('../data/usRoutesClean.csv')"
   ]
  },
  {
   "cell_type": "code",
   "execution_count": 589,
   "metadata": {},
   "outputs": [],
   "source": [
    "def findRoutes (dataSet, startAirport, endAirport, cutoff):\n",
    "    # Create the network so that we can get our additional routes that could be used to get from our start to finish\n",
    "    G = nx.from_pandas_edgelist(dataSet, 'SRCIATA', 'DESTINIATA', create_using=nx.DiGraph())\n",
    "\n",
    "    cutoffValue = 0     # Used to track what depth the while loop is at\n",
    "    noRoute = True      # Used to track if a route was found and the loop can be stopped early\n",
    "\n",
    "    while (cutoffValue <= cutoff) & (noRoute == True):  # Loop goes through and finds the shallowest depth that we can work with\n",
    "        cutoffValue = cutoffValue + 1\n",
    "        paths = nx.all_simple_paths(G, startAirport, endAirport, cutoff=cutoffValue)\n",
    "\n",
    "        for path in paths:\n",
    "            noRoute = False\n",
    "\n",
    "    if cutoffValue > cutoff:\n",
    "        return(pd.DataFrame())\n",
    "\n",
    "    paths = nx.all_simple_paths(G, startAirport, endAirport, cutoff=cutoffValue)\n",
    "\n",
    "    shortestTotalDistance = 0   # Used to track what the shortest total distance is for later comparison of ranking \n",
    "\n",
    "    for path in paths: \n",
    "        nodeLocation = 0\n",
    "        totalDistance = 0\n",
    "        potentialRoute = pd.DataFrame({\"SRC\": [], \"DESTIN\": [], \"METERS\": []})\n",
    "\n",
    "        for index in path:\n",
    "            # Calculate total distance of the route\n",
    "            currentIATA = index\n",
    "            if nodeLocation != 0:\n",
    "                distance = (dataSet.loc[(dataSet['SRCIATA'] == pastIATA) & (dataSet['DESTINIATA'] == currentIATA), 'meters'].values)[0]\n",
    "                totalDistance = totalDistance + distance\n",
    "                indexEntry = pd.DataFrame({\"SRC\": [pastIATA], \"DESTIN\": [currentIATA], \"METERS\": [distance]})\n",
    "                potentialRoute = pd.concat([potentialRoute, indexEntry])\n",
    "\n",
    "            nodeLocation = nodeLocation + 1\n",
    "            pastIATA = index\n",
    "        \n",
    "        if shortestTotalDistance == 0:                  # Takes the first value found a promotes it to the shortest\n",
    "            shortestTotalDistance = totalDistance\n",
    "            shortestRoute = potentialRoute.copy()\n",
    "        else:\n",
    "            if shortestTotalDistance > totalDistance:   # Compares the shortest with the current to see if it needs to replace\n",
    "                shortestTotalDistance = totalDistance\n",
    "                shortestRoute = potentialRoute.copy()\n",
    "\n",
    "    return(shortestRoute)"
   ]
  },
  {
   "cell_type": "code",
   "execution_count": 673,
   "metadata": {},
   "outputs": [],
   "source": [
    "def sampleRandomAirports(n):\n",
    "    sampleAirports = pd.Series(usRoutes['SRCIATA'].sample(n))\n",
    "    i = 0\n",
    "    while (i != len(sampleAirports)):\n",
    "        j = 0\n",
    "        while (j <= len(sampleAirports) - 1):\n",
    "            route = findRoutes(usRoutes, sampleAirports.iloc[i], sampleAirports.iloc[j], 50)\n",
    "            if (route.empty):\n",
    "                pass\n",
    "            elif (route['DESTIN'].iloc[0] != sampleAirports.iloc[j]):\n",
    "                newDestin = pd.Series(route['DESTIN'].iloc[0])\n",
    "                if(pd.concat([sampleAirports, newDestin]).is_unique):  \n",
    "                    sampleAirports = pd.concat([sampleAirports, newDestin]) \n",
    "            j = j + 1\n",
    "        i = i + 1\n",
    "    return sampleAirports"
   ]
  },
  {
   "cell_type": "code",
   "execution_count": 645,
   "metadata": {},
   "outputs": [],
   "source": [
    "def createDistanceMatrix(sampleAirports):\n",
    "    DistanceMatrix = []\n",
    "    i = 0\n",
    "    while (i != len(sampleAirports)):\n",
    "        DISTANCEList = []\n",
    "        j = 0\n",
    "        while (j <= len(sampleAirports) - 1):\n",
    "            route = findRoutes(usRoutes, sampleAirports.iloc[i], sampleAirports.iloc[j], 2)\n",
    "\n",
    "            if (sampleAirports.iloc[i] == sampleAirports.iloc[j]):\n",
    "                DISTANCEList.append(0)\n",
    "            elif ((route.empty) or (route['DESTIN'].iloc[0] != sampleAirports.iloc[j])):\n",
    "                DISTANCEList.append(99999)\n",
    "            elif (route['DESTIN'].iloc[0] != sampleAirports.iloc[j]):\n",
    "                DISTANCEList.append(99999)\n",
    "            else:\n",
    "                DISTANCEList.append((route['METERS'].iloc[0]/1609.344))\n",
    "            \n",
    "            j = j + 1\n",
    "        DistanceMatrix.append(DISTANCEList)\n",
    "        i = i + 1\n",
    "\n",
    "    DistanceMatrix = pd.DataFrame(DistanceMatrix, columns = sampleAirports, index = sampleAirports)\n",
    "    DistanceMatrix = DistanceMatrix.fillna(0)\n",
    "    DistanceMatrix = DistanceMatrix.round(0)\n",
    "    DistanceMatrix = DistanceMatrix.astype(int)\n",
    "    return DistanceMatrix"
   ]
  },
  {
   "cell_type": "code",
   "execution_count": 674,
   "metadata": {},
   "outputs": [
    {
     "name": "stdout",
     "output_type": "stream",
     "text": [
      "       LGA    JFK    BWI    MDT    DFW    RHI    CLT    SDF    DAY    LAS  \\\n",
      "LGA      0  99999  99999  99999   1583  99999    646    759    621  99999   \n",
      "JFK  99999      0    209  99999   1584  99999    642    772  99999   2553   \n",
      "BWI  99999    209      0  99999   1381  99999    436    611    475   2421   \n",
      "MDT  99999  99999  99999      0  99999  99999    491  99999  99999  99999   \n",
      "DFW   1584   1585   1381  99999      0  99999   1040    851    983   1198   \n",
      "RHI  99999  99999  99999  99999  99999      0  99999  99999  99999  99999   \n",
      "CLT    646    642    435    491   1039  99999      0    476    474   2198   \n",
      "SDF    761    773    610  99999    852  99999    476      0  99999   1873   \n",
      "DAY    623  99999    474  99999    981  99999    472  99999      0  99999   \n",
      "LAS  99999   2554   2419  99999   1198  99999   2198   1874  99999      0   \n",
      "PHL    120    115    100    112   1476  99999    533    686    548   2493   \n",
      "MSP   1210   1220   1112  99999    975    242   1168    713    701   1665   \n",
      "CLE    475    485    376  99999   1191  99999    521    342    200   2077   \n",
      "IAD    268    262  99999    121   1334  99999    417    570    464   2441   \n",
      "ORD    818    828    719    681    926  99999    778    323    311   1753   \n",
      "DEN   1780   1791   1654   1626    756  99999   1556   1109   1186    780   \n",
      "DTW    614    624    515    478   1152  99999    616    354    191   2007   \n",
      "\n",
      "       PHL    MSP    CLE    IAD    ORD    DEN    DTW  \n",
      "LGA    119   1206    475    263    816   1778    610  \n",
      "JFK    114   1216    486    259    826   1789    621  \n",
      "BWI     99   1108    378  99999    718   1653    513  \n",
      "MDT    110  99999  99999    121    681   1623    475  \n",
      "DFW   1474    975   1191   1333    928    754   1144  \n",
      "RHI  99999    237  99999  99999  99999  99999  99999  \n",
      "CLT    531   1164    522    374    780   1554    618  \n",
      "SDF    683    707    344    569    323   1106    352  \n",
      "DAY    545    695    203    462    311   1182    191  \n",
      "LAS   2490   1665   2076   2440   1754    778   2006  \n",
      "PHL      0   1174    443    150    784   1726    578  \n",
      "MSP   1174      0    743   1100    395    901    678  \n",
      "CLE    438    740      0    364    350   1313    144  \n",
      "IAD    153   1097    367      0    707   1642    502  \n",
      "ORD    781    393    350    707      0    989    288  \n",
      "DEN   1726    901   1313   1642    991      0   1243  \n",
      "DTW    578    671    146    503    281   1243      0  \n"
     ]
    }
   ],
   "source": [
    "sampleAirports = sampleRandomAirports(10)\n",
    "distMatrix = createDistanceMatrix(sampleAirports)\n",
    "print(distMatrix)"
   ]
  },
  {
   "cell_type": "code",
   "execution_count": 675,
   "metadata": {},
   "outputs": [],
   "source": [
    "distMatrixHeaders = distMatrix\n",
    "distMatrix = distMatrix.reset_index(drop=True)\n",
    "\n",
    "columns = []\n",
    "for i in range(len(distMatrix)):\n",
    "    columns.append(i)\n",
    "\n",
    "distMatrix.columns = columns"
   ]
  },
  {
   "cell_type": "code",
   "execution_count": 676,
   "metadata": {},
   "outputs": [],
   "source": [
    "problem = LpProblem(\"LP_Opt_AC\", LpMinimize)\n",
    "\n",
    "coordList = []\n",
    "for i in range(len(distMatrix)):\n",
    "    for j in range(len(distMatrix)):\n",
    "        coordList.append((i,j))\n",
    "\n",
    "x = LpVariable.dicts('x', coordList, lowBound=0, upBound=1, cat='Binary')\n",
    "\n",
    "problem += pulp.lpSum(distMatrix[i][j] * x[i, j] for i in range(len(distMatrix)) for j in range(len(distMatrix)))\n",
    "\n",
    "indexes = []\n",
    "for i in range(len(distMatrix)):\n",
    "    indexes.append(i)\n",
    "\n",
    "u = pulp.LpVariable.dicts('u', indexes, lowBound=1, upBound=9999, cat='Integer')\n",
    "\n",
    "for i in range(len(distMatrix)):\n",
    "    problem += x[i, i] == 0\n",
    "\n",
    "for i in range(len(distMatrix)):\n",
    "    problem += pulp.lpSum(x[i, j] for j in range(len(distMatrix))) == 1\n",
    "    problem += pulp.lpSum(x[j, i] for j in range(len(distMatrix))) == 1\n",
    "\n",
    "for i in range(len(distMatrix)):\n",
    "    for j in range(len(distMatrix)):\n",
    "        if i != j and (i != 0 and j != 0):\n",
    "            problem += u[i] - u[j] <= len(distMatrix) * (1 - x[i, j]) - 1"
   ]
  },
  {
   "cell_type": "code",
   "execution_count": 677,
   "metadata": {},
   "outputs": [
    {
     "data": {
      "text/plain": [
       "(1, 'Optimal', 105835.0)"
      ]
     },
     "execution_count": 677,
     "metadata": {},
     "output_type": "execute_result"
    }
   ],
   "source": [
    "status = problem.solve()\n",
    "status, LpStatus[status], value(problem.objective)"
   ]
  },
  {
   "cell_type": "code",
   "execution_count": 678,
   "metadata": {},
   "outputs": [],
   "source": [
    "airports_csv = pd.read_csv('../data/openFlightsRaw/airports.csv')\n",
    "\n",
    "sampleAirportCoords = airports_csv[airports_csv['IATA'].isin(sampleAirports)]"
   ]
  },
  {
   "cell_type": "code",
   "execution_count": 679,
   "metadata": {},
   "outputs": [
    {
     "data": {
      "application/vnd.plotly.v1+json": {
       "config": {
        "plotlyServerURL": "https://plot.ly"
       },
       "data": [
        {
         "lat": [
          41.4117012024,
          40.1935005188,
          39.90240097045898,
          42.212398529052734,
          32.896801,
          40.77719879,
          38.94449997,
          39.861698150635,
          39.87189865112305,
          40.63980103,
          41.9786,
          39.1754,
          44.882,
          35.2140007019043,
          36.08010101,
          38.1744,
          45.63119888305664
         ],
         "lon": [
          -81.8498001099,
          -76.7633972168,
          -84.21939849853516,
          -83.35340118408203,
          -97.038002,
          -73.87259674,
          -77.45580292,
          -104.672996521,
          -75.24109649658203,
          -73.77890015,
          -87.9048,
          -76.668297,
          -93.221802,
          -80.94309997558594,
          -115.1520004,
          -85.736,
          -89.46749877929688
         ],
         "marker": {
          "color": "black",
          "size": 7
         },
         "mode": "markers",
         "name": "Has Outgoing Traffic",
         "text": [
          "Cleveland Hopkins International Airport",
          "Harrisburg International Airport",
          "James M Cox Dayton International Airport",
          "Detroit Metropolitan Wayne County Airport",
          "Dallas Fort Worth International Airport",
          "La Guardia Airport",
          "Washington Dulles International Airport",
          "Denver International Airport",
          "Philadelphia International Airport",
          "John F Kennedy International Airport",
          "Chicago O'Hare International Airport",
          "Baltimore/Washington International Thurgood Marshall Airport",
          "Minneapolis-St Paul International/Wold-Chamberlain Airport",
          "Charlotte Douglas International Airport",
          "McCarran International Airport",
          "Louisville International Standiford Field",
          "Rhinelander Oneida County Airport"
         ],
         "type": "scattergeo"
        }
       ],
       "layout": {
        "geo": {
         "landcolor": "lightgray",
         "scope": "usa",
         "showland": true
        },
        "showlegend": false,
        "template": {
         "data": {
          "bar": [
           {
            "error_x": {
             "color": "#2a3f5f"
            },
            "error_y": {
             "color": "#2a3f5f"
            },
            "marker": {
             "line": {
              "color": "#E5ECF6",
              "width": 0.5
             },
             "pattern": {
              "fillmode": "overlay",
              "size": 10,
              "solidity": 0.2
             }
            },
            "type": "bar"
           }
          ],
          "barpolar": [
           {
            "marker": {
             "line": {
              "color": "#E5ECF6",
              "width": 0.5
             },
             "pattern": {
              "fillmode": "overlay",
              "size": 10,
              "solidity": 0.2
             }
            },
            "type": "barpolar"
           }
          ],
          "carpet": [
           {
            "aaxis": {
             "endlinecolor": "#2a3f5f",
             "gridcolor": "white",
             "linecolor": "white",
             "minorgridcolor": "white",
             "startlinecolor": "#2a3f5f"
            },
            "baxis": {
             "endlinecolor": "#2a3f5f",
             "gridcolor": "white",
             "linecolor": "white",
             "minorgridcolor": "white",
             "startlinecolor": "#2a3f5f"
            },
            "type": "carpet"
           }
          ],
          "choropleth": [
           {
            "colorbar": {
             "outlinewidth": 0,
             "ticks": ""
            },
            "type": "choropleth"
           }
          ],
          "contour": [
           {
            "colorbar": {
             "outlinewidth": 0,
             "ticks": ""
            },
            "colorscale": [
             [
              0,
              "#0d0887"
             ],
             [
              0.1111111111111111,
              "#46039f"
             ],
             [
              0.2222222222222222,
              "#7201a8"
             ],
             [
              0.3333333333333333,
              "#9c179e"
             ],
             [
              0.4444444444444444,
              "#bd3786"
             ],
             [
              0.5555555555555556,
              "#d8576b"
             ],
             [
              0.6666666666666666,
              "#ed7953"
             ],
             [
              0.7777777777777778,
              "#fb9f3a"
             ],
             [
              0.8888888888888888,
              "#fdca26"
             ],
             [
              1,
              "#f0f921"
             ]
            ],
            "type": "contour"
           }
          ],
          "contourcarpet": [
           {
            "colorbar": {
             "outlinewidth": 0,
             "ticks": ""
            },
            "type": "contourcarpet"
           }
          ],
          "heatmap": [
           {
            "colorbar": {
             "outlinewidth": 0,
             "ticks": ""
            },
            "colorscale": [
             [
              0,
              "#0d0887"
             ],
             [
              0.1111111111111111,
              "#46039f"
             ],
             [
              0.2222222222222222,
              "#7201a8"
             ],
             [
              0.3333333333333333,
              "#9c179e"
             ],
             [
              0.4444444444444444,
              "#bd3786"
             ],
             [
              0.5555555555555556,
              "#d8576b"
             ],
             [
              0.6666666666666666,
              "#ed7953"
             ],
             [
              0.7777777777777778,
              "#fb9f3a"
             ],
             [
              0.8888888888888888,
              "#fdca26"
             ],
             [
              1,
              "#f0f921"
             ]
            ],
            "type": "heatmap"
           }
          ],
          "histogram": [
           {
            "marker": {
             "pattern": {
              "fillmode": "overlay",
              "size": 10,
              "solidity": 0.2
             }
            },
            "type": "histogram"
           }
          ],
          "histogram2d": [
           {
            "colorbar": {
             "outlinewidth": 0,
             "ticks": ""
            },
            "colorscale": [
             [
              0,
              "#0d0887"
             ],
             [
              0.1111111111111111,
              "#46039f"
             ],
             [
              0.2222222222222222,
              "#7201a8"
             ],
             [
              0.3333333333333333,
              "#9c179e"
             ],
             [
              0.4444444444444444,
              "#bd3786"
             ],
             [
              0.5555555555555556,
              "#d8576b"
             ],
             [
              0.6666666666666666,
              "#ed7953"
             ],
             [
              0.7777777777777778,
              "#fb9f3a"
             ],
             [
              0.8888888888888888,
              "#fdca26"
             ],
             [
              1,
              "#f0f921"
             ]
            ],
            "type": "histogram2d"
           }
          ],
          "histogram2dcontour": [
           {
            "colorbar": {
             "outlinewidth": 0,
             "ticks": ""
            },
            "colorscale": [
             [
              0,
              "#0d0887"
             ],
             [
              0.1111111111111111,
              "#46039f"
             ],
             [
              0.2222222222222222,
              "#7201a8"
             ],
             [
              0.3333333333333333,
              "#9c179e"
             ],
             [
              0.4444444444444444,
              "#bd3786"
             ],
             [
              0.5555555555555556,
              "#d8576b"
             ],
             [
              0.6666666666666666,
              "#ed7953"
             ],
             [
              0.7777777777777778,
              "#fb9f3a"
             ],
             [
              0.8888888888888888,
              "#fdca26"
             ],
             [
              1,
              "#f0f921"
             ]
            ],
            "type": "histogram2dcontour"
           }
          ],
          "mesh3d": [
           {
            "colorbar": {
             "outlinewidth": 0,
             "ticks": ""
            },
            "type": "mesh3d"
           }
          ],
          "parcoords": [
           {
            "line": {
             "colorbar": {
              "outlinewidth": 0,
              "ticks": ""
             }
            },
            "type": "parcoords"
           }
          ],
          "pie": [
           {
            "automargin": true,
            "type": "pie"
           }
          ],
          "scatter": [
           {
            "fillpattern": {
             "fillmode": "overlay",
             "size": 10,
             "solidity": 0.2
            },
            "type": "scatter"
           }
          ],
          "scatter3d": [
           {
            "line": {
             "colorbar": {
              "outlinewidth": 0,
              "ticks": ""
             }
            },
            "marker": {
             "colorbar": {
              "outlinewidth": 0,
              "ticks": ""
             }
            },
            "type": "scatter3d"
           }
          ],
          "scattercarpet": [
           {
            "marker": {
             "colorbar": {
              "outlinewidth": 0,
              "ticks": ""
             }
            },
            "type": "scattercarpet"
           }
          ],
          "scattergeo": [
           {
            "marker": {
             "colorbar": {
              "outlinewidth": 0,
              "ticks": ""
             }
            },
            "type": "scattergeo"
           }
          ],
          "scattergl": [
           {
            "marker": {
             "colorbar": {
              "outlinewidth": 0,
              "ticks": ""
             }
            },
            "type": "scattergl"
           }
          ],
          "scattermap": [
           {
            "marker": {
             "colorbar": {
              "outlinewidth": 0,
              "ticks": ""
             }
            },
            "type": "scattermap"
           }
          ],
          "scattermapbox": [
           {
            "marker": {
             "colorbar": {
              "outlinewidth": 0,
              "ticks": ""
             }
            },
            "type": "scattermapbox"
           }
          ],
          "scatterpolar": [
           {
            "marker": {
             "colorbar": {
              "outlinewidth": 0,
              "ticks": ""
             }
            },
            "type": "scatterpolar"
           }
          ],
          "scatterpolargl": [
           {
            "marker": {
             "colorbar": {
              "outlinewidth": 0,
              "ticks": ""
             }
            },
            "type": "scatterpolargl"
           }
          ],
          "scatterternary": [
           {
            "marker": {
             "colorbar": {
              "outlinewidth": 0,
              "ticks": ""
             }
            },
            "type": "scatterternary"
           }
          ],
          "surface": [
           {
            "colorbar": {
             "outlinewidth": 0,
             "ticks": ""
            },
            "colorscale": [
             [
              0,
              "#0d0887"
             ],
             [
              0.1111111111111111,
              "#46039f"
             ],
             [
              0.2222222222222222,
              "#7201a8"
             ],
             [
              0.3333333333333333,
              "#9c179e"
             ],
             [
              0.4444444444444444,
              "#bd3786"
             ],
             [
              0.5555555555555556,
              "#d8576b"
             ],
             [
              0.6666666666666666,
              "#ed7953"
             ],
             [
              0.7777777777777778,
              "#fb9f3a"
             ],
             [
              0.8888888888888888,
              "#fdca26"
             ],
             [
              1,
              "#f0f921"
             ]
            ],
            "type": "surface"
           }
          ],
          "table": [
           {
            "cells": {
             "fill": {
              "color": "#EBF0F8"
             },
             "line": {
              "color": "white"
             }
            },
            "header": {
             "fill": {
              "color": "#C8D4E3"
             },
             "line": {
              "color": "white"
             }
            },
            "type": "table"
           }
          ]
         },
         "layout": {
          "annotationdefaults": {
           "arrowcolor": "#2a3f5f",
           "arrowhead": 0,
           "arrowwidth": 1
          },
          "autotypenumbers": "strict",
          "coloraxis": {
           "colorbar": {
            "outlinewidth": 0,
            "ticks": ""
           }
          },
          "colorscale": {
           "diverging": [
            [
             0,
             "#8e0152"
            ],
            [
             0.1,
             "#c51b7d"
            ],
            [
             0.2,
             "#de77ae"
            ],
            [
             0.3,
             "#f1b6da"
            ],
            [
             0.4,
             "#fde0ef"
            ],
            [
             0.5,
             "#f7f7f7"
            ],
            [
             0.6,
             "#e6f5d0"
            ],
            [
             0.7,
             "#b8e186"
            ],
            [
             0.8,
             "#7fbc41"
            ],
            [
             0.9,
             "#4d9221"
            ],
            [
             1,
             "#276419"
            ]
           ],
           "sequential": [
            [
             0,
             "#0d0887"
            ],
            [
             0.1111111111111111,
             "#46039f"
            ],
            [
             0.2222222222222222,
             "#7201a8"
            ],
            [
             0.3333333333333333,
             "#9c179e"
            ],
            [
             0.4444444444444444,
             "#bd3786"
            ],
            [
             0.5555555555555556,
             "#d8576b"
            ],
            [
             0.6666666666666666,
             "#ed7953"
            ],
            [
             0.7777777777777778,
             "#fb9f3a"
            ],
            [
             0.8888888888888888,
             "#fdca26"
            ],
            [
             1,
             "#f0f921"
            ]
           ],
           "sequentialminus": [
            [
             0,
             "#0d0887"
            ],
            [
             0.1111111111111111,
             "#46039f"
            ],
            [
             0.2222222222222222,
             "#7201a8"
            ],
            [
             0.3333333333333333,
             "#9c179e"
            ],
            [
             0.4444444444444444,
             "#bd3786"
            ],
            [
             0.5555555555555556,
             "#d8576b"
            ],
            [
             0.6666666666666666,
             "#ed7953"
            ],
            [
             0.7777777777777778,
             "#fb9f3a"
            ],
            [
             0.8888888888888888,
             "#fdca26"
            ],
            [
             1,
             "#f0f921"
            ]
           ]
          },
          "colorway": [
           "#636efa",
           "#EF553B",
           "#00cc96",
           "#ab63fa",
           "#FFA15A",
           "#19d3f3",
           "#FF6692",
           "#B6E880",
           "#FF97FF",
           "#FECB52"
          ],
          "font": {
           "color": "#2a3f5f"
          },
          "geo": {
           "bgcolor": "white",
           "lakecolor": "white",
           "landcolor": "#E5ECF6",
           "showlakes": true,
           "showland": true,
           "subunitcolor": "white"
          },
          "hoverlabel": {
           "align": "left"
          },
          "hovermode": "closest",
          "mapbox": {
           "style": "light"
          },
          "paper_bgcolor": "white",
          "plot_bgcolor": "#E5ECF6",
          "polar": {
           "angularaxis": {
            "gridcolor": "white",
            "linecolor": "white",
            "ticks": ""
           },
           "bgcolor": "#E5ECF6",
           "radialaxis": {
            "gridcolor": "white",
            "linecolor": "white",
            "ticks": ""
           }
          },
          "scene": {
           "xaxis": {
            "backgroundcolor": "#E5ECF6",
            "gridcolor": "white",
            "gridwidth": 2,
            "linecolor": "white",
            "showbackground": true,
            "ticks": "",
            "zerolinecolor": "white"
           },
           "yaxis": {
            "backgroundcolor": "#E5ECF6",
            "gridcolor": "white",
            "gridwidth": 2,
            "linecolor": "white",
            "showbackground": true,
            "ticks": "",
            "zerolinecolor": "white"
           },
           "zaxis": {
            "backgroundcolor": "#E5ECF6",
            "gridcolor": "white",
            "gridwidth": 2,
            "linecolor": "white",
            "showbackground": true,
            "ticks": "",
            "zerolinecolor": "white"
           }
          },
          "shapedefaults": {
           "line": {
            "color": "#2a3f5f"
           }
          },
          "ternary": {
           "aaxis": {
            "gridcolor": "white",
            "linecolor": "white",
            "ticks": ""
           },
           "baxis": {
            "gridcolor": "white",
            "linecolor": "white",
            "ticks": ""
           },
           "bgcolor": "#E5ECF6",
           "caxis": {
            "gridcolor": "white",
            "linecolor": "white",
            "ticks": ""
           }
          },
          "title": {
           "x": 0.05
          },
          "xaxis": {
           "automargin": true,
           "gridcolor": "white",
           "linecolor": "white",
           "ticks": "",
           "title": {
            "standoff": 15
           },
           "zerolinecolor": "white",
           "zerolinewidth": 2
          },
          "yaxis": {
           "automargin": true,
           "gridcolor": "white",
           "linecolor": "white",
           "ticks": "",
           "title": {
            "standoff": 15
           },
           "zerolinecolor": "white",
           "zerolinewidth": 2
          }
         }
        },
        "title": {
         "text": "Airports from Sample",
         "x": 0.5,
         "xanchor": "center"
        }
       }
      }
     },
     "metadata": {},
     "output_type": "display_data"
    }
   ],
   "source": [
    "fig = go.Figure(data=go.Scattergeo(\n",
    "    name = \"Has Outgoing Traffic\",\n",
    "    lat = sampleAirportCoords['LAT'].tolist(),\n",
    "    lon = sampleAirportCoords['LONG'].tolist(), \n",
    "    text = sampleAirportCoords['NAME'].tolist(),\n",
    "    mode = 'markers',\n",
    "    marker = dict(\n",
    "        size = 7,\n",
    "        color = 'black'\n",
    "    )\n",
    "))\n",
    "\n",
    "fig.update_layout(\n",
    "    title = {\n",
    "        'text': \"Airports from Sample\",\n",
    "        'x': 0.5,\n",
    "        'xanchor': 'center'\n",
    "    },\n",
    "    showlegend=False,\n",
    "    geo=dict(\n",
    "        scope = 'usa',\n",
    "        showland = True,\n",
    "        landcolor = 'lightgray',\n",
    "    )\n",
    ")\n",
    "\n",
    "fig.show()"
   ]
  },
  {
   "cell_type": "code",
   "execution_count": 680,
   "metadata": {},
   "outputs": [
    {
     "data": {
      "text/html": [
       "<div>\n",
       "<style scoped>\n",
       "    .dataframe tbody tr th:only-of-type {\n",
       "        vertical-align: middle;\n",
       "    }\n",
       "\n",
       "    .dataframe tbody tr th {\n",
       "        vertical-align: top;\n",
       "    }\n",
       "\n",
       "    .dataframe thead th {\n",
       "        text-align: right;\n",
       "    }\n",
       "</style>\n",
       "<table border=\"1\" class=\"dataframe\">\n",
       "  <thead>\n",
       "    <tr style=\"text-align: right;\">\n",
       "      <th></th>\n",
       "      <th>SRCLAT</th>\n",
       "      <th>SRCLONG</th>\n",
       "      <th>DESTINLAT</th>\n",
       "      <th>DESTINLONG</th>\n",
       "    </tr>\n",
       "  </thead>\n",
       "  <tbody>\n",
       "    <tr>\n",
       "      <th>0</th>\n",
       "      <td>40.777199</td>\n",
       "      <td>-73.872597</td>\n",
       "      <td>39.871899</td>\n",
       "      <td>-75.241096</td>\n",
       "    </tr>\n",
       "    <tr>\n",
       "      <th>1</th>\n",
       "      <td>40.639801</td>\n",
       "      <td>-73.778900</td>\n",
       "      <td>39.175400</td>\n",
       "      <td>-76.668297</td>\n",
       "    </tr>\n",
       "    <tr>\n",
       "      <th>2</th>\n",
       "      <td>39.175400</td>\n",
       "      <td>-76.668297</td>\n",
       "      <td>41.411701</td>\n",
       "      <td>-81.849800</td>\n",
       "    </tr>\n",
       "    <tr>\n",
       "      <th>3</th>\n",
       "      <td>40.193501</td>\n",
       "      <td>-76.763397</td>\n",
       "      <td>38.944500</td>\n",
       "      <td>-77.455803</td>\n",
       "    </tr>\n",
       "    <tr>\n",
       "      <th>4</th>\n",
       "      <td>32.896801</td>\n",
       "      <td>-97.038002</td>\n",
       "      <td>38.174400</td>\n",
       "      <td>-85.736000</td>\n",
       "    </tr>\n",
       "    <tr>\n",
       "      <th>5</th>\n",
       "      <td>45.631199</td>\n",
       "      <td>-89.467499</td>\n",
       "      <td>36.080101</td>\n",
       "      <td>-115.152000</td>\n",
       "    </tr>\n",
       "    <tr>\n",
       "      <th>6</th>\n",
       "      <td>35.214001</td>\n",
       "      <td>-80.943100</td>\n",
       "      <td>40.193501</td>\n",
       "      <td>-76.763397</td>\n",
       "    </tr>\n",
       "    <tr>\n",
       "      <th>7</th>\n",
       "      <td>38.174400</td>\n",
       "      <td>-85.736000</td>\n",
       "      <td>35.214001</td>\n",
       "      <td>-80.943100</td>\n",
       "    </tr>\n",
       "    <tr>\n",
       "      <th>8</th>\n",
       "      <td>39.902401</td>\n",
       "      <td>-84.219398</td>\n",
       "      <td>41.978600</td>\n",
       "      <td>-87.904800</td>\n",
       "    </tr>\n",
       "    <tr>\n",
       "      <th>9</th>\n",
       "      <td>36.080101</td>\n",
       "      <td>-115.152000</td>\n",
       "      <td>39.861698</td>\n",
       "      <td>-104.672997</td>\n",
       "    </tr>\n",
       "    <tr>\n",
       "      <th>10</th>\n",
       "      <td>39.871899</td>\n",
       "      <td>-75.241096</td>\n",
       "      <td>40.639801</td>\n",
       "      <td>-73.778900</td>\n",
       "    </tr>\n",
       "    <tr>\n",
       "      <th>11</th>\n",
       "      <td>44.882000</td>\n",
       "      <td>-93.221802</td>\n",
       "      <td>45.631199</td>\n",
       "      <td>-89.467499</td>\n",
       "    </tr>\n",
       "    <tr>\n",
       "      <th>12</th>\n",
       "      <td>41.411701</td>\n",
       "      <td>-81.849800</td>\n",
       "      <td>42.212399</td>\n",
       "      <td>-83.353401</td>\n",
       "    </tr>\n",
       "    <tr>\n",
       "      <th>13</th>\n",
       "      <td>38.944500</td>\n",
       "      <td>-77.455803</td>\n",
       "      <td>40.777199</td>\n",
       "      <td>-73.872597</td>\n",
       "    </tr>\n",
       "    <tr>\n",
       "      <th>14</th>\n",
       "      <td>41.978600</td>\n",
       "      <td>-87.904800</td>\n",
       "      <td>44.882000</td>\n",
       "      <td>-93.221802</td>\n",
       "    </tr>\n",
       "    <tr>\n",
       "      <th>15</th>\n",
       "      <td>39.861698</td>\n",
       "      <td>-104.672997</td>\n",
       "      <td>32.896801</td>\n",
       "      <td>-97.038002</td>\n",
       "    </tr>\n",
       "    <tr>\n",
       "      <th>16</th>\n",
       "      <td>42.212399</td>\n",
       "      <td>-83.353401</td>\n",
       "      <td>39.902401</td>\n",
       "      <td>-84.219398</td>\n",
       "    </tr>\n",
       "  </tbody>\n",
       "</table>\n",
       "</div>"
      ],
      "text/plain": [
       "       SRCLAT     SRCLONG  DESTINLAT  DESTINLONG\n",
       "0   40.777199  -73.872597  39.871899  -75.241096\n",
       "1   40.639801  -73.778900  39.175400  -76.668297\n",
       "2   39.175400  -76.668297  41.411701  -81.849800\n",
       "3   40.193501  -76.763397  38.944500  -77.455803\n",
       "4   32.896801  -97.038002  38.174400  -85.736000\n",
       "5   45.631199  -89.467499  36.080101 -115.152000\n",
       "6   35.214001  -80.943100  40.193501  -76.763397\n",
       "7   38.174400  -85.736000  35.214001  -80.943100\n",
       "8   39.902401  -84.219398  41.978600  -87.904800\n",
       "9   36.080101 -115.152000  39.861698 -104.672997\n",
       "10  39.871899  -75.241096  40.639801  -73.778900\n",
       "11  44.882000  -93.221802  45.631199  -89.467499\n",
       "12  41.411701  -81.849800  42.212399  -83.353401\n",
       "13  38.944500  -77.455803  40.777199  -73.872597\n",
       "14  41.978600  -87.904800  44.882000  -93.221802\n",
       "15  39.861698 -104.672997  32.896801  -97.038002\n",
       "16  42.212399  -83.353401  39.902401  -84.219398"
      ]
     },
     "execution_count": 680,
     "metadata": {},
     "output_type": "execute_result"
    }
   ],
   "source": [
    "valMatrix = []\n",
    "for i in range(len(distMatrix)):\n",
    "    valList = []\n",
    "    for j in range(len(distMatrix)):\n",
    "        valList.append(int(pulp.value(x[i, j])))\n",
    "    valMatrix.append(valList)\n",
    "\n",
    "valMatrix = pd.DataFrame(valMatrix, columns = distMatrixHeaders.columns, index = distMatrixHeaders.index)\n",
    "    \n",
    "path = []\n",
    "for index, row in valMatrix.iterrows():\n",
    "    matchingCols = row[row == 1].index.tolist()\n",
    "    for col in matchingCols:\n",
    "        path.append((index, col))\n",
    "    \n",
    "srcLatList = []\n",
    "srcLongList = []\n",
    "destinLatList = []\n",
    "destinLongList = []\n",
    "for i in range(len(path)):\n",
    "    src = airports_csv[airports_csv['IATA'] == path[i][0]]\n",
    "    src = src.reset_index(drop=True)\n",
    "    destin = airports_csv[airports_csv['IATA'] == path[i][1]]\n",
    "    destin = destin.reset_index(drop=True)\n",
    "    srcLatList.append(src.at[0, 'LAT'])\n",
    "    srcLongList.append(src.at[0, 'LONG'])\n",
    "    destinLatList.append(destin.at[0, 'LAT'])\n",
    "    destinLongList.append(destin.at[0, 'LONG'])\n",
    "\n",
    "pathCoords = pd.DataFrame({\n",
    "    'SRCLAT': srcLatList,\n",
    "    'SRCLONG': srcLongList,\n",
    "    'DESTINLAT': destinLatList,\n",
    "    'DESTINLONG': destinLongList\n",
    "})\n",
    "pathCoords"
   ]
  },
  {
   "cell_type": "code",
   "execution_count": 681,
   "metadata": {},
   "outputs": [
    {
     "data": {
      "application/vnd.plotly.v1+json": {
       "config": {
        "plotlyServerURL": "https://plot.ly"
       },
       "data": [
        {
         "lat": [
          41.4117012024,
          40.1935005188,
          39.90240097045898,
          42.212398529052734,
          32.896801,
          40.77719879,
          38.94449997,
          39.861698150635,
          39.87189865112305,
          40.63980103,
          41.9786,
          39.1754,
          44.882,
          35.2140007019043,
          36.08010101,
          38.1744,
          45.63119888305664
         ],
         "lon": [
          -81.8498001099,
          -76.7633972168,
          -84.21939849853516,
          -83.35340118408203,
          -97.038002,
          -73.87259674,
          -77.45580292,
          -104.672996521,
          -75.24109649658203,
          -73.77890015,
          -87.9048,
          -76.668297,
          -93.221802,
          -80.94309997558594,
          -115.1520004,
          -85.736,
          -89.46749877929688
         ],
         "marker": {
          "color": "black",
          "size": 7
         },
         "mode": "markers+text",
         "text": [
          "CLE",
          "MDT",
          "DAY",
          "DTW",
          "DFW",
          "LGA",
          "IAD",
          "DEN",
          "PHL",
          "JFK",
          "ORD",
          "BWI",
          "MSP",
          "CLT",
          "LAS",
          "SDF",
          "RHI"
         ],
         "textfont": {
          "size": 8,
          "weight": "bold"
         },
         "textposition": "top center",
         "type": "scattergeo"
        },
        {
         "lat": [
          40.77719879,
          39.87189865112305
         ],
         "lon": [
          -73.87259674,
          -75.24109649658203
         ],
         "marker": {
          "color": "red",
          "size": 10
         },
         "mode": "lines",
         "opacity": 0.5,
         "type": "scattergeo"
        },
        {
         "lat": [
          40.63980103,
          39.1754
         ],
         "lon": [
          -73.77890015,
          -76.668297
         ],
         "marker": {
          "color": "red",
          "size": 10
         },
         "mode": "lines",
         "opacity": 0.5,
         "type": "scattergeo"
        },
        {
         "lat": [
          39.1754,
          41.4117012024
         ],
         "lon": [
          -76.668297,
          -81.8498001099
         ],
         "marker": {
          "color": "red",
          "size": 10
         },
         "mode": "lines",
         "opacity": 0.5,
         "type": "scattergeo"
        },
        {
         "lat": [
          40.1935005188,
          38.94449997
         ],
         "lon": [
          -76.7633972168,
          -77.45580292
         ],
         "marker": {
          "color": "red",
          "size": 10
         },
         "mode": "lines",
         "opacity": 0.5,
         "type": "scattergeo"
        },
        {
         "lat": [
          32.896801,
          38.1744
         ],
         "lon": [
          -97.038002,
          -85.736
         ],
         "marker": {
          "color": "red",
          "size": 10
         },
         "mode": "lines",
         "opacity": 0.5,
         "type": "scattergeo"
        },
        {
         "lat": [
          45.63119888305664,
          36.08010101
         ],
         "lon": [
          -89.46749877929688,
          -115.1520004
         ],
         "marker": {
          "color": "red",
          "size": 10
         },
         "mode": "lines",
         "opacity": 0.5,
         "type": "scattergeo"
        },
        {
         "lat": [
          35.2140007019043,
          40.1935005188
         ],
         "lon": [
          -80.94309997558594,
          -76.7633972168
         ],
         "marker": {
          "color": "red",
          "size": 10
         },
         "mode": "lines",
         "opacity": 0.5,
         "type": "scattergeo"
        },
        {
         "lat": [
          38.1744,
          35.2140007019043
         ],
         "lon": [
          -85.736,
          -80.94309997558594
         ],
         "marker": {
          "color": "red",
          "size": 10
         },
         "mode": "lines",
         "opacity": 0.5,
         "type": "scattergeo"
        },
        {
         "lat": [
          39.90240097045898,
          41.9786
         ],
         "lon": [
          -84.21939849853516,
          -87.9048
         ],
         "marker": {
          "color": "red",
          "size": 10
         },
         "mode": "lines",
         "opacity": 0.5,
         "type": "scattergeo"
        },
        {
         "lat": [
          36.08010101,
          39.861698150635
         ],
         "lon": [
          -115.1520004,
          -104.672996521
         ],
         "marker": {
          "color": "red",
          "size": 10
         },
         "mode": "lines",
         "opacity": 0.5,
         "type": "scattergeo"
        },
        {
         "lat": [
          39.87189865112305,
          40.63980103
         ],
         "lon": [
          -75.24109649658203,
          -73.77890015
         ],
         "marker": {
          "color": "red",
          "size": 10
         },
         "mode": "lines",
         "opacity": 0.5,
         "type": "scattergeo"
        },
        {
         "lat": [
          44.882,
          45.63119888305664
         ],
         "lon": [
          -93.221802,
          -89.46749877929688
         ],
         "marker": {
          "color": "red",
          "size": 10
         },
         "mode": "lines",
         "opacity": 0.5,
         "type": "scattergeo"
        },
        {
         "lat": [
          41.4117012024,
          42.212398529052734
         ],
         "lon": [
          -81.8498001099,
          -83.35340118408203
         ],
         "marker": {
          "color": "red",
          "size": 10
         },
         "mode": "lines",
         "opacity": 0.5,
         "type": "scattergeo"
        },
        {
         "lat": [
          38.94449997,
          40.77719879
         ],
         "lon": [
          -77.45580292,
          -73.87259674
         ],
         "marker": {
          "color": "red",
          "size": 10
         },
         "mode": "lines",
         "opacity": 0.5,
         "type": "scattergeo"
        },
        {
         "lat": [
          41.9786,
          44.882
         ],
         "lon": [
          -87.9048,
          -93.221802
         ],
         "marker": {
          "color": "red",
          "size": 10
         },
         "mode": "lines",
         "opacity": 0.5,
         "type": "scattergeo"
        },
        {
         "lat": [
          39.861698150635,
          32.896801
         ],
         "lon": [
          -104.672996521,
          -97.038002
         ],
         "marker": {
          "color": "red",
          "size": 10
         },
         "mode": "lines",
         "opacity": 0.5,
         "type": "scattergeo"
        },
        {
         "lat": [
          42.212398529052734,
          39.90240097045898
         ],
         "lon": [
          -83.35340118408203,
          -84.21939849853516
         ],
         "marker": {
          "color": "red",
          "size": 10
         },
         "mode": "lines",
         "opacity": 0.5,
         "type": "scattergeo"
        }
       ],
       "layout": {
        "geo": {
         "landcolor": "lightgray",
         "scope": "usa",
         "showland": true
        },
        "showlegend": false,
        "template": {
         "data": {
          "bar": [
           {
            "error_x": {
             "color": "#2a3f5f"
            },
            "error_y": {
             "color": "#2a3f5f"
            },
            "marker": {
             "line": {
              "color": "#E5ECF6",
              "width": 0.5
             },
             "pattern": {
              "fillmode": "overlay",
              "size": 10,
              "solidity": 0.2
             }
            },
            "type": "bar"
           }
          ],
          "barpolar": [
           {
            "marker": {
             "line": {
              "color": "#E5ECF6",
              "width": 0.5
             },
             "pattern": {
              "fillmode": "overlay",
              "size": 10,
              "solidity": 0.2
             }
            },
            "type": "barpolar"
           }
          ],
          "carpet": [
           {
            "aaxis": {
             "endlinecolor": "#2a3f5f",
             "gridcolor": "white",
             "linecolor": "white",
             "minorgridcolor": "white",
             "startlinecolor": "#2a3f5f"
            },
            "baxis": {
             "endlinecolor": "#2a3f5f",
             "gridcolor": "white",
             "linecolor": "white",
             "minorgridcolor": "white",
             "startlinecolor": "#2a3f5f"
            },
            "type": "carpet"
           }
          ],
          "choropleth": [
           {
            "colorbar": {
             "outlinewidth": 0,
             "ticks": ""
            },
            "type": "choropleth"
           }
          ],
          "contour": [
           {
            "colorbar": {
             "outlinewidth": 0,
             "ticks": ""
            },
            "colorscale": [
             [
              0,
              "#0d0887"
             ],
             [
              0.1111111111111111,
              "#46039f"
             ],
             [
              0.2222222222222222,
              "#7201a8"
             ],
             [
              0.3333333333333333,
              "#9c179e"
             ],
             [
              0.4444444444444444,
              "#bd3786"
             ],
             [
              0.5555555555555556,
              "#d8576b"
             ],
             [
              0.6666666666666666,
              "#ed7953"
             ],
             [
              0.7777777777777778,
              "#fb9f3a"
             ],
             [
              0.8888888888888888,
              "#fdca26"
             ],
             [
              1,
              "#f0f921"
             ]
            ],
            "type": "contour"
           }
          ],
          "contourcarpet": [
           {
            "colorbar": {
             "outlinewidth": 0,
             "ticks": ""
            },
            "type": "contourcarpet"
           }
          ],
          "heatmap": [
           {
            "colorbar": {
             "outlinewidth": 0,
             "ticks": ""
            },
            "colorscale": [
             [
              0,
              "#0d0887"
             ],
             [
              0.1111111111111111,
              "#46039f"
             ],
             [
              0.2222222222222222,
              "#7201a8"
             ],
             [
              0.3333333333333333,
              "#9c179e"
             ],
             [
              0.4444444444444444,
              "#bd3786"
             ],
             [
              0.5555555555555556,
              "#d8576b"
             ],
             [
              0.6666666666666666,
              "#ed7953"
             ],
             [
              0.7777777777777778,
              "#fb9f3a"
             ],
             [
              0.8888888888888888,
              "#fdca26"
             ],
             [
              1,
              "#f0f921"
             ]
            ],
            "type": "heatmap"
           }
          ],
          "histogram": [
           {
            "marker": {
             "pattern": {
              "fillmode": "overlay",
              "size": 10,
              "solidity": 0.2
             }
            },
            "type": "histogram"
           }
          ],
          "histogram2d": [
           {
            "colorbar": {
             "outlinewidth": 0,
             "ticks": ""
            },
            "colorscale": [
             [
              0,
              "#0d0887"
             ],
             [
              0.1111111111111111,
              "#46039f"
             ],
             [
              0.2222222222222222,
              "#7201a8"
             ],
             [
              0.3333333333333333,
              "#9c179e"
             ],
             [
              0.4444444444444444,
              "#bd3786"
             ],
             [
              0.5555555555555556,
              "#d8576b"
             ],
             [
              0.6666666666666666,
              "#ed7953"
             ],
             [
              0.7777777777777778,
              "#fb9f3a"
             ],
             [
              0.8888888888888888,
              "#fdca26"
             ],
             [
              1,
              "#f0f921"
             ]
            ],
            "type": "histogram2d"
           }
          ],
          "histogram2dcontour": [
           {
            "colorbar": {
             "outlinewidth": 0,
             "ticks": ""
            },
            "colorscale": [
             [
              0,
              "#0d0887"
             ],
             [
              0.1111111111111111,
              "#46039f"
             ],
             [
              0.2222222222222222,
              "#7201a8"
             ],
             [
              0.3333333333333333,
              "#9c179e"
             ],
             [
              0.4444444444444444,
              "#bd3786"
             ],
             [
              0.5555555555555556,
              "#d8576b"
             ],
             [
              0.6666666666666666,
              "#ed7953"
             ],
             [
              0.7777777777777778,
              "#fb9f3a"
             ],
             [
              0.8888888888888888,
              "#fdca26"
             ],
             [
              1,
              "#f0f921"
             ]
            ],
            "type": "histogram2dcontour"
           }
          ],
          "mesh3d": [
           {
            "colorbar": {
             "outlinewidth": 0,
             "ticks": ""
            },
            "type": "mesh3d"
           }
          ],
          "parcoords": [
           {
            "line": {
             "colorbar": {
              "outlinewidth": 0,
              "ticks": ""
             }
            },
            "type": "parcoords"
           }
          ],
          "pie": [
           {
            "automargin": true,
            "type": "pie"
           }
          ],
          "scatter": [
           {
            "fillpattern": {
             "fillmode": "overlay",
             "size": 10,
             "solidity": 0.2
            },
            "type": "scatter"
           }
          ],
          "scatter3d": [
           {
            "line": {
             "colorbar": {
              "outlinewidth": 0,
              "ticks": ""
             }
            },
            "marker": {
             "colorbar": {
              "outlinewidth": 0,
              "ticks": ""
             }
            },
            "type": "scatter3d"
           }
          ],
          "scattercarpet": [
           {
            "marker": {
             "colorbar": {
              "outlinewidth": 0,
              "ticks": ""
             }
            },
            "type": "scattercarpet"
           }
          ],
          "scattergeo": [
           {
            "marker": {
             "colorbar": {
              "outlinewidth": 0,
              "ticks": ""
             }
            },
            "type": "scattergeo"
           }
          ],
          "scattergl": [
           {
            "marker": {
             "colorbar": {
              "outlinewidth": 0,
              "ticks": ""
             }
            },
            "type": "scattergl"
           }
          ],
          "scattermap": [
           {
            "marker": {
             "colorbar": {
              "outlinewidth": 0,
              "ticks": ""
             }
            },
            "type": "scattermap"
           }
          ],
          "scattermapbox": [
           {
            "marker": {
             "colorbar": {
              "outlinewidth": 0,
              "ticks": ""
             }
            },
            "type": "scattermapbox"
           }
          ],
          "scatterpolar": [
           {
            "marker": {
             "colorbar": {
              "outlinewidth": 0,
              "ticks": ""
             }
            },
            "type": "scatterpolar"
           }
          ],
          "scatterpolargl": [
           {
            "marker": {
             "colorbar": {
              "outlinewidth": 0,
              "ticks": ""
             }
            },
            "type": "scatterpolargl"
           }
          ],
          "scatterternary": [
           {
            "marker": {
             "colorbar": {
              "outlinewidth": 0,
              "ticks": ""
             }
            },
            "type": "scatterternary"
           }
          ],
          "surface": [
           {
            "colorbar": {
             "outlinewidth": 0,
             "ticks": ""
            },
            "colorscale": [
             [
              0,
              "#0d0887"
             ],
             [
              0.1111111111111111,
              "#46039f"
             ],
             [
              0.2222222222222222,
              "#7201a8"
             ],
             [
              0.3333333333333333,
              "#9c179e"
             ],
             [
              0.4444444444444444,
              "#bd3786"
             ],
             [
              0.5555555555555556,
              "#d8576b"
             ],
             [
              0.6666666666666666,
              "#ed7953"
             ],
             [
              0.7777777777777778,
              "#fb9f3a"
             ],
             [
              0.8888888888888888,
              "#fdca26"
             ],
             [
              1,
              "#f0f921"
             ]
            ],
            "type": "surface"
           }
          ],
          "table": [
           {
            "cells": {
             "fill": {
              "color": "#EBF0F8"
             },
             "line": {
              "color": "white"
             }
            },
            "header": {
             "fill": {
              "color": "#C8D4E3"
             },
             "line": {
              "color": "white"
             }
            },
            "type": "table"
           }
          ]
         },
         "layout": {
          "annotationdefaults": {
           "arrowcolor": "#2a3f5f",
           "arrowhead": 0,
           "arrowwidth": 1
          },
          "autotypenumbers": "strict",
          "coloraxis": {
           "colorbar": {
            "outlinewidth": 0,
            "ticks": ""
           }
          },
          "colorscale": {
           "diverging": [
            [
             0,
             "#8e0152"
            ],
            [
             0.1,
             "#c51b7d"
            ],
            [
             0.2,
             "#de77ae"
            ],
            [
             0.3,
             "#f1b6da"
            ],
            [
             0.4,
             "#fde0ef"
            ],
            [
             0.5,
             "#f7f7f7"
            ],
            [
             0.6,
             "#e6f5d0"
            ],
            [
             0.7,
             "#b8e186"
            ],
            [
             0.8,
             "#7fbc41"
            ],
            [
             0.9,
             "#4d9221"
            ],
            [
             1,
             "#276419"
            ]
           ],
           "sequential": [
            [
             0,
             "#0d0887"
            ],
            [
             0.1111111111111111,
             "#46039f"
            ],
            [
             0.2222222222222222,
             "#7201a8"
            ],
            [
             0.3333333333333333,
             "#9c179e"
            ],
            [
             0.4444444444444444,
             "#bd3786"
            ],
            [
             0.5555555555555556,
             "#d8576b"
            ],
            [
             0.6666666666666666,
             "#ed7953"
            ],
            [
             0.7777777777777778,
             "#fb9f3a"
            ],
            [
             0.8888888888888888,
             "#fdca26"
            ],
            [
             1,
             "#f0f921"
            ]
           ],
           "sequentialminus": [
            [
             0,
             "#0d0887"
            ],
            [
             0.1111111111111111,
             "#46039f"
            ],
            [
             0.2222222222222222,
             "#7201a8"
            ],
            [
             0.3333333333333333,
             "#9c179e"
            ],
            [
             0.4444444444444444,
             "#bd3786"
            ],
            [
             0.5555555555555556,
             "#d8576b"
            ],
            [
             0.6666666666666666,
             "#ed7953"
            ],
            [
             0.7777777777777778,
             "#fb9f3a"
            ],
            [
             0.8888888888888888,
             "#fdca26"
            ],
            [
             1,
             "#f0f921"
            ]
           ]
          },
          "colorway": [
           "#636efa",
           "#EF553B",
           "#00cc96",
           "#ab63fa",
           "#FFA15A",
           "#19d3f3",
           "#FF6692",
           "#B6E880",
           "#FF97FF",
           "#FECB52"
          ],
          "font": {
           "color": "#2a3f5f"
          },
          "geo": {
           "bgcolor": "white",
           "lakecolor": "white",
           "landcolor": "#E5ECF6",
           "showlakes": true,
           "showland": true,
           "subunitcolor": "white"
          },
          "hoverlabel": {
           "align": "left"
          },
          "hovermode": "closest",
          "mapbox": {
           "style": "light"
          },
          "paper_bgcolor": "white",
          "plot_bgcolor": "#E5ECF6",
          "polar": {
           "angularaxis": {
            "gridcolor": "white",
            "linecolor": "white",
            "ticks": ""
           },
           "bgcolor": "#E5ECF6",
           "radialaxis": {
            "gridcolor": "white",
            "linecolor": "white",
            "ticks": ""
           }
          },
          "scene": {
           "xaxis": {
            "backgroundcolor": "#E5ECF6",
            "gridcolor": "white",
            "gridwidth": 2,
            "linecolor": "white",
            "showbackground": true,
            "ticks": "",
            "zerolinecolor": "white"
           },
           "yaxis": {
            "backgroundcolor": "#E5ECF6",
            "gridcolor": "white",
            "gridwidth": 2,
            "linecolor": "white",
            "showbackground": true,
            "ticks": "",
            "zerolinecolor": "white"
           },
           "zaxis": {
            "backgroundcolor": "#E5ECF6",
            "gridcolor": "white",
            "gridwidth": 2,
            "linecolor": "white",
            "showbackground": true,
            "ticks": "",
            "zerolinecolor": "white"
           }
          },
          "shapedefaults": {
           "line": {
            "color": "#2a3f5f"
           }
          },
          "ternary": {
           "aaxis": {
            "gridcolor": "white",
            "linecolor": "white",
            "ticks": ""
           },
           "baxis": {
            "gridcolor": "white",
            "linecolor": "white",
            "ticks": ""
           },
           "bgcolor": "#E5ECF6",
           "caxis": {
            "gridcolor": "white",
            "linecolor": "white",
            "ticks": ""
           }
          },
          "title": {
           "x": 0.05
          },
          "xaxis": {
           "automargin": true,
           "gridcolor": "white",
           "linecolor": "white",
           "ticks": "",
           "title": {
            "standoff": 15
           },
           "zerolinecolor": "white",
           "zerolinewidth": 2
          },
          "yaxis": {
           "automargin": true,
           "gridcolor": "white",
           "linecolor": "white",
           "ticks": "",
           "title": {
            "standoff": 15
           },
           "zerolinecolor": "white",
           "zerolinewidth": 2
          }
         }
        },
        "title": {
         "text": "Route Created from Sampled Airports",
         "x": 0.5,
         "xanchor": "center"
        }
       }
      }
     },
     "metadata": {},
     "output_type": "display_data"
    }
   ],
   "source": [
    "fig = go.Figure(data=go.Scattergeo(\n",
    "    lat = sampleAirportCoords['LAT'].tolist(),\n",
    "    lon = sampleAirportCoords['LONG'].tolist(), \n",
    "    text = sampleAirportCoords['IATA'].tolist(),\n",
    "    mode = 'markers+text',\n",
    "    marker = dict(\n",
    "        size = 7,\n",
    "        color = 'black'\n",
    "    ),\n",
    "    textposition='top center',\n",
    "    textfont = dict(\n",
    "            weight = 'bold',\n",
    "            size = 8\n",
    "        ),\n",
    "    )\n",
    ")\n",
    "\n",
    "for index, row in pathCoords.iterrows():\n",
    "    fig.add_trace(go.Scattergeo(\n",
    "        mode = \"lines\",\n",
    "        lat = [row['SRCLAT'], row['DESTINLAT']],\n",
    "        lon = [row['SRCLONG'], row['DESTINLONG']],\n",
    "        opacity=.5,\n",
    "        marker = dict(\n",
    "            size = 10,\n",
    "            color = 'red'\n",
    "        )\n",
    "    )\n",
    ")\n",
    "\n",
    "fig.update_layout(\n",
    "    title = {\n",
    "        'text': \"Route Created from Sampled Airports\",\n",
    "        'x': 0.5,\n",
    "        'xanchor': 'center'\n",
    "    },\n",
    "    showlegend=False,\n",
    "    geo=dict(\n",
    "        scope = 'usa',\n",
    "        showland = True,\n",
    "        landcolor = 'lightgray',\n",
    "    )\n",
    ")\n",
    "\n",
    "fig.show()"
   ]
  }
 ],
 "metadata": {
  "kernelspec": {
   "display_name": "Python 3",
   "language": "python",
   "name": "python3"
  },
  "language_info": {
   "codemirror_mode": {
    "name": "ipython",
    "version": 3
   },
   "file_extension": ".py",
   "mimetype": "text/x-python",
   "name": "python",
   "nbconvert_exporter": "python",
   "pygments_lexer": "ipython3",
   "version": "3.12.6"
  }
 },
 "nbformat": 4,
 "nbformat_minor": 2
}

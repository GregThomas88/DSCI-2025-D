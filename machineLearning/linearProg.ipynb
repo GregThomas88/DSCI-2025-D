{
 "cells": [
  {
   "cell_type": "code",
   "execution_count": 587,
   "metadata": {},
   "outputs": [],
   "source": [
    "from pulp import *\n",
    "import pandas as pd\n",
    "import networkx as nx\n",
    "import pandas as pd\n",
    "import plotly.express as px\n",
    "import plotly.graph_objects as go\n",
    "#Heavily influenced by, need to make sure we understand the code so we can use it and not plagerize as a final product\n",
    "#https://www.kaggle.com/code/itoeiji/solving-tsp-and-vrp-by-mip-using-pulp"
   ]
  },
  {
   "cell_type": "code",
   "execution_count": null,
   "metadata": {},
   "outputs": [],
   "source": [
    "#Test Data\n",
    "distEnum = {\n",
    "    \"SFO\": { \"SFO\": 0, \"LAX\": 500, \"SJC\": 75, \"OAK\": 50},\n",
    "    \"LAX\": { \"SFO\": 500, \"LAX\": 0, \"SJC\": 280, \"OAK\": 800},\n",
    "    \"SJC\": { \"SFO\": 75, \"LAX\": 280, \"SJC\": 0, \"OAK\": 30},\n",
    "    \"OAK\": { \"SFO\": 50, \"LAX\": 800, \"SJC\": 30, \"OAK\": 0}\n",
    "}\n",
    "\n",
    "distDict = pd.DataFrame( \n",
    "    [\n",
    "    [0, 500, 75, 50],\n",
    "    [500, 0, 280, 800],\n",
    "    [75, 280, 0, 30],\n",
    "    [50, 800, 30, 0]\n",
    "    ])\n",
    "\n",
    "distDict2 = pd.DataFrame( \n",
    "    [\n",
    "    [0, 9999, 469, 857, 375],  #MSY\n",
    "    [9999, 0, 549, 1188, 464], #IND\n",
    "    [469, 549, 0, 639, 380],   #ATL\n",
    "    [857, 1188, 639, 0, 9999], #FLL\n",
    "    [375, 464, 380, 9999, 0]   #MEM\n",
    "    ])"
   ]
  },
  {
   "cell_type": "code",
   "execution_count": 588,
   "metadata": {},
   "outputs": [],
   "source": [
    "usRoutes = pd.read_csv('../data/usRoutesClean.csv')"
   ]
  },
  {
   "cell_type": "code",
   "execution_count": 589,
   "metadata": {},
   "outputs": [],
   "source": [
    "def findRoutes (dataSet, startAirport, endAirport, cutoff):\n",
    "    # Create the network so that we can get our additional routes that could be used to get from our start to finish\n",
    "    G = nx.from_pandas_edgelist(dataSet, 'SRCIATA', 'DESTINIATA', create_using=nx.DiGraph())\n",
    "\n",
    "    cutoffValue = 0     # Used to track what depth the while loop is at\n",
    "    noRoute = True      # Used to track if a route was found and the loop can be stopped early\n",
    "\n",
    "    while (cutoffValue <= cutoff) & (noRoute == True):  # Loop goes through and finds the shallowest depth that we can work with\n",
    "        cutoffValue = cutoffValue + 1\n",
    "        paths = nx.all_simple_paths(G, startAirport, endAirport, cutoff=cutoffValue)\n",
    "\n",
    "        for path in paths:\n",
    "            noRoute = False\n",
    "\n",
    "    if cutoffValue > cutoff:\n",
    "        return(pd.DataFrame())\n",
    "\n",
    "    paths = nx.all_simple_paths(G, startAirport, endAirport, cutoff=cutoffValue)\n",
    "\n",
    "    shortestTotalDistance = 0   # Used to track what the shortest total distance is for later comparison of ranking \n",
    "\n",
    "    for path in paths: \n",
    "        nodeLocation = 0\n",
    "        totalDistance = 0\n",
    "        potentialRoute = pd.DataFrame({\"SRC\": [], \"DESTIN\": [], \"METERS\": []})\n",
    "\n",
    "        for index in path:\n",
    "            # Calculate total distance of the route\n",
    "            currentIATA = index\n",
    "            if nodeLocation != 0:\n",
    "                distance = (dataSet.loc[(dataSet['SRCIATA'] == pastIATA) & (dataSet['DESTINIATA'] == currentIATA), 'meters'].values)[0]\n",
    "                totalDistance = totalDistance + distance\n",
    "                indexEntry = pd.DataFrame({\"SRC\": [pastIATA], \"DESTIN\": [currentIATA], \"METERS\": [distance]})\n",
    "                potentialRoute = pd.concat([potentialRoute, indexEntry])\n",
    "\n",
    "            nodeLocation = nodeLocation + 1\n",
    "            pastIATA = index\n",
    "        \n",
    "        if shortestTotalDistance == 0:                  # Takes the first value found a promotes it to the shortest\n",
    "            shortestTotalDistance = totalDistance\n",
    "            shortestRoute = potentialRoute.copy()\n",
    "        else:\n",
    "            if shortestTotalDistance > totalDistance:   # Compares the shortest with the current to see if it needs to replace\n",
    "                shortestTotalDistance = totalDistance\n",
    "                shortestRoute = potentialRoute.copy()\n",
    "\n",
    "    return(shortestRoute)"
   ]
  },
  {
   "cell_type": "code",
   "execution_count": 673,
   "metadata": {},
   "outputs": [],
   "source": [
    "def sampleRandomAirports(n):\n",
    "    sampleAirports = pd.Series(usRoutes['SRCIATA'].sample(n))\n",
    "    i = 0\n",
    "    while (i != len(sampleAirports)):\n",
    "        j = 0\n",
    "        while (j <= len(sampleAirports) - 1):\n",
    "            route = findRoutes(usRoutes, sampleAirports.iloc[i], sampleAirports.iloc[j], 50)\n",
    "            if (route.empty):\n",
    "                pass\n",
    "            elif (route['DESTIN'].iloc[0] != sampleAirports.iloc[j]):\n",
    "                newDestin = pd.Series(route['DESTIN'].iloc[0])\n",
    "                if(pd.concat([sampleAirports, newDestin]).is_unique):  \n",
    "                    sampleAirports = pd.concat([sampleAirports, newDestin]) \n",
    "            j = j + 1\n",
    "        i = i + 1\n",
    "    return sampleAirports"
   ]
  },
  {
   "cell_type": "code",
   "execution_count": 645,
   "metadata": {},
   "outputs": [],
   "source": [
    "def createDistanceMatrix(sampleAirports):\n",
    "    DistanceMatrix = []\n",
    "    i = 0\n",
    "    while (i != len(sampleAirports)):\n",
    "        DISTANCEList = []\n",
    "        j = 0\n",
    "        while (j <= len(sampleAirports) - 1):\n",
    "            route = findRoutes(usRoutes, sampleAirports.iloc[i], sampleAirports.iloc[j], 2)\n",
    "\n",
    "            if (sampleAirports.iloc[i] == sampleAirports.iloc[j]):\n",
    "                DISTANCEList.append(0)\n",
    "            elif ((route.empty) or (route['DESTIN'].iloc[0] != sampleAirports.iloc[j])):\n",
    "                DISTANCEList.append(99999)\n",
    "            elif (route['DESTIN'].iloc[0] != sampleAirports.iloc[j]):\n",
    "                DISTANCEList.append(99999)\n",
    "            else:\n",
    "                DISTANCEList.append((route['METERS'].iloc[0]/1609.344))\n",
    "            \n",
    "            j = j + 1\n",
    "        DistanceMatrix.append(DISTANCEList)\n",
    "        i = i + 1\n",
    "\n",
    "    DistanceMatrix = pd.DataFrame(DistanceMatrix, columns = sampleAirports, index = sampleAirports)\n",
    "    DistanceMatrix = DistanceMatrix.fillna(0)\n",
    "    DistanceMatrix = DistanceMatrix.round(0)\n",
    "    DistanceMatrix = DistanceMatrix.astype(int)\n",
    "    return DistanceMatrix"
   ]
  },
  {
   "cell_type": "code",
   "execution_count": null,
   "metadata": {},
   "outputs": [
    {
     "name": "stdout",
     "output_type": "stream",
     "text": [
      "SRCIATA    STL    DFW    BKG    CMH    BOI    MSY    MYR    PDX    BNA    ATL  \\\n",
      "SRCIATA                                                                         \n",
      "STL          0    634  99999    432  99999    675  99999  99999    325    574   \n",
      "DFW        635      0  99999   1065  99999    513   1164   2008    689    808   \n",
      "BKG      99999  99999      0  99999  99999  99999  99999  99999  99999  99999   \n",
      "CMH        431   1067  99999      0  99999  99999  99999  99999    391    583   \n",
      "BOI      99999  99999  99999  99999      0  99999  99999    425  99999  99999   \n",
      "MSY        675    512  99999  99999  99999      0  99999  99999    546    469   \n",
      "MYR      99999   1164  99999  99999  99999  99999      0  99999  99999    366   \n",
      "PDX      99999   2008  99999  99999    426  99999  99999      0  99999   2603   \n",
      "BNA        326    690  99999    389  99999    545  99999  99999      0    255   \n",
      "ATL        576    807  99999    583  99999    470    366   2604    257      0   \n",
      "DFW        635      0  99999   1065  99999    513   1164   2008    689    808   \n",
      "BNA        326    690  99999    389  99999    545  99999  99999      0    255   \n",
      "SWF      99999  99999  99999  99999  99999  99999  99999  99999  99999  99999   \n",
      "MCI        254    552  99999  99999  99999    853  99999   1777    580    828   \n",
      "HLN      99999  99999  99999  99999  99999  99999  99999  99999  99999  99999   \n",
      "DCA        828   1349  99999    403  99999   1097    437   2801    660    647   \n",
      "SJD      99999   1622  99999  99999  99999  99999  99999  99999  99999   2275   \n",
      "MCI        254    552  99999  99999  99999    853  99999   1777    580    828   \n",
      "BNA        326    690  99999    389  99999    545  99999  99999      0    255   \n",
      "MCI        254    552  99999  99999  99999    853  99999   1777    580    828   \n",
      "IAH        775    248  99999   1146  99999    342  99999   2254    770    790   \n",
      "SFO       2055   1702  99999  99999    651   2216  99999    656  99999   2471   \n",
      "JFK        989   1584  99999    564  99999   1332  99999   2910    895    886   \n",
      "ROC      99999  99999  99999  99999  99999  99999  99999  99999  99999    966   \n",
      "ANC      99999  99999  99999  99999  99999  99999  99999   2441  99999  99999   \n",
      "\n",
      "SRCIATA  ...    DCA    SJD    MCI    BNA    MCI    IAH    SFO    JFK    ROC  \\\n",
      "SRCIATA  ...                                                                  \n",
      "STL      ...    828  99999    254    325    254    772   2051    991  99999   \n",
      "DFW      ...   1349   1619    552    689    552    249   1702   1585  99999   \n",
      "BKG      ...  99999  99999  99999  99999  99999  99999  99999  99999  99999   \n",
      "CMH      ...    403  99999  99999    391  99999   1147  99999    566  99999   \n",
      "BOI      ...  99999  99999  99999  99999  99999  99999    650  99999  99999   \n",
      "MSY      ...   1096  99999    853    546    853    342   2212   1332  99999   \n",
      "MYR      ...    436  99999  99999  99999  99999  99999  99999  99999  99999   \n",
      "PDX      ...   2803  99999   1778  99999   1778   2254    656   2913  99999   \n",
      "BNA      ...    659  99999    579      0    579    770  99999    896  99999   \n",
      "ATL      ...    646   2275    829    257    829    792   2470    886    967   \n",
      "DFW      ...   1349   1619    552    689    552    249   1702   1585  99999   \n",
      "BNA      ...    659  99999    579      0    579    770  99999    896  99999   \n",
      "SWF      ...  99999  99999  99999  99999  99999  99999  99999  99999  99999   \n",
      "MCI      ...   1078  99999      0    580      0    732   1799  99999  99999   \n",
      "HLN      ...  99999  99999  99999  99999  99999  99999  99999  99999  99999   \n",
      "DCA      ...      0  99999   1078    660   1078   1419   2823    242    392   \n",
      "SJD      ...  99999      0  99999  99999  99999   1511   1561  99999  99999   \n",
      "MCI      ...   1078  99999      0    580      0    732   1799  99999  99999   \n",
      "BNA      ...    659  99999    579      0    579    770  99999    896  99999   \n",
      "MCI      ...   1078  99999      0    580      0    732   1799  99999  99999   \n",
      "IAH      ...   1425   1508    794    770    794      0   1932  99999  99999   \n",
      "SFO      ...   2829   1555   1804  99999   1804   1933      0   2939  99999   \n",
      "JFK      ...    242  99999  99999    895  99999  99999   2933      0    361   \n",
      "ROC      ...    383  99999  99999  99999  99999  99999  99999    358      0   \n",
      "ANC      ...  99999  99999  99999  99999  99999  99999  99999  99999  99999   \n",
      "\n",
      "SRCIATA    ANC  \n",
      "SRCIATA         \n",
      "STL      99999  \n",
      "DFW      99999  \n",
      "BKG      99999  \n",
      "CMH      99999  \n",
      "BOI      99999  \n",
      "MSY      99999  \n",
      "MYR      99999  \n",
      "PDX       2438  \n",
      "BNA      99999  \n",
      "ATL      99999  \n",
      "DFW      99999  \n",
      "BNA      99999  \n",
      "SWF      99999  \n",
      "MCI      99999  \n",
      "HLN      99999  \n",
      "DCA      99999  \n",
      "SJD      99999  \n",
      "MCI      99999  \n",
      "BNA      99999  \n",
      "MCI      99999  \n",
      "IAH      99999  \n",
      "SFO      99999  \n",
      "JFK      99999  \n",
      "ROC      99999  \n",
      "ANC          0  \n",
      "\n",
      "[25 rows x 25 columns]\n"
     ]
    }
   ],
   "source": [
    "#Change the number in sampleRandomAirports\n",
    "sampleAirports = sampleRandomAirports(25)\n",
    "distMatrix = createDistanceMatrix(sampleAirports)\n",
    "print(distMatrix)"
   ]
  },
  {
   "cell_type": "code",
   "execution_count": 693,
   "metadata": {},
   "outputs": [],
   "source": [
    "distMatrixHeaders = distMatrix\n",
    "distMatrix = distMatrix.reset_index(drop=True)\n",
    "\n",
    "columns = []\n",
    "for i in range(len(distMatrix)):\n",
    "    columns.append(i)\n",
    "\n",
    "distMatrix.columns = columns"
   ]
  },
  {
   "cell_type": "code",
   "execution_count": 694,
   "metadata": {},
   "outputs": [],
   "source": [
    "problem = LpProblem(\"LP_Opt_AC\", LpMinimize)\n",
    "\n",
    "coordList = []\n",
    "for i in range(len(distMatrix)):\n",
    "    for j in range(len(distMatrix)):\n",
    "        coordList.append((i,j))\n",
    "\n",
    "x = LpVariable.dicts('x', coordList, lowBound=0, upBound=1, cat='Binary')\n",
    "\n",
    "problem += pulp.lpSum(distMatrix[i][j] * x[i, j] for i in range(len(distMatrix)) for j in range(len(distMatrix)))\n",
    "\n",
    "indexes = []\n",
    "for i in range(len(distMatrix)):\n",
    "    indexes.append(i)\n",
    "\n",
    "u = pulp.LpVariable.dicts('u', indexes, lowBound=1, upBound=99999, cat='Integer')\n",
    "\n",
    "for i in range(len(distMatrix)):\n",
    "    problem += x[i, i] == 0\n",
    "\n",
    "for i in range(len(distMatrix)):\n",
    "    problem += pulp.lpSum(x[i, j] for j in range(len(distMatrix))) == 1\n",
    "    problem += pulp.lpSum(x[j, i] for j in range(len(distMatrix))) == 1\n",
    "\n",
    "for i in range(len(distMatrix)):\n",
    "    for j in range(len(distMatrix)):\n",
    "        if i != j and (i != 0 and j != 0):\n",
    "            problem += u[i] - u[j] <= len(distMatrix) * (1 - x[i, j]) - 1"
   ]
  },
  {
   "cell_type": "code",
   "execution_count": 695,
   "metadata": {},
   "outputs": [
    {
     "data": {
      "text/plain": [
       "(1, 'Optimal', 410720.0)"
      ]
     },
     "execution_count": 695,
     "metadata": {},
     "output_type": "execute_result"
    }
   ],
   "source": [
    "status = problem.solve()\n",
    "status, LpStatus[status], value(problem.objective)"
   ]
  },
  {
   "cell_type": "code",
   "execution_count": 696,
   "metadata": {},
   "outputs": [],
   "source": [
    "airports_csv = pd.read_csv('../data/openFlightsRaw/airports.csv')\n",
    "\n",
    "sampleAirportCoords = airports_csv[airports_csv['IATA'].isin(sampleAirports)]"
   ]
  },
  {
   "cell_type": "code",
   "execution_count": 697,
   "metadata": {},
   "outputs": [
    {
     "data": {
      "application/vnd.plotly.v1+json": {
       "config": {
        "plotlyServerURL": "https://plot.ly"
       },
       "data": [
        {
         "lat": [
          23.15180015563965,
          39.2976,
          37.61899948120117,
          43.5644,
          46.6068000793457,
          33.6796989441,
          38.8521,
          29.984399795532227,
          43.118900299072266,
          41.50410079956055,
          32.896801,
          38.748697,
          33.6367,
          36.1245002746582,
          45.58869934,
          39.998001,
          61.17440032958984,
          40.63980103,
          29.99340057373047,
          36.532082
         ],
         "lon": [
          -109.72100067138672,
          -94.713898,
          -122.375,
          -116.223,
          -111.98300170898438,
          -78.9282989502,
          -77.037697,
          -95.34140014648438,
          -77.67240142822266,
          -74.10479736328125,
          -97.038002,
          -90.370003,
          -84.428101,
          -86.6781997680664,
          -122.5979996,
          -82.891899,
          -149.99600219726562,
          -73.77890015,
          -90.25800323486328,
          -93.200544
         ],
         "marker": {
          "color": "black",
          "size": 7
         },
         "mode": "markers",
         "name": "Has Outgoing Traffic",
         "text": [
          "Los Cabos International Airport",
          "Kansas City International Airport",
          "San Francisco International Airport",
          "Boise Air Terminal/Gowen Field",
          "Helena Regional Airport",
          "Myrtle Beach International Airport",
          "Ronald Reagan Washington National Airport",
          "George Bush Intercontinental Houston Airport",
          "Greater Rochester International Airport",
          "Stewart International Airport",
          "Dallas Fort Worth International Airport",
          "St Louis Lambert International Airport",
          "Hartsfield Jackson Atlanta International Airport",
          "Nashville International Airport",
          "Portland International Airport",
          "John Glenn Columbus International Airport",
          "Ted Stevens Anchorage International Airport",
          "John F Kennedy International Airport",
          "Louis Armstrong New Orleans International Airport",
          "Branson Airport"
         ],
         "type": "scattergeo"
        }
       ],
       "layout": {
        "geo": {
         "landcolor": "lightgray",
         "scope": "usa",
         "showland": true
        },
        "showlegend": false,
        "template": {
         "data": {
          "bar": [
           {
            "error_x": {
             "color": "#2a3f5f"
            },
            "error_y": {
             "color": "#2a3f5f"
            },
            "marker": {
             "line": {
              "color": "#E5ECF6",
              "width": 0.5
             },
             "pattern": {
              "fillmode": "overlay",
              "size": 10,
              "solidity": 0.2
             }
            },
            "type": "bar"
           }
          ],
          "barpolar": [
           {
            "marker": {
             "line": {
              "color": "#E5ECF6",
              "width": 0.5
             },
             "pattern": {
              "fillmode": "overlay",
              "size": 10,
              "solidity": 0.2
             }
            },
            "type": "barpolar"
           }
          ],
          "carpet": [
           {
            "aaxis": {
             "endlinecolor": "#2a3f5f",
             "gridcolor": "white",
             "linecolor": "white",
             "minorgridcolor": "white",
             "startlinecolor": "#2a3f5f"
            },
            "baxis": {
             "endlinecolor": "#2a3f5f",
             "gridcolor": "white",
             "linecolor": "white",
             "minorgridcolor": "white",
             "startlinecolor": "#2a3f5f"
            },
            "type": "carpet"
           }
          ],
          "choropleth": [
           {
            "colorbar": {
             "outlinewidth": 0,
             "ticks": ""
            },
            "type": "choropleth"
           }
          ],
          "contour": [
           {
            "colorbar": {
             "outlinewidth": 0,
             "ticks": ""
            },
            "colorscale": [
             [
              0,
              "#0d0887"
             ],
             [
              0.1111111111111111,
              "#46039f"
             ],
             [
              0.2222222222222222,
              "#7201a8"
             ],
             [
              0.3333333333333333,
              "#9c179e"
             ],
             [
              0.4444444444444444,
              "#bd3786"
             ],
             [
              0.5555555555555556,
              "#d8576b"
             ],
             [
              0.6666666666666666,
              "#ed7953"
             ],
             [
              0.7777777777777778,
              "#fb9f3a"
             ],
             [
              0.8888888888888888,
              "#fdca26"
             ],
             [
              1,
              "#f0f921"
             ]
            ],
            "type": "contour"
           }
          ],
          "contourcarpet": [
           {
            "colorbar": {
             "outlinewidth": 0,
             "ticks": ""
            },
            "type": "contourcarpet"
           }
          ],
          "heatmap": [
           {
            "colorbar": {
             "outlinewidth": 0,
             "ticks": ""
            },
            "colorscale": [
             [
              0,
              "#0d0887"
             ],
             [
              0.1111111111111111,
              "#46039f"
             ],
             [
              0.2222222222222222,
              "#7201a8"
             ],
             [
              0.3333333333333333,
              "#9c179e"
             ],
             [
              0.4444444444444444,
              "#bd3786"
             ],
             [
              0.5555555555555556,
              "#d8576b"
             ],
             [
              0.6666666666666666,
              "#ed7953"
             ],
             [
              0.7777777777777778,
              "#fb9f3a"
             ],
             [
              0.8888888888888888,
              "#fdca26"
             ],
             [
              1,
              "#f0f921"
             ]
            ],
            "type": "heatmap"
           }
          ],
          "histogram": [
           {
            "marker": {
             "pattern": {
              "fillmode": "overlay",
              "size": 10,
              "solidity": 0.2
             }
            },
            "type": "histogram"
           }
          ],
          "histogram2d": [
           {
            "colorbar": {
             "outlinewidth": 0,
             "ticks": ""
            },
            "colorscale": [
             [
              0,
              "#0d0887"
             ],
             [
              0.1111111111111111,
              "#46039f"
             ],
             [
              0.2222222222222222,
              "#7201a8"
             ],
             [
              0.3333333333333333,
              "#9c179e"
             ],
             [
              0.4444444444444444,
              "#bd3786"
             ],
             [
              0.5555555555555556,
              "#d8576b"
             ],
             [
              0.6666666666666666,
              "#ed7953"
             ],
             [
              0.7777777777777778,
              "#fb9f3a"
             ],
             [
              0.8888888888888888,
              "#fdca26"
             ],
             [
              1,
              "#f0f921"
             ]
            ],
            "type": "histogram2d"
           }
          ],
          "histogram2dcontour": [
           {
            "colorbar": {
             "outlinewidth": 0,
             "ticks": ""
            },
            "colorscale": [
             [
              0,
              "#0d0887"
             ],
             [
              0.1111111111111111,
              "#46039f"
             ],
             [
              0.2222222222222222,
              "#7201a8"
             ],
             [
              0.3333333333333333,
              "#9c179e"
             ],
             [
              0.4444444444444444,
              "#bd3786"
             ],
             [
              0.5555555555555556,
              "#d8576b"
             ],
             [
              0.6666666666666666,
              "#ed7953"
             ],
             [
              0.7777777777777778,
              "#fb9f3a"
             ],
             [
              0.8888888888888888,
              "#fdca26"
             ],
             [
              1,
              "#f0f921"
             ]
            ],
            "type": "histogram2dcontour"
           }
          ],
          "mesh3d": [
           {
            "colorbar": {
             "outlinewidth": 0,
             "ticks": ""
            },
            "type": "mesh3d"
           }
          ],
          "parcoords": [
           {
            "line": {
             "colorbar": {
              "outlinewidth": 0,
              "ticks": ""
             }
            },
            "type": "parcoords"
           }
          ],
          "pie": [
           {
            "automargin": true,
            "type": "pie"
           }
          ],
          "scatter": [
           {
            "fillpattern": {
             "fillmode": "overlay",
             "size": 10,
             "solidity": 0.2
            },
            "type": "scatter"
           }
          ],
          "scatter3d": [
           {
            "line": {
             "colorbar": {
              "outlinewidth": 0,
              "ticks": ""
             }
            },
            "marker": {
             "colorbar": {
              "outlinewidth": 0,
              "ticks": ""
             }
            },
            "type": "scatter3d"
           }
          ],
          "scattercarpet": [
           {
            "marker": {
             "colorbar": {
              "outlinewidth": 0,
              "ticks": ""
             }
            },
            "type": "scattercarpet"
           }
          ],
          "scattergeo": [
           {
            "marker": {
             "colorbar": {
              "outlinewidth": 0,
              "ticks": ""
             }
            },
            "type": "scattergeo"
           }
          ],
          "scattergl": [
           {
            "marker": {
             "colorbar": {
              "outlinewidth": 0,
              "ticks": ""
             }
            },
            "type": "scattergl"
           }
          ],
          "scattermap": [
           {
            "marker": {
             "colorbar": {
              "outlinewidth": 0,
              "ticks": ""
             }
            },
            "type": "scattermap"
           }
          ],
          "scattermapbox": [
           {
            "marker": {
             "colorbar": {
              "outlinewidth": 0,
              "ticks": ""
             }
            },
            "type": "scattermapbox"
           }
          ],
          "scatterpolar": [
           {
            "marker": {
             "colorbar": {
              "outlinewidth": 0,
              "ticks": ""
             }
            },
            "type": "scatterpolar"
           }
          ],
          "scatterpolargl": [
           {
            "marker": {
             "colorbar": {
              "outlinewidth": 0,
              "ticks": ""
             }
            },
            "type": "scatterpolargl"
           }
          ],
          "scatterternary": [
           {
            "marker": {
             "colorbar": {
              "outlinewidth": 0,
              "ticks": ""
             }
            },
            "type": "scatterternary"
           }
          ],
          "surface": [
           {
            "colorbar": {
             "outlinewidth": 0,
             "ticks": ""
            },
            "colorscale": [
             [
              0,
              "#0d0887"
             ],
             [
              0.1111111111111111,
              "#46039f"
             ],
             [
              0.2222222222222222,
              "#7201a8"
             ],
             [
              0.3333333333333333,
              "#9c179e"
             ],
             [
              0.4444444444444444,
              "#bd3786"
             ],
             [
              0.5555555555555556,
              "#d8576b"
             ],
             [
              0.6666666666666666,
              "#ed7953"
             ],
             [
              0.7777777777777778,
              "#fb9f3a"
             ],
             [
              0.8888888888888888,
              "#fdca26"
             ],
             [
              1,
              "#f0f921"
             ]
            ],
            "type": "surface"
           }
          ],
          "table": [
           {
            "cells": {
             "fill": {
              "color": "#EBF0F8"
             },
             "line": {
              "color": "white"
             }
            },
            "header": {
             "fill": {
              "color": "#C8D4E3"
             },
             "line": {
              "color": "white"
             }
            },
            "type": "table"
           }
          ]
         },
         "layout": {
          "annotationdefaults": {
           "arrowcolor": "#2a3f5f",
           "arrowhead": 0,
           "arrowwidth": 1
          },
          "autotypenumbers": "strict",
          "coloraxis": {
           "colorbar": {
            "outlinewidth": 0,
            "ticks": ""
           }
          },
          "colorscale": {
           "diverging": [
            [
             0,
             "#8e0152"
            ],
            [
             0.1,
             "#c51b7d"
            ],
            [
             0.2,
             "#de77ae"
            ],
            [
             0.3,
             "#f1b6da"
            ],
            [
             0.4,
             "#fde0ef"
            ],
            [
             0.5,
             "#f7f7f7"
            ],
            [
             0.6,
             "#e6f5d0"
            ],
            [
             0.7,
             "#b8e186"
            ],
            [
             0.8,
             "#7fbc41"
            ],
            [
             0.9,
             "#4d9221"
            ],
            [
             1,
             "#276419"
            ]
           ],
           "sequential": [
            [
             0,
             "#0d0887"
            ],
            [
             0.1111111111111111,
             "#46039f"
            ],
            [
             0.2222222222222222,
             "#7201a8"
            ],
            [
             0.3333333333333333,
             "#9c179e"
            ],
            [
             0.4444444444444444,
             "#bd3786"
            ],
            [
             0.5555555555555556,
             "#d8576b"
            ],
            [
             0.6666666666666666,
             "#ed7953"
            ],
            [
             0.7777777777777778,
             "#fb9f3a"
            ],
            [
             0.8888888888888888,
             "#fdca26"
            ],
            [
             1,
             "#f0f921"
            ]
           ],
           "sequentialminus": [
            [
             0,
             "#0d0887"
            ],
            [
             0.1111111111111111,
             "#46039f"
            ],
            [
             0.2222222222222222,
             "#7201a8"
            ],
            [
             0.3333333333333333,
             "#9c179e"
            ],
            [
             0.4444444444444444,
             "#bd3786"
            ],
            [
             0.5555555555555556,
             "#d8576b"
            ],
            [
             0.6666666666666666,
             "#ed7953"
            ],
            [
             0.7777777777777778,
             "#fb9f3a"
            ],
            [
             0.8888888888888888,
             "#fdca26"
            ],
            [
             1,
             "#f0f921"
            ]
           ]
          },
          "colorway": [
           "#636efa",
           "#EF553B",
           "#00cc96",
           "#ab63fa",
           "#FFA15A",
           "#19d3f3",
           "#FF6692",
           "#B6E880",
           "#FF97FF",
           "#FECB52"
          ],
          "font": {
           "color": "#2a3f5f"
          },
          "geo": {
           "bgcolor": "white",
           "lakecolor": "white",
           "landcolor": "#E5ECF6",
           "showlakes": true,
           "showland": true,
           "subunitcolor": "white"
          },
          "hoverlabel": {
           "align": "left"
          },
          "hovermode": "closest",
          "mapbox": {
           "style": "light"
          },
          "paper_bgcolor": "white",
          "plot_bgcolor": "#E5ECF6",
          "polar": {
           "angularaxis": {
            "gridcolor": "white",
            "linecolor": "white",
            "ticks": ""
           },
           "bgcolor": "#E5ECF6",
           "radialaxis": {
            "gridcolor": "white",
            "linecolor": "white",
            "ticks": ""
           }
          },
          "scene": {
           "xaxis": {
            "backgroundcolor": "#E5ECF6",
            "gridcolor": "white",
            "gridwidth": 2,
            "linecolor": "white",
            "showbackground": true,
            "ticks": "",
            "zerolinecolor": "white"
           },
           "yaxis": {
            "backgroundcolor": "#E5ECF6",
            "gridcolor": "white",
            "gridwidth": 2,
            "linecolor": "white",
            "showbackground": true,
            "ticks": "",
            "zerolinecolor": "white"
           },
           "zaxis": {
            "backgroundcolor": "#E5ECF6",
            "gridcolor": "white",
            "gridwidth": 2,
            "linecolor": "white",
            "showbackground": true,
            "ticks": "",
            "zerolinecolor": "white"
           }
          },
          "shapedefaults": {
           "line": {
            "color": "#2a3f5f"
           }
          },
          "ternary": {
           "aaxis": {
            "gridcolor": "white",
            "linecolor": "white",
            "ticks": ""
           },
           "baxis": {
            "gridcolor": "white",
            "linecolor": "white",
            "ticks": ""
           },
           "bgcolor": "#E5ECF6",
           "caxis": {
            "gridcolor": "white",
            "linecolor": "white",
            "ticks": ""
           }
          },
          "title": {
           "x": 0.05
          },
          "xaxis": {
           "automargin": true,
           "gridcolor": "white",
           "linecolor": "white",
           "ticks": "",
           "title": {
            "standoff": 15
           },
           "zerolinecolor": "white",
           "zerolinewidth": 2
          },
          "yaxis": {
           "automargin": true,
           "gridcolor": "white",
           "linecolor": "white",
           "ticks": "",
           "title": {
            "standoff": 15
           },
           "zerolinecolor": "white",
           "zerolinewidth": 2
          }
         }
        },
        "title": {
         "text": "Airports from Sample",
         "x": 0.5,
         "xanchor": "center"
        }
       }
      }
     },
     "metadata": {},
     "output_type": "display_data"
    }
   ],
   "source": [
    "fig = go.Figure(data=go.Scattergeo(\n",
    "    name = \"Has Outgoing Traffic\",\n",
    "    lat = sampleAirportCoords['LAT'].tolist(),\n",
    "    lon = sampleAirportCoords['LONG'].tolist(), \n",
    "    text = sampleAirportCoords['NAME'].tolist(),\n",
    "    mode = 'markers',\n",
    "    marker = dict(\n",
    "        size = 7,\n",
    "        color = 'black'\n",
    "    )\n",
    "))\n",
    "\n",
    "fig.update_layout(\n",
    "    title = {\n",
    "        'text': \"Airports from Sample\",\n",
    "        'x': 0.5,\n",
    "        'xanchor': 'center'\n",
    "    },\n",
    "    showlegend=False,\n",
    "    geo=dict(\n",
    "        scope = 'usa',\n",
    "        showland = True,\n",
    "        landcolor = 'lightgray',\n",
    "    )\n",
    ")\n",
    "\n",
    "fig.show()"
   ]
  },
  {
   "cell_type": "code",
   "execution_count": 698,
   "metadata": {},
   "outputs": [
    {
     "data": {
      "text/html": [
       "<div>\n",
       "<style scoped>\n",
       "    .dataframe tbody tr th:only-of-type {\n",
       "        vertical-align: middle;\n",
       "    }\n",
       "\n",
       "    .dataframe tbody tr th {\n",
       "        vertical-align: top;\n",
       "    }\n",
       "\n",
       "    .dataframe thead th {\n",
       "        text-align: right;\n",
       "    }\n",
       "</style>\n",
       "<table border=\"1\" class=\"dataframe\">\n",
       "  <thead>\n",
       "    <tr style=\"text-align: right;\">\n",
       "      <th></th>\n",
       "      <th>SRCLAT</th>\n",
       "      <th>SRCLONG</th>\n",
       "      <th>DESTINLAT</th>\n",
       "      <th>DESTINLONG</th>\n",
       "    </tr>\n",
       "  </thead>\n",
       "  <tbody>\n",
       "    <tr>\n",
       "      <th>0</th>\n",
       "      <td>38.748697</td>\n",
       "      <td>-90.370003</td>\n",
       "      <td>39.998001</td>\n",
       "      <td>-82.891899</td>\n",
       "    </tr>\n",
       "    <tr>\n",
       "      <th>1</th>\n",
       "      <td>32.896801</td>\n",
       "      <td>-97.038002</td>\n",
       "      <td>32.896801</td>\n",
       "      <td>-97.038002</td>\n",
       "    </tr>\n",
       "    <tr>\n",
       "      <th>2</th>\n",
       "      <td>36.532082</td>\n",
       "      <td>-93.200544</td>\n",
       "      <td>41.504101</td>\n",
       "      <td>-74.104797</td>\n",
       "    </tr>\n",
       "    <tr>\n",
       "      <th>3</th>\n",
       "      <td>39.998001</td>\n",
       "      <td>-82.891899</td>\n",
       "      <td>36.124500</td>\n",
       "      <td>-86.678200</td>\n",
       "    </tr>\n",
       "    <tr>\n",
       "      <th>4</th>\n",
       "      <td>43.564400</td>\n",
       "      <td>-116.223000</td>\n",
       "      <td>37.618999</td>\n",
       "      <td>-122.375000</td>\n",
       "    </tr>\n",
       "    <tr>\n",
       "      <th>5</th>\n",
       "      <td>29.993401</td>\n",
       "      <td>-90.258003</td>\n",
       "      <td>32.896801</td>\n",
       "      <td>-97.038002</td>\n",
       "    </tr>\n",
       "    <tr>\n",
       "      <th>6</th>\n",
       "      <td>33.679699</td>\n",
       "      <td>-78.928299</td>\n",
       "      <td>38.852100</td>\n",
       "      <td>-77.037697</td>\n",
       "    </tr>\n",
       "    <tr>\n",
       "      <th>7</th>\n",
       "      <td>45.588699</td>\n",
       "      <td>-122.598000</td>\n",
       "      <td>43.564400</td>\n",
       "      <td>-116.223000</td>\n",
       "    </tr>\n",
       "    <tr>\n",
       "      <th>8</th>\n",
       "      <td>36.124500</td>\n",
       "      <td>-86.678200</td>\n",
       "      <td>36.124500</td>\n",
       "      <td>-86.678200</td>\n",
       "    </tr>\n",
       "    <tr>\n",
       "      <th>9</th>\n",
       "      <td>33.636700</td>\n",
       "      <td>-84.428101</td>\n",
       "      <td>33.679699</td>\n",
       "      <td>-78.928299</td>\n",
       "    </tr>\n",
       "    <tr>\n",
       "      <th>10</th>\n",
       "      <td>32.896801</td>\n",
       "      <td>-97.038002</td>\n",
       "      <td>39.297600</td>\n",
       "      <td>-94.713898</td>\n",
       "    </tr>\n",
       "    <tr>\n",
       "      <th>11</th>\n",
       "      <td>36.124500</td>\n",
       "      <td>-86.678200</td>\n",
       "      <td>33.636700</td>\n",
       "      <td>-84.428101</td>\n",
       "    </tr>\n",
       "    <tr>\n",
       "      <th>12</th>\n",
       "      <td>41.504101</td>\n",
       "      <td>-74.104797</td>\n",
       "      <td>61.174400</td>\n",
       "      <td>-149.996002</td>\n",
       "    </tr>\n",
       "    <tr>\n",
       "      <th>13</th>\n",
       "      <td>39.297600</td>\n",
       "      <td>-94.713898</td>\n",
       "      <td>39.297600</td>\n",
       "      <td>-94.713898</td>\n",
       "    </tr>\n",
       "    <tr>\n",
       "      <th>14</th>\n",
       "      <td>46.606800</td>\n",
       "      <td>-111.983002</td>\n",
       "      <td>36.532082</td>\n",
       "      <td>-93.200544</td>\n",
       "    </tr>\n",
       "    <tr>\n",
       "      <th>15</th>\n",
       "      <td>38.852100</td>\n",
       "      <td>-77.037697</td>\n",
       "      <td>40.639801</td>\n",
       "      <td>-73.778900</td>\n",
       "    </tr>\n",
       "    <tr>\n",
       "      <th>16</th>\n",
       "      <td>23.151800</td>\n",
       "      <td>-109.721001</td>\n",
       "      <td>29.984400</td>\n",
       "      <td>-95.341400</td>\n",
       "    </tr>\n",
       "    <tr>\n",
       "      <th>17</th>\n",
       "      <td>39.297600</td>\n",
       "      <td>-94.713898</td>\n",
       "      <td>38.748697</td>\n",
       "      <td>-90.370003</td>\n",
       "    </tr>\n",
       "    <tr>\n",
       "      <th>18</th>\n",
       "      <td>36.124500</td>\n",
       "      <td>-86.678200</td>\n",
       "      <td>36.124500</td>\n",
       "      <td>-86.678200</td>\n",
       "    </tr>\n",
       "    <tr>\n",
       "      <th>19</th>\n",
       "      <td>39.297600</td>\n",
       "      <td>-94.713898</td>\n",
       "      <td>39.297600</td>\n",
       "      <td>-94.713898</td>\n",
       "    </tr>\n",
       "    <tr>\n",
       "      <th>20</th>\n",
       "      <td>29.984400</td>\n",
       "      <td>-95.341400</td>\n",
       "      <td>29.993401</td>\n",
       "      <td>-90.258003</td>\n",
       "    </tr>\n",
       "    <tr>\n",
       "      <th>21</th>\n",
       "      <td>37.618999</td>\n",
       "      <td>-122.375000</td>\n",
       "      <td>23.151800</td>\n",
       "      <td>-109.721001</td>\n",
       "    </tr>\n",
       "    <tr>\n",
       "      <th>22</th>\n",
       "      <td>40.639801</td>\n",
       "      <td>-73.778900</td>\n",
       "      <td>43.118900</td>\n",
       "      <td>-77.672401</td>\n",
       "    </tr>\n",
       "    <tr>\n",
       "      <th>23</th>\n",
       "      <td>43.118900</td>\n",
       "      <td>-77.672401</td>\n",
       "      <td>46.606800</td>\n",
       "      <td>-111.983002</td>\n",
       "    </tr>\n",
       "    <tr>\n",
       "      <th>24</th>\n",
       "      <td>61.174400</td>\n",
       "      <td>-149.996002</td>\n",
       "      <td>45.588699</td>\n",
       "      <td>-122.598000</td>\n",
       "    </tr>\n",
       "  </tbody>\n",
       "</table>\n",
       "</div>"
      ],
      "text/plain": [
       "       SRCLAT     SRCLONG  DESTINLAT  DESTINLONG\n",
       "0   38.748697  -90.370003  39.998001  -82.891899\n",
       "1   32.896801  -97.038002  32.896801  -97.038002\n",
       "2   36.532082  -93.200544  41.504101  -74.104797\n",
       "3   39.998001  -82.891899  36.124500  -86.678200\n",
       "4   43.564400 -116.223000  37.618999 -122.375000\n",
       "5   29.993401  -90.258003  32.896801  -97.038002\n",
       "6   33.679699  -78.928299  38.852100  -77.037697\n",
       "7   45.588699 -122.598000  43.564400 -116.223000\n",
       "8   36.124500  -86.678200  36.124500  -86.678200\n",
       "9   33.636700  -84.428101  33.679699  -78.928299\n",
       "10  32.896801  -97.038002  39.297600  -94.713898\n",
       "11  36.124500  -86.678200  33.636700  -84.428101\n",
       "12  41.504101  -74.104797  61.174400 -149.996002\n",
       "13  39.297600  -94.713898  39.297600  -94.713898\n",
       "14  46.606800 -111.983002  36.532082  -93.200544\n",
       "15  38.852100  -77.037697  40.639801  -73.778900\n",
       "16  23.151800 -109.721001  29.984400  -95.341400\n",
       "17  39.297600  -94.713898  38.748697  -90.370003\n",
       "18  36.124500  -86.678200  36.124500  -86.678200\n",
       "19  39.297600  -94.713898  39.297600  -94.713898\n",
       "20  29.984400  -95.341400  29.993401  -90.258003\n",
       "21  37.618999 -122.375000  23.151800 -109.721001\n",
       "22  40.639801  -73.778900  43.118900  -77.672401\n",
       "23  43.118900  -77.672401  46.606800 -111.983002\n",
       "24  61.174400 -149.996002  45.588699 -122.598000"
      ]
     },
     "execution_count": 698,
     "metadata": {},
     "output_type": "execute_result"
    }
   ],
   "source": [
    "valMatrix = []\n",
    "for i in range(len(distMatrix)):\n",
    "    valList = []\n",
    "    for j in range(len(distMatrix)):\n",
    "        valList.append(int(pulp.value(x[i, j])))\n",
    "    valMatrix.append(valList)\n",
    "\n",
    "valMatrix = pd.DataFrame(valMatrix, columns = distMatrixHeaders.columns, index = distMatrixHeaders.index)\n",
    "    \n",
    "path = []\n",
    "for index, row in valMatrix.iterrows():\n",
    "    matchingCols = row[row == 1].index.tolist()\n",
    "    for col in matchingCols:\n",
    "        path.append((index, col))\n",
    "    \n",
    "srcLatList = []\n",
    "srcLongList = []\n",
    "destinLatList = []\n",
    "destinLongList = []\n",
    "for i in range(len(path)):\n",
    "    src = airports_csv[airports_csv['IATA'] == path[i][0]]\n",
    "    src = src.reset_index(drop=True)\n",
    "    destin = airports_csv[airports_csv['IATA'] == path[i][1]]\n",
    "    destin = destin.reset_index(drop=True)\n",
    "    srcLatList.append(src.at[0, 'LAT'])\n",
    "    srcLongList.append(src.at[0, 'LONG'])\n",
    "    destinLatList.append(destin.at[0, 'LAT'])\n",
    "    destinLongList.append(destin.at[0, 'LONG'])\n",
    "\n",
    "pathCoords = pd.DataFrame({\n",
    "    'SRCLAT': srcLatList,\n",
    "    'SRCLONG': srcLongList,\n",
    "    'DESTINLAT': destinLatList,\n",
    "    'DESTINLONG': destinLongList\n",
    "})\n",
    "pathCoords"
   ]
  },
  {
   "cell_type": "code",
   "execution_count": 700,
   "metadata": {},
   "outputs": [
    {
     "data": {
      "application/vnd.plotly.v1+json": {
       "config": {
        "plotlyServerURL": "https://plot.ly"
       },
       "data": [
        {
         "lat": [
          23.15180015563965,
          39.2976,
          37.61899948120117,
          43.5644,
          46.6068000793457,
          33.6796989441,
          38.8521,
          29.984399795532227,
          43.118900299072266,
          41.50410079956055,
          32.896801,
          38.748697,
          33.6367,
          36.1245002746582,
          45.58869934,
          39.998001,
          61.17440032958984,
          40.63980103,
          29.99340057373047,
          36.532082
         ],
         "lon": [
          -109.72100067138672,
          -94.713898,
          -122.375,
          -116.223,
          -111.98300170898438,
          -78.9282989502,
          -77.037697,
          -95.34140014648438,
          -77.67240142822266,
          -74.10479736328125,
          -97.038002,
          -90.370003,
          -84.428101,
          -86.6781997680664,
          -122.5979996,
          -82.891899,
          -149.99600219726562,
          -73.77890015,
          -90.25800323486328,
          -93.200544
         ],
         "marker": {
          "color": "black",
          "size": 7
         },
         "mode": "markers+text",
         "text": [
          "SJD",
          "MCI",
          "SFO",
          "BOI",
          "HLN",
          "MYR",
          "DCA",
          "IAH",
          "ROC",
          "SWF",
          "DFW",
          "STL",
          "ATL",
          "BNA",
          "PDX",
          "CMH",
          "ANC",
          "JFK",
          "MSY",
          "BKG"
         ],
         "textfont": {
          "size": 8,
          "weight": "bold"
         },
         "textposition": "top center",
         "type": "scattergeo"
        },
        {
         "lat": [
          38.748697,
          39.998001
         ],
         "lon": [
          -90.370003,
          -82.891899
         ],
         "marker": {
          "color": "red",
          "size": 10
         },
         "mode": "lines",
         "opacity": 0.5,
         "type": "scattergeo"
        },
        {
         "lat": [
          32.896801,
          32.896801
         ],
         "lon": [
          -97.038002,
          -97.038002
         ],
         "marker": {
          "color": "red",
          "size": 10
         },
         "mode": "lines",
         "opacity": 0.5,
         "type": "scattergeo"
        },
        {
         "lat": [
          36.532082,
          41.50410079956055
         ],
         "lon": [
          -93.200544,
          -74.10479736328125
         ],
         "marker": {
          "color": "red",
          "size": 10
         },
         "mode": "lines",
         "opacity": 0.5,
         "type": "scattergeo"
        },
        {
         "lat": [
          39.998001,
          36.1245002746582
         ],
         "lon": [
          -82.891899,
          -86.6781997680664
         ],
         "marker": {
          "color": "red",
          "size": 10
         },
         "mode": "lines",
         "opacity": 0.5,
         "type": "scattergeo"
        },
        {
         "lat": [
          43.5644,
          37.61899948120117
         ],
         "lon": [
          -116.223,
          -122.375
         ],
         "marker": {
          "color": "red",
          "size": 10
         },
         "mode": "lines",
         "opacity": 0.5,
         "type": "scattergeo"
        },
        {
         "lat": [
          29.99340057373047,
          32.896801
         ],
         "lon": [
          -90.25800323486328,
          -97.038002
         ],
         "marker": {
          "color": "red",
          "size": 10
         },
         "mode": "lines",
         "opacity": 0.5,
         "type": "scattergeo"
        },
        {
         "lat": [
          33.6796989441,
          38.8521
         ],
         "lon": [
          -78.9282989502,
          -77.037697
         ],
         "marker": {
          "color": "red",
          "size": 10
         },
         "mode": "lines",
         "opacity": 0.5,
         "type": "scattergeo"
        },
        {
         "lat": [
          45.58869934,
          43.5644
         ],
         "lon": [
          -122.5979996,
          -116.223
         ],
         "marker": {
          "color": "red",
          "size": 10
         },
         "mode": "lines",
         "opacity": 0.5,
         "type": "scattergeo"
        },
        {
         "lat": [
          36.1245002746582,
          36.1245002746582
         ],
         "lon": [
          -86.6781997680664,
          -86.6781997680664
         ],
         "marker": {
          "color": "red",
          "size": 10
         },
         "mode": "lines",
         "opacity": 0.5,
         "type": "scattergeo"
        },
        {
         "lat": [
          33.6367,
          33.6796989441
         ],
         "lon": [
          -84.428101,
          -78.9282989502
         ],
         "marker": {
          "color": "red",
          "size": 10
         },
         "mode": "lines",
         "opacity": 0.5,
         "type": "scattergeo"
        },
        {
         "lat": [
          32.896801,
          39.2976
         ],
         "lon": [
          -97.038002,
          -94.713898
         ],
         "marker": {
          "color": "red",
          "size": 10
         },
         "mode": "lines",
         "opacity": 0.5,
         "type": "scattergeo"
        },
        {
         "lat": [
          36.1245002746582,
          33.6367
         ],
         "lon": [
          -86.6781997680664,
          -84.428101
         ],
         "marker": {
          "color": "red",
          "size": 10
         },
         "mode": "lines",
         "opacity": 0.5,
         "type": "scattergeo"
        },
        {
         "lat": [
          41.50410079956055,
          61.17440032958984
         ],
         "lon": [
          -74.10479736328125,
          -149.99600219726562
         ],
         "marker": {
          "color": "red",
          "size": 10
         },
         "mode": "lines",
         "opacity": 0.5,
         "type": "scattergeo"
        },
        {
         "lat": [
          39.2976,
          39.2976
         ],
         "lon": [
          -94.713898,
          -94.713898
         ],
         "marker": {
          "color": "red",
          "size": 10
         },
         "mode": "lines",
         "opacity": 0.5,
         "type": "scattergeo"
        },
        {
         "lat": [
          46.6068000793457,
          36.532082
         ],
         "lon": [
          -111.98300170898438,
          -93.200544
         ],
         "marker": {
          "color": "red",
          "size": 10
         },
         "mode": "lines",
         "opacity": 0.5,
         "type": "scattergeo"
        },
        {
         "lat": [
          38.8521,
          40.63980103
         ],
         "lon": [
          -77.037697,
          -73.77890015
         ],
         "marker": {
          "color": "red",
          "size": 10
         },
         "mode": "lines",
         "opacity": 0.5,
         "type": "scattergeo"
        },
        {
         "lat": [
          23.15180015563965,
          29.984399795532227
         ],
         "lon": [
          -109.72100067138672,
          -95.34140014648438
         ],
         "marker": {
          "color": "red",
          "size": 10
         },
         "mode": "lines",
         "opacity": 0.5,
         "type": "scattergeo"
        },
        {
         "lat": [
          39.2976,
          38.748697
         ],
         "lon": [
          -94.713898,
          -90.370003
         ],
         "marker": {
          "color": "red",
          "size": 10
         },
         "mode": "lines",
         "opacity": 0.5,
         "type": "scattergeo"
        },
        {
         "lat": [
          36.1245002746582,
          36.1245002746582
         ],
         "lon": [
          -86.6781997680664,
          -86.6781997680664
         ],
         "marker": {
          "color": "red",
          "size": 10
         },
         "mode": "lines",
         "opacity": 0.5,
         "type": "scattergeo"
        },
        {
         "lat": [
          39.2976,
          39.2976
         ],
         "lon": [
          -94.713898,
          -94.713898
         ],
         "marker": {
          "color": "red",
          "size": 10
         },
         "mode": "lines",
         "opacity": 0.5,
         "type": "scattergeo"
        },
        {
         "lat": [
          29.984399795532227,
          29.99340057373047
         ],
         "lon": [
          -95.34140014648438,
          -90.25800323486328
         ],
         "marker": {
          "color": "red",
          "size": 10
         },
         "mode": "lines",
         "opacity": 0.5,
         "type": "scattergeo"
        },
        {
         "lat": [
          37.61899948120117,
          23.15180015563965
         ],
         "lon": [
          -122.375,
          -109.72100067138672
         ],
         "marker": {
          "color": "red",
          "size": 10
         },
         "mode": "lines",
         "opacity": 0.5,
         "type": "scattergeo"
        },
        {
         "lat": [
          40.63980103,
          43.118900299072266
         ],
         "lon": [
          -73.77890015,
          -77.67240142822266
         ],
         "marker": {
          "color": "red",
          "size": 10
         },
         "mode": "lines",
         "opacity": 0.5,
         "type": "scattergeo"
        },
        {
         "lat": [
          43.118900299072266,
          46.6068000793457
         ],
         "lon": [
          -77.67240142822266,
          -111.98300170898438
         ],
         "marker": {
          "color": "red",
          "size": 10
         },
         "mode": "lines",
         "opacity": 0.5,
         "type": "scattergeo"
        },
        {
         "lat": [
          61.17440032958984,
          45.58869934
         ],
         "lon": [
          -149.99600219726562,
          -122.5979996
         ],
         "marker": {
          "color": "red",
          "size": 10
         },
         "mode": "lines",
         "opacity": 0.5,
         "type": "scattergeo"
        }
       ],
       "layout": {
        "geo": {
         "landcolor": "lightgray",
         "scope": "world",
         "showland": true
        },
        "showlegend": false,
        "template": {
         "data": {
          "bar": [
           {
            "error_x": {
             "color": "#2a3f5f"
            },
            "error_y": {
             "color": "#2a3f5f"
            },
            "marker": {
             "line": {
              "color": "#E5ECF6",
              "width": 0.5
             },
             "pattern": {
              "fillmode": "overlay",
              "size": 10,
              "solidity": 0.2
             }
            },
            "type": "bar"
           }
          ],
          "barpolar": [
           {
            "marker": {
             "line": {
              "color": "#E5ECF6",
              "width": 0.5
             },
             "pattern": {
              "fillmode": "overlay",
              "size": 10,
              "solidity": 0.2
             }
            },
            "type": "barpolar"
           }
          ],
          "carpet": [
           {
            "aaxis": {
             "endlinecolor": "#2a3f5f",
             "gridcolor": "white",
             "linecolor": "white",
             "minorgridcolor": "white",
             "startlinecolor": "#2a3f5f"
            },
            "baxis": {
             "endlinecolor": "#2a3f5f",
             "gridcolor": "white",
             "linecolor": "white",
             "minorgridcolor": "white",
             "startlinecolor": "#2a3f5f"
            },
            "type": "carpet"
           }
          ],
          "choropleth": [
           {
            "colorbar": {
             "outlinewidth": 0,
             "ticks": ""
            },
            "type": "choropleth"
           }
          ],
          "contour": [
           {
            "colorbar": {
             "outlinewidth": 0,
             "ticks": ""
            },
            "colorscale": [
             [
              0,
              "#0d0887"
             ],
             [
              0.1111111111111111,
              "#46039f"
             ],
             [
              0.2222222222222222,
              "#7201a8"
             ],
             [
              0.3333333333333333,
              "#9c179e"
             ],
             [
              0.4444444444444444,
              "#bd3786"
             ],
             [
              0.5555555555555556,
              "#d8576b"
             ],
             [
              0.6666666666666666,
              "#ed7953"
             ],
             [
              0.7777777777777778,
              "#fb9f3a"
             ],
             [
              0.8888888888888888,
              "#fdca26"
             ],
             [
              1,
              "#f0f921"
             ]
            ],
            "type": "contour"
           }
          ],
          "contourcarpet": [
           {
            "colorbar": {
             "outlinewidth": 0,
             "ticks": ""
            },
            "type": "contourcarpet"
           }
          ],
          "heatmap": [
           {
            "colorbar": {
             "outlinewidth": 0,
             "ticks": ""
            },
            "colorscale": [
             [
              0,
              "#0d0887"
             ],
             [
              0.1111111111111111,
              "#46039f"
             ],
             [
              0.2222222222222222,
              "#7201a8"
             ],
             [
              0.3333333333333333,
              "#9c179e"
             ],
             [
              0.4444444444444444,
              "#bd3786"
             ],
             [
              0.5555555555555556,
              "#d8576b"
             ],
             [
              0.6666666666666666,
              "#ed7953"
             ],
             [
              0.7777777777777778,
              "#fb9f3a"
             ],
             [
              0.8888888888888888,
              "#fdca26"
             ],
             [
              1,
              "#f0f921"
             ]
            ],
            "type": "heatmap"
           }
          ],
          "histogram": [
           {
            "marker": {
             "pattern": {
              "fillmode": "overlay",
              "size": 10,
              "solidity": 0.2
             }
            },
            "type": "histogram"
           }
          ],
          "histogram2d": [
           {
            "colorbar": {
             "outlinewidth": 0,
             "ticks": ""
            },
            "colorscale": [
             [
              0,
              "#0d0887"
             ],
             [
              0.1111111111111111,
              "#46039f"
             ],
             [
              0.2222222222222222,
              "#7201a8"
             ],
             [
              0.3333333333333333,
              "#9c179e"
             ],
             [
              0.4444444444444444,
              "#bd3786"
             ],
             [
              0.5555555555555556,
              "#d8576b"
             ],
             [
              0.6666666666666666,
              "#ed7953"
             ],
             [
              0.7777777777777778,
              "#fb9f3a"
             ],
             [
              0.8888888888888888,
              "#fdca26"
             ],
             [
              1,
              "#f0f921"
             ]
            ],
            "type": "histogram2d"
           }
          ],
          "histogram2dcontour": [
           {
            "colorbar": {
             "outlinewidth": 0,
             "ticks": ""
            },
            "colorscale": [
             [
              0,
              "#0d0887"
             ],
             [
              0.1111111111111111,
              "#46039f"
             ],
             [
              0.2222222222222222,
              "#7201a8"
             ],
             [
              0.3333333333333333,
              "#9c179e"
             ],
             [
              0.4444444444444444,
              "#bd3786"
             ],
             [
              0.5555555555555556,
              "#d8576b"
             ],
             [
              0.6666666666666666,
              "#ed7953"
             ],
             [
              0.7777777777777778,
              "#fb9f3a"
             ],
             [
              0.8888888888888888,
              "#fdca26"
             ],
             [
              1,
              "#f0f921"
             ]
            ],
            "type": "histogram2dcontour"
           }
          ],
          "mesh3d": [
           {
            "colorbar": {
             "outlinewidth": 0,
             "ticks": ""
            },
            "type": "mesh3d"
           }
          ],
          "parcoords": [
           {
            "line": {
             "colorbar": {
              "outlinewidth": 0,
              "ticks": ""
             }
            },
            "type": "parcoords"
           }
          ],
          "pie": [
           {
            "automargin": true,
            "type": "pie"
           }
          ],
          "scatter": [
           {
            "fillpattern": {
             "fillmode": "overlay",
             "size": 10,
             "solidity": 0.2
            },
            "type": "scatter"
           }
          ],
          "scatter3d": [
           {
            "line": {
             "colorbar": {
              "outlinewidth": 0,
              "ticks": ""
             }
            },
            "marker": {
             "colorbar": {
              "outlinewidth": 0,
              "ticks": ""
             }
            },
            "type": "scatter3d"
           }
          ],
          "scattercarpet": [
           {
            "marker": {
             "colorbar": {
              "outlinewidth": 0,
              "ticks": ""
             }
            },
            "type": "scattercarpet"
           }
          ],
          "scattergeo": [
           {
            "marker": {
             "colorbar": {
              "outlinewidth": 0,
              "ticks": ""
             }
            },
            "type": "scattergeo"
           }
          ],
          "scattergl": [
           {
            "marker": {
             "colorbar": {
              "outlinewidth": 0,
              "ticks": ""
             }
            },
            "type": "scattergl"
           }
          ],
          "scattermap": [
           {
            "marker": {
             "colorbar": {
              "outlinewidth": 0,
              "ticks": ""
             }
            },
            "type": "scattermap"
           }
          ],
          "scattermapbox": [
           {
            "marker": {
             "colorbar": {
              "outlinewidth": 0,
              "ticks": ""
             }
            },
            "type": "scattermapbox"
           }
          ],
          "scatterpolar": [
           {
            "marker": {
             "colorbar": {
              "outlinewidth": 0,
              "ticks": ""
             }
            },
            "type": "scatterpolar"
           }
          ],
          "scatterpolargl": [
           {
            "marker": {
             "colorbar": {
              "outlinewidth": 0,
              "ticks": ""
             }
            },
            "type": "scatterpolargl"
           }
          ],
          "scatterternary": [
           {
            "marker": {
             "colorbar": {
              "outlinewidth": 0,
              "ticks": ""
             }
            },
            "type": "scatterternary"
           }
          ],
          "surface": [
           {
            "colorbar": {
             "outlinewidth": 0,
             "ticks": ""
            },
            "colorscale": [
             [
              0,
              "#0d0887"
             ],
             [
              0.1111111111111111,
              "#46039f"
             ],
             [
              0.2222222222222222,
              "#7201a8"
             ],
             [
              0.3333333333333333,
              "#9c179e"
             ],
             [
              0.4444444444444444,
              "#bd3786"
             ],
             [
              0.5555555555555556,
              "#d8576b"
             ],
             [
              0.6666666666666666,
              "#ed7953"
             ],
             [
              0.7777777777777778,
              "#fb9f3a"
             ],
             [
              0.8888888888888888,
              "#fdca26"
             ],
             [
              1,
              "#f0f921"
             ]
            ],
            "type": "surface"
           }
          ],
          "table": [
           {
            "cells": {
             "fill": {
              "color": "#EBF0F8"
             },
             "line": {
              "color": "white"
             }
            },
            "header": {
             "fill": {
              "color": "#C8D4E3"
             },
             "line": {
              "color": "white"
             }
            },
            "type": "table"
           }
          ]
         },
         "layout": {
          "annotationdefaults": {
           "arrowcolor": "#2a3f5f",
           "arrowhead": 0,
           "arrowwidth": 1
          },
          "autotypenumbers": "strict",
          "coloraxis": {
           "colorbar": {
            "outlinewidth": 0,
            "ticks": ""
           }
          },
          "colorscale": {
           "diverging": [
            [
             0,
             "#8e0152"
            ],
            [
             0.1,
             "#c51b7d"
            ],
            [
             0.2,
             "#de77ae"
            ],
            [
             0.3,
             "#f1b6da"
            ],
            [
             0.4,
             "#fde0ef"
            ],
            [
             0.5,
             "#f7f7f7"
            ],
            [
             0.6,
             "#e6f5d0"
            ],
            [
             0.7,
             "#b8e186"
            ],
            [
             0.8,
             "#7fbc41"
            ],
            [
             0.9,
             "#4d9221"
            ],
            [
             1,
             "#276419"
            ]
           ],
           "sequential": [
            [
             0,
             "#0d0887"
            ],
            [
             0.1111111111111111,
             "#46039f"
            ],
            [
             0.2222222222222222,
             "#7201a8"
            ],
            [
             0.3333333333333333,
             "#9c179e"
            ],
            [
             0.4444444444444444,
             "#bd3786"
            ],
            [
             0.5555555555555556,
             "#d8576b"
            ],
            [
             0.6666666666666666,
             "#ed7953"
            ],
            [
             0.7777777777777778,
             "#fb9f3a"
            ],
            [
             0.8888888888888888,
             "#fdca26"
            ],
            [
             1,
             "#f0f921"
            ]
           ],
           "sequentialminus": [
            [
             0,
             "#0d0887"
            ],
            [
             0.1111111111111111,
             "#46039f"
            ],
            [
             0.2222222222222222,
             "#7201a8"
            ],
            [
             0.3333333333333333,
             "#9c179e"
            ],
            [
             0.4444444444444444,
             "#bd3786"
            ],
            [
             0.5555555555555556,
             "#d8576b"
            ],
            [
             0.6666666666666666,
             "#ed7953"
            ],
            [
             0.7777777777777778,
             "#fb9f3a"
            ],
            [
             0.8888888888888888,
             "#fdca26"
            ],
            [
             1,
             "#f0f921"
            ]
           ]
          },
          "colorway": [
           "#636efa",
           "#EF553B",
           "#00cc96",
           "#ab63fa",
           "#FFA15A",
           "#19d3f3",
           "#FF6692",
           "#B6E880",
           "#FF97FF",
           "#FECB52"
          ],
          "font": {
           "color": "#2a3f5f"
          },
          "geo": {
           "bgcolor": "white",
           "lakecolor": "white",
           "landcolor": "#E5ECF6",
           "showlakes": true,
           "showland": true,
           "subunitcolor": "white"
          },
          "hoverlabel": {
           "align": "left"
          },
          "hovermode": "closest",
          "mapbox": {
           "style": "light"
          },
          "paper_bgcolor": "white",
          "plot_bgcolor": "#E5ECF6",
          "polar": {
           "angularaxis": {
            "gridcolor": "white",
            "linecolor": "white",
            "ticks": ""
           },
           "bgcolor": "#E5ECF6",
           "radialaxis": {
            "gridcolor": "white",
            "linecolor": "white",
            "ticks": ""
           }
          },
          "scene": {
           "xaxis": {
            "backgroundcolor": "#E5ECF6",
            "gridcolor": "white",
            "gridwidth": 2,
            "linecolor": "white",
            "showbackground": true,
            "ticks": "",
            "zerolinecolor": "white"
           },
           "yaxis": {
            "backgroundcolor": "#E5ECF6",
            "gridcolor": "white",
            "gridwidth": 2,
            "linecolor": "white",
            "showbackground": true,
            "ticks": "",
            "zerolinecolor": "white"
           },
           "zaxis": {
            "backgroundcolor": "#E5ECF6",
            "gridcolor": "white",
            "gridwidth": 2,
            "linecolor": "white",
            "showbackground": true,
            "ticks": "",
            "zerolinecolor": "white"
           }
          },
          "shapedefaults": {
           "line": {
            "color": "#2a3f5f"
           }
          },
          "ternary": {
           "aaxis": {
            "gridcolor": "white",
            "linecolor": "white",
            "ticks": ""
           },
           "baxis": {
            "gridcolor": "white",
            "linecolor": "white",
            "ticks": ""
           },
           "bgcolor": "#E5ECF6",
           "caxis": {
            "gridcolor": "white",
            "linecolor": "white",
            "ticks": ""
           }
          },
          "title": {
           "x": 0.05
          },
          "xaxis": {
           "automargin": true,
           "gridcolor": "white",
           "linecolor": "white",
           "ticks": "",
           "title": {
            "standoff": 15
           },
           "zerolinecolor": "white",
           "zerolinewidth": 2
          },
          "yaxis": {
           "automargin": true,
           "gridcolor": "white",
           "linecolor": "white",
           "ticks": "",
           "title": {
            "standoff": 15
           },
           "zerolinecolor": "white",
           "zerolinewidth": 2
          }
         }
        },
        "title": {
         "text": "Route Created from Sampled Airports",
         "x": 0.5,
         "xanchor": "center"
        }
       }
      }
     },
     "metadata": {},
     "output_type": "display_data"
    }
   ],
   "source": [
    "fig = go.Figure(data=go.Scattergeo(\n",
    "    lat = sampleAirportCoords['LAT'].tolist(),\n",
    "    lon = sampleAirportCoords['LONG'].tolist(), \n",
    "    text = sampleAirportCoords['IATA'].tolist(),\n",
    "    mode = 'markers+text',\n",
    "    marker = dict(\n",
    "        size = 7,\n",
    "        color = 'black'\n",
    "    ),\n",
    "    textposition='top center',\n",
    "    textfont = dict(\n",
    "            weight = 'bold',\n",
    "            size = 8\n",
    "        ),\n",
    "    )\n",
    ")\n",
    "\n",
    "for index, row in pathCoords.iterrows():\n",
    "    fig.add_trace(go.Scattergeo(\n",
    "        mode = \"lines\",\n",
    "        lat = [row['SRCLAT'], row['DESTINLAT']],\n",
    "        lon = [row['SRCLONG'], row['DESTINLONG']],\n",
    "        opacity=.5,\n",
    "        marker = dict(\n",
    "            size = 10,\n",
    "            color = 'red'\n",
    "        )\n",
    "    )\n",
    ")\n",
    "\n",
    "fig.update_layout(\n",
    "    title = {\n",
    "        'text': \"Route Created from Sampled Airports\",\n",
    "        'x': 0.5,\n",
    "        'xanchor': 'center'\n",
    "    },\n",
    "    showlegend=False,\n",
    "    geo=dict(\n",
    "        scope = 'world',\n",
    "        showland = True,\n",
    "        landcolor = 'lightgray',\n",
    "    )\n",
    ")\n",
    "\n",
    "fig.show()"
   ]
  }
 ],
 "metadata": {
  "kernelspec": {
   "display_name": "Python 3",
   "language": "python",
   "name": "python3"
  },
  "language_info": {
   "codemirror_mode": {
    "name": "ipython",
    "version": 3
   },
   "file_extension": ".py",
   "mimetype": "text/x-python",
   "name": "python",
   "nbconvert_exporter": "python",
   "pygments_lexer": "ipython3",
   "version": "3.12.6"
  }
 },
 "nbformat": 4,
 "nbformat_minor": 2
}

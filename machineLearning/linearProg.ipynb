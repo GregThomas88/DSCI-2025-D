{
 "cells": [
  {
   "cell_type": "code",
   "execution_count": 76,
   "metadata": {},
   "outputs": [],
   "source": [
    "from pulp import *\n",
    "import pandas as pd\n",
    "import networkx as nx\n",
    "import pandas as pd\n",
    "#Heavily influenced by, need to make sure we understand the code so we can use it and not plagerize as a final product\n",
    "#https://www.kaggle.com/code/itoeiji/solving-tsp-and-vrp-by-mip-using-pulp"
   ]
  },
  {
   "cell_type": "code",
   "execution_count": 57,
   "metadata": {},
   "outputs": [],
   "source": [
    "distEnum = {\n",
    "    \"SFO\": { \"SFO\": 0, \"LAX\": 500, \"SJC\": 75, \"OAK\": 50},\n",
    "    \"LAX\": { \"SFO\": 500, \"LAX\": 0, \"SJC\": 280, \"OAK\": 800},\n",
    "    \"SJC\": { \"SFO\": 75, \"LAX\": 280, \"SJC\": 0, \"OAK\": 30},\n",
    "    \"OAK\": { \"SFO\": 50, \"LAX\": 800, \"SJC\": 30, \"OAK\": 0}\n",
    "}\n",
    "\n",
    "\n",
    "distDict = pd.DataFrame( \n",
    "    [\n",
    "    [0, 500, 75, 50],\n",
    "    [500, 0, 280, 800],\n",
    "    [75, 280, 0, 30],\n",
    "    [50, 800, 30, 0]\n",
    "    ])\n",
    "\n",
    "distDict2 = pd.DataFrame( \n",
    "    [\n",
    "    [0, 9999, 469, 857, 375],  #MSY\n",
    "    [9999, 0, 549, 1188, 464], #IND\n",
    "    [469, 549, 0, 639, 380],   #ATL\n",
    "    [857, 1188, 639, 0, 9999], #FLL\n",
    "    [375, 464, 380, 9999, 0]   #MEM\n",
    "    ])"
   ]
  },
  {
   "cell_type": "code",
   "execution_count": 77,
   "metadata": {},
   "outputs": [],
   "source": [
    "usRoutes = pd.read_csv('../data/usRoutesClean.csv')"
   ]
  },
  {
   "cell_type": "code",
   "execution_count": 284,
   "metadata": {},
   "outputs": [],
   "source": [
    "def findRoutes (dataSet, startAirport, endAirport, cutoff):\n",
    "    # Create the network so that we can get our additional routes that could be used to get from our start to finish\n",
    "    G = nx.from_pandas_edgelist(dataSet, 'SRCIATA', 'DESTINIATA', create_using=nx.DiGraph())\n",
    "\n",
    "    cutoffValue = 0     # Used to track what depth the while loop is at\n",
    "    noRoute = True      # Used to track if a route was found and the loop can be stopped early\n",
    "\n",
    "    while (cutoffValue <= cutoff) & (noRoute == True):  # Loop goes through and finds the shallowest depth that we can work with\n",
    "        cutoffValue = cutoffValue + 1\n",
    "        paths = nx.all_simple_paths(G, startAirport, endAirport, cutoff=cutoffValue)\n",
    "\n",
    "        for path in paths:\n",
    "            noRoute = False\n",
    "\n",
    "    if cutoffValue > cutoff:\n",
    "        return(pd.DataFrame())\n",
    "\n",
    "    paths = nx.all_simple_paths(G, startAirport, endAirport, cutoff=cutoffValue)\n",
    "\n",
    "    shortestTotalDistance = 0   # Used to track what the shortest total distance is for later comparison of ranking \n",
    "\n",
    "    for path in paths: \n",
    "        nodeLocation = 0\n",
    "        totalDistance = 0\n",
    "        potentialRoute = pd.DataFrame({\"SRC\": [], \"DESTIN\": [], \"METERS\": []})\n",
    "\n",
    "        for index in path:\n",
    "            # Calculate total distance of the route\n",
    "            currentIATA = index\n",
    "            if nodeLocation != 0:\n",
    "                distance = (dataSet.loc[(dataSet['SRCIATA'] == pastIATA) & (dataSet['DESTINIATA'] == currentIATA), 'meters'].values)[0]\n",
    "                totalDistance = totalDistance + distance\n",
    "                indexEntry = pd.DataFrame({\"SRC\": [pastIATA], \"DESTIN\": [currentIATA], \"METERS\": [distance]})\n",
    "                potentialRoute = pd.concat([potentialRoute, indexEntry])\n",
    "\n",
    "            nodeLocation = nodeLocation + 1\n",
    "            pastIATA = index\n",
    "        \n",
    "        if shortestTotalDistance == 0:                  # Takes the first value found a promotes it to the shortest\n",
    "            shortestTotalDistance = totalDistance\n",
    "            shortestRoute = potentialRoute.copy()\n",
    "        else:\n",
    "            if shortestTotalDistance > totalDistance:   # Compares the shortest with the current to see if it needs to replace\n",
    "                shortestTotalDistance = totalDistance\n",
    "                shortestRoute = potentialRoute.copy()\n",
    "\n",
    "    return(shortestRoute)"
   ]
  },
  {
   "cell_type": "code",
   "execution_count": 294,
   "metadata": {},
   "outputs": [],
   "source": [
    "def sampleRandomAirports(n):\n",
    "    sampleAirports = pd.Series(usRoutes['SRCIATA'].sample(n))\n",
    "    i = 0\n",
    "    while (i != len(sampleAirports)):\n",
    "        j = 0\n",
    "        while (j <= len(sampleAirports) - 1):\n",
    "            route = findRoutes(usRoutes, sampleAirports.iloc[i], sampleAirports.iloc[j], 2)\n",
    "            if (route.empty):\n",
    "                pass\n",
    "            elif (route['DESTIN'].iloc[0] != sampleAirports.iloc[j]):\n",
    "                newDestin = pd.Series(route['DESTIN'].iloc[0])\n",
    "                if(pd.concat([sampleAirports, newDestin]).is_unique):  \n",
    "                    sampleAirports = pd.concat([sampleAirports, newDestin]) \n",
    "            else:\n",
    "                DISTANCEList.append((route['METERS'].iloc[0]/1609.344))\n",
    "            j = j + 1\n",
    "        i = i + 1\n",
    "    return sampleAirports"
   ]
  },
  {
   "cell_type": "code",
   "execution_count": 313,
   "metadata": {},
   "outputs": [],
   "source": [
    "def createDistanceMatrix(sampleAirports):\n",
    "    DistanceMatrix = []\n",
    "    i = 0\n",
    "    while (i != len(sampleAirports)):\n",
    "        DISTANCEList = []\n",
    "        j = 0\n",
    "        while (j <= len(sampleAirports) - 1):\n",
    "            route = findRoutes(usRoutes, sampleAirports.iloc[i], sampleAirports.iloc[j], 2)\n",
    "\n",
    "            if (sampleAirports.iloc[i] == sampleAirports.iloc[j]):\n",
    "                DISTANCEList.append(0)\n",
    "            elif ((route.empty) or (route['DESTIN'].iloc[0] != sampleAirports.iloc[j])):\n",
    "                DISTANCEList.append(9999)\n",
    "            elif (route['DESTIN'].iloc[0] != sampleAirports.iloc[j]):\n",
    "                DISTANCEList.append(9999)\n",
    "            else:\n",
    "                DISTANCEList.append((route['METERS'].iloc[0]/1609.344))\n",
    "            \n",
    "            j = j + 1\n",
    "        DistanceMatrix.append(DISTANCEList)\n",
    "        i = i + 1\n",
    "\n",
    "    DistanceMatrix = pd.DataFrame(DistanceMatrix, columns = sampleAirports, index = sampleAirports)\n",
    "    DistanceMatrix = DistanceMatrix.fillna(0)\n",
    "    DistanceMatrix = DistanceMatrix.round(0)\n",
    "    DistanceMatrix = DistanceMatrix.astype(int)\n",
    "    return DistanceMatrix"
   ]
  },
  {
   "cell_type": "code",
   "execution_count": 319,
   "metadata": {},
   "outputs": [
    {
     "name": "stdout",
     "output_type": "stream",
     "text": [
      "      SLC   GUA   BWI   DFW   ATL\n",
      "SLC     0  9999  2091  1226  1889\n",
      "GUA  9999     0  9999  1822  2416\n",
      "BWI  2089  9999     0  1381   680\n",
      "DFW  1225  1821  1381     0   808\n",
      "ATL  1890  2419   680   807     0\n"
     ]
    }
   ],
   "source": [
    "distMatrix = createDistanceMatrix(sampleRandomAirports(3))\n",
    "print(distMatrix)"
   ]
  },
  {
   "cell_type": "code",
   "execution_count": 320,
   "metadata": {},
   "outputs": [
    {
     "ename": "KeyError",
     "evalue": "0",
     "output_type": "error",
     "traceback": [
      "\u001b[1;31m---------------------------------------------------------------------------\u001b[0m",
      "\u001b[1;31mKeyError\u001b[0m                                  Traceback (most recent call last)",
      "File \u001b[1;32m~\\AppData\\Roaming\\Python\\Python312\\site-packages\\pandas\\core\\indexes\\base.py:3805\u001b[0m, in \u001b[0;36mIndex.get_loc\u001b[1;34m(self, key)\u001b[0m\n\u001b[0;32m   3804\u001b[0m \u001b[38;5;28;01mtry\u001b[39;00m:\n\u001b[1;32m-> 3805\u001b[0m     \u001b[38;5;28;01mreturn\u001b[39;00m \u001b[38;5;28;43mself\u001b[39;49m\u001b[38;5;241;43m.\u001b[39;49m\u001b[43m_engine\u001b[49m\u001b[38;5;241;43m.\u001b[39;49m\u001b[43mget_loc\u001b[49m\u001b[43m(\u001b[49m\u001b[43mcasted_key\u001b[49m\u001b[43m)\u001b[49m\n\u001b[0;32m   3806\u001b[0m \u001b[38;5;28;01mexcept\u001b[39;00m \u001b[38;5;167;01mKeyError\u001b[39;00m \u001b[38;5;28;01mas\u001b[39;00m err:\n",
      "File \u001b[1;32mindex.pyx:167\u001b[0m, in \u001b[0;36mpandas._libs.index.IndexEngine.get_loc\u001b[1;34m()\u001b[0m\n",
      "File \u001b[1;32mindex.pyx:196\u001b[0m, in \u001b[0;36mpandas._libs.index.IndexEngine.get_loc\u001b[1;34m()\u001b[0m\n",
      "File \u001b[1;32mpandas\\\\_libs\\\\hashtable_class_helper.pxi:7081\u001b[0m, in \u001b[0;36mpandas._libs.hashtable.PyObjectHashTable.get_item\u001b[1;34m()\u001b[0m\n",
      "File \u001b[1;32mpandas\\\\_libs\\\\hashtable_class_helper.pxi:7089\u001b[0m, in \u001b[0;36mpandas._libs.hashtable.PyObjectHashTable.get_item\u001b[1;34m()\u001b[0m\n",
      "\u001b[1;31mKeyError\u001b[0m: 0",
      "\nThe above exception was the direct cause of the following exception:\n",
      "\u001b[1;31mKeyError\u001b[0m                                  Traceback (most recent call last)",
      "Cell \u001b[1;32mIn[320], line 5\u001b[0m\n\u001b[0;32m      1\u001b[0m problem \u001b[38;5;241m=\u001b[39m LpProblem(\u001b[38;5;124m\"\u001b[39m\u001b[38;5;124mLP_Opt_AC\u001b[39m\u001b[38;5;124m\"\u001b[39m, LpMinimize)\n\u001b[0;32m      3\u001b[0m x \u001b[38;5;241m=\u001b[39m LpVariable\u001b[38;5;241m.\u001b[39mdicts(\u001b[38;5;124m'\u001b[39m\u001b[38;5;124mx\u001b[39m\u001b[38;5;124m'\u001b[39m, ((i, j) \u001b[38;5;28;01mfor\u001b[39;00m i \u001b[38;5;129;01min\u001b[39;00m \u001b[38;5;28mrange\u001b[39m(\u001b[38;5;28mlen\u001b[39m(distMatrix)) \u001b[38;5;28;01mfor\u001b[39;00m j \u001b[38;5;129;01min\u001b[39;00m \u001b[38;5;28mrange\u001b[39m(\u001b[38;5;28mlen\u001b[39m(distMatrix))), lowBound\u001b[38;5;241m=\u001b[39m\u001b[38;5;241m0\u001b[39m, upBound\u001b[38;5;241m=\u001b[39m\u001b[38;5;241m1\u001b[39m, cat\u001b[38;5;241m=\u001b[39m\u001b[38;5;124m'\u001b[39m\u001b[38;5;124mBinary\u001b[39m\u001b[38;5;124m'\u001b[39m)\n\u001b[1;32m----> 5\u001b[0m problem \u001b[38;5;241m+\u001b[39m\u001b[38;5;241m=\u001b[39m \u001b[43mpulp\u001b[49m\u001b[38;5;241;43m.\u001b[39;49m\u001b[43mlpSum\u001b[49m\u001b[43m(\u001b[49m\u001b[43mdistMatrix\u001b[49m\u001b[43m[\u001b[49m\u001b[43mi\u001b[49m\u001b[43m]\u001b[49m\u001b[43m[\u001b[49m\u001b[43mj\u001b[49m\u001b[43m]\u001b[49m\u001b[43m \u001b[49m\u001b[38;5;241;43m*\u001b[39;49m\u001b[43m \u001b[49m\u001b[43mx\u001b[49m\u001b[43m[\u001b[49m\u001b[43mi\u001b[49m\u001b[43m,\u001b[49m\u001b[43m \u001b[49m\u001b[43mj\u001b[49m\u001b[43m]\u001b[49m\u001b[43m \u001b[49m\u001b[38;5;28;43;01mfor\u001b[39;49;00m\u001b[43m \u001b[49m\u001b[43mi\u001b[49m\u001b[43m \u001b[49m\u001b[38;5;129;43;01min\u001b[39;49;00m\u001b[43m \u001b[49m\u001b[38;5;28;43mrange\u001b[39;49m\u001b[43m(\u001b[49m\u001b[38;5;28;43mlen\u001b[39;49m\u001b[43m(\u001b[49m\u001b[43mdistMatrix\u001b[49m\u001b[43m)\u001b[49m\u001b[43m)\u001b[49m\u001b[43m \u001b[49m\u001b[38;5;28;43;01mfor\u001b[39;49;00m\u001b[43m \u001b[49m\u001b[43mj\u001b[49m\u001b[43m \u001b[49m\u001b[38;5;129;43;01min\u001b[39;49;00m\u001b[43m \u001b[49m\u001b[38;5;28;43mrange\u001b[39;49m\u001b[43m(\u001b[49m\u001b[38;5;28;43mlen\u001b[39;49m\u001b[43m(\u001b[49m\u001b[43mdistMatrix\u001b[49m\u001b[43m)\u001b[49m\u001b[43m)\u001b[49m\u001b[43m)\u001b[49m\n\u001b[0;32m      7\u001b[0m u \u001b[38;5;241m=\u001b[39m pulp\u001b[38;5;241m.\u001b[39mLpVariable\u001b[38;5;241m.\u001b[39mdicts(\u001b[38;5;124m'\u001b[39m\u001b[38;5;124mu\u001b[39m\u001b[38;5;124m'\u001b[39m, (i \u001b[38;5;28;01mfor\u001b[39;00m i \u001b[38;5;129;01min\u001b[39;00m \u001b[38;5;28mrange\u001b[39m(\u001b[38;5;28mlen\u001b[39m(distMatrix))), lowBound\u001b[38;5;241m=\u001b[39m\u001b[38;5;241m1\u001b[39m, upBound\u001b[38;5;241m=\u001b[39m\u001b[38;5;241m9999\u001b[39m, cat\u001b[38;5;241m=\u001b[39m\u001b[38;5;124m'\u001b[39m\u001b[38;5;124mInteger\u001b[39m\u001b[38;5;124m'\u001b[39m)\n\u001b[0;32m      9\u001b[0m \u001b[38;5;28;01mfor\u001b[39;00m i \u001b[38;5;129;01min\u001b[39;00m \u001b[38;5;28mrange\u001b[39m(\u001b[38;5;28mlen\u001b[39m(distMatrix)):\n",
      "File \u001b[1;32m~\\AppData\\Roaming\\Python\\Python312\\site-packages\\pulp\\pulp.py:2384\u001b[0m, in \u001b[0;36mlpSum\u001b[1;34m(vector)\u001b[0m\n\u001b[0;32m   2370\u001b[0m \u001b[38;5;28;01mdef\u001b[39;00m\u001b[38;5;250m \u001b[39m\u001b[38;5;21mlpSum\u001b[39m(\n\u001b[0;32m   2371\u001b[0m     vector: (\n\u001b[0;32m   2372\u001b[0m         Iterable[LpAffineExpression \u001b[38;5;241m|\u001b[39m LpVariable \u001b[38;5;241m|\u001b[39m \u001b[38;5;28mint\u001b[39m \u001b[38;5;241m|\u001b[39m \u001b[38;5;28mfloat\u001b[39m]\n\u001b[1;32m   (...)\u001b[0m\n\u001b[0;32m   2377\u001b[0m     ),\n\u001b[0;32m   2378\u001b[0m ):\n\u001b[0;32m   2379\u001b[0m \u001b[38;5;250m    \u001b[39m\u001b[38;5;124;03m\"\"\"\u001b[39;00m\n\u001b[0;32m   2380\u001b[0m \u001b[38;5;124;03m    Calculate the sum of a list of linear expressions\u001b[39;00m\n\u001b[0;32m   2381\u001b[0m \n\u001b[0;32m   2382\u001b[0m \u001b[38;5;124;03m    :param vector: A list of linear expressions\u001b[39;00m\n\u001b[0;32m   2383\u001b[0m \u001b[38;5;124;03m    \"\"\"\u001b[39;00m\n\u001b[1;32m-> 2384\u001b[0m     \u001b[38;5;28;01mreturn\u001b[39;00m \u001b[43mLpAffineExpression\u001b[49m\u001b[43m(\u001b[49m\u001b[43m)\u001b[49m\u001b[38;5;241;43m.\u001b[39;49m\u001b[43maddInPlace\u001b[49m\u001b[43m(\u001b[49m\u001b[43mvector\u001b[49m\u001b[43m)\u001b[49m\n",
      "File \u001b[1;32m~\\AppData\\Roaming\\Python\\Python312\\site-packages\\pulp\\pulp.py:913\u001b[0m, in \u001b[0;36mLpAffineExpression.addInPlace\u001b[1;34m(self, other, sign)\u001b[0m\n\u001b[0;32m    910\u001b[0m         \u001b[38;5;28mself\u001b[39m\u001b[38;5;241m.\u001b[39maddInPlace(e, sign\u001b[38;5;241m=\u001b[39msign)\n\u001b[0;32m    911\u001b[0m \u001b[38;5;28;01melif\u001b[39;00m \u001b[38;5;28misinstance\u001b[39m(other, Iterable):\n\u001b[0;32m    912\u001b[0m     \u001b[38;5;66;03m# if a list, we add each element of the list\u001b[39;00m\n\u001b[1;32m--> 913\u001b[0m \u001b[43m    \u001b[49m\u001b[38;5;28;43;01mfor\u001b[39;49;00m\u001b[43m \u001b[49m\u001b[43me\u001b[49m\u001b[43m \u001b[49m\u001b[38;5;129;43;01min\u001b[39;49;00m\u001b[43m \u001b[49m\u001b[43mother\u001b[49m\u001b[43m:\u001b[49m\n\u001b[0;32m    914\u001b[0m \u001b[43m        \u001b[49m\u001b[38;5;28;43mself\u001b[39;49m\u001b[38;5;241;43m.\u001b[39;49m\u001b[43maddInPlace\u001b[49m\u001b[43m(\u001b[49m\u001b[43me\u001b[49m\u001b[43m,\u001b[49m\u001b[43m \u001b[49m\u001b[43msign\u001b[49m\u001b[38;5;241;43m=\u001b[39;49m\u001b[43msign\u001b[49m\u001b[43m)\u001b[49m\n\u001b[0;32m    915\u001b[0m \u001b[38;5;66;03m# if we're here, other must be a number\u001b[39;00m\n\u001b[0;32m    916\u001b[0m \u001b[38;5;66;03m# we check if it's an actual number:\u001b[39;00m\n",
      "Cell \u001b[1;32mIn[320], line 5\u001b[0m, in \u001b[0;36m<genexpr>\u001b[1;34m(.0)\u001b[0m\n\u001b[0;32m      1\u001b[0m problem \u001b[38;5;241m=\u001b[39m LpProblem(\u001b[38;5;124m\"\u001b[39m\u001b[38;5;124mLP_Opt_AC\u001b[39m\u001b[38;5;124m\"\u001b[39m, LpMinimize)\n\u001b[0;32m      3\u001b[0m x \u001b[38;5;241m=\u001b[39m LpVariable\u001b[38;5;241m.\u001b[39mdicts(\u001b[38;5;124m'\u001b[39m\u001b[38;5;124mx\u001b[39m\u001b[38;5;124m'\u001b[39m, ((i, j) \u001b[38;5;28;01mfor\u001b[39;00m i \u001b[38;5;129;01min\u001b[39;00m \u001b[38;5;28mrange\u001b[39m(\u001b[38;5;28mlen\u001b[39m(distMatrix)) \u001b[38;5;28;01mfor\u001b[39;00m j \u001b[38;5;129;01min\u001b[39;00m \u001b[38;5;28mrange\u001b[39m(\u001b[38;5;28mlen\u001b[39m(distMatrix))), lowBound\u001b[38;5;241m=\u001b[39m\u001b[38;5;241m0\u001b[39m, upBound\u001b[38;5;241m=\u001b[39m\u001b[38;5;241m1\u001b[39m, cat\u001b[38;5;241m=\u001b[39m\u001b[38;5;124m'\u001b[39m\u001b[38;5;124mBinary\u001b[39m\u001b[38;5;124m'\u001b[39m)\n\u001b[1;32m----> 5\u001b[0m problem \u001b[38;5;241m+\u001b[39m\u001b[38;5;241m=\u001b[39m pulp\u001b[38;5;241m.\u001b[39mlpSum(\u001b[43mdistMatrix\u001b[49m\u001b[43m[\u001b[49m\u001b[43mi\u001b[49m\u001b[43m]\u001b[49m[j] \u001b[38;5;241m*\u001b[39m x[i, j] \u001b[38;5;28;01mfor\u001b[39;00m i \u001b[38;5;129;01min\u001b[39;00m \u001b[38;5;28mrange\u001b[39m(\u001b[38;5;28mlen\u001b[39m(distMatrix)) \u001b[38;5;28;01mfor\u001b[39;00m j \u001b[38;5;129;01min\u001b[39;00m \u001b[38;5;28mrange\u001b[39m(\u001b[38;5;28mlen\u001b[39m(distMatrix)))\n\u001b[0;32m      7\u001b[0m u \u001b[38;5;241m=\u001b[39m pulp\u001b[38;5;241m.\u001b[39mLpVariable\u001b[38;5;241m.\u001b[39mdicts(\u001b[38;5;124m'\u001b[39m\u001b[38;5;124mu\u001b[39m\u001b[38;5;124m'\u001b[39m, (i \u001b[38;5;28;01mfor\u001b[39;00m i \u001b[38;5;129;01min\u001b[39;00m \u001b[38;5;28mrange\u001b[39m(\u001b[38;5;28mlen\u001b[39m(distMatrix))), lowBound\u001b[38;5;241m=\u001b[39m\u001b[38;5;241m1\u001b[39m, upBound\u001b[38;5;241m=\u001b[39m\u001b[38;5;241m9999\u001b[39m, cat\u001b[38;5;241m=\u001b[39m\u001b[38;5;124m'\u001b[39m\u001b[38;5;124mInteger\u001b[39m\u001b[38;5;124m'\u001b[39m)\n\u001b[0;32m      9\u001b[0m \u001b[38;5;28;01mfor\u001b[39;00m i \u001b[38;5;129;01min\u001b[39;00m \u001b[38;5;28mrange\u001b[39m(\u001b[38;5;28mlen\u001b[39m(distMatrix)):\n",
      "File \u001b[1;32m~\\AppData\\Roaming\\Python\\Python312\\site-packages\\pandas\\core\\frame.py:4102\u001b[0m, in \u001b[0;36mDataFrame.__getitem__\u001b[1;34m(self, key)\u001b[0m\n\u001b[0;32m   4100\u001b[0m \u001b[38;5;28;01mif\u001b[39;00m \u001b[38;5;28mself\u001b[39m\u001b[38;5;241m.\u001b[39mcolumns\u001b[38;5;241m.\u001b[39mnlevels \u001b[38;5;241m>\u001b[39m \u001b[38;5;241m1\u001b[39m:\n\u001b[0;32m   4101\u001b[0m     \u001b[38;5;28;01mreturn\u001b[39;00m \u001b[38;5;28mself\u001b[39m\u001b[38;5;241m.\u001b[39m_getitem_multilevel(key)\n\u001b[1;32m-> 4102\u001b[0m indexer \u001b[38;5;241m=\u001b[39m \u001b[38;5;28;43mself\u001b[39;49m\u001b[38;5;241;43m.\u001b[39;49m\u001b[43mcolumns\u001b[49m\u001b[38;5;241;43m.\u001b[39;49m\u001b[43mget_loc\u001b[49m\u001b[43m(\u001b[49m\u001b[43mkey\u001b[49m\u001b[43m)\u001b[49m\n\u001b[0;32m   4103\u001b[0m \u001b[38;5;28;01mif\u001b[39;00m is_integer(indexer):\n\u001b[0;32m   4104\u001b[0m     indexer \u001b[38;5;241m=\u001b[39m [indexer]\n",
      "File \u001b[1;32m~\\AppData\\Roaming\\Python\\Python312\\site-packages\\pandas\\core\\indexes\\base.py:3812\u001b[0m, in \u001b[0;36mIndex.get_loc\u001b[1;34m(self, key)\u001b[0m\n\u001b[0;32m   3807\u001b[0m     \u001b[38;5;28;01mif\u001b[39;00m \u001b[38;5;28misinstance\u001b[39m(casted_key, \u001b[38;5;28mslice\u001b[39m) \u001b[38;5;129;01mor\u001b[39;00m (\n\u001b[0;32m   3808\u001b[0m         \u001b[38;5;28misinstance\u001b[39m(casted_key, abc\u001b[38;5;241m.\u001b[39mIterable)\n\u001b[0;32m   3809\u001b[0m         \u001b[38;5;129;01mand\u001b[39;00m \u001b[38;5;28many\u001b[39m(\u001b[38;5;28misinstance\u001b[39m(x, \u001b[38;5;28mslice\u001b[39m) \u001b[38;5;28;01mfor\u001b[39;00m x \u001b[38;5;129;01min\u001b[39;00m casted_key)\n\u001b[0;32m   3810\u001b[0m     ):\n\u001b[0;32m   3811\u001b[0m         \u001b[38;5;28;01mraise\u001b[39;00m InvalidIndexError(key)\n\u001b[1;32m-> 3812\u001b[0m     \u001b[38;5;28;01mraise\u001b[39;00m \u001b[38;5;167;01mKeyError\u001b[39;00m(key) \u001b[38;5;28;01mfrom\u001b[39;00m\u001b[38;5;250m \u001b[39m\u001b[38;5;21;01merr\u001b[39;00m\n\u001b[0;32m   3813\u001b[0m \u001b[38;5;28;01mexcept\u001b[39;00m \u001b[38;5;167;01mTypeError\u001b[39;00m:\n\u001b[0;32m   3814\u001b[0m     \u001b[38;5;66;03m# If we have a listlike key, _check_indexing_error will raise\u001b[39;00m\n\u001b[0;32m   3815\u001b[0m     \u001b[38;5;66;03m#  InvalidIndexError. Otherwise we fall through and re-raise\u001b[39;00m\n\u001b[0;32m   3816\u001b[0m     \u001b[38;5;66;03m#  the TypeError.\u001b[39;00m\n\u001b[0;32m   3817\u001b[0m     \u001b[38;5;28mself\u001b[39m\u001b[38;5;241m.\u001b[39m_check_indexing_error(key)\n",
      "\u001b[1;31mKeyError\u001b[0m: 0"
     ]
    }
   ],
   "source": [
    "problem = LpProblem(\"LP_Opt_AC\", LpMinimize)\n",
    "\n",
    "x = LpVariable.dicts('x', ((i, j) for i in range(len(distMatrix)) for j in range(len(distMatrix))), lowBound=0, upBound=1, cat='Binary')\n",
    "\n",
    "problem += pulp.lpSum(distMatrix[i][j] * x[i, j] for i in range(len(distMatrix)) for j in range(len(distMatrix)))\n",
    "\n",
    "u = pulp.LpVariable.dicts('u', (i for i in range(len(distMatrix))), lowBound=1, upBound=9999, cat='Integer')\n",
    "\n",
    "for i in range(len(distMatrix)):\n",
    "    problem += x[i, i] == 0\n",
    "\n",
    "for i in range(len(distMatrix)):\n",
    "    problem += pulp.lpSum(x[i, j] for j in range(len(distMatrix))) == 1\n",
    "    problem += pulp.lpSum(x[j, i] for j in range(len(distMatrix))) == 1\n",
    "\n",
    "for i in range(len(distMatrix)):\n",
    "    for j in range(len(distMatrix)):\n",
    "        if i != j and (i != 0 and j != 0):\n",
    "            problem += u[i] - u[j] <= len(distMatrix) * (1 - x[i, j]) - 1"
   ]
  },
  {
   "cell_type": "code",
   "execution_count": 321,
   "metadata": {},
   "outputs": [
    {
     "ename": "AttributeError",
     "evalue": "'NoneType' object has no attribute 'value'",
     "output_type": "error",
     "traceback": [
      "\u001b[1;31m---------------------------------------------------------------------------\u001b[0m",
      "\u001b[1;31mAttributeError\u001b[0m                            Traceback (most recent call last)",
      "Cell \u001b[1;32mIn[321], line 2\u001b[0m\n\u001b[0;32m      1\u001b[0m status \u001b[38;5;241m=\u001b[39m problem\u001b[38;5;241m.\u001b[39msolve()\n\u001b[1;32m----> 2\u001b[0m status, LpStatus[status], \u001b[43mvalue\u001b[49m\u001b[43m(\u001b[49m\u001b[43mproblem\u001b[49m\u001b[38;5;241;43m.\u001b[39;49m\u001b[43mobjective\u001b[49m\u001b[43m)\u001b[49m\n",
      "File \u001b[1;32m~\\AppData\\Roaming\\Python\\Python312\\site-packages\\pulp\\utilities.py:24\u001b[0m, in \u001b[0;36mvalue\u001b[1;34m(x)\u001b[0m\n\u001b[0;32m     22\u001b[0m     \u001b[38;5;28;01mreturn\u001b[39;00m x\n\u001b[0;32m     23\u001b[0m \u001b[38;5;28;01melse\u001b[39;00m:\n\u001b[1;32m---> 24\u001b[0m     \u001b[38;5;28;01mreturn\u001b[39;00m \u001b[43mx\u001b[49m\u001b[38;5;241;43m.\u001b[39;49m\u001b[43mvalue\u001b[49m()\n",
      "\u001b[1;31mAttributeError\u001b[0m: 'NoneType' object has no attribute 'value'"
     ]
    }
   ],
   "source": [
    "status = problem.solve()\n",
    "status, LpStatus[status], value(problem.objective)"
   ]
  }
 ],
 "metadata": {
  "kernelspec": {
   "display_name": "Python 3",
   "language": "python",
   "name": "python3"
  },
  "language_info": {
   "codemirror_mode": {
    "name": "ipython",
    "version": 3
   },
   "file_extension": ".py",
   "mimetype": "text/x-python",
   "name": "python",
   "nbconvert_exporter": "python",
   "pygments_lexer": "ipython3",
   "version": "3.12.6"
  }
 },
 "nbformat": 4,
 "nbformat_minor": 2
}

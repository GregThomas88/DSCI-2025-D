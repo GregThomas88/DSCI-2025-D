{
 "cells": [
  {
   "cell_type": "code",
   "execution_count": 76,
   "metadata": {},
   "outputs": [],
   "source": [
    "from pulp import *\n",
    "import pandas as pd\n",
    "import networkx as nx\n",
    "import pandas as pd\n",
    "#Heavily influenced by, need to make sure we understand the code so we can use it and not plagerize as a final product\n",
    "#https://www.kaggle.com/code/itoeiji/solving-tsp-and-vrp-by-mip-using-pulp"
   ]
  },
  {
   "cell_type": "code",
   "execution_count": 57,
   "metadata": {},
   "outputs": [],
   "source": [
    "distEnum = {\n",
    "    \"SFO\": { \"SFO\": 0, \"LAX\": 500, \"SJC\": 75, \"OAK\": 50},\n",
    "    \"LAX\": { \"SFO\": 500, \"LAX\": 0, \"SJC\": 280, \"OAK\": 800},\n",
    "    \"SJC\": { \"SFO\": 75, \"LAX\": 280, \"SJC\": 0, \"OAK\": 30},\n",
    "    \"OAK\": { \"SFO\": 50, \"LAX\": 800, \"SJC\": 30, \"OAK\": 0}\n",
    "}\n",
    "\n",
    "\n",
    "distDict = pd.DataFrame( \n",
    "    [\n",
    "    [0, 500, 75, 50],\n",
    "    [500, 0, 280, 800],\n",
    "    [75, 280, 0, 30],\n",
    "    [50, 800, 30, 0]\n",
    "    ])\n",
    "\n",
    "distDict2 = pd.DataFrame( \n",
    "    [\n",
    "    [0, 9999, 469, 857, 375],  #MSY\n",
    "    [9999, 0, 549, 1188, 464], #IND\n",
    "    [469, 549, 0, 639, 380],   #ATL\n",
    "    [857, 1188, 639, 0, 9999], #FLL\n",
    "    [375, 464, 380, 9999, 0]   #MEM\n",
    "    ])"
   ]
  },
  {
   "cell_type": "code",
   "execution_count": 77,
   "metadata": {},
   "outputs": [],
   "source": [
    "usRoutes = pd.read_csv('../data/usRoutesClean.csv')"
   ]
  },
  {
   "cell_type": "code",
   "execution_count": 284,
   "metadata": {},
   "outputs": [],
   "source": [
    "def findRoutes (dataSet, startAirport, endAirport, cutoff):\n",
    "    # Create the network so that we can get our additional routes that could be used to get from our start to finish\n",
    "    G = nx.from_pandas_edgelist(dataSet, 'SRCIATA', 'DESTINIATA', create_using=nx.DiGraph())\n",
    "\n",
    "    cutoffValue = 0     # Used to track what depth the while loop is at\n",
    "    noRoute = True      # Used to track if a route was found and the loop can be stopped early\n",
    "\n",
    "    while (cutoffValue <= cutoff) & (noRoute == True):  # Loop goes through and finds the shallowest depth that we can work with\n",
    "        cutoffValue = cutoffValue + 1\n",
    "        paths = nx.all_simple_paths(G, startAirport, endAirport, cutoff=cutoffValue)\n",
    "\n",
    "        for path in paths:\n",
    "            noRoute = False\n",
    "\n",
    "    if cutoffValue > cutoff:\n",
    "        return(pd.DataFrame())\n",
    "\n",
    "    paths = nx.all_simple_paths(G, startAirport, endAirport, cutoff=cutoffValue)\n",
    "\n",
    "    shortestTotalDistance = 0   # Used to track what the shortest total distance is for later comparison of ranking \n",
    "\n",
    "    for path in paths: \n",
    "        nodeLocation = 0\n",
    "        totalDistance = 0\n",
    "        potentialRoute = pd.DataFrame({\"SRC\": [], \"DESTIN\": [], \"METERS\": []})\n",
    "\n",
    "        for index in path:\n",
    "            # Calculate total distance of the route\n",
    "            currentIATA = index\n",
    "            if nodeLocation != 0:\n",
    "                distance = (dataSet.loc[(dataSet['SRCIATA'] == pastIATA) & (dataSet['DESTINIATA'] == currentIATA), 'meters'].values)[0]\n",
    "                totalDistance = totalDistance + distance\n",
    "                indexEntry = pd.DataFrame({\"SRC\": [pastIATA], \"DESTIN\": [currentIATA], \"METERS\": [distance]})\n",
    "                potentialRoute = pd.concat([potentialRoute, indexEntry])\n",
    "\n",
    "            nodeLocation = nodeLocation + 1\n",
    "            pastIATA = index\n",
    "        \n",
    "        if shortestTotalDistance == 0:                  # Takes the first value found a promotes it to the shortest\n",
    "            shortestTotalDistance = totalDistance\n",
    "            shortestRoute = potentialRoute.copy()\n",
    "        else:\n",
    "            if shortestTotalDistance > totalDistance:   # Compares the shortest with the current to see if it needs to replace\n",
    "                shortestTotalDistance = totalDistance\n",
    "                shortestRoute = potentialRoute.copy()\n",
    "\n",
    "    return(shortestRoute)"
   ]
  },
  {
   "cell_type": "code",
   "execution_count": 329,
   "metadata": {},
   "outputs": [],
   "source": [
    "def sampleRandomAirports(n):\n",
    "    sampleAirports = pd.Series(usRoutes['SRCIATA'].sample(n))\n",
    "    i = 0\n",
    "    while (i != len(sampleAirports)):\n",
    "        j = 0\n",
    "        while (j <= len(sampleAirports) - 1):\n",
    "            route = findRoutes(usRoutes, sampleAirports.iloc[i], sampleAirports.iloc[j], 2)\n",
    "            if (route.empty):\n",
    "                pass\n",
    "            elif (route['DESTIN'].iloc[0] != sampleAirports.iloc[j]):\n",
    "                newDestin = pd.Series(route['DESTIN'].iloc[0])\n",
    "                if(pd.concat([sampleAirports, newDestin]).is_unique):  \n",
    "                    sampleAirports = pd.concat([sampleAirports, newDestin]) \n",
    "            j = j + 1\n",
    "        i = i + 1\n",
    "    return sampleAirports"
   ]
  },
  {
   "cell_type": "code",
   "execution_count": 313,
   "metadata": {},
   "outputs": [],
   "source": [
    "def createDistanceMatrix(sampleAirports):\n",
    "    DistanceMatrix = []\n",
    "    i = 0\n",
    "    while (i != len(sampleAirports)):\n",
    "        DISTANCEList = []\n",
    "        j = 0\n",
    "        while (j <= len(sampleAirports) - 1):\n",
    "            route = findRoutes(usRoutes, sampleAirports.iloc[i], sampleAirports.iloc[j], 2)\n",
    "\n",
    "            if (sampleAirports.iloc[i] == sampleAirports.iloc[j]):\n",
    "                DISTANCEList.append(0)\n",
    "            elif ((route.empty) or (route['DESTIN'].iloc[0] != sampleAirports.iloc[j])):\n",
    "                DISTANCEList.append(9999)\n",
    "            elif (route['DESTIN'].iloc[0] != sampleAirports.iloc[j]):\n",
    "                DISTANCEList.append(9999)\n",
    "            else:\n",
    "                DISTANCEList.append((route['METERS'].iloc[0]/1609.344))\n",
    "            \n",
    "            j = j + 1\n",
    "        DistanceMatrix.append(DISTANCEList)\n",
    "        i = i + 1\n",
    "\n",
    "    DistanceMatrix = pd.DataFrame(DistanceMatrix, columns = sampleAirports, index = sampleAirports)\n",
    "    DistanceMatrix = DistanceMatrix.fillna(0)\n",
    "    DistanceMatrix = DistanceMatrix.round(0)\n",
    "    DistanceMatrix = DistanceMatrix.astype(int)\n",
    "    return DistanceMatrix"
   ]
  },
  {
   "cell_type": "code",
   "execution_count": 445,
   "metadata": {},
   "outputs": [
    {
     "name": "stdout",
     "output_type": "stream",
     "text": [
      "SRCIATA  DAY  IAD  DTW\n",
      "SRCIATA               \n",
      "DAY        0  462  191\n",
      "IAD      464    0  502\n",
      "DTW      191  503    0\n"
     ]
    }
   ],
   "source": [
    "distMatrix = createDistanceMatrix(sampleRandomAirports(3))\n",
    "print(distMatrix)"
   ]
  },
  {
   "cell_type": "code",
   "execution_count": 446,
   "metadata": {},
   "outputs": [],
   "source": [
    "distMatrix = distMatrix.reset_index(drop=True)\n",
    "\n",
    "columns = []\n",
    "for i in range(len(distMatrix)):\n",
    "    columns.append(i)\n",
    "\n",
    "distMatrix.columns = columns"
   ]
  },
  {
   "cell_type": "code",
   "execution_count": null,
   "metadata": {},
   "outputs": [],
   "source": [
    "problem = LpProblem(\"LP_Opt_AC\", LpMinimize)\n",
    "\n",
    "coordList = []\n",
    "for i in range(len(distMatrix)):\n",
    "    for j in range(len(distMatrix)):\n",
    "        coordList.append((i,j))\n",
    "\n",
    "x = LpVariable.dicts('x', coordList, lowBound=0, upBound=1, cat='Binary')\n",
    "\n",
    "xMatrix = []\n",
    "for i in range(len(distMatrix)):\n",
    "    list = []\n",
    "    for j in range(len(distMatrix)):\n",
    "        list.append(x[i,j])\n",
    "    xMatrix.append(list)\n",
    "\n",
    "#problem += pulp.lpSum(distMatrix.dot(xMatrix))\n",
    "problem += pulp.lpSum(distMatrix[i][j] * x[i, j] for i in range(len(distMatrix)) for j in range(len(distMatrix)))\n",
    "\n",
    "u = pulp.LpVariable.dicts('u', (i for i in range(len(distMatrix))), lowBound=1, upBound=9999, cat='Integer')\n",
    "\n",
    "for i in range(len(distMatrix)):\n",
    "    problem += x[i, i] == 0\n",
    "\n",
    "for i in range(len(distMatrix)):\n",
    "    problem += pulp.lpSum(x[i, j] for j in range(len(distMatrix))) == 1\n",
    "    problem += pulp.lpSum(x[j, i] for j in range(len(distMatrix))) == 1\n",
    "\n",
    "for i in range(len(distMatrix)):\n",
    "    for j in range(len(distMatrix)):\n",
    "        if i != j and (i != 0 and j != 0):\n",
    "            problem += u[i] - u[j] <= len(distMatrix) * (1 - x[i, j]) - 1"
   ]
  },
  {
   "cell_type": "code",
   "execution_count": 441,
   "metadata": {},
   "outputs": [
    {
     "data": {
      "text/plain": [
       "x_(0,_1)"
      ]
     },
     "execution_count": 441,
     "metadata": {},
     "output_type": "execute_result"
    }
   ],
   "source": [
    "x[0,1]"
   ]
  },
  {
   "cell_type": "code",
   "execution_count": 442,
   "metadata": {},
   "outputs": [
    {
     "data": {
      "text/plain": [
       "[[x_(0,_0), x_(0,_1), x_(0,_2)],\n",
       " [x_(1,_0), x_(1,_1), x_(1,_2)],\n",
       " [x_(2,_0), x_(2,_1), x_(2,_2)]]"
      ]
     },
     "execution_count": 442,
     "metadata": {},
     "output_type": "execute_result"
    }
   ],
   "source": [
    "xMatrix = []\n",
    "for i in range(len(distMatrix)):\n",
    "    list = []\n",
    "    for j in range(len(distMatrix)):\n",
    "        list.append(x[i,j])\n",
    "    xMatrix.append(list)\n",
    "xMatrix"
   ]
  },
  {
   "cell_type": "code",
   "execution_count": 454,
   "metadata": {},
   "outputs": [
    {
     "data": {
      "text/plain": [
       "(1, 'Optimal', None)"
      ]
     },
     "execution_count": 454,
     "metadata": {},
     "output_type": "execute_result"
    }
   ],
   "source": [
    "status = problem.solve()\n",
    "status, LpStatus[status], value(problem.objective)"
   ]
  }
 ],
 "metadata": {
  "kernelspec": {
   "display_name": "Python 3",
   "language": "python",
   "name": "python3"
  },
  "language_info": {
   "codemirror_mode": {
    "name": "ipython",
    "version": 3
   },
   "file_extension": ".py",
   "mimetype": "text/x-python",
   "name": "python",
   "nbconvert_exporter": "python",
   "pygments_lexer": "ipython3",
   "version": "3.12.6"
  }
 },
 "nbformat": 4,
 "nbformat_minor": 2
}

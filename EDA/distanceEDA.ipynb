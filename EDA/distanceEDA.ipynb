{
 "cells": [
  {
   "cell_type": "code",
   "execution_count": 103,
   "metadata": {},
   "outputs": [],
   "source": [
    "import pandas as pd\n",
    "import matplotlib.pyplot as plt\n",
    "import numpy as np\n",
    "import time\n",
    "import googlemaps"
   ]
  },
  {
   "cell_type": "code",
   "execution_count": 104,
   "metadata": {},
   "outputs": [],
   "source": [
    "routes_csv = pd.read_csv('../data/routesDist.csv')"
   ]
  },
  {
   "cell_type": "code",
   "execution_count": 105,
   "metadata": {},
   "outputs": [
    {
     "name": "stdout",
     "output_type": "stream",
     "text": [
      "13021\n",
      "13016\n"
     ]
    }
   ],
   "source": [
    "usSrcRoutes = routes_csv[routes_csv['SRCCTRY'] == 'United States']\n",
    "print(len(usSrcRoutes))\n",
    "\n",
    "usDestinRoutes = routes_csv[routes_csv['DESTINCTRY'] == 'United States']\n",
    "print(len(usDestinRoutes))"
   ]
  },
  {
   "cell_type": "code",
   "execution_count": 106,
   "metadata": {},
   "outputs": [
    {
     "data": {
      "text/plain": [
       "15519"
      ]
     },
     "execution_count": 106,
     "metadata": {},
     "output_type": "execute_result"
    }
   ],
   "source": [
    "mergeCols = ['AIRLINE_ID', 'SRC_AIRPT_ID', 'DESTIN_AIRPT_ID']\n",
    "\n",
    "usRoutes = usSrcRoutes.merge(usDestinRoutes, how='outer', on=mergeCols)\n",
    "len(usRoutes)"
   ]
  },
  {
   "cell_type": "code",
   "execution_count": 108,
   "metadata": {},
   "outputs": [
    {
     "data": {
      "text/plain": [
       "15519"
      ]
     },
     "execution_count": 108,
     "metadata": {},
     "output_type": "execute_result"
    }
   ],
   "source": [
    "usRoutesTest = pd.concat([usSrcRoutes,usDestinRoutes])\n",
    "usRoutesTest = usRoutesTest.drop_duplicates()\n",
    "len(usRoutesTest)"
   ]
  },
  {
   "cell_type": "code",
   "execution_count": 109,
   "metadata": {},
   "outputs": [],
   "source": [
    "#re-using variable above that was used to show concat and outer join provide similar data\n",
    "usRoutes = usRoutesTest[['SRC_AIRPT_ID', 'SRCNAME', 'DESTIN_AIRPT_ID', 'DESTINNAME']]"
   ]
  },
  {
   "cell_type": "code",
   "execution_count": 110,
   "metadata": {},
   "outputs": [],
   "source": [
    "def distCalc(x, y):\n",
    "    file = open(\"../dataEngineering/gMapsAPIKey.txt\")\n",
    "    gMapsKey = file.read()\n",
    "    file.close()\n",
    "\n",
    "    gmaps = googlemaps.Client(key=gMapsKey)\n",
    "\n",
    "    distance = gmaps.distance_matrix(x, y)['rows'][0]['elements'][0]\n",
    "\n",
    "    try:\n",
    "        meters = distance['distance']['value']\n",
    "    except:\n",
    "        meters = r'\\N'\n",
    "\n",
    "    try:\n",
    "        seconds = distance['duration']['value']\n",
    "    except:\n",
    "        seconds = r'\\N'\n",
    "\n",
    "    return(meters,seconds)"
   ]
  },
  {
   "cell_type": "code",
   "execution_count": 111,
   "metadata": {},
   "outputs": [],
   "source": [
    "usRoutes = usRoutes.reset_index()\n",
    "usRoutes = usRoutes.rename(columns={'index': 'og_index'})"
   ]
  },
  {
   "cell_type": "code",
   "execution_count": 117,
   "metadata": {},
   "outputs": [],
   "source": [
    "permM = []\n",
    "permS = []"
   ]
  },
  {
   "cell_type": "code",
   "execution_count": 340,
   "metadata": {},
   "outputs": [],
   "source": [
    "m = []\n",
    "s = []\n",
    "\n",
    "for i in range(7100,7200):\n",
    "    mVal, sVal = distCalc(usRoutes['SRCNAME'][i], usRoutes['DESTINNAME'][i])\n",
    "    m.append(mVal)\n",
    "    s.append(sVal)\n",
    "    time.sleep(1)\n",
    "    "
   ]
  },
  {
   "cell_type": "code",
   "execution_count": 338,
   "metadata": {},
   "outputs": [],
   "source": [
    "permM.append(m)\n",
    "permS.append(s)"
   ]
  },
  {
   "cell_type": "code",
   "execution_count": 339,
   "metadata": {},
   "outputs": [],
   "source": [
    "permSeriesM = pd.DataFrame(permM)\n",
    "permSeriesS = pd.DataFrame(permS)\n",
    "\n",
    "permSeriesM.to_csv('../data/meters.csv')\n",
    "permSeriesS.to_csv('../data/seconds.csv')"
   ]
  },
  {
   "cell_type": "code",
   "execution_count": 336,
   "metadata": {},
   "outputs": [],
   "source": [
    "usRoutes.to_csv('../data/usRoutes.csv')"
   ]
  }
 ],
 "metadata": {
  "kernelspec": {
   "display_name": "Python 3",
   "language": "python",
   "name": "python3"
  },
  "language_info": {
   "codemirror_mode": {
    "name": "ipython",
    "version": 3
   },
   "file_extension": ".py",
   "mimetype": "text/x-python",
   "name": "python",
   "nbconvert_exporter": "python",
   "pygments_lexer": "ipython3",
   "version": "3.12.6"
  }
 },
 "nbformat": 4,
 "nbformat_minor": 2
}

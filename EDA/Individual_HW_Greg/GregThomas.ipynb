{
 "cells": [
  {
   "cell_type": "markdown",
   "metadata": {},
   "source": [
    "The intention of this project, is to identify how we can find an alternative route for a path.\n",
    "\n",
    "The data being used is route information, with the intention to have machine learning figure out an alternative option for a route."
   ]
  },
  {
   "cell_type": "markdown",
   "metadata": {},
   "source": [
    "### 1. Transforming the Openflights Dataset"
   ]
  },
  {
   "cell_type": "markdown",
   "metadata": {},
   "source": [
    "OpenFlights has a wealth of information about airports that span the globe. They also have a pretty nice data dictionary available\n",
    "\n",
    "Source: https://openflights.org/data.php"
   ]
  },
  {
   "cell_type": "code",
   "execution_count": 2,
   "metadata": {},
   "outputs": [
    {
     "name": "stdout",
     "output_type": "stream",
     "text": [
      "Airline Database\n",
      "        As of January 2012, the OpenFlights Airlines Database contains 5888 airlines. \n",
      "        Each entry contains the following information:\n",
      "        ---\n",
      "        Airline ID      |       Unique OpenFlights identifier for this airline.\n",
      "        Name\t        |       Name of the airline.\n",
      "        Alias\t        |       Alias of the airline. For example, All Nippon Airways is commonly known as \"ANA\".\n",
      "        IATA\t        |       2-letter IATA code, if available.\n",
      "        ICAO\t        |       3-letter ICAO code, if available.\n",
      "        Callsign\t|       Airline callsign.\n",
      "        Country\t        |       Country or territory where airport is located. See Countries to cross-reference to ISO 3166-1 codes.\n",
      "        Active\t        |       \"Y\" if the airline is or has until recently been operational, \"N\" if it is defunct. This field is not reliable: in particular, major airlines that stopped flying long ago, but have not had their IATA code reassigned (eg. Ansett/AN), will incorrectly show as \"Y\".\n",
      "        ---\n",
      "\n",
      "        The data is UTF-8 encoded. The special value \\N is used for \"NULL\" to indicate that no value is available, and is understood automatically by MySQL if imported.\n",
      "        Notes: Airlines with null codes/callsigns/countries generally represent user-added airlines. Since the data is intended primarily for current flights, defunct IATA codes are generally not included. For example, \"Sabena\" is not listed with a SN IATA code, since \"SN\" is presently used by its successor Brussels Airlines.\n",
      "\n",
      "        Sample entries\n",
      "                324,\"All Nippon Airways\",\"ANA All Nippon Airways\",\"NH\",\"ANA\",\"ALL NIPPON\",\"Japan\",\"Y\"\n",
      "                412,\"Aerolineas Argentinas\",\\N,\"AR\",\"ARG\",\"ARGENTINA\",\"Argentina\",\"Y\"\n",
      "                413,\"Arrowhead Airways\",\\N,\"\",\"ARH\",\"ARROWHEAD\",\"United States\",\"N\"\n",
      "\n",
      "---\n",
      "\n",
      "Airport Database\n",
      "\n",
      "        As of January 2017, the OpenFlights Airports Database contains over 10,000 airports, train stations and ferry terminals spanning the globe, as shown in the map above.\n",
      "        Each entry contains the following information:\n",
      "        ---\n",
      "        Airport ID\t|       Unique OpenFlights identifier for this airport.\n",
      "        Name\t        |       Name of airport. May or may not contain the City name.\n",
      "        City\t        |       Main city served by airport. May be spelled differently from Name.\n",
      "        Country\t        |       Country or territory where airport is located. See Countries to cross-reference to ISO 3166-1 codes.\n",
      "        IATA\t        |       3-letter IATA code. Null if not assigned/unknown.\n",
      "        ICAO\t        |       4-letter ICAO code. Null if not assigned.\n",
      "        Latitude\t|       Decimal degrees, usually to six significant digits. Negative is South, positive is North.\n",
      "        Longitude\t|       Decimal degrees, usually to six significant digits. Negative is West, positive is East.\n",
      "        Altitude\t|       In feet.\n",
      "        Timezone\t|       Hours offset from UTC. Fractional hours are expressed as decimals, eg. India is 5.5.\n",
      "        DST\t        |       Daylight savings time. One of E (Europe), A (US/Canada), S (South America), O (Australia), Z (New Zealand), N (None) or U (Unknown). See also: Help: Time\n",
      "        DB timezone\t|       Timezone in \"tz\" (Olson) format, eg. \"America/Los_Angeles\".\n",
      "        Type\t        |       Type of the airport. Value \"airport\" for air terminals, \"station\" for train stations, \"port\" for ferry terminals and \"unknown\" if not known. In airports.csv, only type=airport is included.\n",
      "        Source\t        |       Source of this data. \"OurAirports\" for data sourced from OurAirports, \"Legacy\" for old data not matched to OurAirports (mostly DAFIF), \"User\" for unverified user contributions. In airports.csv, only source=OurAirports is included.\n",
      "        ---\n",
      "\n",
      "        The data is UTF-8 encoded.\n",
      "        Note: Rules for daylight savings time change from year to year and from country to country. The current data is an approximation for 2009, built on a country level. Most airports in DST-less regions in countries that generally observe DST (eg. AL, HI in the USA, NT, QL in Australia, parts of Canada) are marked incorrectly.\n",
      "\n",
      "        Sample entries\n",
      "                507,\"London Heathrow Airport\",\"London\",\"United Kingdom\",\"LHR\",\"EGLL\",51.4706,-0.461941,83,0,\"E\",\"Europe/London\",\"airport\",\"OurAirports\"\n",
      "                26,\"Kugaaruk Airport\",\"Pelly Bay\",\"Canada\",\"YBB\",\"CYBB\",68.534401,-89.808098,56,-7,\"A\",\"America/Edmonton\",\"airport\",\"OurAirports\"\n",
      "                3127,\"Pokhara Airport\",\"Pokhara\",\"Nepal\",\"PKR\",\"VNPK\",28.200899124145508,83.98210144042969,2712,5.75,\"N\",\"Asia/Katmandu\",\"airport\",\"OurAirports\"\n",
      "                8810,\"Hamburg Hbf\",\"Hamburg\",\"Germany\",\"ZMB\",\\N,53.552776,10.006683,30,1,\"E\",\"Europe/Berlin\",\"station\",\"User\"\n",
      "\n",
      "---\n",
      "\n",
      "Country database\n",
      "        The OpenFlights country database contains a list of ISO 3166-1 country codes, which can be used to look up the human-readable country names for the codes used in the Airline and Airport tables. \n",
      "        Each entry contains the following information:\n",
      "        ---\n",
      "        name\t        |       Full name of the country or territory.\n",
      "        iso_code\t|       Unique two-letter ISO 3166-1 code for the country or territory.\n",
      "        dafif_code\t|       FIPS country codes as used in DAFIF.Obsolete and primarily of historical interested.\n",
      "        ---\n",
      "\n",
      "        The data is UTF-8 encoded. \n",
      "        The special value \\N is used for \"NULL\" to indicate that no value is available, and is understood automatically by MySQL if imported.\n",
      "        Notes: Some entries have DAFIF codes, but not ISO codes. These are primarily uninhabited islands without airports, and can be ignored for most purposes.\n",
      "        \n",
      "        Sample entries\n",
      "                \"Australia\",\"AU\",\"AS\"\n",
      "                \"Ashmore and Cartier Islands\",\\N,\"AT\"\n",
      "\n",
      "---\n",
      "\n",
      "Plane database\n",
      "        The OpenFlights plane database contains a curated selection of 173 passenger aircraft with IATA and/or ICAO codes, covering the vast majority of flights operated today and commonly used in flight schedules and reservation systems. \n",
      "        Each entry contains the following information:\n",
      "        ---\n",
      "        Name\t        |       Full name of the aircraft.\n",
      "        IATA code\t|       Unique three-letter IATA identifier for the aircraft.\n",
      "        ICAO code\t|       Unique four-letter ICAO identifier for the aircraft.\n",
      "        ---\n",
      "\n",
      "        The data is UTF-8 encoded. \n",
      "        The special value \\N is used for \"NULL\" to indicate that no value is available, and is understood automatically by MySQL if imported.\n",
      "        Notes: Aircraft with IATA but without ICAO codes are generally aircraft classes: for example, IATA \"747\" can be any type of Boeing 747, whereas IATA \"744\"/ICAO \"B744\" is specifically a Boeing 747-400.\n",
      "       \n",
      "        Sample entries\n",
      "                \"Boeing 787\",\"787\",\\N\n",
      "                \"Boeing 787-10\",\"78J\",\"B78X\"\n",
      "                \"Boeing 787-8\",\"788\",\"B788\"\n",
      "\n",
      "---\n",
      "\n",
      "Route database\n",
      "        Warning: The third-party that OpenFlights uses for route data ceased providing updates in June 2014. The current data is of historical value only.\n",
      "\n",
      "        As of June 2014, the OpenFlights/Airline Route Mapper Route Database contains 67663 routes between 3321 airports on 548 airlines spanning the globe, as shown in the map above. \n",
      "        Each entry contains the following information:\n",
      "        ---\n",
      "        Airline\t        |       2-letter (IATA) or 3-letter (ICAO) code of the airline.\n",
      "        Airline ID\t|       Unique OpenFlights identifier for airline (see Airline).\n",
      "        Src airport\t|       3-letter (IATA) or 4-letter (ICAO) code of the source airport.\n",
      "        Src airport ID\t|       Unique OpenFlights identifier for source airport (see Airport)\n",
      "        Dest airport\t|       3-letter (IATA) or 4-letter (ICAO) code of the destination airport.\n",
      "        Dest airport ID\t|       Unique OpenFlights identifier for destination airport (see Airport)\n",
      "        Codeshare\t|       \"Y\" if this flight is a codeshare (that is, not operated by Airline, but another carrier), empty otherwise.\n",
      "        Stops\t        |       Number of stops on this flight (\"0\" for direct)\n",
      "        Equipment\t|       3-letter codes for plane type(s) generally used on this flight, separated by spaces\n",
      "        ---\n",
      "\n",
      "        The data is UTF-8 encoded. \n",
      "        The special value \\N is used for \"NULL\" to indicate that no value is available, and is understood automatically by MySQL if imported.\n",
      "        Notes:\n",
      "                Routes are directional: if an airline operates services from A to B and from B to A, both A-B and B-A are listed separately.\n",
      "                Routes where one carrier operates both its own and codeshare flights are listed only once.\n",
      "        \n",
      "        Sample entries\n",
      "                BA,1355,SIN,3316,LHR,507,,0,744 777\n",
      "                BA,1355,SIN,3316,MEL,3339,Y,0,744\n",
      "                TOM,5013,ACE,1055,BFS,465,,0,320"
     ]
    }
   ],
   "source": [
    "with open('../../data/openFlightsRaw/zOpenFlightsDataDictionary.txt') as file:\n",
    "    lines = file.readlines()\n",
    "    for line in lines: \n",
    "        print(line, end='')"
   ]
  },
  {
   "cell_type": "code",
   "execution_count": 1,
   "metadata": {},
   "outputs": [],
   "source": [
    "#necessary imports\n",
    "import pandas as pd\n",
    "import numpy as np\n",
    "import plotly.express as px\n",
    "import plotly.graph_objects as go\n",
    "import googlemaps\n",
    "import kaleido\n",
    "import plotly.io as pio\n",
    "pio.renderers.default = \"iframe\""
   ]
  },
  {
   "cell_type": "markdown",
   "metadata": {},
   "source": [
    "From the OpenFlights datasets, the part that we care about the most is airports and routes.\n",
    "\n",
    "airports contains all of the information about airports throughout the world.\n",
    "routes contains information about eligable routes between airports"
   ]
  },
  {
   "cell_type": "code",
   "execution_count": 2,
   "metadata": {},
   "outputs": [],
   "source": [
    "airports_csv = pd.read_csv('../data/openFlightsRaw/airports.csv')\n",
    "routes_csv = pd.read_csv('../data/openFlightsRaw/routes.csv')"
   ]
  },
  {
   "cell_type": "markdown",
   "metadata": {},
   "source": [
    "Among routes and airports there is desire to create a new dataset that has elements from both flat files."
   ]
  },
  {
   "cell_type": "code",
   "execution_count": 3,
   "metadata": {},
   "outputs": [
    {
     "data": {
      "text/html": [
       "<div>\n",
       "<style scoped>\n",
       "    .dataframe tbody tr th:only-of-type {\n",
       "        vertical-align: middle;\n",
       "    }\n",
       "\n",
       "    .dataframe tbody tr th {\n",
       "        vertical-align: top;\n",
       "    }\n",
       "\n",
       "    .dataframe thead th {\n",
       "        text-align: right;\n",
       "    }\n",
       "</style>\n",
       "<table border=\"1\" class=\"dataframe\">\n",
       "  <thead>\n",
       "    <tr style=\"text-align: right;\">\n",
       "      <th></th>\n",
       "      <th>AIRPT_ID</th>\n",
       "      <th>NAME</th>\n",
       "      <th>CTY</th>\n",
       "      <th>CTRY</th>\n",
       "      <th>IATA</th>\n",
       "      <th>ICAO</th>\n",
       "      <th>LAT</th>\n",
       "      <th>LONG</th>\n",
       "      <th>ALT</th>\n",
       "      <th>TZ</th>\n",
       "      <th>DST</th>\n",
       "      <th>DBTZ</th>\n",
       "      <th>TYPE</th>\n",
       "      <th>SRC</th>\n",
       "    </tr>\n",
       "  </thead>\n",
       "  <tbody>\n",
       "    <tr>\n",
       "      <th>0</th>\n",
       "      <td>1</td>\n",
       "      <td>Goroka Airport</td>\n",
       "      <td>Goroka</td>\n",
       "      <td>Papua New Guinea</td>\n",
       "      <td>GKA</td>\n",
       "      <td>AYGA</td>\n",
       "      <td>-6.081690</td>\n",
       "      <td>145.391998</td>\n",
       "      <td>5282</td>\n",
       "      <td>10</td>\n",
       "      <td>U</td>\n",
       "      <td>Pacific/Port_Moresby</td>\n",
       "      <td>airport</td>\n",
       "      <td>OurAirports</td>\n",
       "    </tr>\n",
       "    <tr>\n",
       "      <th>1</th>\n",
       "      <td>2</td>\n",
       "      <td>Madang Airport</td>\n",
       "      <td>Madang</td>\n",
       "      <td>Papua New Guinea</td>\n",
       "      <td>MAG</td>\n",
       "      <td>AYMD</td>\n",
       "      <td>-5.207080</td>\n",
       "      <td>145.789001</td>\n",
       "      <td>20</td>\n",
       "      <td>10</td>\n",
       "      <td>U</td>\n",
       "      <td>Pacific/Port_Moresby</td>\n",
       "      <td>airport</td>\n",
       "      <td>OurAirports</td>\n",
       "    </tr>\n",
       "    <tr>\n",
       "      <th>2</th>\n",
       "      <td>3</td>\n",
       "      <td>Mount Hagen Kagamuga Airport</td>\n",
       "      <td>Mount Hagen</td>\n",
       "      <td>Papua New Guinea</td>\n",
       "      <td>HGU</td>\n",
       "      <td>AYMH</td>\n",
       "      <td>-5.826790</td>\n",
       "      <td>144.296005</td>\n",
       "      <td>5388</td>\n",
       "      <td>10</td>\n",
       "      <td>U</td>\n",
       "      <td>Pacific/Port_Moresby</td>\n",
       "      <td>airport</td>\n",
       "      <td>OurAirports</td>\n",
       "    </tr>\n",
       "    <tr>\n",
       "      <th>3</th>\n",
       "      <td>4</td>\n",
       "      <td>Nadzab Airport</td>\n",
       "      <td>Nadzab</td>\n",
       "      <td>Papua New Guinea</td>\n",
       "      <td>LAE</td>\n",
       "      <td>AYNZ</td>\n",
       "      <td>-6.569803</td>\n",
       "      <td>146.725977</td>\n",
       "      <td>239</td>\n",
       "      <td>10</td>\n",
       "      <td>U</td>\n",
       "      <td>Pacific/Port_Moresby</td>\n",
       "      <td>airport</td>\n",
       "      <td>OurAirports</td>\n",
       "    </tr>\n",
       "    <tr>\n",
       "      <th>4</th>\n",
       "      <td>5</td>\n",
       "      <td>Port Moresby Jacksons International Airport</td>\n",
       "      <td>Port Moresby</td>\n",
       "      <td>Papua New Guinea</td>\n",
       "      <td>POM</td>\n",
       "      <td>AYPY</td>\n",
       "      <td>-9.443380</td>\n",
       "      <td>147.220001</td>\n",
       "      <td>146</td>\n",
       "      <td>10</td>\n",
       "      <td>U</td>\n",
       "      <td>Pacific/Port_Moresby</td>\n",
       "      <td>airport</td>\n",
       "      <td>OurAirports</td>\n",
       "    </tr>\n",
       "  </tbody>\n",
       "</table>\n",
       "</div>"
      ],
      "text/plain": [
       "   AIRPT_ID                                         NAME           CTY  \\\n",
       "0         1                               Goroka Airport        Goroka   \n",
       "1         2                               Madang Airport        Madang   \n",
       "2         3                 Mount Hagen Kagamuga Airport   Mount Hagen   \n",
       "3         4                               Nadzab Airport        Nadzab   \n",
       "4         5  Port Moresby Jacksons International Airport  Port Moresby   \n",
       "\n",
       "               CTRY IATA  ICAO       LAT        LONG   ALT  TZ DST  \\\n",
       "0  Papua New Guinea  GKA  AYGA -6.081690  145.391998  5282  10   U   \n",
       "1  Papua New Guinea  MAG  AYMD -5.207080  145.789001    20  10   U   \n",
       "2  Papua New Guinea  HGU  AYMH -5.826790  144.296005  5388  10   U   \n",
       "3  Papua New Guinea  LAE  AYNZ -6.569803  146.725977   239  10   U   \n",
       "4  Papua New Guinea  POM  AYPY -9.443380  147.220001   146  10   U   \n",
       "\n",
       "                   DBTZ     TYPE          SRC  \n",
       "0  Pacific/Port_Moresby  airport  OurAirports  \n",
       "1  Pacific/Port_Moresby  airport  OurAirports  \n",
       "2  Pacific/Port_Moresby  airport  OurAirports  \n",
       "3  Pacific/Port_Moresby  airport  OurAirports  \n",
       "4  Pacific/Port_Moresby  airport  OurAirports  "
      ]
     },
     "execution_count": 3,
     "metadata": {},
     "output_type": "execute_result"
    }
   ],
   "source": [
    "airports_csv.head(5)"
   ]
  },
  {
   "cell_type": "code",
   "execution_count": 4,
   "metadata": {},
   "outputs": [
    {
     "data": {
      "text/html": [
       "<div>\n",
       "<style scoped>\n",
       "    .dataframe tbody tr th:only-of-type {\n",
       "        vertical-align: middle;\n",
       "    }\n",
       "\n",
       "    .dataframe tbody tr th {\n",
       "        vertical-align: top;\n",
       "    }\n",
       "\n",
       "    .dataframe thead th {\n",
       "        text-align: right;\n",
       "    }\n",
       "</style>\n",
       "<table border=\"1\" class=\"dataframe\">\n",
       "  <thead>\n",
       "    <tr style=\"text-align: right;\">\n",
       "      <th></th>\n",
       "      <th>AIRLINE</th>\n",
       "      <th>AIRLINE_ID</th>\n",
       "      <th>SRC_AIRPT</th>\n",
       "      <th>SRC_AIRPT_ID</th>\n",
       "      <th>DESTN_AIRPT</th>\n",
       "      <th>DESTIN_AIRPT_ID</th>\n",
       "      <th>CDSHARE</th>\n",
       "      <th>STOPS</th>\n",
       "      <th>EQPT</th>\n",
       "    </tr>\n",
       "  </thead>\n",
       "  <tbody>\n",
       "    <tr>\n",
       "      <th>0</th>\n",
       "      <td>2B</td>\n",
       "      <td>410</td>\n",
       "      <td>AER</td>\n",
       "      <td>2965</td>\n",
       "      <td>KZN</td>\n",
       "      <td>2990</td>\n",
       "      <td>NaN</td>\n",
       "      <td>0</td>\n",
       "      <td>CR2</td>\n",
       "    </tr>\n",
       "    <tr>\n",
       "      <th>1</th>\n",
       "      <td>2B</td>\n",
       "      <td>410</td>\n",
       "      <td>ASF</td>\n",
       "      <td>2966</td>\n",
       "      <td>KZN</td>\n",
       "      <td>2990</td>\n",
       "      <td>NaN</td>\n",
       "      <td>0</td>\n",
       "      <td>CR2</td>\n",
       "    </tr>\n",
       "    <tr>\n",
       "      <th>2</th>\n",
       "      <td>2B</td>\n",
       "      <td>410</td>\n",
       "      <td>ASF</td>\n",
       "      <td>2966</td>\n",
       "      <td>MRV</td>\n",
       "      <td>2962</td>\n",
       "      <td>NaN</td>\n",
       "      <td>0</td>\n",
       "      <td>CR2</td>\n",
       "    </tr>\n",
       "    <tr>\n",
       "      <th>3</th>\n",
       "      <td>2B</td>\n",
       "      <td>410</td>\n",
       "      <td>CEK</td>\n",
       "      <td>2968</td>\n",
       "      <td>KZN</td>\n",
       "      <td>2990</td>\n",
       "      <td>NaN</td>\n",
       "      <td>0</td>\n",
       "      <td>CR2</td>\n",
       "    </tr>\n",
       "    <tr>\n",
       "      <th>4</th>\n",
       "      <td>2B</td>\n",
       "      <td>410</td>\n",
       "      <td>CEK</td>\n",
       "      <td>2968</td>\n",
       "      <td>OVB</td>\n",
       "      <td>4078</td>\n",
       "      <td>NaN</td>\n",
       "      <td>0</td>\n",
       "      <td>CR2</td>\n",
       "    </tr>\n",
       "  </tbody>\n",
       "</table>\n",
       "</div>"
      ],
      "text/plain": [
       "  AIRLINE AIRLINE_ID SRC_AIRPT SRC_AIRPT_ID DESTN_AIRPT DESTIN_AIRPT_ID  \\\n",
       "0      2B        410       AER         2965         KZN            2990   \n",
       "1      2B        410       ASF         2966         KZN            2990   \n",
       "2      2B        410       ASF         2966         MRV            2962   \n",
       "3      2B        410       CEK         2968         KZN            2990   \n",
       "4      2B        410       CEK         2968         OVB            4078   \n",
       "\n",
       "  CDSHARE  STOPS EQPT  \n",
       "0     NaN      0  CR2  \n",
       "1     NaN      0  CR2  \n",
       "2     NaN      0  CR2  \n",
       "3     NaN      0  CR2  \n",
       "4     NaN      0  CR2  "
      ]
     },
     "execution_count": 4,
     "metadata": {},
     "output_type": "execute_result"
    }
   ],
   "source": [
    "routes_csv.head(5)"
   ]
  },
  {
   "cell_type": "markdown",
   "metadata": {},
   "source": [
    "To create an all encompassing routes file, I want a single data source to have the name, country, city, latitude, and longitude for source and destination airports."
   ]
  },
  {
   "cell_type": "code",
   "execution_count": 5,
   "metadata": {},
   "outputs": [
    {
     "name": "stdout",
     "output_type": "stream",
     "text": [
      "False\n",
      "False\n",
      "False\n",
      "False\n"
     ]
    }
   ],
   "source": [
    "#Verification that all of the identifier values are not null\n",
    "print(routes_csv['SRC_AIRPT_ID'].isnull().values.any())\n",
    "print(routes_csv['DESTIN_AIRPT_ID'].isnull().values.any())\n",
    "print(airports_csv['AIRPT_ID'].isnull().values.any())\n",
    "\n",
    "#Verification that no rows are duplicated in the routes file\n",
    "print(routes_csv.duplicated().any())"
   ]
  },
  {
   "cell_type": "code",
   "execution_count": 6,
   "metadata": {},
   "outputs": [
    {
     "name": "stdout",
     "output_type": "stream",
     "text": [
      "<class 'str'>\n",
      "<class 'str'>\n",
      "<class 'numpy.int64'>\n"
     ]
    }
   ],
   "source": [
    "#Identifying type differences between the two airport_csv and routes_csv dataframes\n",
    "print(type(routes_csv['SRC_AIRPT_ID'][0]))\n",
    "print(type(routes_csv['DESTIN_AIRPT_ID'][0]))\n",
    "print(type(airports_csv['AIRPT_ID'][0]))"
   ]
  },
  {
   "cell_type": "code",
   "execution_count": 7,
   "metadata": {},
   "outputs": [],
   "source": [
    "#Turning AIRPT_ID into a string for joining purposes\n",
    "airports_csv['AIRPT_ID'] = (airports_csv['AIRPT_ID']).astype(str)"
   ]
  },
  {
   "cell_type": "markdown",
   "metadata": {},
   "source": [
    "My initial assumption about null identifiers was incorrect for routes, instead. As the data dictionary mentioned '\\N' is used for null values, instead of just missing data.\n",
    "This caused issues when originally joining the dataset."
   ]
  },
  {
   "cell_type": "code",
   "execution_count": 8,
   "metadata": {},
   "outputs": [],
   "source": [
    "#Define a null value\n",
    "nullVal = r\"\\N\"\n",
    "\n",
    "#Remove the null value from the dataframes\n",
    "routes_csv = routes_csv[routes_csv['SRC_AIRPT_ID'] != nullVal]\n",
    "routes_csv = routes_csv[routes_csv['DESTIN_AIRPT_ID'] != nullVal]"
   ]
  },
  {
   "cell_type": "markdown",
   "metadata": {},
   "source": [
    "I had assumed that the ids were in numerical order, and didn't have any holes.  That assumption was wrong, what this means there are airports in the routes data, that are not in the airports data.\n",
    "\n",
    "In the chart below, you can see how the IDs for the last 1000 elements in our dataset jump from 10,000 to 14,000."
   ]
  },
  {
   "cell_type": "code",
   "execution_count": 9,
   "metadata": {},
   "outputs": [
    {
     "data": {
      "text/html": [
       "<iframe\n",
       "    scrolling=\"no\"\n",
       "    width=\"100%\"\n",
       "    height=\"545px\"\n",
       "    src=\"iframe_figures/figure_9.html\"\n",
       "    frameborder=\"0\"\n",
       "    allowfullscreen\n",
       "></iframe>\n"
      ]
     },
     "metadata": {},
     "output_type": "display_data"
    }
   ],
   "source": [
    "airports_csv_Example = pd.read_csv('../data/openFlightsRaw/airports.csv')\n",
    "airports_csv_Example = airports_csv_Example.tail(1000)\n",
    "airportIdPoints = np.array(airports_csv_Example['AIRPT_ID'])\n",
    "\n",
    "fig = px.line(airports_csv_Example, \n",
    "              x = airports_csv_Example.index.values, \n",
    "              y = 'AIRPT_ID',\n",
    "              title = 'Airport IDs are not in numerical order',\n",
    "              labels = {'x' : 'Last 1000 Airport Rows', 'AIRPT_ID' : 'Airport ID'}\n",
    "            )\n",
    "\n",
    "fig.show()"
   ]
  },
  {
   "cell_type": "code",
   "execution_count": 10,
   "metadata": {},
   "outputs": [
    {
     "data": {
      "text/plain": [
       "67240"
      ]
     },
     "execution_count": 10,
     "metadata": {},
     "output_type": "execute_result"
    }
   ],
   "source": [
    "#Identifying size of routes data, to ensure size stays the same or is less afterwards\n",
    "len(routes_csv.index)"
   ]
  },
  {
   "cell_type": "markdown",
   "metadata": {},
   "source": [
    "Joining source and destination airports onto the routes.\n",
    "\n",
    "Using inner joins gets rid of the airports that aren't in the airports.csv\n",
    "\n",
    "This provides a name that the Google API can use, so distance can be obtained"
   ]
  },
  {
   "cell_type": "code",
   "execution_count": 11,
   "metadata": {},
   "outputs": [],
   "source": [
    "routeDistSrc = routes_csv.merge(airports_csv, how='inner', left_on='SRC_AIRPT_ID', right_on='AIRPT_ID')\n",
    "\n",
    "routeDistSrc['SRCNAME'] = routeDistSrc['NAME']\n",
    "routeDistSrc['SRCCTY'] = routeDistSrc['CTY']\n",
    "routeDistSrc['SRCCTRY'] = routeDistSrc['CTRY']\n",
    "srcCols = ['AIRLINE', 'AIRLINE_ID', 'SRC_AIRPT', 'SRC_AIRPT_ID', 'SRCNAME', 'SRCCTY', 'SRCCTRY', 'DESTN_AIRPT', 'DESTIN_AIRPT_ID', 'CDSHARE', 'STOPS', 'EQPT']\n",
    "routeDistSrc = routeDistSrc[srcCols]\n",
    "\n",
    "routeDistDestin = routes_csv.merge(airports_csv, how='inner', left_on='DESTIN_AIRPT_ID', right_on='AIRPT_ID')\n",
    "\n",
    "routeDistDestin['DESTINNAME'] = routeDistDestin['NAME']\n",
    "routeDistDestin['DESTINCTY'] = routeDistDestin['CTY']\n",
    "routeDistDestin['DESTINCTRY'] = routeDistDestin['CTRY']\n",
    "destinCols = ['AIRLINE', 'AIRLINE_ID', 'SRC_AIRPT', 'SRC_AIRPT_ID', 'DESTN_AIRPT', 'DESTIN_AIRPT_ID', 'DESTINNAME', 'DESTINCTY', 'DESTINCTRY', 'CDSHARE', 'STOPS', 'EQPT']\n",
    "routeDistDestin = routeDistDestin[destinCols]\n",
    "\n",
    "routeMergeCols = ['AIRLINE', 'AIRLINE_ID', 'SRC_AIRPT', 'SRC_AIRPT_ID', 'DESTN_AIRPT', 'DESTIN_AIRPT_ID', 'CDSHARE', 'STOPS', 'EQPT']\n",
    "routeDist = routeDistSrc.merge(routeDistDestin, how='inner', on=routeMergeCols)"
   ]
  },
  {
   "cell_type": "code",
   "execution_count": 12,
   "metadata": {},
   "outputs": [
    {
     "data": {
      "text/plain": [
       "66771"
      ]
     },
     "execution_count": 12,
     "metadata": {},
     "output_type": "execute_result"
    }
   ],
   "source": [
    "#Verified there are less rows now, due to inner join\n",
    "len(routeDist.index)"
   ]
  },
  {
   "cell_type": "code",
   "execution_count": 13,
   "metadata": {},
   "outputs": [
    {
     "data": {
      "text/html": [
       "<div>\n",
       "<style scoped>\n",
       "    .dataframe tbody tr th:only-of-type {\n",
       "        vertical-align: middle;\n",
       "    }\n",
       "\n",
       "    .dataframe tbody tr th {\n",
       "        vertical-align: top;\n",
       "    }\n",
       "\n",
       "    .dataframe thead th {\n",
       "        text-align: right;\n",
       "    }\n",
       "</style>\n",
       "<table border=\"1\" class=\"dataframe\">\n",
       "  <thead>\n",
       "    <tr style=\"text-align: right;\">\n",
       "      <th></th>\n",
       "      <th>AIRLINE</th>\n",
       "      <th>AIRLINE_ID</th>\n",
       "      <th>SRC_AIRPT</th>\n",
       "      <th>SRC_AIRPT_ID</th>\n",
       "      <th>SRCNAME</th>\n",
       "      <th>SRCCTY</th>\n",
       "      <th>SRCCTRY</th>\n",
       "      <th>DESTN_AIRPT</th>\n",
       "      <th>DESTIN_AIRPT_ID</th>\n",
       "      <th>CDSHARE</th>\n",
       "      <th>STOPS</th>\n",
       "      <th>EQPT</th>\n",
       "      <th>DESTINNAME</th>\n",
       "      <th>DESTINCTY</th>\n",
       "      <th>DESTINCTRY</th>\n",
       "    </tr>\n",
       "  </thead>\n",
       "  <tbody>\n",
       "    <tr>\n",
       "      <th>0</th>\n",
       "      <td>2B</td>\n",
       "      <td>410</td>\n",
       "      <td>AER</td>\n",
       "      <td>2965</td>\n",
       "      <td>Sochi International Airport</td>\n",
       "      <td>Sochi</td>\n",
       "      <td>Russia</td>\n",
       "      <td>KZN</td>\n",
       "      <td>2990</td>\n",
       "      <td>NaN</td>\n",
       "      <td>0</td>\n",
       "      <td>CR2</td>\n",
       "      <td>Kazan International Airport</td>\n",
       "      <td>Kazan</td>\n",
       "      <td>Russia</td>\n",
       "    </tr>\n",
       "    <tr>\n",
       "      <th>1</th>\n",
       "      <td>2B</td>\n",
       "      <td>410</td>\n",
       "      <td>ASF</td>\n",
       "      <td>2966</td>\n",
       "      <td>Astrakhan Airport</td>\n",
       "      <td>Astrakhan</td>\n",
       "      <td>Russia</td>\n",
       "      <td>KZN</td>\n",
       "      <td>2990</td>\n",
       "      <td>NaN</td>\n",
       "      <td>0</td>\n",
       "      <td>CR2</td>\n",
       "      <td>Kazan International Airport</td>\n",
       "      <td>Kazan</td>\n",
       "      <td>Russia</td>\n",
       "    </tr>\n",
       "    <tr>\n",
       "      <th>2</th>\n",
       "      <td>2B</td>\n",
       "      <td>410</td>\n",
       "      <td>ASF</td>\n",
       "      <td>2966</td>\n",
       "      <td>Astrakhan Airport</td>\n",
       "      <td>Astrakhan</td>\n",
       "      <td>Russia</td>\n",
       "      <td>MRV</td>\n",
       "      <td>2962</td>\n",
       "      <td>NaN</td>\n",
       "      <td>0</td>\n",
       "      <td>CR2</td>\n",
       "      <td>Mineralnyye Vody Airport</td>\n",
       "      <td>Mineralnye Vody</td>\n",
       "      <td>Russia</td>\n",
       "    </tr>\n",
       "    <tr>\n",
       "      <th>3</th>\n",
       "      <td>2B</td>\n",
       "      <td>410</td>\n",
       "      <td>CEK</td>\n",
       "      <td>2968</td>\n",
       "      <td>Chelyabinsk Balandino Airport</td>\n",
       "      <td>Chelyabinsk</td>\n",
       "      <td>Russia</td>\n",
       "      <td>KZN</td>\n",
       "      <td>2990</td>\n",
       "      <td>NaN</td>\n",
       "      <td>0</td>\n",
       "      <td>CR2</td>\n",
       "      <td>Kazan International Airport</td>\n",
       "      <td>Kazan</td>\n",
       "      <td>Russia</td>\n",
       "    </tr>\n",
       "    <tr>\n",
       "      <th>4</th>\n",
       "      <td>2B</td>\n",
       "      <td>410</td>\n",
       "      <td>CEK</td>\n",
       "      <td>2968</td>\n",
       "      <td>Chelyabinsk Balandino Airport</td>\n",
       "      <td>Chelyabinsk</td>\n",
       "      <td>Russia</td>\n",
       "      <td>OVB</td>\n",
       "      <td>4078</td>\n",
       "      <td>NaN</td>\n",
       "      <td>0</td>\n",
       "      <td>CR2</td>\n",
       "      <td>Tolmachevo Airport</td>\n",
       "      <td>Novosibirsk</td>\n",
       "      <td>Russia</td>\n",
       "    </tr>\n",
       "  </tbody>\n",
       "</table>\n",
       "</div>"
      ],
      "text/plain": [
       "  AIRLINE AIRLINE_ID SRC_AIRPT SRC_AIRPT_ID                        SRCNAME  \\\n",
       "0      2B        410       AER         2965    Sochi International Airport   \n",
       "1      2B        410       ASF         2966              Astrakhan Airport   \n",
       "2      2B        410       ASF         2966              Astrakhan Airport   \n",
       "3      2B        410       CEK         2968  Chelyabinsk Balandino Airport   \n",
       "4      2B        410       CEK         2968  Chelyabinsk Balandino Airport   \n",
       "\n",
       "        SRCCTY SRCCTRY DESTN_AIRPT DESTIN_AIRPT_ID CDSHARE  STOPS EQPT  \\\n",
       "0        Sochi  Russia         KZN            2990     NaN      0  CR2   \n",
       "1    Astrakhan  Russia         KZN            2990     NaN      0  CR2   \n",
       "2    Astrakhan  Russia         MRV            2962     NaN      0  CR2   \n",
       "3  Chelyabinsk  Russia         KZN            2990     NaN      0  CR2   \n",
       "4  Chelyabinsk  Russia         OVB            4078     NaN      0  CR2   \n",
       "\n",
       "                    DESTINNAME        DESTINCTY DESTINCTRY  \n",
       "0  Kazan International Airport            Kazan     Russia  \n",
       "1  Kazan International Airport            Kazan     Russia  \n",
       "2     Mineralnyye Vody Airport  Mineralnye Vody     Russia  \n",
       "3  Kazan International Airport            Kazan     Russia  \n",
       "4           Tolmachevo Airport      Novosibirsk     Russia  "
      ]
     },
     "execution_count": 13,
     "metadata": {},
     "output_type": "execute_result"
    }
   ],
   "source": [
    "# Saving off the combined dataframe\n",
    "routeDist.to_csv('../data/routesDist.csv')\n",
    "\n",
    "routeDist.head(5)"
   ]
  },
  {
   "cell_type": "markdown",
   "metadata": {},
   "source": [
    "### 2. Trying to Reduce the Dataset"
   ]
  },
  {
   "cell_type": "markdown",
   "metadata": {},
   "source": [
    "With the intention of getting distance information, Google's Distance Matrix API can be used.\n",
    "\n",
    "There are a couple of issues though\n",
    "1. Hitting the API over and over is costly and takes time.\n",
    "2. The API calculates distance with driving, so utilizing routes overseas doesn't make much sense."
   ]
  },
  {
   "cell_type": "markdown",
   "metadata": {},
   "source": [
    "I will start by seeing which airports have the most traffic, this will help me use the distance calculation for common routes with future work.\n",
    "\n",
    "With the graph below there appears to be a linear relation in how often the airport is used as a source and a destination within the dataset."
   ]
  },
  {
   "cell_type": "code",
   "execution_count": 14,
   "metadata": {},
   "outputs": [
    {
     "data": {
      "text/html": [
       "<iframe\n",
       "    scrolling=\"no\"\n",
       "    width=\"100%\"\n",
       "    height=\"545px\"\n",
       "    src=\"iframe_figures/figure_14.html\"\n",
       "    frameborder=\"0\"\n",
       "    allowfullscreen\n",
       "></iframe>\n"
      ]
     },
     "metadata": {},
     "output_type": "display_data"
    }
   ],
   "source": [
    "routeDist['countVal'] = 1\n",
    "srcAIRPTS = routeDist.groupby('SRCNAME')['countVal'].sum()\n",
    "destinAIRPTS = routeDist.groupby('DESTINNAME')['countVal'].sum()\n",
    "\n",
    "airportCnt = airports_csv.merge(srcAIRPTS, how='inner', left_on='NAME', right_on='SRCNAME')\n",
    "airportCnt = airportCnt.rename(columns={'countVal': 'SRCCNT'})\n",
    "airportCnt = airportCnt.merge(destinAIRPTS, how='inner', left_on='NAME', right_on='DESTINNAME')\n",
    "airportCnt = airportCnt.rename(columns={'countVal': 'DESTINCNT'})\n",
    "\n",
    "fig = px.scatter(airportCnt, \n",
    "              x = 'SRCCNT', \n",
    "              y = 'DESTINCNT',\n",
    "              title = 'Airports have Traffic Coming In and Out Linearly',\n",
    "              labels = {'SRCCNT' : 'Source of Route Count', 'DESTINCNT' : 'Destination of Route Count'}\n",
    "            )\n",
    "\n",
    "fig.show()"
   ]
  },
  {
   "cell_type": "markdown",
   "metadata": {},
   "source": [
    "With the graph above, we can observe that there is an outlier.\n",
    "\n",
    "The most popular airport is Hartsfield Jackson Atlanta International Airport"
   ]
  },
  {
   "cell_type": "code",
   "execution_count": 15,
   "metadata": {},
   "outputs": [
    {
     "data": {
      "text/html": [
       "<div>\n",
       "<style scoped>\n",
       "    .dataframe tbody tr th:only-of-type {\n",
       "        vertical-align: middle;\n",
       "    }\n",
       "\n",
       "    .dataframe tbody tr th {\n",
       "        vertical-align: top;\n",
       "    }\n",
       "\n",
       "    .dataframe thead th {\n",
       "        text-align: right;\n",
       "    }\n",
       "</style>\n",
       "<table border=\"1\" class=\"dataframe\">\n",
       "  <thead>\n",
       "    <tr style=\"text-align: right;\">\n",
       "      <th></th>\n",
       "      <th>AIRPT_ID</th>\n",
       "      <th>NAME</th>\n",
       "      <th>CTY</th>\n",
       "      <th>CTRY</th>\n",
       "      <th>IATA</th>\n",
       "      <th>ICAO</th>\n",
       "      <th>LAT</th>\n",
       "      <th>LONG</th>\n",
       "      <th>ALT</th>\n",
       "      <th>TZ</th>\n",
       "      <th>DST</th>\n",
       "      <th>DBTZ</th>\n",
       "      <th>TYPE</th>\n",
       "      <th>SRC</th>\n",
       "      <th>SRCCNT</th>\n",
       "      <th>DESTINCNT</th>\n",
       "    </tr>\n",
       "  </thead>\n",
       "  <tbody>\n",
       "    <tr>\n",
       "      <th>1806</th>\n",
       "      <td>3682</td>\n",
       "      <td>Hartsfield Jackson Atlanta International Airport</td>\n",
       "      <td>Atlanta</td>\n",
       "      <td>United States</td>\n",
       "      <td>ATL</td>\n",
       "      <td>KATL</td>\n",
       "      <td>33.6367</td>\n",
       "      <td>-84.428101</td>\n",
       "      <td>1026</td>\n",
       "      <td>-5</td>\n",
       "      <td>A</td>\n",
       "      <td>America/New_York</td>\n",
       "      <td>airport</td>\n",
       "      <td>OurAirports</td>\n",
       "      <td>915</td>\n",
       "      <td>911</td>\n",
       "    </tr>\n",
       "  </tbody>\n",
       "</table>\n",
       "</div>"
      ],
      "text/plain": [
       "     AIRPT_ID                                              NAME      CTY  \\\n",
       "1806     3682  Hartsfield Jackson Atlanta International Airport  Atlanta   \n",
       "\n",
       "               CTRY IATA  ICAO      LAT       LONG   ALT  TZ DST  \\\n",
       "1806  United States  ATL  KATL  33.6367 -84.428101  1026  -5   A   \n",
       "\n",
       "                  DBTZ     TYPE          SRC  SRCCNT  DESTINCNT  \n",
       "1806  America/New_York  airport  OurAirports     915        911  "
      ]
     },
     "execution_count": 15,
     "metadata": {},
     "output_type": "execute_result"
    }
   ],
   "source": [
    "airportCnt[airportCnt['SRCCNT'] > 800]"
   ]
  },
  {
   "cell_type": "markdown",
   "metadata": {},
   "source": [
    "We can use the data above to figure out which countries have the most route data. \n",
    "It looks like China and the United States have the most route data "
   ]
  },
  {
   "cell_type": "code",
   "execution_count": 16,
   "metadata": {},
   "outputs": [
    {
     "data": {
      "text/html": [
       "<iframe\n",
       "    scrolling=\"no\"\n",
       "    width=\"100%\"\n",
       "    height=\"545px\"\n",
       "    src=\"iframe_figures/figure_16.html\"\n",
       "    frameborder=\"0\"\n",
       "    allowfullscreen\n",
       "></iframe>\n"
      ]
     },
     "metadata": {},
     "output_type": "display_data"
    }
   ],
   "source": [
    "srcCtryCnt = airportCnt.groupby('CTRY')['SRCCNT'].sum()\n",
    "\n",
    "#Filtering out countries that sources less than 500 flights\n",
    "srcCtryCntPi = srcCtryCnt[srcCtryCnt > 500]\n",
    "\n",
    "fig = px.pie(srcCtryCntPi,\n",
    "             names = srcCtryCntPi.index,\n",
    "             values = srcCtryCntPi.values,\n",
    "             title = \"United States Sources the largest amount of flights\")\n",
    "\n",
    "fig.show()"
   ]
  },
  {
   "cell_type": "markdown",
   "metadata": {},
   "source": [
    "Removing some of the outlier values and looking at the top highest countries with source routes, to verify source and destination linear trend"
   ]
  },
  {
   "cell_type": "code",
   "execution_count": 17,
   "metadata": {},
   "outputs": [
    {
     "data": {
      "text/html": [
       "<iframe\n",
       "    scrolling=\"no\"\n",
       "    width=\"100%\"\n",
       "    height=\"545px\"\n",
       "    src=\"iframe_figures/figure_17.html\"\n",
       "    frameborder=\"0\"\n",
       "    allowfullscreen\n",
       "></iframe>\n"
      ]
     },
     "metadata": {},
     "output_type": "display_data"
    }
   ],
   "source": [
    "ctrys = ['United States', 'China', 'Spain', 'United Kingdom', 'Germany']\n",
    "\n",
    "airportCntFiltered = airportCnt[airportCnt['CTRY'].isin(ctrys)]\n",
    "airportCntFiltered = airportCntFiltered[airportCntFiltered['SRCCNT'] < 500]\n",
    "airportCntFiltered = airportCntFiltered[airportCntFiltered['SRCCNT'] > 100]\n",
    "\n",
    "fig = px.scatter(airportCntFiltered, \n",
    "              x = 'SRCCNT', \n",
    "              y = 'DESTINCNT',\n",
    "              title = 'The Linear Relationship Between Airports Routing In and Out',\n",
    "              color = airportCntFiltered['CTRY'],\n",
    "              labels = {'SRCCNT' : 'Source of Route Count', 'DESTINCNT' : 'Destination of Route Count', 'CTRY' : 'Country'}\n",
    "            )\n",
    "\n",
    "fig.show()"
   ]
  },
  {
   "cell_type": "markdown",
   "metadata": {},
   "source": [
    "Based on these results, we can safely assume that United States Data would be ideal to focus on"
   ]
  },
  {
   "cell_type": "markdown",
   "metadata": {},
   "source": [
    "### 3. Adding Distance for the US"
   ]
  },
  {
   "cell_type": "markdown",
   "metadata": {},
   "source": [
    "As identified through the previous EDA, the source and destination count should be the same."
   ]
  },
  {
   "cell_type": "code",
   "execution_count": 18,
   "metadata": {},
   "outputs": [
    {
     "name": "stdout",
     "output_type": "stream",
     "text": [
      "13021\n",
      "13016\n"
     ]
    }
   ],
   "source": [
    "#Utilizing the file that was created earlier\n",
    "routes_csv = pd.read_csv('../data/routesDist.csv')\n",
    "\n",
    "usSrcRoutes = routes_csv[routes_csv['SRCCTRY'] == 'United States']\n",
    "print(len(usSrcRoutes))\n",
    "\n",
    "usDestinRoutes = routes_csv[routes_csv['DESTINCTRY'] == 'United States']\n",
    "print(len(usDestinRoutes))"
   ]
  },
  {
   "cell_type": "code",
   "execution_count": 19,
   "metadata": {},
   "outputs": [
    {
     "data": {
      "text/plain": [
       "15519"
      ]
     },
     "execution_count": 19,
     "metadata": {},
     "output_type": "execute_result"
    }
   ],
   "source": [
    "#Merging the destination and source routes to ideall capture data that includes international sources\n",
    "mergeCols = ['AIRLINE_ID', 'SRC_AIRPT_ID', 'DESTIN_AIRPT_ID']\n",
    "\n",
    "usRoutes = usSrcRoutes.merge(usDestinRoutes, how='outer', on=mergeCols)\n",
    "len(usRoutes)"
   ]
  },
  {
   "cell_type": "code",
   "execution_count": 20,
   "metadata": {},
   "outputs": [
    {
     "data": {
      "text/plain": [
       "15519"
      ]
     },
     "execution_count": 20,
     "metadata": {},
     "output_type": "execute_result"
    }
   ],
   "source": [
    "#Verification that there are no duplicates amongst the data\n",
    "usRoutesTest = pd.concat([usSrcRoutes,usDestinRoutes])\n",
    "usRoutesTest = usRoutesTest.drop_duplicates()\n",
    "len(usRoutesTest)"
   ]
  },
  {
   "cell_type": "code",
   "execution_count": 21,
   "metadata": {},
   "outputs": [],
   "source": [
    "#re-using variable above that was used to show concat and outer join provide similar data\n",
    "usRoutes = usRoutesTest[['SRC_AIRPT_ID', 'SRCNAME', 'DESTIN_AIRPT_ID', 'DESTINNAME']]"
   ]
  },
  {
   "cell_type": "code",
   "execution_count": 22,
   "metadata": {},
   "outputs": [],
   "source": [
    "#A function to capture the data from Google's distance matrix API\n",
    "def distCalc(x, y):\n",
    "    file = open(\"../dataEngineering/gMapsAPIKey.txt\")\n",
    "    gMapsKey = file.read()\n",
    "    file.close()\n",
    "\n",
    "    gmaps = googlemaps.Client(key=gMapsKey)\n",
    "\n",
    "    distance = gmaps.distance_matrix(x, y)['rows'][0]['elements'][0]\n",
    "\n",
    "    try:\n",
    "        meters = distance['distance']['value']\n",
    "    except:\n",
    "        meters = r'\\N'\n",
    "\n",
    "    try:\n",
    "        seconds = distance['duration']['value']\n",
    "    except:\n",
    "        seconds = r'\\N'\n",
    "\n",
    "    return(meters,seconds)"
   ]
  },
  {
   "cell_type": "markdown",
   "metadata": {},
   "source": [
    "The function above was ran through a for loop from the distanceEDA.ipynb in order to create a dataset of seconds and meters that could be used.\n",
    "\n",
    "It could only run through 100 routes at a time, so the process took quite a few hours.\n",
    "\n",
    "The desire was to follow the rule the data dictionary set-up, and use '\\N' as a value for null characters\n",
    "\n",
    "The output of that process was used to create a dataset called usRoutes that includes meters and seconds."
   ]
  },
  {
   "cell_type": "code",
   "execution_count": 23,
   "metadata": {},
   "outputs": [
    {
     "name": "stderr",
     "output_type": "stream",
     "text": [
      "C:\\Users\\thoma\\AppData\\Local\\Temp\\ipykernel_24796\\894388009.py:7: SettingWithCopyWarning:\n",
      "\n",
      "\n",
      "A value is trying to be set on a copy of a slice from a DataFrame.\n",
      "Try using .loc[row_indexer,col_indexer] = value instead\n",
      "\n",
      "See the caveats in the documentation: https://pandas.pydata.org/pandas-docs/stable/user_guide/indexing.html#returning-a-view-versus-a-copy\n",
      "\n",
      "C:\\Users\\thoma\\AppData\\Local\\Temp\\ipykernel_24796\\894388009.py:8: SettingWithCopyWarning:\n",
      "\n",
      "\n",
      "A value is trying to be set on a copy of a slice from a DataFrame.\n",
      "Try using .loc[row_indexer,col_indexer] = value instead\n",
      "\n",
      "See the caveats in the documentation: https://pandas.pydata.org/pandas-docs/stable/user_guide/indexing.html#returning-a-view-versus-a-copy\n",
      "\n"
     ]
    }
   ],
   "source": [
    "permSeriesM = pd.read_csv('../data/meters.csv')\n",
    "permSeriesS = pd.read_csv('../data/seconds.csv')\n",
    "\n",
    "secondsSeries = pd.Series(permSeriesS.to_numpy().flatten())\n",
    "metersSeries = pd.Series(permSeriesM.to_numpy().flatten())\n",
    "\n",
    "usRoutes[\"seconds\"] = secondsSeries\n",
    "usRoutes[\"meters\"] = metersSeries\n",
    "\n",
    "#usRoutes.to_csv('../data/usRoutes.csv')"
   ]
  },
  {
   "cell_type": "code",
   "execution_count": 24,
   "metadata": {},
   "outputs": [
    {
     "data": {
      "text/html": [
       "<div>\n",
       "<style scoped>\n",
       "    .dataframe tbody tr th:only-of-type {\n",
       "        vertical-align: middle;\n",
       "    }\n",
       "\n",
       "    .dataframe tbody tr th {\n",
       "        vertical-align: top;\n",
       "    }\n",
       "\n",
       "    .dataframe thead th {\n",
       "        text-align: right;\n",
       "    }\n",
       "</style>\n",
       "<table border=\"1\" class=\"dataframe\">\n",
       "  <thead>\n",
       "    <tr style=\"text-align: right;\">\n",
       "      <th></th>\n",
       "      <th>Unnamed: 0</th>\n",
       "      <th>og_index</th>\n",
       "      <th>SRC_AIRPT_ID</th>\n",
       "      <th>SRCNAME</th>\n",
       "      <th>DESTIN_AIRPT_ID</th>\n",
       "      <th>DESTINNAME</th>\n",
       "      <th>seconds</th>\n",
       "      <th>meters</th>\n",
       "    </tr>\n",
       "  </thead>\n",
       "  <tbody>\n",
       "    <tr>\n",
       "      <th>0</th>\n",
       "      <td>0</td>\n",
       "      <td>166</td>\n",
       "      <td>3531</td>\n",
       "      <td>Kodiak Airport</td>\n",
       "      <td>7162</td>\n",
       "      <td>Larsen Bay Airport</td>\n",
       "      <td>0</td>\n",
       "      <td>0</td>\n",
       "    </tr>\n",
       "    <tr>\n",
       "      <th>1</th>\n",
       "      <td>1</td>\n",
       "      <td>167</td>\n",
       "      <td>7162</td>\n",
       "      <td>Larsen Bay Airport</td>\n",
       "      <td>7161</td>\n",
       "      <td>Karluk Airport</td>\n",
       "      <td>\\N</td>\n",
       "      <td>\\N</td>\n",
       "    </tr>\n",
       "    <tr>\n",
       "      <th>2</th>\n",
       "      <td>2</td>\n",
       "      <td>248</td>\n",
       "      <td>5726</td>\n",
       "      <td>Southeast Iowa Regional Airport</td>\n",
       "      <td>3830</td>\n",
       "      <td>Chicago O'Hare International Airport</td>\n",
       "      <td>\\N</td>\n",
       "      <td>\\N</td>\n",
       "    </tr>\n",
       "    <tr>\n",
       "      <th>3</th>\n",
       "      <td>3</td>\n",
       "      <td>249</td>\n",
       "      <td>5726</td>\n",
       "      <td>Southeast Iowa Regional Airport</td>\n",
       "      <td>3678</td>\n",
       "      <td>St Louis Lambert International Airport</td>\n",
       "      <td>13361</td>\n",
       "      <td>386142</td>\n",
       "    </tr>\n",
       "    <tr>\n",
       "      <th>4</th>\n",
       "      <td>4</td>\n",
       "      <td>250</td>\n",
       "      <td>4042</td>\n",
       "      <td>Decatur Airport</td>\n",
       "      <td>3830</td>\n",
       "      <td>Chicago O'Hare International Airport</td>\n",
       "      <td>11518</td>\n",
       "      <td>323800</td>\n",
       "    </tr>\n",
       "  </tbody>\n",
       "</table>\n",
       "</div>"
      ],
      "text/plain": [
       "   Unnamed: 0  og_index  SRC_AIRPT_ID                          SRCNAME  \\\n",
       "0           0       166          3531                   Kodiak Airport   \n",
       "1           1       167          7162               Larsen Bay Airport   \n",
       "2           2       248          5726  Southeast Iowa Regional Airport   \n",
       "3           3       249          5726  Southeast Iowa Regional Airport   \n",
       "4           4       250          4042                  Decatur Airport   \n",
       "\n",
       "   DESTIN_AIRPT_ID                              DESTINNAME seconds  meters  \n",
       "0             7162                      Larsen Bay Airport       0       0  \n",
       "1             7161                          Karluk Airport      \\N      \\N  \n",
       "2             3830    Chicago O'Hare International Airport      \\N      \\N  \n",
       "3             3678  St Louis Lambert International Airport   13361  386142  \n",
       "4             3830    Chicago O'Hare International Airport   11518  323800  "
      ]
     },
     "execution_count": 24,
     "metadata": {},
     "output_type": "execute_result"
    }
   ],
   "source": [
    "usRoutes = pd.read_csv('../data/usRoutes.csv')\n",
    "\n",
    "usRoutes.head(5)"
   ]
  },
  {
   "cell_type": "markdown",
   "metadata": {},
   "source": [
    "### 4. Performing EDA on usRoutes"
   ]
  },
  {
   "cell_type": "markdown",
   "metadata": {},
   "source": [
    "The purpose behind this first graph was to discover whether or not every airport had a route that had traffic going in and out.\n",
    "\n",
    "For most of the time, this was true.  There were a couple cases in South America and Africa that ended up causing the data to show up oddly."
   ]
  },
  {
   "cell_type": "code",
   "execution_count": 25,
   "metadata": {},
   "outputs": [
    {
     "data": {
      "text/html": [
       "<iframe\n",
       "    scrolling=\"no\"\n",
       "    width=\"100%\"\n",
       "    height=\"545px\"\n",
       "    src=\"iframe_figures/figure_25.html\"\n",
       "    frameborder=\"0\"\n",
       "    allowfullscreen\n",
       "></iframe>\n"
      ]
     },
     "metadata": {},
     "output_type": "display_data"
    }
   ],
   "source": [
    "airports = pd.read_csv('../data/openFlightsRaw/airports.csv')\n",
    "\n",
    "mapDat = usRoutes.merge(airports, how=\"left\", left_on='SRCNAME', right_on='NAME')\n",
    "mapDat = mapDat.rename(columns={'LAT': 'SRCLAT', 'LONG': 'SRCLONG'})\n",
    "\n",
    "mapDat = mapDat.merge(airports, how=\"left\", left_on='DESTINNAME', right_on='NAME')\n",
    "mapDat = mapDat.rename(columns={'LAT': 'DESTINLAT', 'LONG': 'DESTINLONG'})\n",
    "\n",
    "srcFig = go.Figure(data=go.Scattergeo(\n",
    "    name = \"Has Outgoing Traffic\",\n",
    "    lat = mapDat['SRCLAT'].tolist(),\n",
    "    lon = mapDat['SRCLONG'].tolist(), \n",
    "    mode = 'markers',\n",
    "    opacity=0.70,\n",
    "    marker = dict(\n",
    "        size = 5,\n",
    "        color = 'blue',\n",
    "        symbol = 'triangle-up',\n",
    "        standoff = 3\n",
    "    )\n",
    "))\n",
    "\n",
    "destinFig = go.Figure(data=go.Scattergeo(\n",
    "    name = \"Has Incoming Traffic\",\n",
    "    lat = mapDat['DESTINLAT'].tolist(),\n",
    "    lon = mapDat['DESTINLONG'].tolist(), \n",
    "    mode = 'markers',\n",
    "    opacity=0.70,\n",
    "    marker = dict(\n",
    "        size = 5,\n",
    "        color = 'red',\n",
    "        symbol = 'triangle-down'\n",
    "    )\n",
    "))\n",
    "\n",
    "fig = go.Figure(data=go.Scattergeo())\n",
    "fig.add_traces(srcFig._data)\n",
    "fig.add_traces(destinFig._data)\n",
    "\n",
    "fig.update_layout(\n",
    "    title_text='All US Airports have Incoming and Outgoing Traffic',\n",
    "    showlegend=True,\n",
    "    geo=dict(\n",
    "        scope = 'world',\n",
    "        showland = True,\n",
    "        landcolor = 'lightgray',\n",
    "    )\n",
    ")\n",
    "\n",
    "fig.show()"
   ]
  },
  {
   "cell_type": "markdown",
   "metadata": {},
   "source": [
    "Next the intention was to find the data shape of distance and time for routes."
   ]
  },
  {
   "cell_type": "code",
   "execution_count": 26,
   "metadata": {},
   "outputs": [
    {
     "data": {
      "text/html": [
       "<iframe\n",
       "    scrolling=\"no\"\n",
       "    width=\"100%\"\n",
       "    height=\"545px\"\n",
       "    src=\"iframe_figures/figure_26.html\"\n",
       "    frameborder=\"0\"\n",
       "    allowfullscreen\n",
       "></iframe>\n"
      ]
     },
     "metadata": {},
     "output_type": "display_data"
    },
    {
     "data": {
      "text/html": [
       "<iframe\n",
       "    scrolling=\"no\"\n",
       "    width=\"100%\"\n",
       "    height=\"545px\"\n",
       "    src=\"iframe_figures/figure_26.html\"\n",
       "    frameborder=\"0\"\n",
       "    allowfullscreen\n",
       "></iframe>\n"
      ]
     },
     "metadata": {},
     "output_type": "display_data"
    }
   ],
   "source": [
    "import plotly.express as px\n",
    "\n",
    "usRoutes = pd.read_csv('../data/usRoutes.csv')\n",
    "\n",
    "nullVal = r\"\\N\"\n",
    "usRoutes = usRoutes[usRoutes['meters'] != nullVal]\n",
    "\n",
    "usRoutes['meters'] = usRoutes['meters'].astype(int)\n",
    "usRoutes['seconds'] = usRoutes['seconds'].astype(int)\n",
    "\n",
    "usRoutes['hours'] = round(usRoutes['seconds']/3600, 0)\n",
    "\n",
    "usRoutes['countVal'] = 1\n",
    "usRoutesHours = usRoutes.groupby('hours')['countVal'].sum()\n",
    "usRoutesHours = pd.DataFrame(usRoutesHours)\n",
    "usRoutesHours = usRoutesHours.reset_index()\n",
    "\n",
    "fig = px.bar(usRoutesHours, x='hours', y='countVal',\n",
    "              labels = {\n",
    "                  'countVal': \"Count\",\n",
    "                  'hours': 'Time (hour)'\n",
    "              },\n",
    "              title = \"Majority of Routes are within 20 hours by car\")\n",
    "fig.show()\n",
    "\n",
    "usRoutes['km'] = round(usRoutes['meters']/1000, -2)\n",
    "usRoutesKM = usRoutes.groupby('km')['countVal'].sum()\n",
    "usRoutesKM = pd.DataFrame(usRoutesKM)\n",
    "usRoutesKM = usRoutesKM.reset_index()\n",
    "\n",
    "fig2 = px.bar(usRoutesKM, x = 'km', y = 'countVal',\n",
    "              labels = {\n",
    "                  'countVal': \"Count\",\n",
    "                  'km': 'Distance (km)'\n",
    "              },\n",
    "              title = \"Majority of Routes are within 2.5 Mm\")\n",
    "fig2.show()"
   ]
  },
  {
   "cell_type": "markdown",
   "metadata": {},
   "source": [
    "With the ability to remove values from the dataset based on them being considered unachievable by driving, not having a value for meters or seconds, the dataset can become smaller.\n",
    "\n",
    "Below is a visualization showing the routes that are unachieveable vs the achieveable routes.\n",
    "\n",
    "The visualizations use opacity, so the darker markers are airports that typically see more traffic.  They are pretty similar among both of the visualizations."
   ]
  },
  {
   "cell_type": "code",
   "execution_count": 27,
   "metadata": {},
   "outputs": [
    {
     "data": {
      "text/html": [
       "<iframe\n",
       "    scrolling=\"no\"\n",
       "    width=\"100%\"\n",
       "    height=\"545px\"\n",
       "    src=\"iframe_figures/figure_27.html\"\n",
       "    frameborder=\"0\"\n",
       "    allowfullscreen\n",
       "></iframe>\n"
      ]
     },
     "metadata": {},
     "output_type": "display_data"
    }
   ],
   "source": [
    "import plotly.graph_objects as go\n",
    "\n",
    "airports = pd.read_csv('../data/openFlightsRaw/airports.csv')\n",
    "usRoutes = pd.read_csv('../data/usRoutes.csv')\n",
    "\n",
    "mapDat = usRoutes.merge(airports, how=\"left\", left_on='SRCNAME', right_on='NAME')\n",
    "mapDat = mapDat.rename(columns={'LAT': 'SRCLAT', 'LONG': 'SRCLONG'})\n",
    "\n",
    "mapDat = mapDat.merge(airports, how=\"left\", left_on='DESTINNAME', right_on='NAME')\n",
    "mapDat = mapDat.rename(columns={'LAT': 'DESTINLAT', 'LONG': 'DESTINLONG'})\n",
    "\n",
    "nullVal = r\"\\N\"\n",
    "mapDat = mapDat[mapDat['meters'] == nullVal]\n",
    "\n",
    "fig = go.Figure()\n",
    "\n",
    "for index, row in mapDat.iterrows():\n",
    "\n",
    "    fig.add_trace(go.Scattergeo(\n",
    "        mode = \"markers+lines\",\n",
    "        lat = [row['SRCLAT'], row['DESTINLAT']],\n",
    "        lon = [row['SRCLONG'], row['DESTINLONG']],\n",
    "        opacity=0.01,\n",
    "        marker = dict(\n",
    "            size = 10,\n",
    "            color = 'black'\n",
    "    )\n",
    "        ))\n",
    "\n",
    "fig.update_layout(\n",
    "    title_text='All of the Unachieveable Routes by Car from Airport to Airport',\n",
    "    showlegend=False,\n",
    "    geo=dict(\n",
    "        scope = 'usa',\n",
    "        showland = True,\n",
    "        landcolor = 'lightgray',\n",
    "    )\n",
    ")\n",
    "\n",
    "fig.show()"
   ]
  },
  {
   "cell_type": "code",
   "execution_count": 28,
   "metadata": {},
   "outputs": [
    {
     "data": {
      "text/html": [
       "<iframe\n",
       "    scrolling=\"no\"\n",
       "    width=\"100%\"\n",
       "    height=\"545px\"\n",
       "    src=\"iframe_figures/figure_28.html\"\n",
       "    frameborder=\"0\"\n",
       "    allowfullscreen\n",
       "></iframe>\n"
      ]
     },
     "metadata": {},
     "output_type": "display_data"
    }
   ],
   "source": [
    "import plotly.graph_objects as go\n",
    "\n",
    "airports = pd.read_csv('../data/openFlightsRaw/airports.csv')\n",
    "usRoutes = pd.read_csv('../data/usRoutes.csv')\n",
    "\n",
    "mapDat = usRoutes.merge(airports, how=\"left\", left_on='SRCNAME', right_on='NAME')\n",
    "mapDat = mapDat.rename(columns={'LAT': 'SRCLAT', 'LONG': 'SRCLONG'})\n",
    "\n",
    "mapDat = mapDat.merge(airports, how=\"left\", left_on='DESTINNAME', right_on='NAME')\n",
    "mapDat = mapDat.rename(columns={'LAT': 'DESTINLAT', 'LONG': 'DESTINLONG'})\n",
    "\n",
    "nullVal = r\"\\N\"\n",
    "mapDat = mapDat[mapDat['meters'] != nullVal]\n",
    "\n",
    "fig = go.Figure()\n",
    "\n",
    "for index, row in mapDat.iterrows():\n",
    "\n",
    "    fig.add_trace(go.Scattergeo(\n",
    "        mode = \"markers+lines\",\n",
    "        lat = [row['SRCLAT'], row['DESTINLAT']],\n",
    "        lon = [row['SRCLONG'], row['DESTINLONG']],\n",
    "        opacity=0.01,\n",
    "        marker = dict(\n",
    "            size = 10,\n",
    "            color = 'black'\n",
    "    )\n",
    "        ))\n",
    "\n",
    "fig.update_layout(\n",
    "    title_text='All of the Achieveable Routes by Car from Airport to Airport',\n",
    "    showlegend=False,\n",
    "    geo=dict(\n",
    "        scope = 'usa',\n",
    "        showland = True,\n",
    "        landcolor = 'lightgray',\n",
    "    )\n",
    ")\n",
    "\n",
    "fig.show()"
   ]
  },
  {
   "cell_type": "markdown",
   "metadata": {},
   "source": [
    "To verify the airports are pretty similar amongst the pictures, we can see the top few airports that source most of the routes."
   ]
  },
  {
   "cell_type": "code",
   "execution_count": 29,
   "metadata": {},
   "outputs": [
    {
     "data": {
      "text/html": [
       "<iframe\n",
       "    scrolling=\"no\"\n",
       "    width=\"100%\"\n",
       "    height=\"545px\"\n",
       "    src=\"iframe_figures/figure_29.html\"\n",
       "    frameborder=\"0\"\n",
       "    allowfullscreen\n",
       "></iframe>\n"
      ]
     },
     "metadata": {},
     "output_type": "display_data"
    }
   ],
   "source": [
    "usRoutes = pd.read_csv('../data/usRoutes.csv')\n",
    "\n",
    "nullVal = r\"\\N\"\n",
    "usRoutes = usRoutes[usRoutes['meters'] == nullVal]\n",
    "\n",
    "usRoutes['countVal'] = 1\n",
    "usRoutesAirlines = usRoutes.groupby('SRCNAME')['countVal'].sum()\n",
    "usRoutesAirlines = pd.DataFrame(usRoutesAirlines)\n",
    "usRoutesAirlines = usRoutesAirlines.reset_index()\n",
    "\n",
    "usRoutesAirlines = usRoutesAirlines[usRoutesAirlines['countVal'] >= 50]\n",
    "fig = px.bar(usRoutesAirlines, x='SRCNAME', y='countVal',\n",
    "              labels = {\n",
    "                  'countVal': \"Count\",\n",
    "                  'SRCNAME': 'Airports'\n",
    "              },\n",
    "              title = \"Airports that Source 50 or more Routes\")\n",
    "fig.show()"
   ]
  },
  {
   "cell_type": "markdown",
   "metadata": {},
   "source": [
    "Picking one of the airports from above, O'Hare, we can focus a visualization on just routes that have destinations to Chicago.\n",
    "\n",
    "This can help identify potential alternative routes that could be taken to O'Hare."
   ]
  },
  {
   "cell_type": "code",
   "execution_count": 30,
   "metadata": {},
   "outputs": [
    {
     "data": {
      "text/html": [
       "<iframe\n",
       "    scrolling=\"no\"\n",
       "    width=\"100%\"\n",
       "    height=\"545px\"\n",
       "    src=\"iframe_figures/figure_30.html\"\n",
       "    frameborder=\"0\"\n",
       "    allowfullscreen\n",
       "></iframe>\n"
      ]
     },
     "metadata": {},
     "output_type": "display_data"
    }
   ],
   "source": [
    "import plotly.graph_objects as go\n",
    "\n",
    "airports = pd.read_csv('../data/openFlightsRaw/airports.csv')\n",
    "usRoutes = pd.read_csv('../data/usRoutes.csv')\n",
    "\n",
    "mapDat = usRoutes.merge(airports, how=\"left\", left_on='SRCNAME', right_on='NAME')\n",
    "mapDat = mapDat.rename(columns={'LAT': 'SRCLAT', 'LONG': 'SRCLONG'})\n",
    "\n",
    "mapDat = mapDat.merge(airports, how=\"left\", left_on='DESTINNAME', right_on='NAME')\n",
    "mapDat = mapDat.rename(columns={'LAT': 'DESTINLAT', 'LONG': 'DESTINLONG'})\n",
    "\n",
    "nullVal = r\"\\N\"\n",
    "mapDat = mapDat[mapDat['meters'] != nullVal]\n",
    "mapDat = mapDat[(mapDat['meters']).astype(int) < 1000000]\n",
    "mapDat = mapDat[mapDat['SRCNAME'] == 'Chicago O\\'Hare International Airport']\n",
    "\n",
    "fig = go.Figure()\n",
    "\n",
    "for index, row in mapDat.iterrows():\n",
    "\n",
    "    fig.add_trace(go.Scattergeo(\n",
    "        mode = \"markers+lines\",\n",
    "        lat = [row['SRCLAT'], row['DESTINLAT']],\n",
    "        lon = [row['SRCLONG'], row['DESTINLONG']],\n",
    "        opacity=0.5,\n",
    "        marker = dict(\n",
    "            size = 10,\n",
    "            color = 'blue'\n",
    "    )\n",
    "        ))\n",
    "\n",
    "fig.update_layout(\n",
    "    title_text='Possible destinations to Chicago O\\'Hare International Airport',\n",
    "    showlegend=False,\n",
    "    geo=dict(\n",
    "        scope = 'usa',\n",
    "        showland = True,\n",
    "        landcolor = 'lightgray',\n",
    "    )\n",
    ")\n",
    "\n",
    "fig.show()"
   ]
  },
  {
   "cell_type": "markdown",
   "metadata": {},
   "source": [
    "### 5. KMeans Clustering"
   ]
  },
  {
   "cell_type": "markdown",
   "metadata": {},
   "source": [
    "After doing some research on reinforcement learning, it seemed like it would be an awesome way to solve our problem. The problem shortly became trying to figure out how to figure this out within a semester. \n",
    "\n",
    "After further research and a better understanding of a couple of the algorithms from class I wanted to focus on clustering, to see if I can natural create a group of airports that could work as alternative routes."
   ]
  },
  {
   "cell_type": "code",
   "execution_count": 31,
   "metadata": {},
   "outputs": [],
   "source": [
    "from sklearn.cluster import KMeans\n",
    "\n",
    "airports_csv = pd.read_csv('../data/openFlightsRaw/airports.csv')\n",
    "\n",
    "# Creating a dataset that just has latitude and longitudes, to use as data to feed kMeans\n",
    "airportsData = airports_csv\n",
    "airportsData = airportsData[airportsData['CTRY'] == 'United States']\n",
    "\n",
    "airportsCoords = airportsData[['LAT', 'LONG']]\n",
    "airportsCoords = airportsCoords.to_numpy()"
   ]
  },
  {
   "cell_type": "markdown",
   "metadata": {},
   "source": [
    "With a dataset of points to cluster, I need to use the Elbow method to figure out what inertia value may provide an optimal amount of clusters.\n",
    "\n",
    "It is important to note that this is being done with only airports in the United States, which was decided to be done from the previous EDA work. The importance of only focusing on the United States, allows the clusters to not have to worry about datapoints across borders or in the ocean."
   ]
  },
  {
   "cell_type": "code",
   "execution_count": 32,
   "metadata": {},
   "outputs": [],
   "source": [
    "inertiaList = []\n",
    "kList = range(1, 50)\n",
    "\n",
    "for k in kList:\n",
    "    kMeans = KMeans(n_clusters = k, random_state = 0, n_init = 10).fit(airportsCoords)\n",
    "    inertiaList.append(kMeans.inertia_)"
   ]
  },
  {
   "cell_type": "markdown",
   "metadata": {},
   "source": [
    "With 50 different points, below is the Elbow method from that latitude and longitude data."
   ]
  },
  {
   "cell_type": "code",
   "execution_count": 33,
   "metadata": {},
   "outputs": [
    {
     "data": {
      "text/html": [
       "<iframe\n",
       "    scrolling=\"no\"\n",
       "    width=\"100%\"\n",
       "    height=\"545px\"\n",
       "    src=\"iframe_figures/figure_33.html\"\n",
       "    frameborder=\"0\"\n",
       "    allowfullscreen\n",
       "></iframe>\n"
      ]
     },
     "metadata": {},
     "output_type": "display_data"
    }
   ],
   "source": [
    "inertiaDF = pd.DataFrame(inertiaList, columns=['Inertias'])\n",
    "fig = px.scatter(inertiaDF, y=\"Inertias\")\n",
    "fig.show()"
   ]
  },
  {
   "cell_type": "markdown",
   "metadata": {},
   "source": [
    "One thing I noticed was how large the initial inertias were compared to, the rest of the points.\n",
    "\n",
    "I decided to use a trick from data visualization, where I squared every point to ideally create a more defined curve."
   ]
  },
  {
   "cell_type": "code",
   "execution_count": 34,
   "metadata": {},
   "outputs": [
    {
     "data": {
      "text/html": [
       "<iframe\n",
       "    scrolling=\"no\"\n",
       "    width=\"100%\"\n",
       "    height=\"545px\"\n",
       "    src=\"iframe_figures/figure_34.html\"\n",
       "    frameborder=\"0\"\n",
       "    allowfullscreen\n",
       "></iframe>\n"
      ]
     },
     "metadata": {},
     "output_type": "display_data"
    }
   ],
   "source": [
    "inertiaDF['InertiasSquared'] = np.sqrt(inertiaDF['Inertias'])\n",
    "fig = px.scatter(inertiaDF, y=\"InertiasSquared\")\n",
    "fig.show()"
   ]
  },
  {
   "cell_type": "markdown",
   "metadata": {},
   "source": [
    "This resulted in a more ideal curve, following my understanding of the Elbow Method, I chose value 8 for the inertia, since it seemed like the bottom of the curve."
   ]
  },
  {
   "cell_type": "code",
   "execution_count": 35,
   "metadata": {},
   "outputs": [
    {
     "name": "stderr",
     "output_type": "stream",
     "text": [
      "C:\\Users\\thoma\\AppData\\Local\\Temp\\ipykernel_24796\\1555511578.py:1: SettingWithCopyWarning:\n",
      "\n",
      "\n",
      "A value is trying to be set on a copy of a slice from a DataFrame.\n",
      "Try using .loc[row_indexer,col_indexer] = value instead\n",
      "\n",
      "See the caveats in the documentation: https://pandas.pydata.org/pandas-docs/stable/user_guide/indexing.html#returning-a-view-versus-a-copy\n",
      "\n",
      "C:\\Users\\thoma\\AppData\\Local\\Temp\\ipykernel_24796\\1555511578.py:4: SettingWithCopyWarning:\n",
      "\n",
      "\n",
      "A value is trying to be set on a copy of a slice from a DataFrame.\n",
      "Try using .loc[row_indexer,col_indexer] = value instead\n",
      "\n",
      "See the caveats in the documentation: https://pandas.pydata.org/pandas-docs/stable/user_guide/indexing.html#returning-a-view-versus-a-copy\n",
      "\n"
     ]
    }
   ],
   "source": [
    "airportsData['cluster'] = KMeans(n_clusters = 8, random_state = 0, n_init = 10).fit_predict(airportsCoords)\n",
    "\n",
    "#Mapping colors to the clusters\n",
    "airportsData['clusterColor'] = airportsData['cluster'].map(pd.Series(px.colors.qualitative.Dark24))"
   ]
  },
  {
   "cell_type": "markdown",
   "metadata": {},
   "source": [
    "The graph below, definately had regions of the United States clustered, but it wasn't what I expected for figuring out an alternative route.\n",
    "\n",
    "My understanding of the inertias, they can be used to figure out the distance of the cluster from the centroid point. So I wanted to go with a higher inertia"
   ]
  },
  {
   "cell_type": "code",
   "execution_count": 36,
   "metadata": {},
   "outputs": [
    {
     "data": {
      "text/html": [
       "<iframe\n",
       "    scrolling=\"no\"\n",
       "    width=\"100%\"\n",
       "    height=\"545px\"\n",
       "    src=\"iframe_figures/figure_36.html\"\n",
       "    frameborder=\"0\"\n",
       "    allowfullscreen\n",
       "></iframe>\n"
      ]
     },
     "metadata": {},
     "output_type": "display_data"
    }
   ],
   "source": [
    "import plotly.graph_objects as go\n",
    "\n",
    "fig = go.Figure()\n",
    "\n",
    "fig.add_trace(go.Scattergeo(\n",
    "    lat = airportsData['LAT'].tolist(),\n",
    "    lon = airportsData['LONG'].tolist(), \n",
    "    mode = 'markers',\n",
    "    marker = dict(\n",
    "        size = 3,\n",
    "        color = airportsData['clusterColor'].tolist(),\n",
    "    ),\n",
    "))\n",
    "\n",
    "fig.update_layout(\n",
    "    title_text='Clusters with Inertia 8 from KMeans',\n",
    "    showlegend=True,\n",
    "    geo=dict(\n",
    "        scope = 'usa',\n",
    "        showland = True,\n",
    "        landcolor = 'lightgray',\n",
    "    )\n",
    ")\n",
    "\n",
    "fig.show()"
   ]
  },
  {
   "cell_type": "code",
   "execution_count": 37,
   "metadata": {},
   "outputs": [
    {
     "name": "stderr",
     "output_type": "stream",
     "text": [
      "C:\\Users\\thoma\\AppData\\Local\\Temp\\ipykernel_24796\\1974205059.py:1: SettingWithCopyWarning:\n",
      "\n",
      "\n",
      "A value is trying to be set on a copy of a slice from a DataFrame.\n",
      "Try using .loc[row_indexer,col_indexer] = value instead\n",
      "\n",
      "See the caveats in the documentation: https://pandas.pydata.org/pandas-docs/stable/user_guide/indexing.html#returning-a-view-versus-a-copy\n",
      "\n",
      "C:\\Users\\thoma\\AppData\\Local\\Temp\\ipykernel_24796\\1974205059.py:3: SettingWithCopyWarning:\n",
      "\n",
      "\n",
      "A value is trying to be set on a copy of a slice from a DataFrame.\n",
      "Try using .loc[row_indexer,col_indexer] = value instead\n",
      "\n",
      "See the caveats in the documentation: https://pandas.pydata.org/pandas-docs/stable/user_guide/indexing.html#returning-a-view-versus-a-copy\n",
      "\n"
     ]
    }
   ],
   "source": [
    "airportsData['cluster'] = KMeans(n_clusters = 22, random_state = 0, n_init = 10).fit_predict(airportsCoords)\n",
    "\n",
    "airportsData['clusterColor'] = airportsData['cluster'].map(pd.Series(px.colors.qualitative.Dark24))"
   ]
  },
  {
   "cell_type": "markdown",
   "metadata": {},
   "source": [
    "22 was picked for the inertia, since it was a point where the inertia squared value didn't seem to change by a degree of 5 or more anymore.\n",
    "\n",
    "The results were more satisfying, but Alaska having 4 different clusters that seemed to be split evenly down the middle made me doubt the results."
   ]
  },
  {
   "cell_type": "code",
   "execution_count": 38,
   "metadata": {},
   "outputs": [
    {
     "data": {
      "text/html": [
       "<iframe\n",
       "    scrolling=\"no\"\n",
       "    width=\"100%\"\n",
       "    height=\"545px\"\n",
       "    src=\"iframe_figures/figure_38.html\"\n",
       "    frameborder=\"0\"\n",
       "    allowfullscreen\n",
       "></iframe>\n"
      ]
     },
     "metadata": {},
     "output_type": "display_data"
    }
   ],
   "source": [
    "import plotly.graph_objects as go\n",
    "\n",
    "fig = go.Figure()\n",
    "\n",
    "fig.add_trace(go.Scattergeo(\n",
    "    name = 'string',\n",
    "    lat = airportsData['LAT'].tolist(),\n",
    "    lon = airportsData['LONG'].tolist(), \n",
    "    mode = 'markers',\n",
    "    marker = dict(\n",
    "        size = 3,\n",
    "        color = airportsData['clusterColor'].tolist(),\n",
    "    ),\n",
    "))\n",
    "\n",
    "fig.update_layout(\n",
    "    title_text='Clusters with Inertia 8 from KMeans',\n",
    "    showlegend=True,\n",
    "    geo=dict(\n",
    "        scope = 'usa',\n",
    "        showland = True,\n",
    "        landcolor = 'lightgray',\n",
    "    )\n",
    ")\n",
    "\n",
    "fig.show()"
   ]
  },
  {
   "cell_type": "markdown",
   "metadata": {},
   "source": [
    "### 6. Density Clustering"
   ]
  },
  {
   "cell_type": "markdown",
   "metadata": {},
   "source": [
    "Through some more research, it seems like Density clustering would solve my Alaska problem. Additionally I think it would help shape better clusters around a populated area, since there generally tends to be more airports in dense populations. \n",
    "\n",
    "One of the last things majority of the population wants to do is drive for over an hour after a long flight."
   ]
  },
  {
   "cell_type": "markdown",
   "metadata": {},
   "source": [
    "Similarly with KMeans, I wanted to figure out what was the best value to use for epsilon in the DBSCAN algorithm.\n",
    "\n",
    "With some research, I couldn't find much in the way of an elbow method, but I did find an article stating do divide x amount of kilometers by 6371 when dealing with data across the globe\n",
    "\n",
    "Source: https://geoffboeing.com/2014/08/clustering-to-reduce-spatial-data-set-size/\n",
    "\n",
    "That source also recommended converting coordinates to radians, and using the haversine metric.  It also used the ball-tree algorithm, but when I was testing different results with that it didn't seem to change my results."
   ]
  },
  {
   "cell_type": "code",
   "execution_count": 39,
   "metadata": {},
   "outputs": [
    {
     "name": "stdout",
     "output_type": "stream",
     "text": [
      "[-1]\n"
     ]
    }
   ],
   "source": [
    "from sklearn.cluster import DBSCAN\n",
    "\n",
    "dbscan = DBSCAN(eps = 1/6371, min_samples = 10, metric = 'haversine').fit((np.radians(airportsCoords)))\n",
    "print(np.unique(dbscan.labels_))"
   ]
  },
  {
   "cell_type": "markdown",
   "metadata": {},
   "source": [
    "Looking at the unique clusters created from using 1 km divided by 6371, it was pretty lackluster.\n",
    "\n",
    "There was one cluster, and the value was -1, which was DBSCAN's way of saying every value is an outlier.\n",
    "\n",
    "This meant, that my value was too small or too big, so I decided to try something similar to the elbow method. The following computes the amount of clusters every value would have between .005 and 1"
   ]
  },
  {
   "cell_type": "code",
   "execution_count": 40,
   "metadata": {},
   "outputs": [],
   "source": [
    "itemList = []\n",
    "epsilonList = np.arange(0.005, 1, 0.005)\n",
    "\n",
    "for e in epsilonList:\n",
    "    dbscan = DBSCAN(eps = e, min_samples = 10, metric = 'haversine').fit((np.radians(airportsCoords)))\n",
    "    itemList.append(len(np.unique(dbscan.labels_)))"
   ]
  },
  {
   "cell_type": "markdown",
   "metadata": {},
   "source": [
    "Most of the clusters made it seem like I have now overfitted the model. There was some significant data before using an epsilon of .055.\n",
    "\n",
    "Additionally, 1/6371 ends up being 0.00015, so I would want to try a size smaller than that since .055 was on the larger side.\n",
    "\n"
   ]
  },
  {
   "cell_type": "code",
   "execution_count": 41,
   "metadata": {},
   "outputs": [
    {
     "data": {
      "text/html": [
       "<iframe\n",
       "    scrolling=\"no\"\n",
       "    width=\"100%\"\n",
       "    height=\"545px\"\n",
       "    src=\"iframe_figures/figure_41.html\"\n",
       "    frameborder=\"0\"\n",
       "    allowfullscreen\n",
       "></iframe>\n"
      ]
     },
     "metadata": {},
     "output_type": "display_data"
    }
   ],
   "source": [
    "itemDF = pd.DataFrame({'Epislon': epsilonList, 'Clusters': itemList})\n",
    "fig = px.scatter(itemDF, y = 'Clusters', x = 'Epislon')\n",
    "fig.show()"
   ]
  },
  {
   "cell_type": "code",
   "execution_count": 42,
   "metadata": {},
   "outputs": [],
   "source": [
    "itemList = []\n",
    "epsilonList = np.arange(0.00001, 0.055, 0.00001)\n",
    "\n",
    "for e in epsilonList:\n",
    "    dbscan = DBSCAN(eps = e, min_samples = 10, metric = 'haversine').fit((np.radians(airportsCoords)))\n",
    "    itemList.append(len(np.unique(dbscan.labels_)))"
   ]
  },
  {
   "cell_type": "markdown",
   "metadata": {},
   "source": [
    "Using values between 0.00001 and 0.055, achieved much better results, where I decided to pick an epsilon of 0.01569, which generates 24 clusters."
   ]
  },
  {
   "cell_type": "code",
   "execution_count": 43,
   "metadata": {},
   "outputs": [
    {
     "data": {
      "text/html": [
       "<iframe\n",
       "    scrolling=\"no\"\n",
       "    width=\"100%\"\n",
       "    height=\"545px\"\n",
       "    src=\"iframe_figures/figure_43.html\"\n",
       "    frameborder=\"0\"\n",
       "    allowfullscreen\n",
       "></iframe>\n"
      ]
     },
     "metadata": {},
     "output_type": "display_data"
    }
   ],
   "source": [
    "itemDF = pd.DataFrame({'Epislon': epsilonList, 'Clusters': itemList})\n",
    "fig = px.scatter(itemDF, y = 'Clusters', x = 'Epislon')\n",
    "fig.show()"
   ]
  },
  {
   "cell_type": "code",
   "execution_count": 44,
   "metadata": {},
   "outputs": [
    {
     "name": "stderr",
     "output_type": "stream",
     "text": [
      "C:\\Users\\thoma\\AppData\\Local\\Temp\\ipykernel_24796\\3829614065.py:1: SettingWithCopyWarning:\n",
      "\n",
      "\n",
      "A value is trying to be set on a copy of a slice from a DataFrame.\n",
      "Try using .loc[row_indexer,col_indexer] = value instead\n",
      "\n",
      "See the caveats in the documentation: https://pandas.pydata.org/pandas-docs/stable/user_guide/indexing.html#returning-a-view-versus-a-copy\n",
      "\n",
      "C:\\Users\\thoma\\AppData\\Local\\Temp\\ipykernel_24796\\3829614065.py:4: SettingWithCopyWarning:\n",
      "\n",
      "\n",
      "A value is trying to be set on a copy of a slice from a DataFrame.\n",
      "Try using .loc[row_indexer,col_indexer] = value instead\n",
      "\n",
      "See the caveats in the documentation: https://pandas.pydata.org/pandas-docs/stable/user_guide/indexing.html#returning-a-view-versus-a-copy\n",
      "\n",
      "C:\\Users\\thoma\\AppData\\Local\\Temp\\ipykernel_24796\\3829614065.py:5: SettingWithCopyWarning:\n",
      "\n",
      "\n",
      "A value is trying to be set on a copy of a slice from a DataFrame.\n",
      "Try using .loc[row_indexer,col_indexer] = value instead\n",
      "\n",
      "See the caveats in the documentation: https://pandas.pydata.org/pandas-docs/stable/user_guide/indexing.html#returning-a-view-versus-a-copy\n",
      "\n"
     ]
    }
   ],
   "source": [
    "airportsData['densityCluster'] = DBSCAN(eps = 0.01569, min_samples = 10, metric = 'haversine').fit_predict((np.radians(airportsCoords)))\n",
    "\n",
    "#Keep in mind -1 represents noise, and doesn't end up getting clustered, so transforming them into 0\n",
    "airportsData['densityCluster'] = airportsData['densityCluster'] + 1\n",
    "airportsData['densityClusterColor'] = airportsData['densityCluster'].map(pd.Series(px.colors.qualitative.Dark24))"
   ]
  },
  {
   "cell_type": "markdown",
   "metadata": {},
   "source": [
    "My Alaska issue was kind of fixed, which might be because 0.01569 is too strict of an epsilon. The resulting graph does show that the more densely populated areas had clusters that pertained their areas.\n",
    "\n",
    "A good example is California, the Bay Area and Southern California areas were clustered separately."
   ]
  },
  {
   "cell_type": "code",
   "execution_count": 45,
   "metadata": {},
   "outputs": [
    {
     "data": {
      "text/html": [
       "<iframe\n",
       "    scrolling=\"no\"\n",
       "    width=\"100%\"\n",
       "    height=\"545px\"\n",
       "    src=\"iframe_figures/figure_45.html\"\n",
       "    frameborder=\"0\"\n",
       "    allowfullscreen\n",
       "></iframe>\n"
      ]
     },
     "metadata": {},
     "output_type": "display_data"
    }
   ],
   "source": [
    "fig = go.Figure()\n",
    "\n",
    "fig.add_trace(go.Scattergeo(\n",
    "    name = 'string',\n",
    "    lat = airportsData['LAT'].tolist(),\n",
    "    lon = airportsData['LONG'].tolist(), \n",
    "    mode = 'markers',\n",
    "    opacity=0.70,\n",
    "    marker = dict(\n",
    "        size = 3,\n",
    "        color = airportsData['densityClusterColor'].tolist()\n",
    "    )\n",
    "))\n",
    "\n",
    "fig.update_layout(\n",
    "    title_text='Clusters with DBSCAN with Outliers',\n",
    "    showlegend=True,\n",
    "    geo=dict(\n",
    "        scope = 'usa',\n",
    "        showland = True,\n",
    "        landcolor = 'lightgray',\n",
    "    )\n",
    ")\n",
    "\n",
    "fig.show()"
   ]
  },
  {
   "cell_type": "markdown",
   "metadata": {},
   "source": [
    "The following graph just shows a cleaner picture of the DBSCAN results without outliers."
   ]
  },
  {
   "cell_type": "code",
   "execution_count": 46,
   "metadata": {},
   "outputs": [
    {
     "data": {
      "text/html": [
       "<iframe\n",
       "    scrolling=\"no\"\n",
       "    width=\"100%\"\n",
       "    height=\"545px\"\n",
       "    src=\"iframe_figures/figure_46.html\"\n",
       "    frameborder=\"0\"\n",
       "    allowfullscreen\n",
       "></iframe>\n"
      ]
     },
     "metadata": {},
     "output_type": "display_data"
    }
   ],
   "source": [
    "airportsDataDBScan = airportsData\n",
    "\n",
    "airportsDataDBScan = airportsDataDBScan[airportsDataDBScan['densityCluster'] != 0]\n",
    "\n",
    "fig = go.Figure()\n",
    "\n",
    "fig.add_trace(go.Scattergeo(\n",
    "    name = 'string',\n",
    "    lat = airportsDataDBScan['LAT'].tolist(),\n",
    "    lon = airportsDataDBScan['LONG'].tolist(), \n",
    "    mode = 'markers',\n",
    "    opacity=0.70,\n",
    "    marker = dict(\n",
    "        size = 3,\n",
    "        color = airportsDataDBScan['densityClusterColor'].tolist()\n",
    "    )\n",
    "))\n",
    "\n",
    "fig.update_layout(\n",
    "    title_text='Clusters with DBSCAN without Outliers',\n",
    "    showlegend=True,\n",
    "    geo=dict(\n",
    "        scope = 'usa',\n",
    "        showland = True,\n",
    "        landcolor = 'lightgray',\n",
    "    )\n",
    ")\n",
    "\n",
    "fig.show()"
   ]
  },
  {
   "cell_type": "markdown",
   "metadata": {},
   "source": [
    "### 7. Comparing KMeans and DBSCAN"
   ]
  },
  {
   "cell_type": "markdown",
   "metadata": {},
   "source": [
    "The DBSCAN method ended up creating what I was looking for more, but it immensely reduced the data that we would be using. While the California example shows that density clustering worked really well, the northern east coast had a different story. KMeans did not work with that area either, which drives me to a different conclusion.\n",
    "\n",
    "The results from the first kmean cluster can be used to create regions, then each region cluster can use DBSCAN to figure out an epsilon that works well for that specific region. Additionally, I am working on finding some population data that could act as an additional factor for clustering rather than just using latitude and longitudes.\n",
    "\n",
    "\n",
    "As far as results go, I decided to focus on the Washington cluster, which was cluster 6. Most of the destinations to the Washington airport go to the Seattle-Tacoma International Airport, which is ID 3577. So I removed all of those rows, and noticed that Bellingham International Airport was the only other airport in that cluster with destinations from the routes data. One of the sources that goes to Bellingham was Seattle-Tacoma. Which means I can say that there is a possible route incase the direct route to Seattle Tacoma isn't available."
   ]
  },
  {
   "cell_type": "code",
   "execution_count": 47,
   "metadata": {},
   "outputs": [
    {
     "data": {
      "text/html": [
       "<div>\n",
       "<style scoped>\n",
       "    .dataframe tbody tr th:only-of-type {\n",
       "        vertical-align: middle;\n",
       "    }\n",
       "\n",
       "    .dataframe tbody tr th {\n",
       "        vertical-align: top;\n",
       "    }\n",
       "\n",
       "    .dataframe thead th {\n",
       "        text-align: right;\n",
       "    }\n",
       "</style>\n",
       "<table border=\"1\" class=\"dataframe\">\n",
       "  <thead>\n",
       "    <tr style=\"text-align: right;\">\n",
       "      <th></th>\n",
       "      <th>Unnamed: 0</th>\n",
       "      <th>og_index</th>\n",
       "      <th>SRC_AIRPT_ID</th>\n",
       "      <th>SRCNAME</th>\n",
       "      <th>DESTIN_AIRPT_ID</th>\n",
       "      <th>DESTINNAME</th>\n",
       "      <th>seconds</th>\n",
       "      <th>meters</th>\n",
       "    </tr>\n",
       "  </thead>\n",
       "  <tbody>\n",
       "    <tr>\n",
       "      <th>2986</th>\n",
       "      <td>2986</td>\n",
       "      <td>11358</td>\n",
       "      <td>3728</td>\n",
       "      <td>Daniel K Inouye International Airport</td>\n",
       "      <td>3777</td>\n",
       "      <td>Bellingham International Airport</td>\n",
       "      <td>69184</td>\n",
       "      <td>2174892</td>\n",
       "    </tr>\n",
       "    <tr>\n",
       "      <th>3238</th>\n",
       "      <td>3238</td>\n",
       "      <td>11616</td>\n",
       "      <td>3577</td>\n",
       "      <td>Seattle Tacoma International Airport</td>\n",
       "      <td>3777</td>\n",
       "      <td>Bellingham International Airport</td>\n",
       "      <td>110692</td>\n",
       "      <td>3457980</td>\n",
       "    </tr>\n",
       "    <tr>\n",
       "      <th>6643</th>\n",
       "      <td>6643</td>\n",
       "      <td>28478</td>\n",
       "      <td>6505</td>\n",
       "      <td>Phoenix-Mesa-Gateway Airport</td>\n",
       "      <td>3777</td>\n",
       "      <td>Bellingham International Airport</td>\n",
       "      <td>63057</td>\n",
       "      <td>1949107</td>\n",
       "    </tr>\n",
       "    <tr>\n",
       "      <th>6773</th>\n",
       "      <td>6773</td>\n",
       "      <td>28608</td>\n",
       "      <td>3877</td>\n",
       "      <td>McCarran International Airport</td>\n",
       "      <td>3777</td>\n",
       "      <td>Bellingham International Airport</td>\n",
       "      <td>73630</td>\n",
       "      <td>2302614</td>\n",
       "    </tr>\n",
       "    <tr>\n",
       "      <th>6812</th>\n",
       "      <td>6812</td>\n",
       "      <td>28647</td>\n",
       "      <td>3484</td>\n",
       "      <td>Los Angeles International Airport</td>\n",
       "      <td>3777</td>\n",
       "      <td>Bellingham International Airport</td>\n",
       "      <td>66234</td>\n",
       "      <td>2023907</td>\n",
       "    </tr>\n",
       "    <tr>\n",
       "      <th>6844</th>\n",
       "      <td>6844</td>\n",
       "      <td>28679</td>\n",
       "      <td>3453</td>\n",
       "      <td>Metropolitan Oakland International Airport</td>\n",
       "      <td>3777</td>\n",
       "      <td>Bellingham International Airport</td>\n",
       "      <td>79387</td>\n",
       "      <td>2491829</td>\n",
       "    </tr>\n",
       "    <tr>\n",
       "      <th>6925</th>\n",
       "      <td>6925</td>\n",
       "      <td>28760</td>\n",
       "      <td>3731</td>\n",
       "      <td>San Diego International Airport</td>\n",
       "      <td>3777</td>\n",
       "      <td>Bellingham International Airport</td>\n",
       "      <td>51742</td>\n",
       "      <td>1625762</td>\n",
       "    </tr>\n",
       "  </tbody>\n",
       "</table>\n",
       "</div>"
      ],
      "text/plain": [
       "      Unnamed: 0  og_index  SRC_AIRPT_ID  \\\n",
       "2986        2986     11358          3728   \n",
       "3238        3238     11616          3577   \n",
       "6643        6643     28478          6505   \n",
       "6773        6773     28608          3877   \n",
       "6812        6812     28647          3484   \n",
       "6844        6844     28679          3453   \n",
       "6925        6925     28760          3731   \n",
       "\n",
       "                                         SRCNAME  DESTIN_AIRPT_ID  \\\n",
       "2986       Daniel K Inouye International Airport             3777   \n",
       "3238        Seattle Tacoma International Airport             3777   \n",
       "6643                Phoenix-Mesa-Gateway Airport             3777   \n",
       "6773              McCarran International Airport             3777   \n",
       "6812           Los Angeles International Airport             3777   \n",
       "6844  Metropolitan Oakland International Airport             3777   \n",
       "6925             San Diego International Airport             3777   \n",
       "\n",
       "                            DESTINNAME seconds   meters  \n",
       "2986  Bellingham International Airport   69184  2174892  \n",
       "3238  Bellingham International Airport  110692  3457980  \n",
       "6643  Bellingham International Airport   63057  1949107  \n",
       "6773  Bellingham International Airport   73630  2302614  \n",
       "6812  Bellingham International Airport   66234  2023907  \n",
       "6844  Bellingham International Airport   79387  2491829  \n",
       "6925  Bellingham International Airport   51742  1625762  "
      ]
     },
     "execution_count": 47,
     "metadata": {},
     "output_type": "execute_result"
    }
   ],
   "source": [
    "washingtonCluster = usRoutes[usRoutes['DESTIN_AIRPT_ID'].isin(list(airportsDataDBScan[airportsDataDBScan['densityCluster'] == 6]['AIRPT_ID']))]\n",
    "\n",
    "nullVal = r\"\\N\"\n",
    "washingtonCluster = washingtonCluster[washingtonCluster['seconds'] != nullVal]\n",
    "\n",
    "washingtonCluster[washingtonCluster['DESTIN_AIRPT_ID'] != 3577]"
   ]
  }
 ],
 "metadata": {
  "kernelspec": {
   "display_name": ".venv",
   "language": "python",
   "name": "python3"
  },
  "language_info": {
   "codemirror_mode": {
    "name": "ipython",
    "version": 3
   },
   "file_extension": ".py",
   "mimetype": "text/x-python",
   "name": "python",
   "nbconvert_exporter": "python",
   "pygments_lexer": "ipython3",
   "version": "3.11.9"
  }
 },
 "nbformat": 4,
 "nbformat_minor": 2
}

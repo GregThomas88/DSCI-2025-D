{
 "cells": [
  {
   "cell_type": "code",
   "execution_count": 2,
   "metadata": {},
   "outputs": [],
   "source": [
    "import pandas as pd"
   ]
  },
  {
   "cell_type": "code",
   "execution_count": 3,
   "metadata": {},
   "outputs": [],
   "source": [
    "airports_csv = pd.read_csv('../data/openFlightsRaw/airports.csv')\n",
    "usRoutes_csv = pd.read_csv('../data/usRoutesClean.csv')\n",
    "flightSamples_csv = pd.read_csv('../data/kaggleRaw/flightSamples.csv')"
   ]
  },
  {
   "cell_type": "code",
   "execution_count": 4,
   "metadata": {},
   "outputs": [
    {
     "data": {
      "text/html": [
       "<div>\n",
       "<style scoped>\n",
       "    .dataframe tbody tr th:only-of-type {\n",
       "        vertical-align: middle;\n",
       "    }\n",
       "\n",
       "    .dataframe tbody tr th {\n",
       "        vertical-align: top;\n",
       "    }\n",
       "\n",
       "    .dataframe thead th {\n",
       "        text-align: right;\n",
       "    }\n",
       "</style>\n",
       "<table border=\"1\" class=\"dataframe\">\n",
       "  <thead>\n",
       "    <tr style=\"text-align: right;\">\n",
       "      <th></th>\n",
       "      <th>Origin_airport</th>\n",
       "      <th>Destination_airport</th>\n",
       "      <th>Origin_city</th>\n",
       "      <th>Destination_city</th>\n",
       "      <th>Passengers</th>\n",
       "      <th>Seats</th>\n",
       "      <th>Flights</th>\n",
       "      <th>Distance</th>\n",
       "      <th>Fly_date</th>\n",
       "      <th>Origin_population</th>\n",
       "      <th>Destination_population</th>\n",
       "      <th>Org_airport_lat</th>\n",
       "      <th>Org_airport_long</th>\n",
       "      <th>Dest_airport_lat</th>\n",
       "      <th>Dest_airport_long</th>\n",
       "    </tr>\n",
       "  </thead>\n",
       "  <tbody>\n",
       "    <tr>\n",
       "      <th>564739</th>\n",
       "      <td>SYR</td>\n",
       "      <td>ATL</td>\n",
       "      <td>Syracuse, NY</td>\n",
       "      <td>Atlanta, GA</td>\n",
       "      <td>5489</td>\n",
       "      <td>8804</td>\n",
       "      <td>62</td>\n",
       "      <td>793</td>\n",
       "      <td>1990-08-01</td>\n",
       "      <td>661505</td>\n",
       "      <td>3087755</td>\n",
       "      <td>43.111198</td>\n",
       "      <td>-76.106300</td>\n",
       "      <td>33.6367</td>\n",
       "      <td>-84.428101</td>\n",
       "    </tr>\n",
       "    <tr>\n",
       "      <th>564740</th>\n",
       "      <td>SYR</td>\n",
       "      <td>ATL</td>\n",
       "      <td>Syracuse, NY</td>\n",
       "      <td>Atlanta, GA</td>\n",
       "      <td>5077</td>\n",
       "      <td>8520</td>\n",
       "      <td>60</td>\n",
       "      <td>793</td>\n",
       "      <td>1990-12-01</td>\n",
       "      <td>661505</td>\n",
       "      <td>3087755</td>\n",
       "      <td>43.111198</td>\n",
       "      <td>-76.106300</td>\n",
       "      <td>33.6367</td>\n",
       "      <td>-84.428101</td>\n",
       "    </tr>\n",
       "    <tr>\n",
       "      <th>564741</th>\n",
       "      <td>SYR</td>\n",
       "      <td>ATL</td>\n",
       "      <td>Syracuse, NY</td>\n",
       "      <td>Atlanta, GA</td>\n",
       "      <td>4705</td>\n",
       "      <td>8520</td>\n",
       "      <td>60</td>\n",
       "      <td>793</td>\n",
       "      <td>1990-06-01</td>\n",
       "      <td>661505</td>\n",
       "      <td>3087755</td>\n",
       "      <td>43.111198</td>\n",
       "      <td>-76.106300</td>\n",
       "      <td>33.6367</td>\n",
       "      <td>-84.428101</td>\n",
       "    </tr>\n",
       "    <tr>\n",
       "      <th>564742</th>\n",
       "      <td>SAV</td>\n",
       "      <td>ATL</td>\n",
       "      <td>Savannah, GA</td>\n",
       "      <td>Atlanta, GA</td>\n",
       "      <td>12678</td>\n",
       "      <td>25134</td>\n",
       "      <td>177</td>\n",
       "      <td>215</td>\n",
       "      <td>1990-09-01</td>\n",
       "      <td>259044</td>\n",
       "      <td>3087755</td>\n",
       "      <td>32.127602</td>\n",
       "      <td>-81.202103</td>\n",
       "      <td>33.6367</td>\n",
       "      <td>-84.428101</td>\n",
       "    </tr>\n",
       "    <tr>\n",
       "      <th>564743</th>\n",
       "      <td>SYR</td>\n",
       "      <td>ATL</td>\n",
       "      <td>Syracuse, NY</td>\n",
       "      <td>Atlanta, GA</td>\n",
       "      <td>5229</td>\n",
       "      <td>8804</td>\n",
       "      <td>62</td>\n",
       "      <td>793</td>\n",
       "      <td>1990-03-01</td>\n",
       "      <td>661505</td>\n",
       "      <td>3087755</td>\n",
       "      <td>43.111198</td>\n",
       "      <td>-76.106300</td>\n",
       "      <td>33.6367</td>\n",
       "      <td>-84.428101</td>\n",
       "    </tr>\n",
       "    <tr>\n",
       "      <th>...</th>\n",
       "      <td>...</td>\n",
       "      <td>...</td>\n",
       "      <td>...</td>\n",
       "      <td>...</td>\n",
       "      <td>...</td>\n",
       "      <td>...</td>\n",
       "      <td>...</td>\n",
       "      <td>...</td>\n",
       "      <td>...</td>\n",
       "      <td>...</td>\n",
       "      <td>...</td>\n",
       "      <td>...</td>\n",
       "      <td>...</td>\n",
       "      <td>...</td>\n",
       "      <td>...</td>\n",
       "    </tr>\n",
       "    <tr>\n",
       "      <th>697617</th>\n",
       "      <td>PIT</td>\n",
       "      <td>ATL</td>\n",
       "      <td>Pittsburgh, PA</td>\n",
       "      <td>Atlanta, GA</td>\n",
       "      <td>1209</td>\n",
       "      <td>1566</td>\n",
       "      <td>9</td>\n",
       "      <td>526</td>\n",
       "      <td>2009-11-01</td>\n",
       "      <td>2354957</td>\n",
       "      <td>5475213</td>\n",
       "      <td>40.491501</td>\n",
       "      <td>-80.232903</td>\n",
       "      <td>33.6367</td>\n",
       "      <td>-84.428101</td>\n",
       "    </tr>\n",
       "    <tr>\n",
       "      <th>697618</th>\n",
       "      <td>PIT</td>\n",
       "      <td>ATL</td>\n",
       "      <td>Pittsburgh, PA</td>\n",
       "      <td>Atlanta, GA</td>\n",
       "      <td>3144</td>\n",
       "      <td>4638</td>\n",
       "      <td>29</td>\n",
       "      <td>526</td>\n",
       "      <td>2009-11-01</td>\n",
       "      <td>2354957</td>\n",
       "      <td>5475213</td>\n",
       "      <td>40.491501</td>\n",
       "      <td>-80.232903</td>\n",
       "      <td>33.6367</td>\n",
       "      <td>-84.428101</td>\n",
       "    </tr>\n",
       "    <tr>\n",
       "      <th>697619</th>\n",
       "      <td>PIT</td>\n",
       "      <td>ATL</td>\n",
       "      <td>Pittsburgh, PA</td>\n",
       "      <td>Atlanta, GA</td>\n",
       "      <td>981</td>\n",
       "      <td>1240</td>\n",
       "      <td>10</td>\n",
       "      <td>526</td>\n",
       "      <td>2009-11-01</td>\n",
       "      <td>2354957</td>\n",
       "      <td>5475213</td>\n",
       "      <td>40.491501</td>\n",
       "      <td>-80.232903</td>\n",
       "      <td>33.6367</td>\n",
       "      <td>-84.428101</td>\n",
       "    </tr>\n",
       "    <tr>\n",
       "      <th>697620</th>\n",
       "      <td>PIT</td>\n",
       "      <td>ATL</td>\n",
       "      <td>Pittsburgh, PA</td>\n",
       "      <td>Atlanta, GA</td>\n",
       "      <td>1374</td>\n",
       "      <td>1672</td>\n",
       "      <td>21</td>\n",
       "      <td>526</td>\n",
       "      <td>2009-12-01</td>\n",
       "      <td>2354957</td>\n",
       "      <td>5475213</td>\n",
       "      <td>40.491501</td>\n",
       "      <td>-80.232903</td>\n",
       "      <td>33.6367</td>\n",
       "      <td>-84.428101</td>\n",
       "    </tr>\n",
       "    <tr>\n",
       "      <th>697621</th>\n",
       "      <td>PIT</td>\n",
       "      <td>ATL</td>\n",
       "      <td>Pittsburgh, PA</td>\n",
       "      <td>Atlanta, GA</td>\n",
       "      <td>2870</td>\n",
       "      <td>3500</td>\n",
       "      <td>50</td>\n",
       "      <td>526</td>\n",
       "      <td>2009-12-01</td>\n",
       "      <td>2354957</td>\n",
       "      <td>5475213</td>\n",
       "      <td>40.491501</td>\n",
       "      <td>-80.232903</td>\n",
       "      <td>33.6367</td>\n",
       "      <td>-84.428101</td>\n",
       "    </tr>\n",
       "  </tbody>\n",
       "</table>\n",
       "<p>132779 rows × 15 columns</p>\n",
       "</div>"
      ],
      "text/plain": [
       "       Origin_airport Destination_airport     Origin_city Destination_city  \\\n",
       "564739            SYR                 ATL    Syracuse, NY      Atlanta, GA   \n",
       "564740            SYR                 ATL    Syracuse, NY      Atlanta, GA   \n",
       "564741            SYR                 ATL    Syracuse, NY      Atlanta, GA   \n",
       "564742            SAV                 ATL    Savannah, GA      Atlanta, GA   \n",
       "564743            SYR                 ATL    Syracuse, NY      Atlanta, GA   \n",
       "...               ...                 ...             ...              ...   \n",
       "697617            PIT                 ATL  Pittsburgh, PA      Atlanta, GA   \n",
       "697618            PIT                 ATL  Pittsburgh, PA      Atlanta, GA   \n",
       "697619            PIT                 ATL  Pittsburgh, PA      Atlanta, GA   \n",
       "697620            PIT                 ATL  Pittsburgh, PA      Atlanta, GA   \n",
       "697621            PIT                 ATL  Pittsburgh, PA      Atlanta, GA   \n",
       "\n",
       "        Passengers  Seats  Flights  Distance    Fly_date  Origin_population  \\\n",
       "564739        5489   8804       62       793  1990-08-01             661505   \n",
       "564740        5077   8520       60       793  1990-12-01             661505   \n",
       "564741        4705   8520       60       793  1990-06-01             661505   \n",
       "564742       12678  25134      177       215  1990-09-01             259044   \n",
       "564743        5229   8804       62       793  1990-03-01             661505   \n",
       "...            ...    ...      ...       ...         ...                ...   \n",
       "697617        1209   1566        9       526  2009-11-01            2354957   \n",
       "697618        3144   4638       29       526  2009-11-01            2354957   \n",
       "697619         981   1240       10       526  2009-11-01            2354957   \n",
       "697620        1374   1672       21       526  2009-12-01            2354957   \n",
       "697621        2870   3500       50       526  2009-12-01            2354957   \n",
       "\n",
       "        Destination_population  Org_airport_lat  Org_airport_long  \\\n",
       "564739                 3087755        43.111198        -76.106300   \n",
       "564740                 3087755        43.111198        -76.106300   \n",
       "564741                 3087755        43.111198        -76.106300   \n",
       "564742                 3087755        32.127602        -81.202103   \n",
       "564743                 3087755        43.111198        -76.106300   \n",
       "...                        ...              ...               ...   \n",
       "697617                 5475213        40.491501        -80.232903   \n",
       "697618                 5475213        40.491501        -80.232903   \n",
       "697619                 5475213        40.491501        -80.232903   \n",
       "697620                 5475213        40.491501        -80.232903   \n",
       "697621                 5475213        40.491501        -80.232903   \n",
       "\n",
       "        Dest_airport_lat  Dest_airport_long  \n",
       "564739           33.6367         -84.428101  \n",
       "564740           33.6367         -84.428101  \n",
       "564741           33.6367         -84.428101  \n",
       "564742           33.6367         -84.428101  \n",
       "564743           33.6367         -84.428101  \n",
       "...                  ...                ...  \n",
       "697617           33.6367         -84.428101  \n",
       "697618           33.6367         -84.428101  \n",
       "697619           33.6367         -84.428101  \n",
       "697620           33.6367         -84.428101  \n",
       "697621           33.6367         -84.428101  \n",
       "\n",
       "[132779 rows x 15 columns]"
      ]
     },
     "execution_count": 4,
     "metadata": {},
     "output_type": "execute_result"
    }
   ],
   "source": [
    "flightSamples_csv[flightSamples_csv['Destination_airport'] == 'ATL']\n",
    "#One thing to consider is population is by year in this dataset, its also latest is from 2009 and earlier from 1990"
   ]
  },
  {
   "cell_type": "code",
   "execution_count": 5,
   "metadata": {},
   "outputs": [
    {
     "data": {
      "text/html": [
       "<div>\n",
       "<style scoped>\n",
       "    .dataframe tbody tr th:only-of-type {\n",
       "        vertical-align: middle;\n",
       "    }\n",
       "\n",
       "    .dataframe tbody tr th {\n",
       "        vertical-align: top;\n",
       "    }\n",
       "\n",
       "    .dataframe thead th {\n",
       "        text-align: right;\n",
       "    }\n",
       "</style>\n",
       "<table border=\"1\" class=\"dataframe\">\n",
       "  <thead>\n",
       "    <tr style=\"text-align: right;\">\n",
       "      <th></th>\n",
       "      <th>Origin_airport</th>\n",
       "      <th>Destination_airport</th>\n",
       "      <th>Origin_city</th>\n",
       "      <th>Destination_city</th>\n",
       "      <th>Passengers</th>\n",
       "      <th>Seats</th>\n",
       "      <th>Flights</th>\n",
       "      <th>Distance</th>\n",
       "      <th>Fly_date</th>\n",
       "      <th>Origin_population</th>\n",
       "      <th>Destination_population</th>\n",
       "      <th>Org_airport_lat</th>\n",
       "      <th>Org_airport_long</th>\n",
       "      <th>Dest_airport_lat</th>\n",
       "      <th>Dest_airport_long</th>\n",
       "    </tr>\n",
       "  </thead>\n",
       "  <tbody>\n",
       "    <tr>\n",
       "      <th>9780</th>\n",
       "      <td>ATL</td>\n",
       "      <td>ERI</td>\n",
       "      <td>Atlanta, GA</td>\n",
       "      <td>Erie, PA</td>\n",
       "      <td>36</td>\n",
       "      <td>108</td>\n",
       "      <td>1</td>\n",
       "      <td>626</td>\n",
       "      <td>1990-08-01</td>\n",
       "      <td>3087755</td>\n",
       "      <td>275795</td>\n",
       "      <td>33.6367</td>\n",
       "      <td>-84.428101</td>\n",
       "      <td>42.083127</td>\n",
       "      <td>-80.173867</td>\n",
       "    </tr>\n",
       "    <tr>\n",
       "      <th>10835</th>\n",
       "      <td>ATL</td>\n",
       "      <td>ERI</td>\n",
       "      <td>Atlanta, GA</td>\n",
       "      <td>Erie, PA</td>\n",
       "      <td>7</td>\n",
       "      <td>50</td>\n",
       "      <td>1</td>\n",
       "      <td>626</td>\n",
       "      <td>2003-08-01</td>\n",
       "      <td>4673146</td>\n",
       "      <td>282200</td>\n",
       "      <td>33.6367</td>\n",
       "      <td>-84.428101</td>\n",
       "      <td>42.083127</td>\n",
       "      <td>-80.173867</td>\n",
       "    </tr>\n",
       "    <tr>\n",
       "      <th>11450</th>\n",
       "      <td>ATL</td>\n",
       "      <td>ERI</td>\n",
       "      <td>Atlanta, GA</td>\n",
       "      <td>Erie, PA</td>\n",
       "      <td>712</td>\n",
       "      <td>910</td>\n",
       "      <td>22</td>\n",
       "      <td>626</td>\n",
       "      <td>2006-06-01</td>\n",
       "      <td>5119641</td>\n",
       "      <td>279929</td>\n",
       "      <td>33.6367</td>\n",
       "      <td>-84.428101</td>\n",
       "      <td>42.083127</td>\n",
       "      <td>-80.173867</td>\n",
       "    </tr>\n",
       "    <tr>\n",
       "      <th>11451</th>\n",
       "      <td>ATL</td>\n",
       "      <td>ERI</td>\n",
       "      <td>Atlanta, GA</td>\n",
       "      <td>Erie, PA</td>\n",
       "      <td>998</td>\n",
       "      <td>1270</td>\n",
       "      <td>31</td>\n",
       "      <td>626</td>\n",
       "      <td>2006-07-01</td>\n",
       "      <td>5119641</td>\n",
       "      <td>279929</td>\n",
       "      <td>33.6367</td>\n",
       "      <td>-84.428101</td>\n",
       "      <td>42.083127</td>\n",
       "      <td>-80.173867</td>\n",
       "    </tr>\n",
       "    <tr>\n",
       "      <th>11452</th>\n",
       "      <td>ATL</td>\n",
       "      <td>ERI</td>\n",
       "      <td>Atlanta, GA</td>\n",
       "      <td>Erie, PA</td>\n",
       "      <td>48</td>\n",
       "      <td>50</td>\n",
       "      <td>1</td>\n",
       "      <td>626</td>\n",
       "      <td>2006-09-01</td>\n",
       "      <td>5119641</td>\n",
       "      <td>279929</td>\n",
       "      <td>33.6367</td>\n",
       "      <td>-84.428101</td>\n",
       "      <td>42.083127</td>\n",
       "      <td>-80.173867</td>\n",
       "    </tr>\n",
       "    <tr>\n",
       "      <th>...</th>\n",
       "      <td>...</td>\n",
       "      <td>...</td>\n",
       "      <td>...</td>\n",
       "      <td>...</td>\n",
       "      <td>...</td>\n",
       "      <td>...</td>\n",
       "      <td>...</td>\n",
       "      <td>...</td>\n",
       "      <td>...</td>\n",
       "      <td>...</td>\n",
       "      <td>...</td>\n",
       "      <td>...</td>\n",
       "      <td>...</td>\n",
       "      <td>...</td>\n",
       "      <td>...</td>\n",
       "    </tr>\n",
       "    <tr>\n",
       "      <th>3606217</th>\n",
       "      <td>ATL</td>\n",
       "      <td>COS</td>\n",
       "      <td>Atlanta, GA</td>\n",
       "      <td>Colorado Springs, CO</td>\n",
       "      <td>142</td>\n",
       "      <td>142</td>\n",
       "      <td>1</td>\n",
       "      <td>1185</td>\n",
       "      <td>2009-02-01</td>\n",
       "      <td>5475213</td>\n",
       "      <td>626227</td>\n",
       "      <td>33.6367</td>\n",
       "      <td>-84.428101</td>\n",
       "      <td>38.805801</td>\n",
       "      <td>-104.700996</td>\n",
       "    </tr>\n",
       "    <tr>\n",
       "      <th>3606218</th>\n",
       "      <td>ATL</td>\n",
       "      <td>COS</td>\n",
       "      <td>Atlanta, GA</td>\n",
       "      <td>Colorado Springs, CO</td>\n",
       "      <td>2389</td>\n",
       "      <td>3200</td>\n",
       "      <td>20</td>\n",
       "      <td>1185</td>\n",
       "      <td>2009-02-01</td>\n",
       "      <td>5475213</td>\n",
       "      <td>626227</td>\n",
       "      <td>33.6367</td>\n",
       "      <td>-84.428101</td>\n",
       "      <td>38.805801</td>\n",
       "      <td>-104.700996</td>\n",
       "    </tr>\n",
       "    <tr>\n",
       "      <th>3606219</th>\n",
       "      <td>ATL</td>\n",
       "      <td>COS</td>\n",
       "      <td>Atlanta, GA</td>\n",
       "      <td>Colorado Springs, CO</td>\n",
       "      <td>88</td>\n",
       "      <td>124</td>\n",
       "      <td>1</td>\n",
       "      <td>1185</td>\n",
       "      <td>2009-02-01</td>\n",
       "      <td>5475213</td>\n",
       "      <td>626227</td>\n",
       "      <td>33.6367</td>\n",
       "      <td>-84.428101</td>\n",
       "      <td>38.805801</td>\n",
       "      <td>-104.700996</td>\n",
       "    </tr>\n",
       "    <tr>\n",
       "      <th>3606220</th>\n",
       "      <td>ATL</td>\n",
       "      <td>COS</td>\n",
       "      <td>Atlanta, GA</td>\n",
       "      <td>Colorado Springs, CO</td>\n",
       "      <td>2011</td>\n",
       "      <td>2356</td>\n",
       "      <td>31</td>\n",
       "      <td>1185</td>\n",
       "      <td>2009-07-01</td>\n",
       "      <td>5475213</td>\n",
       "      <td>626227</td>\n",
       "      <td>33.6367</td>\n",
       "      <td>-84.428101</td>\n",
       "      <td>38.805801</td>\n",
       "      <td>-104.700996</td>\n",
       "    </tr>\n",
       "    <tr>\n",
       "      <th>3606221</th>\n",
       "      <td>ATL</td>\n",
       "      <td>COS</td>\n",
       "      <td>Atlanta, GA</td>\n",
       "      <td>Colorado Springs, CO</td>\n",
       "      <td>3832</td>\n",
       "      <td>4160</td>\n",
       "      <td>26</td>\n",
       "      <td>1185</td>\n",
       "      <td>2009-06-01</td>\n",
       "      <td>5475213</td>\n",
       "      <td>626227</td>\n",
       "      <td>33.6367</td>\n",
       "      <td>-84.428101</td>\n",
       "      <td>38.805801</td>\n",
       "      <td>-104.700996</td>\n",
       "    </tr>\n",
       "  </tbody>\n",
       "</table>\n",
       "<p>131046 rows × 15 columns</p>\n",
       "</div>"
      ],
      "text/plain": [
       "        Origin_airport Destination_airport  Origin_city      Destination_city  \\\n",
       "9780               ATL                 ERI  Atlanta, GA              Erie, PA   \n",
       "10835              ATL                 ERI  Atlanta, GA              Erie, PA   \n",
       "11450              ATL                 ERI  Atlanta, GA              Erie, PA   \n",
       "11451              ATL                 ERI  Atlanta, GA              Erie, PA   \n",
       "11452              ATL                 ERI  Atlanta, GA              Erie, PA   \n",
       "...                ...                 ...          ...                   ...   \n",
       "3606217            ATL                 COS  Atlanta, GA  Colorado Springs, CO   \n",
       "3606218            ATL                 COS  Atlanta, GA  Colorado Springs, CO   \n",
       "3606219            ATL                 COS  Atlanta, GA  Colorado Springs, CO   \n",
       "3606220            ATL                 COS  Atlanta, GA  Colorado Springs, CO   \n",
       "3606221            ATL                 COS  Atlanta, GA  Colorado Springs, CO   \n",
       "\n",
       "         Passengers  Seats  Flights  Distance    Fly_date  Origin_population  \\\n",
       "9780             36    108        1       626  1990-08-01            3087755   \n",
       "10835             7     50        1       626  2003-08-01            4673146   \n",
       "11450           712    910       22       626  2006-06-01            5119641   \n",
       "11451           998   1270       31       626  2006-07-01            5119641   \n",
       "11452            48     50        1       626  2006-09-01            5119641   \n",
       "...             ...    ...      ...       ...         ...                ...   \n",
       "3606217         142    142        1      1185  2009-02-01            5475213   \n",
       "3606218        2389   3200       20      1185  2009-02-01            5475213   \n",
       "3606219          88    124        1      1185  2009-02-01            5475213   \n",
       "3606220        2011   2356       31      1185  2009-07-01            5475213   \n",
       "3606221        3832   4160       26      1185  2009-06-01            5475213   \n",
       "\n",
       "         Destination_population  Org_airport_lat  Org_airport_long  \\\n",
       "9780                     275795          33.6367        -84.428101   \n",
       "10835                    282200          33.6367        -84.428101   \n",
       "11450                    279929          33.6367        -84.428101   \n",
       "11451                    279929          33.6367        -84.428101   \n",
       "11452                    279929          33.6367        -84.428101   \n",
       "...                         ...              ...               ...   \n",
       "3606217                  626227          33.6367        -84.428101   \n",
       "3606218                  626227          33.6367        -84.428101   \n",
       "3606219                  626227          33.6367        -84.428101   \n",
       "3606220                  626227          33.6367        -84.428101   \n",
       "3606221                  626227          33.6367        -84.428101   \n",
       "\n",
       "         Dest_airport_lat  Dest_airport_long  \n",
       "9780            42.083127         -80.173867  \n",
       "10835           42.083127         -80.173867  \n",
       "11450           42.083127         -80.173867  \n",
       "11451           42.083127         -80.173867  \n",
       "11452           42.083127         -80.173867  \n",
       "...                   ...                ...  \n",
       "3606217         38.805801        -104.700996  \n",
       "3606218         38.805801        -104.700996  \n",
       "3606219         38.805801        -104.700996  \n",
       "3606220         38.805801        -104.700996  \n",
       "3606221         38.805801        -104.700996  \n",
       "\n",
       "[131046 rows x 15 columns]"
      ]
     },
     "execution_count": 5,
     "metadata": {},
     "output_type": "execute_result"
    }
   ],
   "source": [
    "flightSamples_csv[flightSamples_csv['Origin_airport'] == 'ATL']\n",
    "#Origin and Destination match population (Which is good)\n",
    "\n",
    "#I vote that we take population for an airport as the latest trip"
   ]
  },
  {
   "cell_type": "code",
   "execution_count": 27,
   "metadata": {},
   "outputs": [],
   "source": [
    "#Passenger and Flight count can be averaged\n",
    "\n",
    "flightSamples = flightSamples_csv\n",
    "\n",
    "flightSamplesOriginMax = flightSamples[['Origin_airport', 'Fly_date']]\n",
    "flightSamplesOriginMax = flightSamplesOriginMax.groupby('Origin_airport')['Fly_date'].max()\n",
    "\n",
    "filtered_flightSamplesOriginMax = pd.merge(flightSamples, flightSamplesOriginMax, on=['Origin_airport', 'Fly_date'], how='inner', indicator=True)\n",
    "\n",
    "filtered_flightSamplesOriginMax['Airport'] = filtered_flightSamplesOriginMax['Origin_airport']\n",
    "filtered_flightSamplesOriginMax['Population'] = filtered_flightSamplesOriginMax['Origin_population']\n",
    "\n",
    "filtered_flightSamplesOriginMax = filtered_flightSamplesOriginMax[['Airport', 'Population']]\n",
    "filtered_flightSamplesOriginMax = filtered_flightSamplesOriginMax.drop_duplicates(keep='last')"
   ]
  },
  {
   "cell_type": "code",
   "execution_count": 29,
   "metadata": {},
   "outputs": [],
   "source": [
    "#Passenger and Flight count can be averaged\n",
    "\n",
    "flightSamples = flightSamples_csv\n",
    "\n",
    "flightSamplesDestinationMax = flightSamples[['Destination_airport', 'Fly_date']]\n",
    "flightSamplesDestinationMax = flightSamplesDestinationMax.groupby('Destination_airport')['Fly_date'].max()\n",
    "\n",
    "filtered_flightSamplesDestinationMax = pd.merge(flightSamples, flightSamplesDestinationMax, on=['Destination_airport', 'Fly_date'], how='inner', indicator=True)\n",
    "\n",
    "filtered_flightSamplesDestinationMax['Airport'] = filtered_flightSamplesDestinationMax['Destination_airport']\n",
    "filtered_flightSamplesDestinationMax['Population'] = filtered_flightSamplesDestinationMax['Destination_population']\n",
    "\n",
    "filtered_flightSamplesDestinationMax = filtered_flightSamplesDestinationMax[['Airport', 'Population']]\n",
    "filtered_flightSamplesDestinationMax = filtered_flightSamplesDestinationMax.drop_duplicates(keep='last')"
   ]
  },
  {
   "cell_type": "code",
   "execution_count": null,
   "metadata": {},
   "outputs": [],
   "source": [
    "AirportPopulations = pd.merge(filtered_flightSamplesOriginMax, filtered_flightSamplesDestinationMax, on=['Airport', 'Population'], how='outer')"
   ]
  },
  {
   "cell_type": "code",
   "execution_count": null,
   "metadata": {},
   "outputs": [
    {
     "data": {
      "text/html": [
       "<div>\n",
       "<style scoped>\n",
       "    .dataframe tbody tr th:only-of-type {\n",
       "        vertical-align: middle;\n",
       "    }\n",
       "\n",
       "    .dataframe tbody tr th {\n",
       "        vertical-align: top;\n",
       "    }\n",
       "\n",
       "    .dataframe thead th {\n",
       "        text-align: right;\n",
       "    }\n",
       "</style>\n",
       "<table border=\"1\" class=\"dataframe\">\n",
       "  <thead>\n",
       "    <tr style=\"text-align: right;\">\n",
       "      <th></th>\n",
       "      <th>Airport</th>\n",
       "      <th>Population</th>\n",
       "      <th>_merge</th>\n",
       "    </tr>\n",
       "  </thead>\n",
       "  <tbody>\n",
       "    <tr>\n",
       "      <th>0</th>\n",
       "      <td>1B1</td>\n",
       "      <td>61618</td>\n",
       "      <td>both</td>\n",
       "    </tr>\n",
       "    <tr>\n",
       "      <th>1</th>\n",
       "      <td>ABE</td>\n",
       "      <td>816012</td>\n",
       "      <td>both</td>\n",
       "    </tr>\n",
       "    <tr>\n",
       "      <th>2</th>\n",
       "      <td>ABI</td>\n",
       "      <td>160070</td>\n",
       "      <td>both</td>\n",
       "    </tr>\n",
       "    <tr>\n",
       "      <th>3</th>\n",
       "      <td>ABQ</td>\n",
       "      <td>857903</td>\n",
       "      <td>both</td>\n",
       "    </tr>\n",
       "    <tr>\n",
       "      <th>4</th>\n",
       "      <td>ABR</td>\n",
       "      <td>39139</td>\n",
       "      <td>both</td>\n",
       "    </tr>\n",
       "    <tr>\n",
       "      <th>...</th>\n",
       "      <td>...</td>\n",
       "      <td>...</td>\n",
       "      <td>...</td>\n",
       "    </tr>\n",
       "    <tr>\n",
       "      <th>791</th>\n",
       "      <td>YKN</td>\n",
       "      <td>21710</td>\n",
       "      <td>both</td>\n",
       "    </tr>\n",
       "    <tr>\n",
       "      <th>792</th>\n",
       "      <td>YNG</td>\n",
       "      <td>562963</td>\n",
       "      <td>both</td>\n",
       "    </tr>\n",
       "    <tr>\n",
       "      <th>793</th>\n",
       "      <td>YUM</td>\n",
       "      <td>196972</td>\n",
       "      <td>both</td>\n",
       "    </tr>\n",
       "    <tr>\n",
       "      <th>794</th>\n",
       "      <td>ZXX</td>\n",
       "      <td>223720</td>\n",
       "      <td>right_only</td>\n",
       "    </tr>\n",
       "    <tr>\n",
       "      <th>795</th>\n",
       "      <td>ZZV</td>\n",
       "      <td>85190</td>\n",
       "      <td>both</td>\n",
       "    </tr>\n",
       "  </tbody>\n",
       "</table>\n",
       "<p>796 rows × 3 columns</p>\n",
       "</div>"
      ],
      "text/plain": [
       "    Airport  Population      _merge\n",
       "0       1B1       61618        both\n",
       "1       ABE      816012        both\n",
       "2       ABI      160070        both\n",
       "3       ABQ      857903        both\n",
       "4       ABR       39139        both\n",
       "..      ...         ...         ...\n",
       "791     YKN       21710        both\n",
       "792     YNG      562963        both\n",
       "793     YUM      196972        both\n",
       "794     ZXX      223720  right_only\n",
       "795     ZZV       85190        both\n",
       "\n",
       "[796 rows x 3 columns]"
      ]
     },
     "execution_count": 32,
     "metadata": {},
     "output_type": "execute_result"
    }
   ],
   "source": [
    "AirportPopulations"
   ]
  },
  {
   "cell_type": "code",
   "execution_count": 39,
   "metadata": {},
   "outputs": [
    {
     "data": {
      "text/html": [
       "<div>\n",
       "<style scoped>\n",
       "    .dataframe tbody tr th:only-of-type {\n",
       "        vertical-align: middle;\n",
       "    }\n",
       "\n",
       "    .dataframe tbody tr th {\n",
       "        vertical-align: top;\n",
       "    }\n",
       "\n",
       "    .dataframe thead th {\n",
       "        text-align: right;\n",
       "    }\n",
       "</style>\n",
       "<table border=\"1\" class=\"dataframe\">\n",
       "  <thead>\n",
       "    <tr style=\"text-align: right;\">\n",
       "      <th></th>\n",
       "      <th>Unnamed: 0</th>\n",
       "      <th>SRC_AIRPT_ID</th>\n",
       "      <th>SRCNAME</th>\n",
       "      <th>DESTIN_AIRPT_ID</th>\n",
       "      <th>DESTINNAME</th>\n",
       "      <th>seconds</th>\n",
       "      <th>meters</th>\n",
       "      <th>SRCIATA</th>\n",
       "      <th>DESTINIATA</th>\n",
       "      <th>Airport</th>\n",
       "      <th>Population</th>\n",
       "      <th>_merge</th>\n",
       "    </tr>\n",
       "  </thead>\n",
       "  <tbody>\n",
       "    <tr>\n",
       "      <th>10</th>\n",
       "      <td>12</td>\n",
       "      <td>3682</td>\n",
       "      <td>Hartsfield Jackson Atlanta International Airport</td>\n",
       "      <td>6958</td>\n",
       "      <td>Greenbrier Valley Airport</td>\n",
       "      <td>27636</td>\n",
       "      <td>808772</td>\n",
       "      <td>ATL</td>\n",
       "      <td>LWB</td>\n",
       "      <td>NaN</td>\n",
       "      <td>NaN</td>\n",
       "      <td>NaN</td>\n",
       "    </tr>\n",
       "    <tr>\n",
       "      <th>13</th>\n",
       "      <td>15</td>\n",
       "      <td>3682</td>\n",
       "      <td>Hartsfield Jackson Atlanta International Airport</td>\n",
       "      <td>5756</td>\n",
       "      <td>Northwest Alabama Regional Airport</td>\n",
       "      <td>14488</td>\n",
       "      <td>426224</td>\n",
       "      <td>ATL</td>\n",
       "      <td>MSL</td>\n",
       "      <td>NaN</td>\n",
       "      <td>NaN</td>\n",
       "      <td>NaN</td>\n",
       "    </tr>\n",
       "    <tr>\n",
       "      <th>26</th>\n",
       "      <td>60</td>\n",
       "      <td>3877</td>\n",
       "      <td>McCarran International Airport</td>\n",
       "      <td>1850</td>\n",
       "      <td>Licenciado Adolfo Lopez Mateos International A...</td>\n",
       "      <td>111846</td>\n",
       "      <td>2886242</td>\n",
       "      <td>LAS</td>\n",
       "      <td>TLC</td>\n",
       "      <td>NaN</td>\n",
       "      <td>NaN</td>\n",
       "      <td>NaN</td>\n",
       "    </tr>\n",
       "    <tr>\n",
       "      <th>27</th>\n",
       "      <td>65</td>\n",
       "      <td>3621</td>\n",
       "      <td>San Antonio International Airport</td>\n",
       "      <td>1850</td>\n",
       "      <td>Licenciado Adolfo Lopez Mateos International A...</td>\n",
       "      <td>55536</td>\n",
       "      <td>1379811</td>\n",
       "      <td>SAT</td>\n",
       "      <td>TLC</td>\n",
       "      <td>NaN</td>\n",
       "      <td>NaN</td>\n",
       "      <td>NaN</td>\n",
       "    </tr>\n",
       "    <tr>\n",
       "      <th>28</th>\n",
       "      <td>66</td>\n",
       "      <td>3867</td>\n",
       "      <td>John Wayne Airport-Orange County Airport</td>\n",
       "      <td>1804</td>\n",
       "      <td>Don Miguel Hidalgo Y Costilla International Ai...</td>\n",
       "      <td>95976</td>\n",
       "      <td>2524601</td>\n",
       "      <td>SNA</td>\n",
       "      <td>GDL</td>\n",
       "      <td>NaN</td>\n",
       "      <td>NaN</td>\n",
       "      <td>NaN</td>\n",
       "    </tr>\n",
       "    <tr>\n",
       "      <th>...</th>\n",
       "      <td>...</td>\n",
       "      <td>...</td>\n",
       "      <td>...</td>\n",
       "      <td>...</td>\n",
       "      <td>...</td>\n",
       "      <td>...</td>\n",
       "      <td>...</td>\n",
       "      <td>...</td>\n",
       "      <td>...</td>\n",
       "      <td>...</td>\n",
       "      <td>...</td>\n",
       "      <td>...</td>\n",
       "    </tr>\n",
       "    <tr>\n",
       "      <th>5886</th>\n",
       "      <td>11496</td>\n",
       "      <td>156</td>\n",
       "      <td>Vancouver International Airport</td>\n",
       "      <td>3839</td>\n",
       "      <td>Palm Springs International Airport</td>\n",
       "      <td>76379</td>\n",
       "      <td>2225780</td>\n",
       "      <td>YVR</td>\n",
       "      <td>PSP</td>\n",
       "      <td>NaN</td>\n",
       "      <td>NaN</td>\n",
       "      <td>NaN</td>\n",
       "    </tr>\n",
       "    <tr>\n",
       "      <th>5898</th>\n",
       "      <td>11508</td>\n",
       "      <td>178</td>\n",
       "      <td>Calgary International Airport</td>\n",
       "      <td>3839</td>\n",
       "      <td>Palm Springs International Airport</td>\n",
       "      <td>81362</td>\n",
       "      <td>2444478</td>\n",
       "      <td>YYC</td>\n",
       "      <td>PSP</td>\n",
       "      <td>NaN</td>\n",
       "      <td>NaN</td>\n",
       "      <td>NaN</td>\n",
       "    </tr>\n",
       "    <tr>\n",
       "      <th>5917</th>\n",
       "      <td>11527</td>\n",
       "      <td>193</td>\n",
       "      <td>Lester B. Pearson International Airport</td>\n",
       "      <td>3793</td>\n",
       "      <td>Southwest Florida International Airport</td>\n",
       "      <td>78358</td>\n",
       "      <td>2357317</td>\n",
       "      <td>YYZ</td>\n",
       "      <td>RSW</td>\n",
       "      <td>NaN</td>\n",
       "      <td>NaN</td>\n",
       "      <td>NaN</td>\n",
       "    </tr>\n",
       "    <tr>\n",
       "      <th>5926</th>\n",
       "      <td>11536</td>\n",
       "      <td>1804</td>\n",
       "      <td>Don Miguel Hidalgo Y Costilla International Ai...</td>\n",
       "      <td>3734</td>\n",
       "      <td>Ontario International Airport</td>\n",
       "      <td>94741</td>\n",
       "      <td>2475959</td>\n",
       "      <td>GDL</td>\n",
       "      <td>ONT</td>\n",
       "      <td>NaN</td>\n",
       "      <td>NaN</td>\n",
       "      <td>NaN</td>\n",
       "    </tr>\n",
       "    <tr>\n",
       "      <th>5931</th>\n",
       "      <td>11541</td>\n",
       "      <td>1824</td>\n",
       "      <td>Licenciado Benito Juarez International Airport</td>\n",
       "      <td>3751</td>\n",
       "      <td>Denver International Airport</td>\n",
       "      <td>101901</td>\n",
       "      <td>2717921</td>\n",
       "      <td>MEX</td>\n",
       "      <td>DEN</td>\n",
       "      <td>NaN</td>\n",
       "      <td>NaN</td>\n",
       "      <td>NaN</td>\n",
       "    </tr>\n",
       "  </tbody>\n",
       "</table>\n",
       "<p>958 rows × 12 columns</p>\n",
       "</div>"
      ],
      "text/plain": [
       "      Unnamed: 0  SRC_AIRPT_ID  \\\n",
       "10            12          3682   \n",
       "13            15          3682   \n",
       "26            60          3877   \n",
       "27            65          3621   \n",
       "28            66          3867   \n",
       "...          ...           ...   \n",
       "5886       11496           156   \n",
       "5898       11508           178   \n",
       "5917       11527           193   \n",
       "5926       11536          1804   \n",
       "5931       11541          1824   \n",
       "\n",
       "                                                SRCNAME  DESTIN_AIRPT_ID  \\\n",
       "10     Hartsfield Jackson Atlanta International Airport             6958   \n",
       "13     Hartsfield Jackson Atlanta International Airport             5756   \n",
       "26                       McCarran International Airport             1850   \n",
       "27                    San Antonio International Airport             1850   \n",
       "28             John Wayne Airport-Orange County Airport             1804   \n",
       "...                                                 ...              ...   \n",
       "5886                    Vancouver International Airport             3839   \n",
       "5898                      Calgary International Airport             3839   \n",
       "5917            Lester B. Pearson International Airport             3793   \n",
       "5926  Don Miguel Hidalgo Y Costilla International Ai...             3734   \n",
       "5931     Licenciado Benito Juarez International Airport             3751   \n",
       "\n",
       "                                             DESTINNAME  seconds   meters  \\\n",
       "10                            Greenbrier Valley Airport    27636   808772   \n",
       "13                   Northwest Alabama Regional Airport    14488   426224   \n",
       "26    Licenciado Adolfo Lopez Mateos International A...   111846  2886242   \n",
       "27    Licenciado Adolfo Lopez Mateos International A...    55536  1379811   \n",
       "28    Don Miguel Hidalgo Y Costilla International Ai...    95976  2524601   \n",
       "...                                                 ...      ...      ...   \n",
       "5886                 Palm Springs International Airport    76379  2225780   \n",
       "5898                 Palm Springs International Airport    81362  2444478   \n",
       "5917            Southwest Florida International Airport    78358  2357317   \n",
       "5926                      Ontario International Airport    94741  2475959   \n",
       "5931                       Denver International Airport   101901  2717921   \n",
       "\n",
       "     SRCIATA DESTINIATA Airport  Population _merge  \n",
       "10       ATL        LWB     NaN         NaN    NaN  \n",
       "13       ATL        MSL     NaN         NaN    NaN  \n",
       "26       LAS        TLC     NaN         NaN    NaN  \n",
       "27       SAT        TLC     NaN         NaN    NaN  \n",
       "28       SNA        GDL     NaN         NaN    NaN  \n",
       "...      ...        ...     ...         ...    ...  \n",
       "5886     YVR        PSP     NaN         NaN    NaN  \n",
       "5898     YYC        PSP     NaN         NaN    NaN  \n",
       "5917     YYZ        RSW     NaN         NaN    NaN  \n",
       "5926     GDL        ONT     NaN         NaN    NaN  \n",
       "5931     MEX        DEN     NaN         NaN    NaN  \n",
       "\n",
       "[958 rows x 12 columns]"
      ]
     },
     "execution_count": 39,
     "metadata": {},
     "output_type": "execute_result"
    }
   ],
   "source": [
    "usRoutes = usRoutes_csv \n",
    "\n",
    "usRoutesPop = usRoutes.merge(AirportPopulations, how=\"left\", left_on='DESTINIATA', right_on='Airport')\n",
    "usRoutesPop[usRoutesPop['Population'].isnull()]"
   ]
  },
  {
   "cell_type": "code",
   "execution_count": 41,
   "metadata": {},
   "outputs": [],
   "source": [
    "flightSamplesAveragesFlights = flightSamples[['Origin_airport', 'Destination_airport', 'Passengers', 'Flights']]\n",
    "flightSamplesAveragesFlights = flightSamplesAveragesFlights.groupby(['Origin_airport', 'Destination_airport'])['Flights'].mean()\n",
    "flightSamplesAveragesPassengers = flightSamples[['Origin_airport', 'Destination_airport', 'Passengers', 'Flights']]\n",
    "flightSamplesAveragesPassengers = flightSamplesAveragesPassengers.groupby(['Origin_airport', 'Destination_airport'])['Passengers'].mean()"
   ]
  },
  {
   "cell_type": "code",
   "execution_count": 48,
   "metadata": {},
   "outputs": [
    {
     "data": {
      "text/html": [
       "<div>\n",
       "<style scoped>\n",
       "    .dataframe tbody tr th:only-of-type {\n",
       "        vertical-align: middle;\n",
       "    }\n",
       "\n",
       "    .dataframe tbody tr th {\n",
       "        vertical-align: top;\n",
       "    }\n",
       "\n",
       "    .dataframe thead th {\n",
       "        text-align: right;\n",
       "    }\n",
       "</style>\n",
       "<table border=\"1\" class=\"dataframe\">\n",
       "  <thead>\n",
       "    <tr style=\"text-align: right;\">\n",
       "      <th></th>\n",
       "      <th>Unnamed: 0</th>\n",
       "      <th>SRC_AIRPT_ID</th>\n",
       "      <th>SRCNAME</th>\n",
       "      <th>DESTIN_AIRPT_ID</th>\n",
       "      <th>DESTINNAME</th>\n",
       "      <th>seconds</th>\n",
       "      <th>meters</th>\n",
       "      <th>SRCIATA</th>\n",
       "      <th>DESTINIATA</th>\n",
       "      <th>Flights</th>\n",
       "      <th>Passengers</th>\n",
       "    </tr>\n",
       "  </thead>\n",
       "  <tbody>\n",
       "    <tr>\n",
       "      <th>4</th>\n",
       "      <td>4</td>\n",
       "      <td>3591</td>\n",
       "      <td>Jonesboro Municipal Airport</td>\n",
       "      <td>3678</td>\n",
       "      <td>St Louis Lambert International Airport</td>\n",
       "      <td>14302</td>\n",
       "      <td>384203</td>\n",
       "      <td>JBR</td>\n",
       "      <td>STL</td>\n",
       "      <td>NaN</td>\n",
       "      <td>NaN</td>\n",
       "    </tr>\n",
       "    <tr>\n",
       "      <th>9</th>\n",
       "      <td>9</td>\n",
       "      <td>3678</td>\n",
       "      <td>St Louis Lambert International Airport</td>\n",
       "      <td>3591</td>\n",
       "      <td>Jonesboro Municipal Airport</td>\n",
       "      <td>14313</td>\n",
       "      <td>382046</td>\n",
       "      <td>STL</td>\n",
       "      <td>JBR</td>\n",
       "      <td>NaN</td>\n",
       "      <td>NaN</td>\n",
       "    </tr>\n",
       "    <tr>\n",
       "      <th>10</th>\n",
       "      <td>12</td>\n",
       "      <td>3682</td>\n",
       "      <td>Hartsfield Jackson Atlanta International Airport</td>\n",
       "      <td>6958</td>\n",
       "      <td>Greenbrier Valley Airport</td>\n",
       "      <td>27636</td>\n",
       "      <td>808772</td>\n",
       "      <td>ATL</td>\n",
       "      <td>LWB</td>\n",
       "      <td>NaN</td>\n",
       "      <td>NaN</td>\n",
       "    </tr>\n",
       "    <tr>\n",
       "      <th>13</th>\n",
       "      <td>15</td>\n",
       "      <td>3682</td>\n",
       "      <td>Hartsfield Jackson Atlanta International Airport</td>\n",
       "      <td>5756</td>\n",
       "      <td>Northwest Alabama Regional Airport</td>\n",
       "      <td>14488</td>\n",
       "      <td>426224</td>\n",
       "      <td>ATL</td>\n",
       "      <td>MSL</td>\n",
       "      <td>NaN</td>\n",
       "      <td>NaN</td>\n",
       "    </tr>\n",
       "    <tr>\n",
       "      <th>17</th>\n",
       "      <td>28</td>\n",
       "      <td>6958</td>\n",
       "      <td>Greenbrier Valley Airport</td>\n",
       "      <td>3682</td>\n",
       "      <td>Hartsfield Jackson Atlanta International Airport</td>\n",
       "      <td>27433</td>\n",
       "      <td>804395</td>\n",
       "      <td>LWB</td>\n",
       "      <td>ATL</td>\n",
       "      <td>NaN</td>\n",
       "      <td>NaN</td>\n",
       "    </tr>\n",
       "    <tr>\n",
       "      <th>...</th>\n",
       "      <td>...</td>\n",
       "      <td>...</td>\n",
       "      <td>...</td>\n",
       "      <td>...</td>\n",
       "      <td>...</td>\n",
       "      <td>...</td>\n",
       "      <td>...</td>\n",
       "      <td>...</td>\n",
       "      <td>...</td>\n",
       "      <td>...</td>\n",
       "      <td>...</td>\n",
       "    </tr>\n",
       "    <tr>\n",
       "      <th>5936</th>\n",
       "      <td>11547</td>\n",
       "      <td>1824</td>\n",
       "      <td>Licenciado Benito Juarez International Airport</td>\n",
       "      <td>3731</td>\n",
       "      <td>San Diego International Airport</td>\n",
       "      <td>110370</td>\n",
       "      <td>2995729</td>\n",
       "      <td>MEX</td>\n",
       "      <td>SAN</td>\n",
       "      <td>NaN</td>\n",
       "      <td>NaN</td>\n",
       "    </tr>\n",
       "    <tr>\n",
       "      <th>5937</th>\n",
       "      <td>11548</td>\n",
       "      <td>1821</td>\n",
       "      <td>General Francisco J. Mujica International Airport</td>\n",
       "      <td>3484</td>\n",
       "      <td>Los Angeles International Airport</td>\n",
       "      <td>107664</td>\n",
       "      <td>2832013</td>\n",
       "      <td>MLM</td>\n",
       "      <td>LAX</td>\n",
       "      <td>NaN</td>\n",
       "      <td>NaN</td>\n",
       "    </tr>\n",
       "    <tr>\n",
       "      <th>5938</th>\n",
       "      <td>11549</td>\n",
       "      <td>1821</td>\n",
       "      <td>General Francisco J. Mujica International Airport</td>\n",
       "      <td>3747</td>\n",
       "      <td>Chicago Midway International Airport</td>\n",
       "      <td>114548</td>\n",
       "      <td>3204934</td>\n",
       "      <td>MLM</td>\n",
       "      <td>MDW</td>\n",
       "      <td>NaN</td>\n",
       "      <td>NaN</td>\n",
       "    </tr>\n",
       "    <tr>\n",
       "      <th>5939</th>\n",
       "      <td>11550</td>\n",
       "      <td>1855</td>\n",
       "      <td>General Leobardo C. Ruiz International Airport</td>\n",
       "      <td>3484</td>\n",
       "      <td>Los Angeles International Airport</td>\n",
       "      <td>89874</td>\n",
       "      <td>2502248</td>\n",
       "      <td>ZCL</td>\n",
       "      <td>LAX</td>\n",
       "      <td>NaN</td>\n",
       "      <td>NaN</td>\n",
       "    </tr>\n",
       "    <tr>\n",
       "      <th>5940</th>\n",
       "      <td>11551</td>\n",
       "      <td>1855</td>\n",
       "      <td>General Leobardo C. Ruiz International Airport</td>\n",
       "      <td>3747</td>\n",
       "      <td>Chicago Midway International Airport</td>\n",
       "      <td>99684</td>\n",
       "      <td>2839085</td>\n",
       "      <td>ZCL</td>\n",
       "      <td>MDW</td>\n",
       "      <td>NaN</td>\n",
       "      <td>NaN</td>\n",
       "    </tr>\n",
       "  </tbody>\n",
       "</table>\n",
       "<p>1873 rows × 11 columns</p>\n",
       "</div>"
      ],
      "text/plain": [
       "      Unnamed: 0  SRC_AIRPT_ID  \\\n",
       "4              4          3591   \n",
       "9              9          3678   \n",
       "10            12          3682   \n",
       "13            15          3682   \n",
       "17            28          6958   \n",
       "...          ...           ...   \n",
       "5936       11547          1824   \n",
       "5937       11548          1821   \n",
       "5938       11549          1821   \n",
       "5939       11550          1855   \n",
       "5940       11551          1855   \n",
       "\n",
       "                                                SRCNAME  DESTIN_AIRPT_ID  \\\n",
       "4                           Jonesboro Municipal Airport             3678   \n",
       "9                St Louis Lambert International Airport             3591   \n",
       "10     Hartsfield Jackson Atlanta International Airport             6958   \n",
       "13     Hartsfield Jackson Atlanta International Airport             5756   \n",
       "17                            Greenbrier Valley Airport             3682   \n",
       "...                                                 ...              ...   \n",
       "5936     Licenciado Benito Juarez International Airport             3731   \n",
       "5937  General Francisco J. Mujica International Airport             3484   \n",
       "5938  General Francisco J. Mujica International Airport             3747   \n",
       "5939     General Leobardo C. Ruiz International Airport             3484   \n",
       "5940     General Leobardo C. Ruiz International Airport             3747   \n",
       "\n",
       "                                            DESTINNAME  seconds   meters  \\\n",
       "4               St Louis Lambert International Airport    14302   384203   \n",
       "9                          Jonesboro Municipal Airport    14313   382046   \n",
       "10                           Greenbrier Valley Airport    27636   808772   \n",
       "13                  Northwest Alabama Regional Airport    14488   426224   \n",
       "17    Hartsfield Jackson Atlanta International Airport    27433   804395   \n",
       "...                                                ...      ...      ...   \n",
       "5936                   San Diego International Airport   110370  2995729   \n",
       "5937                 Los Angeles International Airport   107664  2832013   \n",
       "5938              Chicago Midway International Airport   114548  3204934   \n",
       "5939                 Los Angeles International Airport    89874  2502248   \n",
       "5940              Chicago Midway International Airport    99684  2839085   \n",
       "\n",
       "     SRCIATA DESTINIATA  Flights  Passengers  \n",
       "4        JBR        STL      NaN         NaN  \n",
       "9        STL        JBR      NaN         NaN  \n",
       "10       ATL        LWB      NaN         NaN  \n",
       "13       ATL        MSL      NaN         NaN  \n",
       "17       LWB        ATL      NaN         NaN  \n",
       "...      ...        ...      ...         ...  \n",
       "5936     MEX        SAN      NaN         NaN  \n",
       "5937     MLM        LAX      NaN         NaN  \n",
       "5938     MLM        MDW      NaN         NaN  \n",
       "5939     ZCL        LAX      NaN         NaN  \n",
       "5940     ZCL        MDW      NaN         NaN  \n",
       "\n",
       "[1873 rows x 11 columns]"
      ]
     },
     "execution_count": 48,
     "metadata": {},
     "output_type": "execute_result"
    }
   ],
   "source": [
    "avgFlightConstraints =  pd.merge(flightSamplesAveragesFlights, flightSamplesAveragesPassengers, on=['Origin_airport', 'Destination_airport'], how='outer')\n",
    "\n",
    "usRoutesAVG = usRoutes.merge(avgFlightConstraints, how=\"left\", left_on=['SRCIATA', 'DESTINIATA'], right_on=['Origin_airport', 'Destination_airport'])\n",
    "\n",
    "usRoutesAVG[usRoutesAVG['Passengers'].isnull()]"
   ]
  },
  {
   "cell_type": "code",
   "execution_count": 49,
   "metadata": {},
   "outputs": [
    {
     "data": {
      "text/html": [
       "<div>\n",
       "<style scoped>\n",
       "    .dataframe tbody tr th:only-of-type {\n",
       "        vertical-align: middle;\n",
       "    }\n",
       "\n",
       "    .dataframe tbody tr th {\n",
       "        vertical-align: top;\n",
       "    }\n",
       "\n",
       "    .dataframe thead th {\n",
       "        text-align: right;\n",
       "    }\n",
       "</style>\n",
       "<table border=\"1\" class=\"dataframe\">\n",
       "  <thead>\n",
       "    <tr style=\"text-align: right;\">\n",
       "      <th></th>\n",
       "      <th>Unnamed: 0</th>\n",
       "      <th>SRC_AIRPT_ID</th>\n",
       "      <th>SRCNAME</th>\n",
       "      <th>DESTIN_AIRPT_ID</th>\n",
       "      <th>DESTINNAME</th>\n",
       "      <th>seconds</th>\n",
       "      <th>meters</th>\n",
       "      <th>SRCIATA</th>\n",
       "      <th>DESTINIATA</th>\n",
       "      <th>Flights</th>\n",
       "      <th>Passengers</th>\n",
       "    </tr>\n",
       "  </thead>\n",
       "  <tbody>\n",
       "    <tr>\n",
       "      <th>4</th>\n",
       "      <td>4</td>\n",
       "      <td>3591</td>\n",
       "      <td>Jonesboro Municipal Airport</td>\n",
       "      <td>3678</td>\n",
       "      <td>St Louis Lambert International Airport</td>\n",
       "      <td>14302</td>\n",
       "      <td>384203</td>\n",
       "      <td>JBR</td>\n",
       "      <td>STL</td>\n",
       "      <td>NaN</td>\n",
       "      <td>NaN</td>\n",
       "    </tr>\n",
       "    <tr>\n",
       "      <th>9</th>\n",
       "      <td>9</td>\n",
       "      <td>3678</td>\n",
       "      <td>St Louis Lambert International Airport</td>\n",
       "      <td>3591</td>\n",
       "      <td>Jonesboro Municipal Airport</td>\n",
       "      <td>14313</td>\n",
       "      <td>382046</td>\n",
       "      <td>STL</td>\n",
       "      <td>JBR</td>\n",
       "      <td>NaN</td>\n",
       "      <td>NaN</td>\n",
       "    </tr>\n",
       "    <tr>\n",
       "      <th>10</th>\n",
       "      <td>12</td>\n",
       "      <td>3682</td>\n",
       "      <td>Hartsfield Jackson Atlanta International Airport</td>\n",
       "      <td>6958</td>\n",
       "      <td>Greenbrier Valley Airport</td>\n",
       "      <td>27636</td>\n",
       "      <td>808772</td>\n",
       "      <td>ATL</td>\n",
       "      <td>LWB</td>\n",
       "      <td>NaN</td>\n",
       "      <td>NaN</td>\n",
       "    </tr>\n",
       "    <tr>\n",
       "      <th>13</th>\n",
       "      <td>15</td>\n",
       "      <td>3682</td>\n",
       "      <td>Hartsfield Jackson Atlanta International Airport</td>\n",
       "      <td>5756</td>\n",
       "      <td>Northwest Alabama Regional Airport</td>\n",
       "      <td>14488</td>\n",
       "      <td>426224</td>\n",
       "      <td>ATL</td>\n",
       "      <td>MSL</td>\n",
       "      <td>NaN</td>\n",
       "      <td>NaN</td>\n",
       "    </tr>\n",
       "    <tr>\n",
       "      <th>17</th>\n",
       "      <td>28</td>\n",
       "      <td>6958</td>\n",
       "      <td>Greenbrier Valley Airport</td>\n",
       "      <td>3682</td>\n",
       "      <td>Hartsfield Jackson Atlanta International Airport</td>\n",
       "      <td>27433</td>\n",
       "      <td>804395</td>\n",
       "      <td>LWB</td>\n",
       "      <td>ATL</td>\n",
       "      <td>NaN</td>\n",
       "      <td>NaN</td>\n",
       "    </tr>\n",
       "    <tr>\n",
       "      <th>...</th>\n",
       "      <td>...</td>\n",
       "      <td>...</td>\n",
       "      <td>...</td>\n",
       "      <td>...</td>\n",
       "      <td>...</td>\n",
       "      <td>...</td>\n",
       "      <td>...</td>\n",
       "      <td>...</td>\n",
       "      <td>...</td>\n",
       "      <td>...</td>\n",
       "      <td>...</td>\n",
       "    </tr>\n",
       "    <tr>\n",
       "      <th>5936</th>\n",
       "      <td>11547</td>\n",
       "      <td>1824</td>\n",
       "      <td>Licenciado Benito Juarez International Airport</td>\n",
       "      <td>3731</td>\n",
       "      <td>San Diego International Airport</td>\n",
       "      <td>110370</td>\n",
       "      <td>2995729</td>\n",
       "      <td>MEX</td>\n",
       "      <td>SAN</td>\n",
       "      <td>NaN</td>\n",
       "      <td>NaN</td>\n",
       "    </tr>\n",
       "    <tr>\n",
       "      <th>5937</th>\n",
       "      <td>11548</td>\n",
       "      <td>1821</td>\n",
       "      <td>General Francisco J. Mujica International Airport</td>\n",
       "      <td>3484</td>\n",
       "      <td>Los Angeles International Airport</td>\n",
       "      <td>107664</td>\n",
       "      <td>2832013</td>\n",
       "      <td>MLM</td>\n",
       "      <td>LAX</td>\n",
       "      <td>NaN</td>\n",
       "      <td>NaN</td>\n",
       "    </tr>\n",
       "    <tr>\n",
       "      <th>5938</th>\n",
       "      <td>11549</td>\n",
       "      <td>1821</td>\n",
       "      <td>General Francisco J. Mujica International Airport</td>\n",
       "      <td>3747</td>\n",
       "      <td>Chicago Midway International Airport</td>\n",
       "      <td>114548</td>\n",
       "      <td>3204934</td>\n",
       "      <td>MLM</td>\n",
       "      <td>MDW</td>\n",
       "      <td>NaN</td>\n",
       "      <td>NaN</td>\n",
       "    </tr>\n",
       "    <tr>\n",
       "      <th>5939</th>\n",
       "      <td>11550</td>\n",
       "      <td>1855</td>\n",
       "      <td>General Leobardo C. Ruiz International Airport</td>\n",
       "      <td>3484</td>\n",
       "      <td>Los Angeles International Airport</td>\n",
       "      <td>89874</td>\n",
       "      <td>2502248</td>\n",
       "      <td>ZCL</td>\n",
       "      <td>LAX</td>\n",
       "      <td>NaN</td>\n",
       "      <td>NaN</td>\n",
       "    </tr>\n",
       "    <tr>\n",
       "      <th>5940</th>\n",
       "      <td>11551</td>\n",
       "      <td>1855</td>\n",
       "      <td>General Leobardo C. Ruiz International Airport</td>\n",
       "      <td>3747</td>\n",
       "      <td>Chicago Midway International Airport</td>\n",
       "      <td>99684</td>\n",
       "      <td>2839085</td>\n",
       "      <td>ZCL</td>\n",
       "      <td>MDW</td>\n",
       "      <td>NaN</td>\n",
       "      <td>NaN</td>\n",
       "    </tr>\n",
       "  </tbody>\n",
       "</table>\n",
       "<p>1873 rows × 11 columns</p>\n",
       "</div>"
      ],
      "text/plain": [
       "      Unnamed: 0  SRC_AIRPT_ID  \\\n",
       "4              4          3591   \n",
       "9              9          3678   \n",
       "10            12          3682   \n",
       "13            15          3682   \n",
       "17            28          6958   \n",
       "...          ...           ...   \n",
       "5936       11547          1824   \n",
       "5937       11548          1821   \n",
       "5938       11549          1821   \n",
       "5939       11550          1855   \n",
       "5940       11551          1855   \n",
       "\n",
       "                                                SRCNAME  DESTIN_AIRPT_ID  \\\n",
       "4                           Jonesboro Municipal Airport             3678   \n",
       "9                St Louis Lambert International Airport             3591   \n",
       "10     Hartsfield Jackson Atlanta International Airport             6958   \n",
       "13     Hartsfield Jackson Atlanta International Airport             5756   \n",
       "17                            Greenbrier Valley Airport             3682   \n",
       "...                                                 ...              ...   \n",
       "5936     Licenciado Benito Juarez International Airport             3731   \n",
       "5937  General Francisco J. Mujica International Airport             3484   \n",
       "5938  General Francisco J. Mujica International Airport             3747   \n",
       "5939     General Leobardo C. Ruiz International Airport             3484   \n",
       "5940     General Leobardo C. Ruiz International Airport             3747   \n",
       "\n",
       "                                            DESTINNAME  seconds   meters  \\\n",
       "4               St Louis Lambert International Airport    14302   384203   \n",
       "9                          Jonesboro Municipal Airport    14313   382046   \n",
       "10                           Greenbrier Valley Airport    27636   808772   \n",
       "13                  Northwest Alabama Regional Airport    14488   426224   \n",
       "17    Hartsfield Jackson Atlanta International Airport    27433   804395   \n",
       "...                                                ...      ...      ...   \n",
       "5936                   San Diego International Airport   110370  2995729   \n",
       "5937                 Los Angeles International Airport   107664  2832013   \n",
       "5938              Chicago Midway International Airport   114548  3204934   \n",
       "5939                 Los Angeles International Airport    89874  2502248   \n",
       "5940              Chicago Midway International Airport    99684  2839085   \n",
       "\n",
       "     SRCIATA DESTINIATA  Flights  Passengers  \n",
       "4        JBR        STL      NaN         NaN  \n",
       "9        STL        JBR      NaN         NaN  \n",
       "10       ATL        LWB      NaN         NaN  \n",
       "13       ATL        MSL      NaN         NaN  \n",
       "17       LWB        ATL      NaN         NaN  \n",
       "...      ...        ...      ...         ...  \n",
       "5936     MEX        SAN      NaN         NaN  \n",
       "5937     MLM        LAX      NaN         NaN  \n",
       "5938     MLM        MDW      NaN         NaN  \n",
       "5939     ZCL        LAX      NaN         NaN  \n",
       "5940     ZCL        MDW      NaN         NaN  \n",
       "\n",
       "[1873 rows x 11 columns]"
      ]
     },
     "execution_count": 49,
     "metadata": {},
     "output_type": "execute_result"
    }
   ],
   "source": [
    "usRoutesAVG[usRoutesAVG['Flights'].isnull()]"
   ]
  },
  {
   "cell_type": "code",
   "execution_count": null,
   "metadata": {},
   "outputs": [
    {
     "data": {
      "application/vnd.plotly.v1+json": {
       "config": {
        "plotlyServerURL": "https://plot.ly"
       },
       "data": [
        {
         "hovertemplate": "countVal_y=%{x}<br>Population=%{y}<extra></extra>",
         "legendgroup": "",
         "marker": {
          "color": "#636efa",
          "symbol": "circle"
         },
         "mode": "markers",
         "name": "",
         "showlegend": false,
         "type": "scattergl",
         "x": {
          "bdata": "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",
          "dtype": "i2"
         },
         "xaxis": "x",
         "y": {
          "bdata": "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",
          "dtype": "f8"
         },
         "yaxis": "y"
        }
       ],
       "layout": {
        "legend": {
         "tracegroupgap": 0
        },
        "template": {
         "data": {
          "bar": [
           {
            "error_x": {
             "color": "#2a3f5f"
            },
            "error_y": {
             "color": "#2a3f5f"
            },
            "marker": {
             "line": {
              "color": "#E5ECF6",
              "width": 0.5
             },
             "pattern": {
              "fillmode": "overlay",
              "size": 10,
              "solidity": 0.2
             }
            },
            "type": "bar"
           }
          ],
          "barpolar": [
           {
            "marker": {
             "line": {
              "color": "#E5ECF6",
              "width": 0.5
             },
             "pattern": {
              "fillmode": "overlay",
              "size": 10,
              "solidity": 0.2
             }
            },
            "type": "barpolar"
           }
          ],
          "carpet": [
           {
            "aaxis": {
             "endlinecolor": "#2a3f5f",
             "gridcolor": "white",
             "linecolor": "white",
             "minorgridcolor": "white",
             "startlinecolor": "#2a3f5f"
            },
            "baxis": {
             "endlinecolor": "#2a3f5f",
             "gridcolor": "white",
             "linecolor": "white",
             "minorgridcolor": "white",
             "startlinecolor": "#2a3f5f"
            },
            "type": "carpet"
           }
          ],
          "choropleth": [
           {
            "colorbar": {
             "outlinewidth": 0,
             "ticks": ""
            },
            "type": "choropleth"
           }
          ],
          "contour": [
           {
            "colorbar": {
             "outlinewidth": 0,
             "ticks": ""
            },
            "colorscale": [
             [
              0,
              "#0d0887"
             ],
             [
              0.1111111111111111,
              "#46039f"
             ],
             [
              0.2222222222222222,
              "#7201a8"
             ],
             [
              0.3333333333333333,
              "#9c179e"
             ],
             [
              0.4444444444444444,
              "#bd3786"
             ],
             [
              0.5555555555555556,
              "#d8576b"
             ],
             [
              0.6666666666666666,
              "#ed7953"
             ],
             [
              0.7777777777777778,
              "#fb9f3a"
             ],
             [
              0.8888888888888888,
              "#fdca26"
             ],
             [
              1,
              "#f0f921"
             ]
            ],
            "type": "contour"
           }
          ],
          "contourcarpet": [
           {
            "colorbar": {
             "outlinewidth": 0,
             "ticks": ""
            },
            "type": "contourcarpet"
           }
          ],
          "heatmap": [
           {
            "colorbar": {
             "outlinewidth": 0,
             "ticks": ""
            },
            "colorscale": [
             [
              0,
              "#0d0887"
             ],
             [
              0.1111111111111111,
              "#46039f"
             ],
             [
              0.2222222222222222,
              "#7201a8"
             ],
             [
              0.3333333333333333,
              "#9c179e"
             ],
             [
              0.4444444444444444,
              "#bd3786"
             ],
             [
              0.5555555555555556,
              "#d8576b"
             ],
             [
              0.6666666666666666,
              "#ed7953"
             ],
             [
              0.7777777777777778,
              "#fb9f3a"
             ],
             [
              0.8888888888888888,
              "#fdca26"
             ],
             [
              1,
              "#f0f921"
             ]
            ],
            "type": "heatmap"
           }
          ],
          "histogram": [
           {
            "marker": {
             "pattern": {
              "fillmode": "overlay",
              "size": 10,
              "solidity": 0.2
             }
            },
            "type": "histogram"
           }
          ],
          "histogram2d": [
           {
            "colorbar": {
             "outlinewidth": 0,
             "ticks": ""
            },
            "colorscale": [
             [
              0,
              "#0d0887"
             ],
             [
              0.1111111111111111,
              "#46039f"
             ],
             [
              0.2222222222222222,
              "#7201a8"
             ],
             [
              0.3333333333333333,
              "#9c179e"
             ],
             [
              0.4444444444444444,
              "#bd3786"
             ],
             [
              0.5555555555555556,
              "#d8576b"
             ],
             [
              0.6666666666666666,
              "#ed7953"
             ],
             [
              0.7777777777777778,
              "#fb9f3a"
             ],
             [
              0.8888888888888888,
              "#fdca26"
             ],
             [
              1,
              "#f0f921"
             ]
            ],
            "type": "histogram2d"
           }
          ],
          "histogram2dcontour": [
           {
            "colorbar": {
             "outlinewidth": 0,
             "ticks": ""
            },
            "colorscale": [
             [
              0,
              "#0d0887"
             ],
             [
              0.1111111111111111,
              "#46039f"
             ],
             [
              0.2222222222222222,
              "#7201a8"
             ],
             [
              0.3333333333333333,
              "#9c179e"
             ],
             [
              0.4444444444444444,
              "#bd3786"
             ],
             [
              0.5555555555555556,
              "#d8576b"
             ],
             [
              0.6666666666666666,
              "#ed7953"
             ],
             [
              0.7777777777777778,
              "#fb9f3a"
             ],
             [
              0.8888888888888888,
              "#fdca26"
             ],
             [
              1,
              "#f0f921"
             ]
            ],
            "type": "histogram2dcontour"
           }
          ],
          "mesh3d": [
           {
            "colorbar": {
             "outlinewidth": 0,
             "ticks": ""
            },
            "type": "mesh3d"
           }
          ],
          "parcoords": [
           {
            "line": {
             "colorbar": {
              "outlinewidth": 0,
              "ticks": ""
             }
            },
            "type": "parcoords"
           }
          ],
          "pie": [
           {
            "automargin": true,
            "type": "pie"
           }
          ],
          "scatter": [
           {
            "fillpattern": {
             "fillmode": "overlay",
             "size": 10,
             "solidity": 0.2
            },
            "type": "scatter"
           }
          ],
          "scatter3d": [
           {
            "line": {
             "colorbar": {
              "outlinewidth": 0,
              "ticks": ""
             }
            },
            "marker": {
             "colorbar": {
              "outlinewidth": 0,
              "ticks": ""
             }
            },
            "type": "scatter3d"
           }
          ],
          "scattercarpet": [
           {
            "marker": {
             "colorbar": {
              "outlinewidth": 0,
              "ticks": ""
             }
            },
            "type": "scattercarpet"
           }
          ],
          "scattergeo": [
           {
            "marker": {
             "colorbar": {
              "outlinewidth": 0,
              "ticks": ""
             }
            },
            "type": "scattergeo"
           }
          ],
          "scattergl": [
           {
            "marker": {
             "colorbar": {
              "outlinewidth": 0,
              "ticks": ""
             }
            },
            "type": "scattergl"
           }
          ],
          "scattermap": [
           {
            "marker": {
             "colorbar": {
              "outlinewidth": 0,
              "ticks": ""
             }
            },
            "type": "scattermap"
           }
          ],
          "scattermapbox": [
           {
            "marker": {
             "colorbar": {
              "outlinewidth": 0,
              "ticks": ""
             }
            },
            "type": "scattermapbox"
           }
          ],
          "scatterpolar": [
           {
            "marker": {
             "colorbar": {
              "outlinewidth": 0,
              "ticks": ""
             }
            },
            "type": "scatterpolar"
           }
          ],
          "scatterpolargl": [
           {
            "marker": {
             "colorbar": {
              "outlinewidth": 0,
              "ticks": ""
             }
            },
            "type": "scatterpolargl"
           }
          ],
          "scatterternary": [
           {
            "marker": {
             "colorbar": {
              "outlinewidth": 0,
              "ticks": ""
             }
            },
            "type": "scatterternary"
           }
          ],
          "surface": [
           {
            "colorbar": {
             "outlinewidth": 0,
             "ticks": ""
            },
            "colorscale": [
             [
              0,
              "#0d0887"
             ],
             [
              0.1111111111111111,
              "#46039f"
             ],
             [
              0.2222222222222222,
              "#7201a8"
             ],
             [
              0.3333333333333333,
              "#9c179e"
             ],
             [
              0.4444444444444444,
              "#bd3786"
             ],
             [
              0.5555555555555556,
              "#d8576b"
             ],
             [
              0.6666666666666666,
              "#ed7953"
             ],
             [
              0.7777777777777778,
              "#fb9f3a"
             ],
             [
              0.8888888888888888,
              "#fdca26"
             ],
             [
              1,
              "#f0f921"
             ]
            ],
            "type": "surface"
           }
          ],
          "table": [
           {
            "cells": {
             "fill": {
              "color": "#EBF0F8"
             },
             "line": {
              "color": "white"
             }
            },
            "header": {
             "fill": {
              "color": "#C8D4E3"
             },
             "line": {
              "color": "white"
             }
            },
            "type": "table"
           }
          ]
         },
         "layout": {
          "annotationdefaults": {
           "arrowcolor": "#2a3f5f",
           "arrowhead": 0,
           "arrowwidth": 1
          },
          "autotypenumbers": "strict",
          "coloraxis": {
           "colorbar": {
            "outlinewidth": 0,
            "ticks": ""
           }
          },
          "colorscale": {
           "diverging": [
            [
             0,
             "#8e0152"
            ],
            [
             0.1,
             "#c51b7d"
            ],
            [
             0.2,
             "#de77ae"
            ],
            [
             0.3,
             "#f1b6da"
            ],
            [
             0.4,
             "#fde0ef"
            ],
            [
             0.5,
             "#f7f7f7"
            ],
            [
             0.6,
             "#e6f5d0"
            ],
            [
             0.7,
             "#b8e186"
            ],
            [
             0.8,
             "#7fbc41"
            ],
            [
             0.9,
             "#4d9221"
            ],
            [
             1,
             "#276419"
            ]
           ],
           "sequential": [
            [
             0,
             "#0d0887"
            ],
            [
             0.1111111111111111,
             "#46039f"
            ],
            [
             0.2222222222222222,
             "#7201a8"
            ],
            [
             0.3333333333333333,
             "#9c179e"
            ],
            [
             0.4444444444444444,
             "#bd3786"
            ],
            [
             0.5555555555555556,
             "#d8576b"
            ],
            [
             0.6666666666666666,
             "#ed7953"
            ],
            [
             0.7777777777777778,
             "#fb9f3a"
            ],
            [
             0.8888888888888888,
             "#fdca26"
            ],
            [
             1,
             "#f0f921"
            ]
           ],
           "sequentialminus": [
            [
             0,
             "#0d0887"
            ],
            [
             0.1111111111111111,
             "#46039f"
            ],
            [
             0.2222222222222222,
             "#7201a8"
            ],
            [
             0.3333333333333333,
             "#9c179e"
            ],
            [
             0.4444444444444444,
             "#bd3786"
            ],
            [
             0.5555555555555556,
             "#d8576b"
            ],
            [
             0.6666666666666666,
             "#ed7953"
            ],
            [
             0.7777777777777778,
             "#fb9f3a"
            ],
            [
             0.8888888888888888,
             "#fdca26"
            ],
            [
             1,
             "#f0f921"
            ]
           ]
          },
          "colorway": [
           "#636efa",
           "#EF553B",
           "#00cc96",
           "#ab63fa",
           "#FFA15A",
           "#19d3f3",
           "#FF6692",
           "#B6E880",
           "#FF97FF",
           "#FECB52"
          ],
          "font": {
           "color": "#2a3f5f"
          },
          "geo": {
           "bgcolor": "white",
           "lakecolor": "white",
           "landcolor": "#E5ECF6",
           "showlakes": true,
           "showland": true,
           "subunitcolor": "white"
          },
          "hoverlabel": {
           "align": "left"
          },
          "hovermode": "closest",
          "mapbox": {
           "style": "light"
          },
          "paper_bgcolor": "white",
          "plot_bgcolor": "#E5ECF6",
          "polar": {
           "angularaxis": {
            "gridcolor": "white",
            "linecolor": "white",
            "ticks": ""
           },
           "bgcolor": "#E5ECF6",
           "radialaxis": {
            "gridcolor": "white",
            "linecolor": "white",
            "ticks": ""
           }
          },
          "scene": {
           "xaxis": {
            "backgroundcolor": "#E5ECF6",
            "gridcolor": "white",
            "gridwidth": 2,
            "linecolor": "white",
            "showbackground": true,
            "ticks": "",
            "zerolinecolor": "white"
           },
           "yaxis": {
            "backgroundcolor": "#E5ECF6",
            "gridcolor": "white",
            "gridwidth": 2,
            "linecolor": "white",
            "showbackground": true,
            "ticks": "",
            "zerolinecolor": "white"
           },
           "zaxis": {
            "backgroundcolor": "#E5ECF6",
            "gridcolor": "white",
            "gridwidth": 2,
            "linecolor": "white",
            "showbackground": true,
            "ticks": "",
            "zerolinecolor": "white"
           }
          },
          "shapedefaults": {
           "line": {
            "color": "#2a3f5f"
           }
          },
          "ternary": {
           "aaxis": {
            "gridcolor": "white",
            "linecolor": "white",
            "ticks": ""
           },
           "baxis": {
            "gridcolor": "white",
            "linecolor": "white",
            "ticks": ""
           },
           "bgcolor": "#E5ECF6",
           "caxis": {
            "gridcolor": "white",
            "linecolor": "white",
            "ticks": ""
           }
          },
          "title": {
           "x": 0.05
          },
          "xaxis": {
           "automargin": true,
           "gridcolor": "white",
           "linecolor": "white",
           "ticks": "",
           "title": {
            "standoff": 15
           },
           "zerolinecolor": "white",
           "zerolinewidth": 2
          },
          "yaxis": {
           "automargin": true,
           "gridcolor": "white",
           "linecolor": "white",
           "ticks": "",
           "title": {
            "standoff": 15
           },
           "zerolinecolor": "white",
           "zerolinewidth": 2
          }
         }
        },
        "title": {
         "text": "Some sort of title"
        },
        "xaxis": {
         "anchor": "y",
         "domain": [
          0,
          1
         ],
         "title": {
          "text": "countVal_y"
         }
        },
        "yaxis": {
         "anchor": "x",
         "domain": [
          0,
          1
         ],
         "title": {
          "text": "Population"
         }
        }
       }
      }
     },
     "metadata": {},
     "output_type": "display_data"
    },
    {
     "data": {
      "text/html": [
       "<div>\n",
       "<style scoped>\n",
       "    .dataframe tbody tr th:only-of-type {\n",
       "        vertical-align: middle;\n",
       "    }\n",
       "\n",
       "    .dataframe tbody tr th {\n",
       "        vertical-align: top;\n",
       "    }\n",
       "\n",
       "    .dataframe thead th {\n",
       "        text-align: right;\n",
       "    }\n",
       "</style>\n",
       "<table border=\"1\" class=\"dataframe\">\n",
       "  <thead>\n",
       "    <tr style=\"text-align: right;\">\n",
       "      <th></th>\n",
       "      <th>Unnamed: 0</th>\n",
       "      <th>SRC_AIRPT_ID</th>\n",
       "      <th>SRCNAME</th>\n",
       "      <th>DESTIN_AIRPT_ID</th>\n",
       "      <th>DESTINNAME</th>\n",
       "      <th>seconds</th>\n",
       "      <th>meters</th>\n",
       "      <th>SRCIATA</th>\n",
       "      <th>DESTINIATA</th>\n",
       "      <th>Airport</th>\n",
       "      <th>Population</th>\n",
       "      <th>_merge</th>\n",
       "      <th>countVal_x</th>\n",
       "      <th>countVal_y</th>\n",
       "    </tr>\n",
       "  </thead>\n",
       "  <tbody>\n",
       "    <tr>\n",
       "      <th>0</th>\n",
       "      <td>0</td>\n",
       "      <td>5726</td>\n",
       "      <td>Southeast Iowa Regional Airport</td>\n",
       "      <td>3830</td>\n",
       "      <td>Chicago O'Hare International Airport</td>\n",
       "      <td>13361</td>\n",
       "      <td>386142</td>\n",
       "      <td>BRL</td>\n",
       "      <td>ORD</td>\n",
       "      <td>ORD</td>\n",
       "      <td>19161134.0</td>\n",
       "      <td>both</td>\n",
       "      <td>1</td>\n",
       "      <td>165</td>\n",
       "    </tr>\n",
       "    <tr>\n",
       "      <th>1</th>\n",
       "      <td>1</td>\n",
       "      <td>5726</td>\n",
       "      <td>Southeast Iowa Regional Airport</td>\n",
       "      <td>3678</td>\n",
       "      <td>St Louis Lambert International Airport</td>\n",
       "      <td>11518</td>\n",
       "      <td>323800</td>\n",
       "      <td>BRL</td>\n",
       "      <td>STL</td>\n",
       "      <td>STL</td>\n",
       "      <td>2828990.0</td>\n",
       "      <td>both</td>\n",
       "      <td>1</td>\n",
       "      <td>59</td>\n",
       "    </tr>\n",
       "    <tr>\n",
       "      <th>2</th>\n",
       "      <td>2</td>\n",
       "      <td>4042</td>\n",
       "      <td>Decatur Airport</td>\n",
       "      <td>3830</td>\n",
       "      <td>Chicago O'Hare International Airport</td>\n",
       "      <td>10612</td>\n",
       "      <td>313839</td>\n",
       "      <td>DEC</td>\n",
       "      <td>ORD</td>\n",
       "      <td>ORD</td>\n",
       "      <td>19161134.0</td>\n",
       "      <td>both</td>\n",
       "      <td>1</td>\n",
       "      <td>165</td>\n",
       "    </tr>\n",
       "    <tr>\n",
       "      <th>3</th>\n",
       "      <td>3</td>\n",
       "      <td>4042</td>\n",
       "      <td>Decatur Airport</td>\n",
       "      <td>3678</td>\n",
       "      <td>St Louis Lambert International Airport</td>\n",
       "      <td>8141</td>\n",
       "      <td>212301</td>\n",
       "      <td>DEC</td>\n",
       "      <td>STL</td>\n",
       "      <td>STL</td>\n",
       "      <td>2828990.0</td>\n",
       "      <td>both</td>\n",
       "      <td>1</td>\n",
       "      <td>59</td>\n",
       "    </tr>\n",
       "    <tr>\n",
       "      <th>4</th>\n",
       "      <td>4</td>\n",
       "      <td>3591</td>\n",
       "      <td>Jonesboro Municipal Airport</td>\n",
       "      <td>3678</td>\n",
       "      <td>St Louis Lambert International Airport</td>\n",
       "      <td>14302</td>\n",
       "      <td>384203</td>\n",
       "      <td>JBR</td>\n",
       "      <td>STL</td>\n",
       "      <td>STL</td>\n",
       "      <td>2828990.0</td>\n",
       "      <td>both</td>\n",
       "      <td>1</td>\n",
       "      <td>59</td>\n",
       "    </tr>\n",
       "    <tr>\n",
       "      <th>...</th>\n",
       "      <td>...</td>\n",
       "      <td>...</td>\n",
       "      <td>...</td>\n",
       "      <td>...</td>\n",
       "      <td>...</td>\n",
       "      <td>...</td>\n",
       "      <td>...</td>\n",
       "      <td>...</td>\n",
       "      <td>...</td>\n",
       "      <td>...</td>\n",
       "      <td>...</td>\n",
       "      <td>...</td>\n",
       "      <td>...</td>\n",
       "      <td>...</td>\n",
       "    </tr>\n",
       "    <tr>\n",
       "      <th>5937</th>\n",
       "      <td>11547</td>\n",
       "      <td>1824</td>\n",
       "      <td>Licenciado Benito Juarez International Airport</td>\n",
       "      <td>3731</td>\n",
       "      <td>San Diego International Airport</td>\n",
       "      <td>110370</td>\n",
       "      <td>2995729</td>\n",
       "      <td>MEX</td>\n",
       "      <td>SAN</td>\n",
       "      <td>SAN</td>\n",
       "      <td>3053793.0</td>\n",
       "      <td>both</td>\n",
       "      <td>1</td>\n",
       "      <td>52</td>\n",
       "    </tr>\n",
       "    <tr>\n",
       "      <th>5938</th>\n",
       "      <td>11548</td>\n",
       "      <td>1821</td>\n",
       "      <td>General Francisco J. Mujica International Airport</td>\n",
       "      <td>3484</td>\n",
       "      <td>Los Angeles International Airport</td>\n",
       "      <td>107664</td>\n",
       "      <td>2832013</td>\n",
       "      <td>MLM</td>\n",
       "      <td>LAX</td>\n",
       "      <td>LAX</td>\n",
       "      <td>25749594.0</td>\n",
       "      <td>both</td>\n",
       "      <td>1</td>\n",
       "      <td>106</td>\n",
       "    </tr>\n",
       "    <tr>\n",
       "      <th>5939</th>\n",
       "      <td>11549</td>\n",
       "      <td>1821</td>\n",
       "      <td>General Francisco J. Mujica International Airport</td>\n",
       "      <td>3747</td>\n",
       "      <td>Chicago Midway International Airport</td>\n",
       "      <td>114548</td>\n",
       "      <td>3204934</td>\n",
       "      <td>MLM</td>\n",
       "      <td>MDW</td>\n",
       "      <td>MDW</td>\n",
       "      <td>19161134.0</td>\n",
       "      <td>both</td>\n",
       "      <td>1</td>\n",
       "      <td>73</td>\n",
       "    </tr>\n",
       "    <tr>\n",
       "      <th>5940</th>\n",
       "      <td>11550</td>\n",
       "      <td>1855</td>\n",
       "      <td>General Leobardo C. Ruiz International Airport</td>\n",
       "      <td>3484</td>\n",
       "      <td>Los Angeles International Airport</td>\n",
       "      <td>89874</td>\n",
       "      <td>2502248</td>\n",
       "      <td>ZCL</td>\n",
       "      <td>LAX</td>\n",
       "      <td>LAX</td>\n",
       "      <td>25749594.0</td>\n",
       "      <td>both</td>\n",
       "      <td>1</td>\n",
       "      <td>106</td>\n",
       "    </tr>\n",
       "    <tr>\n",
       "      <th>5941</th>\n",
       "      <td>11551</td>\n",
       "      <td>1855</td>\n",
       "      <td>General Leobardo C. Ruiz International Airport</td>\n",
       "      <td>3747</td>\n",
       "      <td>Chicago Midway International Airport</td>\n",
       "      <td>99684</td>\n",
       "      <td>2839085</td>\n",
       "      <td>ZCL</td>\n",
       "      <td>MDW</td>\n",
       "      <td>MDW</td>\n",
       "      <td>19161134.0</td>\n",
       "      <td>both</td>\n",
       "      <td>1</td>\n",
       "      <td>73</td>\n",
       "    </tr>\n",
       "  </tbody>\n",
       "</table>\n",
       "<p>5942 rows × 14 columns</p>\n",
       "</div>"
      ],
      "text/plain": [
       "      Unnamed: 0  SRC_AIRPT_ID  \\\n",
       "0              0          5726   \n",
       "1              1          5726   \n",
       "2              2          4042   \n",
       "3              3          4042   \n",
       "4              4          3591   \n",
       "...          ...           ...   \n",
       "5937       11547          1824   \n",
       "5938       11548          1821   \n",
       "5939       11549          1821   \n",
       "5940       11550          1855   \n",
       "5941       11551          1855   \n",
       "\n",
       "                                                SRCNAME  DESTIN_AIRPT_ID  \\\n",
       "0                       Southeast Iowa Regional Airport             3830   \n",
       "1                       Southeast Iowa Regional Airport             3678   \n",
       "2                                       Decatur Airport             3830   \n",
       "3                                       Decatur Airport             3678   \n",
       "4                           Jonesboro Municipal Airport             3678   \n",
       "...                                                 ...              ...   \n",
       "5937     Licenciado Benito Juarez International Airport             3731   \n",
       "5938  General Francisco J. Mujica International Airport             3484   \n",
       "5939  General Francisco J. Mujica International Airport             3747   \n",
       "5940     General Leobardo C. Ruiz International Airport             3484   \n",
       "5941     General Leobardo C. Ruiz International Airport             3747   \n",
       "\n",
       "                                  DESTINNAME  seconds   meters SRCIATA  \\\n",
       "0       Chicago O'Hare International Airport    13361   386142     BRL   \n",
       "1     St Louis Lambert International Airport    11518   323800     BRL   \n",
       "2       Chicago O'Hare International Airport    10612   313839     DEC   \n",
       "3     St Louis Lambert International Airport     8141   212301     DEC   \n",
       "4     St Louis Lambert International Airport    14302   384203     JBR   \n",
       "...                                      ...      ...      ...     ...   \n",
       "5937         San Diego International Airport   110370  2995729     MEX   \n",
       "5938       Los Angeles International Airport   107664  2832013     MLM   \n",
       "5939    Chicago Midway International Airport   114548  3204934     MLM   \n",
       "5940       Los Angeles International Airport    89874  2502248     ZCL   \n",
       "5941    Chicago Midway International Airport    99684  2839085     ZCL   \n",
       "\n",
       "     DESTINIATA Airport  Population _merge  countVal_x  countVal_y  \n",
       "0           ORD     ORD  19161134.0   both           1         165  \n",
       "1           STL     STL   2828990.0   both           1          59  \n",
       "2           ORD     ORD  19161134.0   both           1         165  \n",
       "3           STL     STL   2828990.0   both           1          59  \n",
       "4           STL     STL   2828990.0   both           1          59  \n",
       "...         ...     ...         ...    ...         ...         ...  \n",
       "5937        SAN     SAN   3053793.0   both           1          52  \n",
       "5938        LAX     LAX  25749594.0   both           1         106  \n",
       "5939        MDW     MDW  19161134.0   both           1          73  \n",
       "5940        LAX     LAX  25749594.0   both           1         106  \n",
       "5941        MDW     MDW  19161134.0   both           1          73  \n",
       "\n",
       "[5942 rows x 14 columns]"
      ]
     },
     "execution_count": 75,
     "metadata": {},
     "output_type": "execute_result"
    }
   ],
   "source": [
    "import plotly.express as px\n",
    "import plotly.graph_objects as go\n",
    "\n",
    "usRoutesPopGraph = usRoutesPop\n",
    "\n",
    "usRoutesPopGraph['countVal'] = 1\n",
    "usRoutesPopGraph = usRoutesPopGraph.groupby('DESTINNAME')['countVal'].sum()\n",
    "usRoutesPopCnt = usRoutesPop.merge(usRoutesPopGraph, how='inner', left_on='DESTINNAME', right_on='DESTINNAME')\n",
    "\n",
    "fig = px.scatter(usRoutesPopCnt, \n",
    "              x = 'countVal_y', \n",
    "              y = 'Population',\n",
    "              title = 'Some sort of title',\n",
    "              labels = {'SRCCNT' : 'Source of Route Count', 'DESTINCNT' : 'Destination of Route Count'}\n",
    "            )\n",
    "\n",
    "fig.show()"
   ]
  },
  {
   "cell_type": "code",
   "execution_count": 72,
   "metadata": {},
   "outputs": [
    {
     "data": {
      "application/vnd.plotly.v1+json": {
       "config": {
        "plotlyServerURL": "https://plot.ly"
       },
       "data": [
        {
         "hovertemplate": "Passengers=%{x}<br>Flights=%{y}<extra></extra>",
         "legendgroup": "",
         "marker": {
          "color": "#636efa",
          "symbol": "circle"
         },
         "mode": "markers",
         "name": "",
         "showlegend": false,
         "type": "scattergl",
         "x": {
          "bdata": "q6qqqqoqNEDUAsYkDg6IQO0b1r5hzYJAncEKncEAkUAAAAAAAAD4fw3lNZTXUCxAERERERH5hkA+3uM93h+HQGX3G2X3kZBAAAAAAAAA+H8AAAAAAAD4fwrkn1XG2YVAKo8OvOe/nEAAAAAAAAD4fwAAAAAAAAAAfWejvrOZiEAAAAAAAAAzQAAAAAAAAPh/rthfdk/Gg0AAAAAAAAD4fwAAAAAAAPh/pmbD/i5anUAAAAAAAAD4fwAAAAAAAAAAq6qqqqqqiEAAAAAAAAAoQAAAAAAAAPh/AAAAAAAA+H8AAAAAAAD4fwAAAAAAAPh/AAAAAAAA+H8AAAAAAAD4fwAAAAAAAPh/AAAAAAAA+H8AAAAAAAD4fwAAAAAAAPh/AAAAAAAA+H8AAAAAAAD4fwAAAAAAAPh/AAAAAAAA+H8AAAAAAAD4fwAAAAAAAPh/AAAAAAAA+H8AAAAAAAD4f51krpTfaHdAAAAAAAAA+H9paWlpaaliQAAAAAAAXHRAAAAAAAAA+H8AAAAAAAD4fwAAAAAAAPh/LWQhC1nIMEAAAAAAAAD4fwAAAAAAAPh/AAAAAAAA+H9mZmZmZmh+QC+66KKLgHNAAAAAAAAA+H8AAAAAAAD4fwAAAAAAAPh/AAAAAAAA+H8AAAAAAAD4f+vQb7YOhYBAjC666KLrbkAAAAAAAAD4fz+C+wjul3VAAAAAAAAA+H8AAAAAAAD4fwAAAAAAAPh/AAAAAAAA+H8AAAAAAAD4fwAAAAAAAPh/AAAAAAAA+H8AAAAAAAD4fw9Uzm7hVzFAAAAAAAAA+H8AAAAAAAD4f9PS0tLS+mFAAAAAAAAA+H8AAAAAAAD4fwAAAAAAAPh/AAAAAAAA+H8AAAAAAAD4fwAAAAAAAPh/AAAAAAAA+H8QBEEQBHmDQFpaWlpaGmNAAAAAAAAA+H8/h9QE4+11QAAAAAAAAPh/lnsaYbm3f0C66KKLLiZtQAAAAAAAAPh/AAAAAAAA+H+nfs8tcfJ4QB4eHh4e/l9AD3LXzxbDhkCWfQ6pCYZ1QK2FAjo2n3pA1Lm9lhxChEDfDT+qS3x4QE/sxE5sDoRAv1uThNlstEDE0K04/COZQLsStStR45lANOpxziQdnEAAAAAAAAD4f6uqqqpq7ZJAcOrS/s6wkEB/krGohtmbQBNJ2U+rQpZATm9608vZvkBxsuYJSkeqQKNlIB9VOqtAScq7P2VwsECJrxebGhmrQP4WpzXb5KdAy8Y3Q2tJoUBbhPw1OymjQOJ/4AUnibRAhJF2rEB4YUDr9q9u/wiSQDrMYQ5ztKhAYTe/hYAhgEDoeHmOF666QHpM3hsfPalA5tqBuXb2gkCpdztuaCKcQNfZF1Gt3JtAAAAAAAAA+H+XdEmXdHmmQICYxqFmLplA5B9cmNTKq0COdNhIh/V3QAAAAAAAAPh/1qtXr171nUAK0B22lS+dQJdj/wo61q9AWkb0AdWbpECzt8Uc20OoQNI7kFf3j5pABB+Gv0DOm0C5gphcQeSPQAAAAAAAAPh/AAAAAAAA+H8AAAAAAAD4f7olTv2eOKJAAAAAAAAA+H8AAAAAAAD4fwAAAAAAAPh/AAAAAAAA+H8AAAAAAAD4fwAAAAAAAPh/AAAAAAAA+H8AAAAAAAD4fwAAAAAAAPh/AAAAAAAA+H8AAAAAAAD4fwAAAAAAAPh/AAAAAAAA+H8AAAAAAAD4fwAAAAAAAPh/AAAAAAAA+H8AAAAAAAD4fwAAAAAAAPh/AAAAAAAA+H8AAAAAAAD4fwAAAAAAAPh/AAAAAAAA+H8AAAAAAAD4f0BcXex2AYNA5MePHz84lED5oPig+HiEQD+wF9PEhJxAAAAAAAAA+H8UV6Gt+DubQFo3mCKfa5VATat1j/8QYEBwBHZ2ta+aQAAAAAAAAPh/AAAAAAAA+H98GmG5pwGhQDMqozIqG4NAkjZElTpZl0DNzMzMzEw5QCo6buX5LKFAAAAAAAAA+H8AAAAAAAD4fwAAAAAAAPh/AAAAAAAA+H8AAAAAAAD4fwAAAAAAAPh/AAAAAAAA+H8AAAAAAAD4f0qvvzgZFJ5AZmZmZmZTnUAAAAAAAABLQIZgHW1eV7JAHtvI4g9LxUCtsDmQaG+jQAbOwvNjdJ1AQTIKHA3om0AAAAAAAAD4fwQ/8AM/oKFAvHVeAY1LiUCmpaWlpUGPQKGgoKCgmKRAm/cpLhn0m0AAAAAAAEBfQNdaa601OKNA1xsyWqLrsEAY9+uSyqGUQOXRgfd8s5RA3WCKfNYdhECEkjtFC+uTQAAAAAAAAPh/iLPyE+L8mkAAAAAAAAD4f7IUYlZAG5xAAAAAAAAA+H9Mkc+6QVOKQAAAAAAAAPh/PusGU+T7lUC5BtLn1hJnQAAAAAAAAPh/AAAAAAAA+H8AAAAAAAD4f8VO7MTOYaVAAAAAAAAA+H8AAAAAAAD4fwAAAAAAAPh/tQ+SAfX4jUCWrGQlK0OXQBERERER0XRAAAAAAADxtEBi25nVUyOZQHVfHlsRmpZAAAAAAAAA+H8AAAAAAAD4f6VWaqVWimhAi5swv6txpUDf9KY3vVlkQAAAAAAAAPh/AAAAAAAA+H9XonYlqkWVQNdaa621xolAz/M8z/O8MUAAAAAAAAD4fwAAAAAAAPh/AAAAAAAA+H88re60uleSQH7xqPXBV6NADtzADdw4mUCWfQ6pCQZrQAAAAAAAAPh/AAAAAAAA+H8AAAAAAAD4fwAAAABArpRA/1UqQLUqsUBu27Zt27CXQO+99957h4lAAAAAAAAA+H8AAAAAAAD4fwAAAAAAAPh/AAAAAAAA+H8AAAAAAAD4fwAAAAAAAPh/AAAAAAAA+H9v18oJz1aRQA1jrlpizZRAAAAAAHi7n0CoJYJaIuivQAAAAAAAAPh/Ce0ltJcQjkDbtm3btl1xQAAAAAAAAPh/AAAAAAAA+H8AAAAAAAD4f6uqqqqqKjNAiqIoiqJ4lEAoQhGKUPiYQAAAAAAAAPh/VdDqSwVTlUBo8mWDJv+EQK3USq3U5pxAc08jLHfuoEAAAAAAAAD4fwAAAAAAAPh/LU8i07D5n0DQusEU+biRQBwOh8Ph9rFAxqIaZgeko0CfwnoK632dQJd4RFKDy6JAqaioqKg0okAIH3zwwZ+dQAAAAAAAEGBAkocRNn0WsUAWCCPtWEOeQJte6k5ksp1AYg5zmMPTk0AIcQ0OA2WaQMNJ3ZfHKLVACcSFmpOUl0Bi7RvWPpynQMQdcUfcEWFAAAAAAAAA+H8AAAAAAAD4fwAAAAAAAPh/I9CBbQkbmkCe76fGS4ygQAAAAAAAIV9AgQUWWGAhl0DgKLvfKHS6QD6chlBJ3LxAHh4eHh4ynkDRCpsDiceaQAAAAAAAAPh/Kf2W0m8BpEAAAAAAAAD4fwAAAAAAAPh/AAAAAAAA+H/sy/FBKfywQAAAAAAAAPh/11bGZTtKsUAAAAAAAAD4fwAAAAAAAPh/AAAAAAAA+H/I3CFzB4OwQOs2caY1w7lApiKWilgWv0CKndiJnYalQAAAAAAAkJdAAAAAAAAA+H8eHh4eHtCdQJ7YiZ3YWYtA7MRO7MT+m0AAAAAAAAD4fwAAAAAAAPh/AAAAAAAA+H8AAAAAAAD4f9XWAsIe96BAAAAAAAAA+H8AAAAAAAD4fwAAAAAAAPh/IiIiIiLiXECtG0yRz0SfQAAAAAAAAPh/i2jOGhQKq0C9hvIaSgipQKuqqqqq5pBAAAAAAAAA+H+4UCzwl9iwQJIkSZIkC6JAAAAAAAAA+H8qLhmCdfCpQGVsv6NXNn1AqACzML5DqUCzTouS+tepQE9Fmj6ok6xAur/wqSyTtkBomGeYZzmhQAAAAAAAAPh/hixkIQscqEDQNcWqfeaoQKUvewFirrBAAAAAAAAA+H8AAAAAAFCUQEWaPiisdpZAhfUU1lMggUAAAAAAAAD4f9u2bdu2LVxASN6G5G2EpEAAAAAAAAD4fwAAAAAAAPh/AAAAAAAA+H8AAAAAAAD4f1xtDE13JKZAAAAAAAAA+H+oEZZ7GuFgQFVVVVXlArZAAAAAAAAA+H8kFnCnP6SmQAAAAAAAAPh/QV/QF7R+xkCaK87v7We/QJuu6ZquF6hAAAAAAAAA+H/fMTWwdxCrQO0ZiEpH3KhAAAAAAAAA+H8AAAAAAAD4fwAAAAAAAPh/AAAAAAAA+H8AAAAAAAD4fwAAAAAAAPh/AAAAAAAA+H8AAAAAAAD4fwAAAAAAAPh/AAAAAAAA+H8AAAAAAAD4fwAAAAAAAPh/kdIjS+J7p0BfXQFcpbK0QKuqqqqqrpJAAAAAAAAA+H8AAAAAAAD4f+6cPvuBMJxAoryG8hoCkkCcAaHkzqPIQAAAAAAAAPh/AAAAAAAVkECrqqqqqgqRQJ91gyny5adAJ2fVbQXxsEDFnrTwVdOwQAAAAAAAAPh/KeplJNalvkAXXXTRRZqjQAAAAAAAAPh/BVRABVT0p0CYU/ByCpKKQAAAAAAAAPh/AAAAAAAA+H8AAAAAAAD4fyZO/Z5bYapAq6qqqqoSf0AcaRG5pSepQAAAAAAAAPh/AAAAAAC3k0AAAAAAAAD4f28Rm8Fb5qtACe0ltJe4rUCXlpaWFgStQAAAAAAAAPh/AAAAAAAA+H8AAAAAAAD4fwAAAAAAAPh/zyR6zyQOnkDIjx8//sGtQAAAAAAAAPh/AAAAAAAA+H8AAAAAAAD4f53WJcArXo9AexSuR2HsqkC5kAu5kMejQJ1zzjnntZVAEayjzTtNnEBBw0ndl8GUQESP78KBtbRAFZcMwfpwsUAAAAAAALiFQAAAAAAAAPh/AAAAAAAA+H/lNZTX0HuYQJtDwciw8LFARhdddNFFWEAu3/It39J8QAAAAAAAAPh/GutDY33Yh0AAAAAAAAD4fwAAAAAAsE5AAAAAAAAA+H8AAAAAAAD4fwAAAAAAAPh/AAAAAAAA+H8AAAAAAAD4fwAAAAAAAPh/AAAAAAAA+H8AAAAAAAD4f6wUE3RXZ5ZA8HIKXs7xlUCO4ziO42qdQHNmObOc+ZBAAAAAAHDXmUCqqampqXugQB3UQR3UcZ1AxMPDw8P7nkAppZRSSnGFQFmoCqcA4ZNAbRj/EnFpjUBiJ3Ziz2inQDwdMuhEAZ9ASvWVzM+EoUArSBxee/OiQNJoNBqNboxAzK3OSMWcn0AiIiIiokOBQIWW+Ey5H5RAUYPdmYymk0D3NMJyT0ONQMXsz4fTVqRAB1qRC12jqkBUO7VTO1OZQGjK3TtXR4lAyFYEDSfRkkDFTuzETixoQPv0UoDuAplAQVyoOQm0lkCO4ziOY3qQQAAAAAAAAPh/AAAAAAAA+H+OdNhIh810QEbmST0bUJVA/0svNnw9qkCFgG3tJvaqQESqrKDc8INADw8PDw/PikACExlSnaOrQB/qoR4qYqRA8xlnATaOtUAAAAAAAAD4fwAAAADQ+I9AdmIndmIWnkAcx3Ecpz6hQAKWbb4cQJlAo6nza09AnEDShLyw1XS5QPrLPsYr5aFAuQaHgeSmkUAAAAAAAAD4f3KvzO7rnaVAGHluGHnQpEDa2dnZ2Z+sQHvH1MDeHaBAHNuMWgNJjkBCmWcVNQqaQAAAAAAAaH5AZmZmZmYGa0BVVVVV1QJ5QG2hAUt6pZ5A16NwPQqTekB+ZkWtA3iSQCVTMiVTOqFAIYGae/y5kEAAAAAAAAD4f3EWClI1YpFAirMQwKB8nkABGX6oRmqWQDvKwsDuKphAm6544naLoUCl66tLIkGZQFVVVVVVKY9AAAAAAAAA+H8AAAAAAAD4fwV5SpAnK6VAPOKOuCOemUC08PyYHuKQQHnO/kkUxKVArJs54gO8l0BsdtQipK6nQIfFRBFjFaRAAAAAAAAA+H9gEiHVsjaYQE8jLPc0eaZA4Yq06n0gpEDFV3zFtxuhQGlpaWlpX7ZA5rEVQUPRtEDKf/pweWupQF100UUXXKFAw+TzT5UarkC9mnhWNPqTQO+NIpO04KFAZ0t1tlRDkkCSPOeRPJedQBPZTWQ366RAH84TKWiulUDfvJp4VjydQBcbXGxwmZtAAAAAAAAA+H8FkzkIuE2zQORLzkJdsbdA33vvvXfflUB8bcS69AitQJLVZdgrNY1AZptScwtGlECsH3RU4AedQAbc6Y9YWZNAIjcZQ9WvkUA/oDr21kZ0QKpNbWpTK4NANcF4K/s8qUAAAAAAAAD4fwAAAAAAAPh/TobGI5aCk0Cwltu4BpSVQJZlWZZl8XNADcdGBZ1zk0BSWti4wDKQQCoEmkIgM5xAIw6dtA+QlUASmYbtZjOQQIQ6qIM61ptA16NwPQo3m0BhvJV9DmWTQOs2caa1259ATfgz4c+sjUAAAAAAQCegQKUKbNVP+pJA4NXiJsw3kkCGI3MC3i2sQFvSlrQlCaNAewntJXQ0nEDUdzbqO/OYQI/ICcLdCphA6k1vetObX0CamZmZ+R+dQCOfdYMpIKFAAAAAAAAA+H8AAAAAABSRQB/Yj9RlsJlAcXFxcXHZjkCUcprY5IaaQJdv+ZZvfZNACjKbao11k0CDNEiDNHmVQHh4eHh42pVA18Grni7Dm0AAAAAAAIRmQO2JDKT3D5dA9DzP87x4k0BGZ3RGZ4KZQPzpe+dspaRA8J+YI9O/lEA3dHWs3ViVQAAAAAAAAPh/R6Boq8Gnk0CJzp4PYtyhQLYDc+3AiJNAzqYwzqYEnkAq+bGj4imXQIM0SIN02ppAAwz5HtOSlkCUj04+OoGLQLmCmFxBv55AsWfVsGd5n0C9J3QYIIKSQPAvoyCgtqJAAAAAAAAA+H88PDw8vF+mQJIkSZLEMqRAAAAAAAAA+H8ppK95KhmbQEg7PxDNF6FAdHgFdu2ZsUAAAAAAAAD4f6uqqqoqJIxAAAAAAMD+lkAAAAAAAAD4f180KsnNkKJAd8FfxQl0qkAiPVA5u5WDQOVGnQ/Eg5dAAAAAAAAA+H8p2AvMRh+hQFPWlDXltphA7mmE5Z7Ao0AM+oK+YJGWQKftMCjqGJJANxXNE2r3k0DPHIwG2jexQC1PItOwc6RAJOtceUDGlUBLf4nNPWaWQHsJ7SW0n5VAAAAAAAAA+H+jiy66aK64QL525qfpaLRAkEcNKgU/oUAAAAAAAAD4f2dCdj2gxJ1AG/2hkFwwkECFsVlQ7YOVQA3lNZRXW5JAvXr16tV7jUAAAAAAAAD4f0p2baJkn5tAaod9K5xmlUCO3MiN3ImmQDMzMzOz/ppALWQhC1lYYkDZiZ3YiUGcQAJNIdAUgpdAjDhReVoEo0AAAAAAAAD4fwAAAAAAAAAAjbDc04iJnEAAAAAAILCSQAiCIAgCm6NArS7DXulPmUA9UDm7hTGrQGkZH3oqNKhAAAAAgLYSv0A2lNdQXs6gQFMieKS/QaFAAAAAAAAA+H8LWn2poFORQGIYhmEYxoZA8RQ0Y5jjlkCYTqQVPPeSQGRwPgbnI19AAAAAAADOa0BmZmZmZuZzQLsvj60IhplAoTSbbvwOq0AIgiAIgt+lQIKbqdrbYZRAvxoT6YFLkkAbzDw4R1iZQEE0WYuYu5NA9GagDxYcpUCE8aVVsHOjQCOWilgqMn9AF4BZanE+mkCKoiiKIsCVQKqWs2AgSZZA/OwCYlNxi0D+g4kg6zOkQMhTgjwlYKZAAAAAAAAA+H9yHMdxHLeOQCMKTDq19KZAAAAAAAAA+H8AAAAAAAD4f3M1V3M1m5pA8ZWjW0tykkCvwpcbYty3QMlpvlbPuptAdIiPGR2AoEBkIQtZyEJrQAAAAAAAAPh/+umnn34bhkAAAAAAAAD4f62Ruf8Z16BADTBhhj+emkBF64gMQnWOQAYUcPqnTJhATfgz4c+Qi0BPIyz3NP6LQAAAAAAAAPh/AAAAAAAA+H8AAAAAAAD4fynxM0r8mJNAsnj2FAXOpkDZ3nVAN66PQNYNpsiH7KBAoH766adbn0ApXiCT4uakQCupyFKIRZpABqLSkT39mEC7hV+Nidi5QJYHJOtcuXRAAAAAAAAA+H/PR7bOR6KYQGetBwUrQsBAAAAAAAAA+H9hVqOIQxumQAAAAAAAAPh/AAAAAAAA+H+tt6AMq0OlQNOb3vTmT4tAzczMzIzJmUD7lQK1flK0QJqZmZmZAXNAEREREREZiUAAAAAAAAD4f8oxSILW1bJARYR1gqi5n0CgWv2rVFasQN1ginzW1Y5ASk+r+Lngm0C1uAnzO86sQEYFezb3jLhApzN3OnOdp0B9y7d8yzWXQAAAAAAAAPh/AAAAAAAA+H8rs57FqbKzQKwPjfWhMJZAAAAAAAAA+H9Vcezlh7qiQAAAAAAAAPh/tUWuMwFdsEAhCIIgCAp1QNLH1878QJdA408knNI8ekAAAAAAAIR5QD07BG4s44BAwyu8wiugjkD3hcK0fXGZQFu4cpoknqFAkc+6wRTNh0B7TaGs17ySQPuFWFEajalAPyHOyk/Ac0AAAAAAAAD4f4JRZxo30HVA5tqBuXa1i0D4qvmEF6aWQNaI/VmrCZlAZmZmZmbFdEBp5weieRukQKvBcwT6TbJA+XaQ+HbupUBGlIBFlASPQMrpE1jUXrpAs2KghDfKdUAVzJJywDKwQCprypqyRn5AwYEDB45hlEBD5I8lzQ+ZQAAAAAAAAPh/t23btm18kEAAAAAAAAD4f8RpCJV0fJBARg1/myIcrUAAAAAAAAD4f0mSJElSRJRAoUKFChUTm0AcA6u9v9mQQIiHh4eHGJxAZmZmZmZmLkC7wRT5rC+eQHqe53meT4dArvMKaNwno0BmZmZmZiCgQJy0Tj2ej6JAcYlnyidYk0APJFme64ShQFTzIHf9OaBAAAAAAAAA+H9o9si24quuQAAAAAAAAPh/Bw+Q2/VAt0B4UpD8edGyQBSuR+F60oZA6l6OVYC4kECkm3b/dNKyQAAAAAAAAPh/226SyLZvlEB9IrcJVMWQQNKeakC8C5NA+g+7S0JHokCqvHL7AoOMQKds6ENxQKRADpgAsQpDoUBsKK+h/ImTQFBIbdLToaJAWi2VVkvjl0BPLi+CTw2JQOZoXI7G3Y1AevnTFhrplEDx5YYYkG5xQLbWWmutP6NADi2ynW+6pUBFPusGU7CNQCxWIe2RjKRAHhHz4W7PukBOTk5OTiWiQERkEn4J3qNAAAAAAAAA+H8AAAAAAAD4fysVoFr9qZtA27Zt29Y4nUCUWPNK9QCTQHzwwQcfvItA1A9ZYsauoECSG7mRG8l5QBFKT34l8phAd3d3d3d3XUBo3WCKPEmiQG2xMnwjuK9Av9XG0HS2qUCPNu9TXGWVQAdT5LNuTpFAKY4A+ywKtEDNzMzMzHCVQE4yV8pvYpdAnNK8+BNvjUDFTuzETsidQA3lNZTXtHlAcm+uSJ59pEBqGQRsEYuZQJJl0jMiGYdAaJT4GSXebECOtztSCAOWQAAAAAAAAPh/ZmZmZmZOi0Bv/bv177aTQHE6YfxozaNAiJaQLO71kEAbujrWbtiWQCPkr9lRmZxAAoPEJjrznEBVVVVV1cqRQAAAAAAAAPh/2pzxK1uFk0ByHMdxHC2VQA5fonzb8LFAT+zETsw6n0C0eZ/ikkWZQJJ/wVrCb6BAt23btu2dkkCrtHZULSuaQJVSSiml5FtAdR2EgZvjqUBLzssiPjmVQJoDWsrC5ZNA+k+gO738mECoR0y02JuiQAAAAAAAAPh/2WSTTTZFj0Bu8eQWT96aQE5vetObfndAcQTYZ1l+mEAAAAAAAAD4fwAAAAAAAPh/9DzP87xJmUBRXkN5DVV1QMns6gmwGK1A3WCKfNbmmkAb47/hVDiRQMnzp3qprYdAN2oQuLOHokAAAAAAAAD4f8igWBuFdJtAp6TwEAWsmUDTAHl75tqgQHv16tWrJYxAk4zwflGznEAAAAAAAAD4f2QGjnBTGrZAhpu2w6BAikBNfnNSGeSXQAAAAAAAAPh/EFrSdR8hnUBM1znWSMuhQAAAAAAAAPh/3ciN3MiBkkDGGGOMMZKNQDxeVwXOapNA8VKYAX4+nECT6D2T6CWMQAAAAAAAAPh/GZruYL91sEBkK4KGUxGnQE/sxE48Z7FA6W1Zq2PxtUCMJb9Y8rt8QJ12V6Viwa5A3dzc3NzUlED/wqeyFASgQAlkDaP9LohAQcNJ3Ze3h0Dd0wjLPbWSQAAAAAAAAPh/AAAAAAAA+H8AAAAAAAD4fwAAAAAAAPh/AAAAAAAA+H8AAAAAAAD4f24J0/3iZ6NA2xia7mBLnkBMJK5LJMSXQH7zSw5gSZdAl+Db/BV6pEDkDwc8/viVQOUXS36xPJlAGf2shthTpECxJ+wJe/CaQIug4aTuE4RAC1nIQhamh0CKcADvOzGbQD1R/0Yov55AAAAAAAAA+H8AAAAAAAD4fwAAAAAAAPh/AAAAAAAA+H/7+vr6+kqjQDSrjqEGG7NAh/IaymuXq0AK9E5dy7SlQMTtQeq6g7VAw50z3DlXg0CE5Z5GWP6FQBeKXheKkpBA4H2caLmWhUD8uINm82WYQPabK/Hd/phA91jL0AENikC3Q3U7VDeZQAAAAAAAAPh/AAAAAAAA+H8AAAAAAAD4fwAAAAAAAPh/QsGqrRD/oEDSRnPY6iqcQMMNN9xwfZ5A7+7u7m7uokDQfi+U2JaiQNxrS/OUH6RAWZzR7mGji0AAAAAAAAD4f9u2bdt6J6BA3n91QoJIo0D341GDSpmFQAUetDhUDY5ALxxEj29ko0DZiZ3YCSesQAAAAAAAAPh/AAAAAAAA+H/btm3b9jyZQNo+UT1o/JZAnI/B+RhPmUDIQhaykN2ZQOmiiy66aGNAo4suuugSg0B+txT6kxyjQE7Byyl4k5BAkTp86PTilEDs30tbFF6zQCrE+wy2tZhAMsYYY4x1i0BsuE5QHmGQQAAAAAAAAPh/AAAAAAAA+H8PiCH8naOxQEb75Pdj0bdAU3SYbsFLqUCSRx555DSmQMVO7MRO3HtAmQ7LBKbmlUDjK77ia16gQAAAAAAAAPh//rWu0NyEoEAlSZIkSVaXQLfwqzGRVoxAI0aMGDEKkUAa4z1XQJSWQA24Yg246oxA09LS0tJrlUAAAAAAAAD4fwAAAAAAAPh/AAAAAAAA+H8Lrkr0nG61QLUhE6PVBLFAY1PDjijAskCBFmiBFmKnQBsMNEaUVaNAH4XrUbiWr0BPRmd1e++oQFVVVVVP8KRASXEE2GcItEB/H80qp+2MQAAAAAAI4KlAEogLNSfhhkAAAAAAAAD4f+UKYnIlkbVAcwpeTsGznkAAAAAAAAD4f6xyTIgF/atASiAu1JyUeUAAAAAAAAD4fwAAAAAAAPh/ZWO8jgsMpUA3Nzc3N12ZQAAAAAAAAPh/nMnvCX5qtkDVtRzc7AuqQFVVVVVVkaJAHMdxHMdej0CxEzuxE1OZQL2SotwGz6NAgvFW9jnchkD7JW6/xAmhQGB2lkv6Na5AAAAAAABweUAAAAAAAAD4f+mrXVCJNqZAvvBeeC8MnkAy7NaX5eupQOgvoL+AxaNAfbNqeojKnECjiy666FJ4QKYdzBoR4qZAsw3QpzRVs0AAAAAAAAD4f6alpaWloJtA9GzlXVa7oEDRRRdddFWzQE3YBsGprG1AAAAAALBkokCKndiJnVhgQMffzSNUja1AcZ47hhF1pkA2lNdQXvekQO3s7OzsmKNA7rk09KAwnkAAAAAAAAD4f5ZlWZZlW4hAAAAAAAAA+H8AAAAAAAD4fwAAAAAAAPh/5vxZzp9Do0AiIiIiIuiiQHlKkKcE1alAAAAAAABodECe/mnsMvOjQGmiiSaaaKhARzPIS/HAnkBKKaWUUv6mQGRr/4i0tKVAAAAAAAAA+H8+n8/nsx+oQNVKrdRKsbJAQ3M7lUdLqUAXQzpvMQSVQB6YawfmqotAAAAAAACgX0AAAAAAAAD4fwAAAAAAAPh/1qlYnYoUskA655xzbneoQL+zUd/5LbVACvO7WvzSskAAAAAAAAD4f27Ju2rF1JRAKnmVM/ufm0DZl9uRUYCmQAAAAAAAAPh/6iyms9iDm0AyMjIyMhakQJABlkA4cIxAaN1ginxeikCctP1imuGtQAqIzlf37K9AXv7OQbZNrEBGK/1+dn2vQNevFKj1O5pAtxo8R6AsnEAMS8nFviybQJp82aBJXKFAnbQPkgExo0AMRMq2Zy6WQIOlPq1g6YdAz1sM6bwBi0BPxm+X+hSSQPkEUsl5CYtAhixkIQvpY0BNOwdrlgiQQNEKmwOJLoxA1pQ1ZU0llECXlpaWljZtQAAAAAAAAPh/AAAAAAAA+H/zqRfzqbeVQAAAAAAAAD9AAAAAAAAAMEAAAAAAAAD4fwAAAAAAAPh/AAAAAAAA+H8AAAAAAAD4fwAAAAAAAPh/AAAAAAAA+H8AAAAAAAD4fwAAAAAAAPh/AAAAAAAA+H8AAAAAAAD4fwAAAAAAAPh/AAAAAAAAN0AAAAAAAAD4fwAAAAAAACZAAAAAAAAA+H8AAAAAAAD4fwAAAAAAgFVAAAAAAAAgdEAAAAAAAEBCQAAAAAAAAPh/AAAAAAAAREAAAAAAAAD4fwAAAAAAAPh/9xtl9xuhlUAAAAAAAAD4fyB0VOCLw35AVVVVVVUzcEAAAAAAAAD4f8CT1fLGiIFAAAAAAADAMEAAAAAAAAD4fwAAAAAAAPh/YGBgYGBYgEAAAAAAAAD4f1VVVVVVVUNAAAAAAAAA+H8AAAAAAAD4fwAAAAAAAPh/AAAAAAAA+H8AAAAAAAD4fwAAAAAAAEJAAAAAAACQakAAAAAAAAAuQAAAAAAAgDBAAAAAAAAA+H8AAAAAAAD4fwAAAAAAAPh/AAAAAAAA+H8AAAAAAAD4f6uqqqqqKmRAAAAAAADAQ0CrqqqqqipDQAAAAAAAAPh/AAAAAACAQ0AAAAAAAAD4fwAAAAAAAPh/q6qqqqr6ZEAAAAAAAABIQAAAAAAAgDFA6dwriVRGoUAAAAAAAAD4fwK5JgK53ohAZmZmZmZqfECrqqqqqupaQAAAAAAAAPh/tAbF017xs0DfIN8g34i3QCawaT9Z/bFAq6qqqqqqV0AAAAAAAAA2QHZiJ3ZiJ0JAAAAAAAAA+H8AAAAAAAD4fwAAAAAAAPh/zDDDDDPyqUAAAAAAAAD4f2lpaWlpXZJAAAAAAAAA+H8AAAAAAAD4f0mSJEkS1KhAqBGWe7oDp0AAAAAAAAD4fwAAAAAAAPh/9w/kcLq3pUDrYfWweqyXQNyxqQt086VA2dDweLr2rEDt3SCj8z6xQAAAAABvqqBAxEH/oYyNskByM/aHwfqbQHqOzgd4JrFAAAAAAAAA+H8AAAAAAAD4fwz4uyt2a7FA9Z2N+l45rECc/0SQ0NyuQLnh3ZKOU6VAAAAAAAAliEAAAAAAAAD4f90MWnY8E5hA8RVf8RWUk0AAAAAAAAD4f0Hy51UWN3tA4cKkhmhql0BVVVVV1QCjQF5DeQ3ldVdALFIGnm61g0AAAAAAAOhaQLgehetR+FdAvYbyGsoBqUBVVVVVVVVaQAAAAAAAAPh/LhmCdbTxrEAAAAAAAAD4fwAAAAAAAPh/AAAAAAAA+H+2YgkVmQq3QAAAAAAAAPh/AAAAAAAA+H9y3y2F/vWiQAAAAAAAAPh/AAAAAAAA+H/Tm970ph2hQFVVVVVV1U1Aq6qqqqoKWEA2ZU1ZU16VQMhCFrKQbYBAAAAAAAA1dUAAAAAAAAD4f9uszdqsdaRAAAAAAAAA+H9GF1100VGSQAAAAAAArI5AdM4555xzaEAAAAAAAAD4fwAAAAAAAPh/AAAAAAAAAAAAAAAAAC2JQAAAAAAAAPh/AAAAAAAOlUB3d3d3d3OSQFVVVVVVXZhAAAAAAABgYUBVVVVV1dmbQAAAAAAAAPh/ZmZmZmaCkkBVVVVVVaCdQAAAAACATppAAAAAAABgkUAAAAAAAOSLQAAAAAAAiIhAVVVVVVVFkEAiIiIiIoaRQAAAAAAASIpAAAAAAAAA+H9yHMdxHMdeQAAAAAAAAPh/AAAAAAAA+H9VVVVV1RqXQAAAAAAA0GJAAAAAAAAA+H/P8zzP88yVQAAAAAAAAPh/AAAAAAAA+H9VVVVVVfuSQCVJkiRJBpVAAAAAAACwYEAAAAAAAAD4f5qZmZmZRZJAAAAAAAAA+H8AAAAAAAD4fyB+B+J3SJFAAAAAAICulUDYUF5DeeGSQJqZmZmZ/ZJAk5WsZCUjlkAAAAAAAAD4f6uqqqoqOplA54dFysDEsUAAAAAAACqVQHTRRRddtJlAAAAAAAAA+H/poosuuqqTQAAAAAAAAPh/AAAAAABgZUAAAAAAAAD4fwAAAAAAAPh/tbS0tLRUjUAAAAAAAAD4f9mJndiJraBAVVVVVVVYnEBouoP9VuOaQAAAAAAAAPh/AAAAAAAA+H9LS0tLS1uQQAAAAAAAIGFAbA4kWuEXoECamZmZmWGJQAAAAAAAAPh/AAAAAMBzdEAAAAAAAAD4fzqL6Symu49AAAAAAAAA+H8AAAAAAAD4fxSuR+F6LppAAAAAAAAA+H8cx3Ecx3GJQM3MzMzMnJJAJvyZ8GdqiEAUO7ETOw17QFVVVVXV0p1AuLe3t7d7kUAAAAAAAAD4f3ZiJ3Ziv5FAVVVVVVWxkEASd8QdcYdiQJIkSZIk94dA8xrKayiPZUD3EtpLaO+HQFVVVVXVYJpA8sgjjzyym0AAAAAAAAD4f87H4HwMxpFAAAAAAADukEAAAAAAAAD4fwAAAAAAAPh/AAAAAAAA+H8AAAAAIKKUQAAAAAAAkI5AMzMzMzNPjUAAAAAAAABmQAMt0AItUIxAVVVVVVX1ikDkOI7jOIaQQKuqqqqqKpFA5DiO4ziGjEAAAAAAAAD4f4qd2ImdTJ1AAAAAAAAA+H+bbLLJJpOaQEN5DeU1JpFAmpmZmZllkUAAAAAAAAD4fzI4H4PzaaRAd3d3d3fnkUBBQUFBQZGNQNmJndiJ5Y1AAAAAAAAA+H8AAAAAAAD4fwAAAAAAAPh/AAAAAADIgkAAAAAAAAD4f3BY+4a1749AAAAAAAAA+H8AAAAAACSbQAAAAAAAcI9AAAAAAADgWkD5xZJfLIGSQAZbsAVbhpVAAAAAAECssUDi4eHh4RGMQLYO/WbrEKBA7W0xx3YrmkDHcRzHcayLQJqZmZmZ0YtAu6KuqCsqh0BkBcJIO66PQEREREREzJBAn3oxn3r1lUBmZmZmZraLQJze9KY3LYhAAAAAAAAmkEA/gvsI7muDQDuxEzuxa41Abtu2bdu9jkAAAAAAANCRQAAAAAAAAPh/3s6QmLeLiEAAAAAAAAD4fwAAAAAArGJAAAAAAAAA+H+NsNzTCKeZQLrooouu2aJAAAAAAAAA+H+3bdu27cyRQIuv+IqvfpBASt2Xx1bMlkBkIQtZyCGgQI0SP6PES55Abtu2bVtskUAAAAAAAAD4fwAAAAAApI9AZmZmZmbQlEAAAAAAUIicQAAAAAAAAExAAAAAAAAA+H+SJEmSJKmTQE/sxE7sZGZAAAAAAAAA+H8AAAAAAAD4fwAAAAAA3pBAAAAAAAAwaUAk7og74uKTQAAAAAAAAPh/Hh4eHh4WjEAAAAAAAAD4f0MWspCFyItAa6211lo3nkAAAAAAAAD4fwAAAAAAAPh/AAAAAAAA+H8AAAAAAAD4fwAAAAAAAPh/AAAAAADAYkAAAAAAAAD4f6uqqqqqNJdAqfvy2IpQmkDFTuzETmR/QAAAAAAAAPh/HMdxHMdxdUAAAAAAAAD4fwAAAAAAHZdAAAAAAADUgkAAAAAAAEBcQAAAAAAAAPh/AAAAAACQfEBmZmZmZlqPQAAAAAAAAPh/hixkIQull0AAAAAAAIRyQAAAAAAAAPh/AAAAAAAA+H8AAAAAAAD4fwAAAAAAAPh/AAAAAAAA+H8AAAAAAE6RQAAAAAAAAPh/AAAAAAAA+H8AAAAAAAD4fwAAAAAAAPh/27Zt27blcEAAAAAAAAD4fwAAAAAAAPh/ZmZmZmaWeUC3bdu2bUNzQAAAAAAA3JBAAAAAAAAA+H8AAAAAAAD4f4ZhGIZhuJVAr6G8hnLNpUAAAAAAAAD4fwAAAAAAAPh/AAAAAAAA+H8AAAAAAAD4fwAAAAAAAPh/AAAAAAAA+H8AAAAAAAD4fwAAAAAAAPh/AAAAAAAA+H8AAAAAAAD4fwAAAAAAAPh/AAAAAAAA+H8AAAAAAAD4fwAAAAAAAPh/AAAAAAAA+H8AAAAAAAD4fwAAAAAAAPh/AAAAAAAA+H8AAAAAAAD4fwAAAAAAAPh/AAAAAAAA+H8AAAAAAAD4fwAAAAAAAPh/AAAAAAAA+H8AAAAAAAD4fwAAAAAAAPh/AAAAAAAA+H8AAAAAAAD4fwAAAAAAAPh/AAAAAAAA+H8AAAAAAAD4fwAAAAAAAPh/AAAAAAAA+H8AAAAAAAD4fwAAAAAAAPh/AAAAAAAA+H8AAAAAAAD4fwAAAAAAAPh/AAAAAABAWUBVVVVV1XGTQJIkSZKkIJJA27Zt27Y9lUDbtm3bdkWUQAAAAAAAB3ZAAAAAAAAA+H8rWclKVr6cQAAAAAAAAPh/OL3pTW9OlEAAAAAAAAD4fwAAAAAAHJRAAAAAAAAA+H9fQnsJ7XuYQAAAAAAAAPh/AAAAAAAA+H+IxvrQWI+WQC1kIQtZKqBAzczMzAyRo0BVVVVVVRmOQAAAAAAAAPh/AAAAAACjiUBNf4Nu18qOQAAAAAAAAPh/AAAAAAAA+H8AAAAAAKBjQAAAAAAAAPh/oryG8hqjoEA7sRM7saePQAAAAAAAIGFAh7whb8hbdEA7sRM7sfeYQHIcx3Ec/4dAkiRJkiTRj0BXonYlapORQFVVVVVVzZNAAAAAAABgZUAndmIndgadQKiDOqiD1phAOB+D8zEUpEBP7MRO7BSOQAAAAAAAAPh/OL3pTW9+mkAzMzMzM/CUQPHw8PDw8I9AAAAAAADAZ0BJkiRJkpyLQAAAAAAAAPh/zczMzMwsgEAAAAAAAKyNQEMWspCFxJZAAAAAAAAA+H8AAAAAAAD4f8EWbMEWHJxA5DiO4zgqlEApXI/C9eyVQFyPwvUoPJZAAAAAAAAA+H+4t7e3t7+YQAAAAAAAAPh/AAAAAAAwXUDKayivobqmQAAAAAAAaINAdmIndmKTjUCrqqqqqoaSQAnLPY2wBqJAAAAAAAAA+H8AAAAAAAD4fzuxEzux/5VAmpmZmZnHkkAAAAAAAAD4fwAAAAAAAPh/AAAAAAAA+H8AAAAAAAD4f5IkSZIkIXZAAAAAAAAA+H9tHfrN1nmYQAAAAAAAAPh/AAAAAAAA+H9VVVVVVdVdQIqd2ImdDJBAzczMzMxIkkAAAAAAAAD4f7RuMEU+d6dAzczMzMzoiUAAAAAAAHiLQLdt27Ztm3xAAAAAAAAA+H8AAAAAAAD4fx1SE4y3Io1AAAAAAAAA+H8AAAAAAAD4fwAAAAAAAPh/AAAAAAAA+H8AAAAAAAD4fwAAAAAAAPh/AAAAAAAA+H8AAAAAAAD4fwAAAAAAAPh/AAAAAAAA+H9diEuDJceiQOjz+Xw+n4ZAAAAAAAAA+H8AAAAAAAD4fwAAAAAAAPh/JUmSJEnSRUCjiy666CJGQM3MzMzMLGdAAAAAAAAA+H8AAAAAAAD4fwAAAAAAAPh/AAAAAAAA+H8AAAAAAAD4f/Hw8PDwMFhAq6qqqqpqVEAAAAAAAAD4fz4ygd6pq1VAAAAAAAAA+H8AAAAAAAD4fwAAAAAAAPh/L7rooosuWEBQcckQrKNcQAAAAAAAwEZAAAAAAAAgTkAAAAAAAAAAAKuqqqqqamtAMzMzMzMzUUAAAAAAAAD4f2dBtedk7oVAAAAAAAAA+H9rTKQHKvGEQFFg0ql5EFVAAAAAAAAA+H8AAAAAAAD4f+i0gU4baFhAaC+hvSQPo0COefpoNTihQGLBpbK9x5ZACqEQCqGvokB39U3yfpGwQOTX8ev4dKNAGuKPW5dxoUCd3cKvxkaZQH5lFgehDKhAkErOyyKKr0B3szyJTEOgQEbKwNMtUqRAFBQUFBRIn0D7qgVmLIOwQHu/rPfL0JtAn4zfLvVqqECLgRLeaMqUQCHsgrDLrLFAdcwlwlNnrUD5mNJphYyoQOU1lNfQe5hAZlmWZVmOiUDyTUYctcGlQKfg5RS8/qJAA7hyRjGAnEAAAAAAAAD4f4OCgoJCNKFA7MRO7AQooEAAAAAAAAD4f6EO6qAObqZAD171dPnLn0BYfMVXfCuiQCXnZRGfUqxAQ3kN5TX4pUAw6Av6QlW0QEmSJEmS95FAOnOnM3eul0BA/B0Qf12mQJB5KRE8z6ZAzm7hV2OCe0CYDZp82YGjQBFwdSjNka1Af6S0hdc9qUD+vXUEpSWcQAAAAAAAAPh/3xx9c/TvqkBh4cicgEmoQOpNb3rTU6ZA65YFX0+3rECZMmXKlN6jQBw9wdETXJhA3wqnHfaNqkCF+JBUccOkQB9txYjEf6hAaX+0P9rDqUAAAAAAAAD4f0gEcXRoZqNA3DtStZBisUBqA5020G2SQJfSwN+8wqVAO9q8T3GEoUBo9KteLv6nQI8WIxpFcapAAAAAAAAA+H8bL90kBv2gQAJnXIsEVbRAwQmcwAmAr0AQQ/g77z+jQNEN4CnvO7BAFBQUFBTdnkAMFo7MiQW2QIlMw3azUJpAA3vH1EDGnkByHMdxCBXBQFr5CXFWw8FAqw6Vyc5fpUDrDFvi6zapQAAAAAAAAPh/JsULZFKGrkDQKPEzSt+cQAAAAAAAAPh/wDGw2vvtpUDL2H5Hr1ScQIPzMTgfR6RAspCFLCT2oECdlE8n5cKwQJIOG+mw/ZpA84RawBjKpkAd+s3WofOSQOHVMajXtbFA4QhDtmpZqUBBQUFBQdmjQCL0EHoIuZlA71NcMgTbh0Dxj9M9wPmrQLOkHBAZhqNASlcqBw0CmEAAAAAAAAD4f5MmTZo07ZVAaWlpaan7oECjKIqiKPihQCqaJ9QCmZtAAAAAAAAA+H+O3MiN3ImmQCI8KUj+dKBAQh3UQR2QokDn5ubm5vusQPMaymuo6aRAWVTD7OAVtECKndiJnbySQP5dDCrCJZpA/XtqUtGfpUCbXRwYLpumQJ9DaoLxNoJAWchCFrLEpECyUaiucJutQEoppZRS+qZASnZtomRjm0AAAAAAAAD4f5F2Ey5YaqVAXk7By6mgqUBhpacWVlKmQJ7c4sntjqtAT/mjTvmxjUDhcEJzdAWeQEAWo+OrA6ZADzhSNMTrmkDS8BECz8OrQKMyKqMyIKRATbXy5fWJpECNjIyMjOqrQAAAAAAAAPh/AAAAAGDRoUDw6V0U+OCxQLy7u7u7i5VA26+AyThYl0AGjEkcvFicQIvFYrFYsqVARIts5/uxn0AhpYopcI6pQPeaPpd8dq1AAAAAAAAA+H+UQFyoOduiQM5kNpPZqrRAY5W2wl9MokAkqKkQ7SarQLkAKoTx07pARkJp4x09oEBw1IzkJba5QOlLcWWhDJ5AA1HpyJ4Jn0AbDDRGlFWjQJ4S5ClBv7VAsrGxsbGuvUBrY2i6w9fDQG+jPxSSoadAiIeHh4cfqUAAAAAAAAD4fzZLjE+ZgLBAECMkOn1iqUD8jBI/o7qdQAAAAAAAAPh/GhoaGhrUpEAAAAAAAAD4fwAAAAAAAPh/AAAAAAAA+H8AAAAAAAD4f+F6FK5HgXdAAAAAAAAA+H8AAAAAAAD4fwAAAAAAAPh/RERERETcdUAAAAAAAAD4fwAAAAAAAPh/AAAAAAAA+H9j4Wu3PQ6eQGMKQv/oBppAbzBFPuuGeUBmZmZmZiZVQFo3mCKf5XdAAAAAAAAAAAAAAAAAAAAAAAAAAAAAAAhAy9kt/GogiEAzMzMzM5NjQAAAAAAAAPh/MBGXmzwHiEDC+Ricj8l4QAAAAAAAAPh/S9SuRO1Ce0AAAAAAAAD4fwAAAAAAAPh/AAAAAAAA+H8AAAAAAAD4f3iId4h3RJVAZ3x/pGCunUD7uLCPC+GuQKReR+p15KtAqXwY9+uAoUAAAAAAAAD4f3D4QoqAo6FApq8SxmYNlEC0MD0L0+qzQMIo4NB8RpNAgIF4pUT7tkBnGjcw6oyhQJQlsGk/wY1AAAAAAAAodkAivrlfKtSzQB8rFsUFg7hAmpmZmZlhZUAnnws8NnixQBKWexohsLdAxf+ukvg5wEBjd2yfsZi5QNUq1SrVKpxAAAAAAAAA+H/Y3hFpOLqrQLBgwYIFmrdAq2vt2VlLtUA6/UN+6g6ZQAAAAAAAAPh/GERJs/DLsUDnY3A+hiWtQLau0NzO0bNAxFn5CXGtqUAAAAAAAAD4fwo1KNSghKtAAAAAAAAA+H8AAAAAAAD4fwAAAAAAAPh/NdPIhWMbuEAAAAAAAAD4f+SzbjBF+aFAT+zETuxcl0AAAAAAAAD4fwAAAAAAAPh/AAAAAAAA+H8AAAAAAAD4fwAAAAAAAPh/AAAAAAAA+H8AAAAAAAD4fwAAAAAAAPh/GlbQNaLHqEBiJ3ZiJye1QAAAAAAAAPh/AAAAAAAA+H8AAAAAAAD4f4kQHggm1bhA1AjLPY21pEBW37rqWzerQNyQvA0JmrVAAAAAAAAA+H82PCYa7ZegQPD1VKTpo6FAo4suuugIlEDGGGOMMVqLQAAAAAAAJHZAymsor6HcZUAhhBBCCEaZQAghhBBC2aRAAAAAAAAA+H8AAAAAAAD4f1PWlDVlI6VA7UrUrkS9dkA8ZO6Q+T6xQL8SYGyLd6VAwX0E9xEApkA7sRM7scmYQFVVVVVVrXdAM6yTA3XlrkAAAAAAAAD4fwAAAAAAAPh/uYKYXEHgrUAAAAAAAAD4f7VcuKtvhqFAslmjgrmLsUBOb3rTm94sQAAAAAAAgD5AAAAAAAAA+H8AAAAAAIBFQAAAAAAAADNAAAAAAAAA+H8AAAAAAAD4f6uqqqqqqj5AAAAAAAAA+H8AAAAAAAD4fwAAAAAAAPh/AAAAAAAA+H8AAAAAAAD4fwAAAAAAAPh/AAAAAAAA+H8AAAAAAAD4fwAAAAAAAPh/AAAAAAAA+H+uL+qjrFa5QGIFXSMa7qpA/kC6xyzurkAlSZIkScp2QB3RER3Rv6JAAAAAAAAEfkAwl+Y3uFqHQG/YB/r+RbNA6Ofn52ehrUAAAAAAAAD4f1wskNQyhqJAeqL+jVDWiUBZJGLvn7WzQAAAAAAAAPh/AAAAAAAA+H+eXvhr+1S0QD0xq9MoB7dAAAAAAAAA+H8AAAAAAAD4f10bJddGqLNADou7n6Bft0AAAAAAAAD4fwAAAAAAAPh/AAAAAAAA+H8AAAAAAAD4fwAAAAAAAPh/a8qasqaKnkDcJ0cuT6imQMyl+Q2uZppAY7Og2nNyZkCiDZ8/5pSrQJ7YiZ1YRoBAAAAAAAAwVECfRljuaVR1QKMQ1Y+EJZFAvelNb/qZlUDuw3zV9YiUQAHfvJp4IqFAuTGcUecso0BkBcJIO06cQAAAAAAAAPh/+/BO6WY2dUDAhXMknmS0QGIOc5jDbHNAeYFMihfIKEAAAAAAAAD4fwAAAAAAAPh/QlYj4df3pECWqF2J2g6qQL/ZOvSbuZdAAAAAAAAA+H+rWxZ8PcGYQH9+D69paqZAAAAAAACAgEBXBA0ndRuZQLkEVfqZL5pAAAAAAAAA+H8AAAAAAAD4fwAAAAAAjGxAzO9qcRNmQ0AAAAAAAAD4fxQ7sRM7N6VA3/SmN703mkAkzZHmSMOUQC4rBkp4hZFAAAAAAAAA+H9cxGbwFuWgQP+UQabLkptAAAAAAAAA+H8AAAAAAAD4f/mWb/mWr2dAAAAAAAAAJkB8+triYKmSQDc3Nzd3raBAAAAAAAAA+H8AAAAAAAD4fwAAAAAAAPh/4IJpqBbpl0BHZBkAwzqqQAH6psKO46VALPOZyJhvq0AAAAAAAAD4fwAAAAAAAPh/AAAAAAAA+H8AAAAAAAD4fwAAAAAAAPh/pyEZTUNankAxRFg1quuaQILHmWswaJlA5MePHz90okBeAnVOuOOeQDGrUcShZZNAgXhk98HBmECyqIbZwbmaQAAAAAAAAPh/RSrzE9NlikD3Rp+HUhasQCT0A1Q5DqJAAAAAAAAA+H/2obE+NKaYQEn1HopUuaBAorE+NNbqkkB2x4stwWeWQEPUzaBlC6FAwvyuFjdxakB00UUXXXyHQKazmM5ivZVAIiIiIiKCa0CA0JKu+5yTQMX7kdN8faJAU74OSzhamkAiGERJs8ifQHda3Wl1Q5dAAAAAAAAA+H9mZmZmZvR2QE7Byyl4uW5AAAAAAAAA+H/T0tLS0u6WQOJGIArgK6ZAlhF9QHXEj0AiIiIiIhJwQFsApVoAG5pAX0S1zr5rk0BDFrKQhWxpQG6nQP9J2ohAAAAAAAAA+H/sx37sx0yRQFWi+bn9HJhAAAAAAAAA+H8AAAAAAAD4f8d18Kqnw4RAK4zSYlcgoUAAAAAAAAD4fxzHcRzH1ZtAejtDYt6Gh0AjMAIjMNyRQNFvtg79hoRAlIt43A8akUDep7hkCDGsQBWUxe8XP41AAAAAAAAgY0Ahir/Imf+vQIa2FoYUUppAsMMSjuphlEBcqEr5gNChQBLOKzq3wpFAdeuDiF2elkD3R/uj/amNQEXxSPhWvI9A3dzc3LzfpEBddNFFF010QLsStStR7YtAR6oEyJ8Cj0AAAAAAAAD4fwAAAAAAAPh/5lu+5VvXokASeAzRTgCiQP0QN1qOYZFAkYUsZCFBnEAAAAAAAAD4fzYfChiZG41A+48rtpzWg0Ce53me5xiYQPMCtOR+oJpAddf+dNdrnEAAAAAAAAD4fwAAAAAAAPh/AAAAAAAA+H8AAAAAAAD4fz0K16NwlaZAoukO9lvPpUCBK9aAK9+jQE8rL0oHO6VA0LrBFPkSmkAAAAAAAAD4f9PRqLt0/JtAAAAAAAAA+H//7FPN3zyeQEGtXylQOZdAXa2RulqblkAvob2EliKtQIr0QOXs9o5Au67rui7zkkDEw8PDwwOWQDjrpBnCF5dAAAAAAAAA+H9B6+c6m0emQFea9ooISLJAAAAAAAAA+H8AAAAAAAD4fwAAAAAAAPh/AAAAAAAA+H8AAAAAAAD4fwAAAAAAAPh/AAAAAAAA+H8AAAAAAAD4fwAAAAAAAPh/AAAAAAAA+H8AAAAAAAD4fwAAAAAAAPh/AAAAAAAA+H8AAAAAAAD4fwAAAAAAAPh/AAAAAAAA+H8AAAAAAAD4fwAAAAAAAPh/AAAAAAAA+H8AAAAAAAD4fwAAAAAAAPh/AAAAAAAA+H8AAAAAAAD4fwAAAAAAAPh/AAAAAAAA+H8AAAAAAAD4fwAAAAAAAPh/AAAAAAAA+H8AAAAAAAD4fwAAAAAAAPh/AAAAAAAA+H8AAAAAAAD4fwAAAAAAAPh/AAAAAAAA+H8AAAAAAAD4fwAAAAAAAPh/AAAAAAAA+H8AAAAAAAD4fwAAAAAAAPh/AAAAAAAA+H8AAAAAAAD4fwAAAAAAAPh/AAAAAAAA+H8AAAAAAAD4fwAAAAAAAPh/AAAAAAAA+H8AAAAAAAD4fwAAAAAAAPh/AAAAAAAA+H8AAAAAAAD4fwAAAAAAAPh/AAAAAAAA+H8AAAAAAAD4fwAAAAAAAPh/AAAAAAAA+H8AAAAAAAD4fwAAAAAAAPh/AAAAAAAA+H8AAAAAAAD4fwAAAAAAAPh/AAAAAAAA+H8AAAAAAAD4fwAAAAAAAPh/AAAAAAAA+H8AAAAAAAD4fwAAAAAAAPh/AAAAAAAA+H8AAAAAAAD4fwAAAAAAAPh/AAAAAAAA+H8AAAAAAAD4fwAAAAAAAPh/AAAAAAAA+H8AAAAAAAD4fwAAAAAAAPh/AAAAAAAA+H/RJYfHkIe5QAAAAAAAAPh/4yu+4isaiUAAAAAAAAD4fwAAAAAAAPh/3/SmN73JcUCCXYUvN2SOQGUNHHKfuKBAAaFPzKNlmUAOmnzZIOyoQAAAAAAAAPh/AAAAAAAA+H8AAAAAAAD4fwAAAAAAAPh/AAAAAAAA+H8AAAAAAAD4f9yHlHP8Ep9AAAAAABD/i0AAAAAAAAD4f8qC0QY5KJRADogM9yrpr0DVITbwGReXQEeXw4AQ/qpAMdKOFQhDmUC7KYdlZweaQGejvrPR55NAAAAAAAAA+H8mwCuWop2TQGRRZByUTaJAkoZ1pc4ImEAAAAAAAAD4f9iCLdii7Z5ADwn1rjkrkkB1dXV1lUCnQJEeqJzdwlpA3dpUnQGNoEAIpfSBogixQGRSvEAm1YFAPq4CgiEllkBaN5ginxuSQAAAAAAAAPh/gAPW92EwlkB3Ft9dMK2xQFG3uYjW/IpATxvotIGWjkBkb0L2JsCbQAN/eqpsVrZAAAAAAAAA+H/oXNqU09ybQPsoj/dLzrRASHnLNvJ0jUAAAAAAAAD4f2AQVyagQ5hAw3wkNsxhl0DXWmuttTyEQB1MVwqK2J9AUB17a8NEkEBOmN/V4j6HQL4ZWrsPO4lAAAAAAAAA+H9f/rSFBrWwQOCaxhb/oKZANrFxXmBZoEAAAAAAAAD4f6SGepYukJZAAAAAAAAA+H+IyRXE5K6bQJdyKZfyQZ1ALbwsA/Mmk0BuGLAKrYKTQAAAAAAAAPh/AAAAAAAA+H8UoQhFaC6zQAAAAAAAAPh/UYCy3bEIlUAtLS0t7SyaQAAAAAAAAPh/xWGstn5RsEAAAAAAAAD4fwAAAAAAAPh/QNof7Y9DskDchrrlge+QQAgffPDBZ61Auy+PrQhOiEABNbteZB2HQF1dXV1dfZFAAAAAAAAA+H8AAAAAAAD4fwAAAAAAAPh/AAAAAAAA+H8AAAAAAAD4fwAAAAAAAPh/AAAAAAAA+H8AAAAAAAD4fwAAAAAAAPh/XnfddddVjEAAAAAAAAD4fwAAAAAAAPh/AAAAAAAA+H88Vyd7KHGZQPtXqQDV6phAq6qqqqqidkAAAAAAAAD4fwAAAAAAAPh/AAAAAAAA+H8Dm6X/fC6bQKUvewFirrBAEg0r6BpZi0DaVy0wY4WpQHl6r2rJ1alAtEulPs94pUBxww033CSKQAAAAAAAAF5AAAAAAAAA+H8AAAAAAAD4fwAAAAAAAPh/VVVVVVUVVkAvuuiiiw5UQBgYGBgYuGRAWgloJaBdnEBREAVREE2SQAAAAAAA+oVAAAAAAAAAO0A1SIM0SAmiQOF0XAQiipVAZlmWZVlilEASzCrsG9mWQMh7vMd7CIRAtC+iWmdDlEDrK5mfRVmbQJTINGw395dAzTvzzryvlUAAAAAAAAD4fwAAAAAAAPh/AAAAAAAA+H8AAAAAAAD4fwAAAAAAAPh/AAAAAAAA+H8AAAAAAAD4fypBnhLkY6BAMbc6IxWLl0A0nNR9+RqhQGUlK1nJCnJAa67maq7KlEDgphg1fOKZQGIYhmGYJZFA7B1TA3snYkDauVQbMt2TQFxtDE13JKZA6UYx+/Pto0AAAAAAwGCbQNPS0tLSD6BAGa9OX8YvlkDkJHOl/MajQF18U+UOn5JAkRd5kRdpnUBUOrJnIGKQQOpv0O1a8ZNAAAAAAAAA+H9NOTr9tiaYQF100UVXUJdAZ1YXYauCmkC+lbi3EuuQQAAAAAAA0HNARRkBpyhErUDNzMzMzOxIQLrooovuwJVA+6iNhIEwmkAAAAAAAAD4fwKb9pMlfqBAHvkoz6jlmEBcobgVir2HQOecc845V6FA8ZWjW0tykkBCCCGEEIJ6QHBjGZSK46pABBu9KzLYlUAAAAAAAAD4fw+YPWD2xpRABZUElQS9skDoC/qCPoGTQAAAAAAAAPh/kiRJkiQfhED6psQtyRKbQDIDR7iprpdA2rECYaSNf0BL1K5E7QpiQIyyIcGA86dAAAAAAAAA+H91fu0hl9yZQC9A4S3kuYtAkat14QlWoUCMdPlp8zWTQAAAAAAAAPh/22U6eqx+n0D6559//pWfQN8xNbD3J59AEH1bA7zklEATiwN89ACRQKVZ2H2+Q5dAgEFWT/wnqkAu/GpMpCePQHPhrr5Jwp5AeTwej8ebmEAAAAAAAAD4f5L4sM4KFKpAxlvZ55BKdUAAAAAAAAD4f1LiZ5T4JZlAQi5tTAKcnEA9z/M8zwGbQNGl1GAe7KhAsPiKr/hKV0BZ8PVUpGmWQAAAAAAAAPh/AAAAAAAA+H8AAAAAAAD4f9pLaC8hbqZAAAAAAAAA+H9mZmZmZiZaQMuWLVu22JFAAAAAAAAA+H9GiZ9R4nqdQL+uulwSlqxAMzMzM/MgpEDvmBrYO4ChQAAAAAAAAPh/11prrTXyoUAJYDOQGs+rQOlWMulWIp5ASn2w4xbgnEBKw+ujttKqQAAAAAAAAPh/dVAHdVCbkkCVNKotV+WbQDhpnXq8y6tAoTlULGgqkUAAAAAAAAD4f5AfP378iZxAbhBr0jEGo0DVu2mrQ0iiQIWxWVDtOYlAAAAAAAAA+H8AAAAAAAD4f7eJM609G5ZAAAAAAAAA+H9lnJpYzsysQLBuytTR+LJAAAAAAAAA+H8AAAAAAAD4f01ZU9aU6Y5As9RolhqsqECRSa62jHqeQHfDpYYEKLFA+dMWGrAkqkAAAAAAAAD4f4wxxhhjDFlAt+QmJcDdm0BKn/RJnzygQOoO9lttrJZAAAAAAAAA+H8AAAAAAAD4fwAAAAAAAPh/tiZla1IymUAAAAAAAAD4fwHtjkY2lJZAVRTC9mEimUBjYLX3N4KZQPUueTDgXp1AxyjOdYyHnEC/pEQHw16zQFU0T6gF6qBAQNY198e8lEBddNFFV8aQQIxDFAa1pp9Ar8KXG2Lct0AAAAAAAAD4f6RwPQqXMKJAubz1kQAXkEB/We+XdUmhQDsaUKJPpKFABTsQ3mnqr0ByHMdxHIeQQAAAAAAAAPh/AAAAAAAA+H8AAAAAAAD4f1juaYTlNp1AAAAAAAAA+H+4HoXr0dmGQBMCcn4qaZNAmMdWBM0moUDn0Yf9FDuxQAAAAAAAAPh/t/1JPPhBoEB9/rXV5x2aQAAAAAAAAPh/AAAAAAAA+H8AAAAAAAD4fzc3Nzc3YZtAIdSKHu3BrEDHvkfkBFefQDfniyNj3JpAAAAAAAAA+H8AAAAAAAD4fwAAAAAAAPh/AAAAAAAA+H/AwqxGkQGgQEa8GfFmYJlAAAAAAAAA+H/07qF9VvezQAAAAAAAAPh/JJxTQjMjsEDNzMzMzPycQAAAAAAAAPh/PZJzqnCntEANyCNm4qWvQLH5Exa6npZALS0tLf2lpUAAAAAAAAD4fwAAAAAAAPh/QizrJ16KokAAAAAAAAD4fwAAAAAAAPh/UhmVUZn0qEAik311UmO0QFmRFVmRqZ9AAAAAAAAA+H8AAAAAAAD4f5JrhSDD5KlAAAAAAAAA+H92LUmvuxahQGIndmIndaBAe71er9cfkEAQOirwxZOdQAAAAAAAAPh/AAAAAAAA+H8AAAAAAAD4fxaKW6G46ZlAAAAAAAAA+H8AAAAAAAD4fwAAAAAAAPh/AAAAAAAA+H8AAAAAAAD4fwAAAAAAAPh/AAAAAAAA+H8AAAAAAAD4fyArVwfIpphAVKhQoUKVd0AAAAAAAAD4f57QeX8gwY1Ao+Q2NdfGi0AT+Hzk3qKLQF+cSk3PKJtATQRyTQQKnkAAAAAAAAD4fyjjt0s9pZFAAAAAAAAA+H8z+gcVw2+cQMdxHMdxEIRAB4+6FHSInECrqqqqquShQN9tTxWPl5tAXTsw1w58lUAeHh4e3v+UQAAAAAAAAPh/MzMzMzNDOkCpXYnalUhhQOpNb3rTmytAAAAAAIBefUC3bdu27YibQAAAAAAAAPh/MBs0+RKstkB92aDJlz2ZQDrseiZIK6xACHdj3+Ozs0AAAAAAAAD4fwAAAAAAAPh/AAAAAAAA+H8AAAAA0FGZQAAAAAAAAPh/AAAAAAAA+H8AAAAAAAD4f3ZVzIbnHKxAgdKa/OwXoEAAAAAAAAD4fx3UQR3UgXZAYjmT3oDgtUBtymkYaMeoQAAAAAAAAPh/AAAAAAAA+H8AAAAAAAD4f1ws8+dyAaVAd+7cuXOoo0AAAAAAAAD4fwAAAAAAAPh/AAAAAAAA+H827SdLYE+WQAAAAAAAAPh/4JkbyCpuoEB3rEAYaeORQCprypqyJJBAGd7XivGNmEDjXmTsTKmaQJ2Cl1Pw/plApshn3eCutkAAAAAAAAD4fwAAAAAAAPh/zs3Nzc3hoUBxV98k7yeKQOQ4juM43otAAAAAAAAA+H9yHMdxHBOgQBztYWlkqotAAAAAAAAA+H8AAAAAAAD4f3uwuAgVCaFAeLo1PyxunUCqhkC0m4KUQDUsvYgTsZtAS9SuRO2qk0CTTTbZ9FuiQPcS2ktos5dA8lHlbUE1oUBfXQFcpbK0QHopfD7wFqRAlNdQXkP5OkBoXy4EzoWxQC5FMx66yq5Aya5NlOy+k0AAAAAAAAD4fwAAAAAAAPh/7c3e7M2miUBvlab4JSeRQAAAAAAAAPh/1NroBD1tjEBRubLI1I+QQAAAAAAAAPh/AAAAAAAA+H/mnkZY7mmmQNbG0HQHe1xAAAAAAABQh0Bz5OeKWU6YQEO63ch64KZA31GJQt5KkUBTOzQr8byZQBDL+ok3XJ9A1sbQdAcPkEAAAAAAAAD4fzQ/TZdjxIZAH3JZMVCQk0DNzMzMzEyFQFAHdVAHgJdAAAAAAAAA+H8AAAAAAAD4fwAAAAAAAPh/AAAAAAAA+H9iJ3ZiJ8mEQAAAAAAAAPh/62ZfZiORlkCEbLzuBF6gQIuePCaW4plAg2rOPn0+oUCa/0ymebC2QIqd2IkdlLVA6lu15jb5j0BjCkL/6AaaQIIXz9Fw261AgxRVkKLGlkAAAAAAAAD4fwAAAAAAAPh/5LDYz9FtkEDDgktlewOQQPuGtW9YI5BAEtxHcB+xiEDjxByAooufQAAAAAAAQFpA8XxdsdEwjkCa6iPfZDyZQAAAAAAAAPh/AAAAAAAA+H9Ki097PauaQG2yySabHHNAI67VjIVCokANC6RHvDd4QKV8OimfdKpAZmZmZmY2cECFzYFEK3yVQAMzlo8YQJhAAAAAAAAA+H8bgsLxs7CeQHE9CtejcJdAbSGULYTqlEANf5ti1MSdQGy1R2y1l51AAAAAAAAA+H9JGMGJ4hujQF9fX19fFJJA4ZTmxZ+QiUAAAAAAAABZQAAAAAAAAPh/zczMzMwMWUCWaZZplnGWQB3iKlPA5pRAVUE3sm+0pUA9z/M8zy+BQAaXyvaudZtAN17UNl4uoEAnS2kCAredQIoDxYHi3KNAvxArSuNjjkDOOeecc5aAQAAAAAAAAPh/HdRBHdQHj0AAAAAAAAD4fwAAAAAAAPh/ep7neZ4jhEAAAAAAAAD4fzi8DhO5aqtAHBJmnM7ooEB/sgQ27WeFQK0bTJHPsppAGboVh3+bnUBdsIANb3WjQAAAAAAAwElAAAAAAAAA+H/aVy0wYwCwQGZmZmZmBZVAAAAAAAAA+H8AAAAAAAD4fwAAAAAAAPh/AAAAAAAA+H8AAAAAAAD4fwAAAAAAAPh/AAAAAAAA+H8AAAAAAAD4fwAAAAAAAPh/AAAAAAAA+H8AAAAAAAD4fwAAAAAAAPh/AAAAAAAA+H8AAAAAAAD4fwAAAAAAAPh/q6qqqgJCkEDFnrTwVdOwQLgeheuRgZpAsZaiw3QzoECvobyG8uuXQAHXNLb4UadApskAc5YRnkDCcwSKtlasQJTzzlAn36tAlwt39U1WikAhJlcQ01maQKHGuvbpc6VAAAAAAAAA+H8AAAAAAAD4f0Omrr/SVYtAcAnZf3yzpEBw+ZZv+eSgQAAAAAAAAPh/BoQ9FkXBnUDkBgJqWzOOQL2h5U5EUaBAU/wn7WxatEAAAAAAAAD4f83MzMzM3HRAa4EZy0fomkDew9a3AW+TQIPzMTgfo4NApAw83ZqJkkAAAAAAAAD4fwAAAAAAAPh/AAAAAAAA+H8AAAAAAAD4fwAAAAAAAPh/AAAAAAAA+H8AAAAAAAD4fwAAAAAAAPh/Wa+sV9aDl0DF0x5XAQOdQGK44uUtyqtAAAAAAAAA+H8qmZIpmTKBQGgq1x0v8KJAAAAAAAAA+H9pSsXZh/2aQD+gOvbWGphA/xsZ352Tm0DQv7b6/KGcQHijqfMrQ6BAAAAAAAAA+H/IQhaykFGMQIQ5uut0pI9AEgx/6GY6g0AOePzhgP+fQAAAAAAAAPh/96K18hnAqEC84K/ihFiNQPECmRQvhJpAq3gnP5iTjEB2Xdd13a6TQGLdlvkIGZdAAAAAAAAA+H8AAAAAAAD4fwAAAAAAAPh/AAAAAAAA+H8AAAAAAAD4fwAAAAAAAPh/AAAAAAAA+H8WspCFfKCyQExEoWq2mqpASGDPNNTzs0ClIec+uwyXQPtBRwW+4JVACR66MqdcqkDg1eImzBuTQIu6oq6oa5pAInBjGZQ8nkBItMLmQHCbQGps8Y+y9J5AAAAAAAAA+H/vKdJVkECjQM/zPM/zFadAHR+9DJyToUBkrHhUbsKjQE0mk8lkbqJAnJCSZxmBmEA2lNdQXsNJQAAAAAAAAPh/AAAAAAAA+H8AAAAAAAD4fwAAAAAAAPh/c0KltTrNsUDKyxwdBCGwQJNF++T35KtAHKiysVRhtECZeSgp3QmoQAAAAAAAAPh/juM4jiPOl0DAxWnN9murQHhSkPx5bZRAAAAAAAAA+H8AAAAAAAD4f1ViKjEVRqJAGmG5pxFOiEAtLS0tLR+XQHNketnKIqJAw+ePOUonl0BhC7ZgC+CvQGorqa2kVp1AAAAAAAAA+H9kNExARi6wQOhKA+TtqZdAAAAAAADMi0DwcgpeTq2bQAAAAAAAAPh/rvF384g+pkA4pXnxJ36XQAAAAAAAAPh/UC5OUC7EtUDRWzoNdw+cQAAAAAAAPVxAAAAAAAAA+H8AAAAAAAD4f5qZmZl5/K9AAAAAAAAA+H8AAAAAAAD4f5qZmZkZrqNAkHFBxgXBl0BmZmZmZuZdQD0K16OwYalAs3XoN1vrhUBdlmrQeTGlQAAAAADQq6FAePTK2B5ppkDz5cuXLw+dQB8X9nGhM7VAferFfOplikAAAAAAAAD4fwAAAAAAAPh/AAAAAAAA+H8AAAAAAAD4fwAAAAAAAPh/AAAAAAAA+H8yMjIyMrp2QAAAAAAAAPh/HhhzsOu7kkCAFB07JIylQInwpCA50KFAZGpg75gOpkCTbhSzP099QE2egOh87ZpAYQu2YAuDqUDokJpgHMOuQJ1XQONuoJRAAAAAAAAA+H/xSyKkWjOzQITlnkb4U7RAAAAAAAAA+H8AAAAAAAD4fxQPbqNCHaFADE6elFMum0BVVFFFFa+gQFbtwW5JGrZAAAAAAAAA+H/1WsEnjoiRQGMdgBY6AYxA5TWU11AymkDxmzuQEe+IQCABEiABqplAMopzHaNnnEAZsInp9oisQAAAAAAA+GJAi+yfxd/DqEB8qMKiAQeqQBRlfXeoG5dAgG8dQWl0n0Cix3fhID6SQBLfDhLf0JdAyZ6BqHQwkUAAAAAAAIBPQNaYSA80kqBAv+eWOHXQoEAb6bCRDquIQL733ntvPZBAAAAAAAAA+H+B3qlrOQyIQDKIPHAViZhAz/M8z/NonkAAAAAAAAD4fwAAAAAAAPh/Iyz3NMKyj0AIjbzzt0iaQMh34SB6cJZAnAjZvYm8k0Bx2mHfCs+EQBRFURTFgYpANWw3y5N6vUCeI1C0lTuwQKie7wDqFJdA/a4WN2EClEDrBlPks8qTQJqZmZmZmUtA34gCk06JnEDGYrFYLD6YQPjqkZgRRptAA1HpyJ7BUUA2tlGF2ZuhQPAH/AF/jJ5AAAAAAAAA+H8AAAAAAAD4f6uqqqoqTaRAQ83f15IHt0DtELixDCCpQCThMKJroq5AiIeHh4ctkUArkYYIHe6cQAAAAAAwsIxAgEkQZfaCj0BpjdZojfuYQCJfzZOSL6JAhsfpr+SKm0BvOJOslTa+QDdyIzdyfaFA4ABTzTGXo0BUxwcYYSutQP/q9q9uhZpACyeoRaMpoECrqqqqqqqfQPZ6vV6v65NAAAAAAAAgakA7sRM7MbSWQAEp7UZA+p5AX19fX1/PgEAgu7AYCXetQGZmZmZmxk1A8z7FJUMsiECrqqqqqr6DQFuwBVuwO5ZAC8AgvW1UnEDzZdB8GSyeQH1BX9APJrJAofFPkwxukEBjDbhiDfCjQNknbNx6EaZA/Vf9V/0bmEAgEF02inyrQAAAAAAAAPh/ZmZmZi46sUDHz63n42C5QKSvBDcBz5lALfR9aYgUy0CDNEiDNHaEQL9bk4TZbLRASdcDvJletUCWdJIyTK6nQK+hvIby9q5A6VksmsKKo0C7xunr6BGRQClcj8I1LZJAhQoVKlQlh0Cl7stjKxafQDMzMzMzp4FAAAAAAABFj0AarNAZ7GukQDs6k2pHD5NAy5CpDJmCmUB8OdsC2FeZQIeY5wNwWZ5AXI/C9cgvl0CE3epuEnqoQD/pkz6JsJhAgIF4pUT7tkCfs0pXGP2EQE8CyM1BrqRA29QRfdForUBf1YCR79KIQLvXve41PpZAeiqF9DU3iUAcnXslka6RQIJ1tHmfDH5AJCQkJCS0mkC3bdu2bQt8QFtowJJeToRAWUkuImAalEAtLS0tLeuEQIiHh4eH131A8Q7xDvHmjEB1ZM9AVOeWQNu2bdu2IYVAbtu2bds2RUCnrClryqCGQK5kkNyuIKJAt+4S3xcFkEBxR9wRdxOdQHd3d3d3729A27Zt2zZij0CXCE8KkpWaQIhmikmtBp9A8iGyKlRRmkA3ciM3cgamQLBgaPkVdo9Aksz6CneAkkC2kSCyjAejQK+gQ6ymSJRAdNbranv+nEBwmWosfUuQQPIpxP69iJJAhdLGO6q1nEDoN1uHfkObQPHfO18K2JtAW4YO2O0BiEDoBMpR/JahQCLzOFCt5Z5AVbnfqQgznEDvl/V+WQerQGwor6G8fn1AT6fT6fQun0AAAAAAAAD4fxmN9xX6f5pAxNCtOPwjmUA6gxU6g6WSQEMoWwhl95VAkatmuJ17okC7ErUrUeOZQDTqcc4kHZxAxnYJ3LsLkkAAAAAAAAD4fzuVRwfempVAAAAAAAAA+H8AAAAAAAD4fxY6gxW6AphAXF7su00dqUAAAAAAAAD4f4qrdFcbUq9AAAAAAACgU0CKsxDAoHyeQJTXUF5D3J5ACa5Lc8ppp0A58nPFLKudQPgDBaj8XbBA5vxZzp9FlUCR7JilhMmbQPyMEj+j3IhAElx/NzbhmEA4hEM4hB+YQAAAAAAAAPh/AAAAAAAA+H8yGQhep9CYQDIW1TC7bZ1Aa4iEvXmuo0A7hhoWPQqiQGqsOkHd95xA45IhWEf1nUDZoaOQ/dSkQAkvwovwYqJAQ1KsBTgptkB00UUXrR2yQEmSJEkSaZZAFcg/q4wJr0AAAAAAAAD4f7Qh/bMhhZVAgynyWTfglEB2MGal0SWiQHoGzcjTJJhAcXOKQgMdm0AAAAAAAAD4f3wH8R3Eo5NAePKDOY9/l0CE1JAcHbKpQJx+Dcbpl5lAI05UnhYSmEC8XBgctzibQJzBmFAVjqJAfvBu4PaXpEBDTxH16xmYQKuqqqqqKkpAK2L4OeO4pUAAAAAAAAD4f9ZC4oqpF7BAMzMzMzOXmkAjshHZiPiXQAAAAAAAAPh/qIyjayWDpkD9Hpc7+3uvQAOr9HXLwaVAkH70o58WokCKv8gZlm2fQFeD5wgUvZNABMiBx8gsoEAf1mKHl1GfQKLaaEyFN5pAV3M1V/NMk0AAAAAAAAD4fxCTK4jJC6VAjt4VmS+1mkB+aBtw84WgQGqlVmqlaodAAAAAAAAA+H/4/DFH6WClQOxRuB6FcbNAAAAAAAAA+H8AAAAAAAD4f1VVVVXVdaZAoryG8hoykEAAAAAAAAD4f9+RYYO4EZpAMXoujJ6HlkDebb1yDCWaQKOLLrqACrBAAAAAAAAA+H+Aonut+PGTQAAAAAAAAPh/LPc0wnJNmUAAAAAAAAD4fwAAAAAAAPh/AAAAAAAA+H/U5uuOQAKdQEdR2TxEY5hAoEg4pTlXsEDQcFL35dKJQF2CKv3M4ZlAoS/oC1o5l0CWfQ6pCQqDQPjee+8tE6dAHNa+Ye0CmkCtG0yRz8qIQFatu522pZ5A3H6J2y+Xt0AAAAAAAAAAAAAAAAAAAAAAJtF7JtHjpEBm2GIXgfaWQKRGp/ioOKlASnUXaxVSo0BZIxEQH0eaQJ9dQGwqqZxAD5QnnKSDoUAKeWGroFifQAKfHC4DlJVAAAAAAAAA+H9yoV98OWaYQJsfFikDX5pAXVFX1BXRo0BCFH+RM6iTQGL0LBZNRZtAx45kjvd1lEA+jbDc0zqTQLKQhSxkoVlA5E5XSLihlUBCq/5CKU2bQAAAAAAAwFhAa8qasqZUdEAqJrotdzudQMxUfk7Dc7FAq6qqqmrtkkDI21rsH2SVQAAAAAAgcohAkiRJkiQJeUBsKK+hvGaDQHDq0v7OsJBAzWobTvkSqUCDlh3PqYqWQBGso837PIVAGmqit3E4p0CtTc6q26qXQAItsYi2DcBAhUKhUCjMjEBl7IdA6/6pQAAAAAAAgE5A7yg2JOH5qEBGF1100a2KQMl8aeIwXoRAAAAAAAAA+H8AAAAAAAD4f1zp3oAyAYpA2Ymd2InFYUAgI6QXh1iVQAAAAAAAAPh/zC677LL7fUBg0avSmJqYQNUDz6oHqaBA6vzaQy4zokDgAhe4wAWmQM/zPM9LksxAGutDY32oWkBsptPy8XaoQHA+Budj1KVAKvDF1Q/KkkBc/aCjAjq7QMXPKPEjx7BAj8gJwt0KnEAMDAwMDOx0QAAAAAAAAPh/Dw8PDw8Hn0D5JM4Q0mO8QAAAAAAAAPh/kiRJkgS/o0AhbB/mqy2RQMPu811bJqtAybbijQVtoECamZmZmdlgQLWPEctBAp1Ah+1meRJ5lEDB06354S6bQAAAAABACZNAAAAAAAAA8D+O4ziO4xxoQAAAAAAAAPh/AAAAAAAA+H9Y90grk02UQFVVVVVV1VdAleRYlHKZpUD2obE+NG6MQAAAAAAAAPh/AAAAAAAA+H8AAAAAAAD4fwAAAAAAAPh/AAAAAAAA+H8AAAAAAAD4fwAAAAAAAPh/AAAAAAAA+H9BuBv7HraSQDMzMzMzE7hAU9aUNWVRoUAWQcNJ3cuTQAAAAAAAAPh/UUN1ks3aokArOk1f2jK+QPTz8/NzELtAIyz3NMK2qkAAAAAAAAD4f0mSJEmSfoNAyIqWgBiYskAyHnhjQHu5QDMzMzOz855AkiRJkiRtgkC1KiLo7N+iQDXHRghjyLVAAAAAAAAA+H+oTDsHaxyQQLdt27Zti3pAf5KxqIbZm0BMDewdU+yYQPZDm64mzqRAT1LIQ/BlnEBkzHFpmB2vQK+CWVKOIbBABzptoNMmiUAbymsor0O2QAAAAAAAgE1AGOYqinDQpEAAAAAAAABWQAAAAAAAAPh/AAAAAAAA+H8zxaRWvYCiQAAAAAAAAPh/AAAAAGxCpEDN0z0B7WrAQAAAAAAAAPh/gvsI7iN8lUD6zdahnzmgQNkiw0S0YK1ARKyWpPYNt0BB79S1HASCQI1QvpsjoLJAq6qqqqpqVED3rgO6MRWvQCK+uV8q1LNAVVVVVVV1VUA4nIob1biXQMn3sZo90YRAAAAAAAAA+H8AAAAAAAD4f4m43OQ5/JJAOrJnICodiEDBF1c/6BCRQAAAAAAAAPh/GgUiOHaZkUAqHdkzEGujQCfOtPbk95VAAAAAAAAA+H/WYZSp+PmrQLUGcpK5tqVA5MFaBNHGr0AGNk5aYBGqQHBzhorUcaRAOSs/IU5XrEBJhDVJhIGhQAAAAAAALq5AGfYDmCmunEBVVVVVVZVmQEUP/N97i7lAfN4NOG3Fn0B4HdCNOSGkQE2gd+paTpRA/eWIFEPVkUBfAUbyQ0WZQLWe/nUX+sJAAAAAAAAA+H/nmzyFKJCpQOzETuzEEJFAh3WlzpoaoUBdOLsCI7+9QB8rFsUFg7hA3NaKv7yJmEAAAAAAAAD4fwAAAAAAAPh/OtIcaY6Ek0DNzMzMzCiPQFp6TZDpbLdAQIeXAL5qnkAAAAAAAAD4fwAAAAAAAPh/F7jABS5CkUDaIIfeLQ6YQHYBsak03I9AcdOp7O1WrUA8zOBLzV6zQAAAAAAAAPh/AAAAAAAA+H8fMlP/k7CwQD12BOgg7bRAAAAAAAAA+H8etkScqd+0QAAAAAAAAPh/AAAAAAAA+H/MOBhOYeuwQI2J9EBlPbpACTYQOLfYsEASlnsaIbC3QI/xGI/xoIVAOc3X6llYq0Cmo8cqiSKfQAAAAAAAAPh/AAAAAAAA+H8AAAAAAAD4fwAAAAAAAPh/AAAAAAAARECMYP+S/IS5QL3pTW/6p7NAwZu0Tj1YskCe2Imd2OGPQEmSJEmSXINAAAAAAAAA+H/F/66S+DnAQNjEjU92+btA8xrKayj5mEAAAAAAAAD4fzLsX0cWSrtAep7neY47oEDp5U9b6M6gQH1p4jDW6L5AAAAAAAAA+H8AAAAAAAD4fxNJ2U+rQpZAky7pki5KsUAAAAAAAAD4f9iY+xDjy8NAHtvI4g9LxUBVVVVVVTVRQHZ7rGXoLJhATd0zdc+WtEC2b1j7homSQGN3bJ+xmLlAAAAAAAAA+H+0+ZsWitWsQE5vetPL2b5AAAAAAAAA+H9PTSr69/yiQOh5nuf5FZpAAAAAAAAA+H8OGKrpmBegQAAAAAAAAPh/AAAAAAAA+H82lNdQXjOWQAqSP6+y3ItAAAAAAADAYUCFQFMINBWMQLYJ3X3UD6JAv7FQW1Qdn0A5juM4juGfQL29RxWBm55AAAAAAFaVq0B1ah7kLlauQCi/nC7PibFAZj8P00f2pUCGuewfU/epQOUPTP7AdJ9AAAAAAAAA+H99y7d8S/ORQG04YtoTf7hAclkxUELSr0AeHh4eHqKXQIMp8lk3kpRAIjXBeCsPgED7+vr6+jKYQF5DeQ0lIp5AeDbqO5sfp0DeuSzB1oezQHGy5glKR6pArP988Xt7r0B6T0zvicl/QKNlIB9VOqtAAAAAAAAANUBT5LNusFqhQJ3FdBbTE69AiF2LllQLo0BVVVVV1WWiQPxZ7Jb6oJ5AAAAAAAAAGkAWcKc/Yv+TQEnKuz9lcLBA0DXFqn3mqEBrqXL5mc21QNG/HtIbKLFAUFQPGnn3lUDEw8PDw9+YQAAAAAAAwFBAr+u6rmubm0CMEaFqq3eXQFGEIhShbIVA3rOPzcj8mkAAAAAAAAD4fx+F61G4qYxAg5hcQUyqk0A3QRv822KNQPfItUKQYZtAYbyVfQ6Nh0APDw8PD6GJQM36M/hNlJFAKme38Gt9n0AAAAAAAAD4fzXBeCv7bJNAdov+89wkoEAaQIIxQaKZQIoJuqsUY4tAoLbQgCV7okCkSJEiReKXQMKesCfsHYNAAHmsjlzflECryaw9xv2UQKVP+qRP+IRAmRitkjdrl0CzotYBbLGMQAAAAAAAAPh/AAAAAAAA+H+CqHRkT06rQAAAAAAAAPh/AAAAAAAA+H8AAAAAAAD4fwAAAAAAAPh/g0tle9dOmUBNihfIpHiLQDiudshR+aRAhxrszmQkjkC/Wwr9STKXQC2ms5hOx51A95DLioGksECM+3VJ5WueQAAAAAAAAPh/qp8T1vDApEBJGXi6FXepQNalx/y9QbVA6B66h251q0D1A+6OneuoQP4WpzXb5KdAJKSG+9/4rkAAAAAAAAD4fyTDc5uH6aNAL3OFH3F8m0C9IlDKDzCiQH1no76z8WlAq6qqqmpclkAF463sc1iQQK4AijP4sJ9AZurjQW9PmkAs7CLKdUyuQGegDxYQKYJAVGNeiKP8lECrqqqqqvaKQP9NHCWD1Z9AXRdvqOfOk0Ah3I19j7SRQAAAAAAAAPh/AAAAAAAA+H+OsvuNskuVQH0Y9+uSJqBAJUmSJEnmgUAdgAUIgb+iQJD0+TqJ1qRATliQxGOvl0ADTN4CzAGxQCprypoy1ZlABdtFCglqn0BtPPe4zRycQAAAAACMEqhAy5YtW7b2j0CvSE9HhveaQLalpLWlbIlAgEyo2A/Gj0AuPjY6OHGhQKcCfuHWHpBAAAAAAAAA+H/Y2kfRMu6XQKvXTNGpKKBAXbItS+95m0B0DC/OQ2eBQIlOCJeo9rdAsogrya+upEDv48C+waCCQAAAAAAAAPh/MjTdwb7FsUDqMrLvRuiYQGExEkobaZ1AAAAAAAAA+H9H/GvEv72wQC4EjFLNJ6lAAAAAAAAA+H8AAAAAAH63QFVVVVVV9WRAMZq9LebgtkDLxjdDa0mhQG/L3ah95rhAuLe3t/cgsEDsRfh44d24QCtGgNKAa55AonYlald6lECamZmZubiyQH3WDaZI3phAPchdP1uApED3NMJyT1+VQKB//vnn1aJAAAAAAAAA+H8P36A3mX+zQPotBIxSNJVA3qUSZtCasUAAAAAAAAD4f1zzwyJlDIBAjC666KKLX0C9LWi0DOKtQArXo3A9EJ5AFK5H4XqOk0AAAAAAALSAQAAAAAAAAPh/n/fyea/xo0AAAAAAAAD4f51fe8hldZJAMZMU1NjXoUAcx3EcxymWQOWAyHCvRJZAymjxyidakUDAQbdr5SSnQMNHCDxzL5lA8jEnd3S1ykBVVVVVVYeFQD4aQLvGIKxA8Ae/H/xWl0DsUbgehc+SQNw7cJLSBc5AuL8yUegQw0A7HG1gSS+wQH5sRg51bJdAyz2NsNwjlkA4osCkU9NgQMrpE1jUXrpABorgO9R/w0AAAAAAAAD4f/6JawvEvLJACBkqO0znjkD3l9pfKgalQJuGQuzwiqJAgGL1Fm8SlUCzLMuyLM+GQAAAAAAAAPh/ZLKeY7KufUAPtN1bpRl+QAAAAAAAAPh/bbLJJpsUl0CSJEmSJMlKQG9ln0MqtaZAAAAAAAAATUDPWwzpvOedQERERERE5I9AIf4r9maUkEAYkzh4356VQKEXeqEXBqBAO6y8+bf/oUBCu3iKUsO9QHd3d3dXiq5AsjfQvh0ymUCR0iNL4nunQJbuDSgTdLpABw+Q2/VAt0BvPAuxiwihQGti+Pgb4LVAs88hNcHQjEA7fh2/jiiaQKpFVPJeKaBAfWisD429h0A7lF2o/hCbQNAfPm1ERqNAQ+fF0Hm2mEDSce6UxPuMQMbSZAX7GJdAAAAAAAAA+H9yYR8X9u2VQHa0eZ/icpdAchzHcRzHkEAAAAAAAAAiQHOSKiepTphAVtQ6gC3FlEBfCJ/NQm2fQFuE/DU7KaNAfdYNpsinU0BaRvQB1amhQOJ/4AUnibRAXYhLgyXHokAAAAAAAAD4f4SRdqxAeGFA6/avbv8IkkA6zGEOc7SoQGE3v4WAIYBAAAAAAAAA+H9OWwYPUkKcQAAAAAAAAPh/6Hh5jheuukAAAAAAAAD4f48gfXzt47dABqb1XVzlpUB6TN4bHz2pQHz74iBBRatA+cgEeqcWiEDm2oG5dvaCQAAAAAAAAPh/qXc7bmginEBHLkXM40ipQO1aGIuX4INA19kXUa3cm0AsViHtkYykQFTD7OAIcq5AFoB32s7xsUAeEfPhbs+6QAAAAAAAAPh/uoGsYsuKokA0YEkvfyeNQAAAAAAAAPh/AAAAAAAA+H8FsD5ZSxSjQJfrrXgwv7FAAAAAAAAA+H+XdEmXdHmmQHu9Xq/XIZpAgJjGoWYumUAlSZIkSbJMQAAAAAAAAPh/5B9cmNTKq0COdNhIh/V3QAAAAAAAAPh/AAAAAAB4kEAAAAAAAAD4fwAAAAAAAPh/XyRKjT0CnUDByJuXSMKuQAAAAAAAAPh/7ViBMNLtqEAAAAAAAAD4f+3AXDuwmJJAqZw4zyaPo0AAAAAAAKBXQDQQlY7sCptAsTmQaIVMn0DaNKBNw0ieQOpYnI7FYZFAAAAAAAAA+H8AAAAAAAD4f0LzBkLz2JVAtPwKhpYvmUD/XtqiCCKYQAqJMMHJ7HBAAAAAAAAA+H8AAAAAAAD4f1CIs/ITkpFAWpcAr9jso0BkAv7WTP+bQMBmRy1CVq9AxcVslbimrED9mr9jTNijQFzwK2wlk61Ah+6tGWkFoECqQsrkt5+iQNarV69e9Z1AJwIqsyWRs0A7LYbqOpClQArQHbaVL51AyEIWspBkpEAKwt3Y9zh3QPn0tcXBcnNAi3+U5aRLlkAAAAAAAAD4f35vDFdhoKVAAAAAAACCg0BnnMKUmHWhQAAAAAAAAAAAvYbyGsovoEBKkyZNGmK1QEVruk8f0KRAAAAAAAAA+H8g8Af8gSCsQK7sc0hNcFtAAAAAAAAA+H8Wi0z4GG+tQARscq+3yphApj4e9BbArEBNovdMolmVQD801ocWeKdA+SoXGU2htUCB8Ky9JqinQA6yueNK4a1A7JrkElTRi0A5juM4juNCQEWjN3hRwp9A3yjqq+I6o0DmGbmkNCCmQIqd2Imd5KdA+Xcuh6CUnkAAAAAAAMBCQAAAAAAAAPh/BiI0mjbHoUBlAMncHkaWQDMzMzMzqZtAQUyuICYhk0Cw1jniXCO9QAAAAAAAAPh/wkq2erB4tEDY8ZXX8QehQBB7vEu5IatAl5aWlhavrEAvXrx48RqYQJP12T2xpLBAMzMzM+MEoECQ5K/quhOxQEcQab2AhZZADbPM3ZMGm0DUPQsCjKacQHBxKdnDOaBA00QnzwrZoUAAAAAAAAD4f+xV2r9eZYpAjocOkLvqp0CwtjsL/TacQDfm6aPV7aNA0iAN0qDIn0Cx2OfubB6DQMPaN6x9uLlAL28mqH9MpUC2NCTVHlzDQMXJQ+uZf5tA6K3GKba3kEB1+OLTmaawQEchBrehdrZADnOYwxwFoEDIFo454NSWQAAAAAAAAAAAQXZhMRKTsUAk7PTdoxWjQAAAAAAAAPh/UrgehetJdkA2nPMZzS2mQE4+B3SODbBAn/8Jdy3/pUBBD9V8pAOgQOoJiZMVZ6VAxUqsxEp3o0Afg/MxuKG2QDGzUDj9Rq5A6TLXvHHRuEABakx90xqZQM9jyFimGqRAAAAAAAAA+H8AAAAAAAD4f+XZOZP9e65AU8JHGyrZm0CHtW9Y+4yuQPDxk6gz4KNATkqCADnaoUAAAAAAAAD4f0ULZ0BotrhA10yoaUfepkAAAAAAAAD4fz0lyFMC+rZAUy7lUi6pl0CnGDX8LW+0QAAAAAAAAPh/a3HeZna0qkCqeK5Zneu7QGap261iurJAL7roootuT0D06JdlE12jQADxk5LO+pZAcuvyDhgwtEBgO2Wo1UWjQPa62p7U5bVAq6qqqipImUDCBx988GCZQDFOud3fd5hAAAAAAAAA+H8AAAAAAAD4fwAAAAAAAPh/AAAAAAAA+H8AAAAAAAD4fwAAAAAAAPh/AAAAAAAA+H8AAAAAAAD4f5dj/wo61q9AWkb0AdWbpEAHLYSUJ7GvQAAAAAAAAARANKuOoQYbs0D5L6QZxq+kQLO3xRzbQ6hAdmIndmJpmkD4/DFHqXO5QCZhEibh87VAaWlpaWnFl0AZDROQ0VyYQAAAAAAAAPh/AAAAAAAA+H8+rzPAeqCPQNI7kFf3j5pAAAAAAAAA+H8AAAAAALqEQFj+ORKC441A5wYE7TSDnEDeklBD2hKUQKgRlnsaPZpAkAZpkAYRg0ChskjE3mOoQAQfhr9AzptAGdTQTQSpmEAAAAAAADCQQDzEO8Q7BH1AKBNXujcohUAQkgH1TMWFQLmCmFxB5I9ApdwWDln5k0B2OZL/fFSlQPSNaRNQ+JlAAAAAAAAA+H/yzHlHIjGeQCLZB/d3w5FAZ7fwq3EDkUDNzMzMzOSxQGibR8JIDp9AI9LsjE2VkkD61Iv51B+YQN3h9PGPfHVAbHuPxdFHk0Du94bon3KGQAAAAAAAAPh/Pc/zPE/ll0CacvfO1fWnQEob76hm8ZFAn+KSIVhJk0D9JctfsoSRQAAAAAAAAPh/nHK7v4PblEB8t/GE7y6aQJpXfsQuXIZA2NfX1xcNmUBgFMl9MruYQMJtJcfHf6BA/TKdj3byqEBaWlpaSimQQGc3QwDRbJ9AaMFYZF0SnUDFrVDcCkVyQOpm0LJjs65AAAAAAAAA+H8moAspxdumQC0tLS0t6ZpAAAAAAAAA+H/XYtybFiKlQJRtFgZzCqNAIXHF1O4doUC8Rn4XKHihQG2lstg7jZJA96MErv0ofEB6pSxDHB2YQCMUoQjFqapAPDw8PDxCjEClQK1fKWiBQE+35odFzp1A1AjLPY1slUAAAAAAAAD4fyJIualoDa1AIfHtIPEVsEAAAAAAAAD4fzqYnMETQ5ZAlcUZ7R72h0AAAAAAAAD4fwAAAAAAAPh/AAAAAAAA+H8AAAAAAAD4fwAAAAAAAPh/t23btm2XnkA0GS1e+TidQOLh4eEhYK5AqLYWEPZ4r0AAAAAAAAD4f92sQkkRz6pAd3gB1A7OtkDOtPbk37mMQMGa3KxCZZ5AKvJZN1h/oUC3bdu2bTiTQObzXj7vlYpATLh/PPRJrkCQHz9+/IeyQAAAAAAAAPh/bTabzWZ3mkAAAAAAAAD4fwAAAAAAAPh/ppk3+0cwuEAAAAAAAAD4fwAAAAAAAPh/27Zt27awoUDIfuzHfnKlQAAAAAAAAPh/9z9hIpmkqUBzwa1ywaOQQAAAAAAAAPh/AAAAAAAA+H905QHJOjeOQPB8etyM45RA2JPnpx0anUC9MEPL1jejQL2G8hrKb6ZA58gyFudnnkBQWHLAqh2XQKaNwOFKnbJAzQ+LlMFpokDNFef3dg+bQMGnbCL1bKVA8FAXVPCtpEBGkLle8/mXQEfHWRYzXJxAAAAAAGA8okAAAAAAAJhiQJ8f3F6UwJ1AHMdxHMcxRkAAAAAAAAD4fwAAAAAAAPh/AAAAAAAA+H8/ArJ4vaOeQBFeSWjS6Z1AWkb0AVXWokAAAAAAAAAyQK5H4XoUJp9AoSUmsveToEDsU+AIBGicQOzETuxU9LlArpjlyM8Em0CmpaWlpUGdQI4Mr9M7k6FAE9bCo6w0r0BrifVgW6uuQJnKjkuuwaFA1Re3WCgNmED5iq/4ygWTQHjDj+pSH6BARB9QHfvCtkBA1jX3x/KSQJytQ7/Z8n9AR75Q1+hknUA5juM4jmuRQNzO6bMfsLFAQVaxRTlPsEAOiAz3KuycQFNKKaWUfoZAqXRkz0BkhEDu2Z7t2XySQCNqPrsxmZNA1WlykHlllEBV+Alzaj6kQKAmfoNALZZA8tulnoyPkUCJnCDcjTOjQAAAAAAAAPh/AAAAAAAA+H8AAAAAAAD4fwAAAAAACINAAAAAAABAfkAmDW15SdulQAAAAAAAcFdAKavz3uQxv0AVDfHHbRuxQD8QgO/BgqdAXXTRRRetmECMLrroYgu4QPjggw8+1qpAOQUvp+CpmkASKzeuWHq3QKXOjrtHLadA3dMIyz2tjkDG9jt65bCgQKOuqCvqOnBAntiJndiPmUBJkiRJklCCQO0WfjUmcKJAXXTRRRehpkAj+oDq2HOHQAaebs0PP55ADZ4jULShlUAAAAAAAAD4fwAAAAAAAPh/AAAAAAAA+H8AAAAAAAD4fwAAAAAAAPh/AAAAAAAA+H8AAAAAAAD4f/erC2mxpqZAZodNl9WYu0CIZZYK906qQJ5rVodRpaNAqE+fPj3DtkCe2Imd2LutQLnNxnOP5bNA7MvxQSn8sEAAAAAAAAD4f6QMPN0asqBAGDnDgksdmED+e+hT/RuXQLHdLE8i+sBAruxzSM1Cs0D0d7Ja3rSWQOxRuB6F66RAujU/LFIZsUD2Sn/OdlqqQJRq8rizHLBAAAAAAACPpED3p7v2J8zBQKtnh8BN2sNAN624d9Liv0AJFG01eG6PQAAAAAAAAPh/AAAAAAAA+H/9D7EkhpebQHg1arpZgLRAWVPWlDWVq0ApXT4Ok5OwQGaK02WKUJpAMNcOzLWTfUAAAAAAAAD4f7xCGfsqcoRAMBzhLxxJl0Cg1q8UqAyVQCGYdueNKaVAFcL4W9aEkkB4jkDRVq+aQAAAAAAAAAAAIU8J8pSIk0A9wyezG5KSQBc3YX5XV5tA/44yxLCPsEDVzwlreImmQAa4SM769LpA3NU3yfuMt0C6JU79njiiQBnmz+/hArRAAAAAAAAA+H//t0/M3depQAAAAAAAQFBAaYe7rXx6pEB1WqHa5r+9QAO1fqUA/bdA1gN28tfGpUB/o+x+o3CZQAAAAAAAAPh/x3Ecx3HmnUAAAAAAAKWUQI31obE+dJJA30shN6/Pm0DoeZ7neeiCQMR4oSBX6ZpAp37PLXFqkUAAAAAAAAD4fwAAAAAAAPh/AAAAAAAA+H95DeU1lEGaQIk1quhZTqBAMVDCG02lkkAzfCMKTCJ/QIddzwTpyJdA9fbPUL1hkEAAAAAAAAD4fwAAAAAAAPh/AAAAAAAA+H87sRM7sU2wQORtLfYPh7BA+R+v6jU2s0A8HkJKDSSuQGh4hmd4kqhA9+WxFbE7qUCF61G4HsGUQGW5bfYd47ZAv8huccLvtEAAAAAAAAD4fxhTGyrck7BA55s3qGmZqUCSBfHLXcOoQAAAAAAAAPh/HxJa5VUMtUAAAAAAAAD4fyZuZC4MS7BAhCgbfdm1s0B37qNcZr21QOFWueBW77RAj60IGo5atkAAAAAAAAD4fzVp0qQJFapAvxoT6YEyrUBfKQb2A4mrQIFMihfIZKpASQrxz+jasUAEUJQ1oKinQJKNojlGG6tAkyZNmjTtlUCuL+qjrFa5QOLBm7UfVLVABaY9oF7SsEDCgfn4Gd6qQKLaaEyFe5tA24h16TGKq0A9M1hSMomoQAFnzTOa8LNABoxJHLxYnEBiBV0jGu6qQLe2KFvNl7BASzQ/t9/js0AES04XQFm1QGlBAmp2p7dAAAAAAAAA+H/sWRL0egirQDZLjE+ZgLBAAAAAAAAA+H8AAAAAAAD4fwAAAAAAAPh/AAAAAADMkkDv1Ra5TiqzQGEdbd5HiLhAAAAAAACASUDRJYfHkIe5QD0f4aWiqbJA66ZPT14fsUAGnm7NP3K2QMVQfzkiGLFAo4suuujCkkDOeP9rusGyQJbdMcIvdbNAf8HEWs85ukC5ccXoz+uzQPy8wq1IZ7NAqsRUYip3u0CBxJ79drWwQAAAAAAAAPh/NNw+COXIt0ADn+aOzcawQMazpyhANLBAO4LSbLrHskA0nNR9ubO1QJkXcBQhSa9As4hPIN0uu0D6cHcGj8+vQB7c+2EGvbJA+sygmIter0C0tYvP65KqQP7hH/7hSrlAQIPfRJ8Rt0BefD/z9pCwQNnuXDxeBbFAoQ7qoE42sECidiVqV5i0QNXCSk+NQbRAbuRGbuSqjkC4IbTqrxu1QAAAAAAAAPh/mpmZmZmZW0Af1TggkTSzQJ65gazijrRAAAAAAAC3k0AbLeaJ8T6zQCWfwT0JMbNAqA+0FoXUq0BaFDFJ9OO3QJePh6OKVrBAJd1rSjzar0AAAAAAAAD4fw26la5s6rRAAAAAAAAA+H/g4rRm+2SkQHCx6zxJprVAAAAAAAAA+H+7oBJ9tcWgQCLs365n5alAL1gcyUl0q0Dbh/mq62iiQLvT6k6r2Z9A/z01qeiHokBgnAwiDwyXQJatbGUrgrVAU/+NvSIVo0DTbGHuNt2eQFVVVVVl9LNAt23btm3Dl0DJdr6fGoOpQAWfONJraaZAzAZNvmwSpUBQwhtNnROZQI8Q9gWWFbRAAAAAAAAA+H8HV4jEkSuVQAY6aFzoXalA4U4q4U5js0BiIx02cvy5QAdpkAZJ47RA0LrBFNntrkCbQ8HIsPCxQOmiiy66dbNAAAAAAAAA+H+bg2OwPyqzQJiB5peBOL9AAAAAAAAA+H8CXDmjGDitQAXefkjgUL9APgNR6cjRr0DggQce+DCsQMI9r6So2rdAL1Wm1+3Ru0CuUigegv3AQF100UVXtLVAypRxUqKyv0BVVVVVxJu5QCsaGEzaYKVAgoUYWIhxrEAzMzMzAxW0QGIOc5gDWqNAAAAAAAAA+H8x3b1oLfy2QLmqEYjVK7FAYPVygSr8t0AtgnwJCA2tQAyzWy2jkLVABVLJeVlDsUAAAAAAAAD4f/QqizOaKb1AchXZ1ESqsUAAAAAAAAD4f5Q+6ZNWgrVAjRo1alQwqkBvQJm44um8QCIiIiLiuqxAz8L0LExYokByfiohIKOjQAz4fn0ec8BAAAAAAADATEAAAAAAAAD4f6ozXzxYeqRAxUAJbzTunUB2gynyWTmWQKIi9Y+M3bNAAAAAAAAA+H8lSZIkSRiiQPuOkAuGZ6lAxC2gMKp+m0Dvvffee9KWQI3oA6pjw5xA7og74o4MgkBDFrKQhSCVQCoL21+fE6tAapqmaZojoUBg1vtlvX+1QPXsELixiJtA2PGy8zqlskDSNBCiVGqwQAAAAAAAAPh/i2jOGhQKq0A1sHdMDWigQHf2AekxNK9Ahl+NifTxpUAAAAAAAAD4f/+OE5/aX6RA9xLaS2iro0DuaYTlnjGjQNrg35YzXZxAoGQsqmE8oEAty7Isy5iXQBK/uQMZXZtA7RXWhHqCpEAAAAAAAAD4fwAAAAAAAPh/AAAAAAAAAAAqBJpCoICdQLRkf60rvKdAGmjXUSWQtEAAAAAAAIAxQKIgCqIgFKJAR++KzJeqmkAAAAAAAAD4f0+IXizTq6RAAAAAAAAA+H/UrkTtCoWdQCd2YieWiJ5AVVVVVVUFiUCZH8sZOHyvQBRFURRF4qlAMNHfyWp1skDqoA7q8EexQEh1Tq6ZMqZAlPpVGswrp0DoHFi7DperQKuqqqpjLrdAtbS0tDTao0DRMA4N48KcQOQ4juMgTKxASsipgF/9l0BHWO5phJGfQH0TqkDXHa1AcUa7h60sqkBuvKJplWWUQAYdkdUrd5RAQx6zTamArEAAAAAAAAD4fwAAAAAAAPh/AAAAAAAA+H8AAAAAAAD4fwAAAAAAAPh/wBVrwBXBuEC3bdu2baWiQPJAS90cRKlADJTwRlP/p0AAAAAAAAD4f57YiZ3YSV9Abtu2bdt3lUDJ98YZ4JyyQIk+oDr2IrFAGrab5UmenkAb/aGQXIaxQCr63C0Tva1ACCGEEEKLkEAk7og74tSnQGiYZ5hnOaFA8RVf8RWjrkAAAAAAfJWnQAYWWGCBR5dAAAAAAAAA+H8AAAAAAAD4fwAAAAAAAPh/AAAAAAAA+H8AAAAAAAD4fwAAAAAAAPh/HnFH3BFHoEBA1XEJT1qyQKwKIRIcu7VAmdJ2nbVMokBEg8068y2wQKfYnrcaR6VAJ1FWkaEyt0CxDYJTWWOpQJIkSZKk2a5AySOPPPIQhEAZgaoMJJWkQMwJsmiEoqhAfMVXfGWLpUDkOI7jOLidQAAAAAAAAPh/SE0w3tr1pEAAAAAAAAD4f7dt27Ztj61AAAAAAADAQUAAAAAAAKhSQPoYnI/B4YNAhHGZ5EQEq0DXf3CgyjaYQAAAAAAAAPh/fMPRB3mso0AbPEegaH6wQGZQKky8OqxA3ghIaTcOk0CVItjGWg2mQAOyAdmASbVAvPSOMFFbuUACuSYCud6IQPwylfJsEsJAkq+pd07cmUD4b1q1wzGZQIy3ss8hpYxAAAAAAAAA+H87SvqdQlqoQJqZmZmdv7ZAx3EcxzHvokAt0AIt0Jq7QC+66KKLBbRA9/FqoPBFqkDQITXB+MefQAAAAAAAAPh/lzj1e27ItEDNjlqE/NShQAAAAAAAAPh/LS0tLS3XpUBOgzsvUvGhQOL1pMyxZaxA53wKeoBusEBOTk5OTtyuQOQ4juN4K6xAAAAAAAAA+H/70FgfGj20QCVqV6J2OZxAmpmZmZn9pEBJkiRJkiQtQPuxH/uxV4JAmpmZmZmZPEDkOI7jOIaNQCfWNk7XjqJAToomLBJ3pEAEirYaPNipQAP5O73njrBAUbIOC534qEAAAAAAAMxTQJoXfyLh+LFATkjJs4wYqkCh8P6VlwuyQLH2DWtfJJlAgVRyXhYqo0AAAAAAAAD4fxnwyeEysJRACDVruaaBq0CbrnjidouhQOyOF1uC17BAWkxnMZ3krEAAAAAAAAD4f+he33pRT6NAE6d+z22EoED/nCol9M2wQHVfHlsRaLZAtAbF017xs0BTMvxmYKLAQJIkSZIk96RAAAAAAAAA+H8OY7X1N22vQIltee4bUdVAAAAAAAAA+H8AAAAAAAA5QN8g3yDfiLdAV4JD5VfItEAmsGk/Wf2xQAG/cGtvt7VAKVDrV4q8rEDZWkjdfgKxQBLuutxHD8JAPusGU2SxsUCg+qf+KU61QAAAAEAhsLNApxg1/G2MnkAAAAAAAAD4fx+F61H4QphAAAAAAIAjnUAe7N4DNjC/QD744IMP/lpAUV5DeQ2tkEAVzRNqgfmhQHoKShz70Z5AAAAAAAAA+H+3D3SAeQayQAAAAAAAAPh/AAAAAAAA+H8AAAAAAAD4fwAAAAAAAPh/AAAAAAAA+H8AAAAAAAD4fwAAAAAAAPh/AAAAAAAA+H8AAAAAAAD4fwAAAAAAAPh/AAAAAAAA+H8AAAAAAAD4fwAAAAAAAPh/AAAAAAAA+H8AAAAAAAD4fwAAAAAAAPh/AAAAAAAA+H8AAAAAAAD4fwAAAAAAAPh/AAAAAAAA+H8AAAAAAAD4fwAAAAAAAPh/AAAAAAAA+H8AAAAAAAD4fwAAAAAAAPh/AAAAAAAA+H8AAAAAAAD4fwAAAAAAAPh/AAAAAAAA+H8AAAAAAAD4fwAAAAAAAPh/AAAAAAAA+H8AAAAAAAD4fwAAAAAAAPh/AAAAAAAA+H8AAAAAAAD4fwAAAAAAAPh/AAAAAAAA+H8AAAAAAAD4fwAAAAAAAPh/AAAAAAAA+H8AAAAAAAD4fwAAAAAAAPh/AAAAAAAA+H8AAAAAAAD4fwAAAAAAAPh/AAAAAAAA+H8AAAAAAAD4fwAAAAAAAPh/AAAAAAAA+H8AAAAAAAD4fwAAAAAAAPh/AAAAAAAA+H8AAAAAAAD4fwAAAAAAAPh/xVd8xVccm0ADzrgWCSadQBCS1KUFKq1AHq06twzrpEBtOR6kz7CkQAAAAAAAAPh/QKuMM6FFtUCg6zaCTaewQIz6USX2W7RAMWLEiAEmqEAAAAAAAAD4fwAAAAAAAPh/AAAAAAAA+H8AAAAAAAD4f2HV4RDfZqVAseGqk0casEDQs7ZO7hyrQJrhvwRCV5lAv8+53xahqUB/tlgZrlOxQG7btm3bM6VAfvz48eO7m0Be6sn47YKcQAAAAAAAAPh/NWnSpEnDkEAgEnj7IR6nQE4S/esh1Z1Af4oMdu3Ys0DKJf5mbiSjQNHyKxhaapBAAAAAAAAA+H8eMnfI3NmZQOmiiy666I5AO6iDOrDnvUAN5TWU18KHQIYsZCELHKhAMVslLmZLmUBnzBlzxvSOQMRZ+QlxralAUkDCTy5QkEAAAAAAAAD4f2OC7irF/JxAjm7nIaPEkkAAAAAAAAD4f26+gRrGJKtADewdU4P0qUBXg+cIFPGZQNcmSnZtU69AinzWDaa6k0Akewai0kCcQImvF5saGatASgwCK4fzpkDJJ4P6gz2iQEWaPiisdpZAUyJ4pL9BoUAg8lN3lBKjQFdqpVZq8axAAAAAAABAOUAOqQnGW1WXQG2fqB40Ip5A+xxSE4xjl0AAAAAAAAD4fwAAAAAAAPh/exSuR+EQn0BvZZ9D6ruXQFpJTHgMWaFAAAAAAAAAJUAAAAAAAAD4f6J2JWpXGJBASO/PtcrGhkB605ve9B6NQOzETuzESolAt23btm2bgEByHMdxHEdAQKuqqqqqHpdAmFPwcgoOokBxT7gn3LGwQF3S8qUYsrNASG0kDAQen0AAAAAAAAD4fzFvZ0gs5rBA27Zt27YtXEDMMMMMM/KpQAAAAAAAAPh/SZIkSZKkWEBIPZZ4gjWxQJ0q+GiBLdVAAAAAAAAsmkAAAAAAAAD4fwAAAAAAAPh/QMlYVEPKp0DkOI7jOLWPQLRpQJsGVJ1AAAAAAAAAAAAAAAAAAAD4fy0tLS0t7VNAA5NOzYPhrEA8PDw8PJOSQIgh/J3357FAujFPH63Xq0AAAAAA3hCwQCh8t/GEp5BAexv9oZA2lUD57VJPxmWBQPMh3cl8PqhAD3m+TUQTqECDw0By9/GWQNt3+pFlU8dA5EZu5EZtoUBr6mrqar6kQKfNLg6MmbJA7+7u7u5uV0AAAAAAAABVQG7btm3bdlNA6jsb9Z1jmEDFjegB67+4QAAAAAAAgExA/oOGwPZYsEDks24wRcqgQLY8FFzJB6lAAAAAAAAA+H8AAAAAAAD4fwAAAAAAAPh/AAAAAAAA+H8AAAAAAAD4f+F6FK7HV7BAZmZmZmZmP0BEyBR2TdqSQJIkSZIk+5JAHS4DPjmWrEBEDOrj7iiYQAAAAAAAAPh/etOb3vT8l0DqTW9609tRQPoum9Kdl6RAC1afClYlikATAnJ+KmeiQG0ZvYqGqaFAAAAAAAAA+H/bYVDUyYWXQAAAAAAAAPh/AAAAAAAA+H8AAAAAAAD4fwAAAAAAAPh/AAAAAAAA+H9uqdmwv4atQN76snxOAZJATQwff+sGlkDI338kp2i2QGHuNs0WJ6lA0OA30dNwo0AAAAAAAAD4f59DaoLxlatAyRkWXCrDkUBfQnsJ7aOjQPMt3/Itf4ZAr22Im4SSq0Cc0rz4EyOnQF100UU365NAo5/6ZlWmukAmL4B8wtygQLUrUbsSQp9AOY7jOI5xnkBJkiRJso6zQAAAAAAAAPh/JUmSJElPpkAAAAAAAAD4fzQQlY7sKK9AG8hJ5kqbqkCzCm6QzWauQAAAAAAAAPh/F1100cXJlUCiENPPflW1QHArzRoXrppAGlbQNaLHqEDzGsprKL+UQMC/v7+/t51A5+ibo28fskAgXJjUEC2SQCGEEEK4OqRAj8L1KFwzpkCOrJu/ATq4QIBZGN8JNZRAVVVVVVWBnEAvUzs0K5mTQGt4xNT8f6hApzN3OnOdp0Axf6F7zi25QNyhuh2qeqdAvTGCif7Am0BYSi72xXKxQAAAAABaJ5NAKlh9Klh3pUAAAAAAAAD4f8hCFrLQ26ZAZSs3PPUTtkCzZCv/A9vAQAAAAACqQrFAKkGeEmTfoUC8ds4GVsC6QIg+Tt8FELhA0iMqyDZrqEAAAAAAAAD4fyw1PBOhH7JAUsdBhGYQtUC2eNbiWVmxQOmTPuljB7FASBr91R5Dr0CiGZqhGSe1QO7F9wAeO69AqBGWe7oDp0Do2Hw3/PaTQKNYgpL12KdAL4v4BFI/r0DinM9ofkTBQIRCKIRCGKZAZV0wIs0QsEBJkiRJpgypQAAAAAAAAPh/JPB91Qnpq0BEDnqiUTunQN62oIPKpblAyWm+Vs++qkBQBatPBey+QFBbaMCSlqJAtuW57ynzoUDMbGXz2Z+7QMhES8Y0/rtAC5sDiXYrq0C39sbqD22aQF1Km5/PmrFA/UZCY/zxu0Cz7ABIB7CxQF0JWYvac7NA9tmM74/0tUBmiVDLLGWyQOm6MJK215ZAyEYHJxdUt0CIWUC+SAKYQIBPTSr6l6RAG0PTHew5s0AAAAAAAAD4fz744IMPQLBAAAAAAEnQuECXg5v9gjWhQAzyPsZpLLNAJxhvZZ9Il0CIsQ8www20QM3MzMzMNIlAjNC9CN1rm0CQTKB36haSQCO1j1cDJZRA52IqEpqnskC2YAu2YLCRQAZOY34s25FAyEIWslBTo0BGvzvwNTK2QC1WExL1PalA7ud+7uc8lkB7mxWSqXelQEdY7mnkErJAjNK7meZSoUAAAAAAAAD4f+zETuxEV5tAYbmnEZYHeUB5DeU1lP2KQJDB+RicDKpA9iO5ibtup0DGf31kUX+pQNqqSI7tDMNAamwiTwjpokB2AvBnXH2hQEoppZRS65dA7NjwUpgtpEDaqO9s1AmWQCZh/BfBgKhA7NP16fqgmUBntOVPSGKtQMfUwN4xP5lA3LGpC3TzpUCE9D1kQDa+QP/m8uxv5pZA2dDweLr2rEDGkl8seWSYQMFJBB7S7KRA7d0go/M+sUAAAAAAb6qgQMRB/6GMjbJAcjP2h8H6m0B6js4HeCaxQFTzIHf9OaBAj2rWn8GNl0AAAAAAAAD4f7dt27atDJFA09LS0tL0nEA4hEM4hLuMQGFGkPQOP6dA1+aVG9qJn0AAAAAAAAD4f+xRuB6FaI1AKi4ZgnVqp0AHlIkr3YyoQLF4t4BrCbRA+kxkTGvsn0DX4fYgdamrQAjcWAaloqhAWjeYIl9ssUCUdVwN+YKoQAAAAAAAAPh/DPi7K3ZrsUDqirqirrOqQPWdjfpeOaxAnP9EkNDcrkC54d2SjlOlQOpejlWAuJBAxU7sxM6rnUAZ6MkZwdOaQAAAAAAAAPh/ttXxWlvjsEAKTDo1D32jQPDBBx/82qFADp0NnQ1suUDkOI7jOC6dQOXsFn61KqZAJOLpV8+TnkAAAAAAAAAAADTWh8aKwrVAu7wDjhSMsED/TlbLG0OuQJjQXkI7lLlAAAAAAAAliEBymXuhImOwQMYYY4yxwKtAQ7CONu+0sEAAAAAAAAD4f2ZmZmZmSpxAngpPhectsEDfiAKTThWmQJAXHPp4I7BApHA9Ctf1lUBiHJxa8pSnQKy7AoWeJq1Abd6nuGQIhECytzZMc1uaQA6pCcZbCYFAhkluJTjjuUBwaD7XX8/BQIjvIL6DEblAwvyuFjfRjkCZMq+IqSbBQNSELmNHzLRAXTsw1w6Ej0AcTZ1fe+KoQBJU4nMx+q9AKRE80l8jlUBJGXi69TrAQKuqqqqqClVAGOAJA7yDsEAAAAAAAAD4fwAAAAAAAPh/unZgrh2ZskBUl5i10P+0QDvN8TrNVrdA7ixhN78uq0DV2MMsIIisQHlqyACJw6hAIiIiIqIUoUAAAAAAAAAAAAAAAAAAAPh/3y/r/bLmwkCBG8ugVGygQAAAAAAAAPh/Q6ApBBqltUCZvkoYm0y4QAZbsAVbsK9AG8prKK9Tq0APDw8PD7WwQAAAAAA+nLlAAAAAALjcsUAXXXTRRT9RQFr5CXFWZKpAoAqNftXnhkA+6FdULhKWQIpCikKKCKFA5DiO4zgWjUAx8/FbdTyaQFL84IxsjcFASXsWgQ7orEDZMxCVDk2rQMg1Ecg186dAAAAAAAAgpkAfJaLjQp2gQGpPZCC9O5tADMtkXL8koEAAAAAAAAD4f6jHzdgf7pRAjNTxABE6qUBouoP9VpunQKbx1H58o6NAFbPhOcmOokCZQdYxgyypQLJ49hQFm6FAL7rooovOVECLAWSLATCpQAAAAAAAAPh/DeU1lNcpm0CHnlRfySSdQFVVVVV1opdAzD9CJ1Aqm0Cn8EnKAlmtQAAAAAAAAPh/gf0J2B9woUCIo0OTvCSxQHDpNxlYYa9AAr55NfFBo0DxVeSaL8SzQC6/SQNZ6qFApUdiDSaus0DxSyKkWtZzQEX6Ly6dx6FA4cKkhmhql0AzMzMzYzqtQAAAAAAAAPh/Y+Frtz0OnkAAAAAAAAD4f/jggw8+UJ9AnP1CrCjbxkA9z/M8j6+fQPv6+voaV6FADeU1lNdolEAlSZIksTqqQA4uNrjYMJRAyiabbLJJVkB9pq3xd3uhQPmKr/iK15tAmf3nD58Qo0Am33gh0vOpQNRUiDZ8KqNAZCELWcjwhkAAAAAAAAD4fwAAAAAAAPh/AAAAAAAA+H+yIFXKSJKXQLTyE+KsIp9Aa0ykB6p3skCO4ziO0367QFzZ55CaMaVA7RdiRemit0AAAAAAAAD4f35hY+7DCKpAEKiOvbVdqkAe2EdTxAjDQEpBxTlvKbJA4jSESrrPpEAjZnwu/37BQD3P8zw/3aVAFfmsG0x9lEDBJKPPtsywQAAAAAAAAPh/rSlrypompUDRJMCab36VQEjhehSux0lARTtTev3PpUAXhy11VRKkQAAAAAAAAPh/f4N1nyHRokBk8k9q7++yQNRBHdTRGKdAMTJpucPipUAAAAAAAAD4fwAAAAAAAPh/AAAAAAAA+H8AAAAAAAD4fwAAAAAAAPh/AAAAAAAA+H8AAAAAAAD4fwAAAAAAAPh/AAAAAAAA+H8AAAAAAAD4fwAAAAAAAPh/1NUsIuYtt0CaPIxtQkmkQAAAAAAAAPh/hNz1s8UcmEAAAAAAAAD4f7+gL+jrlahAjvrORn3nmEDDMAzDMI6oQCz6Mxu4I6pAF4RdEHZJrEA73pxQoiaqQCN9I0DdM69AHA6Hw2EgqkDKJ84LTnWtQDWzXIpXb7FAsp5jsp5nnUAAAAAAAAD4f9GoZeTj/KtAu4VfjUl/tECGDsqjn1WyQKwM34gCjLVAsOKElDz3sEAAAAAAAAD4f3+Tv8nfcqJAEI31oeHIq0AaHX4iwLK2QFJpDW7hTLhAnzLtHOx/qkDoxjx9NAutQAAAAAAAAPh/j+YPNh4no0AAAAAAAAD4f65lse6H3bRAdvH65w2aqkAAAAAAAAD4fzmvf+HQ97RA6+2efWyosEBO87V6llezQCVJkiQpsqlABxKtsDk+oUA6XFBh25KxQJi6E5kMQaFAkt2AFsnWv0BybOJN2fC6QEMWspDFYJhAhLH/aiFsqEBQduRgEx6rQCVNlaFBmLRAqvJLgVEcqEBvh+p26NOyQIvsn8XflqFA6loObvbFqEALlAFxzkamQF3t766TpKdAAAAAAAAA+H9UhGoMzB+sQCG03shQGbFAZ7gdPMWxq0DnnHPOOfSlQA3SIA3SMKtAuXUgVk5OuEAs8JeALRmmQAAAAAAAAPh/tkBaC2RNskBRo5Wx+tuwQD1Orr4YULFAc5EaKhW1sECYboxSV9awQPwr2lhpLbdAIBuQDchoskCnfs8t8VanQJbfZ0p6KKdAeAc4pE9frUA1vvyc1/+XQAAOHznLh59AAAAAAAAA+H8kcoJwN/asQP/FN1QbyqFA05ve9KY3UkCik/ZBMkmyQDCIkmZhd6xAlVEZlVFFrkDfL+v9siqtQAAAAAAAAPh/RrJ0usbbpUASlnsaYS2fQFVVVVVVVUJAdbKHkr/Yu0DrVwrU+t+ZQNAo8TNKUrBAukPmDpljqkAAAAAAAAD4f3JZMVDCz6pANi258e0gtUAxEAMxEMGtQG/krVeN0KZAAAAAAAAA+H/miyq3lmOhQAAAAAAAyE5A3so+h9TroECwEf8a8X6mQITZLoTZPqpAhTgrPyElpkCVkFMBvwOeQHrTm97kyqZAehDtfMSas0DCnwl/JtiWQAAAAAAAAPh/I2yCR/fdukBH3BF3xHurQB988MEH3Z9Ak8yeuyTkq0A+l7rL226qQMeGl8IMKqRABwwUzP75rUDZ55CaYB+fQJEy8HRrB5xAAAAAAACgYEDtGYhKR+ihQAAAAAAAAPh/AAAAAAAA+H8AAAAAAAD4fwAAAAAAAPh/AAAAAAAA+H8AAAAAAAD4fwAAAAAAAPh/AAAAAAAA+H8AAAAAAAD4fwAAAAAAAPh/AAAAAAAA+H8AAAAAAAD4f3TRRRfNNKRAuQAqhPHTukA1HshN46GaQPqkT/qk361AVcRSEUv3r0AAAAAAAAD4f1VVVVWV+JhA6Gbqldzpt0A26jsb9QWZQA33Kpgl0L9AL7rooovzoEDny/RzqcvCQKi7IO1QrrdA1pQ1ZQ04o0B/dt7FI1iTQAyN7DgI6rpAu/lECRoVwEBVVVVV9IPCQBaOzAl4xbNAn2lr/N1WrUDhkRUe2UCzQEmSJEkCgplAkH70ox93pEBudUYqli/CQAAAAAAAAPh/90QG0nuVpEDNzMzMzBe3QAAAAAAAAPh/t23btmG0q0CvvQAKBw+bQKoX86kXU59AcKRoiD9WnUCHU3GjGrSnQJG/ZkctJpxAD7zlUBtYpkCIjybkhTmYQAAAAAAAAPh/AAAAAAAA+H8AAAAAAAD4fwAAAAAAAPh/AAAAAAAA+H8AAAAAAAD4fwAAAAAAAPh/AAAAAAAA+H+1tLS0NK+bQLdt27ZttJpAAAAAAAAA+H9ZasGQXpGyQNbLfh6mzrBA/AjuI7iPk0BY3bLgK/OxQHMKXk5BV7JAZNC7ybigrkDafjHNRsWxQM3X6tkhR69AfQifCYGurkCUAXt6UQi2QAAAAAAAAPh/Y3Tj6w4Qt0AtDghWgty0QH+lQK1fHrdARERERETQmEAT4Kx5RuewQDynkgIy/7pAFl/xFa/PtEC92blUGyizQAAAAAAAAPh/AAAAAAAA+H+WnC6A4NWxQNWNmpL3LrxAVVVVVZXnqEAAAAAAAAD4f5HOdbl0m65A+YsaGzoJsUC1tLS0NLm/QITlnkYYebJAM6+IKfPLu0CQseJRud+hQAAAAAAAAPh/w+ZAopVnsUATpMJqh2uxQOaGGJCOI6JAH3oqMItzo0AywLCbClaqQMdHJtA7QrBAH0GWMeqer0AAAAAAAAD4fwAAAAAAAPh/ZJtX9dGVr0CV9eITQ2ezQGXg6db83K1AAAAAAAAA+H8TavWQwdSsQO183pq5e7BAEbxmEbx5wkD/o8vXrs+uQAkQHPFlOL9AAAAAAAAA+H9VVVVVVbVbQJMvGzSZLLRAQHQdQj29wEAq/LHNqya2QOYAFP1+w7RA1wvY5vSTu0BCWMUIUCG+QBn8fWck/KpAXn9uRkcPlUB4FlWv/NKxQOEoBReOEK1Av2OzrVJgo0CVo9NvKw+sQK7lk6jGtrJAAAAAAAAA+H82f/tTuyOpQAAAAAAAAPh/h3813OFpo0DOsp4WOcujQN6nuGQIJohANUeaI015sEByNiZnYxqwQLx/5aXNBrdAeN133Xe+s0CIdCfzIbWuQBmXAtrX1rFAwWcMRwuBukC3HBJinLiXQKhqp4DWLKJAHHaxiFS7okBa+s9ncrOiQOc3Aju7/6RAj3ax92hZokB3uJIuLwWzQFKQ/HmVvZ1AAAAAAAAA+H8m0gOVM6a1QKx649qLvaVA2o/r7TQqqkAErI4vZdahQO762WJloJVAZXaoLYv3u0B0OQT1gvuQQJZkvLP846NApxg1/G1WokDsOiS3vIKsQKc3venNUphAj41nVZBCrUDTm970ph2hQBU62Hl6uKBAdmIndmJvm0AAAAAAAAD4f5vTVZ6J65lAWWSm2hz2rECF9hLaS5OWQBrrQ2N9gItAroLaDEw9oECgDQwycVCWQAAAAAAAAPh/sdzTCAs7pkC1YjvK/HucQCUop5pRvrFAk3n+EB5ym0Ci7e+xO+SpQH3Lt3zL/ZpAYSLIejj+qECuNoame3arQMLctPCW+6ZAa7M2a7MBpkAZKOGNJj2rQH/WftZ+0KVAn3WDKfIao0Bh+zBfdTWUQAAAAAAAAPh/A804YRA8qkBNWVPWlFm1QAAAAAAAAPh/t/bG6o8Zp0DPRn1nIzCWQA3sHVMD+0xATJHPusHio0CHotm4+aqjQAAAAAAAAPh/Py+onZJfqECu7VfAZGCyQE6Y39Xi9qlAZOy1y48kq0A/w9CXpUKfQDlTLkiIoMFAAAAAAAAA+H8AAAAAAAD4fwAAAAAAAPh/AAAAAAAA+H8AAAAAAAD4fwAAAAAAAPh/AAAAAAAA+H8AAAAAAAD4fwAAAAAAAPh/AAAAAAAA+H8AAAAAAAD4fwAAAAAAAPh/AAAAAAAA+H8AAAAAAAD4fwAAAAAAAPh/AAAAAAAA+H8AAAAAAAD4fwAAAAAAAPh/AAAAAAAA+H8AAAAAAAD4fwAAAAAAAPh/AAAAAAAA+H8AAAAAAAD4fwAAAAAAAPh/AAAAAAAA+H8NpSocuj7BQDtAVq4OVp1AAAAAAAAA+H8AAAAAAAD4fwAAAAAAAPh/AAAAAAAA+H8AAAAAAAD4fwAAAAAAAPh/AAAAAAAA+H8AAAAAAAD4fz41iI2BiqxAAAAAAAAA+H8AAAAAAAD4fwAAAAAAAPh/AAAAAAAA+H/bGJruYEueQIE/4A84U7BAAAAAAAAA+H8AAAAAAAD4fwAAAAAAAPh/AAAAAAAA+H8AAAAAAAD4fwAAAAAAAPh/AAAAAAAA+H8AAAAAAAD4fwAAAAAAAPh/AAAAAAAA+H8AAAAAAAD4fwAAAAAAAPh/AAAAAAAA+H8AAAAAAAD4fwAAAAAAAPh/AAAAAAAA+H/7Hb0ytleYQPscUhOMlZlAAAAAAAAA+H8AAAAAAAD4fwAAAAAAAPh/AAAAAAAA+H8AAAAAAAD4fwAAAAAAAPh/AAAAAAAA+H8AAAAAAAD4fwAAAAAAAPh/AAAAAAAA+H8AAAAAAAD4fwAAAAAAAPh/AAAAAAAA+H8AAAAAAAD4fwAAAAAAAPh/AAAAAAAA+H8AAAAAAAD4fwAAAAAAAPh/AAAAAAAA+H8AAAAAAAD4fwAAAAAAAPh/AAAAAAAA+H8AAAAAAAD4fwAAAAAAAPh/AAAAAAAA+H8AAAAAAAD4fwAAAAAAAPh/AAAAAAAA+H8AAAAAAAD4fwAAAAAAAPh/f0jg7YdEgkDblahdicaAQAAAAAAAAPh/AAAAAAAA+H8AAAAAAAD4fwAAAAAAAPh/AAAAAAAA+H8wRT7rBhNVQAAAAAAAAPh/AAAAAAAA+H8AAAAAAAD4fwAAAAAAAPh/AAAAAAAA+H8AAAAAAAD4fwAAAAAAAPh/AAAAAAAA+H8AAAAAAAD4fwAAAAAAAPh/AAAAAAAA+H8AAAAAAAD4fwAAAAAAAPh/AAAAAAAA+H8AAAAAAAD4fwAAAAAAoGNACCGEEEKIYEARERERERHxPwAAAACA0pNAAAAAAAAA+H8AAAAAAAD4f73pTW96E1pAAAAAAAAA+H+amZmZmZm5PwAAAAAAAPh/CWzaT5Z8gkAAAAAAAAD4fwAAAAAAAPh/AAAAAAAA+H+SJEmSJK1zQGBgYGBgWIBAAAAAAAAA+H8AAAAAALhgQAAAAABALpRAAAAAAAAA+H8AAAAAAAD4f2ZmZmZmZmVAhmEYhmEEdUAAAAAAAAD4fwAAAAAAAPh/AAAAAAAA+H8AAAAAAAD4fwAAAAAAAPh/AAAAAAAA+H8AAAAAAAD4fwAAAAAAAPh/AAAAAAAA+H8AAAAAAAD4fwAAAAAAAPh/AAAAAAAA+H8AAAAAAAD4fwAAAAAAAPh/AAAAAAAA+H8AAAAAAAD4fwAAAAAAAPh/AAAAAAAA+H8AAAAAAAD4fwAAAAAAAPh/AAAAAAAA+H8AAAAAAAD4fwAAAAAAAPh/AAAAAAAA+H8AAAAAAAD4fwAAAAAAAPh/AAAAAAAA+H8AAAAAAAD4fwAAAAAAAPh/AAAAAAAA+H8AAAAAAAD4fwAAAAAAAPh/AAAAAAAA+H8AAAAAAAD4fwAAAAAAAPh/AAAAAAAA+H8AAAAAAAD4fwAAAAAAAPh/AAAAAAAA+H8AAAAAAAD4fwAAAAAAAPh/AAAAAAAA+H8AAAAAAAD4fwAAAAAAAPh/AAAAAAAA+H8AAAAAAAD4fwAAAAAAAPh/AAAAAAAA+H8AAAAAAAD4fwAAAAAAAPh/AAAAAAAA+H8AAAAAAAD4fwAAAAAAAPh/AAAAAAAA+H8AAAAAAAD4fwAAAAAAAPh/AAAAAAAA+H8AAAAAAAD4fwAAAAAAAPh/AAAAAAAA+H8AAAAAAAD4fwAAAAAAAPh/AAAAAAAA+H8AAAAAAAD4fwAAAAAAAPh/AAAAAAAA+H8AAAAAAAD4fwAAAAAAAPh/AAAAAAAA+H8AAAAAAAD4fwAAAAAAAPh/AAAAAAAA+H8AAAAAAAD4fwAAAAAAAPh/AAAAAAAA+H8AAAAAAAD4fwAAAAAAAPh/AAAAAAAA+H8AAAAAAAD4fwAAAAAAAPh/AAAAAAAA+H8AAAAAAAD4fwAAAAAAAPh/AAAAAAAA+H8AAAAAAAD4fwAAAAAAAPh/AAAAAAAA+H8AAAAAAAD4fwAAAAAAAPh/AAAAAAAA+H8AAAAAAAD4fwAAAAAAAPh/AAAAAAAA+H8AAAAAAAD4fwAAAAAAAPh/AAAAAAAA+H8AAAAAAAD4fwAAAAAAAPh/AAAAAAAA+H8AAAAAAAD4fwAAAAAAAPh/AAAAAAAA+H8AAAAAAAD4fwAAAAAAAPh/AAAAAAAA+H8AAAAAAAD4fwAAAAAAAPh/AAAAAAAA+H8AAAAAAAD4fwAAAAAAAPh/AAAAAAAA+H8AAAAAAAD4fwAAAAAAAPh/AAAAAAAA+H8AAAAAAAD4fwAAAAAAAPh/AAAAAAAA+H8AAAAAAAD4fwAAAAAAAPh/AAAAAAAA+H8AAAAAAAD4fwAAAAAAAPh/AAAAAAAA+H8AAAAAAAD4fwAAAAAAAPh/AAAAAAAA+H8AAAAAAAD4fwAAAAAAAPh/AAAAAAAA+H8AAAAAAAD4fwAAAAAAAPh/AAAAAAAA+H8AAAAAAAD4fwAAAAAAAPh/AAAAAAAA+H8AAAAAAAD4fwAAAAAAAPh/AAAAAAAA+H8AAAAAAAD4fwAAAAAAAPh/AAAAAAAA+H8AAAAAAAD4fwAAAAAAAPh/AAAAAAAA+H8AAAAAAAD4fwAAAAAAAPh/AAAAAAAA+H8AAAAAAAD4fwAAAAAAAPh/AAAAAAAA+H8AAAAAAAD4fwAAAAAAAPh/AAAAAAAA+H8AAAAAAAD4fwAAAAAAAPh/AAAAAAAA+H8AAAAAAAD4fwAAAAAAAPh/AAAAAAAA+H8AAAAAAAD4fwAAAAAAAPh/AAAAAAAA+H8AAAAAAAD4fwAAAAAAAPh/AAAAAAAA+H8AAAAAAAD4fwAAAAAAAPh/AAAAAAAA+H8AAAAAAAD4fwAAAAAAAPh/AAAAAAAA+H8AAAAAAAD4fwAAAAAAAPh/AAAAAAAA+H8AAAAAAAD4fwAAAAAAAPh/AAAAAAAA+H8AAAAAAAD4fwAAAAAAAPh/AAAAAAAA+H8AAAAAAAD4fwAAAAAAAPh/AAAAAAAA+H8AAAAAAAD4fwAAAAAAAPh/AAAAAAAA+H8AAAAAAAD4fwAAAAAAAPh/AAAAAAAA+H8AAAAAAAD4fwAAAAAAAPh/AAAAAAAA+H8AAAAAAAD4fwAAAAAAAPh/AAAAAAAA+H8AAAAAAAD4fwAAAAAAAPh/AAAAAAAA+H8AAAAAAAD4fwAAAAAAAPh/AAAAAAAA+H8AAAAAAAD4fwAAAAAAAPh/AAAAAAAA+H8AAAAAAAD4fwAAAAAAAPh/AAAAAAAA+H8AAAAAAAD4fwAAAAAAAPh/AAAAAAAA+H8AAAAAAAD4fwAAAAAAAPh/AAAAAAAA+H8AAAAAAAD4fwAAAAAAAPh/AAAAAAAA+H8AAAAAAAD4fwAAAAAAAPh/AAAAAAAA+H8AAAAAAAD4fwAAAAAAAPh/AAAAAAAA+H8AAAAAAAD4fwAAAAAAAPh/AAAAAAAA+H8AAAAAAAD4fwAAAAAAAPh/AAAAAAAA+H8AAAAAAAD4fwAAAAAAAPh/AAAAAAAA+H8AAAAAAAD4fwAAAAAAAPh/AAAAAAAA+H8AAAAAAAD4fwAAAAAAAPh/AAAAAAAA+H8AAAAAAAD4fwAAAAAAAPh/AAAAAAAA+H8AAAAAAAD4fwAAAAAAAPh/AAAAAAAA+H8AAAAAAAD4fwAAAAAAAPh/AAAAAAAA+H8AAAAAAAD4fwAAAAAAAPh/AAAAAAAA+H8AAAAAAAD4fwAAAAAAAPh/AAAAAAAA+H8AAAAAAAD4fwAAAAAAAPh/AAAAAAAA+H8AAAAAAAD4fwAAAAAAAPh/AAAAAAAA+H8AAAAAAAD4fwAAAAAAAPh/AAAAAAAA+H8AAAAAAAD4fwAAAAAAAPh/AAAAAAAA+H8AAAAAAAD4fwAAAAAAAPh/AAAAAAAA+H8AAAAAAAD4fwAAAAAAAPh/AAAAAAAA+H8AAAAAAAD4fwAAAAAAAPh/AAAAAAAA+H8AAAAAAAD4fwAAAAAAAPh/AAAAAAAA+H8AAAAAAAD4fwAAAAAAAPh/AAAAAAAA+H8AAAAAAAD4fwAAAAAAAPh/AAAAAAAA+H8AAAAAAAD4fwAAAAAAAPh/AAAAAAAA+H8AAAAAAAD4fwAAAAAAAPh/AAAAAAAA+H8AAAAAAAD4fwAAAAAAAPh/AAAAAAAA+H8AAAAAAAD4fwAAAAAAAPh/AAAAAAAA+H8AAAAAAAD4fwAAAAAAAPh/AAAAAAAA+H8AAAAAAAD4fwAAAAAAAPh/AAAAAAAA+H8AAAAAAAD4fwAAAAAAAPh/AAAAAAAA+H8AAAAAAAD4fwAAAAAAAPh/AAAAAAAA+H8AAAAAAAD4fwAAAAAAAPh/AAAAAAAA+H8AAAAAAAD4fwAAAAAAAPh/AAAAAAAA+H8AAAAAAAD4fwAAAAAAAPh/AAAAAAAA+H8AAAAAAAD4fwAAAAAAAPh/AAAAAAAA+H8AAAAAAAD4fwAAAAAAAPh/AAAAAAAA+H8AAAAAAAD4fwAAAAAAAPh/AAAAAAAA+H8AAAAAAAD4fwAAAAAAAPh/AAAAAAAA+H8AAAAAAAD4fwAAAAAAAPh/AAAAAAAA+H8AAAAAAAD4fwAAAAAAAPh/AAAAAAAA+H8AAAAAAAD4fwAAAAAAAPh/AAAAAAAA+H8AAAAAAAD4fwAAAAAAAPh/AAAAAAAA+H8AAAAAAAD4fwAAAAAAAPh/AAAAAAAA+H8AAAAAAAD4fwAAAAAAAPh/AAAAAAAA+H8AAAAAAAD4fwAAAAAAAPh/AAAAAAAA+H8AAAAAAAD4fwAAAAAAAPh/AAAAAAAA+H8AAAAAAAD4fwAAAAAAAPh/AAAAAAAA+H8AAAAAAAD4fwAAAAAAAPh/AAAAAAAA+H8AAAAAAAD4fwAAAAAAAPh/AAAAAAAA+H8AAAAAAAD4fwAAAAAAAPh/AAAAAAAA+H8AAAAAAAD4fwAAAAAAAPh/AAAAAAAA+H8AAAAAAAD4fwAAAAAAAPh/AAAAAAAA+H8AAAAAAAD4fwAAAAAAAPh/AAAAAAAA+H8AAAAAAAD4fwAAAAAAAPh/AAAAAAAA+H8AAAAAAAD4fwAAAAAAAPh/AAAAAAAA+H8AAAAAAAD4fwAAAAAAAPh/AAAAAAAA+H8AAAAAAAD4fwAAAAAAAPh/AAAAAAAA+H8AAAAAAAD4fwAAAAAAAPh/AAAAAAAA+H8AAAAAAAD4fwAAAAAAAPh/AAAAAAAA+H8AAAAAAAD4fwAAAAAAAPh/AAAAAAAA+H8AAAAAAAD4fwAAAAAAAPh/AAAAAAAA+H8=",
          "dtype": "f8"
         },
         "xaxis": "x",
         "y": {
          "bdata": "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",
          "dtype": "f8"
         },
         "yaxis": "y"
        }
       ],
       "layout": {
        "legend": {
         "tracegroupgap": 0
        },
        "template": {
         "data": {
          "bar": [
           {
            "error_x": {
             "color": "#2a3f5f"
            },
            "error_y": {
             "color": "#2a3f5f"
            },
            "marker": {
             "line": {
              "color": "#E5ECF6",
              "width": 0.5
             },
             "pattern": {
              "fillmode": "overlay",
              "size": 10,
              "solidity": 0.2
             }
            },
            "type": "bar"
           }
          ],
          "barpolar": [
           {
            "marker": {
             "line": {
              "color": "#E5ECF6",
              "width": 0.5
             },
             "pattern": {
              "fillmode": "overlay",
              "size": 10,
              "solidity": 0.2
             }
            },
            "type": "barpolar"
           }
          ],
          "carpet": [
           {
            "aaxis": {
             "endlinecolor": "#2a3f5f",
             "gridcolor": "white",
             "linecolor": "white",
             "minorgridcolor": "white",
             "startlinecolor": "#2a3f5f"
            },
            "baxis": {
             "endlinecolor": "#2a3f5f",
             "gridcolor": "white",
             "linecolor": "white",
             "minorgridcolor": "white",
             "startlinecolor": "#2a3f5f"
            },
            "type": "carpet"
           }
          ],
          "choropleth": [
           {
            "colorbar": {
             "outlinewidth": 0,
             "ticks": ""
            },
            "type": "choropleth"
           }
          ],
          "contour": [
           {
            "colorbar": {
             "outlinewidth": 0,
             "ticks": ""
            },
            "colorscale": [
             [
              0,
              "#0d0887"
             ],
             [
              0.1111111111111111,
              "#46039f"
             ],
             [
              0.2222222222222222,
              "#7201a8"
             ],
             [
              0.3333333333333333,
              "#9c179e"
             ],
             [
              0.4444444444444444,
              "#bd3786"
             ],
             [
              0.5555555555555556,
              "#d8576b"
             ],
             [
              0.6666666666666666,
              "#ed7953"
             ],
             [
              0.7777777777777778,
              "#fb9f3a"
             ],
             [
              0.8888888888888888,
              "#fdca26"
             ],
             [
              1,
              "#f0f921"
             ]
            ],
            "type": "contour"
           }
          ],
          "contourcarpet": [
           {
            "colorbar": {
             "outlinewidth": 0,
             "ticks": ""
            },
            "type": "contourcarpet"
           }
          ],
          "heatmap": [
           {
            "colorbar": {
             "outlinewidth": 0,
             "ticks": ""
            },
            "colorscale": [
             [
              0,
              "#0d0887"
             ],
             [
              0.1111111111111111,
              "#46039f"
             ],
             [
              0.2222222222222222,
              "#7201a8"
             ],
             [
              0.3333333333333333,
              "#9c179e"
             ],
             [
              0.4444444444444444,
              "#bd3786"
             ],
             [
              0.5555555555555556,
              "#d8576b"
             ],
             [
              0.6666666666666666,
              "#ed7953"
             ],
             [
              0.7777777777777778,
              "#fb9f3a"
             ],
             [
              0.8888888888888888,
              "#fdca26"
             ],
             [
              1,
              "#f0f921"
             ]
            ],
            "type": "heatmap"
           }
          ],
          "histogram": [
           {
            "marker": {
             "pattern": {
              "fillmode": "overlay",
              "size": 10,
              "solidity": 0.2
             }
            },
            "type": "histogram"
           }
          ],
          "histogram2d": [
           {
            "colorbar": {
             "outlinewidth": 0,
             "ticks": ""
            },
            "colorscale": [
             [
              0,
              "#0d0887"
             ],
             [
              0.1111111111111111,
              "#46039f"
             ],
             [
              0.2222222222222222,
              "#7201a8"
             ],
             [
              0.3333333333333333,
              "#9c179e"
             ],
             [
              0.4444444444444444,
              "#bd3786"
             ],
             [
              0.5555555555555556,
              "#d8576b"
             ],
             [
              0.6666666666666666,
              "#ed7953"
             ],
             [
              0.7777777777777778,
              "#fb9f3a"
             ],
             [
              0.8888888888888888,
              "#fdca26"
             ],
             [
              1,
              "#f0f921"
             ]
            ],
            "type": "histogram2d"
           }
          ],
          "histogram2dcontour": [
           {
            "colorbar": {
             "outlinewidth": 0,
             "ticks": ""
            },
            "colorscale": [
             [
              0,
              "#0d0887"
             ],
             [
              0.1111111111111111,
              "#46039f"
             ],
             [
              0.2222222222222222,
              "#7201a8"
             ],
             [
              0.3333333333333333,
              "#9c179e"
             ],
             [
              0.4444444444444444,
              "#bd3786"
             ],
             [
              0.5555555555555556,
              "#d8576b"
             ],
             [
              0.6666666666666666,
              "#ed7953"
             ],
             [
              0.7777777777777778,
              "#fb9f3a"
             ],
             [
              0.8888888888888888,
              "#fdca26"
             ],
             [
              1,
              "#f0f921"
             ]
            ],
            "type": "histogram2dcontour"
           }
          ],
          "mesh3d": [
           {
            "colorbar": {
             "outlinewidth": 0,
             "ticks": ""
            },
            "type": "mesh3d"
           }
          ],
          "parcoords": [
           {
            "line": {
             "colorbar": {
              "outlinewidth": 0,
              "ticks": ""
             }
            },
            "type": "parcoords"
           }
          ],
          "pie": [
           {
            "automargin": true,
            "type": "pie"
           }
          ],
          "scatter": [
           {
            "fillpattern": {
             "fillmode": "overlay",
             "size": 10,
             "solidity": 0.2
            },
            "type": "scatter"
           }
          ],
          "scatter3d": [
           {
            "line": {
             "colorbar": {
              "outlinewidth": 0,
              "ticks": ""
             }
            },
            "marker": {
             "colorbar": {
              "outlinewidth": 0,
              "ticks": ""
             }
            },
            "type": "scatter3d"
           }
          ],
          "scattercarpet": [
           {
            "marker": {
             "colorbar": {
              "outlinewidth": 0,
              "ticks": ""
             }
            },
            "type": "scattercarpet"
           }
          ],
          "scattergeo": [
           {
            "marker": {
             "colorbar": {
              "outlinewidth": 0,
              "ticks": ""
             }
            },
            "type": "scattergeo"
           }
          ],
          "scattergl": [
           {
            "marker": {
             "colorbar": {
              "outlinewidth": 0,
              "ticks": ""
             }
            },
            "type": "scattergl"
           }
          ],
          "scattermap": [
           {
            "marker": {
             "colorbar": {
              "outlinewidth": 0,
              "ticks": ""
             }
            },
            "type": "scattermap"
           }
          ],
          "scattermapbox": [
           {
            "marker": {
             "colorbar": {
              "outlinewidth": 0,
              "ticks": ""
             }
            },
            "type": "scattermapbox"
           }
          ],
          "scatterpolar": [
           {
            "marker": {
             "colorbar": {
              "outlinewidth": 0,
              "ticks": ""
             }
            },
            "type": "scatterpolar"
           }
          ],
          "scatterpolargl": [
           {
            "marker": {
             "colorbar": {
              "outlinewidth": 0,
              "ticks": ""
             }
            },
            "type": "scatterpolargl"
           }
          ],
          "scatterternary": [
           {
            "marker": {
             "colorbar": {
              "outlinewidth": 0,
              "ticks": ""
             }
            },
            "type": "scatterternary"
           }
          ],
          "surface": [
           {
            "colorbar": {
             "outlinewidth": 0,
             "ticks": ""
            },
            "colorscale": [
             [
              0,
              "#0d0887"
             ],
             [
              0.1111111111111111,
              "#46039f"
             ],
             [
              0.2222222222222222,
              "#7201a8"
             ],
             [
              0.3333333333333333,
              "#9c179e"
             ],
             [
              0.4444444444444444,
              "#bd3786"
             ],
             [
              0.5555555555555556,
              "#d8576b"
             ],
             [
              0.6666666666666666,
              "#ed7953"
             ],
             [
              0.7777777777777778,
              "#fb9f3a"
             ],
             [
              0.8888888888888888,
              "#fdca26"
             ],
             [
              1,
              "#f0f921"
             ]
            ],
            "type": "surface"
           }
          ],
          "table": [
           {
            "cells": {
             "fill": {
              "color": "#EBF0F8"
             },
             "line": {
              "color": "white"
             }
            },
            "header": {
             "fill": {
              "color": "#C8D4E3"
             },
             "line": {
              "color": "white"
             }
            },
            "type": "table"
           }
          ]
         },
         "layout": {
          "annotationdefaults": {
           "arrowcolor": "#2a3f5f",
           "arrowhead": 0,
           "arrowwidth": 1
          },
          "autotypenumbers": "strict",
          "coloraxis": {
           "colorbar": {
            "outlinewidth": 0,
            "ticks": ""
           }
          },
          "colorscale": {
           "diverging": [
            [
             0,
             "#8e0152"
            ],
            [
             0.1,
             "#c51b7d"
            ],
            [
             0.2,
             "#de77ae"
            ],
            [
             0.3,
             "#f1b6da"
            ],
            [
             0.4,
             "#fde0ef"
            ],
            [
             0.5,
             "#f7f7f7"
            ],
            [
             0.6,
             "#e6f5d0"
            ],
            [
             0.7,
             "#b8e186"
            ],
            [
             0.8,
             "#7fbc41"
            ],
            [
             0.9,
             "#4d9221"
            ],
            [
             1,
             "#276419"
            ]
           ],
           "sequential": [
            [
             0,
             "#0d0887"
            ],
            [
             0.1111111111111111,
             "#46039f"
            ],
            [
             0.2222222222222222,
             "#7201a8"
            ],
            [
             0.3333333333333333,
             "#9c179e"
            ],
            [
             0.4444444444444444,
             "#bd3786"
            ],
            [
             0.5555555555555556,
             "#d8576b"
            ],
            [
             0.6666666666666666,
             "#ed7953"
            ],
            [
             0.7777777777777778,
             "#fb9f3a"
            ],
            [
             0.8888888888888888,
             "#fdca26"
            ],
            [
             1,
             "#f0f921"
            ]
           ],
           "sequentialminus": [
            [
             0,
             "#0d0887"
            ],
            [
             0.1111111111111111,
             "#46039f"
            ],
            [
             0.2222222222222222,
             "#7201a8"
            ],
            [
             0.3333333333333333,
             "#9c179e"
            ],
            [
             0.4444444444444444,
             "#bd3786"
            ],
            [
             0.5555555555555556,
             "#d8576b"
            ],
            [
             0.6666666666666666,
             "#ed7953"
            ],
            [
             0.7777777777777778,
             "#fb9f3a"
            ],
            [
             0.8888888888888888,
             "#fdca26"
            ],
            [
             1,
             "#f0f921"
            ]
           ]
          },
          "colorway": [
           "#636efa",
           "#EF553B",
           "#00cc96",
           "#ab63fa",
           "#FFA15A",
           "#19d3f3",
           "#FF6692",
           "#B6E880",
           "#FF97FF",
           "#FECB52"
          ],
          "font": {
           "color": "#2a3f5f"
          },
          "geo": {
           "bgcolor": "white",
           "lakecolor": "white",
           "landcolor": "#E5ECF6",
           "showlakes": true,
           "showland": true,
           "subunitcolor": "white"
          },
          "hoverlabel": {
           "align": "left"
          },
          "hovermode": "closest",
          "mapbox": {
           "style": "light"
          },
          "paper_bgcolor": "white",
          "plot_bgcolor": "#E5ECF6",
          "polar": {
           "angularaxis": {
            "gridcolor": "white",
            "linecolor": "white",
            "ticks": ""
           },
           "bgcolor": "#E5ECF6",
           "radialaxis": {
            "gridcolor": "white",
            "linecolor": "white",
            "ticks": ""
           }
          },
          "scene": {
           "xaxis": {
            "backgroundcolor": "#E5ECF6",
            "gridcolor": "white",
            "gridwidth": 2,
            "linecolor": "white",
            "showbackground": true,
            "ticks": "",
            "zerolinecolor": "white"
           },
           "yaxis": {
            "backgroundcolor": "#E5ECF6",
            "gridcolor": "white",
            "gridwidth": 2,
            "linecolor": "white",
            "showbackground": true,
            "ticks": "",
            "zerolinecolor": "white"
           },
           "zaxis": {
            "backgroundcolor": "#E5ECF6",
            "gridcolor": "white",
            "gridwidth": 2,
            "linecolor": "white",
            "showbackground": true,
            "ticks": "",
            "zerolinecolor": "white"
           }
          },
          "shapedefaults": {
           "line": {
            "color": "#2a3f5f"
           }
          },
          "ternary": {
           "aaxis": {
            "gridcolor": "white",
            "linecolor": "white",
            "ticks": ""
           },
           "baxis": {
            "gridcolor": "white",
            "linecolor": "white",
            "ticks": ""
           },
           "bgcolor": "#E5ECF6",
           "caxis": {
            "gridcolor": "white",
            "linecolor": "white",
            "ticks": ""
           }
          },
          "title": {
           "x": 0.05
          },
          "xaxis": {
           "automargin": true,
           "gridcolor": "white",
           "linecolor": "white",
           "ticks": "",
           "title": {
            "standoff": 15
           },
           "zerolinecolor": "white",
           "zerolinewidth": 2
          },
          "yaxis": {
           "automargin": true,
           "gridcolor": "white",
           "linecolor": "white",
           "ticks": "",
           "title": {
            "standoff": 15
           },
           "zerolinecolor": "white",
           "zerolinewidth": 2
          }
         }
        },
        "title": {
         "text": "Some sort of title"
        },
        "xaxis": {
         "anchor": "y",
         "domain": [
          0,
          1
         ],
         "title": {
          "text": "Passengers"
         }
        },
        "yaxis": {
         "anchor": "x",
         "domain": [
          0,
          1
         ],
         "title": {
          "text": "Flights"
         }
        }
       }
      }
     },
     "metadata": {},
     "output_type": "display_data"
    }
   ],
   "source": [
    "usRoutesAvgGraph = usRoutesAVG\n",
    "\n",
    "fig = px.scatter(usRoutesAvgGraph, \n",
    "              x = 'Passengers', \n",
    "              y = 'Flights',\n",
    "              title = 'Some sort of title',\n",
    "              labels = {'SRCCNT' : 'Source of Route Count', 'DESTINCNT' : 'Destination of Route Count'}\n",
    "            )\n",
    "\n",
    "fig.show()"
   ]
  },
  {
   "cell_type": "code",
   "execution_count": 94,
   "metadata": {},
   "outputs": [
    {
     "ename": "KeyError",
     "evalue": "'SRCNAME'",
     "output_type": "error",
     "traceback": [
      "\u001b[1;31m---------------------------------------------------------------------------\u001b[0m",
      "\u001b[1;31mKeyError\u001b[0m                                  Traceback (most recent call last)",
      "\u001b[1;32m~\\AppData\\Local\\Temp\\ipykernel_28560\\3585830477.py\u001b[0m in \u001b[0;36m?\u001b[1;34m()\u001b[0m\n\u001b[0;32m     16\u001b[0m \u001b[0mroutes\u001b[0m \u001b[1;33m=\u001b[0m \u001b[0mroutes\u001b[0m\u001b[1;33m[\u001b[0m\u001b[1;33m[\u001b[0m\u001b[1;34m'SRC_AIRPT'\u001b[0m\u001b[1;33m,\u001b[0m \u001b[1;34m'DESTN_AIRPT'\u001b[0m\u001b[1;33m,\u001b[0m \u001b[1;34m'EQPT'\u001b[0m\u001b[1;33m]\u001b[0m\u001b[1;33m]\u001b[0m\u001b[1;33m\u001b[0m\u001b[1;33m\u001b[0m\u001b[0m\n\u001b[0;32m     17\u001b[0m \u001b[1;33m\u001b[0m\u001b[0m\n\u001b[0;32m     18\u001b[0m \u001b[0musRoutes\u001b[0m \u001b[1;33m=\u001b[0m \u001b[0musRoutes\u001b[0m\u001b[1;33m.\u001b[0m\u001b[0mmerge\u001b[0m\u001b[1;33m(\u001b[0m\u001b[0mroutes\u001b[0m\u001b[1;33m,\u001b[0m \u001b[0mhow\u001b[0m\u001b[1;33m=\u001b[0m\u001b[1;34m\"left\"\u001b[0m\u001b[1;33m,\u001b[0m \u001b[0mleft_on\u001b[0m\u001b[1;33m=\u001b[0m\u001b[1;33m[\u001b[0m\u001b[1;34m'SRCIATA'\u001b[0m\u001b[1;33m,\u001b[0m \u001b[1;34m'DESTINIATA'\u001b[0m\u001b[1;33m]\u001b[0m\u001b[1;33m,\u001b[0m \u001b[0mright_on\u001b[0m\u001b[1;33m=\u001b[0m\u001b[1;33m[\u001b[0m\u001b[1;34m'SRC_AIRPT'\u001b[0m\u001b[1;33m,\u001b[0m \u001b[1;34m'DESTN_AIRPT'\u001b[0m\u001b[1;33m]\u001b[0m\u001b[1;33m)\u001b[0m\u001b[1;33m\u001b[0m\u001b[1;33m\u001b[0m\u001b[0m\n\u001b[0;32m     19\u001b[0m \u001b[0musRoutes\u001b[0m \u001b[1;33m=\u001b[0m \u001b[0musRoutes\u001b[0m\u001b[1;33m.\u001b[0m\u001b[0mmerge\u001b[0m\u001b[1;33m(\u001b[0m\u001b[0musRoutesPopMerge\u001b[0m\u001b[1;33m,\u001b[0m \u001b[0mhow\u001b[0m\u001b[1;33m=\u001b[0m\u001b[1;34m\"left\"\u001b[0m\u001b[1;33m,\u001b[0m \u001b[0mon\u001b[0m\u001b[1;33m=\u001b[0m\u001b[1;33m[\u001b[0m\u001b[1;34m'SRCIATA'\u001b[0m\u001b[1;33m,\u001b[0m \u001b[1;34m'DESTINIATA'\u001b[0m\u001b[1;33m]\u001b[0m\u001b[1;33m)\u001b[0m\u001b[1;33m\u001b[0m\u001b[1;33m\u001b[0m\u001b[0m\n\u001b[1;32m---> 20\u001b[1;33m \u001b[0musRoutes\u001b[0m \u001b[1;33m=\u001b[0m \u001b[0musRoutes\u001b[0m\u001b[1;33m.\u001b[0m\u001b[0mmerge\u001b[0m\u001b[1;33m(\u001b[0m\u001b[0musRoutesPopIn\u001b[0m\u001b[1;33m,\u001b[0m \u001b[0mhow\u001b[0m\u001b[1;33m=\u001b[0m\u001b[1;34m\"left\"\u001b[0m\u001b[1;33m,\u001b[0m \u001b[0mleft_on\u001b[0m\u001b[1;33m=\u001b[0m\u001b[1;34m'SRCNAME'\u001b[0m\u001b[1;33m,\u001b[0m \u001b[0mright_on\u001b[0m\u001b[1;33m=\u001b[0m\u001b[1;34m'SRCNAME'\u001b[0m\u001b[1;33m)\u001b[0m\u001b[1;33m\u001b[0m\u001b[1;33m\u001b[0m\u001b[0m\n\u001b[0m\u001b[0;32m     21\u001b[0m \u001b[1;31m#usRoutesPopIn\u001b[0m\u001b[1;33m\u001b[0m\u001b[1;33m\u001b[0m\u001b[0m\n\u001b[0;32m     22\u001b[0m \u001b[1;31m#usRoutes = usRoutes.merge(usRoutesPopOut, how=\"left\", on=['DESTINNAME'])\u001b[0m\u001b[1;33m\u001b[0m\u001b[1;33m\u001b[0m\u001b[0m\n\u001b[0;32m     23\u001b[0m \u001b[1;33m\u001b[0m\u001b[0m\n",
      "\u001b[1;32m~\\AppData\\Roaming\\Python\\Python312\\site-packages\\pandas\\core\\frame.py\u001b[0m in \u001b[0;36m?\u001b[1;34m(self, right, how, on, left_on, right_on, left_index, right_index, sort, suffixes, copy, indicator, validate)\u001b[0m\n\u001b[0;32m  10828\u001b[0m         \u001b[0mvalidate\u001b[0m\u001b[1;33m:\u001b[0m \u001b[0mMergeValidate\u001b[0m \u001b[1;33m|\u001b[0m \u001b[1;32mNone\u001b[0m \u001b[1;33m=\u001b[0m \u001b[1;32mNone\u001b[0m\u001b[1;33m,\u001b[0m\u001b[1;33m\u001b[0m\u001b[1;33m\u001b[0m\u001b[0m\n\u001b[0;32m  10829\u001b[0m     \u001b[1;33m)\u001b[0m \u001b[1;33m->\u001b[0m \u001b[0mDataFrame\u001b[0m\u001b[1;33m:\u001b[0m\u001b[1;33m\u001b[0m\u001b[1;33m\u001b[0m\u001b[0m\n\u001b[0;32m  10830\u001b[0m         \u001b[1;32mfrom\u001b[0m \u001b[0mpandas\u001b[0m\u001b[1;33m.\u001b[0m\u001b[0mcore\u001b[0m\u001b[1;33m.\u001b[0m\u001b[0mreshape\u001b[0m\u001b[1;33m.\u001b[0m\u001b[0mmerge\u001b[0m \u001b[1;32mimport\u001b[0m \u001b[0mmerge\u001b[0m\u001b[1;33m\u001b[0m\u001b[1;33m\u001b[0m\u001b[0m\n\u001b[0;32m  10831\u001b[0m \u001b[1;33m\u001b[0m\u001b[0m\n\u001b[1;32m> 10832\u001b[1;33m         return merge(\n\u001b[0m\u001b[0;32m  10833\u001b[0m             \u001b[0mself\u001b[0m\u001b[1;33m,\u001b[0m\u001b[1;33m\u001b[0m\u001b[1;33m\u001b[0m\u001b[0m\n\u001b[0;32m  10834\u001b[0m             \u001b[0mright\u001b[0m\u001b[1;33m,\u001b[0m\u001b[1;33m\u001b[0m\u001b[1;33m\u001b[0m\u001b[0m\n\u001b[0;32m  10835\u001b[0m             \u001b[0mhow\u001b[0m\u001b[1;33m=\u001b[0m\u001b[0mhow\u001b[0m\u001b[1;33m,\u001b[0m\u001b[1;33m\u001b[0m\u001b[1;33m\u001b[0m\u001b[0m\n",
      "\u001b[1;32m~\\AppData\\Roaming\\Python\\Python312\\site-packages\\pandas\\core\\reshape\\merge.py\u001b[0m in \u001b[0;36m?\u001b[1;34m(left, right, how, on, left_on, right_on, left_index, right_index, sort, suffixes, copy, indicator, validate)\u001b[0m\n\u001b[0;32m    166\u001b[0m             \u001b[0mvalidate\u001b[0m\u001b[1;33m=\u001b[0m\u001b[0mvalidate\u001b[0m\u001b[1;33m,\u001b[0m\u001b[1;33m\u001b[0m\u001b[1;33m\u001b[0m\u001b[0m\n\u001b[0;32m    167\u001b[0m             \u001b[0mcopy\u001b[0m\u001b[1;33m=\u001b[0m\u001b[0mcopy\u001b[0m\u001b[1;33m,\u001b[0m\u001b[1;33m\u001b[0m\u001b[1;33m\u001b[0m\u001b[0m\n\u001b[0;32m    168\u001b[0m         \u001b[1;33m)\u001b[0m\u001b[1;33m\u001b[0m\u001b[1;33m\u001b[0m\u001b[0m\n\u001b[0;32m    169\u001b[0m     \u001b[1;32melse\u001b[0m\u001b[1;33m:\u001b[0m\u001b[1;33m\u001b[0m\u001b[1;33m\u001b[0m\u001b[0m\n\u001b[1;32m--> 170\u001b[1;33m         op = _MergeOperation(\n\u001b[0m\u001b[0;32m    171\u001b[0m             \u001b[0mleft_df\u001b[0m\u001b[1;33m,\u001b[0m\u001b[1;33m\u001b[0m\u001b[1;33m\u001b[0m\u001b[0m\n\u001b[0;32m    172\u001b[0m             \u001b[0mright_df\u001b[0m\u001b[1;33m,\u001b[0m\u001b[1;33m\u001b[0m\u001b[1;33m\u001b[0m\u001b[0m\n\u001b[0;32m    173\u001b[0m             \u001b[0mhow\u001b[0m\u001b[1;33m=\u001b[0m\u001b[0mhow\u001b[0m\u001b[1;33m,\u001b[0m\u001b[1;33m\u001b[0m\u001b[1;33m\u001b[0m\u001b[0m\n",
      "\u001b[1;32m~\\AppData\\Roaming\\Python\\Python312\\site-packages\\pandas\\core\\reshape\\merge.py\u001b[0m in \u001b[0;36m?\u001b[1;34m(self, left, right, how, on, left_on, right_on, left_index, right_index, sort, suffixes, indicator, validate)\u001b[0m\n\u001b[0;32m    790\u001b[0m             \u001b[0mself\u001b[0m\u001b[1;33m.\u001b[0m\u001b[0mright_join_keys\u001b[0m\u001b[1;33m,\u001b[0m\u001b[1;33m\u001b[0m\u001b[1;33m\u001b[0m\u001b[0m\n\u001b[0;32m    791\u001b[0m             \u001b[0mself\u001b[0m\u001b[1;33m.\u001b[0m\u001b[0mjoin_names\u001b[0m\u001b[1;33m,\u001b[0m\u001b[1;33m\u001b[0m\u001b[1;33m\u001b[0m\u001b[0m\n\u001b[0;32m    792\u001b[0m             \u001b[0mleft_drop\u001b[0m\u001b[1;33m,\u001b[0m\u001b[1;33m\u001b[0m\u001b[1;33m\u001b[0m\u001b[0m\n\u001b[0;32m    793\u001b[0m             \u001b[0mright_drop\u001b[0m\u001b[1;33m,\u001b[0m\u001b[1;33m\u001b[0m\u001b[1;33m\u001b[0m\u001b[0m\n\u001b[1;32m--> 794\u001b[1;33m         \u001b[1;33m)\u001b[0m \u001b[1;33m=\u001b[0m \u001b[0mself\u001b[0m\u001b[1;33m.\u001b[0m\u001b[0m_get_merge_keys\u001b[0m\u001b[1;33m(\u001b[0m\u001b[1;33m)\u001b[0m\u001b[1;33m\u001b[0m\u001b[1;33m\u001b[0m\u001b[0m\n\u001b[0m\u001b[0;32m    795\u001b[0m \u001b[1;33m\u001b[0m\u001b[0m\n\u001b[0;32m    796\u001b[0m         \u001b[1;32mif\u001b[0m \u001b[0mleft_drop\u001b[0m\u001b[1;33m:\u001b[0m\u001b[1;33m\u001b[0m\u001b[1;33m\u001b[0m\u001b[0m\n\u001b[0;32m    797\u001b[0m             \u001b[0mself\u001b[0m\u001b[1;33m.\u001b[0m\u001b[0mleft\u001b[0m \u001b[1;33m=\u001b[0m \u001b[0mself\u001b[0m\u001b[1;33m.\u001b[0m\u001b[0mleft\u001b[0m\u001b[1;33m.\u001b[0m\u001b[0m_drop_labels_or_levels\u001b[0m\u001b[1;33m(\u001b[0m\u001b[0mleft_drop\u001b[0m\u001b[1;33m)\u001b[0m\u001b[1;33m\u001b[0m\u001b[1;33m\u001b[0m\u001b[0m\n",
      "\u001b[1;32m~\\AppData\\Roaming\\Python\\Python312\\site-packages\\pandas\\core\\reshape\\merge.py\u001b[0m in \u001b[0;36m?\u001b[1;34m(self)\u001b[0m\n\u001b[0;32m   1293\u001b[0m                         \u001b[1;31m# Then we're either Hashable or a wrong-length arraylike,\u001b[0m\u001b[1;33m\u001b[0m\u001b[1;33m\u001b[0m\u001b[0m\n\u001b[0;32m   1294\u001b[0m                         \u001b[1;31m#  the latter of which will raise\u001b[0m\u001b[1;33m\u001b[0m\u001b[1;33m\u001b[0m\u001b[0m\n\u001b[0;32m   1295\u001b[0m                         \u001b[0mrk\u001b[0m \u001b[1;33m=\u001b[0m \u001b[0mcast\u001b[0m\u001b[1;33m(\u001b[0m\u001b[0mHashable\u001b[0m\u001b[1;33m,\u001b[0m \u001b[0mrk\u001b[0m\u001b[1;33m)\u001b[0m\u001b[1;33m\u001b[0m\u001b[1;33m\u001b[0m\u001b[0m\n\u001b[0;32m   1296\u001b[0m                         \u001b[1;32mif\u001b[0m \u001b[0mrk\u001b[0m \u001b[1;32mis\u001b[0m \u001b[1;32mnot\u001b[0m \u001b[1;32mNone\u001b[0m\u001b[1;33m:\u001b[0m\u001b[1;33m\u001b[0m\u001b[1;33m\u001b[0m\u001b[0m\n\u001b[1;32m-> 1297\u001b[1;33m                             \u001b[0mright_keys\u001b[0m\u001b[1;33m.\u001b[0m\u001b[0mappend\u001b[0m\u001b[1;33m(\u001b[0m\u001b[0mright\u001b[0m\u001b[1;33m.\u001b[0m\u001b[0m_get_label_or_level_values\u001b[0m\u001b[1;33m(\u001b[0m\u001b[0mrk\u001b[0m\u001b[1;33m)\u001b[0m\u001b[1;33m)\u001b[0m\u001b[1;33m\u001b[0m\u001b[1;33m\u001b[0m\u001b[0m\n\u001b[0m\u001b[0;32m   1298\u001b[0m                         \u001b[1;32melse\u001b[0m\u001b[1;33m:\u001b[0m\u001b[1;33m\u001b[0m\u001b[1;33m\u001b[0m\u001b[0m\n\u001b[0;32m   1299\u001b[0m                             \u001b[1;31m# work-around for merge_asof(right_index=True)\u001b[0m\u001b[1;33m\u001b[0m\u001b[1;33m\u001b[0m\u001b[0m\n\u001b[0;32m   1300\u001b[0m                             \u001b[0mright_keys\u001b[0m\u001b[1;33m.\u001b[0m\u001b[0mappend\u001b[0m\u001b[1;33m(\u001b[0m\u001b[0mright\u001b[0m\u001b[1;33m.\u001b[0m\u001b[0mindex\u001b[0m\u001b[1;33m.\u001b[0m\u001b[0m_values\u001b[0m\u001b[1;33m)\u001b[0m\u001b[1;33m\u001b[0m\u001b[1;33m\u001b[0m\u001b[0m\n",
      "\u001b[1;32m~\\AppData\\Roaming\\Python\\Python312\\site-packages\\pandas\\core\\generic.py\u001b[0m in \u001b[0;36m?\u001b[1;34m(self, key, axis)\u001b[0m\n\u001b[0;32m   1907\u001b[0m             \u001b[0mvalues\u001b[0m \u001b[1;33m=\u001b[0m \u001b[0mself\u001b[0m\u001b[1;33m.\u001b[0m\u001b[0mxs\u001b[0m\u001b[1;33m(\u001b[0m\u001b[0mkey\u001b[0m\u001b[1;33m,\u001b[0m \u001b[0maxis\u001b[0m\u001b[1;33m=\u001b[0m\u001b[0mother_axes\u001b[0m\u001b[1;33m[\u001b[0m\u001b[1;36m0\u001b[0m\u001b[1;33m]\u001b[0m\u001b[1;33m)\u001b[0m\u001b[1;33m.\u001b[0m\u001b[0m_values\u001b[0m\u001b[1;33m\u001b[0m\u001b[1;33m\u001b[0m\u001b[0m\n\u001b[0;32m   1908\u001b[0m         \u001b[1;32melif\u001b[0m \u001b[0mself\u001b[0m\u001b[1;33m.\u001b[0m\u001b[0m_is_level_reference\u001b[0m\u001b[1;33m(\u001b[0m\u001b[0mkey\u001b[0m\u001b[1;33m,\u001b[0m \u001b[0maxis\u001b[0m\u001b[1;33m=\u001b[0m\u001b[0maxis\u001b[0m\u001b[1;33m)\u001b[0m\u001b[1;33m:\u001b[0m\u001b[1;33m\u001b[0m\u001b[1;33m\u001b[0m\u001b[0m\n\u001b[0;32m   1909\u001b[0m             \u001b[0mvalues\u001b[0m \u001b[1;33m=\u001b[0m \u001b[0mself\u001b[0m\u001b[1;33m.\u001b[0m\u001b[0maxes\u001b[0m\u001b[1;33m[\u001b[0m\u001b[0maxis\u001b[0m\u001b[1;33m]\u001b[0m\u001b[1;33m.\u001b[0m\u001b[0mget_level_values\u001b[0m\u001b[1;33m(\u001b[0m\u001b[0mkey\u001b[0m\u001b[1;33m)\u001b[0m\u001b[1;33m.\u001b[0m\u001b[0m_values\u001b[0m\u001b[1;33m\u001b[0m\u001b[1;33m\u001b[0m\u001b[0m\n\u001b[0;32m   1910\u001b[0m         \u001b[1;32melse\u001b[0m\u001b[1;33m:\u001b[0m\u001b[1;33m\u001b[0m\u001b[1;33m\u001b[0m\u001b[0m\n\u001b[1;32m-> 1911\u001b[1;33m             \u001b[1;32mraise\u001b[0m \u001b[0mKeyError\u001b[0m\u001b[1;33m(\u001b[0m\u001b[0mkey\u001b[0m\u001b[1;33m)\u001b[0m\u001b[1;33m\u001b[0m\u001b[1;33m\u001b[0m\u001b[0m\n\u001b[0m\u001b[0;32m   1912\u001b[0m \u001b[1;33m\u001b[0m\u001b[0m\n\u001b[0;32m   1913\u001b[0m         \u001b[1;31m# Check for duplicates\u001b[0m\u001b[1;33m\u001b[0m\u001b[1;33m\u001b[0m\u001b[0m\n\u001b[0;32m   1914\u001b[0m         \u001b[1;32mif\u001b[0m \u001b[0mvalues\u001b[0m\u001b[1;33m.\u001b[0m\u001b[0mndim\u001b[0m \u001b[1;33m>\u001b[0m \u001b[1;36m1\u001b[0m\u001b[1;33m:\u001b[0m\u001b[1;33m\u001b[0m\u001b[1;33m\u001b[0m\u001b[0m\n",
      "\u001b[1;31mKeyError\u001b[0m: 'SRCNAME'"
     ]
    }
   ],
   "source": [
    "usRoutes = usRoutes_csv \n",
    "\n",
    "routes_csv = pd.read_csv('../data/openFlightsRaw/routes.csv')\n",
    "#flightSamples_csv = pd.read_csv('../data/openFlightsRaw/routes.csv')\n",
    "\n",
    "\n",
    "usRoutesPopMerge = usRoutesPop\n",
    "\n",
    "usRoutesPopMerge['Incoming'] = 1\n",
    "usRoutesPopMerge['Outgoing'] = 1\n",
    "usRoutesPopIn = usRoutesPopMerge.groupby('DESTINNAME')['Incoming'].sum()\n",
    "usRoutesPopOut = usRoutesPopMerge.groupby('SRCNAME')['Outgoing'].sum()\n",
    "usRoutesPopMerge = usRoutesPopMerge[['SRCIATA', 'DESTINIATA', 'Population']]\n",
    "\n",
    "routes = routes_csv\n",
    "routes = routes[['SRC_AIRPT', 'DESTN_AIRPT', 'EQPT']]\n",
    "\n",
    "usRoutes = usRoutes.merge(routes, how=\"left\", left_on=['SRCIATA', 'DESTINIATA'], right_on=['SRC_AIRPT', 'DESTN_AIRPT'])\n",
    "usRoutes = usRoutes.merge(usRoutesPopMerge, how=\"left\", on=['SRCIATA', 'DESTINIATA'])\n",
    "usRoutes = usRoutes.merge(usRoutesPopIn, how=\"left\", left_on='SRCNAME', right_on='SRCNAME')\n",
    "#usRoutesPopIn\n",
    "#usRoutes = usRoutes.merge(usRoutesPopOut, how=\"left\", on=['DESTINNAME'])\n",
    "\n",
    "#usRoutes"
   ]
  }
 ],
 "metadata": {
  "kernelspec": {
   "display_name": "Python 3",
   "language": "python",
   "name": "python3"
  },
  "language_info": {
   "codemirror_mode": {
    "name": "ipython",
    "version": 3
   },
   "file_extension": ".py",
   "mimetype": "text/x-python",
   "name": "python",
   "nbconvert_exporter": "python",
   "pygments_lexer": "ipython3",
   "version": "3.12.6"
  }
 },
 "nbformat": 4,
 "nbformat_minor": 2
}

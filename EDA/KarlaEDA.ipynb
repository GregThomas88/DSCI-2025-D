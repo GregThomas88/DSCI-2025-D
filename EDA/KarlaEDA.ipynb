{
  "cells": [
    {
      "cell_type": "markdown",
      "id": "6ede000e",
      "metadata": {},
      "source": [
        "Karla Jacobo\n",
        "DSCI 8950\n",
        "EDA Assignment\n",
        "\n",
        "To start off the Exploratory Data Analysis, I am going to import the data from my team's selected data sources and store them in local variables for easier access. "
      ]
    },
    {
      "cell_type": "code",
      "execution_count": 3,
      "id": "d038840d",
      "metadata": {},
      "outputs": [],
      "source": [
        "import numpy as np\n",
        "import pandas as pd\n",
        "import collections\n",
        "\n",
        "airline = pd.read_csv('../data/openFlightsRaw/airline.csv')\n",
        "airports = pd.read_csv('../data/openFlightsRaw/airports.csv')\n",
        "countries = pd.read_csv('../data/openFlightsRaw/countries.csv')\n",
        "planes = pd.read_csv('../data/openFlightsRaw/planes.csv')\n",
        "routes = pd.read_csv('../data/openFlightsRaw/routes.csv')"
      ]
    },
    {
      "cell_type": "markdown",
      "id": "7ce53789",
      "metadata": {},
      "source": [
        "In the next block of code, I am going to gather the following information from the datasets:\n",
        "    - Number of Rows\n",
        "    - Number of Columns\n",
        "    - Data types"
      ]
    },
    {
      "cell_type": "code",
      "execution_count": 111,
      "id": "42734ba7",
      "metadata": {},
      "outputs": [
        {
          "name": "stdout",
          "output_type": "stream",
          "text": [
            "Airline table size: 6162 rows, 8 columns\n",
            "Airports table size: 7698 rows, 14 columns\n",
            "Countries table size: 261 rows, 3 columns\n",
            "Planes table size: 246 rows, 3 columns\n",
            "Routes table size: 67663 rows, 9 columns\n",
            "\n",
            "All data types featured in tables: \n",
            "Counter({'object': 31, 'int64': 4, 'float64': 2})\n"
          ]
        }
      ],
      "source": [
        "tables = [airline, airports, countries, planes, routes]\n",
        "allTableTypes = []\n",
        "airline.name = 'Airline'\n",
        "airports.name = 'Airports'\n",
        "countries.name = 'Countries'\n",
        "planes.name = 'Planes'\n",
        "routes.name = 'Routes'\n",
        "\n",
        "for table in tables:\n",
        "    print(f'{table.name} table size: {str(table.shape[0])} rows, {str(table.shape[1])} columns')\n",
        "\n",
        "print()\n",
        "\n",
        "for table in tables:\n",
        "    dataTypes = table.dtypes.values\n",
        "\n",
        "    for type in dataTypes:\n",
        "        allTableTypes.append(str(np.dtype(type)))\n",
        "\n",
        "print('All data types featured in tables: ')\n",
        "print(collections.Counter(allTableTypes))\n"
      ]
    },
    {
      "cell_type": "markdown",
      "id": "635b4fb9",
      "metadata": {},
      "source": [
        "Based on the information extracted above, we will be working with Integers, Floats, and Strings. For additional context, the dtype attribute labels Strings as Objects.\n",
        "\n",
        "By including the counts of the unique data types in the tables, we can extrapolate that a majority of the data we have is categorical. With 31 columns being Strings, and the other 6 being Integers and Floats, the numerical data we have is slim.\n",
        "\n",
        "Next I am going to find rows and columns within the data sets that contain null values."
      ]
    },
    {
      "cell_type": "code",
      "execution_count": 117,
      "id": "d158f4b1",
      "metadata": {},
      "outputs": [
        {
          "name": "stdout",
          "output_type": "stream",
          "text": [
            "Airline table: 5152 rows out of 6162 are missing data. Columns with most data missing: \n",
            "\t Column: IATA is missing 4627 rows of data.\n",
            "\t Column: CLSGN is missing 808 rows of data.\n",
            "\t Column: ALIAS is missing 506 rows of data.\n",
            "\n",
            "Airports table: 49 rows out of 7698 are missing data. Columns with most data missing: \n",
            "\t Column: CTY is missing 49 rows of data.\n",
            "\t Column: AIRPT_ID is missing 0 rows of data.\n",
            "\t Column: NAME is missing 0 rows of data.\n",
            "\n",
            "Countries table: 2 rows out of 261 are missing data. Columns with most data missing: \n",
            "\t Column: ISO_CD is missing 1 rows of data.\n",
            "\t Column: DAFIF_CD is missing 1 rows of data.\n",
            "\t Column: NAME is missing 0 rows of data.\n",
            "\n",
            "Planes table: 0 rows out of 246 are missing data. Columns with most data missing: \n",
            "\t Column: NAME is missing 0 rows of data.\n",
            "\t Column: IATA is missing 0 rows of data.\n",
            "\t Column: ICAO is missing 0 rows of data.\n",
            "\n",
            "Routes table: 53066 rows out of 67663 are missing data. Columns with most data missing: \n",
            "\t Column: CDSHARE is missing 53066 rows of data.\n",
            "\t Column: EQPT is missing 18 rows of data.\n",
            "\t Column: AIRLINE is missing 0 rows of data.\n",
            "\n"
          ]
        }
      ],
      "source": [
        "for table in tables:\n",
        "    null_data = table[table.isnull().any(axis=1)]\n",
        "    null_data_by_column = table.isnull().sum().sort_values(ascending=False).head(3)\n",
        "\n",
        "    print(f'{table.name} table: ', end='')\n",
        "    print(f'{str(null_data.shape[0])} rows out of {str(table.shape[0])} are missing data. Columns with most data missing: ')\n",
        "\n",
        "    for index, value in null_data_by_column.items():\n",
        "        print(f'\\t Column: {str(index)} is missing {str(value)} rows of data.')\n",
        "    print()\n"
      ]
    },
    {
      "cell_type": "markdown",
      "id": "e0d7253c",
      "metadata": {},
      "source": [
        "Through the analysis conducted above, we can see that there are many instances of missing data. While that is not uncommon in data sets, getting more detail on where the data is missing will help narrow down any problem areas.\n",
        "\n",
        "For example, the Airline table had the most missing data out of all of the tables. It seems as though one the IATA column is missing data for most of the rows in the table. Because we now know this, we can evaluate whether or not we need the data in that column."
      ]
    }
  ],
  "metadata": {
    "kernelspec": {
      "display_name": ".venv",
      "language": "python",
      "name": "python3"
    },
    "language_info": {
      "codemirror_mode": {
        "name": "ipython",
        "version": 3
      },
      "file_extension": ".py",
      "mimetype": "text/x-python",
      "name": "python",
      "nbconvert_exporter": "python",
      "pygments_lexer": "ipython3",
      "version": "3.11.9"
    }
  },
  "nbformat": 4,
  "nbformat_minor": 5
}

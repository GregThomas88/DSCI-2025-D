{
  "cells": [
    {
      "cell_type": "markdown",
      "id": "6ede000e",
      "metadata": {},
      "source": [
        "Karla Jacobo\n",
        "DSCI 8950\n",
        "EDA Assignment\n",
        "\n",
        "To start off the Exploratory Data Analysis, I am going to import the data from my team's selected data sources and store them in local variables for easier access. "
      ]
    },
    {
      "cell_type": "code",
      "execution_count": 138,
      "id": "d038840d",
      "metadata": {},
      "outputs": [],
      "source": [
        "import numpy as np\n",
        "import pandas as pd\n",
        "\n",
        "airline = pd.read_csv('../data/openFlightsRaw/airline.csv')\n",
        "airports = pd.read_csv('../data/openFlightsRaw/airports.csv')\n",
        "countries = pd.read_csv('../data/openFlightsRaw/countries.csv')\n",
        "planes = pd.read_csv('../data/openFlightsRaw/planes.csv')\n",
        "routes = pd.read_csv('../data/openFlightsRaw/routes.csv')"
      ]
    },
    {
      "cell_type": "markdown",
      "id": "7ce53789",
      "metadata": {},
      "source": [
        "In the next block of code, I am going to gather the following information from the datasets:\n",
        "    - Number of Rows\n",
        "    - Number of Columns\n",
        "    - Data types"
      ]
    },
    {
      "cell_type": "code",
      "execution_count": 183,
      "id": "42734ba7",
      "metadata": {},
      "outputs": [
        {
          "name": "stdout",
          "output_type": "stream",
          "text": [
            "Airline table size: 6161 rows, 8 columns\n",
            "Airports table size: 7697 rows, 14 columns\n",
            "Countries table size: 260 rows, 3 columns\n",
            "Planes table size: 245 rows, 3 columns\n",
            "Routes table size: 67662 rows, 9 columns\n",
            "\n",
            "All data types featured in tables: \n",
            "{'int64', 'object', 'float64'}\n"
          ]
        }
      ],
      "source": [
        "tables = [airline, airports, countries, planes, routes]\n",
        "allTableTypes = []\n",
        "airline.name = 'Airline'\n",
        "airports.name = 'Airports'\n",
        "countries.name = 'Countries'\n",
        "planes.name = 'Planes'\n",
        "routes.name = 'Routes'\n",
        "\n",
        "for table in tables:\n",
        "    print(table.name + ' table size: ' + str(table.shape[0]) + ' rows, ' + str(table.shape[1]) + ' columns')\n",
        "\n",
        "print()\n",
        "\n",
        "for table in tables:\n",
        "    dataTypes = table.dtypes.values\n",
        "\n",
        "    for type in dataTypes:\n",
        "        allTableTypes.append(str(np.dtype(type)))\n",
        "\n",
        "print('All data types featured in tables: ')\n",
        "print(set(allTableTypes))\n"
      ]
    }
  ],
  "metadata": {
    "kernelspec": {
      "display_name": ".venv",
      "language": "python",
      "name": "python3"
    },
    "language_info": {
      "codemirror_mode": {
        "name": "ipython",
        "version": 3
      },
      "file_extension": ".py",
      "mimetype": "text/x-python",
      "name": "python",
      "nbconvert_exporter": "python",
      "pygments_lexer": "ipython3",
      "version": "3.11.9"
    }
  },
  "nbformat": 4,
  "nbformat_minor": 5
}

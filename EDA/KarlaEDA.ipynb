{
  "cells": [
    {
      "cell_type": "markdown",
      "id": "6ede000e",
      "metadata": {},
      "source": [
        "Karla Jacobo\n",
        "DSCI 8950\n",
        "EDA Assignment\n",
        "\n",
        "To start off the Exploratory Data Analysis, I am going to import the data from my team's selected data sources and store them in local variables for easier access. "
      ]
    },
    {
      "cell_type": "code",
      "execution_count": null,
      "id": "d038840d",
      "metadata": {},
      "outputs": [],
      "source": [
        "import pandas as pd\n",
        "\n",
        "airline = pd.read_csv('../data/openFlightsRaw/airline.csv')\n",
        "airports = pd.read_csv('../data/openFlightsRaw/airports.csv')\n",
        "countries = pd.read_csv('../data/openFlightsRaw/countries.csv')\n",
        "planes = pd.read_csv('../data/openFlightsRaw/planes.csv')\n",
        "routes = pd.read_csv('../data/openFlightsRaw/routes.csv')"
      ]
    }
  ],
  "metadata": {
    "kernelspec": {
      "display_name": ".venv",
      "language": "python",
      "name": "python3"
    },
    "language_info": {
      "codemirror_mode": {
        "name": "ipython",
        "version": 3
      },
      "file_extension": ".py",
      "mimetype": "text/x-python",
      "name": "python",
      "nbconvert_exporter": "python",
      "pygments_lexer": "ipython3",
      "version": "3.11.9"
    }
  },
  "nbformat": 4,
  "nbformat_minor": 5
}

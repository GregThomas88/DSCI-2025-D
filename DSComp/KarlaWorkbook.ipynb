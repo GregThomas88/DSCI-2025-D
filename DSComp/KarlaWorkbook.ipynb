{
 "cells": [
  {
   "cell_type": "code",
   "execution_count": 1,
   "metadata": {},
   "outputs": [
    {
     "ename": "ModuleNotFoundError",
     "evalue": "No module named 'catboost'",
     "output_type": "error",
     "traceback": [
      "\u001b[31m---------------------------------------------------------------------------\u001b[39m",
      "\u001b[31mModuleNotFoundError\u001b[39m                       Traceback (most recent call last)",
      "\u001b[36mCell\u001b[39m\u001b[36m \u001b[39m\u001b[32mIn[1]\u001b[39m\u001b[32m, line 3\u001b[39m\n\u001b[32m      1\u001b[39m \u001b[38;5;66;03m#----------------------- imports -------------------------\u001b[39;00m\n\u001b[32m      2\u001b[39m \u001b[38;5;28;01mimport\u001b[39;00m\u001b[38;5;250m \u001b[39m\u001b[34;01mpandas\u001b[39;00m\u001b[38;5;250m \u001b[39m\u001b[38;5;28;01mas\u001b[39;00m\u001b[38;5;250m \u001b[39m\u001b[34;01mpd\u001b[39;00m\n\u001b[32m----> \u001b[39m\u001b[32m3\u001b[39m \u001b[38;5;28;01mfrom\u001b[39;00m\u001b[38;5;250m \u001b[39m\u001b[34;01mcatboost\u001b[39;00m\u001b[38;5;250m \u001b[39m\u001b[38;5;28;01mimport\u001b[39;00m CatBoostRegressor\n\u001b[32m      4\u001b[39m \u001b[38;5;28;01mfrom\u001b[39;00m\u001b[38;5;250m \u001b[39m\u001b[34;01msklearn\u001b[39;00m\u001b[34;01m.\u001b[39;00m\u001b[34;01mtree\u001b[39;00m\u001b[38;5;250m \u001b[39m\u001b[38;5;28;01mimport\u001b[39;00m DecisionTreeRegressor\n\u001b[32m      5\u001b[39m \u001b[38;5;28;01mfrom\u001b[39;00m\u001b[38;5;250m \u001b[39m\u001b[34;01msklearn\u001b[39;00m\u001b[34;01m.\u001b[39;00m\u001b[34;01mmodel_selection\u001b[39;00m\u001b[38;5;250m \u001b[39m\u001b[38;5;28;01mimport\u001b[39;00m train_test_split\n",
      "\u001b[31mModuleNotFoundError\u001b[39m: No module named 'catboost'"
     ]
    }
   ],
   "source": [
    "#--------------------- how to merge ---------------------\n",
    "table1[\"new_column\"] = pd.merge(table1, table2, left_on=\"table1_column\", right_on=\"table2_column\")\n",
    "\n",
    "#----------------------how to where--------------------\n",
    "table1.where((table1[\"table1_column\"] == 'conditional 1') & (table2[\"DESTINCTRY\"] == 'conditional 2'))\n",
    "\n",
    "#-------------------- how to catboost -----------------------\n",
    "sampleData = table1[['Age', 'Ticket_Price']]\n",
    "sample_size = int(sampleData.shape[0] * 0.2) # Getting training data from 20% of the entire dataset\n",
    "sampleData = sampleData.sample(sample_size, ignore_index=True)\n",
    "\n",
    "training_data = [] #Getting the data into an array format\n",
    "training_data.append(sampleData['Age'].values.tolist())\n",
    "training_data.append(sampleData['Ticket_Price'].values.tolist())\n",
    "\n",
    "evaluation_data = [] #Getting the data into an array format\n",
    "evaluation_data.append(table1['Age'].values.tolist())\n",
    "evaluation_data.append(table1['Ticket_Price'].values.tolist())\n",
    "\n",
    "training_labels = [0, 1]\n",
    "\n",
    "model = CatBoostRegressor(iterations=2)\n",
    "model.fit(training_data, training_labels)\n",
    "model.predict(evaluation_data)\n",
    "model.get_best_score()\n",
    "\n",
    "#-------------------- how to decision tree -----------------------\n",
    "dependentVariables = table1['table1_column']\n",
    "independentVariables = table2['table2_column']\n",
    "X_train, X_test, y_train, y_test = train_test_split(dependentVariables, independentVariables, test_size=0.2)\n",
    "regression = DecisionTreeRegressor(criterion=\"friedman_mse\")\n",
    "regression = regression.fit(X_train, y_train)\n",
    "y_pred = regression.predict(X_test)\n",
    "print(\"Accuracy score (criterion: friedman_mse):\", metrics.accuracy_score(y_test, y_pred))"
   ]
  },
  {
   "cell_type": "markdown",
   "metadata": {},
   "source": [
    "#### Imports and table reading"
   ]
  },
  {
   "cell_type": "code",
   "execution_count": 14,
   "metadata": {},
   "outputs": [],
   "source": [
    "#----------------------- imports -------------------------\n",
    "import pandas as pd\n",
    "import numpy as np\n",
    "from catboost import CatBoostRegressor\n",
    "from sklearn.tree import DecisionTreeRegressor\n",
    "from sklearn.model_selection import train_test_split\n",
    "\n",
    "#---------------------- Reading file --------------------\n",
    "table1 = pd.read_csv('data/test.csv')\n",
    "table2 = pd.read_csv('data/test.csv')"
   ]
  },
  {
   "cell_type": "markdown",
   "metadata": {},
   "source": [
    "#### Getting to know the data"
   ]
  },
  {
   "cell_type": "code",
   "execution_count": 15,
   "metadata": {},
   "outputs": [
    {
     "name": "stdout",
     "output_type": "stream",
     "text": [
      "table1 table size: 1 rows, 2 columns\n",
      "table2 table size: 1 rows, 2 columns\n"
     ]
    }
   ],
   "source": [
    "#--------------------- getting data types ---------------------\n",
    "tables = [table1, table2]\n",
    "allTableTypes = []\n",
    "table1.name = 'table1'\n",
    "table2.name = 'table2'\n",
    "\n",
    "for table in tables:\n",
    "    dataTypes = table.dtypes.values\n",
    "\n",
    "    for type in dataTypes:\n",
    "        allTableTypes.append(str(np.dtype(type)))\n",
    "\n",
    "for table in tables:\n",
    "    print(f'{table.name} table size: {str(table.shape[0])} rows, {str(table.shape[1])} columns')\n",
    "\n"
   ]
  }
 ],
 "metadata": {
  "kernelspec": {
   "display_name": "Python 3",
   "language": "python",
   "name": "python3"
  },
  "language_info": {
   "codemirror_mode": {
    "name": "ipython",
    "version": 3
   },
   "file_extension": ".py",
   "mimetype": "text/x-python",
   "name": "python",
   "nbconvert_exporter": "python",
   "pygments_lexer": "ipython3",
   "version": "3.11.2"
  }
 },
 "nbformat": 4,
 "nbformat_minor": 2
}

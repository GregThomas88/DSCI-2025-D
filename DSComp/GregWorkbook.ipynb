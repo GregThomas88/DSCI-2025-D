{
 "cells": [
  {
   "cell_type": "code",
   "execution_count": 103,
   "metadata": {},
   "outputs": [],
   "source": [
    "import pandas as pd\n",
    "import plotly.express as px\n",
    "import plotly.graph_objects as go\n",
    "import numpy as np\n",
    "from sklearn.model_selection import train_test_split\n",
    "from sklearn import svm\n",
    "from sklearn.cross_decomposition import PLSRegression\n",
    "from sklearn.naive_bayes import GaussianNB\n",
    "import xgboost as xgb\n",
    "import calendar\n",
    "from sklearn.model_selection import cross_val_score\n",
    "from sklearn.metrics import mean_squared_error\n",
    "import math"
   ]
  },
  {
   "cell_type": "code",
   "execution_count": 74,
   "metadata": {},
   "outputs": [],
   "source": [
    "ml_csv = pd.read_csv('dsci_power_outage_data.csv')"
   ]
  },
  {
   "cell_type": "code",
   "execution_count": 20,
   "metadata": {},
   "outputs": [
    {
     "data": {
      "text/html": [
       "<div>\n",
       "<style scoped>\n",
       "    .dataframe tbody tr th:only-of-type {\n",
       "        vertical-align: middle;\n",
       "    }\n",
       "\n",
       "    .dataframe tbody tr th {\n",
       "        vertical-align: top;\n",
       "    }\n",
       "\n",
       "    .dataframe thead th {\n",
       "        text-align: right;\n",
       "    }\n",
       "</style>\n",
       "<table border=\"1\" class=\"dataframe\">\n",
       "  <thead>\n",
       "    <tr style=\"text-align: right;\">\n",
       "      <th></th>\n",
       "      <th>Delay_Hours</th>\n",
       "      <th>Month</th>\n",
       "      <th>System Voltage</th>\n",
       "      <th>Consumer_Effected</th>\n",
       "      <th>System_Load (kW)</th>\n",
       "      <th>Failure_Code</th>\n",
       "      <th>Location</th>\n",
       "    </tr>\n",
       "  </thead>\n",
       "  <tbody>\n",
       "    <tr>\n",
       "      <th>0</th>\n",
       "      <td>0.10</td>\n",
       "      <td>January</td>\n",
       "      <td>33kV</td>\n",
       "      <td>9555</td>\n",
       "      <td>23290.0</td>\n",
       "      <td>A1</td>\n",
       "      <td>Location 1</td>\n",
       "    </tr>\n",
       "    <tr>\n",
       "      <th>1</th>\n",
       "      <td>0.42</td>\n",
       "      <td>January</td>\n",
       "      <td>LV</td>\n",
       "      <td>282</td>\n",
       "      <td>98.0</td>\n",
       "      <td>D1</td>\n",
       "      <td>Location 2</td>\n",
       "    </tr>\n",
       "    <tr>\n",
       "      <th>2</th>\n",
       "      <td>0.50</td>\n",
       "      <td>January</td>\n",
       "      <td>11kV</td>\n",
       "      <td>291</td>\n",
       "      <td>104.0</td>\n",
       "      <td>C1</td>\n",
       "      <td>Location 3</td>\n",
       "    </tr>\n",
       "    <tr>\n",
       "      <th>3</th>\n",
       "      <td>0.08</td>\n",
       "      <td>January</td>\n",
       "      <td>11kV</td>\n",
       "      <td>4192</td>\n",
       "      <td>13025.0</td>\n",
       "      <td>C1</td>\n",
       "      <td>Location 2</td>\n",
       "    </tr>\n",
       "    <tr>\n",
       "      <th>4</th>\n",
       "      <td>0.15</td>\n",
       "      <td>January</td>\n",
       "      <td>11kV</td>\n",
       "      <td>755</td>\n",
       "      <td>807.0</td>\n",
       "      <td>C1</td>\n",
       "      <td>Location 4</td>\n",
       "    </tr>\n",
       "    <tr>\n",
       "      <th>5</th>\n",
       "      <td>0.33</td>\n",
       "      <td>January</td>\n",
       "      <td>11kV</td>\n",
       "      <td>755</td>\n",
       "      <td>367.0</td>\n",
       "      <td>C1</td>\n",
       "      <td>Location 4</td>\n",
       "    </tr>\n",
       "    <tr>\n",
       "      <th>6</th>\n",
       "      <td>0.53</td>\n",
       "      <td>January</td>\n",
       "      <td>11kV</td>\n",
       "      <td>697</td>\n",
       "      <td>217.0</td>\n",
       "      <td>C1</td>\n",
       "      <td>Location 7</td>\n",
       "    </tr>\n",
       "    <tr>\n",
       "      <th>7</th>\n",
       "      <td>0.50</td>\n",
       "      <td>January</td>\n",
       "      <td>LV</td>\n",
       "      <td>192</td>\n",
       "      <td>192.0</td>\n",
       "      <td>D2</td>\n",
       "      <td>Location 5</td>\n",
       "    </tr>\n",
       "    <tr>\n",
       "      <th>8</th>\n",
       "      <td>0.02</td>\n",
       "      <td>January</td>\n",
       "      <td>11kV</td>\n",
       "      <td>10682</td>\n",
       "      <td>127700.0</td>\n",
       "      <td>C1</td>\n",
       "      <td>Location 5</td>\n",
       "    </tr>\n",
       "    <tr>\n",
       "      <th>9</th>\n",
       "      <td>0.22</td>\n",
       "      <td>January</td>\n",
       "      <td>11kV</td>\n",
       "      <td>3365</td>\n",
       "      <td>6336.0</td>\n",
       "      <td>B4</td>\n",
       "      <td>Location 6</td>\n",
       "    </tr>\n",
       "  </tbody>\n",
       "</table>\n",
       "</div>"
      ],
      "text/plain": [
       "   Delay_Hours    Month System Voltage  Consumer_Effected  System_Load (kW)  \\\n",
       "0         0.10  January           33kV               9555           23290.0   \n",
       "1         0.42  January             LV                282              98.0   \n",
       "2         0.50  January           11kV                291             104.0   \n",
       "3         0.08  January           11kV               4192           13025.0   \n",
       "4         0.15  January           11kV                755             807.0   \n",
       "5         0.33  January           11kV                755             367.0   \n",
       "6         0.53  January           11kV                697             217.0   \n",
       "7         0.50  January             LV                192             192.0   \n",
       "8         0.02  January           11kV              10682          127700.0   \n",
       "9         0.22  January           11kV               3365            6336.0   \n",
       "\n",
       "  Failure_Code    Location  \n",
       "0           A1  Location 1  \n",
       "1           D1  Location 2  \n",
       "2           C1  Location 3  \n",
       "3           C1  Location 2  \n",
       "4           C1  Location 4  \n",
       "5           C1  Location 4  \n",
       "6           C1  Location 7  \n",
       "7           D2  Location 5  \n",
       "8           C1  Location 5  \n",
       "9           B4  Location 6  "
      ]
     },
     "execution_count": 20,
     "metadata": {},
     "output_type": "execute_result"
    }
   ],
   "source": [
    "ml_csv.head(10)"
   ]
  },
  {
   "cell_type": "code",
   "execution_count": 16,
   "metadata": {},
   "outputs": [
    {
     "name": "stdout",
     "output_type": "stream",
     "text": [
      "Verifiyng Data Types\n",
      "Delay_Hours          float64\n",
      "Month                 object\n",
      "System Voltage        object\n",
      "Consumer_Effected      int64\n",
      "System_Load (kW)     float64\n",
      "Failure_Code          object\n",
      "Location              object\n",
      "dtype: object\n"
     ]
    }
   ],
   "source": [
    "print(\"Verifiyng Data Types\")\n",
    "print(ml_csv.dtypes)"
   ]
  },
  {
   "cell_type": "code",
   "execution_count": 28,
   "metadata": {},
   "outputs": [
    {
     "name": "stdout",
     "output_type": "stream",
     "text": [
      "Checking for nulls\n",
      "Delay_Hours\n",
      "True\n",
      "Month\n",
      "True\n",
      "System Voltage\n",
      "True\n",
      "Consumer_Effected\n",
      "False\n",
      "System_Load (kW)\n",
      "True\n",
      "Failure_Code\n",
      "False\n",
      "Location\n",
      "True\n",
      "\n",
      "\n",
      "Checking for duplicate rows\n",
      "True\n",
      "\n",
      "\n",
      "Verifiyng Data Types\n",
      "Delay_Hours          float64\n",
      "Month                 object\n",
      "System Voltage        object\n",
      "Consumer_Effected      int64\n",
      "System_Load (kW)     float64\n",
      "Failure_Code          object\n",
      "Location              object\n",
      "dtype: object\n",
      "\n",
      "\n",
      "5385\n",
      "5376\n",
      "\n",
      "\n",
      "4247\n"
     ]
    }
   ],
   "source": [
    "#check for nulls\n",
    "print(\"Checking for nulls\")\n",
    "print(\"Delay_Hours\")\n",
    "print(ml_csv['Delay_Hours'].isnull().values.any())\n",
    "print(\"Month\")\n",
    "print(ml_csv['Month'].isnull().values.any())\n",
    "print(\"System Voltage\")\n",
    "print(ml_csv['System Voltage'].isnull().values.any())\n",
    "print(\"Consumer_Effected\")\n",
    "print(ml_csv['Consumer_Effected'].isnull().values.any())\n",
    "print(\"System_Load (kW)\")\n",
    "print(ml_csv['System_Load (kW)'].isnull().values.any())\n",
    "print(\"Failure_Code\")\n",
    "print(ml_csv['Failure_Code'].isnull().values.any())\n",
    "print(\"Location\")\n",
    "print(ml_csv['Location'].isnull().values.any())\n",
    "\n",
    "#check for duplicates\n",
    "print(\"\\n\")\n",
    "print(\"Checking for duplicate rows\")\n",
    "print(ml_csv.duplicated().any())\n",
    "print(\"\\n\")\n",
    "print(\"Verifiyng Data Types\")\n",
    "print(ml_csv.dtypes)\n",
    "\n",
    "print(\"\\n\")\n",
    "print(len(ml_csv))\n",
    "print(len(ml_csv.dropna()))\n",
    "print(\"\\n\")\n",
    "print(len(ml_csv.drop_duplicates(keep=\"last\")))"
   ]
  },
  {
   "cell_type": "code",
   "execution_count": 92,
   "metadata": {},
   "outputs": [],
   "source": [
    "ml_csv = (ml_csv.dropna())\n"
   ]
  },
  {
   "cell_type": "code",
   "execution_count": 93,
   "metadata": {},
   "outputs": [
    {
     "data": {
      "application/vnd.plotly.v1+json": {
       "config": {
        "plotlyServerURL": "https://plot.ly"
       },
       "data": [
        {
         "hovertemplate": "x=%{x}<br>Delay_Hours=%{y}<extra></extra>",
         "legendgroup": "",
         "marker": {
          "color": "#636efa",
          "symbol": "circle"
         },
         "mode": "markers",
         "name": "",
         "showlegend": false,
         "type": "scattergl",
         "x": {
          "bdata": "AAABAAIAAwAEAAUABgAHAAgACQAKAAsADAANAA8AEAARABIAEwAUABUAFgAXABgAGQAaABsAHAAdAB4AHwAgACEAIgAkACUAJgAnACgAKQAqACsALAAtAC4ALwAwADEAMgAzADQANQA2ADcAOAA5ADoAOwA8AD0APgA/AEAAQQBCAEMARABFAEYARwBIAEkASgBLAEwATQBOAE8AUABRAFIAUwBUAFUAVgBXAFgAWQBaAFsAXABdAF4AXwBgAGEAYgBjAGQAZQBmAGcAaABpAGoAawBsAG0AbgBvAHAAcQByAHMAdAB1AHYAdwB4AHkAegB7AHwAfQB+AH8AgACBAIIAgwCEAIUAhgCHAIgAiQCKAIsAjACNAI4AjwCQAJEAkgCTAJQAlQCWAJcAmACZAJoAmwCcAJ0AngCfAKAAoQCiAKMApAClAKYApwCoAKkAqgCrAKwArQCuAK8AsACxALIAswC0ALUAtgC3ALgAuQC6ALsAvAC9AL4AvwDAAMEAwgDDAMQAxQDGAMcAyADJAMoAywDMAM0AzgDPANAA0QDSANMA1ADVANYA1wDYANkA2gDbANwA3QDeAN8A4ADhAOIA4wDkAOUA5gDnAOgA6QDqAOsA7ADtAO4A7wDwAPEA8gDzAPQA9QD2APcA+AD5APoA+wD8AP0A/gD/AAABAQECAQMBBAEFAQYBBwEIAQkBCgELAQwBDQEOAQ8BEAERARIBEwEUARUBFgEXARgBGQEaARsBHAEdAR4BHwEgASEBIgEjASQBJQEmAScBKAEpASoBKwEsAS0BLgEvATABMQEyATMBNAE1ATYBNwE4ATkBOgE7ATwBPQE+AT8BQAFBAUIBQwFEAUUBRgFHAUgBSQFKAUsBTAFNAU4BTwFQAVEBUgFTAVQBVQFWAVcBWAFZAVoBWwFcAV0BXgFfAWABYQFiAWMBZAFlAWYBZwFoAWkBagFrAWwBbQFuAW8BcAFxAXIBcwF0AXUBdgF3AXgBeQF6AXsBfAF9AX4BfwGAAYEBggGDAYQBhQGGAYcBiAGJAYoBiwGMAY0BjgGPAZABkQGSAZMBlAGVAZYBlwGYAZkBmgGbAZwBnQGeAZ8BoAGhAaIBowGkAaUBpgGnAagBqQGqAasBrAGtAa4BrwGwAbEBsgGzAbQBtQG2AbcBuAG5AboBuwG8Ab0BvgG/AcABwQHCAcMBxAHFAcYBxwHIAckBygHLAcwBzQHOAc8B0AHRAdIB0wHUAdUB1gHXAdgB2QHaAdsB3AHdAd4B3wHgAeEB4gHjAeQB5QHmAecB6AHpAeoB6wHsAe0B7gHvAfAB8QHyAfMB9AH1AfYB9wH4AfkB+gH7AfwB/QH+Af8BAAIBAgICAwIEAgUCBgIHAggCCQIKAgsCDAINAg4CDwIQAhECEgITAhQCFQIWAhcCGAIZAhoCGwIcAh0CHgIfAiACIQIiAiMCJAIlAiYCJwIoAikCKgIrAiwCLQIuAi8CMAIxAjICMwI0AjUCNgI3AjgCOQI6AjsCPAI9Aj4CPwJAAkECQgJEAkUCRgJHAkgCSQJKAksCTQJOAk8CUAJRAlICUwJUAlUCVgJXAlgCWQJaAlsCXAJdAl4CXwJgAmECYgJjAmQCZQJmAmcCaAJpAmoCawJsAm0CbgJvAnACcQJyAnMCdAJ1AnYCdwJ4AnkCegJ7AnwCfQJ/AoACgQKCAoMChAKFAoYChwKIAokCigKLAowCjQKOAo8CkAKRApICkwKUApUClgKXApgCmQKaApsCnAKdAp4CnwKgAqECogKjAqQCpQKmAqcCqAKpAqoCqwKsAq0CrgKvArACsQKyArMCtAK1ArYCtwK4ArkCugK7ArwCvQK+Ar8CwALBAsICwwLEAsUCxgLHAsgCyQLKAssCzALNAs4CzwLQAtEC0gLTAtQC1QLWAtcC2ALZAtoC2wLcAt0C3gLfAuAC4QLiAuMC5ALlAuYC5wLoAukC6gLrAuwC7QLuAu8C8ALyAvMC9AL1AvYC9wL4AvkC+gL7AvwC/QL+Av8CAAMBAwIDAwMEAwUDBgMHAwgDCQMKAwsDDAMNAw4DDwMQAxEDEgMTAxQDFQMWAxcDGAMZAxoDGwMcAx0DHgMfAyADIQMiAyMDJAMlAyYDJwMoAykDKgMrAywDLQMuAy8DMAMxAzIDMwM0AzUDNgM3AzgDOQM6AzsDPAM9Az4DPwNAA0EDQgNDA0QDRQNGA0cDSQNKA0sDTANNA04DTwNQA1EDUgNTA1QDVQNWA1cDWANZA1oDWwNcA10DXgNfA2ADYQNiA2MDZANlA2YDZwNoA2kDagNrA2wDbQNuA28DcANxA3IDcwN0A3UDdgN3A3gDeQN6A3sDfAN9A34DfwOAA4EDggODA4QDhQOGA4cDiAOJA4oDiwOMA40DjgOPA5ADkQOSA5MDlAOVA5YDlwOYA5kDmgObA5wDnQOeA58DoAOhA6IDowOkA6UDpgOnA6gDqQOqA6sDrAOtA64DrwOwA7EDsgOzA7QDtQO2A7cDuAO5A7oDuwO8A70DvgO/A8ADwQPCA8MDxAPFA8YDxwPIA8kDygPLA8wDzQPOA88D0APRA9ID0wPUA9UD1gPXA9gD2QPaA9sD3APdA94D3wPgA+ED4gPjA+QD5QPmA+cD6APpA+oD6wPsA+0D7gPvA/AD8QPyA/MD9AP1A/YD9wP4A/kD+gP7A/wD/QP+A/8DAAQBBAIEAwQEBAUEBgQHBAgECQQKBAsEDAQNBA4EDwQQBBEEEgQTBBQEFQQWBBcEGAQZBBoEGwQcBB0EHgQfBCAEIQQiBCMEJAQlBCYEJwQoBCkEKgQrBCwELQQuBC8EMAQxBDIEMwQ0BDUENgQ3BDgEOQQ6BDsEPAQ9BD4EPwRABEEEQgRDBEQERQRGBEcESARJBEoESwRMBE0ETgRPBFAEUQRSBFMEVARVBFYEVwRYBFkEWgRbBFwEXQReBF8EYARhBGIEYwRkBGUEZgRnBGgEaQRqBGsEbARtBG4EbwRwBHEEcgRzBHQEdQR2BHcEeAR5BHoEewR8BH0EfgR/BIAEgQSCBIMEhASFBIYEhwSIBIkEigSLBIwEjQSOBI8EkASRBJIEkwSUBJUElgSXBJgEmQSaBJsEnASdBJ4EnwSgBKEEogSjBKQEpQSmBKcEqASpBKoEqwSsBK0ErgSvBLAEsQSyBLMEtAS1BLYEtwS4BLkEugS7BLwEvQS+BL8EwATBBMIEwwTEBMUExgTHBMgEyQTKBMsEzATNBM4EzwTQBNEE0gTTBNQE1QTWBNcE2ATZBNoE2wTcBN0E3gTfBOAE4QTiBOME5ATlBOYE5wToBOkE6gTrBOwE7QTuBO8E8ATxBPIE8wT0BPUE9gT3BPgE+QT6BPsE/AT9BP4E/wQABQEFAgUDBQQFBQUGBQcFCAUJBQoFCwUMBQ0FDgUPBRAFEQUSBRMFFAUVBRYFFwUYBRkFGgUbBRwFHQUeBR8FIAUhBSIFIwUkBSUFJgUnBSgFKQUqBSsFLAUtBS4FLwUwBTEFMgUzBTQFNQU2BTcFOAU5BToFOwU8BT0FPgU/BUAFQQVCBUMFRAVFBUYFRwVIBUkFSgVLBUwFTQVOBU8FUAVRBVIFUwVUBVUFVgVXBVgFWQVaBVsFXAVdBV4FXwVgBWEFYgVjBWQFZQVmBWcFaAVpBWoFawVsBW0FbgVvBXAFcQVyBXMFdAV1BXYFdwV4BXkFegV7BXwFfQV+BX8FgAWBBYIFgwWEBYUFhgWHBYgFiQWKBYsFjAWNBY4FjwWQBZEFkgWTBZQFlQWWBZcFmAWZBZoFmwWcBZ0FngWfBaAFoQWiBaMFpAWlBaYFpwWoBakFqgWrBawFrQWuBa8FsAWxBbIFswW0BbUFtgW3BbgFuQW6BbsFvAW9Bb4FvwXABcEFwgXDBcQFxQXGBccFyAXJBcoFywXMBc0FzgXPBdAF0QXSBdMF1AXVBdYF1wXYBdkF2gXbBdwF3QXeBd8F4AXhBeIF4wXkBeUF5gXnBegF6QXqBesF7AXtBe4F7wXwBfEF8gXzBfQF9QX2BfcF+AX5BfoF+wX8Bf0F/gX/BQAGAQYCBgMGBAYFBgYGBwYIBgkGCgYLBgwGDQYOBg8GEAYRBhIGEwYUBhUGFgYXBhgGGQYaBhsGHAYdBh4GHwYgBiEGIgYjBiQGJQYmBicGKAYpBioGKwYsBi0GLgYvBjAGMQYyBjMGNAY1BjYGNwY4BjkGOgY7BjwGPQY+Bj8GQAZBBkIGQwZEBkUGRgZHBkgGSQZKBksGTAZNBk4GTwZQBlEGUgZTBlQGVQZWBlcGWAZZBloGWwZcBl0GXgZfBmAGYQZiBmMGZAZlBmYGZwZoBmkGagZrBmwGbQZuBm8GcAZxBnIGcwZ0BnUGdgZ3BngGeQZ6BnsGfAZ9Bn4GfwaABoEGggaDBoQGhQaGBocGiAaJBooGiwaMBo0GjgaPBpAGkQaSBpMGlAaVBpYGlwaYBpkGmgabBpwGnQaeBp8GoAahBqIGowakBqUGpganBqgGqQaqBqsGrAatBq4GrwawBrEGsgazBrQGtQa2BrcGuAa5BroGuwa8Br0Gvga/BsAGwQbCBsMGxAbFBsYGxwbIBskGygbLBswGzQbOBs8G0AbRBtIG0wbUBtUG1gbXBtgG2QbaBtsG3AbdBt4G3wbgBuEG4gbjBuQG5QbmBucG6AbpBuoG6wbsBu0G7gbvBvAG8QbyBvMG9Ab1BvYG9wb4BvkG+gb7BvwG/Qb+Bv8GAAcBBwIHAwcEBwUHBgcHBwgHCQcKBwsHDAcNBw4HDwcQBxEHEgcTBxQHFQcWBxcHGAcZBxoHGwccBx0HHgcfByAHIQciByMHJAclByYHJwcoBykHKgcrBywHLQcuBy8HMAcxBzIHMwc0BzUHNgc3BzgHOQc6BzsHPAc9Bz4HPwdAB0EHQgdDB0QHRQdGB0cHSAdJB0oHSwdMB00HTgdPB1AHUQdSB1MHVAdVB1YHVwdYB1kHWgdbB1wHXQdeB18HYAdhB2IHYwdkB2UHZgdnB2gHaQdqB2sHbAdtB24HbwdwB3EHcgdzB3QHdQd2B3cHeAd5B3oHewd8B30Hfgd/B4AHgQeCB4MHhAeFB4YHhweIB4kHigeLB4wHjQeOB48HkAeRB5IHkweUB5UHlgeXB5gHmQeaB5sHnAedB54HnwegB6EHogejB6QHpQemB6cHqAepB6oHqwesB60HrgevB7AHsQeyB7MHtAe1B7YHtwe4B7kHuge7B7wHvQe+B78HwAfBB8IHwwfEB8UHxgfHB8gHyQfKB8sHzAfNB84HzwfQB9EH0gfTB9QH1QfWB9cH2AfZB9oH2wfcB90H3gffB+AH4QfiB+MH5AflB+YH5wfoB+kH6gfrB+wH7QfuB+8H8AfxB/IH8wf0B/UH9gf3B/gH+Qf6B/sH/Af9B/4H/wcACAEIAggDCAQIBQgGCAcICAgJCAoICwgMCA0IDggPCBAIEQgSCBMIFAgVCBYIFwgYCBkIGggbCBwIHQgeCB8IIAghCCIIIwgkCCUIJggnCCgIKQgqCCsILAgtCC4ILwgwCDEIMggzCDQINQg2CDcIOAg5CDoIOwg8CD0IPgg/CEAIQQhCCEMIRAhFCEYIRwhICEkISghLCEwITQhOCE8IUAhRCFIIUwhUCFUIVghXCFgIWQhaCFsIXAhdCF4IXwhgCGEIYghjCGQIZQhmCGcIaAhpCGoIawhsCG0IbghvCHAIcQhyCHMIdAh1CHYIdwh4CHkIegh7CHwIfQh+CH8IgAiBCIIIgwiECIUIhgiHCIgIiQiKCIsIjAiNCI4IjwiQCJEIkgiTCJQIlQiWCJcImAiZCJoImwicCJ0IngifCKAIoQiiCKMIpAilCKYIpwioCKkIqgirCKwIrQiuCK8IsAixCLIIswi0CLUItgi3CLgIuQi6CLsIvAi9CL4IvwjACMEIwgjDCMQIxQjGCMcIyAjJCMoIywjMCM0IzgjPCNAI0QjSCNMI1AjVCNYI1wjYCNkI2gjbCNwI3QjeCN8I4AjhCOII4wjkCOUI5gjnCOgI6QjqCOsI7AjtCO4I7wjwCPEI8gjzCPQI9Qj2CPcI+Aj5CPoI+wj8CP0I/gj/CAAJAQkCCQMJBAkFCQYJBwkICQkJCgkLCQwJDQkOCQ8JEAkRCRIJEwkUCRUJFgkXCRgJGQkaCRsJHAkdCR4JHwkgCSEJIgkjCSQJJQkmCScJKAkpCSoJKwksCS0JLgkvCTAJMQkyCTMJNAk1CTYJNwk4CTkJOgk7CTwJPQk+CT8JQAlBCUIJQwlECUUJRglHCUgJSQlKCUsJTAlNCU4JTwlQCVEJUglTCVQJVQlWCVcJWAlZCVoJWwlcCV0JXglfCWAJYQliCWMJZAllCWYJZwloCWkJaglrCWwJbQluCW8JcAlxCXIJcwl0CXUJdgl3CXgJeQl6CXsJfAl9CX4JfwmACYEJggmDCYQJhQmGCYcJiAmJCYoJiwmMCY0JjgmPCZAJkQmSCZMJlAmVCZYJlwmYCZkJmgmbCZwJnQmeCZ8JoAmhCaIJowmkCaUJpgmnCagJqQmqCasJrAmtCa4JrwmwCbEJsgmzCbQJtQm2CbcJuAm5CboJuwm8Cb0Jvgm/CcAJwQnCCcMJxAnFCcYJxwnICckJygnLCcwJzQnOCc8J0AnRCdIJ0wnUCdUJ1gnXCdgJ2QnaCdsJ3AndCd4J3wngCeEJ4gnjCeQJ5QnmCecJ6AnpCeoJ6wnsCe0J7gnvCfAJ8QnyCfMJ9An1CfYJ9wn4CfkJ+gn7CfwJ/Qn+Cf8JAAoBCgIKAwoECgUKBgoHCggKCQoKCgsKDAoNCg4KDwoQChEKEgoTChQKFQoWChcKGAoZChoKGwocCh0KHgofCiAKIQoiCiMKJAolCiYKJwooCikKKgorCiwKLQouCi8KMAoxCjIKMwo0CjUKNgo3CjgKOQo6CjsKPAo9Cj4KPwpACkEKQgpDCkQKRQpGCkcKSApJCkoKSwpMCk0KTgpPClAKUQpSClMKVApVClYKVwpYClkKWgpbClwKXQpeCl8KYAphCmIKYwpkCmUKZgpnCmgKaQpqCmsKbAptCm4KbwpwCnEKcgpzCnQKdQp2CncKeAp5CnoKewp8Cn0Kfgp/CoAKgQqCCoMKhAqFCoYKhwqICokKigqLCowKjQqOCo8KkAqRCpIKkwqUCpUKlgqXCpgKmQqaCpsKnAqdCp4KnwqgCqEKogqjCqQKpQqmCqcKqAqpCqoKqwqsCq0KrgqvCrAKsQqyCrMKtAq1CrYKtwq4CrkKugq7CrwKvQq+Cr8KwArBCsIKwwrECsUKxgrHCsgKyQrKCssKzArNCs4KzwrQCtEK0grTCtQK1QrWCtcK2ArZCtoK2wrcCt0K3grfCuAK4QriCuMK5ArlCuYK5wroCukK6grrCuwK7QruCu8K8ArxCvIK8wr0CvUK9gr3CvgK+Qr6CvsK/Ar9Cv4K/woACwELAgsDCwQLBQsGCwcLCAsJCwoLCwsMCw0LDgsPCxALEQsSCxMLFAsVCxYLFwsYCxkLGgsbCxwLHQseCx8LIAshCyILIwskCyULJgsnCygLKQsqCysLLAstCy4LLwswCzELMgszCzQLNQs2CzcLOAs5CzoLOws8Cz0LPgs/C0ALQQtCC0MLRAtFC0YLRwtIC0kLSgtLC0wLTQtOC08LUAtRC1ILUwtUC1ULVgtXC1gLWQtaC1sLXAtdC14LXwtgC2ELYgtjC2QLZQtmC2cLaAtpC2oLawtsC20LbgtvC3ALcQtyC3MLdAt1C3YLdwt4C3kLegt7C3wLfQt+C38LgAuBC4ILgwuEC4ULhguHC4gLiQuKC4sLjAuNC44LjwuQC5ELkguTC5QLlQuWC5cLmAuZC5oLmwucC50LngufC6ALoQuiC6MLpAulC6YLpwuoC6kLqgurC6wLrQuuC68LsAuxC7ILswu0C7ULtgu3C7gLuQu6C7sLvAu9C74LvwvAC8ELwgvDC8QLxQvGC8cLyAvJC8oLywvMC80LzgvPC9AL0QvSC9ML1AvVC9YL1wvYC9kL2gvbC9wL3QveC98L4AvhC+IL4wvkC+UL5gvnC+gL6QvqC+sL7AvtC+4L7wvwC/EL8gvzC/QL9Qv2C/cL+Av5C/oL+wv8C/0L/gv/CwAMAQwCDAMMBAwFDAYMBwwIDAkMCgwLDAwMDQwODA8MEAwRDBIMEwwUDBUMFgwXDBgMGQwaDBsMHAwdDB4MHwwgDCEMIgwjDCQMJQwmDCcMKAwpDCoMKwwsDC0MLgwvDDAMMQwyDDMMNAw1DDYMNww4DDkMOgw7DDwMPQw+DD8MQAxBDEIMQwxEDEUMRgxHDEgMSQxKDEsMTAxNDE4MTwxQDFEMUgxTDFQMVQxWDFcMWAxZDFoMWwxcDF0MXgxfDGAMYQxiDGMMZAxlDGYMZwxoDGkMagxrDGwMbQxuDG8McAxxDHIMcwx0DHUMdgx3DHgMeQx6DHsMfAx9DH4MfwyADIEMggyDDIQMhQyGDIcMiAyJDIoMiwyMDI0MjgyPDJAMkQySDJMMlAyVDJYMlwyYDJkMmgybDJwMnQyeDJ8MoAyhDKIMowykDKUMpgynDKgMqQyqDKsMrAytDK4MrwywDLEMsgyzDLQMtQy2DLcMuAy5DLoMuwy8DL0Mvgy/DMAMwQzCDMMMxAzFDMYMxwzIDMkMygzLDMwMzQzODM8M0AzRDNIM0wzUDNUM1gzXDNgM2QzaDNsM3AzdDN4M3wzgDOEM4gzjDOQM5QzmDOcM6AzpDOoM6wzsDO0M7gzvDPAM8QzyDPMM9Az1DPYM9wz4DPkM+gz7DPwM/Qz+DP8MAA0BDQINAw0EDQUNBg0HDQgNCQ0KDQsNDA0NDQ4NDw0QDRENEg0TDRQNFQ0WDRcNGA0ZDRoNGw0cDR0NHg0fDSANIQ0iDSMNJA0lDSYNJw0oDSkNKg0rDSwNLQ0uDS8NMA0xDTINMw00DTUNNg03DTgNOQ06DTsNPA09DT4NPw1ADUENQg1DDUQNRQ1GDUcNSA1JDUoNSw1MDU0NTg1PDVANUQ1SDVMNVA1VDVYNVw1YDVkNWg1bDVwNXQ1eDV8NYA1hDWINYw1kDWUNZg1nDWgNaQ1qDWsNbA1tDW4Nbw1wDXENcg1zDXQNdQ12DXcNeA15DXoNew18DX0Nfg1/DYANgQ2CDYMNhA2FDYYNhw2IDYkNig2LDYwNjQ2ODY8NkA2RDZINkw2UDZUNlg2XDZgNmQ2aDZsNnA2dDZ4Nnw2gDaENog2jDaQNpQ2mDacNqA2pDaoNqw2sDa0Nrg2vDbANsQ2yDbMNtA21DbYNtw24DbkNug27DbwNvQ2+Db8NwA3BDcINww3EDcUNxg3HDcgNyQ3KDcsNzA3NDc4Nzw3QDdEN0g3TDdQN1Q3WDdcN2A3ZDdoN2w3cDd0N3g3fDeAN4Q3iDeMN5A3lDeYN5w3oDekN6g3rDewN7Q3uDe8N8A3xDfIN8w30DfUN9g33DfgN+Q36DfsN/A39Df4N/w0ADgEOAg4DDgQOBQ4GDgcOCA4JDgoOCw4MDg0ODg4PDhAOEQ4SDhMOFA4VDhYOFw4YDhkOGg4bDhwOHQ4eDh8OIA4hDiIOIw4kDiUOJg4nDigOKQ4qDisOLA4tDi4OLw4wDjEOMg4zDjQONQ42DjcOOA45DjoOOw48Dj0OPg4/DkAOQQ5CDkMORA5FDkYORw5IDkkOSg5LDkwOTQ5ODk8OUA5RDlIOUw5UDlUOVg5XDlgOWQ5aDlsOXA5dDl4OXw5gDmEOYg5jDmQOZQ5mDmcOaA5pDmoOaw5sDm0Obg5vDnAOcQ5yDnMOdA51DnYOdw54DnkOeg57DnwOfQ5+Dn8OgA6BDoIOgw6EDoUOhg6HDogOiQ6KDosOjA6NDo4Ojw6QDpEOkg6TDpQOlQ6WDpcOmA6ZDpoOmw6cDp0Ong6fDqAOoQ6iDqMOpA6lDqYOpw6oDqkOqg6rDqwOrQ6uDq8OsA6xDrIOsw60DrUOtg63DrgOuQ66DrsOvA69Dr4Ovw7ADsEOwg7DDsQOxQ7GDscOyA7JDsoOyw7MDs0Ozg7PDtAO0Q7SDtMO1A7VDtYO1w7YDtkO2g7bDtwO3Q7eDt8O4A7hDuIO4w7kDuUO5g7nDugO6Q7qDusO7A7tDu4O7w7wDvEO8g7zDvQO9Q72DvcO+A75DvoO+w78Dv0O/g7/DgAPAQ8CDwMPBA8FDwYPBw8IDwkPCg8LDwwPDQ8ODw8PEA8RDxIPEw8UDxUPFg8XDxgPGQ8aDxsPHA8dDx4PHw8gDyEPIg8jDyQPJQ8mDycPKA8pDyoPKw8sDy0PLg8vDzAPMQ8yDzMPNA81DzYPNw84DzkPOg87DzwPPQ8+Dz8PQA9BD0IPQw9ED0UPRg9HD0gPSQ9KD0sPTA9ND04PTw9QD1EPUg9TD1QPVQ9WD1cPWA9ZD1oPWw9cD10PXg9fD2APYQ9iD2MPZA9lD2YPZw9oD2kPag9rD2wPbQ9uD28PcA9xD3IPcw90D3UPdg93D3gPeQ96D3sPfA99D34Pfw+AD4EPgg+DD4QPhQ+GD4cPiA+JD4oPiw+MD40Pjg+PD5APkQ+SD5MPlA+VD5YPlw+YD5kPmg+bD5wPnQ+eD58PoA+hD6IPow+kD6UPpg+nD6gPqQ+qD6sPrA+tD64Prw+wD7EPsg+zD7QPtQ+2D7cPuA+5D7oPuw+8D70Pvg+/D8APwQ/CD8MPxA/FD8YPxw/ID8kPyg/LD8wPzQ/OD88P0A/RD9IP0w/UD9UP1g/XD9gP2Q/aD9sP3A/dD94P3w/gD+EP4g/jD+QP5Q/mD+cP6A/pD+oP6w/sD+0P7g/vD/AP8Q/yD/MP9A/1D/YP9w/4D/kP+g/7D/wP/Q/+D/8PABABEAIQAxAEEAUQBhAHEAgQCRAKEAsQDBANEA4QDxAQEBEQEhATEBQQFRAWEBcQGBAZEBoQGxAcEB0QHhAfECAQIRAiECMQJBAlECYQJxAoECkQKhArECwQLRAuEC8QMBAxEDIQMxA0EDUQNhA3EDgQORA6EDsQPBA9ED4QPxBAEEEQQhBDEEQQRRBGEEcQSBBJEEoQSxBMEE0QThBPEFAQURBSEFMQVBBVEFYQVxBYEFkQWhBbEFwQXRBeEF8QYBBhEGIQYxBkEGUQZhBnEGgQaRBqEGsQbBBtEG4QbxBwEHEQchBzEHQQdRB2EHcQeBB5EHoQexB8EH0QfhB/EIAQgRCCEIMQhBCFEIYQhxCIEIkQihCLEIwQjRCOEI8QkBCREJIQkxCUEJUQlhCXEJgQmRCaEJsQnBCdEJ4QnxCgEKEQohCjEKQQpRCmEKcQqBCpEKoQqxCsEK0QrhCvELAQsRCyELMQtBC1ELYQtxC4ELkQuhC7ELwQvRC+EL8QwBDBEMIQwxDEEMUQxhDHEMgQyRDKEMsQzBDNEM4QzxDQENEQ0hDTENQQ1RDWENcQ2BDZENoQ2xDcEN0Q3hDfEOAQ4RDiEOMQ5BDlEOYQ5xDoEOkQ6hDrEOwQ7RDuEO8Q8BDxEPIQ8xD0EPUQ9hD3EPgQ+RD6EPsQ/BD9EP4Q/xAAEQERAhEDEQQRBREGEQcRCBEJEQoRCxEMEQ0RDhEPERARERESERMRFBEVERYRFxEYERkRGhEbERwRHREeER8RIBEhESIRIxEkESURJhEnESgRKREqESsRLBEtES4RLxEwETERMhEzETQRNRE2ETcROBE5EToROxE8ET0RPhE/EUARQRFCEUMRRBFFEUYRRxFIEUkRShFLEUwRTRFOEU8RUBFREVIRUxFUEVURVhFXEVgRWRFaEVsRXBFdEV4RXxFgEWERYhFjEWQRZRFmEWcRaBFpEWoRaxFsEW0RbhFvEXARcRFyEXMRdBF1EXYRdxF4EXkRehF7EXwRfRF+EX8RgBGBEYIRgxGEEYURhhGHEYgRiRGKEYsRjBGNEY4RjxGQEZERkhGTEZQRlRGWEZcRmBGZEZoRmxGcEZ0RnhGfEaARoRGiEaMRpBGlEaYRpxGoEakRqhGrEawRrRGuEa8RsBGxEbIRsxG0EbURthG3EbgRuRG6EbsRvBG9Eb4RvxHAEcERwhHDEcQRxRHGEccRyBHJEcoRyxHMEc0RzhHPEdAR0RHSEdMR1BHVEdYR1xHYEdkR2hHbEdwR3RHeEd8R4BHhEeIR4xHkEeUR5hHnEegR6RHqEesR7BHtEe4R7xHwEfER8hHzEfQR9RH2EfcR+BH5EfoR+xH8Ef0R/hH/EQASARICEgMSBBIFEgYSBxIIEgkSChILEgwSDRIOEg8SEBIREhISExIUEhUSFhIXEhgSGRIaEhsSHBIdEh4SHxIgEiESIhIjEiQSJRImEicSKBIpEioSKxIsEi0SLhIvEjASMRIyEjMSNBI1EjYSNxI4EjkSOhI7EjwSPRI+Ej8SQBJBEkISQxJEEkUSRhJHEkgSSRJKEksSTBJNEk4STxJQElESUhJTElQSVRJWElcSWBJZEloSWxJcEl0SXhJfEmASYRJiEmMSZBJlEmYSZxJoEmkSahJrEmwSbRJuEm8ScBJxEnIScxJ0EnUSdhJ3EngSeRJ6EnsSfBJ9En4SfxKAEoESghKDEoQShRKGEocSiBKJEooSixKMEo0SjhKPEpASkRKSEpMSlBKVEpYSlxKYEpkSmhKbEpwSnRKeEp8SoBKhEqISoxKkEqUSphKnEqgSqRKqEqsSrBKtEq4SrxKwErESshKzErQStRK2ErcSuBK5EroSuxK8Er0SvhK/EsASwRLCEsMSxBLFEsYSxxLIEskSyhLLEswSzRLOEs8S0BLREtIS0xLUEtUS1hLXEtgS2RLaEtsS3BLdEt4S3xLgEuES4hLjEuQS5RLmEucS6BLpEuoS6xLsEu0S7hLvEvAS8RLyEvMS9BL1EvYS9xL4EvkS+hL7EvwS/RL+Ev8SABMBEwITAxMEEwUTBhMHEwgTCRMKEwsTDBMNEw4TDxMQExETEhMTExQTFRMWExcTGBMZExoTGxMcEx0THhMfEyATIRMiEyMTJBMlEyYTJxMoEykTKhMrEywTLRMuEy8TMBMxEzITMxM0EzUTNhM3EzgTORM6EzsTPBM9Ez4TPxNAE0ETQhNDE0QTRRNGE0cTSBNJE0oTSxNME00TThNPE1ATURNSE1MTVBNVE1YTVxNYE1kTWhNbE1wTXRNeE18TYBNhE2ITYxNkE2UTZhNnE2gTaRNqE2sTbBNtE24TbxNwE3ETchNzE3QTdRN2E3cTeBN5E3oTexN8E30TfhN/E4ATgROCE4MThBOFE4YThxOIE4kTihOLE4wTjROOE48TkBORE5ITkxOUE5UTlhOXE5gTmROaE5sTnBOdE54TnxOgE6ETohOjE6QTpROmE6cTqBOpE6oTqxOsE60TrhOvE7ATsROyE7MTtBO1E7YTtxO4E7kTuhO7E7wTvRO+E78TwBPBE8ITwxPEE8UTxhPHE8gTyRPKE8sTzBPNE84TzxPQE9ET0hPTE9QT1RPWE9cT2BPZE9oT2xPcE90T3hPfE+AT4RPiE+MT5BPlE+YT5xPoE+kT6hPrE+wT7RPuE+8T8BPxE/IT8xP0E/UT9hP3E/gT+RP6E/sT/BP9E/4T/xMAFAEUAhQDFAQUBRQGFAcUCBQJFAoUCxQMFA0UDhQPFBAUERQSFBMUFBQVFBYUFxQYFBkUGhQbFBwUHRQeFB8UIBQhFCIUIxQkFCUUJhQnFCgUKRQqFCsULBQtFC4ULxQwFDEUMhQzFDQUNRQ2FDcUOBQ5FDoUOxQ8FD0UPhQ/FEAUQRRCFEMURBRFFEYURxRIFEkUShRLFEwUTRROFE8UUBRRFFIUUxRUFFUUVhRXFFgUWRRaFFsUXBRdFF4UXxRgFGEUYhRjFGQUZRRmFGcUaBRpFGoUaxRsFG0UbhRvFHAUcRRyFHMUdBR1FHYUdxR4FHkUehR7FHwUfRR+FH8UgBSBFIIUgxSEFIUUhhSHFIgUiRSKFIsUjBSNFI4UjxSQFJEUkhSTFJQUlRSWFJcUmBSZFJoUmxScFJ0UnhSfFKAUoRSiFKMUpBSlFKYUpxSoFKkUqhSrFKwUrRSuFK8UsBSxFLIUsxS0FLUUthS3FLgUuRS6FLsUvBS9FL4UvxTAFMEUwhTDFMQUxRTGFMcUyBTJFMoUyxTMFM0UzhTPFNAU0RTSFNMU1BTVFNYU1xTYFNkU2hTbFNwU3RTeFN8U4BThFOIU4xTkFOUU5hTnFOgU6RTqFOsU7BTtFO8U8BTxFPIU8xT0FPUU9hT3FPgU+RT6FPsU/BT9FP4U/xQAFQEVAhUDFQQVBRUGFQcV",
          "dtype": "i2"
         },
         "xaxis": "x",
         "y": {
          "bdata": "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",
          "dtype": "f8"
         },
         "yaxis": "y"
        }
       ],
       "layout": {
        "legend": {
         "tracegroupgap": 0
        },
        "template": {
         "data": {
          "bar": [
           {
            "error_x": {
             "color": "#2a3f5f"
            },
            "error_y": {
             "color": "#2a3f5f"
            },
            "marker": {
             "line": {
              "color": "#E5ECF6",
              "width": 0.5
             },
             "pattern": {
              "fillmode": "overlay",
              "size": 10,
              "solidity": 0.2
             }
            },
            "type": "bar"
           }
          ],
          "barpolar": [
           {
            "marker": {
             "line": {
              "color": "#E5ECF6",
              "width": 0.5
             },
             "pattern": {
              "fillmode": "overlay",
              "size": 10,
              "solidity": 0.2
             }
            },
            "type": "barpolar"
           }
          ],
          "carpet": [
           {
            "aaxis": {
             "endlinecolor": "#2a3f5f",
             "gridcolor": "white",
             "linecolor": "white",
             "minorgridcolor": "white",
             "startlinecolor": "#2a3f5f"
            },
            "baxis": {
             "endlinecolor": "#2a3f5f",
             "gridcolor": "white",
             "linecolor": "white",
             "minorgridcolor": "white",
             "startlinecolor": "#2a3f5f"
            },
            "type": "carpet"
           }
          ],
          "choropleth": [
           {
            "colorbar": {
             "outlinewidth": 0,
             "ticks": ""
            },
            "type": "choropleth"
           }
          ],
          "contour": [
           {
            "colorbar": {
             "outlinewidth": 0,
             "ticks": ""
            },
            "colorscale": [
             [
              0,
              "#0d0887"
             ],
             [
              0.1111111111111111,
              "#46039f"
             ],
             [
              0.2222222222222222,
              "#7201a8"
             ],
             [
              0.3333333333333333,
              "#9c179e"
             ],
             [
              0.4444444444444444,
              "#bd3786"
             ],
             [
              0.5555555555555556,
              "#d8576b"
             ],
             [
              0.6666666666666666,
              "#ed7953"
             ],
             [
              0.7777777777777778,
              "#fb9f3a"
             ],
             [
              0.8888888888888888,
              "#fdca26"
             ],
             [
              1,
              "#f0f921"
             ]
            ],
            "type": "contour"
           }
          ],
          "contourcarpet": [
           {
            "colorbar": {
             "outlinewidth": 0,
             "ticks": ""
            },
            "type": "contourcarpet"
           }
          ],
          "heatmap": [
           {
            "colorbar": {
             "outlinewidth": 0,
             "ticks": ""
            },
            "colorscale": [
             [
              0,
              "#0d0887"
             ],
             [
              0.1111111111111111,
              "#46039f"
             ],
             [
              0.2222222222222222,
              "#7201a8"
             ],
             [
              0.3333333333333333,
              "#9c179e"
             ],
             [
              0.4444444444444444,
              "#bd3786"
             ],
             [
              0.5555555555555556,
              "#d8576b"
             ],
             [
              0.6666666666666666,
              "#ed7953"
             ],
             [
              0.7777777777777778,
              "#fb9f3a"
             ],
             [
              0.8888888888888888,
              "#fdca26"
             ],
             [
              1,
              "#f0f921"
             ]
            ],
            "type": "heatmap"
           }
          ],
          "histogram": [
           {
            "marker": {
             "pattern": {
              "fillmode": "overlay",
              "size": 10,
              "solidity": 0.2
             }
            },
            "type": "histogram"
           }
          ],
          "histogram2d": [
           {
            "colorbar": {
             "outlinewidth": 0,
             "ticks": ""
            },
            "colorscale": [
             [
              0,
              "#0d0887"
             ],
             [
              0.1111111111111111,
              "#46039f"
             ],
             [
              0.2222222222222222,
              "#7201a8"
             ],
             [
              0.3333333333333333,
              "#9c179e"
             ],
             [
              0.4444444444444444,
              "#bd3786"
             ],
             [
              0.5555555555555556,
              "#d8576b"
             ],
             [
              0.6666666666666666,
              "#ed7953"
             ],
             [
              0.7777777777777778,
              "#fb9f3a"
             ],
             [
              0.8888888888888888,
              "#fdca26"
             ],
             [
              1,
              "#f0f921"
             ]
            ],
            "type": "histogram2d"
           }
          ],
          "histogram2dcontour": [
           {
            "colorbar": {
             "outlinewidth": 0,
             "ticks": ""
            },
            "colorscale": [
             [
              0,
              "#0d0887"
             ],
             [
              0.1111111111111111,
              "#46039f"
             ],
             [
              0.2222222222222222,
              "#7201a8"
             ],
             [
              0.3333333333333333,
              "#9c179e"
             ],
             [
              0.4444444444444444,
              "#bd3786"
             ],
             [
              0.5555555555555556,
              "#d8576b"
             ],
             [
              0.6666666666666666,
              "#ed7953"
             ],
             [
              0.7777777777777778,
              "#fb9f3a"
             ],
             [
              0.8888888888888888,
              "#fdca26"
             ],
             [
              1,
              "#f0f921"
             ]
            ],
            "type": "histogram2dcontour"
           }
          ],
          "mesh3d": [
           {
            "colorbar": {
             "outlinewidth": 0,
             "ticks": ""
            },
            "type": "mesh3d"
           }
          ],
          "parcoords": [
           {
            "line": {
             "colorbar": {
              "outlinewidth": 0,
              "ticks": ""
             }
            },
            "type": "parcoords"
           }
          ],
          "pie": [
           {
            "automargin": true,
            "type": "pie"
           }
          ],
          "scatter": [
           {
            "fillpattern": {
             "fillmode": "overlay",
             "size": 10,
             "solidity": 0.2
            },
            "type": "scatter"
           }
          ],
          "scatter3d": [
           {
            "line": {
             "colorbar": {
              "outlinewidth": 0,
              "ticks": ""
             }
            },
            "marker": {
             "colorbar": {
              "outlinewidth": 0,
              "ticks": ""
             }
            },
            "type": "scatter3d"
           }
          ],
          "scattercarpet": [
           {
            "marker": {
             "colorbar": {
              "outlinewidth": 0,
              "ticks": ""
             }
            },
            "type": "scattercarpet"
           }
          ],
          "scattergeo": [
           {
            "marker": {
             "colorbar": {
              "outlinewidth": 0,
              "ticks": ""
             }
            },
            "type": "scattergeo"
           }
          ],
          "scattergl": [
           {
            "marker": {
             "colorbar": {
              "outlinewidth": 0,
              "ticks": ""
             }
            },
            "type": "scattergl"
           }
          ],
          "scattermap": [
           {
            "marker": {
             "colorbar": {
              "outlinewidth": 0,
              "ticks": ""
             }
            },
            "type": "scattermap"
           }
          ],
          "scattermapbox": [
           {
            "marker": {
             "colorbar": {
              "outlinewidth": 0,
              "ticks": ""
             }
            },
            "type": "scattermapbox"
           }
          ],
          "scatterpolar": [
           {
            "marker": {
             "colorbar": {
              "outlinewidth": 0,
              "ticks": ""
             }
            },
            "type": "scatterpolar"
           }
          ],
          "scatterpolargl": [
           {
            "marker": {
             "colorbar": {
              "outlinewidth": 0,
              "ticks": ""
             }
            },
            "type": "scatterpolargl"
           }
          ],
          "scatterternary": [
           {
            "marker": {
             "colorbar": {
              "outlinewidth": 0,
              "ticks": ""
             }
            },
            "type": "scatterternary"
           }
          ],
          "surface": [
           {
            "colorbar": {
             "outlinewidth": 0,
             "ticks": ""
            },
            "colorscale": [
             [
              0,
              "#0d0887"
             ],
             [
              0.1111111111111111,
              "#46039f"
             ],
             [
              0.2222222222222222,
              "#7201a8"
             ],
             [
              0.3333333333333333,
              "#9c179e"
             ],
             [
              0.4444444444444444,
              "#bd3786"
             ],
             [
              0.5555555555555556,
              "#d8576b"
             ],
             [
              0.6666666666666666,
              "#ed7953"
             ],
             [
              0.7777777777777778,
              "#fb9f3a"
             ],
             [
              0.8888888888888888,
              "#fdca26"
             ],
             [
              1,
              "#f0f921"
             ]
            ],
            "type": "surface"
           }
          ],
          "table": [
           {
            "cells": {
             "fill": {
              "color": "#EBF0F8"
             },
             "line": {
              "color": "white"
             }
            },
            "header": {
             "fill": {
              "color": "#C8D4E3"
             },
             "line": {
              "color": "white"
             }
            },
            "type": "table"
           }
          ]
         },
         "layout": {
          "annotationdefaults": {
           "arrowcolor": "#2a3f5f",
           "arrowhead": 0,
           "arrowwidth": 1
          },
          "autotypenumbers": "strict",
          "coloraxis": {
           "colorbar": {
            "outlinewidth": 0,
            "ticks": ""
           }
          },
          "colorscale": {
           "diverging": [
            [
             0,
             "#8e0152"
            ],
            [
             0.1,
             "#c51b7d"
            ],
            [
             0.2,
             "#de77ae"
            ],
            [
             0.3,
             "#f1b6da"
            ],
            [
             0.4,
             "#fde0ef"
            ],
            [
             0.5,
             "#f7f7f7"
            ],
            [
             0.6,
             "#e6f5d0"
            ],
            [
             0.7,
             "#b8e186"
            ],
            [
             0.8,
             "#7fbc41"
            ],
            [
             0.9,
             "#4d9221"
            ],
            [
             1,
             "#276419"
            ]
           ],
           "sequential": [
            [
             0,
             "#0d0887"
            ],
            [
             0.1111111111111111,
             "#46039f"
            ],
            [
             0.2222222222222222,
             "#7201a8"
            ],
            [
             0.3333333333333333,
             "#9c179e"
            ],
            [
             0.4444444444444444,
             "#bd3786"
            ],
            [
             0.5555555555555556,
             "#d8576b"
            ],
            [
             0.6666666666666666,
             "#ed7953"
            ],
            [
             0.7777777777777778,
             "#fb9f3a"
            ],
            [
             0.8888888888888888,
             "#fdca26"
            ],
            [
             1,
             "#f0f921"
            ]
           ],
           "sequentialminus": [
            [
             0,
             "#0d0887"
            ],
            [
             0.1111111111111111,
             "#46039f"
            ],
            [
             0.2222222222222222,
             "#7201a8"
            ],
            [
             0.3333333333333333,
             "#9c179e"
            ],
            [
             0.4444444444444444,
             "#bd3786"
            ],
            [
             0.5555555555555556,
             "#d8576b"
            ],
            [
             0.6666666666666666,
             "#ed7953"
            ],
            [
             0.7777777777777778,
             "#fb9f3a"
            ],
            [
             0.8888888888888888,
             "#fdca26"
            ],
            [
             1,
             "#f0f921"
            ]
           ]
          },
          "colorway": [
           "#636efa",
           "#EF553B",
           "#00cc96",
           "#ab63fa",
           "#FFA15A",
           "#19d3f3",
           "#FF6692",
           "#B6E880",
           "#FF97FF",
           "#FECB52"
          ],
          "font": {
           "color": "#2a3f5f"
          },
          "geo": {
           "bgcolor": "white",
           "lakecolor": "white",
           "landcolor": "#E5ECF6",
           "showlakes": true,
           "showland": true,
           "subunitcolor": "white"
          },
          "hoverlabel": {
           "align": "left"
          },
          "hovermode": "closest",
          "mapbox": {
           "style": "light"
          },
          "paper_bgcolor": "white",
          "plot_bgcolor": "#E5ECF6",
          "polar": {
           "angularaxis": {
            "gridcolor": "white",
            "linecolor": "white",
            "ticks": ""
           },
           "bgcolor": "#E5ECF6",
           "radialaxis": {
            "gridcolor": "white",
            "linecolor": "white",
            "ticks": ""
           }
          },
          "scene": {
           "xaxis": {
            "backgroundcolor": "#E5ECF6",
            "gridcolor": "white",
            "gridwidth": 2,
            "linecolor": "white",
            "showbackground": true,
            "ticks": "",
            "zerolinecolor": "white"
           },
           "yaxis": {
            "backgroundcolor": "#E5ECF6",
            "gridcolor": "white",
            "gridwidth": 2,
            "linecolor": "white",
            "showbackground": true,
            "ticks": "",
            "zerolinecolor": "white"
           },
           "zaxis": {
            "backgroundcolor": "#E5ECF6",
            "gridcolor": "white",
            "gridwidth": 2,
            "linecolor": "white",
            "showbackground": true,
            "ticks": "",
            "zerolinecolor": "white"
           }
          },
          "shapedefaults": {
           "line": {
            "color": "#2a3f5f"
           }
          },
          "ternary": {
           "aaxis": {
            "gridcolor": "white",
            "linecolor": "white",
            "ticks": ""
           },
           "baxis": {
            "gridcolor": "white",
            "linecolor": "white",
            "ticks": ""
           },
           "bgcolor": "#E5ECF6",
           "caxis": {
            "gridcolor": "white",
            "linecolor": "white",
            "ticks": ""
           }
          },
          "title": {
           "x": 0.05
          },
          "xaxis": {
           "automargin": true,
           "gridcolor": "white",
           "linecolor": "white",
           "ticks": "",
           "title": {
            "standoff": 15
           },
           "zerolinecolor": "white",
           "zerolinewidth": 2
          },
          "yaxis": {
           "automargin": true,
           "gridcolor": "white",
           "linecolor": "white",
           "ticks": "",
           "title": {
            "standoff": 15
           },
           "zerolinecolor": "white",
           "zerolinewidth": 2
          }
         }
        },
        "title": {
         "text": "Delay_Hours by index"
        },
        "xaxis": {
         "anchor": "y",
         "domain": [
          0,
          1
         ],
         "title": {
          "text": "x"
         }
        },
        "yaxis": {
         "anchor": "x",
         "domain": [
          0,
          1
         ],
         "title": {
          "text": "Delay_Hours"
         }
        }
       }
      }
     },
     "metadata": {},
     "output_type": "display_data"
    }
   ],
   "source": [
    "fig = px.scatter(ml_csv, \n",
    "              x = ml_csv.index.values, \n",
    "              y = 'Delay_Hours',\n",
    "              title = 'Delay_Hours by index'\n",
    "            )\n",
    "\n",
    "fig.show()"
   ]
  },
  {
   "cell_type": "code",
   "execution_count": 46,
   "metadata": {},
   "outputs": [
    {
     "data": {
      "text/html": [
       "<div>\n",
       "<style scoped>\n",
       "    .dataframe tbody tr th:only-of-type {\n",
       "        vertical-align: middle;\n",
       "    }\n",
       "\n",
       "    .dataframe tbody tr th {\n",
       "        vertical-align: top;\n",
       "    }\n",
       "\n",
       "    .dataframe thead th {\n",
       "        text-align: right;\n",
       "    }\n",
       "</style>\n",
       "<table border=\"1\" class=\"dataframe\">\n",
       "  <thead>\n",
       "    <tr style=\"text-align: right;\">\n",
       "      <th></th>\n",
       "      <th>Month</th>\n",
       "      <th>Location</th>\n",
       "      <th>Failure_Code</th>\n",
       "      <th>Delay_Hours</th>\n",
       "    </tr>\n",
       "  </thead>\n",
       "  <tbody>\n",
       "    <tr>\n",
       "      <th>0</th>\n",
       "      <td>April</td>\n",
       "      <td>Location 1</td>\n",
       "      <td>A1</td>\n",
       "      <td>10.96</td>\n",
       "    </tr>\n",
       "    <tr>\n",
       "      <th>1</th>\n",
       "      <td>April</td>\n",
       "      <td>Location 1</td>\n",
       "      <td>B1</td>\n",
       "      <td>0.92</td>\n",
       "    </tr>\n",
       "    <tr>\n",
       "      <th>2</th>\n",
       "      <td>April</td>\n",
       "      <td>Location 1</td>\n",
       "      <td>B4</td>\n",
       "      <td>0.25</td>\n",
       "    </tr>\n",
       "    <tr>\n",
       "      <th>3</th>\n",
       "      <td>April</td>\n",
       "      <td>Location 1</td>\n",
       "      <td>C1</td>\n",
       "      <td>9.90</td>\n",
       "    </tr>\n",
       "    <tr>\n",
       "      <th>4</th>\n",
       "      <td>April</td>\n",
       "      <td>Location 1</td>\n",
       "      <td>C2</td>\n",
       "      <td>0.28</td>\n",
       "    </tr>\n",
       "    <tr>\n",
       "      <th>...</th>\n",
       "      <td>...</td>\n",
       "      <td>...</td>\n",
       "      <td>...</td>\n",
       "      <td>...</td>\n",
       "    </tr>\n",
       "    <tr>\n",
       "      <th>519</th>\n",
       "      <td>September</td>\n",
       "      <td>Location 7</td>\n",
       "      <td>C1</td>\n",
       "      <td>6.13</td>\n",
       "    </tr>\n",
       "    <tr>\n",
       "      <th>520</th>\n",
       "      <td>September</td>\n",
       "      <td>Location 7</td>\n",
       "      <td>C2</td>\n",
       "      <td>2.19</td>\n",
       "    </tr>\n",
       "    <tr>\n",
       "      <th>521</th>\n",
       "      <td>September</td>\n",
       "      <td>Location 7</td>\n",
       "      <td>C5</td>\n",
       "      <td>0.34</td>\n",
       "    </tr>\n",
       "    <tr>\n",
       "      <th>522</th>\n",
       "      <td>September</td>\n",
       "      <td>Location 7</td>\n",
       "      <td>D1</td>\n",
       "      <td>1.50</td>\n",
       "    </tr>\n",
       "    <tr>\n",
       "      <th>523</th>\n",
       "      <td>September</td>\n",
       "      <td>Location 7</td>\n",
       "      <td>D2</td>\n",
       "      <td>25.98</td>\n",
       "    </tr>\n",
       "  </tbody>\n",
       "</table>\n",
       "<p>524 rows × 4 columns</p>\n",
       "</div>"
      ],
      "text/plain": [
       "         Month    Location Failure_Code  Delay_Hours\n",
       "0        April  Location 1           A1        10.96\n",
       "1        April  Location 1           B1         0.92\n",
       "2        April  Location 1           B4         0.25\n",
       "3        April  Location 1           C1         9.90\n",
       "4        April  Location 1           C2         0.28\n",
       "..         ...         ...          ...          ...\n",
       "519  September  Location 7           C1         6.13\n",
       "520  September  Location 7           C2         2.19\n",
       "521  September  Location 7           C5         0.34\n",
       "522  September  Location 7           D1         1.50\n",
       "523  September  Location 7           D2        25.98\n",
       "\n",
       "[524 rows x 4 columns]"
      ]
     },
     "execution_count": 46,
     "metadata": {},
     "output_type": "execute_result"
    }
   ],
   "source": [
    "ml_csv_group = ml_csv\n",
    "ml_csv_group['countVal'] = 1\n",
    "ml_csv_group = ml_csv_group.groupby(['Month', 'Location', 'Failure_Code']).agg(\n",
    "        Delay_Hours=('Delay_Hours', 'sum')\n",
    "    ).reset_index()\n",
    "ml_csv_group"
   ]
  },
  {
   "cell_type": "code",
   "execution_count": 47,
   "metadata": {},
   "outputs": [
    {
     "data": {
      "application/vnd.plotly.v1+json": {
       "config": {
        "plotlyServerURL": "https://plot.ly"
       },
       "data": [
        {
         "hovertemplate": "x=%{x}<br>Delay_Hours=%{y}<extra></extra>",
         "legendgroup": "",
         "marker": {
          "color": "#636efa",
          "symbol": "circle"
         },
         "mode": "markers",
         "name": "",
         "orientation": "v",
         "showlegend": false,
         "type": "scatter",
         "x": {
          "bdata": "AAABAAIAAwAEAAUABgAHAAgACQAKAAsADAANAA4ADwAQABEAEgATABQAFQAWABcAGAAZABoAGwAcAB0AHgAfACAAIQAiACMAJAAlACYAJwAoACkAKgArACwALQAuAC8AMAAxADIAMwA0ADUANgA3ADgAOQA6ADsAPAA9AD4APwBAAEEAQgBDAEQARQBGAEcASABJAEoASwBMAE0ATgBPAFAAUQBSAFMAVABVAFYAVwBYAFkAWgBbAFwAXQBeAF8AYABhAGIAYwBkAGUAZgBnAGgAaQBqAGsAbABtAG4AbwBwAHEAcgBzAHQAdQB2AHcAeAB5AHoAewB8AH0AfgB/AIAAgQCCAIMAhACFAIYAhwCIAIkAigCLAIwAjQCOAI8AkACRAJIAkwCUAJUAlgCXAJgAmQCaAJsAnACdAJ4AnwCgAKEAogCjAKQApQCmAKcAqACpAKoAqwCsAK0ArgCvALAAsQCyALMAtAC1ALYAtwC4ALkAugC7ALwAvQC+AL8AwADBAMIAwwDEAMUAxgDHAMgAyQDKAMsAzADNAM4AzwDQANEA0gDTANQA1QDWANcA2ADZANoA2wDcAN0A3gDfAOAA4QDiAOMA5ADlAOYA5wDoAOkA6gDrAOwA7QDuAO8A8ADxAPIA8wD0APUA9gD3APgA+QD6APsA/AD9AP4A/wAAAQEBAgEDAQQBBQEGAQcBCAEJAQoBCwEMAQ0BDgEPARABEQESARMBFAEVARYBFwEYARkBGgEbARwBHQEeAR8BIAEhASIBIwEkASUBJgEnASgBKQEqASsBLAEtAS4BLwEwATEBMgEzATQBNQE2ATcBOAE5AToBOwE8AT0BPgE/AUABQQFCAUMBRAFFAUYBRwFIAUkBSgFLAUwBTQFOAU8BUAFRAVIBUwFUAVUBVgFXAVgBWQFaAVsBXAFdAV4BXwFgAWEBYgFjAWQBZQFmAWcBaAFpAWoBawFsAW0BbgFvAXABcQFyAXMBdAF1AXYBdwF4AXkBegF7AXwBfQF+AX8BgAGBAYIBgwGEAYUBhgGHAYgBiQGKAYsBjAGNAY4BjwGQAZEBkgGTAZQBlQGWAZcBmAGZAZoBmwGcAZ0BngGfAaABoQGiAaMBpAGlAaYBpwGoAakBqgGrAawBrQGuAa8BsAGxAbIBswG0AbUBtgG3AbgBuQG6AbsBvAG9Ab4BvwHAAcEBwgHDAcQBxQHGAccByAHJAcoBywHMAc0BzgHPAdAB0QHSAdMB1AHVAdYB1wHYAdkB2gHbAdwB3QHeAd8B4AHhAeIB4wHkAeUB5gHnAegB6QHqAesB7AHtAe4B7wHwAfEB8gHzAfQB9QH2AfcB+AH5AfoB+wH8Af0B/gH/AQACAQICAgMCBAIFAgYCBwIIAgkCCgILAg==",
          "dtype": "i2"
         },
         "xaxis": "x",
         "y": {
          "bdata": "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",
          "dtype": "f8"
         },
         "yaxis": "y"
        }
       ],
       "layout": {
        "legend": {
         "tracegroupgap": 0
        },
        "template": {
         "data": {
          "bar": [
           {
            "error_x": {
             "color": "#2a3f5f"
            },
            "error_y": {
             "color": "#2a3f5f"
            },
            "marker": {
             "line": {
              "color": "#E5ECF6",
              "width": 0.5
             },
             "pattern": {
              "fillmode": "overlay",
              "size": 10,
              "solidity": 0.2
             }
            },
            "type": "bar"
           }
          ],
          "barpolar": [
           {
            "marker": {
             "line": {
              "color": "#E5ECF6",
              "width": 0.5
             },
             "pattern": {
              "fillmode": "overlay",
              "size": 10,
              "solidity": 0.2
             }
            },
            "type": "barpolar"
           }
          ],
          "carpet": [
           {
            "aaxis": {
             "endlinecolor": "#2a3f5f",
             "gridcolor": "white",
             "linecolor": "white",
             "minorgridcolor": "white",
             "startlinecolor": "#2a3f5f"
            },
            "baxis": {
             "endlinecolor": "#2a3f5f",
             "gridcolor": "white",
             "linecolor": "white",
             "minorgridcolor": "white",
             "startlinecolor": "#2a3f5f"
            },
            "type": "carpet"
           }
          ],
          "choropleth": [
           {
            "colorbar": {
             "outlinewidth": 0,
             "ticks": ""
            },
            "type": "choropleth"
           }
          ],
          "contour": [
           {
            "colorbar": {
             "outlinewidth": 0,
             "ticks": ""
            },
            "colorscale": [
             [
              0,
              "#0d0887"
             ],
             [
              0.1111111111111111,
              "#46039f"
             ],
             [
              0.2222222222222222,
              "#7201a8"
             ],
             [
              0.3333333333333333,
              "#9c179e"
             ],
             [
              0.4444444444444444,
              "#bd3786"
             ],
             [
              0.5555555555555556,
              "#d8576b"
             ],
             [
              0.6666666666666666,
              "#ed7953"
             ],
             [
              0.7777777777777778,
              "#fb9f3a"
             ],
             [
              0.8888888888888888,
              "#fdca26"
             ],
             [
              1,
              "#f0f921"
             ]
            ],
            "type": "contour"
           }
          ],
          "contourcarpet": [
           {
            "colorbar": {
             "outlinewidth": 0,
             "ticks": ""
            },
            "type": "contourcarpet"
           }
          ],
          "heatmap": [
           {
            "colorbar": {
             "outlinewidth": 0,
             "ticks": ""
            },
            "colorscale": [
             [
              0,
              "#0d0887"
             ],
             [
              0.1111111111111111,
              "#46039f"
             ],
             [
              0.2222222222222222,
              "#7201a8"
             ],
             [
              0.3333333333333333,
              "#9c179e"
             ],
             [
              0.4444444444444444,
              "#bd3786"
             ],
             [
              0.5555555555555556,
              "#d8576b"
             ],
             [
              0.6666666666666666,
              "#ed7953"
             ],
             [
              0.7777777777777778,
              "#fb9f3a"
             ],
             [
              0.8888888888888888,
              "#fdca26"
             ],
             [
              1,
              "#f0f921"
             ]
            ],
            "type": "heatmap"
           }
          ],
          "histogram": [
           {
            "marker": {
             "pattern": {
              "fillmode": "overlay",
              "size": 10,
              "solidity": 0.2
             }
            },
            "type": "histogram"
           }
          ],
          "histogram2d": [
           {
            "colorbar": {
             "outlinewidth": 0,
             "ticks": ""
            },
            "colorscale": [
             [
              0,
              "#0d0887"
             ],
             [
              0.1111111111111111,
              "#46039f"
             ],
             [
              0.2222222222222222,
              "#7201a8"
             ],
             [
              0.3333333333333333,
              "#9c179e"
             ],
             [
              0.4444444444444444,
              "#bd3786"
             ],
             [
              0.5555555555555556,
              "#d8576b"
             ],
             [
              0.6666666666666666,
              "#ed7953"
             ],
             [
              0.7777777777777778,
              "#fb9f3a"
             ],
             [
              0.8888888888888888,
              "#fdca26"
             ],
             [
              1,
              "#f0f921"
             ]
            ],
            "type": "histogram2d"
           }
          ],
          "histogram2dcontour": [
           {
            "colorbar": {
             "outlinewidth": 0,
             "ticks": ""
            },
            "colorscale": [
             [
              0,
              "#0d0887"
             ],
             [
              0.1111111111111111,
              "#46039f"
             ],
             [
              0.2222222222222222,
              "#7201a8"
             ],
             [
              0.3333333333333333,
              "#9c179e"
             ],
             [
              0.4444444444444444,
              "#bd3786"
             ],
             [
              0.5555555555555556,
              "#d8576b"
             ],
             [
              0.6666666666666666,
              "#ed7953"
             ],
             [
              0.7777777777777778,
              "#fb9f3a"
             ],
             [
              0.8888888888888888,
              "#fdca26"
             ],
             [
              1,
              "#f0f921"
             ]
            ],
            "type": "histogram2dcontour"
           }
          ],
          "mesh3d": [
           {
            "colorbar": {
             "outlinewidth": 0,
             "ticks": ""
            },
            "type": "mesh3d"
           }
          ],
          "parcoords": [
           {
            "line": {
             "colorbar": {
              "outlinewidth": 0,
              "ticks": ""
             }
            },
            "type": "parcoords"
           }
          ],
          "pie": [
           {
            "automargin": true,
            "type": "pie"
           }
          ],
          "scatter": [
           {
            "fillpattern": {
             "fillmode": "overlay",
             "size": 10,
             "solidity": 0.2
            },
            "type": "scatter"
           }
          ],
          "scatter3d": [
           {
            "line": {
             "colorbar": {
              "outlinewidth": 0,
              "ticks": ""
             }
            },
            "marker": {
             "colorbar": {
              "outlinewidth": 0,
              "ticks": ""
             }
            },
            "type": "scatter3d"
           }
          ],
          "scattercarpet": [
           {
            "marker": {
             "colorbar": {
              "outlinewidth": 0,
              "ticks": ""
             }
            },
            "type": "scattercarpet"
           }
          ],
          "scattergeo": [
           {
            "marker": {
             "colorbar": {
              "outlinewidth": 0,
              "ticks": ""
             }
            },
            "type": "scattergeo"
           }
          ],
          "scattergl": [
           {
            "marker": {
             "colorbar": {
              "outlinewidth": 0,
              "ticks": ""
             }
            },
            "type": "scattergl"
           }
          ],
          "scattermap": [
           {
            "marker": {
             "colorbar": {
              "outlinewidth": 0,
              "ticks": ""
             }
            },
            "type": "scattermap"
           }
          ],
          "scattermapbox": [
           {
            "marker": {
             "colorbar": {
              "outlinewidth": 0,
              "ticks": ""
             }
            },
            "type": "scattermapbox"
           }
          ],
          "scatterpolar": [
           {
            "marker": {
             "colorbar": {
              "outlinewidth": 0,
              "ticks": ""
             }
            },
            "type": "scatterpolar"
           }
          ],
          "scatterpolargl": [
           {
            "marker": {
             "colorbar": {
              "outlinewidth": 0,
              "ticks": ""
             }
            },
            "type": "scatterpolargl"
           }
          ],
          "scatterternary": [
           {
            "marker": {
             "colorbar": {
              "outlinewidth": 0,
              "ticks": ""
             }
            },
            "type": "scatterternary"
           }
          ],
          "surface": [
           {
            "colorbar": {
             "outlinewidth": 0,
             "ticks": ""
            },
            "colorscale": [
             [
              0,
              "#0d0887"
             ],
             [
              0.1111111111111111,
              "#46039f"
             ],
             [
              0.2222222222222222,
              "#7201a8"
             ],
             [
              0.3333333333333333,
              "#9c179e"
             ],
             [
              0.4444444444444444,
              "#bd3786"
             ],
             [
              0.5555555555555556,
              "#d8576b"
             ],
             [
              0.6666666666666666,
              "#ed7953"
             ],
             [
              0.7777777777777778,
              "#fb9f3a"
             ],
             [
              0.8888888888888888,
              "#fdca26"
             ],
             [
              1,
              "#f0f921"
             ]
            ],
            "type": "surface"
           }
          ],
          "table": [
           {
            "cells": {
             "fill": {
              "color": "#EBF0F8"
             },
             "line": {
              "color": "white"
             }
            },
            "header": {
             "fill": {
              "color": "#C8D4E3"
             },
             "line": {
              "color": "white"
             }
            },
            "type": "table"
           }
          ]
         },
         "layout": {
          "annotationdefaults": {
           "arrowcolor": "#2a3f5f",
           "arrowhead": 0,
           "arrowwidth": 1
          },
          "autotypenumbers": "strict",
          "coloraxis": {
           "colorbar": {
            "outlinewidth": 0,
            "ticks": ""
           }
          },
          "colorscale": {
           "diverging": [
            [
             0,
             "#8e0152"
            ],
            [
             0.1,
             "#c51b7d"
            ],
            [
             0.2,
             "#de77ae"
            ],
            [
             0.3,
             "#f1b6da"
            ],
            [
             0.4,
             "#fde0ef"
            ],
            [
             0.5,
             "#f7f7f7"
            ],
            [
             0.6,
             "#e6f5d0"
            ],
            [
             0.7,
             "#b8e186"
            ],
            [
             0.8,
             "#7fbc41"
            ],
            [
             0.9,
             "#4d9221"
            ],
            [
             1,
             "#276419"
            ]
           ],
           "sequential": [
            [
             0,
             "#0d0887"
            ],
            [
             0.1111111111111111,
             "#46039f"
            ],
            [
             0.2222222222222222,
             "#7201a8"
            ],
            [
             0.3333333333333333,
             "#9c179e"
            ],
            [
             0.4444444444444444,
             "#bd3786"
            ],
            [
             0.5555555555555556,
             "#d8576b"
            ],
            [
             0.6666666666666666,
             "#ed7953"
            ],
            [
             0.7777777777777778,
             "#fb9f3a"
            ],
            [
             0.8888888888888888,
             "#fdca26"
            ],
            [
             1,
             "#f0f921"
            ]
           ],
           "sequentialminus": [
            [
             0,
             "#0d0887"
            ],
            [
             0.1111111111111111,
             "#46039f"
            ],
            [
             0.2222222222222222,
             "#7201a8"
            ],
            [
             0.3333333333333333,
             "#9c179e"
            ],
            [
             0.4444444444444444,
             "#bd3786"
            ],
            [
             0.5555555555555556,
             "#d8576b"
            ],
            [
             0.6666666666666666,
             "#ed7953"
            ],
            [
             0.7777777777777778,
             "#fb9f3a"
            ],
            [
             0.8888888888888888,
             "#fdca26"
            ],
            [
             1,
             "#f0f921"
            ]
           ]
          },
          "colorway": [
           "#636efa",
           "#EF553B",
           "#00cc96",
           "#ab63fa",
           "#FFA15A",
           "#19d3f3",
           "#FF6692",
           "#B6E880",
           "#FF97FF",
           "#FECB52"
          ],
          "font": {
           "color": "#2a3f5f"
          },
          "geo": {
           "bgcolor": "white",
           "lakecolor": "white",
           "landcolor": "#E5ECF6",
           "showlakes": true,
           "showland": true,
           "subunitcolor": "white"
          },
          "hoverlabel": {
           "align": "left"
          },
          "hovermode": "closest",
          "mapbox": {
           "style": "light"
          },
          "paper_bgcolor": "white",
          "plot_bgcolor": "#E5ECF6",
          "polar": {
           "angularaxis": {
            "gridcolor": "white",
            "linecolor": "white",
            "ticks": ""
           },
           "bgcolor": "#E5ECF6",
           "radialaxis": {
            "gridcolor": "white",
            "linecolor": "white",
            "ticks": ""
           }
          },
          "scene": {
           "xaxis": {
            "backgroundcolor": "#E5ECF6",
            "gridcolor": "white",
            "gridwidth": 2,
            "linecolor": "white",
            "showbackground": true,
            "ticks": "",
            "zerolinecolor": "white"
           },
           "yaxis": {
            "backgroundcolor": "#E5ECF6",
            "gridcolor": "white",
            "gridwidth": 2,
            "linecolor": "white",
            "showbackground": true,
            "ticks": "",
            "zerolinecolor": "white"
           },
           "zaxis": {
            "backgroundcolor": "#E5ECF6",
            "gridcolor": "white",
            "gridwidth": 2,
            "linecolor": "white",
            "showbackground": true,
            "ticks": "",
            "zerolinecolor": "white"
           }
          },
          "shapedefaults": {
           "line": {
            "color": "#2a3f5f"
           }
          },
          "ternary": {
           "aaxis": {
            "gridcolor": "white",
            "linecolor": "white",
            "ticks": ""
           },
           "baxis": {
            "gridcolor": "white",
            "linecolor": "white",
            "ticks": ""
           },
           "bgcolor": "#E5ECF6",
           "caxis": {
            "gridcolor": "white",
            "linecolor": "white",
            "ticks": ""
           }
          },
          "title": {
           "x": 0.05
          },
          "xaxis": {
           "automargin": true,
           "gridcolor": "white",
           "linecolor": "white",
           "ticks": "",
           "title": {
            "standoff": 15
           },
           "zerolinecolor": "white",
           "zerolinewidth": 2
          },
          "yaxis": {
           "automargin": true,
           "gridcolor": "white",
           "linecolor": "white",
           "ticks": "",
           "title": {
            "standoff": 15
           },
           "zerolinecolor": "white",
           "zerolinewidth": 2
          }
         }
        },
        "title": {
         "text": "Delay_Hours by index"
        },
        "xaxis": {
         "anchor": "y",
         "domain": [
          0,
          1
         ],
         "title": {
          "text": "x"
         }
        },
        "yaxis": {
         "anchor": "x",
         "domain": [
          0,
          1
         ],
         "title": {
          "text": "Delay_Hours"
         }
        }
       }
      }
     },
     "metadata": {},
     "output_type": "display_data"
    }
   ],
   "source": [
    "fig = px.scatter(ml_csv_group, \n",
    "              x = ml_csv_group.index.values, \n",
    "              y = 'Delay_Hours',\n",
    "              title = 'Delay_Hours by index'\n",
    "            )\n",
    "\n",
    "fig.show()"
   ]
  },
  {
   "cell_type": "code",
   "execution_count": null,
   "metadata": {},
   "outputs": [
    {
     "data": {
      "application/vnd.plotly.v1+json": {
       "config": {
        "plotlyServerURL": "https://plot.ly"
       },
       "data": [
        {
         "hovertemplate": "Location=Location 1<br>Month=%{x}<br>Delay_Hours=%{y}<extra></extra>",
         "legendgroup": "Location 1",
         "marker": {
          "color": "#636efa",
          "pattern": {
           "shape": ""
          }
         },
         "name": "Location 1",
         "orientation": "v",
         "showlegend": true,
         "textposition": "auto",
         "type": "bar",
         "x": [
          "April",
          "April",
          "April",
          "April",
          "April",
          "April",
          "April",
          "August",
          "August",
          "August",
          "August",
          "August",
          "August",
          "December",
          "December",
          "December",
          "December",
          "December",
          "February",
          "February",
          "February",
          "February",
          "February",
          "February",
          "February",
          "January",
          "January",
          "January",
          "January",
          "January",
          "January",
          "January",
          "January",
          "July",
          "July",
          "July",
          "July",
          "July",
          "July",
          "July",
          "June",
          "June",
          "June",
          "June",
          "June",
          "June",
          "March",
          "March",
          "March",
          "March",
          "March",
          "March",
          "March",
          "May",
          "May",
          "May",
          "May",
          "May",
          "May",
          "May",
          "November",
          "November",
          "November",
          "November",
          "October",
          "October",
          "October",
          "October",
          "October",
          "October",
          "September",
          "September",
          "September",
          "September",
          "September",
          "September"
         ],
         "xaxis": "x",
         "y": {
          "bdata": "61G4HoXrJUBxPQrXo3DtPwAAAAAAANA/zczMzMzMI0DsUbgehevRPwAAAAAA4ENArkfhehQuJkCF61G4HgUgQHsUrkfhehBAPQrXo3A94j+4HoXrUbg7QFK4HoXrURRACtejcD0KNEAfhetRuB4WQClcj8L1qCZAAAAAAAAAF0Bcj8L1KFwZQB+F61G4HtU/UrgehetRAED2KFyPwvXgP4/C9Shcj/I/4XoUrkfh2j8fhetRuB4hQGZmZmZmZghAUrgeheuRMEC4HoXrUTggQEjhehSuRxBAuB6F61G43j97FK5H4Xq0P1yPwvUo3ClA9ihcj8L16D/2KFyPwvUSQK5H4XoUrh9A16NwPQrXE0B7FK5H4XoAQBSuR+F6FN4/Fa5H4Xo0QEDNzMzMzMwIQB+F61G4HuU/pHA9CtejEECuR+F6FG4zQEjhehSuRw1AUrgehesRUkCkcD0K16MVQOF6FK5HYSFAUrgehetRH0D2KFyPwvUcQOxRuB6FayVAH4XrUbge9T+amZmZmZnxP5DC9ShcDy1ArkfhehQuJEBI4XoUrkcjQFK4HoXrURZAFK5H4XoU3j/hehSuR+EWQGZmZmZmZiFACtejcD0K5z+uR+F6FK4QQAAAAAAAAPA/exSuR+F6EEDhehSuR+ERQHE9CtejcBtAhetRuB6FEUBcj8L1KFwLQHE9CtejcOU/XI/C9ShcD0CuR+F6FK73P65H4XoUrhBAzczMzMzMLEA+CtejcD0SQJqZmZmZmbk/AAAAAAAA6D97FK5H4XoIQDMzMzMzM+s/FK5H4XoU9j8=",
          "dtype": "f8"
         },
         "yaxis": "y"
        },
        {
         "hovertemplate": "Location=Location 2<br>Month=%{x}<br>Delay_Hours=%{y}<extra></extra>",
         "legendgroup": "Location 2",
         "marker": {
          "color": "#EF553B",
          "pattern": {
           "shape": ""
          }
         },
         "name": "Location 2",
         "orientation": "v",
         "showlegend": true,
         "textposition": "auto",
         "type": "bar",
         "x": [
          "April",
          "April",
          "April",
          "April",
          "August",
          "August",
          "August",
          "August",
          "August",
          "August",
          "August",
          "December",
          "December",
          "December",
          "December",
          "December",
          "December",
          "February",
          "February",
          "February",
          "February",
          "February",
          "February",
          "February",
          "February",
          "February",
          "January",
          "January",
          "January",
          "January",
          "January",
          "January",
          "January",
          "January",
          "July",
          "July",
          "July",
          "July",
          "July",
          "June",
          "June",
          "June",
          "June",
          "June",
          "June",
          "March",
          "March",
          "March",
          "March",
          "March",
          "March",
          "March",
          "May",
          "May",
          "May",
          "May",
          "May",
          "May",
          "May",
          "November",
          "November",
          "November",
          "November",
          "November",
          "November",
          "October",
          "October",
          "October",
          "October",
          "September",
          "September",
          "September",
          "September",
          "September",
          "September"
         ],
         "xaxis": "x",
         "y": {
          "bdata": "4XoUrkfhFECuR+F6FK4qQHsUrkfhehRAexSuR+F6F0AAAAAAAEAxQCpcj8L1KApAmpmZmZmZuT/rUbgehWsjQGZmZmZmZuY/zczMzMzMEEBcj8L1KFz/P4XrUbgehf8/exSuR+F6pD+F61G4HoUXQK5H4XoUrg9AAAAAAAAA/D/MzMzMzMwaQDMzMzMzsylAhetRuB6F/z9mZmZmZmbmPylcj8L1KOw/UrgehetR4D8pXI/C9agjQFK4HoXrUdg/XI/C9ShcH0AqXI/C9SgMQGdmZmZmZgpAZmZmZmZmEkBcj8L1KFwDQD0K16NwPRtAj8L1KFyPFEAAAAAAAAAKQHsUrkfhujBAH4XrUbgeFEAK16NwPQr3PwAAAAAAAPA/hetRuB6FH0DD9Shcj8IFQIXrUbgehQ1A16NwPQrX/z8fhetRuB7tPylcj8L1qCRA4XoUrkfh2j9nZmZmZmYGQKRwPQrXo+A/uB6F61G4E0BSuB6F61ERQArXo3A9Csc/rkfhehSuKEBcj8L1KFznPwrXo3A9ChhAzczMzMxMIEB7FK5H4XogQHsUrkfherQ/MzMzMzMzE0BxPQrXo3AnQOxRuB6F6/E/XI/C9ShcB0Bcj8L1KFwHQPYoXI/C9R1AkML1KFyP4j/2KFyPwvUOQHoUrkfheh5ApHA9CtejMUCkcD0K16M2QM3MzMzMzBZAUrgehetRMEDXo3A9CtcHQFK4HoXrUQBAhetRuB6FDUAUrkfhehQTQLkehetRuBhAcD0K16NwIEBmZmZmZmYEQBWuR+F6FBVA",
          "dtype": "f8"
         },
         "yaxis": "y"
        },
        {
         "hovertemplate": "Location=Location 3<br>Month=%{x}<br>Delay_Hours=%{y}<extra></extra>",
         "legendgroup": "Location 3",
         "marker": {
          "color": "#00cc96",
          "pattern": {
           "shape": ""
          }
         },
         "name": "Location 3",
         "orientation": "v",
         "showlegend": true,
         "textposition": "auto",
         "type": "bar",
         "x": [
          "April",
          "April",
          "April",
          "April",
          "April",
          "April",
          "August",
          "August",
          "August",
          "August",
          "August",
          "August",
          "December",
          "December",
          "December",
          "December",
          "February",
          "February",
          "February",
          "February",
          "February",
          "February",
          "February",
          "January",
          "January",
          "January",
          "January",
          "January",
          "January",
          "July",
          "July",
          "July",
          "July",
          "July",
          "July",
          "July",
          "June",
          "June",
          "June",
          "June",
          "June",
          "March",
          "March",
          "March",
          "March",
          "March",
          "March",
          "May",
          "May",
          "May",
          "May",
          "May",
          "November",
          "November",
          "November",
          "November",
          "November",
          "November",
          "October",
          "October",
          "October",
          "October",
          "October",
          "September",
          "September",
          "September",
          "September",
          "September",
          "September"
         ],
         "xaxis": "x",
         "y": {
          "bdata": "pHA9CtejKkCkcD0K1yMoQM3MzMzMTDtAMzMzMzMzA0C4HoXrUbj2Px+F61G4HihAzczMzMxMMUDsUbgeheuxP5qZmZmZmTJApHA9CtcjL0BH4XoUrkcPQGZmZmZmZiZAj8L1KFyPBkCPwvUoXA8zQK5H4XoUrgNAwvUoXI+CMUCkcD0K16MXQNejcD0K1wtAmpmZmZmZEECPwvUoXI8iQM3MzMzMzOw/w/UoXI/C5T+uR+F6FK4RQHsUrkfhehhA7FG4HoXrG0DXo3A9CtcSQClcj8L1KAZApHA9CtejEUCPwvUoXI/iP2ZmZmZmZiBAwvUoXI/CAUC4HoXrUbj+Pz0K16Nw/TBAMzMzMzMz0z8AAAAAAADgP0jhehSuR/0/KVyPwvUoFUCuR+F6FG4xQBSuR+F6FPI/XI/C9ShcH0AAAAAAAIAhQMP1KFyPwglAcT0K16NwMUBcj8L1KFwLQClcj8L1qC5AexSuR+H6JEA0MzMzMzP7Px+F61G4HhhAuB6F61G4CkCkcD0K1yMmQFK4HoXrUR9AKVyPwvUoFECF61G4HoUFQHsUrkfherQ/H4XrUbgeFUBI4XoUrkcLQFK4HoXrURBAXI/C9ShcB0AfhetRuF5KQB6F61G4HhhArkfhehSuJEAfhetRuB4SQJqZmZmZmQ1AzczMzMzMBkCPwvUoXI/2P2ZmZmZmZjJAPgrXo3A99j9I4XoUrkcDQM3MzMzMzNw/",
          "dtype": "f8"
         },
         "yaxis": "y"
        },
        {
         "hovertemplate": "Location=Location 4<br>Month=%{x}<br>Delay_Hours=%{y}<extra></extra>",
         "legendgroup": "Location 4",
         "marker": {
          "color": "#ab63fa",
          "pattern": {
           "shape": ""
          }
         },
         "name": "Location 4",
         "orientation": "v",
         "showlegend": true,
         "textposition": "auto",
         "type": "bar",
         "x": [
          "April",
          "April",
          "April",
          "April",
          "April",
          "August",
          "August",
          "August",
          "August",
          "August",
          "August",
          "December",
          "December",
          "December",
          "December",
          "December",
          "December",
          "February",
          "February",
          "February",
          "February",
          "February",
          "February",
          "January",
          "January",
          "January",
          "January",
          "January",
          "January",
          "January",
          "July",
          "July",
          "July",
          "July",
          "July",
          "July",
          "June",
          "June",
          "June",
          "June",
          "June",
          "June",
          "March",
          "March",
          "March",
          "March",
          "March",
          "March",
          "March",
          "March",
          "May",
          "May",
          "May",
          "May",
          "May",
          "May",
          "May",
          "November",
          "November",
          "November",
          "November",
          "November",
          "November",
          "November",
          "October",
          "October",
          "October",
          "October",
          "October",
          "September",
          "September",
          "September",
          "September",
          "September"
         ],
         "xaxis": "x",
         "y": {
          "bdata": "H4XrUbgeGEDrUbgehesYQLgehetROCNApHA9CtejBEAzMzMzMzMJQArXo3A9CiNASOF6FK5HAUBI4XoUrkfxP7gehetRuDdA4XoUrkfh/j8AAAAAAAAYQEjhehSuR/E/16NwPQrXAUDNzMzMzMwOQArXo3A9ChJAH4XrUbge5T9xPQrXo3DtP+F6FK5H4do/KVyPwvUoEEBxPQrXo3D1PwAAAAAAAOA/4XoUrkfhFEAfhetRuB7VP2dmZmZmZgBAZmZmZmZm/j9cj8L1KNwhQHsUrkfhevQ/KVyPwvUoCkBI4XoUrkfxP9ejcD0K1xFArkfhehSu1z8zMzMzMzMNQLgehetRuBBACtejcD0KIEAAAAAAAADgP+tRuB6F6xFA16NwPQrXFEAK16NwPco0QNejcD0KV1BAcD0K16MwNUAAAAAAAAAAQOF6FK5H4do/AAAAAAAAEEBnZmZmZmYhQHsUrkfherQ/AAAAAAAA6D/NzMzMzMwIQOxRuB6F69E/PgrXo3A9LECuR+F6FK4RQD4K16NwPQ5AFK5H4XoU3j9SuB6F61H4P/YoXI/C9RFApHA9CtejHEAAAAAAAADwP/YoXI/C9SpAKVyPwvUo7D8zMzMzMzPjPwrXo3A9Cuc/cT0K16NwCUBcj8L1KFwBQFyPwvUoXBBAAAAAAAAA4D+amZmZmZnxP7gehetROCJAexSuR+G6MEBcj8L1KFwLQAAAAAAAANA/CtejcD0KA0AAAAAAAAAlQIXrUbgehQNAkML1KFyP9j+uR+F6FK4RQA==",
          "dtype": "f8"
         },
         "yaxis": "y"
        },
        {
         "hovertemplate": "Location=Location 5<br>Month=%{x}<br>Delay_Hours=%{y}<extra></extra>",
         "legendgroup": "Location 5",
         "marker": {
          "color": "#FFA15A",
          "pattern": {
           "shape": ""
          }
         },
         "name": "Location 5",
         "orientation": "v",
         "showlegend": true,
         "textposition": "auto",
         "type": "bar",
         "x": [
          "April",
          "April",
          "April",
          "April",
          "April",
          "August",
          "August",
          "August",
          "August",
          "August",
          "August",
          "December",
          "December",
          "December",
          "December",
          "December",
          "December",
          "February",
          "February",
          "February",
          "February",
          "February",
          "February",
          "February",
          "February",
          "January",
          "January",
          "January",
          "January",
          "January",
          "January",
          "January",
          "July",
          "July",
          "July",
          "July",
          "July",
          "July",
          "June",
          "June",
          "June",
          "June",
          "June",
          "June",
          "June",
          "March",
          "March",
          "March",
          "March",
          "May",
          "May",
          "May",
          "May",
          "May",
          "May",
          "May",
          "November",
          "November",
          "November",
          "November",
          "November",
          "October",
          "October",
          "October",
          "October",
          "October",
          "October",
          "September",
          "September",
          "September",
          "September",
          "September",
          "September",
          "September"
         ],
         "xaxis": "x",
         "y": {
          "bdata": "uR6F61G43j9I4XoUrkcFQI/C9ShcjwRAFK5H4XoU3j+uR+F6FK7zP65H4XoUru8/AAAAAAAA6D/2KFyPwvUOQIXrUbgehRNAHoXrUbge8T8fhetRuB4BQJmZmZmZmeE/zczMzMzM7D97FK5H4Xq0PzMzMzMzMx9AzczMzMzMBkBmZmZmZmb+P6RwPQrXo8A/mpmZmZmZuT89CtejcD3iP65H4XoUrhBApHA9CtejBkCkcD0K1yMyQHE9CtejcOU/wvUoXI/CA0CamZmZmZm5P3sUrkfhesQ/pHA9CtejCEBmZmZmZmYgQClcj8L1KOQ/w/UoXI/CxT97FK5H4XoIQKRwPQrXowBA16NwPQrXCUBwPQrXo3DlP7gehetRuJ4/AAAAAAAAAEAAAAAAAAAAQPYoXI/C9eg/zczMzMzM3D/D9Shcj8LFP3A9Ctej8CFAzczMzMzMAEAAAAAAAADwP0jhehSuRx5AZmZmZmZm7j/1KFyPwvUKQML1KFyPwhxAhetRuB6FAUDD9Shcj8L5PxSuR+F6FN4/AAAAAAAA0D/D9Shcj8IbQLgehetRuBxAj8L1KFyP4j/2KFyPwvURQJqZmZmZmak/ZmZmZmZmBECamZmZmZkLQDMzMzMzM/s/AAAAAAAA4D/D9Shcj8LtP65H4XoUruc/ZmZmZmYmMUCPwvUoXI8GQB+F61G4HjdAj8L1KFyP8j8qXI/C9SjcP83MzMzMzNw/w/UoXI9CIkBwPQrXo3AHQChcj8L1KBtA7FG4HoXr0T8VrkfhehQWQA==",
          "dtype": "f8"
         },
         "yaxis": "y"
        },
        {
         "hovertemplate": "Location=Location 6<br>Month=%{x}<br>Delay_Hours=%{y}<extra></extra>",
         "legendgroup": "Location 6",
         "marker": {
          "color": "#19d3f3",
          "pattern": {
           "shape": ""
          }
         },
         "name": "Location 6",
         "orientation": "v",
         "showlegend": true,
         "textposition": "auto",
         "type": "bar",
         "x": [
          "April",
          "April",
          "April",
          "April",
          "April",
          "April",
          "August",
          "August",
          "August",
          "August",
          "August",
          "December",
          "December",
          "December",
          "December",
          "December",
          "February",
          "February",
          "February",
          "February",
          "February",
          "February",
          "February",
          "January",
          "January",
          "January",
          "January",
          "January",
          "January",
          "July",
          "July",
          "July",
          "July",
          "July",
          "July",
          "June",
          "June",
          "June",
          "June",
          "March",
          "March",
          "March",
          "March",
          "March",
          "March",
          "March",
          "May",
          "May",
          "May",
          "May",
          "May",
          "May",
          "May",
          "May",
          "November",
          "November",
          "November",
          "November",
          "November",
          "November",
          "November",
          "October",
          "October",
          "October",
          "October",
          "October",
          "October",
          "September",
          "September",
          "September",
          "September",
          "September"
         ],
         "xaxis": "x",
         "y": {
          "bdata": "CtejcD0KEUBI4XoUrkfxPylcj8L1qCJAUrgehetR/D9mZmZmZmbmP+xRuB6F6ytAPQrXo3C9LUDXo3A9CtcbQJqZmZmZmdk/Z2ZmZmZmJkApXI/C9SgAQClcj8L1KMw/AAAAAAAgR0CamZmZmZkfQI/C9ShcjwxAwvUoXI/CE0Bcj8L1KFznP5qZmZmZmRFAHoXrUbge+T9mZmZmZmb+P5qZmZmZmRVAHoXrUbgeA0DsUbgeheuxP+J6FK5H4QxArkfhehSuI0CuR+F6FK7XP3A9CtejcAlA9ihcj8L1LUCkcD0K16MQQEjhehSuRxNASOF6FK5H+T+4HoXrUbgiQMzMzMzMzABAuB6F61G4BkBmZmZmZuYpQEjhehSuRwFAhetRuB5FMkAzMzMzM7MgQHE9Ctej8DRAexSuR+F61D/hehSuR2EqQK5H4XoUrh9A16NwPQrXD0B6FK5H4Xr8P2ZmZmZmZvY/AAAAAABAN0AK16NwPQoiQGZmZmZmZgZAMzMzMzMzBUDsUbgehev1P7gehetReDNAcT0K16NwA0AAAAAAAADQP65H4XoUrh5AhetRuB6FIEDsUbgehevBPwrXo3A9Csc/Z2ZmZmZmJEDXo3A9CtcNQLgehetRuBVAC9ejcD0KHkBI4XoUrkfxP5mZmZmZmRtAhetRuB6FF0AfhetRuB4FQOtRuB6F6xFAAAAAAAAAKUDsUbgehevpP1K4HoXrUQxAZmZmZmZmFkCQwvUoXI8IQLgehetRuBRA",
          "dtype": "f8"
         },
         "yaxis": "y"
        },
        {
         "hovertemplate": "Location=Location 7<br>Month=%{x}<br>Delay_Hours=%{y}<extra></extra>",
         "legendgroup": "Location 7",
         "marker": {
          "color": "#FF6692",
          "pattern": {
           "shape": ""
          }
         },
         "name": "Location 7",
         "orientation": "v",
         "showlegend": true,
         "textposition": "auto",
         "type": "bar",
         "x": [
          "April",
          "April",
          "April",
          "April",
          "April",
          "April",
          "August",
          "August",
          "August",
          "August",
          "August",
          "December",
          "December",
          "December",
          "December",
          "December",
          "December",
          "February",
          "February",
          "February",
          "February",
          "February",
          "February",
          "February",
          "February",
          "January",
          "January",
          "January",
          "January",
          "January",
          "January",
          "January",
          "July",
          "July",
          "July",
          "July",
          "July",
          "July",
          "June",
          "June",
          "June",
          "June",
          "June",
          "June",
          "June",
          "June",
          "March",
          "March",
          "March",
          "March",
          "March",
          "March",
          "March",
          "May",
          "May",
          "May",
          "May",
          "May",
          "May",
          "November",
          "November",
          "November",
          "November",
          "November",
          "November",
          "November",
          "October",
          "October",
          "October",
          "October",
          "October",
          "October",
          "October",
          "October",
          "October",
          "September",
          "September",
          "September",
          "September",
          "September",
          "September",
          "September",
          "September",
          "September"
         ],
         "xaxis": "x",
         "y": {
          "bdata": "4XoUrkfhEUBI4XoUrkfxPx+F61G4HgVA61G4HoVrJkD2KFyPwrU9QAAAAAAAAOA/MzMzMzMzH0AAAAAAAIAxQJqZmZmZmdk/rkfhehSuD0CPwvUoXI8mQFyPwvUoXP8/uB6F61G4EkDNzMzMzIw5QAAAAAAAAPw/cD0K16NwDUCF61G4HoX7PwrXo3A9CgVAKVyPwvUoCEAzMzMzMzPrPwrXo3A9Csc/mpmZmZkZMUAfhetRuB4eQM3MzMzMzPQ/XI/C9Shc8z8zMzMzMzMHQJDC9ShcDyRAZmZmZmZm+j9cj8L1KFwFQJqZmZmZ+URA61G4HoXrAUBcj8L1KFwFQOF6FK5H4eo/16NwPQrX9z/hehSuR+EeQOJ6FK5H4RxAH4XrUbgeCUDXo3A9CtcHQJqZmZmZmRZAMzMzMzMz4z89CtejcD0CQMP1KFyPwsU/hetRuB7FMkBI4XoUrkccQI/C9ShcjxJA9ihcj8J1IUCkcD0K16MYQHE9CtejcDNA7FG4HoXr/T97FK5H4XoKQFyPwvUoXB9APgrXo3A9GUBmZmZmZmYOQPYoXI/C9R5Aw/UoXI/C1T/NzMzMzMwXQAAAAAAAADVArkfhehSuIEB7FK5H4XooQPYoXI/C9RRAMzMzMzMzFUAUrkfhehTyP+xRuB6FqzdAzMzMzMxMLUCuR+F6FK4RQJqZmZmZmQVApHA9CtfjMUAAAAAAAADgPx6F61G4HjlAMzMzMzMz0z/MzMzMzIw5QI/C9ShcjwBAw/UoXI/CA0D2KFyPwv1iQKRwPQrXo/w/rkfhehSuIUC4HoXrUbjOP4XrUbgehRhASOF6FK4HMUCF61G4HoUYQIXrUbgehQFAwvUoXI/C1T8AAAAAAAD4P3sUrkfh+jlA",
          "dtype": "f8"
         },
         "yaxis": "y"
        }
       ],
       "layout": {
        "barmode": "relative",
        "legend": {
         "title": {
          "text": "Location"
         },
         "tracegroupgap": 0
        },
        "template": {
         "data": {
          "bar": [
           {
            "error_x": {
             "color": "#2a3f5f"
            },
            "error_y": {
             "color": "#2a3f5f"
            },
            "marker": {
             "line": {
              "color": "#E5ECF6",
              "width": 0.5
             },
             "pattern": {
              "fillmode": "overlay",
              "size": 10,
              "solidity": 0.2
             }
            },
            "type": "bar"
           }
          ],
          "barpolar": [
           {
            "marker": {
             "line": {
              "color": "#E5ECF6",
              "width": 0.5
             },
             "pattern": {
              "fillmode": "overlay",
              "size": 10,
              "solidity": 0.2
             }
            },
            "type": "barpolar"
           }
          ],
          "carpet": [
           {
            "aaxis": {
             "endlinecolor": "#2a3f5f",
             "gridcolor": "white",
             "linecolor": "white",
             "minorgridcolor": "white",
             "startlinecolor": "#2a3f5f"
            },
            "baxis": {
             "endlinecolor": "#2a3f5f",
             "gridcolor": "white",
             "linecolor": "white",
             "minorgridcolor": "white",
             "startlinecolor": "#2a3f5f"
            },
            "type": "carpet"
           }
          ],
          "choropleth": [
           {
            "colorbar": {
             "outlinewidth": 0,
             "ticks": ""
            },
            "type": "choropleth"
           }
          ],
          "contour": [
           {
            "colorbar": {
             "outlinewidth": 0,
             "ticks": ""
            },
            "colorscale": [
             [
              0,
              "#0d0887"
             ],
             [
              0.1111111111111111,
              "#46039f"
             ],
             [
              0.2222222222222222,
              "#7201a8"
             ],
             [
              0.3333333333333333,
              "#9c179e"
             ],
             [
              0.4444444444444444,
              "#bd3786"
             ],
             [
              0.5555555555555556,
              "#d8576b"
             ],
             [
              0.6666666666666666,
              "#ed7953"
             ],
             [
              0.7777777777777778,
              "#fb9f3a"
             ],
             [
              0.8888888888888888,
              "#fdca26"
             ],
             [
              1,
              "#f0f921"
             ]
            ],
            "type": "contour"
           }
          ],
          "contourcarpet": [
           {
            "colorbar": {
             "outlinewidth": 0,
             "ticks": ""
            },
            "type": "contourcarpet"
           }
          ],
          "heatmap": [
           {
            "colorbar": {
             "outlinewidth": 0,
             "ticks": ""
            },
            "colorscale": [
             [
              0,
              "#0d0887"
             ],
             [
              0.1111111111111111,
              "#46039f"
             ],
             [
              0.2222222222222222,
              "#7201a8"
             ],
             [
              0.3333333333333333,
              "#9c179e"
             ],
             [
              0.4444444444444444,
              "#bd3786"
             ],
             [
              0.5555555555555556,
              "#d8576b"
             ],
             [
              0.6666666666666666,
              "#ed7953"
             ],
             [
              0.7777777777777778,
              "#fb9f3a"
             ],
             [
              0.8888888888888888,
              "#fdca26"
             ],
             [
              1,
              "#f0f921"
             ]
            ],
            "type": "heatmap"
           }
          ],
          "histogram": [
           {
            "marker": {
             "pattern": {
              "fillmode": "overlay",
              "size": 10,
              "solidity": 0.2
             }
            },
            "type": "histogram"
           }
          ],
          "histogram2d": [
           {
            "colorbar": {
             "outlinewidth": 0,
             "ticks": ""
            },
            "colorscale": [
             [
              0,
              "#0d0887"
             ],
             [
              0.1111111111111111,
              "#46039f"
             ],
             [
              0.2222222222222222,
              "#7201a8"
             ],
             [
              0.3333333333333333,
              "#9c179e"
             ],
             [
              0.4444444444444444,
              "#bd3786"
             ],
             [
              0.5555555555555556,
              "#d8576b"
             ],
             [
              0.6666666666666666,
              "#ed7953"
             ],
             [
              0.7777777777777778,
              "#fb9f3a"
             ],
             [
              0.8888888888888888,
              "#fdca26"
             ],
             [
              1,
              "#f0f921"
             ]
            ],
            "type": "histogram2d"
           }
          ],
          "histogram2dcontour": [
           {
            "colorbar": {
             "outlinewidth": 0,
             "ticks": ""
            },
            "colorscale": [
             [
              0,
              "#0d0887"
             ],
             [
              0.1111111111111111,
              "#46039f"
             ],
             [
              0.2222222222222222,
              "#7201a8"
             ],
             [
              0.3333333333333333,
              "#9c179e"
             ],
             [
              0.4444444444444444,
              "#bd3786"
             ],
             [
              0.5555555555555556,
              "#d8576b"
             ],
             [
              0.6666666666666666,
              "#ed7953"
             ],
             [
              0.7777777777777778,
              "#fb9f3a"
             ],
             [
              0.8888888888888888,
              "#fdca26"
             ],
             [
              1,
              "#f0f921"
             ]
            ],
            "type": "histogram2dcontour"
           }
          ],
          "mesh3d": [
           {
            "colorbar": {
             "outlinewidth": 0,
             "ticks": ""
            },
            "type": "mesh3d"
           }
          ],
          "parcoords": [
           {
            "line": {
             "colorbar": {
              "outlinewidth": 0,
              "ticks": ""
             }
            },
            "type": "parcoords"
           }
          ],
          "pie": [
           {
            "automargin": true,
            "type": "pie"
           }
          ],
          "scatter": [
           {
            "fillpattern": {
             "fillmode": "overlay",
             "size": 10,
             "solidity": 0.2
            },
            "type": "scatter"
           }
          ],
          "scatter3d": [
           {
            "line": {
             "colorbar": {
              "outlinewidth": 0,
              "ticks": ""
             }
            },
            "marker": {
             "colorbar": {
              "outlinewidth": 0,
              "ticks": ""
             }
            },
            "type": "scatter3d"
           }
          ],
          "scattercarpet": [
           {
            "marker": {
             "colorbar": {
              "outlinewidth": 0,
              "ticks": ""
             }
            },
            "type": "scattercarpet"
           }
          ],
          "scattergeo": [
           {
            "marker": {
             "colorbar": {
              "outlinewidth": 0,
              "ticks": ""
             }
            },
            "type": "scattergeo"
           }
          ],
          "scattergl": [
           {
            "marker": {
             "colorbar": {
              "outlinewidth": 0,
              "ticks": ""
             }
            },
            "type": "scattergl"
           }
          ],
          "scattermap": [
           {
            "marker": {
             "colorbar": {
              "outlinewidth": 0,
              "ticks": ""
             }
            },
            "type": "scattermap"
           }
          ],
          "scattermapbox": [
           {
            "marker": {
             "colorbar": {
              "outlinewidth": 0,
              "ticks": ""
             }
            },
            "type": "scattermapbox"
           }
          ],
          "scatterpolar": [
           {
            "marker": {
             "colorbar": {
              "outlinewidth": 0,
              "ticks": ""
             }
            },
            "type": "scatterpolar"
           }
          ],
          "scatterpolargl": [
           {
            "marker": {
             "colorbar": {
              "outlinewidth": 0,
              "ticks": ""
             }
            },
            "type": "scatterpolargl"
           }
          ],
          "scatterternary": [
           {
            "marker": {
             "colorbar": {
              "outlinewidth": 0,
              "ticks": ""
             }
            },
            "type": "scatterternary"
           }
          ],
          "surface": [
           {
            "colorbar": {
             "outlinewidth": 0,
             "ticks": ""
            },
            "colorscale": [
             [
              0,
              "#0d0887"
             ],
             [
              0.1111111111111111,
              "#46039f"
             ],
             [
              0.2222222222222222,
              "#7201a8"
             ],
             [
              0.3333333333333333,
              "#9c179e"
             ],
             [
              0.4444444444444444,
              "#bd3786"
             ],
             [
              0.5555555555555556,
              "#d8576b"
             ],
             [
              0.6666666666666666,
              "#ed7953"
             ],
             [
              0.7777777777777778,
              "#fb9f3a"
             ],
             [
              0.8888888888888888,
              "#fdca26"
             ],
             [
              1,
              "#f0f921"
             ]
            ],
            "type": "surface"
           }
          ],
          "table": [
           {
            "cells": {
             "fill": {
              "color": "#EBF0F8"
             },
             "line": {
              "color": "white"
             }
            },
            "header": {
             "fill": {
              "color": "#C8D4E3"
             },
             "line": {
              "color": "white"
             }
            },
            "type": "table"
           }
          ]
         },
         "layout": {
          "annotationdefaults": {
           "arrowcolor": "#2a3f5f",
           "arrowhead": 0,
           "arrowwidth": 1
          },
          "autotypenumbers": "strict",
          "coloraxis": {
           "colorbar": {
            "outlinewidth": 0,
            "ticks": ""
           }
          },
          "colorscale": {
           "diverging": [
            [
             0,
             "#8e0152"
            ],
            [
             0.1,
             "#c51b7d"
            ],
            [
             0.2,
             "#de77ae"
            ],
            [
             0.3,
             "#f1b6da"
            ],
            [
             0.4,
             "#fde0ef"
            ],
            [
             0.5,
             "#f7f7f7"
            ],
            [
             0.6,
             "#e6f5d0"
            ],
            [
             0.7,
             "#b8e186"
            ],
            [
             0.8,
             "#7fbc41"
            ],
            [
             0.9,
             "#4d9221"
            ],
            [
             1,
             "#276419"
            ]
           ],
           "sequential": [
            [
             0,
             "#0d0887"
            ],
            [
             0.1111111111111111,
             "#46039f"
            ],
            [
             0.2222222222222222,
             "#7201a8"
            ],
            [
             0.3333333333333333,
             "#9c179e"
            ],
            [
             0.4444444444444444,
             "#bd3786"
            ],
            [
             0.5555555555555556,
             "#d8576b"
            ],
            [
             0.6666666666666666,
             "#ed7953"
            ],
            [
             0.7777777777777778,
             "#fb9f3a"
            ],
            [
             0.8888888888888888,
             "#fdca26"
            ],
            [
             1,
             "#f0f921"
            ]
           ],
           "sequentialminus": [
            [
             0,
             "#0d0887"
            ],
            [
             0.1111111111111111,
             "#46039f"
            ],
            [
             0.2222222222222222,
             "#7201a8"
            ],
            [
             0.3333333333333333,
             "#9c179e"
            ],
            [
             0.4444444444444444,
             "#bd3786"
            ],
            [
             0.5555555555555556,
             "#d8576b"
            ],
            [
             0.6666666666666666,
             "#ed7953"
            ],
            [
             0.7777777777777778,
             "#fb9f3a"
            ],
            [
             0.8888888888888888,
             "#fdca26"
            ],
            [
             1,
             "#f0f921"
            ]
           ]
          },
          "colorway": [
           "#636efa",
           "#EF553B",
           "#00cc96",
           "#ab63fa",
           "#FFA15A",
           "#19d3f3",
           "#FF6692",
           "#B6E880",
           "#FF97FF",
           "#FECB52"
          ],
          "font": {
           "color": "#2a3f5f"
          },
          "geo": {
           "bgcolor": "white",
           "lakecolor": "white",
           "landcolor": "#E5ECF6",
           "showlakes": true,
           "showland": true,
           "subunitcolor": "white"
          },
          "hoverlabel": {
           "align": "left"
          },
          "hovermode": "closest",
          "mapbox": {
           "style": "light"
          },
          "paper_bgcolor": "white",
          "plot_bgcolor": "#E5ECF6",
          "polar": {
           "angularaxis": {
            "gridcolor": "white",
            "linecolor": "white",
            "ticks": ""
           },
           "bgcolor": "#E5ECF6",
           "radialaxis": {
            "gridcolor": "white",
            "linecolor": "white",
            "ticks": ""
           }
          },
          "scene": {
           "xaxis": {
            "backgroundcolor": "#E5ECF6",
            "gridcolor": "white",
            "gridwidth": 2,
            "linecolor": "white",
            "showbackground": true,
            "ticks": "",
            "zerolinecolor": "white"
           },
           "yaxis": {
            "backgroundcolor": "#E5ECF6",
            "gridcolor": "white",
            "gridwidth": 2,
            "linecolor": "white",
            "showbackground": true,
            "ticks": "",
            "zerolinecolor": "white"
           },
           "zaxis": {
            "backgroundcolor": "#E5ECF6",
            "gridcolor": "white",
            "gridwidth": 2,
            "linecolor": "white",
            "showbackground": true,
            "ticks": "",
            "zerolinecolor": "white"
           }
          },
          "shapedefaults": {
           "line": {
            "color": "#2a3f5f"
           }
          },
          "ternary": {
           "aaxis": {
            "gridcolor": "white",
            "linecolor": "white",
            "ticks": ""
           },
           "baxis": {
            "gridcolor": "white",
            "linecolor": "white",
            "ticks": ""
           },
           "bgcolor": "#E5ECF6",
           "caxis": {
            "gridcolor": "white",
            "linecolor": "white",
            "ticks": ""
           }
          },
          "title": {
           "x": 0.05
          },
          "xaxis": {
           "automargin": true,
           "gridcolor": "white",
           "linecolor": "white",
           "ticks": "",
           "title": {
            "standoff": 15
           },
           "zerolinecolor": "white",
           "zerolinewidth": 2
          },
          "yaxis": {
           "automargin": true,
           "gridcolor": "white",
           "linecolor": "white",
           "ticks": "",
           "title": {
            "standoff": 15
           },
           "zerolinecolor": "white",
           "zerolinewidth": 2
          }
         }
        },
        "title": {
         "text": "Long-Form Input"
        },
        "xaxis": {
         "anchor": "y",
         "domain": [
          0,
          1
         ],
         "title": {
          "text": "Month"
         }
        },
        "yaxis": {
         "anchor": "x",
         "domain": [
          0,
          1
         ],
         "title": {
          "text": "Delay_Hours"
         }
        }
       }
      }
     },
     "metadata": {},
     "output_type": "display_data"
    }
   ],
   "source": [
    "fig = px.bar(ml_csv_group,\n",
    "            x=\"Month\", \n",
    "            y=\"Delay_Hours\", \n",
    "            color=\"Location\", \n",
    "            title=\"Delay Hours Monthly by Location\"\n",
    "          )\n",
    "\n",
    "fig.show()"
   ]
  },
  {
   "cell_type": "code",
   "execution_count": 128,
   "metadata": {},
   "outputs": [
    {
     "data": {
      "application/vnd.plotly.v1+json": {
       "config": {
        "plotlyServerURL": "https://plot.ly"
       },
       "data": [
        {
         "hovertemplate": "Failure_Code=A1<br>Month=%{x}<br>Delay_Hours=%{y}<extra></extra>",
         "legendgroup": "A1",
         "marker": {
          "color": "#636efa",
          "pattern": {
           "shape": ""
          }
         },
         "name": "A1",
         "orientation": "v",
         "showlegend": true,
         "textposition": "auto",
         "type": "bar",
         "x": [
          "April",
          "April",
          "April",
          "April",
          "April",
          "April",
          "April",
          "August",
          "August",
          "August",
          "August",
          "August",
          "August",
          "August",
          "December",
          "December",
          "December",
          "December",
          "December",
          "December",
          "December",
          "February",
          "February",
          "February",
          "February",
          "February",
          "February",
          "February",
          "January",
          "January",
          "January",
          "January",
          "January",
          "January",
          "January",
          "July",
          "July",
          "July",
          "July",
          "July",
          "July",
          "July",
          "June",
          "June",
          "June",
          "June",
          "June",
          "June",
          "June",
          "March",
          "March",
          "March",
          "March",
          "March",
          "March",
          "March",
          "May",
          "May",
          "May",
          "May",
          "May",
          "May",
          "May",
          "November",
          "November",
          "November",
          "November",
          "November",
          "November",
          "November",
          "October",
          "October",
          "October",
          "October",
          "October",
          "October",
          "October",
          "September",
          "September",
          "September",
          "September",
          "September",
          "September",
          "September"
         ],
         "xaxis": "x",
         "y": {
          "bdata": "61G4HoXrJUDhehSuR+EUQKRwPQrXoypAH4XrUbgeGEC5HoXrUbjePwrXo3A9ChFA4XoUrkfhEUCF61G4HgUgQAAAAAAAQDFAzczMzMxMMUAK16NwPQojQK5H4XoUru8/PQrXo3C9LUAzMzMzMzMfQB+F61G4HhZAhetRuB6F/z+PwvUoXI8GQEjhehSuR/E/mZmZmZmZ4T8pXI/C9SjMP1yPwvUoXP8/UrgehetRAEAzMzMzM7MpQKRwPQrXoxdA4XoUrkfh2j+kcD0K16PAP1yPwvUoXOc/CtejcD0KBUC4HoXrUTggQGdmZmZmZgpAexSuR+F6GEBnZmZmZmYAQJqZmZmZmbk/4noUrkfhDEAzMzMzMzMHQNejcD0K1xNACtejcD0K9z9mZmZmZmYgQK5H4XoUrtc/pHA9CtejAEBI4XoUrkcTQOF6FK5H4eo/rkfhehRuM0DXo3A9Ctf/Pylcj8L1KBVA16NwPQrXFED2KFyPwvXoP0jhehSuRwFAmpmZmZmZFkD2KFyPwvUcQLgehetRuBNAw/UoXI/CCUAAAAAAAAAQQGZmZmZmZu4/exSuR+F61D+kcD0K16MYQFK4HoXrURZAexSuR+F6IEAfhetRuB4YQD4K16NwPQ5Aw/UoXI/C+T8K16NwPQoiQPYoXI/C9R5AexSuR+F6EED2KFyPwvUdQIXrUbgehQVAKVyPwvUo7D+amZmZmZmpP4XrUbgehSBA9ihcj8L1FEBcj8L1KFwLQM3MzMzMzBZAH4XrUbheSkCamZmZmZnxP8P1KFyPwu0/SOF6FK5H8T+kcD0K1+MxQD4K16NwPRJAhetRuB6FDUDNzMzMzMwGQArXo3A9CgNAKlyPwvUo3D/sUbgehevpP65H4XoUriFA",
          "dtype": "f8"
         },
         "yaxis": "y"
        },
        {
         "hovertemplate": "Failure_Code=B1<br>Month=%{x}<br>Delay_Hours=%{y}<extra></extra>",
         "legendgroup": "B1",
         "marker": {
          "color": "#EF553B",
          "pattern": {
           "shape": ""
          }
         },
         "name": "B1",
         "orientation": "v",
         "showlegend": true,
         "textposition": "auto",
         "type": "bar",
         "x": [
          "April",
          "April",
          "August",
          "August",
          "August",
          "December",
          "December",
          "February",
          "February",
          "February",
          "January",
          "January",
          "January",
          "January",
          "July",
          "July",
          "July",
          "July",
          "July",
          "June",
          "June",
          "March",
          "March",
          "March",
          "May",
          "May",
          "May",
          "May",
          "November",
          "November",
          "November",
          "November",
          "November",
          "October",
          "October",
          "October",
          "October",
          "September",
          "September",
          "September"
         ],
         "xaxis": "x",
         "y": {
          "bdata": "cT0K16Nw7T9I4XoUrkfxP3sUrkfhehBASOF6FK5HAUAAAAAAAADoP3sUrkfheqQ/zczMzMzM7D+PwvUoXI/yP2ZmZmZmZuY/PQrXo3A94j+4HoXrUbjeP1yPwvUoXANAexSuR+F6xD9mZmZmZmb6P3sUrkfhegBAwvUoXI/CAUAzMzMzMzMNQNejcD0K1wlA16NwPQrX9z9I4XoUrkcNQDMzMzMzM+M/H4XrUbge9T97FK5H4Xq0P+xRuB6F6/0/4XoUrkfhFkB7FK5H4Xq0PwAAAAAAANA/w/UoXI/C1T+QwvUoXI/iP3sUrkfherQ/MzMzMzMz4z/sUbgehevBPzMzMzMzMxVAcT0K16Nw5T8ehetRuB4YQK5H4XoUruc/HoXrUbgeOUCamZmZmZm5P4/C9Shcj/Y/uB6F61G4zj8=",
          "dtype": "f8"
         },
         "yaxis": "y"
        },
        {
         "hovertemplate": "Failure_Code=B4<br>Month=%{x}<br>Delay_Hours=%{y}<extra></extra>",
         "legendgroup": "B4",
         "marker": {
          "color": "#00cc96",
          "pattern": {
           "shape": ""
          }
         },
         "name": "B4",
         "orientation": "v",
         "showlegend": true,
         "textposition": "auto",
         "type": "bar",
         "x": [
          "April",
          "April",
          "August",
          "August",
          "August",
          "August",
          "December",
          "December",
          "December",
          "February",
          "February",
          "February",
          "February",
          "February",
          "January",
          "January",
          "January",
          "January",
          "January",
          "January",
          "July",
          "June",
          "June",
          "June",
          "June",
          "March",
          "March",
          "March",
          "March",
          "March",
          "March",
          "March",
          "May",
          "May",
          "November",
          "November",
          "November",
          "September",
          "September",
          "September"
         ],
         "xaxis": "x",
         "y": {
          "bdata": "AAAAAAAA0D9I4XoUrkfxPz0K16NwPeI/mpmZmZmZuT9I4XoUrkfxP/YoXI/C9Q5A16NwPQrXAUB7FK5H4Xq0P7gehetRuBJA4XoUrkfh2j9SuB6F61HgP5qZmZmZmRBArkfhehSuEEAK16NwPQrHP3sUrkfherQ/PQrXo3A9G0Bcj8L1KNwhQKRwPQrXowhArkfhehSu1z9cj8L1KFwFQAAAAAAAAPA/H4XrUbge7T/Xo3A9CldQQMP1KFyPwsU/w/UoXI/CxT+amZmZmZnxPwrXo3A9Csc/XI/C9ShcC0AAAAAAAADoP/UoXI/C9QpArkfhehSuH0B7FK5H4XoKQDMzMzMzMxNA7FG4HoXr9T8K16NwPQrnPwrXo3A9Csc/FK5H4XoU8j8UrkfhehQTQMP1KFyPQiJASOF6FK4HMUA=",
          "dtype": "f8"
         },
         "yaxis": "y"
        },
        {
         "hovertemplate": "Failure_Code=C1<br>Month=%{x}<br>Delay_Hours=%{y}<extra></extra>",
         "legendgroup": "C1",
         "marker": {
          "color": "#ab63fa",
          "pattern": {
           "shape": ""
          }
         },
         "name": "C1",
         "orientation": "v",
         "showlegend": true,
         "textposition": "auto",
         "type": "bar",
         "x": [
          "April",
          "April",
          "April",
          "April",
          "April",
          "April",
          "April",
          "August",
          "August",
          "August",
          "August",
          "August",
          "August",
          "August",
          "December",
          "December",
          "December",
          "December",
          "December",
          "December",
          "December",
          "February",
          "February",
          "February",
          "February",
          "February",
          "February",
          "February",
          "January",
          "January",
          "January",
          "January",
          "January",
          "January",
          "January",
          "July",
          "July",
          "July",
          "July",
          "July",
          "July",
          "July",
          "June",
          "June",
          "June",
          "June",
          "June",
          "June",
          "June",
          "March",
          "March",
          "March",
          "March",
          "March",
          "March",
          "March",
          "May",
          "May",
          "May",
          "May",
          "May",
          "May",
          "May",
          "November",
          "November",
          "November",
          "November",
          "November",
          "November",
          "November",
          "October",
          "October",
          "October",
          "October",
          "October",
          "October",
          "October",
          "September",
          "September",
          "September",
          "September",
          "September",
          "September",
          "September"
         ],
         "xaxis": "x",
         "y": {
          "bdata": "zczMzMzMI0CuR+F6FK4qQM3MzMzMTDtA61G4HoXrGEBI4XoUrkcFQClcj8L1qCJAH4XrUbgeBUC4HoXrUbg7QOtRuB6FayNAmpmZmZmZMkC4HoXrUbg3QIXrUbgehRNA16NwPQrXG0AAAAAAAIAxQClcj8L1qCZAhetRuB6FF0CPwvUoXA8zQM3MzMzMzA5AMzMzMzMzH0AAAAAAACBHQM3MzMzMjDlAH4XrUbgeIUApXI/C9agjQI/C9ShcjyJAcT0K16Nw9T+kcD0K16MGQGZmZmZmZv4/mpmZmZkZMUBcj8L1KNwpQI/C9ShcjxRA16NwPQrXEkB7FK5H4Xr0P2ZmZmZmZiBAcD0K16NwCUCamZmZmflEQBWuR+F6NEBAhetRuB6FH0A9CtejcP0wQLgehetRuBBAcD0K16Nw5T+4HoXrUbgiQOF6FK5H4R5AUrgehesRUkApXI/C9agkQK5H4XoUbjFAcD0K16MwNUBwPQrXo/AhQIXrUbgeRTJAhetRuB7FMkCQwvUoXA8tQK5H4XoUrihAKVyPwvWoLkDNzMzMzMwIQML1KFyPwhxA16NwPQrXD0Bcj8L1KFwfQGZmZmZmZiFAcT0K16NwJ0CkcD0K1yMmQPYoXI/C9RFAw/UoXI/CG0C4HoXrUXgzQAAAAAAAADVA4XoUrkfhEUD2KFyPwvUOQB+F61G4HhVAcT0K16NwCUBmZmZmZmYEQGdmZmZmZiRA7FG4HoWrN0Bcj8L1KFwPQFK4HoXrUTBArkfhehSuJEC4HoXrUTgiQGZmZmZmJjFAhetRuB6FF0DMzMzMzIw5QHsUrkfheghAuR6F61G4GEBmZmZmZmYyQAAAAAAAACVAcD0K16NwB0BSuB6F61EMQIXrUbgehRhA",
          "dtype": "f8"
         },
         "yaxis": "y"
        },
        {
         "hovertemplate": "Failure_Code=C2<br>Month=%{x}<br>Delay_Hours=%{y}<extra></extra>",
         "legendgroup": "C2",
         "marker": {
          "color": "#FFA15A",
          "pattern": {
           "shape": ""
          }
         },
         "name": "C2",
         "orientation": "v",
         "showlegend": true,
         "textposition": "auto",
         "type": "bar",
         "x": [
          "April",
          "April",
          "April",
          "April",
          "April",
          "April",
          "August",
          "August",
          "August",
          "August",
          "August",
          "August",
          "December",
          "December",
          "December",
          "December",
          "December",
          "December",
          "December",
          "February",
          "February",
          "February",
          "February",
          "February",
          "February",
          "February",
          "January",
          "January",
          "January",
          "January",
          "January",
          "July",
          "July",
          "July",
          "July",
          "July",
          "July",
          "June",
          "June",
          "June",
          "June",
          "June",
          "June",
          "March",
          "March",
          "March",
          "March",
          "March",
          "March",
          "May",
          "May",
          "May",
          "May",
          "May",
          "May",
          "November",
          "November",
          "November",
          "November",
          "November",
          "November",
          "November",
          "October",
          "October",
          "October",
          "October",
          "October",
          "October",
          "September",
          "September",
          "September",
          "September",
          "September",
          "September",
          "September"
         ],
         "xaxis": "x",
         "y": {
          "bdata": "7FG4HoXr0T8zMzMzMzMDQLgehetROCNAj8L1KFyPBEBSuB6F61H8P+tRuB6FayZAUrgehetRFEBmZmZmZmbmP6RwPQrXIy9A4XoUrkfh/j+amZmZmZnZP5qZmZmZmdk/AAAAAAAAF0CuR+F6FK4PQK5H4XoUrgNACtejcD0KEkDNzMzMzMwGQJqZmZmZmR9AAAAAAAAA/D9mZmZmZmYIQFK4HoXrUdg/zczMzMzM7D8AAAAAAADgP6RwPQrXIzJAmpmZmZmZFUAfhetRuB4eQPYoXI/C9eg/AAAAAAAACkApXI/C9SgGQClcj8L1KApAKVyPwvUo5D/NzMzMzMwIQDMzMzMzM9M/CtejcD0KIEC4HoXrUbieP8zMzMzMzABA4noUrkfhHECkcD0K16MVQOF6FK5H4do/FK5H4XoU8j8AAAAAAAAAQM3MzMzMzABASOF6FK5HHECuR+F6FC4kQFyPwvUoXOc/exSuR+H6JEDsUbgehevRP3oUrkfhevw/PgrXo3A9GUAK16NwPQrnP+xRuB6F6/E/UrgehetRH0CkcD0K16McQLgehetRuBxAcT0K16NwA0BxPQrXo3AbQHoUrkfheh5ASOF6FK5HC0Bcj8L1KFwBQJqZmZmZmQtA16NwPQrXDUDMzMzMzEwtQK5H4XoUrvc/H4XrUbgeEkB7FK5H4bowQI/C9ShcjwZAH4XrUbgeBUCPwvUoXI8AQDMzMzMzM+s/cD0K16NwIEA+CtejcD32P4XrUbgehQNAKFyPwvUoG0BmZmZmZmYWQIXrUbgehQFA",
          "dtype": "f8"
         },
         "yaxis": "y"
        },
        {
         "hovertemplate": "Failure_Code=D1<br>Month=%{x}<br>Delay_Hours=%{y}<extra></extra>",
         "legendgroup": "D1",
         "marker": {
          "color": "#19d3f3",
          "pattern": {
           "shape": ""
          }
         },
         "name": "D1",
         "orientation": "v",
         "showlegend": true,
         "textposition": "auto",
         "type": "bar",
         "x": [
          "April",
          "April",
          "April",
          "April",
          "April",
          "April",
          "April",
          "August",
          "August",
          "August",
          "August",
          "August",
          "August",
          "August",
          "December",
          "December",
          "December",
          "December",
          "December",
          "December",
          "February",
          "February",
          "February",
          "February",
          "February",
          "February",
          "February",
          "January",
          "January",
          "January",
          "January",
          "January",
          "January",
          "January",
          "July",
          "July",
          "July",
          "July",
          "July",
          "July",
          "July",
          "June",
          "June",
          "June",
          "June",
          "June",
          "June",
          "March",
          "March",
          "March",
          "March",
          "March",
          "March",
          "May",
          "May",
          "May",
          "May",
          "May",
          "May",
          "May",
          "November",
          "November",
          "November",
          "November",
          "November",
          "November",
          "November",
          "October",
          "October",
          "October",
          "October",
          "October",
          "October",
          "October",
          "September",
          "September",
          "September",
          "September",
          "September",
          "September",
          "September"
         ],
         "xaxis": "x",
         "y": {
          "bdata": "AAAAAADgQ0B7FK5H4XoUQLgehetRuPY/pHA9CtejBEAUrkfhehTeP2ZmZmZmZuY/9ihcj8K1PUAK16NwPQo0QM3MzMzMzBBAR+F6FK5HD0AAAAAAAAAYQB6F61G4HvE/Z2ZmZmZmJkCuR+F6FK4PQFyPwvUoXBlAAAAAAAAA/D/C9Shcj4IxQB+F61G4HuU/j8L1KFyPDEBwPQrXo3ANQFK4HoXrkTBAXI/C9ShcH0DD9Shcj8LlP+F6FK5H4RRAcT0K16Nw5T8ehetRuB4DQM3MzMzMzPQ/9ihcj8L1EkB7FK5H4bowQKRwPQrXoxFASOF6FK5H8T/D9Shcj8LFP/YoXI/C9S1A61G4HoXrAUAfhetRuB7lP8P1KFyPwgVAAAAAAAAA4D8AAAAAAADgPwAAAAAAAABAuB6F61G4BkAfhetRuB4JQOF6FK5HYSFAZ2ZmZmZmBkBcj8L1KFwfQAAAAAAAAPA/MzMzMzOzIECPwvUoXI8SQEjhehSuRyNACtejcD0KGEA0MzMzMzP7Pz4K16NwPSxAZmZmZmZm9j9mZmZmZmYOQK5H4XoUrhBAXI/C9ShcB0ApXI/C9SgUQAAAAAAAAPA/j8L1KFyP4j8AAAAAAADQP65H4XoUriBAhetRuB6FEUCkcD0K16MxQFK4HoXrURBAXI/C9ShcEEAzMzMzMzP7P7gehetRuBVArkfhehSuEUCuR+F6FK4QQNejcD0K1wdAmpmZmZmZDUBcj8L1KFwLQB+F61G4HjdA61G4HoXrEUD2KFyPwv1iQBSuR+F6FPY/ZmZmZmZmBEBI4XoUrkcDQJDC9Shcj/Y/7FG4HoXr0T+QwvUoXI8IQAAAAAAAAPg/",
          "dtype": "f8"
         },
         "yaxis": "y"
        },
        {
         "hovertemplate": "Failure_Code=D2<br>Month=%{x}<br>Delay_Hours=%{y}<extra></extra>",
         "legendgroup": "D2",
         "marker": {
          "color": "#FF6692",
          "pattern": {
           "shape": ""
          }
         },
         "name": "D2",
         "orientation": "v",
         "showlegend": true,
         "textposition": "auto",
         "type": "bar",
         "x": [
          "April",
          "April",
          "April",
          "April",
          "April",
          "April",
          "April",
          "August",
          "August",
          "August",
          "August",
          "August",
          "December",
          "December",
          "December",
          "December",
          "December",
          "December",
          "February",
          "February",
          "February",
          "February",
          "February",
          "February",
          "January",
          "January",
          "January",
          "January",
          "January",
          "January",
          "January",
          "July",
          "July",
          "July",
          "July",
          "July",
          "July",
          "July",
          "June",
          "June",
          "June",
          "June",
          "June",
          "June",
          "June",
          "March",
          "March",
          "March",
          "March",
          "May",
          "May",
          "May",
          "May",
          "May",
          "May",
          "November",
          "November",
          "November",
          "November",
          "November",
          "November",
          "October",
          "October",
          "October",
          "October",
          "October",
          "October",
          "September",
          "September",
          "September",
          "September",
          "September",
          "September"
         ],
         "xaxis": "x",
         "y": {
          "bdata": "rkfhehQuJkB7FK5H4XoXQB+F61G4HihAMzMzMzMzCUCuR+F6FK7zP+xRuB6F6ytAAAAAAAAA4D9cj8L1KFz/P2ZmZmZmZiZAH4XrUbgeAUApXI/C9SgAQI/C9ShcjyZAH4XrUbge1T/MzMzMzMwaQHE9CtejcO0/ZmZmZmZm/j/C9Shcj8ITQIXrUbgehfs/KlyPwvUoDECuR+F6FK4RQB+F61G4HtU/wvUoXI/CA0DsUbgeheuxP1yPwvUoXPM/rkfhehSuH0AfhetRuB4UQI/C9Shcj+I/16NwPQrXEUB7FK5H4XoIQKRwPQrXoxBAXI/C9ShcBUCkcD0K16MQQIXrUbgehQ1ASOF6FK5H/T/rUbgehesRQAAAAAAAAABAZmZmZmbmKUDXo3A9CtcHQFK4HoXrUR9ApHA9Ctej4D8AAAAAAIAhQOF6FK5H4do/SOF6FK5HHkBxPQrXo/A0QPYoXI/CdSFAzczMzMxMIECuR+F6FK4RQIXrUbgehQFAAAAAAABAN0AAAAAAAADwP1yPwvUoXAdA9ihcj8L1KkD2KFyPwvURQK5H4XoUrh5AexSuR+F6KECkcD0K16M2QFyPwvUoXAdAAAAAAAAA4D8AAAAAAADgPwvXo3A9Ch5AmpmZmZmZBUDNzMzMzMwsQFK4HoXrUQBAAAAAAAAA0D+PwvUoXI/yPwAAAAAAAClApHA9Ctej/D8VrkfhehQVQM3MzMzMzNw/rkfhehSuEUAVrkfhehQWQLgehetRuBRAexSuR+H6OUA=",
          "dtype": "f8"
         },
         "yaxis": "y"
        },
        {
         "hovertemplate": "Failure_Code=B3<br>Month=%{x}<br>Delay_Hours=%{y}<extra></extra>",
         "legendgroup": "B3",
         "marker": {
          "color": "#B6E880",
          "pattern": {
           "shape": ""
          }
         },
         "name": "B3",
         "orientation": "v",
         "showlegend": true,
         "textposition": "auto",
         "type": "bar",
         "x": [
          "April",
          "August",
          "August",
          "February",
          "February",
          "February",
          "July",
          "July",
          "July",
          "June",
          "June",
          "June",
          "May",
          "May",
          "May",
          "October",
          "October",
          "September",
          "September",
          "September"
         ],
         "xaxis": "x",
         "y": {
          "bdata": "pHA9CtcjKEAqXI/C9SgKQOxRuB6F67E/KVyPwvUo7D8ehetRuB75PzMzMzMzM+s/FK5H4XoU3j+4HoXrUbj+P0jhehSuR/k/CtejcD3KNEDNzMzMzMzcPz0K16NwPQJAUrgehetR+D8zMzMzMzMFQM3MzMzMzBdAmZmZmZmZG0AzMzMzMzPTPwAAAAAAAOg/zczMzMzM3D+F61G4HoUYQA==",
          "dtype": "f8"
         },
         "yaxis": "y"
        },
        {
         "hovertemplate": "Failure_Code=A5<br>Month=%{x}<br>Delay_Hours=%{y}<extra></extra>",
         "legendgroup": "A5",
         "marker": {
          "color": "#FF97FF",
          "pattern": {
           "shape": ""
          }
         },
         "name": "A5",
         "orientation": "v",
         "showlegend": true,
         "textposition": "auto",
         "type": "bar",
         "x": [
          "February",
          "February",
          "February",
          "February",
          "February",
          "February",
          "February",
          "January",
          "January",
          "January",
          "January",
          "January",
          "January",
          "March",
          "March",
          "March",
          "March",
          "March",
          "March",
          "May",
          "May",
          "May",
          "May",
          "May",
          "October"
         ],
         "xaxis": "x",
         "y": {
          "bdata": "9ihcj8L14D+F61G4HoX/P9ejcD0K1wtAKVyPwvUoEECamZmZmZm5P5qZmZmZmRFAKVyPwvUoCEBI4XoUrkcQQGZmZmZmZhJA7FG4HoXrG0BmZmZmZmb+P65H4XoUriNAkML1KFwPJEDsUbgehWslQFK4HoXrURFAcT0K16NwMUBnZmZmZmYhQOF6FK5HYSpAcT0K16NwM0AUrkfhehTeP7gehetRuApAFK5H4XoU3j8UrkfhehTeP2ZmZmZmZgZAAAAAAAAA4D8=",
          "dtype": "f8"
         },
         "yaxis": "y"
        },
        {
         "hovertemplate": "Failure_Code=C5<br>Month=%{x}<br>Delay_Hours=%{y}<extra></extra>",
         "legendgroup": "C5",
         "marker": {
          "color": "#FECB52",
          "pattern": {
           "shape": ""
          }
         },
         "name": "C5",
         "orientation": "v",
         "showlegend": true,
         "textposition": "auto",
         "type": "bar",
         "x": [
          "October",
          "September"
         ],
         "xaxis": "x",
         "y": {
          "bdata": "w/UoXI/CA0DC9Shcj8LVPw==",
          "dtype": "f8"
         },
         "yaxis": "y"
        }
       ],
       "layout": {
        "barmode": "relative",
        "legend": {
         "title": {
          "text": "Failure_Code"
         },
         "tracegroupgap": 0
        },
        "template": {
         "data": {
          "bar": [
           {
            "error_x": {
             "color": "#2a3f5f"
            },
            "error_y": {
             "color": "#2a3f5f"
            },
            "marker": {
             "line": {
              "color": "#E5ECF6",
              "width": 0.5
             },
             "pattern": {
              "fillmode": "overlay",
              "size": 10,
              "solidity": 0.2
             }
            },
            "type": "bar"
           }
          ],
          "barpolar": [
           {
            "marker": {
             "line": {
              "color": "#E5ECF6",
              "width": 0.5
             },
             "pattern": {
              "fillmode": "overlay",
              "size": 10,
              "solidity": 0.2
             }
            },
            "type": "barpolar"
           }
          ],
          "carpet": [
           {
            "aaxis": {
             "endlinecolor": "#2a3f5f",
             "gridcolor": "white",
             "linecolor": "white",
             "minorgridcolor": "white",
             "startlinecolor": "#2a3f5f"
            },
            "baxis": {
             "endlinecolor": "#2a3f5f",
             "gridcolor": "white",
             "linecolor": "white",
             "minorgridcolor": "white",
             "startlinecolor": "#2a3f5f"
            },
            "type": "carpet"
           }
          ],
          "choropleth": [
           {
            "colorbar": {
             "outlinewidth": 0,
             "ticks": ""
            },
            "type": "choropleth"
           }
          ],
          "contour": [
           {
            "colorbar": {
             "outlinewidth": 0,
             "ticks": ""
            },
            "colorscale": [
             [
              0,
              "#0d0887"
             ],
             [
              0.1111111111111111,
              "#46039f"
             ],
             [
              0.2222222222222222,
              "#7201a8"
             ],
             [
              0.3333333333333333,
              "#9c179e"
             ],
             [
              0.4444444444444444,
              "#bd3786"
             ],
             [
              0.5555555555555556,
              "#d8576b"
             ],
             [
              0.6666666666666666,
              "#ed7953"
             ],
             [
              0.7777777777777778,
              "#fb9f3a"
             ],
             [
              0.8888888888888888,
              "#fdca26"
             ],
             [
              1,
              "#f0f921"
             ]
            ],
            "type": "contour"
           }
          ],
          "contourcarpet": [
           {
            "colorbar": {
             "outlinewidth": 0,
             "ticks": ""
            },
            "type": "contourcarpet"
           }
          ],
          "heatmap": [
           {
            "colorbar": {
             "outlinewidth": 0,
             "ticks": ""
            },
            "colorscale": [
             [
              0,
              "#0d0887"
             ],
             [
              0.1111111111111111,
              "#46039f"
             ],
             [
              0.2222222222222222,
              "#7201a8"
             ],
             [
              0.3333333333333333,
              "#9c179e"
             ],
             [
              0.4444444444444444,
              "#bd3786"
             ],
             [
              0.5555555555555556,
              "#d8576b"
             ],
             [
              0.6666666666666666,
              "#ed7953"
             ],
             [
              0.7777777777777778,
              "#fb9f3a"
             ],
             [
              0.8888888888888888,
              "#fdca26"
             ],
             [
              1,
              "#f0f921"
             ]
            ],
            "type": "heatmap"
           }
          ],
          "histogram": [
           {
            "marker": {
             "pattern": {
              "fillmode": "overlay",
              "size": 10,
              "solidity": 0.2
             }
            },
            "type": "histogram"
           }
          ],
          "histogram2d": [
           {
            "colorbar": {
             "outlinewidth": 0,
             "ticks": ""
            },
            "colorscale": [
             [
              0,
              "#0d0887"
             ],
             [
              0.1111111111111111,
              "#46039f"
             ],
             [
              0.2222222222222222,
              "#7201a8"
             ],
             [
              0.3333333333333333,
              "#9c179e"
             ],
             [
              0.4444444444444444,
              "#bd3786"
             ],
             [
              0.5555555555555556,
              "#d8576b"
             ],
             [
              0.6666666666666666,
              "#ed7953"
             ],
             [
              0.7777777777777778,
              "#fb9f3a"
             ],
             [
              0.8888888888888888,
              "#fdca26"
             ],
             [
              1,
              "#f0f921"
             ]
            ],
            "type": "histogram2d"
           }
          ],
          "histogram2dcontour": [
           {
            "colorbar": {
             "outlinewidth": 0,
             "ticks": ""
            },
            "colorscale": [
             [
              0,
              "#0d0887"
             ],
             [
              0.1111111111111111,
              "#46039f"
             ],
             [
              0.2222222222222222,
              "#7201a8"
             ],
             [
              0.3333333333333333,
              "#9c179e"
             ],
             [
              0.4444444444444444,
              "#bd3786"
             ],
             [
              0.5555555555555556,
              "#d8576b"
             ],
             [
              0.6666666666666666,
              "#ed7953"
             ],
             [
              0.7777777777777778,
              "#fb9f3a"
             ],
             [
              0.8888888888888888,
              "#fdca26"
             ],
             [
              1,
              "#f0f921"
             ]
            ],
            "type": "histogram2dcontour"
           }
          ],
          "mesh3d": [
           {
            "colorbar": {
             "outlinewidth": 0,
             "ticks": ""
            },
            "type": "mesh3d"
           }
          ],
          "parcoords": [
           {
            "line": {
             "colorbar": {
              "outlinewidth": 0,
              "ticks": ""
             }
            },
            "type": "parcoords"
           }
          ],
          "pie": [
           {
            "automargin": true,
            "type": "pie"
           }
          ],
          "scatter": [
           {
            "fillpattern": {
             "fillmode": "overlay",
             "size": 10,
             "solidity": 0.2
            },
            "type": "scatter"
           }
          ],
          "scatter3d": [
           {
            "line": {
             "colorbar": {
              "outlinewidth": 0,
              "ticks": ""
             }
            },
            "marker": {
             "colorbar": {
              "outlinewidth": 0,
              "ticks": ""
             }
            },
            "type": "scatter3d"
           }
          ],
          "scattercarpet": [
           {
            "marker": {
             "colorbar": {
              "outlinewidth": 0,
              "ticks": ""
             }
            },
            "type": "scattercarpet"
           }
          ],
          "scattergeo": [
           {
            "marker": {
             "colorbar": {
              "outlinewidth": 0,
              "ticks": ""
             }
            },
            "type": "scattergeo"
           }
          ],
          "scattergl": [
           {
            "marker": {
             "colorbar": {
              "outlinewidth": 0,
              "ticks": ""
             }
            },
            "type": "scattergl"
           }
          ],
          "scattermap": [
           {
            "marker": {
             "colorbar": {
              "outlinewidth": 0,
              "ticks": ""
             }
            },
            "type": "scattermap"
           }
          ],
          "scattermapbox": [
           {
            "marker": {
             "colorbar": {
              "outlinewidth": 0,
              "ticks": ""
             }
            },
            "type": "scattermapbox"
           }
          ],
          "scatterpolar": [
           {
            "marker": {
             "colorbar": {
              "outlinewidth": 0,
              "ticks": ""
             }
            },
            "type": "scatterpolar"
           }
          ],
          "scatterpolargl": [
           {
            "marker": {
             "colorbar": {
              "outlinewidth": 0,
              "ticks": ""
             }
            },
            "type": "scatterpolargl"
           }
          ],
          "scatterternary": [
           {
            "marker": {
             "colorbar": {
              "outlinewidth": 0,
              "ticks": ""
             }
            },
            "type": "scatterternary"
           }
          ],
          "surface": [
           {
            "colorbar": {
             "outlinewidth": 0,
             "ticks": ""
            },
            "colorscale": [
             [
              0,
              "#0d0887"
             ],
             [
              0.1111111111111111,
              "#46039f"
             ],
             [
              0.2222222222222222,
              "#7201a8"
             ],
             [
              0.3333333333333333,
              "#9c179e"
             ],
             [
              0.4444444444444444,
              "#bd3786"
             ],
             [
              0.5555555555555556,
              "#d8576b"
             ],
             [
              0.6666666666666666,
              "#ed7953"
             ],
             [
              0.7777777777777778,
              "#fb9f3a"
             ],
             [
              0.8888888888888888,
              "#fdca26"
             ],
             [
              1,
              "#f0f921"
             ]
            ],
            "type": "surface"
           }
          ],
          "table": [
           {
            "cells": {
             "fill": {
              "color": "#EBF0F8"
             },
             "line": {
              "color": "white"
             }
            },
            "header": {
             "fill": {
              "color": "#C8D4E3"
             },
             "line": {
              "color": "white"
             }
            },
            "type": "table"
           }
          ]
         },
         "layout": {
          "annotationdefaults": {
           "arrowcolor": "#2a3f5f",
           "arrowhead": 0,
           "arrowwidth": 1
          },
          "autotypenumbers": "strict",
          "coloraxis": {
           "colorbar": {
            "outlinewidth": 0,
            "ticks": ""
           }
          },
          "colorscale": {
           "diverging": [
            [
             0,
             "#8e0152"
            ],
            [
             0.1,
             "#c51b7d"
            ],
            [
             0.2,
             "#de77ae"
            ],
            [
             0.3,
             "#f1b6da"
            ],
            [
             0.4,
             "#fde0ef"
            ],
            [
             0.5,
             "#f7f7f7"
            ],
            [
             0.6,
             "#e6f5d0"
            ],
            [
             0.7,
             "#b8e186"
            ],
            [
             0.8,
             "#7fbc41"
            ],
            [
             0.9,
             "#4d9221"
            ],
            [
             1,
             "#276419"
            ]
           ],
           "sequential": [
            [
             0,
             "#0d0887"
            ],
            [
             0.1111111111111111,
             "#46039f"
            ],
            [
             0.2222222222222222,
             "#7201a8"
            ],
            [
             0.3333333333333333,
             "#9c179e"
            ],
            [
             0.4444444444444444,
             "#bd3786"
            ],
            [
             0.5555555555555556,
             "#d8576b"
            ],
            [
             0.6666666666666666,
             "#ed7953"
            ],
            [
             0.7777777777777778,
             "#fb9f3a"
            ],
            [
             0.8888888888888888,
             "#fdca26"
            ],
            [
             1,
             "#f0f921"
            ]
           ],
           "sequentialminus": [
            [
             0,
             "#0d0887"
            ],
            [
             0.1111111111111111,
             "#46039f"
            ],
            [
             0.2222222222222222,
             "#7201a8"
            ],
            [
             0.3333333333333333,
             "#9c179e"
            ],
            [
             0.4444444444444444,
             "#bd3786"
            ],
            [
             0.5555555555555556,
             "#d8576b"
            ],
            [
             0.6666666666666666,
             "#ed7953"
            ],
            [
             0.7777777777777778,
             "#fb9f3a"
            ],
            [
             0.8888888888888888,
             "#fdca26"
            ],
            [
             1,
             "#f0f921"
            ]
           ]
          },
          "colorway": [
           "#636efa",
           "#EF553B",
           "#00cc96",
           "#ab63fa",
           "#FFA15A",
           "#19d3f3",
           "#FF6692",
           "#B6E880",
           "#FF97FF",
           "#FECB52"
          ],
          "font": {
           "color": "#2a3f5f"
          },
          "geo": {
           "bgcolor": "white",
           "lakecolor": "white",
           "landcolor": "#E5ECF6",
           "showlakes": true,
           "showland": true,
           "subunitcolor": "white"
          },
          "hoverlabel": {
           "align": "left"
          },
          "hovermode": "closest",
          "mapbox": {
           "style": "light"
          },
          "paper_bgcolor": "white",
          "plot_bgcolor": "#E5ECF6",
          "polar": {
           "angularaxis": {
            "gridcolor": "white",
            "linecolor": "white",
            "ticks": ""
           },
           "bgcolor": "#E5ECF6",
           "radialaxis": {
            "gridcolor": "white",
            "linecolor": "white",
            "ticks": ""
           }
          },
          "scene": {
           "xaxis": {
            "backgroundcolor": "#E5ECF6",
            "gridcolor": "white",
            "gridwidth": 2,
            "linecolor": "white",
            "showbackground": true,
            "ticks": "",
            "zerolinecolor": "white"
           },
           "yaxis": {
            "backgroundcolor": "#E5ECF6",
            "gridcolor": "white",
            "gridwidth": 2,
            "linecolor": "white",
            "showbackground": true,
            "ticks": "",
            "zerolinecolor": "white"
           },
           "zaxis": {
            "backgroundcolor": "#E5ECF6",
            "gridcolor": "white",
            "gridwidth": 2,
            "linecolor": "white",
            "showbackground": true,
            "ticks": "",
            "zerolinecolor": "white"
           }
          },
          "shapedefaults": {
           "line": {
            "color": "#2a3f5f"
           }
          },
          "ternary": {
           "aaxis": {
            "gridcolor": "white",
            "linecolor": "white",
            "ticks": ""
           },
           "baxis": {
            "gridcolor": "white",
            "linecolor": "white",
            "ticks": ""
           },
           "bgcolor": "#E5ECF6",
           "caxis": {
            "gridcolor": "white",
            "linecolor": "white",
            "ticks": ""
           }
          },
          "title": {
           "x": 0.05
          },
          "xaxis": {
           "automargin": true,
           "gridcolor": "white",
           "linecolor": "white",
           "ticks": "",
           "title": {
            "standoff": 15
           },
           "zerolinecolor": "white",
           "zerolinewidth": 2
          },
          "yaxis": {
           "automargin": true,
           "gridcolor": "white",
           "linecolor": "white",
           "ticks": "",
           "title": {
            "standoff": 15
           },
           "zerolinecolor": "white",
           "zerolinewidth": 2
          }
         }
        },
        "title": {
         "text": "Delay Hours Monthly by Month"
        },
        "xaxis": {
         "anchor": "y",
         "domain": [
          0,
          1
         ],
         "title": {
          "text": "Month"
         }
        },
        "yaxis": {
         "anchor": "x",
         "domain": [
          0,
          1
         ],
         "title": {
          "text": "Delay_Hours"
         }
        }
       }
      }
     },
     "metadata": {},
     "output_type": "display_data"
    }
   ],
   "source": [
    "fig = px.bar(ml_csv_group,\n",
    "            x=\"Month\", \n",
    "            y=\"Delay_Hours\", \n",
    "            color=\"Failure_Code\", \n",
    "            title=\"Delay Hours Monthly by Month\"\n",
    "          )\n",
    "\n",
    "fig.show()"
   ]
  },
  {
   "cell_type": "code",
   "execution_count": 51,
   "metadata": {},
   "outputs": [
    {
     "data": {
      "application/vnd.plotly.v1+json": {
       "config": {
        "plotlyServerURL": "https://plot.ly"
       },
       "data": [
        {
         "hovertemplate": "Failure_Code=A1<br>Location=%{x}<br>Delay_Hours=%{y}<extra></extra>",
         "legendgroup": "A1",
         "marker": {
          "color": "#636efa",
          "pattern": {
           "shape": ""
          }
         },
         "name": "A1",
         "orientation": "v",
         "showlegend": true,
         "textposition": "auto",
         "type": "bar",
         "x": [
          "Location 1",
          "Location 2",
          "Location 3",
          "Location 4",
          "Location 5",
          "Location 6",
          "Location 7",
          "Location 1",
          "Location 2",
          "Location 3",
          "Location 4",
          "Location 5",
          "Location 6",
          "Location 7",
          "Location 1",
          "Location 2",
          "Location 3",
          "Location 4",
          "Location 5",
          "Location 6",
          "Location 7",
          "Location 1",
          "Location 2",
          "Location 3",
          "Location 4",
          "Location 5",
          "Location 6",
          "Location 7",
          "Location 1",
          "Location 2",
          "Location 3",
          "Location 4",
          "Location 5",
          "Location 6",
          "Location 7",
          "Location 1",
          "Location 2",
          "Location 3",
          "Location 4",
          "Location 5",
          "Location 6",
          "Location 7",
          "Location 1",
          "Location 2",
          "Location 3",
          "Location 4",
          "Location 5",
          "Location 6",
          "Location 7",
          "Location 1",
          "Location 2",
          "Location 3",
          "Location 4",
          "Location 5",
          "Location 6",
          "Location 7",
          "Location 1",
          "Location 2",
          "Location 3",
          "Location 4",
          "Location 5",
          "Location 6",
          "Location 7",
          "Location 1",
          "Location 2",
          "Location 3",
          "Location 4",
          "Location 5",
          "Location 6",
          "Location 7",
          "Location 1",
          "Location 2",
          "Location 3",
          "Location 4",
          "Location 5",
          "Location 6",
          "Location 7",
          "Location 1",
          "Location 2",
          "Location 3",
          "Location 4",
          "Location 5",
          "Location 6",
          "Location 7"
         ],
         "xaxis": "x",
         "y": {
          "bdata": "61G4HoXrJUDhehSuR+EUQKRwPQrXoypAH4XrUbgeGEC5HoXrUbjePwrXo3A9ChFA4XoUrkfhEUCF61G4HgUgQAAAAAAAQDFAzczMzMxMMUAK16NwPQojQK5H4XoUru8/PQrXo3C9LUAzMzMzMzMfQB+F61G4HhZAhetRuB6F/z+PwvUoXI8GQEjhehSuR/E/mZmZmZmZ4T8pXI/C9SjMP1yPwvUoXP8/UrgehetRAEAzMzMzM7MpQKRwPQrXoxdA4XoUrkfh2j+kcD0K16PAP1yPwvUoXOc/CtejcD0KBUC4HoXrUTggQGdmZmZmZgpAexSuR+F6GEBnZmZmZmYAQJqZmZmZmbk/4noUrkfhDEAzMzMzMzMHQNejcD0K1xNACtejcD0K9z9mZmZmZmYgQK5H4XoUrtc/pHA9CtejAEBI4XoUrkcTQOF6FK5H4eo/rkfhehRuM0DXo3A9Ctf/Pylcj8L1KBVA16NwPQrXFED2KFyPwvXoP0jhehSuRwFAmpmZmZmZFkD2KFyPwvUcQLgehetRuBNAw/UoXI/CCUAAAAAAAAAQQGZmZmZmZu4/exSuR+F61D+kcD0K16MYQFK4HoXrURZAexSuR+F6IEAfhetRuB4YQD4K16NwPQ5Aw/UoXI/C+T8K16NwPQoiQPYoXI/C9R5AexSuR+F6EED2KFyPwvUdQIXrUbgehQVAKVyPwvUo7D+amZmZmZmpP4XrUbgehSBA9ihcj8L1FEBcj8L1KFwLQM3MzMzMzBZAH4XrUbheSkCamZmZmZnxP8P1KFyPwu0/SOF6FK5H8T+kcD0K1+MxQD4K16NwPRJAhetRuB6FDUDNzMzMzMwGQArXo3A9CgNAKlyPwvUo3D/sUbgehevpP65H4XoUriFA",
          "dtype": "f8"
         },
         "yaxis": "y"
        },
        {
         "hovertemplate": "Failure_Code=B1<br>Location=%{x}<br>Delay_Hours=%{y}<extra></extra>",
         "legendgroup": "B1",
         "marker": {
          "color": "#EF553B",
          "pattern": {
           "shape": ""
          }
         },
         "name": "B1",
         "orientation": "v",
         "showlegend": true,
         "textposition": "auto",
         "type": "bar",
         "x": [
          "Location 1",
          "Location 6",
          "Location 1",
          "Location 4",
          "Location 5",
          "Location 2",
          "Location 5",
          "Location 1",
          "Location 2",
          "Location 5",
          "Location 1",
          "Location 2",
          "Location 5",
          "Location 7",
          "Location 1",
          "Location 3",
          "Location 4",
          "Location 5",
          "Location 7",
          "Location 1",
          "Location 7",
          "Location 1",
          "Location 4",
          "Location 7",
          "Location 1",
          "Location 2",
          "Location 5",
          "Location 7",
          "Location 2",
          "Location 3",
          "Location 4",
          "Location 6",
          "Location 7",
          "Location 1",
          "Location 3",
          "Location 5",
          "Location 7",
          "Location 1",
          "Location 3",
          "Location 7"
         ],
         "xaxis": "x",
         "y": {
          "bdata": "cT0K16Nw7T9I4XoUrkfxP3sUrkfhehBASOF6FK5HAUAAAAAAAADoP3sUrkfheqQ/zczMzMzM7D+PwvUoXI/yP2ZmZmZmZuY/PQrXo3A94j+4HoXrUbjeP1yPwvUoXANAexSuR+F6xD9mZmZmZmb6P3sUrkfhegBAwvUoXI/CAUAzMzMzMzMNQNejcD0K1wlA16NwPQrX9z9I4XoUrkcNQDMzMzMzM+M/H4XrUbge9T97FK5H4Xq0P+xRuB6F6/0/4XoUrkfhFkB7FK5H4Xq0PwAAAAAAANA/w/UoXI/C1T+QwvUoXI/iP3sUrkfherQ/MzMzMzMz4z/sUbgehevBPzMzMzMzMxVAcT0K16Nw5T8ehetRuB4YQK5H4XoUruc/HoXrUbgeOUCamZmZmZm5P4/C9Shcj/Y/uB6F61G4zj8=",
          "dtype": "f8"
         },
         "yaxis": "y"
        },
        {
         "hovertemplate": "Failure_Code=B4<br>Location=%{x}<br>Delay_Hours=%{y}<extra></extra>",
         "legendgroup": "B4",
         "marker": {
          "color": "#00cc96",
          "pattern": {
           "shape": ""
          }
         },
         "name": "B4",
         "orientation": "v",
         "showlegend": true,
         "textposition": "auto",
         "type": "bar",
         "x": [
          "Location 1",
          "Location 7",
          "Location 1",
          "Location 2",
          "Location 4",
          "Location 5",
          "Location 4",
          "Location 5",
          "Location 7",
          "Location 1",
          "Location 2",
          "Location 3",
          "Location 5",
          "Location 7",
          "Location 1",
          "Location 2",
          "Location 4",
          "Location 5",
          "Location 6",
          "Location 7",
          "Location 2",
          "Location 2",
          "Location 4",
          "Location 5",
          "Location 7",
          "Location 1",
          "Location 2",
          "Location 3",
          "Location 4",
          "Location 5",
          "Location 6",
          "Location 7",
          "Location 2",
          "Location 6",
          "Location 4",
          "Location 6",
          "Location 7",
          "Location 2",
          "Location 5",
          "Location 7"
         ],
         "xaxis": "x",
         "y": {
          "bdata": "AAAAAAAA0D9I4XoUrkfxPz0K16NwPeI/mpmZmZmZuT9I4XoUrkfxP/YoXI/C9Q5A16NwPQrXAUB7FK5H4Xq0P7gehetRuBJA4XoUrkfh2j9SuB6F61HgP5qZmZmZmRBArkfhehSuEEAK16NwPQrHP3sUrkfherQ/PQrXo3A9G0Bcj8L1KNwhQKRwPQrXowhArkfhehSu1z9cj8L1KFwFQAAAAAAAAPA/H4XrUbge7T/Xo3A9CldQQMP1KFyPwsU/w/UoXI/CxT+amZmZmZnxPwrXo3A9Csc/XI/C9ShcC0AAAAAAAADoP/UoXI/C9QpArkfhehSuH0B7FK5H4XoKQDMzMzMzMxNA7FG4HoXr9T8K16NwPQrnPwrXo3A9Csc/FK5H4XoU8j8UrkfhehQTQMP1KFyPQiJASOF6FK4HMUA=",
          "dtype": "f8"
         },
         "yaxis": "y"
        },
        {
         "hovertemplate": "Failure_Code=C1<br>Location=%{x}<br>Delay_Hours=%{y}<extra></extra>",
         "legendgroup": "C1",
         "marker": {
          "color": "#ab63fa",
          "pattern": {
           "shape": ""
          }
         },
         "name": "C1",
         "orientation": "v",
         "showlegend": true,
         "textposition": "auto",
         "type": "bar",
         "x": [
          "Location 1",
          "Location 2",
          "Location 3",
          "Location 4",
          "Location 5",
          "Location 6",
          "Location 7",
          "Location 1",
          "Location 2",
          "Location 3",
          "Location 4",
          "Location 5",
          "Location 6",
          "Location 7",
          "Location 1",
          "Location 2",
          "Location 3",
          "Location 4",
          "Location 5",
          "Location 6",
          "Location 7",
          "Location 1",
          "Location 2",
          "Location 3",
          "Location 4",
          "Location 5",
          "Location 6",
          "Location 7",
          "Location 1",
          "Location 2",
          "Location 3",
          "Location 4",
          "Location 5",
          "Location 6",
          "Location 7",
          "Location 1",
          "Location 2",
          "Location 3",
          "Location 4",
          "Location 5",
          "Location 6",
          "Location 7",
          "Location 1",
          "Location 2",
          "Location 3",
          "Location 4",
          "Location 5",
          "Location 6",
          "Location 7",
          "Location 1",
          "Location 2",
          "Location 3",
          "Location 4",
          "Location 5",
          "Location 6",
          "Location 7",
          "Location 1",
          "Location 2",
          "Location 3",
          "Location 4",
          "Location 5",
          "Location 6",
          "Location 7",
          "Location 1",
          "Location 2",
          "Location 3",
          "Location 4",
          "Location 5",
          "Location 6",
          "Location 7",
          "Location 1",
          "Location 2",
          "Location 3",
          "Location 4",
          "Location 5",
          "Location 6",
          "Location 7",
          "Location 1",
          "Location 2",
          "Location 3",
          "Location 4",
          "Location 5",
          "Location 6",
          "Location 7"
         ],
         "xaxis": "x",
         "y": {
          "bdata": "zczMzMzMI0CuR+F6FK4qQM3MzMzMTDtA61G4HoXrGEBI4XoUrkcFQClcj8L1qCJAH4XrUbgeBUC4HoXrUbg7QOtRuB6FayNAmpmZmZmZMkC4HoXrUbg3QIXrUbgehRNA16NwPQrXG0AAAAAAAIAxQClcj8L1qCZAhetRuB6FF0CPwvUoXA8zQM3MzMzMzA5AMzMzMzMzH0AAAAAAACBHQM3MzMzMjDlAH4XrUbgeIUApXI/C9agjQI/C9ShcjyJAcT0K16Nw9T+kcD0K16MGQGZmZmZmZv4/mpmZmZkZMUBcj8L1KNwpQI/C9ShcjxRA16NwPQrXEkB7FK5H4Xr0P2ZmZmZmZiBAcD0K16NwCUCamZmZmflEQBWuR+F6NEBAhetRuB6FH0A9CtejcP0wQLgehetRuBBAcD0K16Nw5T+4HoXrUbgiQOF6FK5H4R5AUrgehesRUkApXI/C9agkQK5H4XoUbjFAcD0K16MwNUBwPQrXo/AhQIXrUbgeRTJAhetRuB7FMkCQwvUoXA8tQK5H4XoUrihAKVyPwvWoLkDNzMzMzMwIQML1KFyPwhxA16NwPQrXD0Bcj8L1KFwfQGZmZmZmZiFAcT0K16NwJ0CkcD0K1yMmQPYoXI/C9RFAw/UoXI/CG0C4HoXrUXgzQAAAAAAAADVA4XoUrkfhEUD2KFyPwvUOQB+F61G4HhVAcT0K16NwCUBmZmZmZmYEQGdmZmZmZiRA7FG4HoWrN0Bcj8L1KFwPQFK4HoXrUTBArkfhehSuJEC4HoXrUTgiQGZmZmZmJjFAhetRuB6FF0DMzMzMzIw5QHsUrkfheghAuR6F61G4GEBmZmZmZmYyQAAAAAAAACVAcD0K16NwB0BSuB6F61EMQIXrUbgehRhA",
          "dtype": "f8"
         },
         "yaxis": "y"
        },
        {
         "hovertemplate": "Failure_Code=C2<br>Location=%{x}<br>Delay_Hours=%{y}<extra></extra>",
         "legendgroup": "C2",
         "marker": {
          "color": "#FFA15A",
          "pattern": {
           "shape": ""
          }
         },
         "name": "C2",
         "orientation": "v",
         "showlegend": true,
         "textposition": "auto",
         "type": "bar",
         "x": [
          "Location 1",
          "Location 3",
          "Location 4",
          "Location 5",
          "Location 6",
          "Location 7",
          "Location 1",
          "Location 2",
          "Location 3",
          "Location 4",
          "Location 6",
          "Location 7",
          "Location 1",
          "Location 2",
          "Location 3",
          "Location 4",
          "Location 5",
          "Location 6",
          "Location 7",
          "Location 1",
          "Location 2",
          "Location 3",
          "Location 4",
          "Location 5",
          "Location 6",
          "Location 7",
          "Location 1",
          "Location 2",
          "Location 3",
          "Location 4",
          "Location 5",
          "Location 1",
          "Location 3",
          "Location 4",
          "Location 5",
          "Location 6",
          "Location 7",
          "Location 1",
          "Location 2",
          "Location 3",
          "Location 4",
          "Location 5",
          "Location 7",
          "Location 1",
          "Location 2",
          "Location 3",
          "Location 4",
          "Location 6",
          "Location 7",
          "Location 1",
          "Location 2",
          "Location 3",
          "Location 4",
          "Location 5",
          "Location 6",
          "Location 1",
          "Location 2",
          "Location 3",
          "Location 4",
          "Location 5",
          "Location 6",
          "Location 7",
          "Location 1",
          "Location 3",
          "Location 4",
          "Location 5",
          "Location 6",
          "Location 7",
          "Location 1",
          "Location 2",
          "Location 3",
          "Location 4",
          "Location 5",
          "Location 6",
          "Location 7"
         ],
         "xaxis": "x",
         "y": {
          "bdata": "7FG4HoXr0T8zMzMzMzMDQLgehetROCNAj8L1KFyPBEBSuB6F61H8P+tRuB6FayZAUrgehetRFEBmZmZmZmbmP6RwPQrXIy9A4XoUrkfh/j+amZmZmZnZP5qZmZmZmdk/AAAAAAAAF0CuR+F6FK4PQK5H4XoUrgNACtejcD0KEkDNzMzMzMwGQJqZmZmZmR9AAAAAAAAA/D9mZmZmZmYIQFK4HoXrUdg/zczMzMzM7D8AAAAAAADgP6RwPQrXIzJAmpmZmZmZFUAfhetRuB4eQPYoXI/C9eg/AAAAAAAACkApXI/C9SgGQClcj8L1KApAKVyPwvUo5D/NzMzMzMwIQDMzMzMzM9M/CtejcD0KIEC4HoXrUbieP8zMzMzMzABA4noUrkfhHECkcD0K16MVQOF6FK5H4do/FK5H4XoU8j8AAAAAAAAAQM3MzMzMzABASOF6FK5HHECuR+F6FC4kQFyPwvUoXOc/exSuR+H6JEDsUbgehevRP3oUrkfhevw/PgrXo3A9GUAK16NwPQrnP+xRuB6F6/E/UrgehetRH0CkcD0K16McQLgehetRuBxAcT0K16NwA0BxPQrXo3AbQHoUrkfheh5ASOF6FK5HC0Bcj8L1KFwBQJqZmZmZmQtA16NwPQrXDUDMzMzMzEwtQK5H4XoUrvc/H4XrUbgeEkB7FK5H4bowQI/C9ShcjwZAH4XrUbgeBUCPwvUoXI8AQDMzMzMzM+s/cD0K16NwIEA+CtejcD32P4XrUbgehQNAKFyPwvUoG0BmZmZmZmYWQIXrUbgehQFA",
          "dtype": "f8"
         },
         "yaxis": "y"
        },
        {
         "hovertemplate": "Failure_Code=D1<br>Location=%{x}<br>Delay_Hours=%{y}<extra></extra>",
         "legendgroup": "D1",
         "marker": {
          "color": "#19d3f3",
          "pattern": {
           "shape": ""
          }
         },
         "name": "D1",
         "orientation": "v",
         "showlegend": true,
         "textposition": "auto",
         "type": "bar",
         "x": [
          "Location 1",
          "Location 2",
          "Location 3",
          "Location 4",
          "Location 5",
          "Location 6",
          "Location 7",
          "Location 1",
          "Location 2",
          "Location 3",
          "Location 4",
          "Location 5",
          "Location 6",
          "Location 7",
          "Location 1",
          "Location 2",
          "Location 3",
          "Location 4",
          "Location 6",
          "Location 7",
          "Location 1",
          "Location 2",
          "Location 3",
          "Location 4",
          "Location 5",
          "Location 6",
          "Location 7",
          "Location 1",
          "Location 2",
          "Location 3",
          "Location 4",
          "Location 5",
          "Location 6",
          "Location 7",
          "Location 1",
          "Location 2",
          "Location 3",
          "Location 4",
          "Location 5",
          "Location 6",
          "Location 7",
          "Location 1",
          "Location 2",
          "Location 3",
          "Location 5",
          "Location 6",
          "Location 7",
          "Location 1",
          "Location 2",
          "Location 3",
          "Location 4",
          "Location 6",
          "Location 7",
          "Location 1",
          "Location 2",
          "Location 3",
          "Location 4",
          "Location 5",
          "Location 6",
          "Location 7",
          "Location 1",
          "Location 2",
          "Location 3",
          "Location 4",
          "Location 5",
          "Location 6",
          "Location 7",
          "Location 1",
          "Location 2",
          "Location 3",
          "Location 4",
          "Location 5",
          "Location 6",
          "Location 7",
          "Location 1",
          "Location 2",
          "Location 3",
          "Location 4",
          "Location 5",
          "Location 6",
          "Location 7"
         ],
         "xaxis": "x",
         "y": {
          "bdata": "AAAAAADgQ0B7FK5H4XoUQLgehetRuPY/pHA9CtejBEAUrkfhehTeP2ZmZmZmZuY/9ihcj8K1PUAK16NwPQo0QM3MzMzMzBBAR+F6FK5HD0AAAAAAAAAYQB6F61G4HvE/Z2ZmZmZmJkCuR+F6FK4PQFyPwvUoXBlAAAAAAAAA/D/C9Shcj4IxQB+F61G4HuU/j8L1KFyPDEBwPQrXo3ANQFK4HoXrkTBAXI/C9ShcH0DD9Shcj8LlP+F6FK5H4RRAcT0K16Nw5T8ehetRuB4DQM3MzMzMzPQ/9ihcj8L1EkB7FK5H4bowQKRwPQrXoxFASOF6FK5H8T/D9Shcj8LFP/YoXI/C9S1A61G4HoXrAUAfhetRuB7lP8P1KFyPwgVAAAAAAAAA4D8AAAAAAADgPwAAAAAAAABAuB6F61G4BkAfhetRuB4JQOF6FK5HYSFAZ2ZmZmZmBkBcj8L1KFwfQAAAAAAAAPA/MzMzMzOzIECPwvUoXI8SQEjhehSuRyNACtejcD0KGEA0MzMzMzP7Pz4K16NwPSxAZmZmZmZm9j9mZmZmZmYOQK5H4XoUrhBAXI/C9ShcB0ApXI/C9SgUQAAAAAAAAPA/j8L1KFyP4j8AAAAAAADQP65H4XoUriBAhetRuB6FEUCkcD0K16MxQFK4HoXrURBAXI/C9ShcEEAzMzMzMzP7P7gehetRuBVArkfhehSuEUCuR+F6FK4QQNejcD0K1wdAmpmZmZmZDUBcj8L1KFwLQB+F61G4HjdA61G4HoXrEUD2KFyPwv1iQBSuR+F6FPY/ZmZmZmZmBEBI4XoUrkcDQJDC9Shcj/Y/7FG4HoXr0T+QwvUoXI8IQAAAAAAAAPg/",
          "dtype": "f8"
         },
         "yaxis": "y"
        },
        {
         "hovertemplate": "Failure_Code=D2<br>Location=%{x}<br>Delay_Hours=%{y}<extra></extra>",
         "legendgroup": "D2",
         "marker": {
          "color": "#FF6692",
          "pattern": {
           "shape": ""
          }
         },
         "name": "D2",
         "orientation": "v",
         "showlegend": true,
         "textposition": "auto",
         "type": "bar",
         "x": [
          "Location 1",
          "Location 2",
          "Location 3",
          "Location 4",
          "Location 5",
          "Location 6",
          "Location 7",
          "Location 2",
          "Location 3",
          "Location 5",
          "Location 6",
          "Location 7",
          "Location 1",
          "Location 2",
          "Location 4",
          "Location 5",
          "Location 6",
          "Location 7",
          "Location 2",
          "Location 3",
          "Location 4",
          "Location 5",
          "Location 6",
          "Location 7",
          "Location 1",
          "Location 2",
          "Location 3",
          "Location 4",
          "Location 5",
          "Location 6",
          "Location 7",
          "Location 1",
          "Location 2",
          "Location 3",
          "Location 4",
          "Location 5",
          "Location 6",
          "Location 7",
          "Location 1",
          "Location 2",
          "Location 3",
          "Location 4",
          "Location 5",
          "Location 6",
          "Location 7",
          "Location 2",
          "Location 4",
          "Location 5",
          "Location 6",
          "Location 1",
          "Location 2",
          "Location 4",
          "Location 5",
          "Location 6",
          "Location 7",
          "Location 2",
          "Location 3",
          "Location 4",
          "Location 5",
          "Location 6",
          "Location 7",
          "Location 1",
          "Location 2",
          "Location 4",
          "Location 5",
          "Location 6",
          "Location 7",
          "Location 2",
          "Location 3",
          "Location 4",
          "Location 5",
          "Location 6",
          "Location 7"
         ],
         "xaxis": "x",
         "y": {
          "bdata": "rkfhehQuJkB7FK5H4XoXQB+F61G4HihAMzMzMzMzCUCuR+F6FK7zP+xRuB6F6ytAAAAAAAAA4D9cj8L1KFz/P2ZmZmZmZiZAH4XrUbgeAUApXI/C9SgAQI/C9ShcjyZAH4XrUbge1T/MzMzMzMwaQHE9CtejcO0/ZmZmZmZm/j/C9Shcj8ITQIXrUbgehfs/KlyPwvUoDECuR+F6FK4RQB+F61G4HtU/wvUoXI/CA0DsUbgeheuxP1yPwvUoXPM/rkfhehSuH0AfhetRuB4UQI/C9Shcj+I/16NwPQrXEUB7FK5H4XoIQKRwPQrXoxBAXI/C9ShcBUCkcD0K16MQQIXrUbgehQ1ASOF6FK5H/T/rUbgehesRQAAAAAAAAABAZmZmZmbmKUDXo3A9CtcHQFK4HoXrUR9ApHA9Ctej4D8AAAAAAIAhQOF6FK5H4do/SOF6FK5HHkBxPQrXo/A0QPYoXI/CdSFAzczMzMxMIECuR+F6FK4RQIXrUbgehQFAAAAAAABAN0AAAAAAAADwP1yPwvUoXAdA9ihcj8L1KkD2KFyPwvURQK5H4XoUrh5AexSuR+F6KECkcD0K16M2QFyPwvUoXAdAAAAAAAAA4D8AAAAAAADgPwvXo3A9Ch5AmpmZmZmZBUDNzMzMzMwsQFK4HoXrUQBAAAAAAAAA0D+PwvUoXI/yPwAAAAAAAClApHA9Ctej/D8VrkfhehQVQM3MzMzMzNw/rkfhehSuEUAVrkfhehQWQLgehetRuBRAexSuR+H6OUA=",
          "dtype": "f8"
         },
         "yaxis": "y"
        },
        {
         "hovertemplate": "Failure_Code=B3<br>Location=%{x}<br>Delay_Hours=%{y}<extra></extra>",
         "legendgroup": "B3",
         "marker": {
          "color": "#B6E880",
          "pattern": {
           "shape": ""
          }
         },
         "name": "B3",
         "orientation": "v",
         "showlegend": true,
         "textposition": "auto",
         "type": "bar",
         "x": [
          "Location 3",
          "Location 2",
          "Location 3",
          "Location 2",
          "Location 6",
          "Location 7",
          "Location 1",
          "Location 3",
          "Location 6",
          "Location 4",
          "Location 5",
          "Location 7",
          "Location 4",
          "Location 6",
          "Location 7",
          "Location 6",
          "Location 7",
          "Location 1",
          "Location 5",
          "Location 7"
         ],
         "xaxis": "x",
         "y": {
          "bdata": "pHA9CtcjKEAqXI/C9SgKQOxRuB6F67E/KVyPwvUo7D8ehetRuB75PzMzMzMzM+s/FK5H4XoU3j+4HoXrUbj+P0jhehSuR/k/CtejcD3KNEDNzMzMzMzcPz0K16NwPQJAUrgehetR+D8zMzMzMzMFQM3MzMzMzBdAmZmZmZmZG0AzMzMzMzPTPwAAAAAAAOg/zczMzMzM3D+F61G4HoUYQA==",
          "dtype": "f8"
         },
         "yaxis": "y"
        },
        {
         "hovertemplate": "Failure_Code=A5<br>Location=%{x}<br>Delay_Hours=%{y}<extra></extra>",
         "legendgroup": "A5",
         "marker": {
          "color": "#FF97FF",
          "pattern": {
           "shape": ""
          }
         },
         "name": "A5",
         "orientation": "v",
         "showlegend": true,
         "textposition": "auto",
         "type": "bar",
         "x": [
          "Location 1",
          "Location 2",
          "Location 3",
          "Location 4",
          "Location 5",
          "Location 6",
          "Location 7",
          "Location 1",
          "Location 2",
          "Location 3",
          "Location 4",
          "Location 6",
          "Location 7",
          "Location 1",
          "Location 2",
          "Location 3",
          "Location 4",
          "Location 6",
          "Location 7",
          "Location 1",
          "Location 3",
          "Location 4",
          "Location 5",
          "Location 6",
          "Location 7"
         ],
         "xaxis": "x",
         "y": {
          "bdata": "9ihcj8L14D+F61G4HoX/P9ejcD0K1wtAKVyPwvUoEECamZmZmZm5P5qZmZmZmRFAKVyPwvUoCEBI4XoUrkcQQGZmZmZmZhJA7FG4HoXrG0BmZmZmZmb+P65H4XoUriNAkML1KFwPJEDsUbgehWslQFK4HoXrURFAcT0K16NwMUBnZmZmZmYhQOF6FK5HYSpAcT0K16NwM0AUrkfhehTeP7gehetRuApAFK5H4XoU3j8UrkfhehTeP2ZmZmZmZgZAAAAAAAAA4D8=",
          "dtype": "f8"
         },
         "yaxis": "y"
        },
        {
         "hovertemplate": "Failure_Code=C5<br>Location=%{x}<br>Delay_Hours=%{y}<extra></extra>",
         "legendgroup": "C5",
         "marker": {
          "color": "#FECB52",
          "pattern": {
           "shape": ""
          }
         },
         "name": "C5",
         "orientation": "v",
         "showlegend": true,
         "textposition": "auto",
         "type": "bar",
         "x": [
          "Location 7",
          "Location 7"
         ],
         "xaxis": "x",
         "y": {
          "bdata": "w/UoXI/CA0DC9Shcj8LVPw==",
          "dtype": "f8"
         },
         "yaxis": "y"
        }
       ],
       "layout": {
        "barmode": "relative",
        "legend": {
         "title": {
          "text": "Failure_Code"
         },
         "tracegroupgap": 0
        },
        "template": {
         "data": {
          "bar": [
           {
            "error_x": {
             "color": "#2a3f5f"
            },
            "error_y": {
             "color": "#2a3f5f"
            },
            "marker": {
             "line": {
              "color": "#E5ECF6",
              "width": 0.5
             },
             "pattern": {
              "fillmode": "overlay",
              "size": 10,
              "solidity": 0.2
             }
            },
            "type": "bar"
           }
          ],
          "barpolar": [
           {
            "marker": {
             "line": {
              "color": "#E5ECF6",
              "width": 0.5
             },
             "pattern": {
              "fillmode": "overlay",
              "size": 10,
              "solidity": 0.2
             }
            },
            "type": "barpolar"
           }
          ],
          "carpet": [
           {
            "aaxis": {
             "endlinecolor": "#2a3f5f",
             "gridcolor": "white",
             "linecolor": "white",
             "minorgridcolor": "white",
             "startlinecolor": "#2a3f5f"
            },
            "baxis": {
             "endlinecolor": "#2a3f5f",
             "gridcolor": "white",
             "linecolor": "white",
             "minorgridcolor": "white",
             "startlinecolor": "#2a3f5f"
            },
            "type": "carpet"
           }
          ],
          "choropleth": [
           {
            "colorbar": {
             "outlinewidth": 0,
             "ticks": ""
            },
            "type": "choropleth"
           }
          ],
          "contour": [
           {
            "colorbar": {
             "outlinewidth": 0,
             "ticks": ""
            },
            "colorscale": [
             [
              0,
              "#0d0887"
             ],
             [
              0.1111111111111111,
              "#46039f"
             ],
             [
              0.2222222222222222,
              "#7201a8"
             ],
             [
              0.3333333333333333,
              "#9c179e"
             ],
             [
              0.4444444444444444,
              "#bd3786"
             ],
             [
              0.5555555555555556,
              "#d8576b"
             ],
             [
              0.6666666666666666,
              "#ed7953"
             ],
             [
              0.7777777777777778,
              "#fb9f3a"
             ],
             [
              0.8888888888888888,
              "#fdca26"
             ],
             [
              1,
              "#f0f921"
             ]
            ],
            "type": "contour"
           }
          ],
          "contourcarpet": [
           {
            "colorbar": {
             "outlinewidth": 0,
             "ticks": ""
            },
            "type": "contourcarpet"
           }
          ],
          "heatmap": [
           {
            "colorbar": {
             "outlinewidth": 0,
             "ticks": ""
            },
            "colorscale": [
             [
              0,
              "#0d0887"
             ],
             [
              0.1111111111111111,
              "#46039f"
             ],
             [
              0.2222222222222222,
              "#7201a8"
             ],
             [
              0.3333333333333333,
              "#9c179e"
             ],
             [
              0.4444444444444444,
              "#bd3786"
             ],
             [
              0.5555555555555556,
              "#d8576b"
             ],
             [
              0.6666666666666666,
              "#ed7953"
             ],
             [
              0.7777777777777778,
              "#fb9f3a"
             ],
             [
              0.8888888888888888,
              "#fdca26"
             ],
             [
              1,
              "#f0f921"
             ]
            ],
            "type": "heatmap"
           }
          ],
          "histogram": [
           {
            "marker": {
             "pattern": {
              "fillmode": "overlay",
              "size": 10,
              "solidity": 0.2
             }
            },
            "type": "histogram"
           }
          ],
          "histogram2d": [
           {
            "colorbar": {
             "outlinewidth": 0,
             "ticks": ""
            },
            "colorscale": [
             [
              0,
              "#0d0887"
             ],
             [
              0.1111111111111111,
              "#46039f"
             ],
             [
              0.2222222222222222,
              "#7201a8"
             ],
             [
              0.3333333333333333,
              "#9c179e"
             ],
             [
              0.4444444444444444,
              "#bd3786"
             ],
             [
              0.5555555555555556,
              "#d8576b"
             ],
             [
              0.6666666666666666,
              "#ed7953"
             ],
             [
              0.7777777777777778,
              "#fb9f3a"
             ],
             [
              0.8888888888888888,
              "#fdca26"
             ],
             [
              1,
              "#f0f921"
             ]
            ],
            "type": "histogram2d"
           }
          ],
          "histogram2dcontour": [
           {
            "colorbar": {
             "outlinewidth": 0,
             "ticks": ""
            },
            "colorscale": [
             [
              0,
              "#0d0887"
             ],
             [
              0.1111111111111111,
              "#46039f"
             ],
             [
              0.2222222222222222,
              "#7201a8"
             ],
             [
              0.3333333333333333,
              "#9c179e"
             ],
             [
              0.4444444444444444,
              "#bd3786"
             ],
             [
              0.5555555555555556,
              "#d8576b"
             ],
             [
              0.6666666666666666,
              "#ed7953"
             ],
             [
              0.7777777777777778,
              "#fb9f3a"
             ],
             [
              0.8888888888888888,
              "#fdca26"
             ],
             [
              1,
              "#f0f921"
             ]
            ],
            "type": "histogram2dcontour"
           }
          ],
          "mesh3d": [
           {
            "colorbar": {
             "outlinewidth": 0,
             "ticks": ""
            },
            "type": "mesh3d"
           }
          ],
          "parcoords": [
           {
            "line": {
             "colorbar": {
              "outlinewidth": 0,
              "ticks": ""
             }
            },
            "type": "parcoords"
           }
          ],
          "pie": [
           {
            "automargin": true,
            "type": "pie"
           }
          ],
          "scatter": [
           {
            "fillpattern": {
             "fillmode": "overlay",
             "size": 10,
             "solidity": 0.2
            },
            "type": "scatter"
           }
          ],
          "scatter3d": [
           {
            "line": {
             "colorbar": {
              "outlinewidth": 0,
              "ticks": ""
             }
            },
            "marker": {
             "colorbar": {
              "outlinewidth": 0,
              "ticks": ""
             }
            },
            "type": "scatter3d"
           }
          ],
          "scattercarpet": [
           {
            "marker": {
             "colorbar": {
              "outlinewidth": 0,
              "ticks": ""
             }
            },
            "type": "scattercarpet"
           }
          ],
          "scattergeo": [
           {
            "marker": {
             "colorbar": {
              "outlinewidth": 0,
              "ticks": ""
             }
            },
            "type": "scattergeo"
           }
          ],
          "scattergl": [
           {
            "marker": {
             "colorbar": {
              "outlinewidth": 0,
              "ticks": ""
             }
            },
            "type": "scattergl"
           }
          ],
          "scattermap": [
           {
            "marker": {
             "colorbar": {
              "outlinewidth": 0,
              "ticks": ""
             }
            },
            "type": "scattermap"
           }
          ],
          "scattermapbox": [
           {
            "marker": {
             "colorbar": {
              "outlinewidth": 0,
              "ticks": ""
             }
            },
            "type": "scattermapbox"
           }
          ],
          "scatterpolar": [
           {
            "marker": {
             "colorbar": {
              "outlinewidth": 0,
              "ticks": ""
             }
            },
            "type": "scatterpolar"
           }
          ],
          "scatterpolargl": [
           {
            "marker": {
             "colorbar": {
              "outlinewidth": 0,
              "ticks": ""
             }
            },
            "type": "scatterpolargl"
           }
          ],
          "scatterternary": [
           {
            "marker": {
             "colorbar": {
              "outlinewidth": 0,
              "ticks": ""
             }
            },
            "type": "scatterternary"
           }
          ],
          "surface": [
           {
            "colorbar": {
             "outlinewidth": 0,
             "ticks": ""
            },
            "colorscale": [
             [
              0,
              "#0d0887"
             ],
             [
              0.1111111111111111,
              "#46039f"
             ],
             [
              0.2222222222222222,
              "#7201a8"
             ],
             [
              0.3333333333333333,
              "#9c179e"
             ],
             [
              0.4444444444444444,
              "#bd3786"
             ],
             [
              0.5555555555555556,
              "#d8576b"
             ],
             [
              0.6666666666666666,
              "#ed7953"
             ],
             [
              0.7777777777777778,
              "#fb9f3a"
             ],
             [
              0.8888888888888888,
              "#fdca26"
             ],
             [
              1,
              "#f0f921"
             ]
            ],
            "type": "surface"
           }
          ],
          "table": [
           {
            "cells": {
             "fill": {
              "color": "#EBF0F8"
             },
             "line": {
              "color": "white"
             }
            },
            "header": {
             "fill": {
              "color": "#C8D4E3"
             },
             "line": {
              "color": "white"
             }
            },
            "type": "table"
           }
          ]
         },
         "layout": {
          "annotationdefaults": {
           "arrowcolor": "#2a3f5f",
           "arrowhead": 0,
           "arrowwidth": 1
          },
          "autotypenumbers": "strict",
          "coloraxis": {
           "colorbar": {
            "outlinewidth": 0,
            "ticks": ""
           }
          },
          "colorscale": {
           "diverging": [
            [
             0,
             "#8e0152"
            ],
            [
             0.1,
             "#c51b7d"
            ],
            [
             0.2,
             "#de77ae"
            ],
            [
             0.3,
             "#f1b6da"
            ],
            [
             0.4,
             "#fde0ef"
            ],
            [
             0.5,
             "#f7f7f7"
            ],
            [
             0.6,
             "#e6f5d0"
            ],
            [
             0.7,
             "#b8e186"
            ],
            [
             0.8,
             "#7fbc41"
            ],
            [
             0.9,
             "#4d9221"
            ],
            [
             1,
             "#276419"
            ]
           ],
           "sequential": [
            [
             0,
             "#0d0887"
            ],
            [
             0.1111111111111111,
             "#46039f"
            ],
            [
             0.2222222222222222,
             "#7201a8"
            ],
            [
             0.3333333333333333,
             "#9c179e"
            ],
            [
             0.4444444444444444,
             "#bd3786"
            ],
            [
             0.5555555555555556,
             "#d8576b"
            ],
            [
             0.6666666666666666,
             "#ed7953"
            ],
            [
             0.7777777777777778,
             "#fb9f3a"
            ],
            [
             0.8888888888888888,
             "#fdca26"
            ],
            [
             1,
             "#f0f921"
            ]
           ],
           "sequentialminus": [
            [
             0,
             "#0d0887"
            ],
            [
             0.1111111111111111,
             "#46039f"
            ],
            [
             0.2222222222222222,
             "#7201a8"
            ],
            [
             0.3333333333333333,
             "#9c179e"
            ],
            [
             0.4444444444444444,
             "#bd3786"
            ],
            [
             0.5555555555555556,
             "#d8576b"
            ],
            [
             0.6666666666666666,
             "#ed7953"
            ],
            [
             0.7777777777777778,
             "#fb9f3a"
            ],
            [
             0.8888888888888888,
             "#fdca26"
            ],
            [
             1,
             "#f0f921"
            ]
           ]
          },
          "colorway": [
           "#636efa",
           "#EF553B",
           "#00cc96",
           "#ab63fa",
           "#FFA15A",
           "#19d3f3",
           "#FF6692",
           "#B6E880",
           "#FF97FF",
           "#FECB52"
          ],
          "font": {
           "color": "#2a3f5f"
          },
          "geo": {
           "bgcolor": "white",
           "lakecolor": "white",
           "landcolor": "#E5ECF6",
           "showlakes": true,
           "showland": true,
           "subunitcolor": "white"
          },
          "hoverlabel": {
           "align": "left"
          },
          "hovermode": "closest",
          "mapbox": {
           "style": "light"
          },
          "paper_bgcolor": "white",
          "plot_bgcolor": "#E5ECF6",
          "polar": {
           "angularaxis": {
            "gridcolor": "white",
            "linecolor": "white",
            "ticks": ""
           },
           "bgcolor": "#E5ECF6",
           "radialaxis": {
            "gridcolor": "white",
            "linecolor": "white",
            "ticks": ""
           }
          },
          "scene": {
           "xaxis": {
            "backgroundcolor": "#E5ECF6",
            "gridcolor": "white",
            "gridwidth": 2,
            "linecolor": "white",
            "showbackground": true,
            "ticks": "",
            "zerolinecolor": "white"
           },
           "yaxis": {
            "backgroundcolor": "#E5ECF6",
            "gridcolor": "white",
            "gridwidth": 2,
            "linecolor": "white",
            "showbackground": true,
            "ticks": "",
            "zerolinecolor": "white"
           },
           "zaxis": {
            "backgroundcolor": "#E5ECF6",
            "gridcolor": "white",
            "gridwidth": 2,
            "linecolor": "white",
            "showbackground": true,
            "ticks": "",
            "zerolinecolor": "white"
           }
          },
          "shapedefaults": {
           "line": {
            "color": "#2a3f5f"
           }
          },
          "ternary": {
           "aaxis": {
            "gridcolor": "white",
            "linecolor": "white",
            "ticks": ""
           },
           "baxis": {
            "gridcolor": "white",
            "linecolor": "white",
            "ticks": ""
           },
           "bgcolor": "#E5ECF6",
           "caxis": {
            "gridcolor": "white",
            "linecolor": "white",
            "ticks": ""
           }
          },
          "title": {
           "x": 0.05
          },
          "xaxis": {
           "automargin": true,
           "gridcolor": "white",
           "linecolor": "white",
           "ticks": "",
           "title": {
            "standoff": 15
           },
           "zerolinecolor": "white",
           "zerolinewidth": 2
          },
          "yaxis": {
           "automargin": true,
           "gridcolor": "white",
           "linecolor": "white",
           "ticks": "",
           "title": {
            "standoff": 15
           },
           "zerolinecolor": "white",
           "zerolinewidth": 2
          }
         }
        },
        "title": {
         "text": "Delay Hours Monthly by Location"
        },
        "xaxis": {
         "anchor": "y",
         "domain": [
          0,
          1
         ],
         "title": {
          "text": "Location"
         }
        },
        "yaxis": {
         "anchor": "x",
         "domain": [
          0,
          1
         ],
         "title": {
          "text": "Delay_Hours"
         }
        }
       }
      }
     },
     "metadata": {},
     "output_type": "display_data"
    }
   ],
   "source": [
    "fig = px.bar(ml_csv_group,\n",
    "            x=\"Location\", \n",
    "            y=\"Delay_Hours\", \n",
    "            color=\"Failure_Code\", \n",
    "            title=\"Delay Hours Monthly by Location\"\n",
    "          )\n",
    "\n",
    "fig.show()"
   ]
  },
  {
   "cell_type": "code",
   "execution_count": 84,
   "metadata": {},
   "outputs": [],
   "source": [
    "# https://stackoverflow.com/questions/3418050/how-to-map-month-name-to-month-number-and-vice-versa\n",
    "monthTransform = {month: index for index, month in enumerate(calendar.month_name) if month}\n",
    "voltageTransform = {'LV': 1, '11kV': 2, '33kV': 3}"
   ]
  },
  {
   "cell_type": "code",
   "execution_count": 94,
   "metadata": {},
   "outputs": [
    {
     "name": "stderr",
     "output_type": "stream",
     "text": [
      "C:\\Users\\thoma\\AppData\\Local\\Temp\\ipykernel_7356\\2540232366.py:1: SettingWithCopyWarning:\n",
      "\n",
      "\n",
      "A value is trying to be set on a copy of a slice from a DataFrame.\n",
      "Try using .loc[row_indexer,col_indexer] = value instead\n",
      "\n",
      "See the caveats in the documentation: https://pandas.pydata.org/pandas-docs/stable/user_guide/indexing.html#returning-a-view-versus-a-copy\n",
      "\n",
      "C:\\Users\\thoma\\AppData\\Local\\Temp\\ipykernel_7356\\2540232366.py:2: SettingWithCopyWarning:\n",
      "\n",
      "\n",
      "A value is trying to be set on a copy of a slice from a DataFrame.\n",
      "Try using .loc[row_indexer,col_indexer] = value instead\n",
      "\n",
      "See the caveats in the documentation: https://pandas.pydata.org/pandas-docs/stable/user_guide/indexing.html#returning-a-view-versus-a-copy\n",
      "\n",
      "C:\\Users\\thoma\\AppData\\Local\\Temp\\ipykernel_7356\\2540232366.py:3: SettingWithCopyWarning:\n",
      "\n",
      "\n",
      "A value is trying to be set on a copy of a slice from a DataFrame.\n",
      "Try using .loc[row_indexer,col_indexer] = value instead\n",
      "\n",
      "See the caveats in the documentation: https://pandas.pydata.org/pandas-docs/stable/user_guide/indexing.html#returning-a-view-versus-a-copy\n",
      "\n"
     ]
    }
   ],
   "source": [
    "ml_csv['Month_Number'] = ml_csv['Month'].map(monthTransform)\n",
    "ml_csv['System_Voltage'] = ml_csv['System Voltage'].map(voltageTransform)\n",
    "ml_csv['Location'] = ml_csv['Location'].str.replace('Location ', '', regex=False)\n",
    "#ml_csv['Failure_Code_Number'] = int(ml_csv['Failure_Code'], 16)\n"
   ]
  },
  {
   "cell_type": "code",
   "execution_count": 95,
   "metadata": {},
   "outputs": [
    {
     "data": {
      "text/html": [
       "<div>\n",
       "<style scoped>\n",
       "    .dataframe tbody tr th:only-of-type {\n",
       "        vertical-align: middle;\n",
       "    }\n",
       "\n",
       "    .dataframe tbody tr th {\n",
       "        vertical-align: top;\n",
       "    }\n",
       "\n",
       "    .dataframe thead th {\n",
       "        text-align: right;\n",
       "    }\n",
       "</style>\n",
       "<table border=\"1\" class=\"dataframe\">\n",
       "  <thead>\n",
       "    <tr style=\"text-align: right;\">\n",
       "      <th></th>\n",
       "      <th>Delay_Hours</th>\n",
       "      <th>Month</th>\n",
       "      <th>System Voltage</th>\n",
       "      <th>Consumer_Effected</th>\n",
       "      <th>System_Load (kW)</th>\n",
       "      <th>Failure_Code</th>\n",
       "      <th>Location</th>\n",
       "      <th>Month_Number</th>\n",
       "      <th>System_Voltage</th>\n",
       "    </tr>\n",
       "  </thead>\n",
       "  <tbody>\n",
       "    <tr>\n",
       "      <th>0</th>\n",
       "      <td>0.10</td>\n",
       "      <td>January</td>\n",
       "      <td>33kV</td>\n",
       "      <td>9555</td>\n",
       "      <td>23290.0</td>\n",
       "      <td>A1</td>\n",
       "      <td>1</td>\n",
       "      <td>1</td>\n",
       "      <td>3</td>\n",
       "    </tr>\n",
       "    <tr>\n",
       "      <th>1</th>\n",
       "      <td>0.42</td>\n",
       "      <td>January</td>\n",
       "      <td>LV</td>\n",
       "      <td>282</td>\n",
       "      <td>98.0</td>\n",
       "      <td>D1</td>\n",
       "      <td>2</td>\n",
       "      <td>1</td>\n",
       "      <td>1</td>\n",
       "    </tr>\n",
       "    <tr>\n",
       "      <th>2</th>\n",
       "      <td>0.50</td>\n",
       "      <td>January</td>\n",
       "      <td>11kV</td>\n",
       "      <td>291</td>\n",
       "      <td>104.0</td>\n",
       "      <td>C1</td>\n",
       "      <td>3</td>\n",
       "      <td>1</td>\n",
       "      <td>2</td>\n",
       "    </tr>\n",
       "    <tr>\n",
       "      <th>3</th>\n",
       "      <td>0.08</td>\n",
       "      <td>January</td>\n",
       "      <td>11kV</td>\n",
       "      <td>4192</td>\n",
       "      <td>13025.0</td>\n",
       "      <td>C1</td>\n",
       "      <td>2</td>\n",
       "      <td>1</td>\n",
       "      <td>2</td>\n",
       "    </tr>\n",
       "    <tr>\n",
       "      <th>4</th>\n",
       "      <td>0.15</td>\n",
       "      <td>January</td>\n",
       "      <td>11kV</td>\n",
       "      <td>755</td>\n",
       "      <td>807.0</td>\n",
       "      <td>C1</td>\n",
       "      <td>4</td>\n",
       "      <td>1</td>\n",
       "      <td>2</td>\n",
       "    </tr>\n",
       "    <tr>\n",
       "      <th>...</th>\n",
       "      <td>...</td>\n",
       "      <td>...</td>\n",
       "      <td>...</td>\n",
       "      <td>...</td>\n",
       "      <td>...</td>\n",
       "      <td>...</td>\n",
       "      <td>...</td>\n",
       "      <td>...</td>\n",
       "      <td>...</td>\n",
       "    </tr>\n",
       "    <tr>\n",
       "      <th>5379</th>\n",
       "      <td>0.02</td>\n",
       "      <td>December</td>\n",
       "      <td>33kV</td>\n",
       "      <td>12368</td>\n",
       "      <td>180250.0</td>\n",
       "      <td>A1</td>\n",
       "      <td>1</td>\n",
       "      <td>12</td>\n",
       "      <td>3</td>\n",
       "    </tr>\n",
       "    <tr>\n",
       "      <th>5380</th>\n",
       "      <td>0.02</td>\n",
       "      <td>December</td>\n",
       "      <td>33kV</td>\n",
       "      <td>12368</td>\n",
       "      <td>180250.0</td>\n",
       "      <td>A1</td>\n",
       "      <td>1</td>\n",
       "      <td>12</td>\n",
       "      <td>3</td>\n",
       "    </tr>\n",
       "    <tr>\n",
       "      <th>5381</th>\n",
       "      <td>0.02</td>\n",
       "      <td>December</td>\n",
       "      <td>33kV</td>\n",
       "      <td>24039</td>\n",
       "      <td>196450.0</td>\n",
       "      <td>A1</td>\n",
       "      <td>1</td>\n",
       "      <td>12</td>\n",
       "      <td>3</td>\n",
       "    </tr>\n",
       "    <tr>\n",
       "      <th>5382</th>\n",
       "      <td>0.02</td>\n",
       "      <td>December</td>\n",
       "      <td>33kV</td>\n",
       "      <td>24039</td>\n",
       "      <td>196450.0</td>\n",
       "      <td>A1</td>\n",
       "      <td>1</td>\n",
       "      <td>12</td>\n",
       "      <td>3</td>\n",
       "    </tr>\n",
       "    <tr>\n",
       "      <th>5383</th>\n",
       "      <td>0.02</td>\n",
       "      <td>December</td>\n",
       "      <td>33kV</td>\n",
       "      <td>24039</td>\n",
       "      <td>196450.0</td>\n",
       "      <td>A1</td>\n",
       "      <td>1</td>\n",
       "      <td>12</td>\n",
       "      <td>3</td>\n",
       "    </tr>\n",
       "  </tbody>\n",
       "</table>\n",
       "<p>5376 rows × 9 columns</p>\n",
       "</div>"
      ],
      "text/plain": [
       "      Delay_Hours     Month System Voltage  Consumer_Effected  \\\n",
       "0            0.10   January           33kV               9555   \n",
       "1            0.42   January             LV                282   \n",
       "2            0.50   January           11kV                291   \n",
       "3            0.08   January           11kV               4192   \n",
       "4            0.15   January           11kV                755   \n",
       "...           ...       ...            ...                ...   \n",
       "5379         0.02  December           33kV              12368   \n",
       "5380         0.02  December           33kV              12368   \n",
       "5381         0.02  December           33kV              24039   \n",
       "5382         0.02  December           33kV              24039   \n",
       "5383         0.02  December           33kV              24039   \n",
       "\n",
       "      System_Load (kW) Failure_Code Location  Month_Number  System_Voltage  \n",
       "0              23290.0           A1        1             1               3  \n",
       "1                 98.0           D1        2             1               1  \n",
       "2                104.0           C1        3             1               2  \n",
       "3              13025.0           C1        2             1               2  \n",
       "4                807.0           C1        4             1               2  \n",
       "...                ...          ...      ...           ...             ...  \n",
       "5379          180250.0           A1        1            12               3  \n",
       "5380          180250.0           A1        1            12               3  \n",
       "5381          196450.0           A1        1            12               3  \n",
       "5382          196450.0           A1        1            12               3  \n",
       "5383          196450.0           A1        1            12               3  \n",
       "\n",
       "[5376 rows x 9 columns]"
      ]
     },
     "execution_count": 95,
     "metadata": {},
     "output_type": "execute_result"
    }
   ],
   "source": [
    "ml_csv"
   ]
  },
  {
   "cell_type": "code",
   "execution_count": 137,
   "metadata": {},
   "outputs": [],
   "source": [
    "X = ml_csv[[\"Month_Number\", \"Location\", \"System_Voltage\",]]\n",
    "y = ml_csv[\"Delay_Hours\"]\n",
    "\n",
    "X_train, X_test, y_train, y_test = train_test_split(X, y, test_size=0.3, random_state=123)"
   ]
  },
  {
   "cell_type": "code",
   "execution_count": 138,
   "metadata": {},
   "outputs": [],
   "source": [
    "pls2 = PLSRegression(n_components=2)\n",
    "\n",
    "pls2.fit(X, y)\n",
    "\n",
    "PLSRegression()\n",
    "\n",
    "Y_pred = pls2.predict(X)"
   ]
  },
  {
   "cell_type": "code",
   "execution_count": 139,
   "metadata": {},
   "outputs": [
    {
     "data": {
      "text/plain": [
       "1.6771970284979383"
      ]
     },
     "execution_count": 139,
     "metadata": {},
     "output_type": "execute_result"
    }
   ],
   "source": [
    "rmse = math.sqrt(mean_squared_error(y, Y_pred))\n",
    "rmse"
   ]
  },
  {
   "cell_type": "code",
   "execution_count": 112,
   "metadata": {},
   "outputs": [
    {
     "ename": "ValueError",
     "evalue": "Unknown label type: (array([2.000e-02, 3.000e-02, 5.000e-02, 7.000e-02, 8.000e-02, 1.000e-01,\n       1.200e-01, 1.300e-01, 1.500e-01, 1.700e-01, 1.800e-01, 2.000e-01,\n       2.200e-01, 2.300e-01, 2.500e-01, 2.700e-01, 2.800e-01, 3.000e-01,\n       3.200e-01, 3.300e-01, 3.500e-01, 3.700e-01, 3.800e-01, 4.000e-01,\n       4.200e-01, 4.300e-01, 4.500e-01, 4.700e-01, 4.800e-01, 5.000e-01,\n       5.200e-01, 5.300e-01, 5.500e-01, 5.700e-01, 5.800e-01, 6.000e-01,\n       6.200e-01, 6.300e-01, 6.500e-01, 6.700e-01, 6.800e-01, 7.000e-01,\n       7.200e-01, 7.300e-01, 7.500e-01, 7.700e-01, 7.800e-01, 8.000e-01,\n       8.200e-01, 8.300e-01, 8.500e-01, 8.700e-01, 8.800e-01, 9.000e-01,\n       9.200e-01, 9.300e-01, 9.500e-01, 9.700e-01, 9.800e-01, 1.000e+00,\n       1.020e+00, 1.030e+00, 1.050e+00, 1.070e+00, 1.080e+00, 1.100e+00,\n       1.120e+00, 1.130e+00, 1.150e+00, 1.170e+00, 1.180e+00, 1.200e+00,\n       1.220e+00, 1.230e+00, 1.250e+00, 1.270e+00, 1.280e+00, 1.320e+00,\n       1.330e+00, 1.350e+00, 1.370e+00, 1.380e+00, 1.400e+00, 1.420e+00,\n       1.430e+00, 1.450e+00, 1.470e+00, 1.480e+00, 1.500e+00, 1.520e+00,\n       1.550e+00, 1.570e+00, 1.580e+00, 1.600e+00, 1.620e+00, 1.650e+00,\n       1.670e+00, 1.700e+00, 1.720e+00, 1.730e+00, 1.770e+00, 1.800e+00,\n       1.820e+00, 1.830e+00, 1.850e+00, 1.880e+00, 1.900e+00, 1.920e+00,\n       1.930e+00, 1.970e+00, 1.980e+00, 2.000e+00, 2.030e+00, 2.050e+00,\n       2.080e+00, 2.130e+00, 2.150e+00, 2.170e+00, 2.200e+00, 2.220e+00,\n       2.230e+00, 2.250e+00, 2.280e+00, 2.300e+00, 2.330e+00, 2.380e+00,\n       2.400e+00, 2.420e+00, 2.430e+00, 2.450e+00, 2.470e+00, 2.480e+00,\n       2.500e+00, 2.530e+00, 2.550e+00, 2.580e+00, 2.650e+00, 2.670e+00,\n       2.750e+00, 2.770e+00, 2.830e+00, 2.870e+00, 2.900e+00, 2.920e+00,\n       2.950e+00, 2.970e+00, 2.980e+00, 3.000e+00, 3.020e+00, 3.050e+00,\n       3.080e+00, 3.120e+00, 3.170e+00, 3.220e+00, 3.230e+00, 3.270e+00,\n       3.280e+00, 3.300e+00, 3.320e+00, 3.420e+00, 3.470e+00, 3.500e+00,\n       3.580e+00, 3.620e+00, 3.750e+00, 3.830e+00, 3.870e+00, 3.920e+00,\n       4.050e+00, 4.070e+00, 4.120e+00, 4.130e+00, 4.170e+00, 4.250e+00,\n       4.370e+00, 4.400e+00, 4.420e+00, 4.500e+00, 4.670e+00, 4.750e+00,\n       4.770e+00, 4.830e+00, 4.870e+00, 4.920e+00, 5.000e+00, 5.080e+00,\n       5.100e+00, 5.180e+00, 5.320e+00, 5.350e+00, 5.570e+00, 5.650e+00,\n       5.720e+00, 5.730e+00, 5.820e+00, 5.880e+00, 6.100e+00, 6.150e+00,\n       6.170e+00, 6.480e+00, 6.500e+00, 6.730e+00, 6.830e+00, 6.950e+00,\n       7.000e+00, 7.400e+00, 7.430e+00, 7.550e+00, 7.850e+00, 7.920e+00,\n       8.180e+00, 8.230e+00, 8.500e+00, 8.700e+00, 8.730e+00, 8.930e+00,\n       9.770e+00, 1.018e+01, 1.050e+01, 1.058e+01, 1.150e+01, 1.158e+01,\n       1.167e+01, 1.200e+01, 1.237e+01, 1.238e+01, 1.272e+01, 1.275e+01,\n       1.308e+01, 1.327e+01, 1.425e+01, 1.492e+01, 1.570e+01, 1.627e+01,\n       1.728e+01, 1.773e+01, 1.800e+01, 1.805e+01, 1.828e+01, 1.848e+01,\n       2.327e+01, 2.398e+01]),)",
     "output_type": "error",
     "traceback": [
      "\u001b[1;31m---------------------------------------------------------------------------\u001b[0m",
      "\u001b[1;31mValueError\u001b[0m                                Traceback (most recent call last)",
      "Cell \u001b[1;32mIn[112], line 2\u001b[0m\n\u001b[0;32m      1\u001b[0m gnb \u001b[38;5;241m=\u001b[39m GaussianNB()\n\u001b[1;32m----> 2\u001b[0m y_pred \u001b[38;5;241m=\u001b[39m \u001b[43mgnb\u001b[49m\u001b[38;5;241;43m.\u001b[39;49m\u001b[43mfit\u001b[49m\u001b[43m(\u001b[49m\u001b[43mX_train\u001b[49m\u001b[43m,\u001b[49m\u001b[43m \u001b[49m\u001b[43my_train\u001b[49m\u001b[43m)\u001b[49m\u001b[38;5;241m.\u001b[39mpredict(X_test)\n",
      "File \u001b[1;32m~\\AppData\\Roaming\\Python\\Python312\\site-packages\\sklearn\\base.py:1389\u001b[0m, in \u001b[0;36m_fit_context.<locals>.decorator.<locals>.wrapper\u001b[1;34m(estimator, *args, **kwargs)\u001b[0m\n\u001b[0;32m   1382\u001b[0m     estimator\u001b[38;5;241m.\u001b[39m_validate_params()\n\u001b[0;32m   1384\u001b[0m \u001b[38;5;28;01mwith\u001b[39;00m config_context(\n\u001b[0;32m   1385\u001b[0m     skip_parameter_validation\u001b[38;5;241m=\u001b[39m(\n\u001b[0;32m   1386\u001b[0m         prefer_skip_nested_validation \u001b[38;5;129;01mor\u001b[39;00m global_skip_validation\n\u001b[0;32m   1387\u001b[0m     )\n\u001b[0;32m   1388\u001b[0m ):\n\u001b[1;32m-> 1389\u001b[0m     \u001b[38;5;28;01mreturn\u001b[39;00m \u001b[43mfit_method\u001b[49m\u001b[43m(\u001b[49m\u001b[43mestimator\u001b[49m\u001b[43m,\u001b[49m\u001b[43m \u001b[49m\u001b[38;5;241;43m*\u001b[39;49m\u001b[43margs\u001b[49m\u001b[43m,\u001b[49m\u001b[43m \u001b[49m\u001b[38;5;241;43m*\u001b[39;49m\u001b[38;5;241;43m*\u001b[39;49m\u001b[43mkwargs\u001b[49m\u001b[43m)\u001b[49m\n",
      "File \u001b[1;32m~\\AppData\\Roaming\\Python\\Python312\\site-packages\\sklearn\\naive_bayes.py:266\u001b[0m, in \u001b[0;36mGaussianNB.fit\u001b[1;34m(self, X, y, sample_weight)\u001b[0m\n\u001b[0;32m    243\u001b[0m \u001b[38;5;250m\u001b[39m\u001b[38;5;124;03m\"\"\"Fit Gaussian Naive Bayes according to X, y.\u001b[39;00m\n\u001b[0;32m    244\u001b[0m \n\u001b[0;32m    245\u001b[0m \u001b[38;5;124;03mParameters\u001b[39;00m\n\u001b[1;32m   (...)\u001b[0m\n\u001b[0;32m    263\u001b[0m \u001b[38;5;124;03m    Returns the instance itself.\u001b[39;00m\n\u001b[0;32m    264\u001b[0m \u001b[38;5;124;03m\"\"\"\u001b[39;00m\n\u001b[0;32m    265\u001b[0m y \u001b[38;5;241m=\u001b[39m validate_data(\u001b[38;5;28mself\u001b[39m, y\u001b[38;5;241m=\u001b[39my)\n\u001b[1;32m--> 266\u001b[0m \u001b[38;5;28;01mreturn\u001b[39;00m \u001b[38;5;28;43mself\u001b[39;49m\u001b[38;5;241;43m.\u001b[39;49m\u001b[43m_partial_fit\u001b[49m\u001b[43m(\u001b[49m\n\u001b[0;32m    267\u001b[0m \u001b[43m    \u001b[49m\u001b[43mX\u001b[49m\u001b[43m,\u001b[49m\u001b[43m \u001b[49m\u001b[43my\u001b[49m\u001b[43m,\u001b[49m\u001b[43m \u001b[49m\u001b[43mnp\u001b[49m\u001b[38;5;241;43m.\u001b[39;49m\u001b[43munique\u001b[49m\u001b[43m(\u001b[49m\u001b[43my\u001b[49m\u001b[43m)\u001b[49m\u001b[43m,\u001b[49m\u001b[43m \u001b[49m\u001b[43m_refit\u001b[49m\u001b[38;5;241;43m=\u001b[39;49m\u001b[38;5;28;43;01mTrue\u001b[39;49;00m\u001b[43m,\u001b[49m\u001b[43m \u001b[49m\u001b[43msample_weight\u001b[49m\u001b[38;5;241;43m=\u001b[39;49m\u001b[43msample_weight\u001b[49m\n\u001b[0;32m    268\u001b[0m \u001b[43m\u001b[49m\u001b[43m)\u001b[49m\n",
      "File \u001b[1;32m~\\AppData\\Roaming\\Python\\Python312\\site-packages\\sklearn\\naive_bayes.py:425\u001b[0m, in \u001b[0;36mGaussianNB._partial_fit\u001b[1;34m(self, X, y, classes, _refit, sample_weight)\u001b[0m\n\u001b[0;32m    422\u001b[0m \u001b[38;5;28;01mif\u001b[39;00m _refit:\n\u001b[0;32m    423\u001b[0m     \u001b[38;5;28mself\u001b[39m\u001b[38;5;241m.\u001b[39mclasses_ \u001b[38;5;241m=\u001b[39m \u001b[38;5;28;01mNone\u001b[39;00m\n\u001b[1;32m--> 425\u001b[0m first_call \u001b[38;5;241m=\u001b[39m \u001b[43m_check_partial_fit_first_call\u001b[49m\u001b[43m(\u001b[49m\u001b[38;5;28;43mself\u001b[39;49m\u001b[43m,\u001b[49m\u001b[43m \u001b[49m\u001b[43mclasses\u001b[49m\u001b[43m)\u001b[49m\n\u001b[0;32m    426\u001b[0m X, y \u001b[38;5;241m=\u001b[39m validate_data(\u001b[38;5;28mself\u001b[39m, X, y, reset\u001b[38;5;241m=\u001b[39mfirst_call)\n\u001b[0;32m    427\u001b[0m \u001b[38;5;28;01mif\u001b[39;00m sample_weight \u001b[38;5;129;01mis\u001b[39;00m \u001b[38;5;129;01mnot\u001b[39;00m \u001b[38;5;28;01mNone\u001b[39;00m:\n",
      "File \u001b[1;32m~\\AppData\\Roaming\\Python\\Python312\\site-packages\\sklearn\\utils\\multiclass.py:457\u001b[0m, in \u001b[0;36m_check_partial_fit_first_call\u001b[1;34m(clf, classes)\u001b[0m\n\u001b[0;32m    450\u001b[0m             \u001b[38;5;28;01mraise\u001b[39;00m \u001b[38;5;167;01mValueError\u001b[39;00m(\n\u001b[0;32m    451\u001b[0m                 \u001b[38;5;124m\"\u001b[39m\u001b[38;5;124m`classes=\u001b[39m\u001b[38;5;132;01m%r\u001b[39;00m\u001b[38;5;124m` is not the same as on last call \u001b[39m\u001b[38;5;124m\"\u001b[39m\n\u001b[0;32m    452\u001b[0m                 \u001b[38;5;124m\"\u001b[39m\u001b[38;5;124mto partial_fit, was: \u001b[39m\u001b[38;5;132;01m%r\u001b[39;00m\u001b[38;5;124m\"\u001b[39m \u001b[38;5;241m%\u001b[39m (classes, clf\u001b[38;5;241m.\u001b[39mclasses_)\n\u001b[0;32m    453\u001b[0m             )\n\u001b[0;32m    455\u001b[0m     \u001b[38;5;28;01melse\u001b[39;00m:\n\u001b[0;32m    456\u001b[0m         \u001b[38;5;66;03m# This is the first call to partial_fit\u001b[39;00m\n\u001b[1;32m--> 457\u001b[0m         clf\u001b[38;5;241m.\u001b[39mclasses_ \u001b[38;5;241m=\u001b[39m \u001b[43munique_labels\u001b[49m\u001b[43m(\u001b[49m\u001b[43mclasses\u001b[49m\u001b[43m)\u001b[49m\n\u001b[0;32m    458\u001b[0m         \u001b[38;5;28;01mreturn\u001b[39;00m \u001b[38;5;28;01mTrue\u001b[39;00m\n\u001b[0;32m    460\u001b[0m \u001b[38;5;66;03m# classes is None and clf.classes_ has already previously been set:\u001b[39;00m\n\u001b[0;32m    461\u001b[0m \u001b[38;5;66;03m# nothing to do\u001b[39;00m\n",
      "File \u001b[1;32m~\\AppData\\Roaming\\Python\\Python312\\site-packages\\sklearn\\utils\\multiclass.py:105\u001b[0m, in \u001b[0;36munique_labels\u001b[1;34m(*ys)\u001b[0m\n\u001b[0;32m    103\u001b[0m _unique_labels \u001b[38;5;241m=\u001b[39m _FN_UNIQUE_LABELS\u001b[38;5;241m.\u001b[39mget(label_type, \u001b[38;5;28;01mNone\u001b[39;00m)\n\u001b[0;32m    104\u001b[0m \u001b[38;5;28;01mif\u001b[39;00m \u001b[38;5;129;01mnot\u001b[39;00m _unique_labels:\n\u001b[1;32m--> 105\u001b[0m     \u001b[38;5;28;01mraise\u001b[39;00m \u001b[38;5;167;01mValueError\u001b[39;00m(\u001b[38;5;124m\"\u001b[39m\u001b[38;5;124mUnknown label type: \u001b[39m\u001b[38;5;132;01m%s\u001b[39;00m\u001b[38;5;124m\"\u001b[39m \u001b[38;5;241m%\u001b[39m \u001b[38;5;28mrepr\u001b[39m(ys))\n\u001b[0;32m    107\u001b[0m \u001b[38;5;28;01mif\u001b[39;00m is_array_api_compliant:\n\u001b[0;32m    108\u001b[0m     \u001b[38;5;66;03m# array_api does not allow for mixed dtypes\u001b[39;00m\n\u001b[0;32m    109\u001b[0m     unique_ys \u001b[38;5;241m=\u001b[39m xp\u001b[38;5;241m.\u001b[39mconcat([_unique_labels(y, xp\u001b[38;5;241m=\u001b[39mxp) \u001b[38;5;28;01mfor\u001b[39;00m y \u001b[38;5;129;01min\u001b[39;00m ys])\n",
      "\u001b[1;31mValueError\u001b[0m: Unknown label type: (array([2.000e-02, 3.000e-02, 5.000e-02, 7.000e-02, 8.000e-02, 1.000e-01,\n       1.200e-01, 1.300e-01, 1.500e-01, 1.700e-01, 1.800e-01, 2.000e-01,\n       2.200e-01, 2.300e-01, 2.500e-01, 2.700e-01, 2.800e-01, 3.000e-01,\n       3.200e-01, 3.300e-01, 3.500e-01, 3.700e-01, 3.800e-01, 4.000e-01,\n       4.200e-01, 4.300e-01, 4.500e-01, 4.700e-01, 4.800e-01, 5.000e-01,\n       5.200e-01, 5.300e-01, 5.500e-01, 5.700e-01, 5.800e-01, 6.000e-01,\n       6.200e-01, 6.300e-01, 6.500e-01, 6.700e-01, 6.800e-01, 7.000e-01,\n       7.200e-01, 7.300e-01, 7.500e-01, 7.700e-01, 7.800e-01, 8.000e-01,\n       8.200e-01, 8.300e-01, 8.500e-01, 8.700e-01, 8.800e-01, 9.000e-01,\n       9.200e-01, 9.300e-01, 9.500e-01, 9.700e-01, 9.800e-01, 1.000e+00,\n       1.020e+00, 1.030e+00, 1.050e+00, 1.070e+00, 1.080e+00, 1.100e+00,\n       1.120e+00, 1.130e+00, 1.150e+00, 1.170e+00, 1.180e+00, 1.200e+00,\n       1.220e+00, 1.230e+00, 1.250e+00, 1.270e+00, 1.280e+00, 1.320e+00,\n       1.330e+00, 1.350e+00, 1.370e+00, 1.380e+00, 1.400e+00, 1.420e+00,\n       1.430e+00, 1.450e+00, 1.470e+00, 1.480e+00, 1.500e+00, 1.520e+00,\n       1.550e+00, 1.570e+00, 1.580e+00, 1.600e+00, 1.620e+00, 1.650e+00,\n       1.670e+00, 1.700e+00, 1.720e+00, 1.730e+00, 1.770e+00, 1.800e+00,\n       1.820e+00, 1.830e+00, 1.850e+00, 1.880e+00, 1.900e+00, 1.920e+00,\n       1.930e+00, 1.970e+00, 1.980e+00, 2.000e+00, 2.030e+00, 2.050e+00,\n       2.080e+00, 2.130e+00, 2.150e+00, 2.170e+00, 2.200e+00, 2.220e+00,\n       2.230e+00, 2.250e+00, 2.280e+00, 2.300e+00, 2.330e+00, 2.380e+00,\n       2.400e+00, 2.420e+00, 2.430e+00, 2.450e+00, 2.470e+00, 2.480e+00,\n       2.500e+00, 2.530e+00, 2.550e+00, 2.580e+00, 2.650e+00, 2.670e+00,\n       2.750e+00, 2.770e+00, 2.830e+00, 2.870e+00, 2.900e+00, 2.920e+00,\n       2.950e+00, 2.970e+00, 2.980e+00, 3.000e+00, 3.020e+00, 3.050e+00,\n       3.080e+00, 3.120e+00, 3.170e+00, 3.220e+00, 3.230e+00, 3.270e+00,\n       3.280e+00, 3.300e+00, 3.320e+00, 3.420e+00, 3.470e+00, 3.500e+00,\n       3.580e+00, 3.620e+00, 3.750e+00, 3.830e+00, 3.870e+00, 3.920e+00,\n       4.050e+00, 4.070e+00, 4.120e+00, 4.130e+00, 4.170e+00, 4.250e+00,\n       4.370e+00, 4.400e+00, 4.420e+00, 4.500e+00, 4.670e+00, 4.750e+00,\n       4.770e+00, 4.830e+00, 4.870e+00, 4.920e+00, 5.000e+00, 5.080e+00,\n       5.100e+00, 5.180e+00, 5.320e+00, 5.350e+00, 5.570e+00, 5.650e+00,\n       5.720e+00, 5.730e+00, 5.820e+00, 5.880e+00, 6.100e+00, 6.150e+00,\n       6.170e+00, 6.480e+00, 6.500e+00, 6.730e+00, 6.830e+00, 6.950e+00,\n       7.000e+00, 7.400e+00, 7.430e+00, 7.550e+00, 7.850e+00, 7.920e+00,\n       8.180e+00, 8.230e+00, 8.500e+00, 8.700e+00, 8.730e+00, 8.930e+00,\n       9.770e+00, 1.018e+01, 1.050e+01, 1.058e+01, 1.150e+01, 1.158e+01,\n       1.167e+01, 1.200e+01, 1.237e+01, 1.238e+01, 1.272e+01, 1.275e+01,\n       1.308e+01, 1.327e+01, 1.425e+01, 1.492e+01, 1.570e+01, 1.627e+01,\n       1.728e+01, 1.773e+01, 1.800e+01, 1.805e+01, 1.828e+01, 1.848e+01,\n       2.327e+01, 2.398e+01]),)"
     ]
    }
   ],
   "source": [
    "gnb = GaussianNB()\n",
    "y_pred = gnb.fit(X_train, y_train).predict(X_test)"
   ]
  },
  {
   "cell_type": "code",
   "execution_count": 114,
   "metadata": {},
   "outputs": [],
   "source": [
    "X = ml_csv[\"Month_Number\"]\n",
    "y = ml_csv[\"Delay_Hours\"]\n",
    "\n",
    "X_train, X_test, y_train, y_test = train_test_split(X, y, test_size=0.3, random_state=123)"
   ]
  },
  {
   "cell_type": "code",
   "execution_count": 136,
   "metadata": {},
   "outputs": [
    {
     "ename": "ValueError",
     "evalue": "Must have at least 1 validation dataset for early stopping.",
     "output_type": "error",
     "traceback": [
      "\u001b[1;31m---------------------------------------------------------------------------\u001b[0m",
      "\u001b[1;31mValueError\u001b[0m                                Traceback (most recent call last)",
      "Cell \u001b[1;32mIn[136], line 3\u001b[0m\n\u001b[0;32m      1\u001b[0m clf \u001b[38;5;241m=\u001b[39m xgb\u001b[38;5;241m.\u001b[39mXGBModel(tree_method\u001b[38;5;241m=\u001b[39m\u001b[38;5;124m\"\u001b[39m\u001b[38;5;124mhist\u001b[39m\u001b[38;5;124m\"\u001b[39m, seed \u001b[38;5;241m=\u001b[39m \u001b[38;5;241m123\u001b[39m, early_stopping_rounds\u001b[38;5;241m=\u001b[39m\u001b[38;5;241m2\u001b[39m)\n\u001b[1;32m----> 3\u001b[0m \u001b[43mclf\u001b[49m\u001b[38;5;241;43m.\u001b[39;49m\u001b[43mfit\u001b[49m\u001b[43m(\u001b[49m\u001b[43mX_train\u001b[49m\u001b[43m,\u001b[49m\u001b[43m \u001b[49m\u001b[43my_train\u001b[49m\u001b[43m)\u001b[49m\n",
      "File \u001b[1;32m~\\AppData\\Roaming\\Python\\Python312\\site-packages\\xgboost\\core.py:729\u001b[0m, in \u001b[0;36mrequire_keyword_args.<locals>.throw_if.<locals>.inner_f\u001b[1;34m(*args, **kwargs)\u001b[0m\n\u001b[0;32m    727\u001b[0m \u001b[38;5;28;01mfor\u001b[39;00m k, arg \u001b[38;5;129;01min\u001b[39;00m \u001b[38;5;28mzip\u001b[39m(sig\u001b[38;5;241m.\u001b[39mparameters, args):\n\u001b[0;32m    728\u001b[0m     kwargs[k] \u001b[38;5;241m=\u001b[39m arg\n\u001b[1;32m--> 729\u001b[0m \u001b[38;5;28;01mreturn\u001b[39;00m \u001b[43mfunc\u001b[49m\u001b[43m(\u001b[49m\u001b[38;5;241;43m*\u001b[39;49m\u001b[38;5;241;43m*\u001b[39;49m\u001b[43mkwargs\u001b[49m\u001b[43m)\u001b[49m\n",
      "File \u001b[1;32m~\\AppData\\Roaming\\Python\\Python312\\site-packages\\xgboost\\sklearn.py:1247\u001b[0m, in \u001b[0;36mXGBModel.fit\u001b[1;34m(self, X, y, sample_weight, base_margin, eval_set, verbose, xgb_model, sample_weight_eval_set, base_margin_eval_set, feature_weights)\u001b[0m\n\u001b[0;32m   1244\u001b[0m \u001b[38;5;28;01melse\u001b[39;00m:\n\u001b[0;32m   1245\u001b[0m     obj \u001b[38;5;241m=\u001b[39m \u001b[38;5;28;01mNone\u001b[39;00m\n\u001b[1;32m-> 1247\u001b[0m \u001b[38;5;28mself\u001b[39m\u001b[38;5;241m.\u001b[39m_Booster \u001b[38;5;241m=\u001b[39m \u001b[43mtrain\u001b[49m\u001b[43m(\u001b[49m\n\u001b[0;32m   1248\u001b[0m \u001b[43m    \u001b[49m\u001b[43mparams\u001b[49m\u001b[43m,\u001b[49m\n\u001b[0;32m   1249\u001b[0m \u001b[43m    \u001b[49m\u001b[43mtrain_dmatrix\u001b[49m\u001b[43m,\u001b[49m\n\u001b[0;32m   1250\u001b[0m \u001b[43m    \u001b[49m\u001b[38;5;28;43mself\u001b[39;49m\u001b[38;5;241;43m.\u001b[39;49m\u001b[43mget_num_boosting_rounds\u001b[49m\u001b[43m(\u001b[49m\u001b[43m)\u001b[49m\u001b[43m,\u001b[49m\n\u001b[0;32m   1251\u001b[0m \u001b[43m    \u001b[49m\u001b[43mevals\u001b[49m\u001b[38;5;241;43m=\u001b[39;49m\u001b[43mevals\u001b[49m\u001b[43m,\u001b[49m\n\u001b[0;32m   1252\u001b[0m \u001b[43m    \u001b[49m\u001b[43mearly_stopping_rounds\u001b[49m\u001b[38;5;241;43m=\u001b[39;49m\u001b[38;5;28;43mself\u001b[39;49m\u001b[38;5;241;43m.\u001b[39;49m\u001b[43mearly_stopping_rounds\u001b[49m\u001b[43m,\u001b[49m\n\u001b[0;32m   1253\u001b[0m \u001b[43m    \u001b[49m\u001b[43mevals_result\u001b[49m\u001b[38;5;241;43m=\u001b[39;49m\u001b[43mevals_result\u001b[49m\u001b[43m,\u001b[49m\n\u001b[0;32m   1254\u001b[0m \u001b[43m    \u001b[49m\u001b[43mobj\u001b[49m\u001b[38;5;241;43m=\u001b[39;49m\u001b[43mobj\u001b[49m\u001b[43m,\u001b[49m\n\u001b[0;32m   1255\u001b[0m \u001b[43m    \u001b[49m\u001b[43mcustom_metric\u001b[49m\u001b[38;5;241;43m=\u001b[39;49m\u001b[43mmetric\u001b[49m\u001b[43m,\u001b[49m\n\u001b[0;32m   1256\u001b[0m \u001b[43m    \u001b[49m\u001b[43mverbose_eval\u001b[49m\u001b[38;5;241;43m=\u001b[39;49m\u001b[43mverbose\u001b[49m\u001b[43m,\u001b[49m\n\u001b[0;32m   1257\u001b[0m \u001b[43m    \u001b[49m\u001b[43mxgb_model\u001b[49m\u001b[38;5;241;43m=\u001b[39;49m\u001b[43mmodel\u001b[49m\u001b[43m,\u001b[49m\n\u001b[0;32m   1258\u001b[0m \u001b[43m    \u001b[49m\u001b[43mcallbacks\u001b[49m\u001b[38;5;241;43m=\u001b[39;49m\u001b[38;5;28;43mself\u001b[39;49m\u001b[38;5;241;43m.\u001b[39;49m\u001b[43mcallbacks\u001b[49m\u001b[43m,\u001b[49m\n\u001b[0;32m   1259\u001b[0m \u001b[43m\u001b[49m\u001b[43m)\u001b[49m\n\u001b[0;32m   1261\u001b[0m \u001b[38;5;28mself\u001b[39m\u001b[38;5;241m.\u001b[39m_set_evaluation_result(evals_result)\n\u001b[0;32m   1262\u001b[0m \u001b[38;5;28;01mreturn\u001b[39;00m \u001b[38;5;28mself\u001b[39m\n",
      "File \u001b[1;32m~\\AppData\\Roaming\\Python\\Python312\\site-packages\\xgboost\\core.py:729\u001b[0m, in \u001b[0;36mrequire_keyword_args.<locals>.throw_if.<locals>.inner_f\u001b[1;34m(*args, **kwargs)\u001b[0m\n\u001b[0;32m    727\u001b[0m \u001b[38;5;28;01mfor\u001b[39;00m k, arg \u001b[38;5;129;01min\u001b[39;00m \u001b[38;5;28mzip\u001b[39m(sig\u001b[38;5;241m.\u001b[39mparameters, args):\n\u001b[0;32m    728\u001b[0m     kwargs[k] \u001b[38;5;241m=\u001b[39m arg\n\u001b[1;32m--> 729\u001b[0m \u001b[38;5;28;01mreturn\u001b[39;00m \u001b[43mfunc\u001b[49m\u001b[43m(\u001b[49m\u001b[38;5;241;43m*\u001b[39;49m\u001b[38;5;241;43m*\u001b[39;49m\u001b[43mkwargs\u001b[49m\u001b[43m)\u001b[49m\n",
      "File \u001b[1;32m~\\AppData\\Roaming\\Python\\Python312\\site-packages\\xgboost\\training.py:184\u001b[0m, in \u001b[0;36mtrain\u001b[1;34m(params, dtrain, num_boost_round, evals, obj, maximize, early_stopping_rounds, evals_result, verbose_eval, xgb_model, callbacks, custom_metric)\u001b[0m\n\u001b[0;32m    182\u001b[0m         \u001b[38;5;28;01mbreak\u001b[39;00m\n\u001b[0;32m    183\u001b[0m     bst\u001b[38;5;241m.\u001b[39mupdate(dtrain, iteration\u001b[38;5;241m=\u001b[39mi, fobj\u001b[38;5;241m=\u001b[39mobj)\n\u001b[1;32m--> 184\u001b[0m     \u001b[38;5;28;01mif\u001b[39;00m \u001b[43mcb_container\u001b[49m\u001b[38;5;241;43m.\u001b[39;49m\u001b[43mafter_iteration\u001b[49m\u001b[43m(\u001b[49m\u001b[43mbst\u001b[49m\u001b[43m,\u001b[49m\u001b[43m \u001b[49m\u001b[43mi\u001b[49m\u001b[43m,\u001b[49m\u001b[43m \u001b[49m\u001b[43mdtrain\u001b[49m\u001b[43m,\u001b[49m\u001b[43m \u001b[49m\u001b[43mevals\u001b[49m\u001b[43m)\u001b[49m:\n\u001b[0;32m    185\u001b[0m         \u001b[38;5;28;01mbreak\u001b[39;00m\n\u001b[0;32m    187\u001b[0m bst \u001b[38;5;241m=\u001b[39m cb_container\u001b[38;5;241m.\u001b[39mafter_training(bst)\n",
      "File \u001b[1;32m~\\AppData\\Roaming\\Python\\Python312\\site-packages\\xgboost\\callback.py:267\u001b[0m, in \u001b[0;36mCallbackContainer.after_iteration\u001b[1;34m(self, model, epoch, dtrain, evals)\u001b[0m\n\u001b[0;32m    265\u001b[0m     metric_score \u001b[38;5;241m=\u001b[39m _parse_eval_str(score)\n\u001b[0;32m    266\u001b[0m     \u001b[38;5;28mself\u001b[39m\u001b[38;5;241m.\u001b[39m_update_history(metric_score, epoch)\n\u001b[1;32m--> 267\u001b[0m ret \u001b[38;5;241m=\u001b[39m \u001b[38;5;28;43many\u001b[39;49m\u001b[43m(\u001b[49m\u001b[43mc\u001b[49m\u001b[38;5;241;43m.\u001b[39;49m\u001b[43mafter_iteration\u001b[49m\u001b[43m(\u001b[49m\u001b[43mmodel\u001b[49m\u001b[43m,\u001b[49m\u001b[43m \u001b[49m\u001b[43mepoch\u001b[49m\u001b[43m,\u001b[49m\u001b[43m \u001b[49m\u001b[38;5;28;43mself\u001b[39;49m\u001b[38;5;241;43m.\u001b[39;49m\u001b[43mhistory\u001b[49m\u001b[43m)\u001b[49m\u001b[43m \u001b[49m\u001b[38;5;28;43;01mfor\u001b[39;49;00m\u001b[43m \u001b[49m\u001b[43mc\u001b[49m\u001b[43m \u001b[49m\u001b[38;5;129;43;01min\u001b[39;49;00m\u001b[43m \u001b[49m\u001b[38;5;28;43mself\u001b[39;49m\u001b[38;5;241;43m.\u001b[39;49m\u001b[43mcallbacks\u001b[49m\u001b[43m)\u001b[49m\n\u001b[0;32m    268\u001b[0m \u001b[38;5;28;01mreturn\u001b[39;00m ret\n",
      "File \u001b[1;32m~\\AppData\\Roaming\\Python\\Python312\\site-packages\\xgboost\\callback.py:267\u001b[0m, in \u001b[0;36m<genexpr>\u001b[1;34m(.0)\u001b[0m\n\u001b[0;32m    265\u001b[0m     metric_score \u001b[38;5;241m=\u001b[39m _parse_eval_str(score)\n\u001b[0;32m    266\u001b[0m     \u001b[38;5;28mself\u001b[39m\u001b[38;5;241m.\u001b[39m_update_history(metric_score, epoch)\n\u001b[1;32m--> 267\u001b[0m ret \u001b[38;5;241m=\u001b[39m \u001b[38;5;28many\u001b[39m(\u001b[43mc\u001b[49m\u001b[38;5;241;43m.\u001b[39;49m\u001b[43mafter_iteration\u001b[49m\u001b[43m(\u001b[49m\u001b[43mmodel\u001b[49m\u001b[43m,\u001b[49m\u001b[43m \u001b[49m\u001b[43mepoch\u001b[49m\u001b[43m,\u001b[49m\u001b[43m \u001b[49m\u001b[38;5;28;43mself\u001b[39;49m\u001b[38;5;241;43m.\u001b[39;49m\u001b[43mhistory\u001b[49m\u001b[43m)\u001b[49m \u001b[38;5;28;01mfor\u001b[39;00m c \u001b[38;5;129;01min\u001b[39;00m \u001b[38;5;28mself\u001b[39m\u001b[38;5;241m.\u001b[39mcallbacks)\n\u001b[0;32m    268\u001b[0m \u001b[38;5;28;01mreturn\u001b[39;00m ret\n",
      "File \u001b[1;32m~\\AppData\\Roaming\\Python\\Python312\\site-packages\\xgboost\\callback.py:463\u001b[0m, in \u001b[0;36mEarlyStopping.after_iteration\u001b[1;34m(self, model, epoch, evals_log)\u001b[0m\n\u001b[0;32m    461\u001b[0m msg \u001b[38;5;241m=\u001b[39m \u001b[38;5;124m\"\u001b[39m\u001b[38;5;124mMust have at least 1 validation dataset for early stopping.\u001b[39m\u001b[38;5;124m\"\u001b[39m\n\u001b[0;32m    462\u001b[0m \u001b[38;5;28;01mif\u001b[39;00m \u001b[38;5;28mlen\u001b[39m(evals_log\u001b[38;5;241m.\u001b[39mkeys()) \u001b[38;5;241m<\u001b[39m \u001b[38;5;241m1\u001b[39m:\n\u001b[1;32m--> 463\u001b[0m     \u001b[38;5;28;01mraise\u001b[39;00m \u001b[38;5;167;01mValueError\u001b[39;00m(msg)\n\u001b[0;32m    465\u001b[0m \u001b[38;5;66;03m# Get data name\u001b[39;00m\n\u001b[0;32m    466\u001b[0m \u001b[38;5;28;01mif\u001b[39;00m \u001b[38;5;28mself\u001b[39m\u001b[38;5;241m.\u001b[39mdata:\n",
      "\u001b[1;31mValueError\u001b[0m: Must have at least 1 validation dataset for early stopping."
     ]
    }
   ],
   "source": [
    "clf = xgb.XGBModel(tree_method=\"hist\", seed = 123, early_stopping_rounds=2)\n",
    "\n",
    "clf.fit(X_train, y_train)"
   ]
  }
 ],
 "metadata": {
  "kernelspec": {
   "display_name": "Python 3",
   "language": "python",
   "name": "python3"
  },
  "language_info": {
   "codemirror_mode": {
    "name": "ipython",
    "version": 3
   },
   "file_extension": ".py",
   "mimetype": "text/x-python",
   "name": "python",
   "nbconvert_exporter": "python",
   "pygments_lexer": "ipython3",
   "version": "3.12.6"
  }
 },
 "nbformat": 4,
 "nbformat_minor": 2
}

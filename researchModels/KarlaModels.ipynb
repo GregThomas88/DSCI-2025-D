{
 "cells": [
  {
   "cell_type": "markdown",
   "metadata": {},
   "source": [
    "Karla Jacobo  \n",
    "DSCI 8950  \n",
    "AI/ML Independent Study Report\n",
    "\n",
    "I am going to start off by importing any necessary packages for running the Isolation Forest and Catboost models. I will also be importing the small dataset I have selected for this assignment. The dataset I have selected is one I got from Kaggle here: https://www.kaggle.com/datasets/himelsarder/cinema-hall-ticket-sales-and-customer-behavior?resource=download.\n",
    "Because it has data regarding movie goer behavior, it is a good fit for anomaly detection."
   ]
  },
  {
   "cell_type": "code",
   "execution_count": 22,
   "metadata": {},
   "outputs": [
    {
     "name": "stdout",
     "output_type": "stream",
     "text": [
      "  Ticket_ID  Age  Ticket_Price Movie_Genre Seat_Type Number_of_Person  \\\n",
      "0     N4369   55         12.27      Comedy  Standard                7   \n",
      "1     B8091   35         19.02       Drama  Standard            Alone   \n",
      "2     V6341   55         22.52      Horror       VIP                3   \n",
      "\n",
      "  Purchase_Again  \n",
      "0             No  \n",
      "1            Yes  \n",
      "2             No  \n",
      "-----------------------------------\n",
      "MovieData table size: 1440 rows, 7 columns\n",
      "-----------------------------------\n",
      "There are 0/1440 rows missing data.\n"
     ]
    }
   ],
   "source": [
    "import pandas as pd\n",
    "from sklearn.ensemble import IsolationForest\n",
    "\n",
    "movieData = pd.read_csv('data/cinema_hall_ticket_sales.csv')\n",
    "\n",
    "print(f'{str(movieData.head(3))}')\n",
    "print('-----------------------------------')\n",
    "\n",
    "print(f'MovieData table size: {str(movieData.shape[0])} rows, {str(movieData.shape[1])} columns')\n",
    "\n",
    "print('-----------------------------------')\n",
    "\n",
    "null_data = movieData[movieData.isnull().any(axis=1)]\n",
    "print(f'There are {str(null_data.shape[0])}/{str(movieData.shape[0])} rows missing data.')"
   ]
  },
  {
   "cell_type": "markdown",
   "metadata": {},
   "source": [
    "In the block above, we can see the column headers in the table. We can also see the dimensions of the table.\n",
    "\n",
    "Now that we have the table imported and have verified there is no missing data, we can begin applying the Isolation Forest algorithm to the dataset."
   ]
  },
  {
   "cell_type": "code",
   "execution_count": null,
   "metadata": {},
   "outputs": [],
   "source": []
  }
 ],
 "metadata": {
  "kernelspec": {
   "display_name": ".venv",
   "language": "python",
   "name": "python3"
  },
  "language_info": {
   "codemirror_mode": {
    "name": "ipython",
    "version": 3
   },
   "file_extension": ".py",
   "mimetype": "text/x-python",
   "name": "python",
   "nbconvert_exporter": "python",
   "pygments_lexer": "ipython3",
   "version": "3.11.9"
  }
 },
 "nbformat": 4,
 "nbformat_minor": 2
}
